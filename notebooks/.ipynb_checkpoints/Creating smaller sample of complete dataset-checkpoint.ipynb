{
 "cells": [
  {
   "cell_type": "markdown",
   "metadata": {},
   "source": [
    "The goal of this notebook is to pick n random simulations from all the available chunks of compressed python dictionaries containing, to then combine these simulations into one dataset. This new dataset should be a good estimate on the representation of the distribution from the complete dataset.  \n",
    "\n",
    "Currently a random 10 % of each chunk is selected to be the sample from that chunk. This has the risk of not representing the complete distribution of the chunk well, 10 % is little... e.g. certain params might be missing (if there are more gas mixratios than ch4, co2, co, h2o)"
   ]
  },
  {
   "cell_type": "markdown",
   "metadata": {},
   "source": [
    "# Imports"
   ]
  },
  {
   "cell_type": "code",
   "execution_count": 1,
   "metadata": {},
   "outputs": [],
   "source": [
    "import numpy as np\n",
    "import glob\n",
    "\n",
    "from keijzer_exogan import *\n",
    "\n",
    "np.random.seed(23) # set random seed for reproducability"
   ]
  },
  {
   "cell_type": "code",
   "execution_count": null,
   "metadata": {},
   "outputs": [
    {
     "name": "stderr",
     "output_type": "stream",
     "text": [
      "  0%|                                                                                          | 0/100 [00:00<?, ?it/s]c:\\program files\\python36\\lib\\site-packages\\tqdm\\_monitor.py:89: TqdmSynchronisationWarning: Set changed size during iteration (see https://github.com/tqdm/tqdm/issues/481)\n",
      "  TqdmSynchronisationWarning)\n",
      " 10%|████████                                                                         | 10/100 [03:06<28:01, 18.69s/it]"
     ]
    }
   ],
   "source": [
    "\"\"\"\n",
    "Load all chunks, add a random 5 % of all samples per chunk to X\n",
    "\"\"\"\n",
    "dir_ = 'F:\\\\Jupyterlab\\\\DCGAN\\\\data\\\\Training data (python dictionaries)'\n",
    "paths = glob.glob(dir_+'\\\\chunck_*.pkgz')\n",
    "\n",
    "X = []\n",
    "for i in tqdm(range(len(paths))):\n",
    "    s = load(paths[i])\n",
    "    \n",
    "    X_complete = []\n",
    "    for j in s.keys():\n",
    "        X_complete.append(s[j])\n",
    "     \n",
    "    X_complete = np.array(X_complete)\n",
    "    np.random.shuffle(X_complete) # shuffle the samples\n",
    "    \n",
    "    split_index = int(len(X_complete)*0.01) # select the first 5 % of each chunk (due to RAM limitations on laptop)\n",
    "    X.append(X_complete[:split_index]) # add only first 5 % of each chunk to X\n",
    "    \n",
    "    # free memory\n",
    "    del s, X_complete, X"
   ]
  },
  {
   "cell_type": "code",
   "execution_count": null,
   "metadata": {},
   "outputs": [],
   "source": [
    "%%time\n",
    "X = np.array(X) "
   ]
  },
  {
   "cell_type": "code",
   "execution_count": null,
   "metadata": {},
   "outputs": [],
   "source": [
    "print('ready to save')"
   ]
  },
  {
   "cell_type": "code",
   "execution_count": null,
   "metadata": {},
   "outputs": [],
   "source": []
  }
 ],
 "metadata": {
  "kernelspec": {
   "display_name": "Python 3",
   "language": "python",
   "name": "python3"
  },
  "language_info": {
   "codemirror_mode": {
    "name": "ipython",
    "version": 3
   },
   "file_extension": ".py",
   "mimetype": "text/x-python",
   "name": "python",
   "nbconvert_exporter": "python",
   "pygments_lexer": "ipython3",
   "version": "3.6.7"
  }
 },
 "nbformat": 4,
 "nbformat_minor": 2
}
