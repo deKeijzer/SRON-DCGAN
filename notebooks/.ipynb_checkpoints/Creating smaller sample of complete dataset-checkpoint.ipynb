{
 "cells": [
  {
   "cell_type": "markdown",
   "metadata": {},
   "source": [
    "The goal of this notebook is to pick n random simulations from all the available chunks of compressed python dictionaries containing, to then combine these simulations into one dataset. This new dataset should be a good estimate on the representation of the distribution from the complete dataset."
   ]
  },
  {
   "cell_type": "markdown",
   "metadata": {},
   "source": [
    "# Imports"
   ]
  },
  {
   "cell_type": "code",
   "execution_count": 1,
   "metadata": {},
   "outputs": [],
   "source": [
    "import numpy as np\n",
    "import glob\n",
    "\n",
    "from keijzer_exogan import *\n",
    "\n",
    "np.random.seed(23) # set random seed for reproducability"
   ]
  },
  {
   "cell_type": "code",
   "execution_count": null,
   "metadata": {},
   "outputs": [
    {
     "name": "stderr",
     "output_type": "stream",
     "text": [
      "  0%|                                                                                          | 0/100 [00:00<?, ?it/s]c:\\program files\\python36\\lib\\site-packages\\tqdm\\_monitor.py:89: TqdmSynchronisationWarning: Set changed size during iteration (see https://github.com/tqdm/tqdm/issues/481)\n",
      "  TqdmSynchronisationWarning)\n",
      " 12%|█████████▋                                                                       | 12/100 [03:28<25:28, 17.37s/it]"
     ]
    }
   ],
   "source": [
    "\"\"\"\n",
    "Load all chunks, add 1000 random samples per chunk to X\n",
    "\"\"\"\n",
    "dir_ = 'F:\\\\Jupyterlab\\\\DCGAN\\\\data\\\\Training data (python dictionaries)'\n",
    "paths = glob.glob(dir_+'\\\\chunck_*.pkgz')\n",
    "\n",
    "X = []\n",
    "for i in tqdm(range(len(paths))):\n",
    "    s = load(paths[i])\n",
    "    \n",
    "    X_complete = []\n",
    "    for j in s.keys():\n",
    "        X_complete.append(s[j])\n",
    "     \n",
    "    X_complete = np.array(X_complete)\n",
    "    np.random.shuffle(X_complete) # shuffle the samples\n",
    "    \n",
    "    split_index = int(len(X_complete)*0.1) # select the first 10 % of each chunk\n",
    "    X.append(X_complete[:split_index]) # add only first 10 % of each chunk to X\n",
    "    del X_complete # free memory\n",
    "        \n",
    "X = np.array(X) "
   ]
  },
  {
   "cell_type": "code",
   "execution_count": null,
   "metadata": {},
   "outputs": [],
   "source": []
  }
 ],
 "metadata": {
  "kernelspec": {
   "display_name": "Python 3",
   "language": "python",
   "name": "python3"
  },
  "language_info": {
   "codemirror_mode": {
    "name": "ipython",
    "version": 3
   },
   "file_extension": ".py",
   "mimetype": "text/x-python",
   "name": "python",
   "nbconvert_exporter": "python",
   "pygments_lexer": "ipython3",
   "version": "3.6.7"
  }
 },
 "nbformat": 4,
 "nbformat_minor": 2
}
