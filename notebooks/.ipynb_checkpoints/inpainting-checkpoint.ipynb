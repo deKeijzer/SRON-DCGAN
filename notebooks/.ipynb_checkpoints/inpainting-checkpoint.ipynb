{
 "cells": [
  {
   "cell_type": "code",
   "execution_count": 17,
   "metadata": {},
   "outputs": [],
   "source": [
    "# Imports\n",
    "import random\n",
    "import sys\n",
    "import numpy as np\n",
    "import time\n",
    "import matplotlib.pyplot as plt\n",
    "import seaborn as sns\n",
    "\n",
    "import torch.nn as nn\n",
    "import torch.optim as optim\n",
    "import torchvision.utils as vutils\n",
    "import matplotlib.animation as animation\n",
    "from IPython.display import HTML\n",
    "\n",
    "import model\n",
    "from keijzer_exogan import *\n",
    "\n",
    "# initialize random seeds\n",
    "manualSeed = 999\n",
    "random.seed(manualSeed)\n",
    "torch.manual_seed(manualSeed)\n",
    "\n",
    "%matplotlib inline\n",
    "%config InlineBackend.print_figure_kwargs={'facecolor' : \"w\"} # Make sure the axis background of plots is white, this is usefull for the black theme in JupyterLab\n",
    "# Initialize default seaborn layout\n",
    "sns.set_palette(sns.hls_palette(8, l=.3, s=.8))\n",
    "sns.set(style='ticks')\n",
    "\n",
    "\n",
    "\"\"\"\n",
    "Local variables\n",
    "\"\"\"\n",
    "workers = 0 # Number of workers for dataloader, 0 when to_vram is enabled\n",
    "batch_size = 1 # using one image ofcourse\n",
    "image_size = 32\n",
    "nz = 100 # size of latent vector\n",
    "n_iters = 25*10**3 # number of iterations to do for inpainting\n",
    "torch.backends.cudnn.benchmark=True # Uses udnn auto-tuner to find the best algorithm to use for your hardware, speeds up training by almost 50%\n",
    "\n",
    "lr = 1e-2\n",
    "lamb1 = 1e2 #1e4\n",
    "lamb2 = 1 # 1 , total_loss = lamb1*loss_context + lamb2*loss_perceptual\n",
    "\n",
    "lr_G = 2e-4\n",
    "beta1 = 0.5 # Beta1 hyperparam for Adam optimizers\n",
    "selected_gpus = [3] # Number of GPUs available. Use 0 for CPU mode."
   ]
  },
  {
   "cell_type": "code",
   "execution_count": 2,
   "metadata": {},
   "outputs": [
    {
     "data": {
      "text/plain": [
       "25"
      ]
     },
     "execution_count": 2,
     "metadata": {},
     "output_type": "execute_result"
    }
   ],
   "source": [
    "path = '/datb/16011015/ExoGAN_data/selection//' #notice how you dont put the last folder in here...\n",
    "\n",
    "images = np.load(path+'last_chunks_25_percent_images.npy').astype('float32')\n",
    "images = images[:25] # select first ... images\n",
    "\n",
    "len(images)"
   ]
  },
  {
   "cell_type": "code",
   "execution_count": 3,
   "metadata": {},
   "outputs": [
    {
     "name": "stdout",
     "output_type": "stream",
     "text": [
      "Batch size:  1\n",
      "Number of GPUs used:  1\n",
      "Number of images:  25\n"
     ]
    }
   ],
   "source": [
    "print('Batch size: ', batch_size)\n",
    "\n",
    "\n",
    "# Number of training epochs\n",
    "\n",
    "# Learning rate for optimizers\n",
    "ngpu = len(selected_gpus)\n",
    "print('Number of GPUs used: ', ngpu)\n",
    "\n",
    "\n",
    "\"\"\"\n",
    "Load data and prepare DataLoader\n",
    "\"\"\"\n",
    "shuffle = True\n",
    "\n",
    "if shuffle:\n",
    "    np.random.shuffle(images) # shuffles the images\n",
    "\n",
    "images = images[:25] # 1200 should take ~ 1 hour\n",
    "#images = images[:int(len(images)*0.005)]\n",
    "print('Number of images: ', len(images))"
   ]
  },
  {
   "cell_type": "code",
   "execution_count": 4,
   "metadata": {},
   "outputs": [
    {
     "name": "stdout",
     "output_type": "stream",
     "text": [
      "Loading weights...\n",
      "done\n"
     ]
    }
   ],
   "source": [
    "dataset = numpy_dataset(data=images, to_vram=True) # to_vram pins it to all GPU's\n",
    "#dataset = numpy_dataset(data=images, to_vram=True, transform=transforms.Compose([transforms.Normalize((0.5, 0.5, 0.5), (0.5, 0.5, 0.5))])) # to_vram pins it to all GPU's\n",
    "\n",
    "# Create the dataloader\n",
    "dataloader = torch.utils.data.DataLoader(dataset, batch_size=batch_size,\n",
    "                                         shuffle=True, num_workers=workers, pin_memory=False)\n",
    "\n",
    "\"\"\"\n",
    "Load and setup models\n",
    "\"\"\"\n",
    "# Initialize cuda\n",
    "device = torch.device(\"cuda:\"+str(selected_gpus[0]) if (torch.cuda.is_available() and ngpu > 0) else \"cpu\")\n",
    "\n",
    "# Load models, set to evaluation mode since training is not needed (this also allows batchsize 1 to work with batchnorm2d layers)\n",
    "netG = model.Generator(ngpu).eval().to(device)\n",
    "netD = model.Discriminator(ngpu).eval().to(device)\n",
    "\n",
    "# Apply weights\n",
    "print('Loading weights...')\n",
    "try:\n",
    "    # Load saved weights\n",
    "    netG.load_state_dict(torch.load('gan_data//weights//netG_state_dict0_v2', map_location=device)) #net.module..load_... for parallel model , net.load_... for single gpu model\n",
    "    netD.load_state_dict(torch.load('gan_data//weights//netD_state_dict0_v2', map_location=device))\n",
    "except:\n",
    "    print('Could not load saved weights.')\n",
    "    sys.exit()\n",
    "\n",
    "\n",
    "\n",
    "\n",
    "\n",
    "\"\"\"\n",
    "Define input training stuff (fancy this up)\n",
    "\"\"\"\n",
    "G = netG\n",
    "D = netD\n",
    "z = torch.randn(1, nz, 1, 1, requires_grad=True, device=device)\n",
    "\n",
    "# Handle multi-gpu if desired\n",
    "if (device.type == 'cuda') and (ngpu > 1):\n",
    "    G = nn.DataParallel(G, device_ids=selected_gpus, output_device=device)\n",
    "    D = nn.DataParallel(D, device_ids=selected_gpus, output_device=device)\n",
    "    #z = nn.DataParallel(z, device_ids=selected_gpus, output_device=device)\n",
    "\n",
    "# Setup Adam optimizers for both G and D\n",
    "optimizerD = optim.Adam(netD.parameters(), lr=lr, betas=(beta1, 0.999)) # should be sgd\n",
    "optimizerG = optim.Adam(netG.parameters(), lr=lr_G, betas=(beta1, 0.999))\n",
    "\n",
    "print('done')"
   ]
  },
  {
   "cell_type": "markdown",
   "metadata": {},
   "source": [
    "# Show generated images"
   ]
  },
  {
   "cell_type": "code",
   "execution_count": 5,
   "metadata": {},
   "outputs": [
    {
     "data": {
      "image/png": "[encoded data removed]",
      "text/plain": [
       "<Figure size 720x720 with 9 Axes>"
      ]
     },
     "metadata": {
      "needs_background": "light"
     },
     "output_type": "display_data"
    }
   ],
   "source": [
    "from sklearn.preprocessing import MinMaxScaler\n",
    "\n",
    "z_tests = [torch.randn(1, nz, 1, 1, device=device) for _ in range(9)]\n",
    "\n",
    "plt.figure(figsize=(10,10))\n",
    "for i in range(9):\n",
    "    img = G(z_tests[i]).detach().cpu()[0, 0, :, :]\n",
    "    plt.subplot(3,3,i+1)\n",
    "    #scaler = MinMaxScaler((0, 1.2))\n",
    "    #img = scaler.fit_transform(img)\n",
    "    plt.imshow(img, cmap='gray', vmin=0, vmax=1.2)\n",
    "    #plt.imshow(img, cmap='gray')\n",
    "\n",
    "plt.tight_layout()"
   ]
  },
  {
   "cell_type": "code",
   "execution_count": 6,
   "metadata": {},
   "outputs": [
    {
     "data": {
      "text/plain": [
       "(tensor(-0.1249), tensor(1.2045), tensor(0.4553), tensor(0.2435))"
      ]
     },
     "execution_count": 6,
     "metadata": {},
     "output_type": "execute_result"
    }
   ],
   "source": [
    "img.min(), img.max(), img.mean(), img.std()"
   ]
  },
  {
   "cell_type": "markdown",
   "metadata": {},
   "source": [
    "## Make sure Z is different for each image"
   ]
  },
  {
   "cell_type": "code",
   "execution_count": 7,
   "metadata": {},
   "outputs": [
    {
     "data": {
      "image/png": "[encoded data removed]",
      "text/plain": [
       "<Figure size 720x720 with 9 Axes>"
      ]
     },
     "metadata": {
      "needs_background": "light"
     },
     "output_type": "display_data"
    }
   ],
   "source": [
    "plt.figure(figsize=(10,10))\n",
    "for i,z_t in enumerate(z_tests):\n",
    "    z_t = z_t.detach().cpu().numpy()\n",
    "    \n",
    "    plt.subplot(3,3,i+1)\n",
    "    \n",
    "    plt.hist(z_t.flatten())\n",
    "    plt.grid()\n",
    "    \n",
    "    plt.tight_layout()\n",
    "    #print(z_t[0].flatten())"
   ]
  },
  {
   "cell_type": "markdown",
   "metadata": {},
   "source": [
    "## Show first 9 selected images"
   ]
  },
  {
   "cell_type": "code",
   "execution_count": 8,
   "metadata": {},
   "outputs": [
    {
     "data": {
      "image/png": "[encoded data removed]",
      "text/plain": [
       "<Figure size 720x720 with 9 Axes>"
      ]
     },
     "metadata": {
      "needs_background": "light"
     },
     "output_type": "display_data"
    }
   ],
   "source": [
    "plt.figure(figsize=(10,10))\n",
    "for i in range(9):\n",
    "    try:\n",
    "        img = images[i]\n",
    "        plt.subplot(3,3,i+1)\n",
    "        plt.imshow(img[0, :, :], cmap='gray', vmin=0, vmax=1.2)\n",
    "    except:\n",
    "        pass\n",
    "\n",
    "plt.tight_layout()"
   ]
  },
  {
   "cell_type": "code",
   "execution_count": 9,
   "metadata": {},
   "outputs": [
    {
     "data": {
      "text/plain": [
       "(-1.1428571, 1.1428572, 0.3736028, 0.42365396)"
      ]
     },
     "execution_count": 9,
     "metadata": {},
     "output_type": "execute_result"
    }
   ],
   "source": [
    "img.min(), img.max(), img.mean(), img.std()"
   ]
  },
  {
   "cell_type": "markdown",
   "metadata": {},
   "source": [
    "# Visualizing the weights for debugging purposes"
   ]
  },
  {
   "cell_type": "code",
   "execution_count": 10,
   "metadata": {},
   "outputs": [
    {
     "name": "stdout",
     "output_type": "stream",
     "text": [
      "Layer: 0 \t n_weights: 512 \t std: 0.1040 \t mean: -0.0112\n",
      "Layer: 1 \t n_weights: 16384 \t std: 0.1731 \t mean: -0.0173\n",
      "Layer: 2 \t n_weights: 32768 \t std: 0.1781 \t mean: -0.0024\n",
      "Layer: 3 \t n_weights: 131072 \t std: 0.1810 \t mean: 0.0038\n",
      "Layer: 4 \t n_weights: 524288 \t std: 0.0753 \t mean: 0.0016\n",
      "Layer: 5 \t n_weights: 256 \t std: 0.1028 \t mean: -0.0313\n"
     ]
    },
    {
     "data": {
      "image/png": "[encoded data removed]",
      "text/plain": [
       "<Figure size 720x720 with 6 Axes>"
      ]
     },
     "metadata": {
      "needs_background": "light"
     },
     "output_type": "display_data"
    }
   ],
   "source": [
    "weights = [param.data.cpu().numpy().flatten() for param in netD.parameters()]\n",
    "\n",
    "plt.figure(figsize=(10,10))\n",
    "for i,layer_weights in enumerate(weights):\n",
    "    print('Layer: %s \\t n_weights: %s \\t std: %.4f \\t mean: %.4f' % (i, len(layer_weights), layer_weights.std(), layer_weights.mean()))\n",
    "    plt.subplot(3,2,i+1)\n",
    "    plt.title('netD layer %s weights' % i)\n",
    "    plt.hist(layer_weights, bins=100)\n",
    "    plt.grid()\n",
    "    plt.tight_layout()"
   ]
  },
  {
   "cell_type": "code",
   "execution_count": 11,
   "metadata": {},
   "outputs": [
    {
     "name": "stdout",
     "output_type": "stream",
     "text": [
      "Layer: 0 \t n_weights: 409600 \t std: 0.0646 \t mean: 0.0001\n",
      "Layer: 1 \t n_weights: 524288 \t std: 0.0718 \t mean: -0.0057\n",
      "Layer: 2 \t n_weights: 131072 \t std: 0.0786 \t mean: -0.0058\n",
      "Layer: 3 \t n_weights: 32768 \t std: 0.0694 \t mean: -0.0047\n",
      "Layer: 4 \t n_weights: 16384 \t std: 0.0617 \t mean: -0.0008\n",
      "Layer: 5 \t n_weights: 512 \t std: 0.0383 \t mean: 0.0032\n"
     ]
    },
    {
     "data": {
      "image/png": "[encoded data removed]",
      "text/plain": [
       "<Figure size 720x720 with 6 Axes>"
      ]
     },
     "metadata": {
      "needs_background": "light"
     },
     "output_type": "display_data"
    }
   ],
   "source": [
    "weights = [param.data.cpu().numpy().flatten() for param in netG.parameters()] # where param.data are the weights of the i-th layer\n",
    "\n",
    "plt.figure(figsize=(10,10))\n",
    "for i,layer_weights in enumerate(weights):\n",
    "    print('Layer: %s \\t n_weights: %s \\t std: %.4f \\t mean: %.4f' % (i, len(layer_weights), layer_weights.std(), layer_weights.mean()))\n",
    "    plt.subplot(3,2,i+1)\n",
    "    plt.title('netG layer %s weights' % i)\n",
    "    plt.hist(layer_weights, bins=100)\n",
    "    plt.grid()\n",
    "    plt.tight_layout()"
   ]
  },
  {
   "cell_type": "markdown",
   "metadata": {},
   "source": [
    "# Inpainting\n",
    "The corrupted image $y$ is mapped to the closest $z$ in the latent representation space, this mapping is denoted as $\\hat{z}$.\n",
    "    \n",
    "$\\hat{z} = \\operatorname{arg\\,min}_z \\{ \\mathcal{L}_c(z |y, M) + \\mathcal{L}_p (z) \\}$\n",
    "\n",
    "where\n",
    "\n",
    "$\\mathcal{L}_c(z |y, M) = || M \\bigodot G(z) - M \\bigodot y||_1 = || M \\bigodot (G(z)-y) ||_1 $\n",
    "\n",
    "with $\\mathcal{L}_c$ being contextual loss and $M$ being a binary mask with the same size as $y$,\n",
    "\n",
    "$\\mathcal{L}_p (z) = \\lambda \\operatorname{log}(1-D(G(z)))$\n",
    "\n",
    "with $\\mathcal{L}_p$ being perceptual loss and $D$ being the discriminator.\n",
    "  \n",
    "Once $G(\\hat{z})$ is generated, the final solution $\\hat{x}$ is calculated as\n",
    "\n",
    "$\\hat{x} = \\operatorname{arg\\, min}_x ||\\nabla x - \\nabla G(\\hat{z}) ||^2_2$  \n",
    "\n",
    "(substitute $x_i = y_i$ for $M_i = 1$).\n",
    "\n",
    "-----\n",
    "\n",
    "$|| ... ||$ is done by `torch.norm()`.  \n",
    "$... \\bigodot ...$ is done by `torch.mul()`.  \n",
    "-----\n",
    "TODO: Implement $\\hat{x} = \\operatorname{arg\\, min}_x ||\\nabla x - \\nabla G(\\hat{z}) ||^2_2$    \n",
    "Currently $\\hat{x} = G(\\hat{z}) \\bigodot (1 -M)+y$"
   ]
  },
  {
   "cell_type": "code",
   "execution_count": 12,
   "metadata": {},
   "outputs": [
    {
     "data": {
      "text/html": [
       "<div>\n",
       "<style scoped>\n",
       "    .dataframe tbody tr th:only-of-type {\n",
       "        vertical-align: middle;\n",
       "    }\n",
       "\n",
       "    .dataframe tbody tr th {\n",
       "        vertical-align: top;\n",
       "    }\n",
       "\n",
       "    .dataframe thead th {\n",
       "        text-align: right;\n",
       "    }\n",
       "</style>\n",
       "<table border=\"1\" class=\"dataframe\">\n",
       "  <thead>\n",
       "    <tr style=\"text-align: right;\">\n",
       "      <th></th>\n",
       "      <th>Unnamed: 0</th>\n",
       "      <th>x</th>\n",
       "    </tr>\n",
       "  </thead>\n",
       "  <tbody>\n",
       "    <tr>\n",
       "      <th>129</th>\n",
       "      <td>129</td>\n",
       "      <td>13.900046</td>\n",
       "    </tr>\n",
       "    <tr>\n",
       "      <th>130</th>\n",
       "      <td>130</td>\n",
       "      <td>13.762421</td>\n",
       "    </tr>\n",
       "    <tr>\n",
       "      <th>131</th>\n",
       "      <td>131</td>\n",
       "      <td>13.626160</td>\n",
       "    </tr>\n",
       "    <tr>\n",
       "      <th>132</th>\n",
       "      <td>132</td>\n",
       "      <td>13.491247</td>\n",
       "    </tr>\n",
       "    <tr>\n",
       "      <th>133</th>\n",
       "      <td>133</td>\n",
       "      <td>13.357671</td>\n",
       "    </tr>\n",
       "    <tr>\n",
       "      <th>134</th>\n",
       "      <td>134</td>\n",
       "      <td>13.225416</td>\n",
       "    </tr>\n",
       "    <tr>\n",
       "      <th>135</th>\n",
       "      <td>135</td>\n",
       "      <td>13.094472</td>\n",
       "    </tr>\n",
       "    <tr>\n",
       "      <th>136</th>\n",
       "      <td>136</td>\n",
       "      <td>12.964823</td>\n",
       "    </tr>\n",
       "    <tr>\n",
       "      <th>137</th>\n",
       "      <td>137</td>\n",
       "      <td>12.836459</td>\n",
       "    </tr>\n",
       "    <tr>\n",
       "      <th>138</th>\n",
       "      <td>138</td>\n",
       "      <td>12.709365</td>\n",
       "    </tr>\n",
       "    <tr>\n",
       "      <th>139</th>\n",
       "      <td>139</td>\n",
       "      <td>12.583530</td>\n",
       "    </tr>\n",
       "    <tr>\n",
       "      <th>140</th>\n",
       "      <td>140</td>\n",
       "      <td>12.458940</td>\n",
       "    </tr>\n",
       "    <tr>\n",
       "      <th>141</th>\n",
       "      <td>141</td>\n",
       "      <td>12.335585</td>\n",
       "    </tr>\n",
       "    <tr>\n",
       "      <th>142</th>\n",
       "      <td>142</td>\n",
       "      <td>12.213450</td>\n",
       "    </tr>\n",
       "    <tr>\n",
       "      <th>143</th>\n",
       "      <td>143</td>\n",
       "      <td>12.092525</td>\n",
       "    </tr>\n",
       "    <tr>\n",
       "      <th>144</th>\n",
       "      <td>144</td>\n",
       "      <td>11.972797</td>\n",
       "    </tr>\n",
       "    <tr>\n",
       "      <th>145</th>\n",
       "      <td>145</td>\n",
       "      <td>11.854254</td>\n",
       "    </tr>\n",
       "    <tr>\n",
       "      <th>146</th>\n",
       "      <td>146</td>\n",
       "      <td>11.736886</td>\n",
       "    </tr>\n",
       "    <tr>\n",
       "      <th>147</th>\n",
       "      <td>147</td>\n",
       "      <td>11.620679</td>\n",
       "    </tr>\n",
       "    <tr>\n",
       "      <th>148</th>\n",
       "      <td>148</td>\n",
       "      <td>11.505623</td>\n",
       "    </tr>\n",
       "    <tr>\n",
       "      <th>149</th>\n",
       "      <td>149</td>\n",
       "      <td>11.391705</td>\n",
       "    </tr>\n",
       "    <tr>\n",
       "      <th>150</th>\n",
       "      <td>150</td>\n",
       "      <td>11.278916</td>\n",
       "    </tr>\n",
       "    <tr>\n",
       "      <th>151</th>\n",
       "      <td>151</td>\n",
       "      <td>11.167244</td>\n",
       "    </tr>\n",
       "    <tr>\n",
       "      <th>152</th>\n",
       "      <td>152</td>\n",
       "      <td>11.056677</td>\n",
       "    </tr>\n",
       "    <tr>\n",
       "      <th>153</th>\n",
       "      <td>153</td>\n",
       "      <td>10.947205</td>\n",
       "    </tr>\n",
       "    <tr>\n",
       "      <th>154</th>\n",
       "      <td>154</td>\n",
       "      <td>10.838817</td>\n",
       "    </tr>\n",
       "    <tr>\n",
       "      <th>155</th>\n",
       "      <td>155</td>\n",
       "      <td>10.731502</td>\n",
       "    </tr>\n",
       "    <tr>\n",
       "      <th>156</th>\n",
       "      <td>156</td>\n",
       "      <td>10.625249</td>\n",
       "    </tr>\n",
       "    <tr>\n",
       "      <th>157</th>\n",
       "      <td>157</td>\n",
       "      <td>10.520049</td>\n",
       "    </tr>\n",
       "    <tr>\n",
       "      <th>158</th>\n",
       "      <td>158</td>\n",
       "      <td>10.415890</td>\n",
       "    </tr>\n",
       "    <tr>\n",
       "      <th>159</th>\n",
       "      <td>159</td>\n",
       "      <td>10.312762</td>\n",
       "    </tr>\n",
       "    <tr>\n",
       "      <th>160</th>\n",
       "      <td>160</td>\n",
       "      <td>10.210656</td>\n",
       "    </tr>\n",
       "    <tr>\n",
       "      <th>161</th>\n",
       "      <td>161</td>\n",
       "      <td>10.109560</td>\n",
       "    </tr>\n",
       "    <tr>\n",
       "      <th>162</th>\n",
       "      <td>162</td>\n",
       "      <td>10.009466</td>\n",
       "    </tr>\n",
       "  </tbody>\n",
       "</table>\n",
       "</div>"
      ],
      "text/plain": [
       "     Unnamed: 0          x\n",
       "129         129  13.900046\n",
       "130         130  13.762421\n",
       "131         131  13.626160\n",
       "132         132  13.491247\n",
       "133         133  13.357671\n",
       "134         134  13.225416\n",
       "135         135  13.094472\n",
       "136         136  12.964823\n",
       "137         137  12.836459\n",
       "138         138  12.709365\n",
       "139         139  12.583530\n",
       "140         140  12.458940\n",
       "141         141  12.335585\n",
       "142         142  12.213450\n",
       "143         143  12.092525\n",
       "144         144  11.972797\n",
       "145         145  11.854254\n",
       "146         146  11.736886\n",
       "147         147  11.620679\n",
       "148         148  11.505623\n",
       "149         149  11.391705\n",
       "150         150  11.278916\n",
       "151         151  11.167244\n",
       "152         152  11.056677\n",
       "153         153  10.947205\n",
       "154         154  10.838817\n",
       "155         155  10.731502\n",
       "156         156  10.625249\n",
       "157         157  10.520049\n",
       "158         158  10.415890\n",
       "159         159  10.312762\n",
       "160         160  10.210656\n",
       "161         161  10.109560\n",
       "162         162  10.009466"
      ]
     },
     "execution_count": 12,
     "metadata": {},
     "output_type": "execute_result"
    }
   ],
   "source": [
    "ind = pd.read_csv('wavelengths_and_indices.csv')  # where x is the wavelength\n",
    "\n",
    "ind[(ind.x > 10) & (ind.x <= 14)]"
   ]
  },
  {
   "cell_type": "code",
   "execution_count": 13,
   "metadata": {},
   "outputs": [],
   "source": [
    "def create_mask():\n",
    "    \n",
    "    mask = np.full([1,1,32,32], 1) # init array with 0.5's\n",
    "    mask = torch.from_numpy(mask).to(device)\n",
    "    \n",
    "    #mask = torch.ones([1, 1, 32, 32]).to(device) # create mask with 1's in the shape of image\n",
    "    \n",
    "    #print(\"mask.shape\", mask.shape)\n",
    "\n",
    "    # use a random 'easy' mask\n",
    "    mask[:, :, :16, 25:] = 0\n",
    "    \n",
    "    # The noise doesn't matter for conceptual loss\n",
    "    mask[:, :, 19:, :] = 0\n",
    "    \n",
    "    \"\"\"Weighted mask\"\"\"\n",
    "    \n",
    "    # Normalization factors\n",
    "    mask[:, :, 16:19, :] = 2\n",
    "    \n",
    "    mask = mask.float() # make sure dtype is float, torch was complaining during inpainting that this is a double\n",
    "    \n",
    "    return mask"
   ]
  },
  {
   "cell_type": "markdown",
   "metadata": {},
   "source": [
    "## Visualize the mask"
   ]
  },
  {
   "cell_type": "code",
   "execution_count": 14,
   "metadata": {},
   "outputs": [
    {
     "data": {
      "text/plain": [
       "<matplotlib.image.AxesImage at 0x7f33e40b6f98>"
      ]
     },
     "execution_count": 14,
     "metadata": {},
     "output_type": "execute_result"
    },
    {
     "data": {
      "image/png": "[encoded data removed]",
      "text/plain": [
       "<Figure size 432x288 with 1 Axes>"
      ]
     },
     "metadata": {
      "needs_background": "light"
     },
     "output_type": "display_data"
    }
   ],
   "source": [
    "m = create_mask().cpu()[0, 0, :, :]\n",
    "plt.imshow(m, cmap='gray', vmin=0, vmax=1.2)"
   ]
  },
  {
   "cell_type": "code",
   "execution_count": 15,
   "metadata": {},
   "outputs": [],
   "source": [
    "t = m.cpu().numpy().flatten()\n",
    "\n",
    "for i in range(len(t)):\n",
    "    if np.isnan(t[i]):\n",
    "        print('nan')"
   ]
  },
  {
   "cell_type": "code",
   "execution_count": 19,
   "metadata": {},
   "outputs": [
    {
     "name": "stdout",
     "output_type": "stream",
     "text": [
      " image [25/25] iteration : 24950 , context_loss: 4.641, perceptual_loss: -0.178982, total_loss: 4.461939, min L: 4.461453, 135.000000, D(G(z)): 0.163879, ETA: 0h 56m"
     ]
    }
   ],
   "source": [
    "# Lists to keep track of progress\n",
    "real_images = []\n",
    "masked_images= []\n",
    "inpainted_images = []\n",
    "final_inpainted_images = [] # last inpainted image for each input image\n",
    "n_iteration = []\n",
    "\n",
    "MSELoss = nn.MSELoss()\n",
    "L1Loss = nn.L1Loss() # MAE\n",
    "SmoothL1Loss = nn.SmoothL1Loss()\n",
    "\n",
    "\"\"\"\n",
    "Inpainting\n",
    "\"\"\"\n",
    "for i, data in enumerate(dataloader, 0): # batches per epoch\n",
    "    real_cpu = data.to(device)\n",
    "    b_size = real_cpu.size(0) # this is one ofc, it's one image we're trying to inpaint\n",
    "\n",
    "    #print(\"data.shape: \", data.shape)\n",
    "    image = data.to(device) # select the image (Channel, Height, Width), this is the original unmasked input image\n",
    "    \n",
    "    real_images.append(image)\n",
    "    #print(\"image.shape: \", image.shape)\n",
    "\n",
    "    \"\"\"Mask the image\"\"\"\n",
    "    mask = create_mask()\n",
    "\n",
    "    masked_image = torch.mul(image, mask).to(device) #image bigodot mask\n",
    "    masked_images.append(masked_image)\n",
    "    #print('masked image shape', masked_image.shape)\n",
    "    #plt.imshow(masked_image.detach().cpu()[0, 0, :, :], cmap='gray') # plot the masked image\n",
    "\n",
    "    opt = optim.Adam([z], lr=lr)\n",
    "\n",
    "    # what's v and m?\n",
    "    v = torch.tensor(0, dtype=torch.float32, device=device)\n",
    "    m = torch.tensor(0, dtype=torch.float32, device=device)\n",
    "\n",
    "\n",
    "    \"\"\"Start the inpainting process\"\"\"\n",
    "    early_stopping_n_iters = 0\n",
    "    early_stopping_min_loss = 999999 # set to random high number to initialize\n",
    "    for iteration in range(n_iters):\n",
    "        t1 = time.time()\n",
    "        if z.grad is not None:\n",
    "            z.grad.data.zero_()\n",
    "\n",
    "        G.zero_grad()\n",
    "        D.zero_grad()\n",
    "\n",
    "\n",
    "        image_generated = G(z) # generated image G(z)\n",
    "        image_generated_masked = torch.mul(image_generated, mask) # G(z) bigodot M\n",
    "        image_generated_inpainted = torch.mul(image_generated, (1-mask))+masked_image\n",
    "        \n",
    "        if (iteration % 100 == 0):\n",
    "            inpainted_images.append(image_generated_inpainted)\n",
    "\n",
    "        #print(\"image_generated_inpainted.shape : \",image_generated_inpainted.shape)\n",
    "\n",
    "        t = image_generated_inpainted.detach().cpu()[0, 0, :, :]\n",
    "\n",
    "        # TODO: why does this already look real?\n",
    "        #plt.imshow(t, cmap='gray') # plot the masked image \n",
    "\n",
    "        \"\"\"Calculate losses\"\"\"\n",
    "        #loss_context = torch.norm(image_generated_masked-masked_image, p=1) #what's p=1?\n",
    "        loss_context = lamb1*MSELoss(image_generated_masked,masked_image)\n",
    "        #loss_context = L1Loss(image_generated_masked, masked_image)*10\n",
    "        #loss_context = SmoothL1Loss(image_generated_masked, masked_image)*10\n",
    "        \n",
    "        discriminator_output = netD(image_generated_inpainted) - 0.005 # -0.005 offset so loss_perceptual doesn't become 1 when D(G(z)) == 1.000000\n",
    "        #print(\"Discriminator output: \", discriminator_output)\n",
    "\n",
    "        labels = torch.full((b_size,), 1, device=device)\n",
    "        loss_perceptual = lamb2*torch.log(1-discriminator_output)\n",
    "        \n",
    "        #if loss_perceptual == -np.inf:\n",
    "        #    #print('loss perceptual == -np.inf()')\n",
    "        #    loss_perceptual = torch.tensor(-10, dtype=torch.float32, device=device)\n",
    "        \n",
    "        #print(loss_perceptual.data.cpu().numpy().flatten()[0])\n",
    "\n",
    "        total_loss = loss_context + loss_perceptual\n",
    "        #total_loss = loss_context + 10*discriminator_output\n",
    "        \n",
    "        # grab the values from losses for printing\n",
    "        loss_perceptual = loss_perceptual.data.cpu().numpy().flatten()[0]\n",
    "        #loss_perceptual = 0\n",
    "        loss_context = loss_context.data.cpu().numpy().flatten()[0]\n",
    "\n",
    "\n",
    "\n",
    "        total_loss.backward()\n",
    "        opt.step()\n",
    "        \n",
    "        total_loss = total_loss.data.cpu().numpy().flatten()[0]\n",
    "        \n",
    "        \"\"\"Early stopping\"\"\" # TODO: \n",
    "        if iteration > 0:\n",
    "            delta_loss = early_stopping_min_loss - total_loss\n",
    "            delta_iters = iteration - iter1\n",
    "            \n",
    "            if (delta_loss < 0.1) or (total_loss > early_stopping_min_loss):\n",
    "                early_stopping_n_iters += 1\n",
    "            else:\n",
    "                #print('set to zero')\n",
    "                early_stopping_n_iters = 0\n",
    "            \n",
    "            if early_stopping_n_iters > 1000:\n",
    "                n_iteration.append(iteration)\n",
    "                break\n",
    "            \n",
    "        loss1 = total_loss\n",
    "        iter1 = iteration\n",
    "        \n",
    "        if total_loss < early_stopping_min_loss:\n",
    "            early_stopping_min_loss = total_loss\n",
    "            best_inpained_image = image_generated_inpainted.detach().cpu()\n",
    "            early_stopping_n_iters = 0\n",
    "            #print('min loss: ', early_stopping_min_loss)\n",
    "        \n",
    "        t2 = time.time()\n",
    "        \n",
    "        \"\"\"Calculate ETA\"\"\"\n",
    "        t_per_iter = t2 - t1 # time per iteration in seconds\n",
    "        \n",
    "        eta = t_per_iter * (n_iters - iteration) + t_per_iter* (len(images)-i+1) * n_iters # time left to finish epoch/image + time left to finish all epochs/images in SECONDS\n",
    "        eta_h = (eta/ 60) // 60 # divisor integer\n",
    "        eta_m = eta % 60 # get remainer\n",
    "        \n",
    "        if (iteration % 50 == 0):\n",
    "            print(\"\\r image [{}/{}] iteration : {:4} , context_loss: {:.3f}, perceptual_loss: {:3f}, total_loss: {:3f}, min L: {:3f}, {:1f}, D(G(z)): {:3f}, ETA: {:.0f}h {:.0f}m\".format(i+1, \n",
    "            len(images), iteration, loss_context,loss_perceptual, total_loss,early_stopping_min_loss, early_stopping_n_iters, discriminator_output.data.cpu().numpy().flatten()[0], eta_h, eta_m),end=\"\")\n",
    "            \n",
    "\n",
    "            \n",
    "        \"\"\"NaN monitor\"\"\"\n",
    "        #if (loss_context or loss_perceptual == np.nan()) and iteration >64:\n",
    "        #    print(r'='*10 + '     NaN     '+ '='*10)\n",
    "        #    print(loss_context, loss_percept  ual)\n",
    "            #break\n",
    "        \n",
    "    final_inpainted_images.append(best_inpained_image.detach().cpu())"
   ]
  },
  {
   "cell_type": "code",
   "execution_count": 20,
   "metadata": {},
   "outputs": [
    {
     "data": {
      "text/plain": [
       "25"
      ]
     },
     "execution_count": 20,
     "metadata": {},
     "output_type": "execute_result"
    }
   ],
   "source": [
    "len(real_images)"
   ]
  },
  {
   "cell_type": "markdown",
   "metadata": {},
   "source": [
    "## Inverse transform ASPA to spectrum"
   ]
  },
  {
   "cell_type": "code",
   "execution_count": 21,
   "metadata": {},
   "outputs": [],
   "source": [
    "def inverse_scale(X_, X_min, X_max):\n",
    "    \"\"\"\n",
    "    X_ is scaled X\n",
    "    X is unscaled X_\n",
    "    \"\"\"\n",
    "    X = X_ * (X_max - X_min) + X_min\n",
    "    return X"
   ]
  },
  {
   "cell_type": "code",
   "execution_count": 22,
   "metadata": {},
   "outputs": [
    {
     "data": {
      "image/png": "[encoded data removed]",
      "text/plain": [
       "<Figure size 432x288 with 1 Axes>"
      ]
     },
     "metadata": {},
     "output_type": "display_data"
    }
   ],
   "source": [
    "i = 0\n",
    "aspa = real_images[i].detach().cpu().numpy()[0, 0, :, :]\n",
    "\n",
    "\n",
    "plt.imshow(aspa, cmap='gray', vmin=0, vmax=1.2)\n",
    "\n",
    "\n",
    "\n",
    "n_bins = 8 # amount of bins the spectrum got scaled in\n",
    "\"\"\"Image parts from the aspa, still encoded\"\"\"\n",
    "spectrum = aspa[:16, :25]\n",
    "mins_ = [aspa[16:17, i*4:i*4+4] for i in range(n_bins)]\n",
    "stds_ = [aspa[17:18, i*4:i*4+4] for i in range(n_bins)]\n",
    "maxs_ = [aspa[18:19, i*4:i*4+4] for i in range(n_bins)]\n",
    "\n",
    "\"\"\"Decode to arrays\"\"\"\n",
    "spectrum = spectrum.flatten()\n",
    "\n",
    "mins_ = [inverse_scale(mins_[i].mean(), 0.005, 0.03) for i in range(n_bins)]\n",
    "stds_ = [inverse_scale(stds_[i].mean(), 0.005, 0.03) for i in range(n_bins)]\n",
    "maxs_ = [inverse_scale(maxs_[i].mean(), 1e-7, 1e-4) for i in range(n_bins)]"
   ]
  },
  {
   "cell_type": "code",
   "execution_count": 23,
   "metadata": {},
   "outputs": [
    {
     "data": {
      "text/html": [
       "<div>\n",
       "<style scoped>\n",
       "    .dataframe tbody tr th:only-of-type {\n",
       "        vertical-align: middle;\n",
       "    }\n",
       "\n",
       "    .dataframe tbody tr th {\n",
       "        vertical-align: top;\n",
       "    }\n",
       "\n",
       "    .dataframe thead th {\n",
       "        text-align: right;\n",
       "    }\n",
       "</style>\n",
       "<table border=\"1\" class=\"dataframe\">\n",
       "  <thead>\n",
       "    <tr style=\"text-align: right;\">\n",
       "      <th></th>\n",
       "      <th>x</th>\n",
       "      <th>y</th>\n",
       "    </tr>\n",
       "  </thead>\n",
       "  <tbody>\n",
       "    <tr>\n",
       "      <th>115</th>\n",
       "      <td>15.977744</td>\n",
       "      <td>0.482577</td>\n",
       "    </tr>\n",
       "    <tr>\n",
       "      <th>116</th>\n",
       "      <td>15.819548</td>\n",
       "      <td>0.214712</td>\n",
       "    </tr>\n",
       "    <tr>\n",
       "      <th>117</th>\n",
       "      <td>15.662919</td>\n",
       "      <td>0.144301</td>\n",
       "    </tr>\n",
       "    <tr>\n",
       "      <th>118</th>\n",
       "      <td>15.507841</td>\n",
       "      <td>0.321360</td>\n",
       "    </tr>\n",
       "    <tr>\n",
       "      <th>119</th>\n",
       "      <td>15.354298</td>\n",
       "      <td>0.091356</td>\n",
       "    </tr>\n",
       "  </tbody>\n",
       "</table>\n",
       "</div>"
      ],
      "text/plain": [
       "             x         y\n",
       "115  15.977744  0.482577\n",
       "116  15.819548  0.214712\n",
       "117  15.662919  0.144301\n",
       "118  15.507841  0.321360\n",
       "119  15.354298  0.091356"
      ]
     },
     "execution_count": 23,
     "metadata": {},
     "output_type": "execute_result"
    }
   ],
   "source": [
    "df = pd.read_csv('wavelengths_and_indices.csv', header=None, skiprows=[0], usecols=[1]) # load wavelengths\n",
    "df.columns = ['x']\n",
    "df = df.loc[df['x'] <= 16] # select only wavelengths <= 16\n",
    "df['y'] = spectrum\n",
    "\n",
    "df.head()"
   ]
  },
  {
   "cell_type": "code",
   "execution_count": 24,
   "metadata": {},
   "outputs": [
    {
     "data": {
      "text/plain": [
       "[<matplotlib.lines.Line2D at 0x7f33e40d7b00>]"
      ]
     },
     "execution_count": 24,
     "metadata": {},
     "output_type": "execute_result"
    },
    {
     "data": {
      "image/png": "[encoded data removed]",
      "text/plain": [
       "<Figure size 432x288 with 1 Axes>"
      ]
     },
     "metadata": {},
     "output_type": "display_data"
    }
   ],
   "source": [
    "plt.plot(df.x, df.y)"
   ]
  },
  {
   "cell_type": "code",
   "execution_count": 25,
   "metadata": {},
   "outputs": [
    {
     "data": {
      "image/png": "[encoded data removed]",
      "text/plain": [
       "<Figure size 432x288 with 1 Axes>"
      ]
     },
     "metadata": {},
     "output_type": "display_data"
    }
   ],
   "source": [
    "\"\"\"select spectrum bins\"\"\"\n",
    "bin1 = df[df.x <= 0.8]\n",
    "bin2 = df[(df.x > 0.8) & (df.x <= 1.3)] # select data between 2 and 4 micron\n",
    "bin3 = df[(df.x > 1.3) & (df.x <= 2)]\n",
    "bin4 = df[(df.x > 2) & (df.x <= 4)]\n",
    "bin5 = df[(df.x > 4) & (df.x <= 6)]\n",
    "bin6 = df[(df.x > 6) & (df.x <= 10)]\n",
    "bin7 = df[(df.x > 10) & (df.x <= 14)]\n",
    "bin8 = df[df.x > 14]\n",
    "\n",
    "bins = [bin8, bin7, bin6, bin5, bin4, bin3, bin2, bin1]\n",
    "for b in bins:\n",
    "    plt.plot(b['x'], b['y'])"
   ]
  },
  {
   "cell_type": "code",
   "execution_count": 26,
   "metadata": {},
   "outputs": [
    {
     "data": {
      "text/plain": [
       "[115    2.617517e+27\n",
       " 116    2.007428e+27\n",
       " 117    1.847060e+27\n",
       " 118    2.250330e+27\n",
       " 119    1.726472e+27\n",
       " 120    1.899791e+27\n",
       " 121    2.287736e+27\n",
       " 122    1.773327e+27\n",
       " 123    1.897809e+27\n",
       " 124    1.789162e+27\n",
       " 125    2.100170e+27\n",
       " 126    2.086324e+27\n",
       " 127    1.703950e+27\n",
       " 128    2.301339e+27\n",
       " Name: y, dtype: float32, 129    1138.712769\n",
       " 130    1421.736572\n",
       " 131    1023.533997\n",
       " 132    1201.268555\n",
       " 133    1147.332764\n",
       " 134    1147.026367\n",
       " 135    1254.789185\n",
       " 136    1431.564453\n",
       " 137    1343.154663\n",
       " 138    1275.724731\n",
       " 139    1188.660767\n",
       " 140    1189.221680\n",
       " 141    1123.660400\n",
       " 142    1119.652588\n",
       " 143    1328.982544\n",
       " 144    1287.432495\n",
       " 145    1323.591553\n",
       " 146    1185.444092\n",
       " 147    1093.137329\n",
       " 148    1324.707764\n",
       " 149    1296.760864\n",
       " 150    1277.042603\n",
       " 151    1396.681152\n",
       " 152    1166.218750\n",
       " 153    1234.467407\n",
       " 154    1079.735229\n",
       " 155    1108.385742\n",
       " 156    1184.559937\n",
       " 157    1564.805298\n",
       " 158    1065.602539\n",
       " 159    1140.120728\n",
       " 160    1121.732300\n",
       " 161    1140.234741\n",
       " 162    1000.000000\n",
       " Name: y, dtype: float32, 163   -12.830524\n",
       " 164   -14.363751\n",
       " 165   -13.566957\n",
       " 166   -15.804913\n",
       " 167   -16.543316\n",
       " 168   -14.673290\n",
       " 169   -16.453716\n",
       " 170   -16.949368\n",
       " 171   -16.673149\n",
       " 172   -11.887924\n",
       " 173   -12.318057\n",
       " 174   -16.243834\n",
       " 175   -17.431446\n",
       " 176   -16.690920\n",
       " 177   -16.808996\n",
       " 178   -13.785700\n",
       " 179   -13.417445\n",
       " 180   -17.886457\n",
       " 181   -14.543836\n",
       " 182   -17.285549\n",
       " 183   -14.222286\n",
       " 184   -14.792931\n",
       " 185   -13.671989\n",
       " 186   -16.755766\n",
       " 187   -13.330692\n",
       " 188   -17.300224\n",
       " 189   -14.998223\n",
       " 190   -15.719343\n",
       " 191   -12.814728\n",
       " 192   -16.584566\n",
       " 193   -16.324177\n",
       " 194   -16.166552\n",
       " 195   -14.001860\n",
       " 196   -14.893185\n",
       " 197   -15.453087\n",
       " 198   -15.053338\n",
       " 199   -13.848246\n",
       " 200   -16.309759\n",
       " 201   -14.715055\n",
       " 202   -14.095621\n",
       " 203   -15.591261\n",
       " 204   -16.684738\n",
       " 205   -14.854589\n",
       " 206   -14.170441\n",
       " 207   -16.741081\n",
       " 208   -13.740349\n",
       " 209   -16.036934\n",
       " 210   -14.014367\n",
       " 211   -14.748387\n",
       " 212   -16.758354\n",
       " 213   -14.905968\n",
       " Name: y, dtype: float32, 214     65856992.0\n",
       " 215     73285408.0\n",
       " 216     64888992.0\n",
       " 217     67448528.0\n",
       " 218     68442872.0\n",
       " 219     63494492.0\n",
       " 220     72060888.0\n",
       " 221     66944380.0\n",
       " 222     73770632.0\n",
       " 223     70203856.0\n",
       " 224     68828200.0\n",
       " 225     72660216.0\n",
       " 226     73998000.0\n",
       " 227     74099296.0\n",
       " 228     75961872.0\n",
       " 229     76106080.0\n",
       " 230     76483456.0\n",
       " 231     77985840.0\n",
       " 232     79082800.0\n",
       " 233     82541624.0\n",
       " 234     82676832.0\n",
       " 235     90400104.0\n",
       " 236     80598072.0\n",
       " 237    104866496.0\n",
       " 238     84780624.0\n",
       " 239     86854224.0\n",
       " 240     85460384.0\n",
       " 241     79628912.0\n",
       " 242     83316880.0\n",
       " 243     77990752.0\n",
       " 244    104866496.0\n",
       " 245     96120992.0\n",
       " 246     87876408.0\n",
       " 247     95307024.0\n",
       " 248     80024688.0\n",
       " 249     84474960.0\n",
       " 250     77779728.0\n",
       " 251     72862432.0\n",
       " 252     71097176.0\n",
       " 253     69306216.0\n",
       " 254     69682216.0\n",
       " Name: y, dtype: float32, 255   -14.854402\n",
       " 256   -16.244173\n",
       " 257   -17.114035\n",
       " 258   -16.636757\n",
       " 259   -17.366377\n",
       " 260   -17.020597\n",
       " 261   -16.079964\n",
       " 262   -17.612062\n",
       " 263   -17.650976\n",
       " 264   -18.371143\n",
       " 265   -17.738619\n",
       " 266   -17.694466\n",
       " 267   -17.492682\n",
       " 268   -17.322315\n",
       " 269   -18.420679\n",
       " 270   -18.140991\n",
       " 271   -17.682472\n",
       " 272   -17.884361\n",
       " 273   -16.852861\n",
       " 274   -17.427996\n",
       " 275   -17.861368\n",
       " 276   -17.375080\n",
       " 277   -17.384134\n",
       " 278   -18.179094\n",
       " 279   -18.420679\n",
       " 280   -18.384344\n",
       " 281   -17.865234\n",
       " 282   -17.880501\n",
       " 283   -17.264215\n",
       " 284   -17.372030\n",
       "          ...    \n",
       " 294   -10.882119\n",
       " 295    -9.959734\n",
       " 296    -9.819594\n",
       " 297    -9.246916\n",
       " 298    -9.316545\n",
       " 299    -8.405500\n",
       " 300    -7.310035\n",
       " 301    -4.574444\n",
       " 302    -2.302584\n",
       " 303    -3.338351\n",
       " 304    -9.158509\n",
       " 305    -9.129470\n",
       " 306    -7.143093\n",
       " 307    -5.692960\n",
       " 308    -5.315620\n",
       " 309    -6.145793\n",
       " 310    -7.751038\n",
       " 311    -9.625801\n",
       " 312   -11.285231\n",
       " 313   -12.844471\n",
       " 314   -13.507679\n",
       " 315   -12.940456\n",
       " 316   -13.462856\n",
       " 317   -14.114361\n",
       " 318   -13.018050\n",
       " 319   -12.915117\n",
       " 320   -14.179732\n",
       " 321   -14.267776\n",
       " 322   -15.750603\n",
       " 323   -16.707376\n",
       " Name: y, Length: 69, dtype: float32, 324   -16.604597\n",
       " 325   -16.742842\n",
       " 326   -16.564222\n",
       " 327   -16.192814\n",
       " 328   -15.996352\n",
       " 329   -13.362111\n",
       " 330   -13.531828\n",
       " 331   -13.045603\n",
       " 332   -13.388563\n",
       " 333   -13.513870\n",
       " 334   -13.582729\n",
       " 335   -13.840411\n",
       " 336   -13.348458\n",
       " 337   -13.739031\n",
       " 338   -13.829487\n",
       " 339   -13.876567\n",
       " 340   -14.144519\n",
       " 341   -14.122612\n",
       " 342   -14.479239\n",
       " 343   -14.459136\n",
       " 344   -14.403809\n",
       " 345   -14.682650\n",
       " 346   -14.560074\n",
       " 347   -14.832302\n",
       " 348   -14.776420\n",
       " 349   -14.869420\n",
       " 350   -14.911168\n",
       " 351   -14.749929\n",
       " 352   -14.630366\n",
       " 353   -14.006834\n",
       " 354   -12.365932\n",
       " 355   -10.101416\n",
       " 356    -7.618915\n",
       " 357    -5.509179\n",
       " 358    -3.969687\n",
       " 359    -2.945596\n",
       " 360    -2.560191\n",
       " 361    -2.302584\n",
       " 362    -3.071956\n",
       " 363    -5.735991\n",
       " 364   -10.692667\n",
       " 365   -16.616823\n",
       " 366   -18.236013\n",
       " 367   -18.356539\n",
       " Name: y, dtype: float32, 368   -18.420679\n",
       " 369   -18.404005\n",
       " 370   -18.420679\n",
       " 371   -18.321480\n",
       " 372   -18.150362\n",
       " 373   -17.870256\n",
       " 374   -17.410307\n",
       " 375   -16.884981\n",
       " 376   -16.083572\n",
       " 377   -15.039917\n",
       " 378   -13.573786\n",
       " 379   -12.214973\n",
       " 380   -10.709446\n",
       " 381    -9.494443\n",
       " 382    -9.219750\n",
       " 383    -9.032006\n",
       " 384    -8.368011\n",
       " 385    -8.887297\n",
       " 386    -8.286724\n",
       " 387    -2.302584\n",
       " 388    -4.401279\n",
       " 389    -9.815753\n",
       " 390    -8.630349\n",
       " 391    -7.295628\n",
       " 392    -6.341900\n",
       " 393    -6.620152\n",
       " 394    -7.831161\n",
       " 395    -9.539062\n",
       " 396   -11.812470\n",
       " 397   -13.954061\n",
       " 398   -14.690106\n",
       " 399   -14.669702\n",
       " 400   -14.225985\n",
       " 401   -13.610310\n",
       " 402   -13.395918\n",
       " 403   -13.042711\n",
       " 404   -12.580952\n",
       " 405   -12.669432\n",
       " 406   -12.449162\n",
       " 407   -12.022038\n",
       " 408   -11.571713\n",
       " 409   -11.667780\n",
       " 410   -12.333914\n",
       " 411   -13.667944\n",
       " 412   -13.379739\n",
       " 413   -12.520451\n",
       " 414   -12.279102\n",
       " 415   -12.141510\n",
       " Name: y, dtype: float32]"
      ]
     },
     "execution_count": 26,
     "metadata": {},
     "output_type": "execute_result"
    }
   ],
   "source": [
    "\"\"\"Inverse scale the bins\"\"\"\n",
    "# min max values for spectrum from ASPA v2 notebook\n",
    "min_values = [1.518400e+27, \n",
    "                  1.000000e+03, \n",
    "                  -1.842068e+01, \n",
    "                  5.592880e+07, \n",
    "                  -1.842068e+01, \n",
    "                  -1.842068e+01, \n",
    "                  -1.842068e+01]\n",
    "    \n",
    "max_values = [3.796000e+27, \n",
    "                  2.000000e+03, \n",
    "                  -2.302585e+00, \n",
    "                  1.048665e+08, \n",
    "                  -2.302585e+00, \n",
    "                  -2.302585e+00,\n",
    "                  -2.302585e+00]\n",
    "\n",
    "spectra_inverses = []\n",
    "for i in range(7):\n",
    "    bin_ = bins[i]\n",
    "    max_ = maxs_[i]\n",
    "    min_ = mins_[i]\n",
    "    \n",
    "    spectrum = bin_['y']\n",
    "    spectrum_inverse = inverse_scale(spectrum, min_values[i], max_values[i])\n",
    "    spectra_inverses.append(spectrum_inverse)\n",
    "\n",
    "spectra_inverses"
   ]
  },
  {
   "cell_type": "markdown",
   "metadata": {},
   "source": [
    "# Show results"
   ]
  },
  {
   "cell_type": "code",
   "execution_count": 27,
   "metadata": {},
   "outputs": [],
   "source": [
    "real = real_images[0].detach().cpu()[0, 0, :, :]\n",
    "real_masked = masked_images[0].detach().cpu()[0, 0, :, :]\n",
    "\n",
    "#first_generated =inpainted_images[1].detach().cpu()[0, 0, :, :]\n",
    "last_generated = inpainted_images[-1].detach().cpu()[0, 0, :, :]"
   ]
  },
  {
   "cell_type": "code",
   "execution_count": 71,
   "metadata": {},
   "outputs": [
    {
     "ename": "TypeError",
     "evalue": "Invalid dimensions for image data",
     "output_type": "error",
     "traceback": [
      "\u001b[0;31m---------------------------------------------------------------------------\u001b[0m",
      "\u001b[0;31mTypeError\u001b[0m                                 Traceback (most recent call last)",
      "\u001b[0;32m<ipython-input-71-e5f5631f5e02>\u001b[0m in \u001b[0;36m<module>\u001b[0;34m\u001b[0m\n\u001b[1;32m      2\u001b[0m \u001b[0;34m\u001b[0m\u001b[0m\n\u001b[1;32m      3\u001b[0m \u001b[0mplt\u001b[0m\u001b[0;34m.\u001b[0m\u001b[0msubplot\u001b[0m\u001b[0;34m(\u001b[0m\u001b[0;36m1\u001b[0m\u001b[0;34m,\u001b[0m\u001b[0;36m3\u001b[0m\u001b[0;34m,\u001b[0m\u001b[0;36m1\u001b[0m\u001b[0;34m)\u001b[0m\u001b[0;34m\u001b[0m\u001b[0;34m\u001b[0m\u001b[0m\n\u001b[0;32m----> 4\u001b[0;31m \u001b[0mplt\u001b[0m\u001b[0;34m.\u001b[0m\u001b[0mimshow\u001b[0m\u001b[0;34m(\u001b[0m\u001b[0mreal\u001b[0m\u001b[0;34m,\u001b[0m \u001b[0mcmap\u001b[0m\u001b[0;34m=\u001b[0m\u001b[0;34m'gray'\u001b[0m\u001b[0;34m,\u001b[0m \u001b[0mvmin\u001b[0m\u001b[0;34m=\u001b[0m\u001b[0;36m0\u001b[0m\u001b[0;34m,\u001b[0m \u001b[0mvmax\u001b[0m\u001b[0;34m=\u001b[0m\u001b[0;36m1.2\u001b[0m\u001b[0;34m)\u001b[0m\u001b[0;34m\u001b[0m\u001b[0;34m\u001b[0m\u001b[0m\n\u001b[0m\u001b[1;32m      5\u001b[0m \u001b[0mplt\u001b[0m\u001b[0;34m.\u001b[0m\u001b[0mtitle\u001b[0m\u001b[0;34m(\u001b[0m\u001b[0;34m'Ground truth'\u001b[0m\u001b[0;34m)\u001b[0m\u001b[0;34m\u001b[0m\u001b[0;34m\u001b[0m\u001b[0m\n\u001b[1;32m      6\u001b[0m \u001b[0;34m\u001b[0m\u001b[0m\n",
      "\u001b[0;32m/opt/jupyterhub/anaconda/lib/python3.6/site-packages/matplotlib/pyplot.py\u001b[0m in \u001b[0;36mimshow\u001b[0;34m(X, cmap, norm, aspect, interpolation, alpha, vmin, vmax, origin, extent, shape, filternorm, filterrad, imlim, resample, url, data, **kwargs)\u001b[0m\n\u001b[1;32m   2699\u001b[0m         \u001b[0mfilternorm\u001b[0m\u001b[0;34m=\u001b[0m\u001b[0mfilternorm\u001b[0m\u001b[0;34m,\u001b[0m \u001b[0mfilterrad\u001b[0m\u001b[0;34m=\u001b[0m\u001b[0mfilterrad\u001b[0m\u001b[0;34m,\u001b[0m \u001b[0mimlim\u001b[0m\u001b[0;34m=\u001b[0m\u001b[0mimlim\u001b[0m\u001b[0;34m,\u001b[0m\u001b[0;34m\u001b[0m\u001b[0;34m\u001b[0m\u001b[0m\n\u001b[1;32m   2700\u001b[0m         resample=resample, url=url, **({\"data\": data} if data is not\n\u001b[0;32m-> 2701\u001b[0;31m         None else {}), **kwargs)\n\u001b[0m\u001b[1;32m   2702\u001b[0m     \u001b[0msci\u001b[0m\u001b[0;34m(\u001b[0m\u001b[0m__ret\u001b[0m\u001b[0;34m)\u001b[0m\u001b[0;34m\u001b[0m\u001b[0;34m\u001b[0m\u001b[0m\n\u001b[1;32m   2703\u001b[0m     \u001b[0;32mreturn\u001b[0m \u001b[0m__ret\u001b[0m\u001b[0;34m\u001b[0m\u001b[0;34m\u001b[0m\u001b[0m\n",
      "\u001b[0;32m/opt/jupyterhub/anaconda/lib/python3.6/site-packages/matplotlib/__init__.py\u001b[0m in \u001b[0;36minner\u001b[0;34m(ax, data, *args, **kwargs)\u001b[0m\n\u001b[1;32m   1803\u001b[0m                         \u001b[0;34m\"the Matplotlib list!)\"\u001b[0m \u001b[0;34m%\u001b[0m \u001b[0;34m(\u001b[0m\u001b[0mlabel_namer\u001b[0m\u001b[0;34m,\u001b[0m \u001b[0mfunc\u001b[0m\u001b[0;34m.\u001b[0m\u001b[0m__name__\u001b[0m\u001b[0;34m)\u001b[0m\u001b[0;34m,\u001b[0m\u001b[0;34m\u001b[0m\u001b[0;34m\u001b[0m\u001b[0m\n\u001b[1;32m   1804\u001b[0m                         RuntimeWarning, stacklevel=2)\n\u001b[0;32m-> 1805\u001b[0;31m             \u001b[0;32mreturn\u001b[0m \u001b[0mfunc\u001b[0m\u001b[0;34m(\u001b[0m\u001b[0max\u001b[0m\u001b[0;34m,\u001b[0m \u001b[0;34m*\u001b[0m\u001b[0margs\u001b[0m\u001b[0;34m,\u001b[0m \u001b[0;34m**\u001b[0m\u001b[0mkwargs\u001b[0m\u001b[0;34m)\u001b[0m\u001b[0;34m\u001b[0m\u001b[0;34m\u001b[0m\u001b[0m\n\u001b[0m\u001b[1;32m   1806\u001b[0m \u001b[0;34m\u001b[0m\u001b[0m\n\u001b[1;32m   1807\u001b[0m         inner.__doc__ = _add_data_doc(inner.__doc__,\n",
      "\u001b[0;32m/opt/jupyterhub/anaconda/lib/python3.6/site-packages/matplotlib/axes/_axes.py\u001b[0m in \u001b[0;36mimshow\u001b[0;34m(self, X, cmap, norm, aspect, interpolation, alpha, vmin, vmax, origin, extent, shape, filternorm, filterrad, imlim, resample, url, **kwargs)\u001b[0m\n\u001b[1;32m   5481\u001b[0m                               resample=resample, **kwargs)\n\u001b[1;32m   5482\u001b[0m \u001b[0;34m\u001b[0m\u001b[0m\n\u001b[0;32m-> 5483\u001b[0;31m         \u001b[0mim\u001b[0m\u001b[0;34m.\u001b[0m\u001b[0mset_data\u001b[0m\u001b[0;34m(\u001b[0m\u001b[0mX\u001b[0m\u001b[0;34m)\u001b[0m\u001b[0;34m\u001b[0m\u001b[0;34m\u001b[0m\u001b[0m\n\u001b[0m\u001b[1;32m   5484\u001b[0m         \u001b[0mim\u001b[0m\u001b[0;34m.\u001b[0m\u001b[0mset_alpha\u001b[0m\u001b[0;34m(\u001b[0m\u001b[0malpha\u001b[0m\u001b[0;34m)\u001b[0m\u001b[0;34m\u001b[0m\u001b[0;34m\u001b[0m\u001b[0m\n\u001b[1;32m   5485\u001b[0m         \u001b[0;32mif\u001b[0m \u001b[0mim\u001b[0m\u001b[0;34m.\u001b[0m\u001b[0mget_clip_path\u001b[0m\u001b[0;34m(\u001b[0m\u001b[0;34m)\u001b[0m \u001b[0;32mis\u001b[0m \u001b[0;32mNone\u001b[0m\u001b[0;34m:\u001b[0m\u001b[0;34m\u001b[0m\u001b[0;34m\u001b[0m\u001b[0m\n",
      "\u001b[0;32m/opt/jupyterhub/anaconda/lib/python3.6/site-packages/matplotlib/image.py\u001b[0m in \u001b[0;36mset_data\u001b[0;34m(self, A)\u001b[0m\n\u001b[1;32m    644\u001b[0m         if not (self._A.ndim == 2\n\u001b[1;32m    645\u001b[0m                 or self._A.ndim == 3 and self._A.shape[-1] in [3, 4]):\n\u001b[0;32m--> 646\u001b[0;31m             \u001b[0;32mraise\u001b[0m \u001b[0mTypeError\u001b[0m\u001b[0;34m(\u001b[0m\u001b[0;34m\"Invalid dimensions for image data\"\u001b[0m\u001b[0;34m)\u001b[0m\u001b[0;34m\u001b[0m\u001b[0;34m\u001b[0m\u001b[0m\n\u001b[0m\u001b[1;32m    647\u001b[0m \u001b[0;34m\u001b[0m\u001b[0m\n\u001b[1;32m    648\u001b[0m         \u001b[0;32mif\u001b[0m \u001b[0mself\u001b[0m\u001b[0;34m.\u001b[0m\u001b[0m_A\u001b[0m\u001b[0;34m.\u001b[0m\u001b[0mndim\u001b[0m \u001b[0;34m==\u001b[0m \u001b[0;36m3\u001b[0m\u001b[0;34m:\u001b[0m\u001b[0;34m\u001b[0m\u001b[0;34m\u001b[0m\u001b[0m\n",
      "\u001b[0;31mTypeError\u001b[0m: Invalid dimensions for image data"
     ]
    },
    {
     "data": {
      "image/png": "[encoded data removed]",
      "text/plain": [
       "<Figure size 1584x720 with 1 Axes>"
      ]
     },
     "metadata": {},
     "output_type": "display_data"
    }
   ],
   "source": [
    "plt.figure(figsize=(22,10))\n",
    "\n",
    "plt.subplot(1,3,1)\n",
    "plt.imshow(real, cmap='gray', vmin=0, vmax=1.2)\n",
    "plt.title('Ground truth')\n",
    "\n",
    "plt.subplot(1,3,2)\n",
    "plt.imshow(real_masked, cmap='gray', vmin=0, vmax=1.2)\n",
    "plt.title('Masked input')\n",
    "\n",
    "plt.subplot(1,3,3)\n",
    "plt.imshow(last_generated, cmap='gray', vmin=0, vmax=1.2)\n",
    "plt.title('Inpainted')\n",
    "\n",
    "plt.tight_layout()\n",
    "\n",
    "#plt.savefig('plots/inpainting.png', dpi=1300)"
   ]
  },
  {
   "cell_type": "code",
   "execution_count": 72,
   "metadata": {},
   "outputs": [
    {
     "name": "stdout",
     "output_type": "stream",
     "text": [
      "mean: -1.1239 \n",
      " std: 0.9555 \n",
      " min: -2.5041 \n",
      " max: 0.0000\n"
     ]
    },
    {
     "data": {
      "image/png": "[encoded data removed]",
      "text/plain": [
       "<Figure size 432x288 with 2 Axes>"
      ]
     },
     "metadata": {},
     "output_type": "display_data"
    }
   ],
   "source": [
    "difference = real - last_generated\n",
    "difference[19:, :] = 0 # remove the noise, it doesn't matter\n",
    "\n",
    "#sns.heatmap(difference, cmap='gray', vmin=-2, vmax=2)\n",
    "sns.heatmap(difference, cmap='gray')\n",
    "plt.title('Ground truth - Inpainted ')\n",
    "\n",
    "difference  = difference.cpu().detach().numpy().flatten()\n",
    "\n",
    "mean, sigma, min_, max_ = difference.mean().item(), difference.std(), difference.min(), difference.max()\n",
    "print('mean: %.4f \\n std: %.4f \\n min: %.4f \\n max: %.4f' % (mean, sigma, min_, max_))"
   ]
  },
  {
   "cell_type": "raw",
   "metadata": {},
   "source": [
    "import matplotlib\n",
    "matplotlib.rcParams['animation.embed_limit'] = 20**128\n",
    "\n",
    "#%%capture\n",
    "fig = plt.figure(figsize=(8,8))\n",
    "plt.axis(\"off\")\n",
    "ims = [[plt.imshow(i.detach().cpu()[0, 0, :, :], animated=True, cmap='gray', vmin=0, vmax=1.2)] for i in inpainted_images]\n",
    "ani = animation.ArtistAnimation(fig, ims, interval=500, repeat_delay=1000, blit=True)\n",
    "\n",
    "\n",
    "HTML(ani.to_jshtml())"
   ]
  },
  {
   "cell_type": "code",
   "execution_count": null,
   "metadata": {},
   "outputs": [],
   "source": []
  },
  {
   "cell_type": "markdown",
   "metadata": {},
   "source": [
    "# Decoding ASPA\n",
    "Need to clean this up. Using dicts like this is not clean."
   ]
  },
  {
   "cell_type": "code",
   "execution_count": 30,
   "metadata": {},
   "outputs": [
    {
     "data": {
      "text/plain": [
       "(32, 32)"
      ]
     },
     "execution_count": 30,
     "metadata": {},
     "output_type": "execute_result"
    }
   ],
   "source": [
    "aspa_inpainted = last_generated.numpy()\n",
    "aspa_real = real.numpy()\n",
    "\n",
    "aspa_inpainted.shape"
   ]
  },
  {
   "cell_type": "code",
   "execution_count": 31,
   "metadata": {},
   "outputs": [],
   "source": [
    "# Initialize ExoGAN params with zero's\n",
    "inpainted_params = {\n",
    "    'planet_mass': 0,\n",
    "    'temp_profile': 0,\n",
    "    'ch4_mixratio': 0,\n",
    "    'planet_radius': 0,\n",
    "    'h2o_mixratio': 0,\n",
    "    'co2_mixratio': 0,\n",
    "    'co_mixratio': 0\n",
    "}\n",
    "\n",
    "real_params = inpainted_params.copy()\n",
    "params_errors = inpainted_params.copy()"
   ]
  },
  {
   "cell_type": "markdown",
   "metadata": {},
   "source": [
    "## Inverse scale functions"
   ]
  },
  {
   "cell_type": "code",
   "execution_count": 32,
   "metadata": {},
   "outputs": [],
   "source": [
    "def inverse_scale_param(X_scaled, X_min, X_max):\n",
    "    return (X_scaled * (X_max-X_min)) + X_min\n",
    "\n",
    "def inverse_scale_params(params):\n",
    "    \"\"\"\n",
    "    Inverse scales the params array. \n",
    "    Params must be in fixed order, same order as it is encoded with.\n",
    "    \"\"\"\n",
    "    params = params.copy()\n",
    "    min_values = [1.518400e+27, \n",
    "                  1.000000e+03, \n",
    "                  -1.842068e+01, \n",
    "                  5.592880e+07, \n",
    "                  -1.842068e+01, \n",
    "                  -1.842068e+01, \n",
    "                  -1.842068e+01]\n",
    "    \n",
    "    max_values = [3.796000e+27, \n",
    "                  2.000000e+03, \n",
    "                  -2.302585e+00, \n",
    "                  1.048665e+08, \n",
    "                  -2.302585e+00, \n",
    "                  -2.302585e+00,\n",
    "                  -2.302585e+00]\n",
    "\n",
    "    params_inverse_scaled = []\n",
    "    for i in range(len(params)):\n",
    "        param = params[i]\n",
    "        min_= min_values[i]\n",
    "        max_ = max_values[i]\n",
    "\n",
    "        params_inverse_scaled.append(inverse_scale_param(param, min_, max_))\n",
    "    \n",
    "    return params_inverse_scaled"
   ]
  },
  {
   "cell_type": "markdown",
   "metadata": {},
   "source": [
    "## Inpainted params"
   ]
  },
  {
   "cell_type": "code",
   "execution_count": 33,
   "metadata": {},
   "outputs": [
    {
     "data": {
      "text/plain": [
       "[0.5218971, 0.7830035, 0.12981273, 0.4350477, 0.35796, 0.10150282, 0.5693662]"
      ]
     },
     "execution_count": 33,
     "metadata": {},
     "output_type": "execute_result"
    }
   ],
   "source": [
    "inpainted_params_values = [aspa_inpainted[:16, 25+i:26+i] for i in range(len(inpainted_params))]\n",
    "inpainted_params_mean  = [i.mean() for i in inpainted_params_values]\n",
    "\n",
    "inpainted_params_mean"
   ]
  },
  {
   "cell_type": "code",
   "execution_count": 34,
   "metadata": {},
   "outputs": [
    {
     "data": {
      "text/plain": [
       "-8.95126699298"
      ]
     },
     "execution_count": 34,
     "metadata": {},
     "output_type": "execute_result"
    }
   ],
   "source": [
    "y = (0.5876265 * (-2.306--1.842068e+01))+-1.842068e+01\n",
    "y"
   ]
  },
  {
   "cell_type": "code",
   "execution_count": 35,
   "metadata": {},
   "outputs": [
    {
     "data": {
      "text/plain": [
       "[2.7070727838516236e+27,\n",
       " 1783.0035090446472,\n",
       " -16.328346047951953,\n",
       " 77219033.14805627,\n",
       " -12.651046943756342,\n",
       " -16.78464789078109,\n",
       " -9.243581230090857]"
      ]
     },
     "execution_count": 35,
     "metadata": {},
     "output_type": "execute_result"
    }
   ],
   "source": [
    "inpainted_params_mean = inverse_scale_params(inpainted_params_mean)\n",
    "inpainted_params_mean"
   ]
  },
  {
   "cell_type": "markdown",
   "metadata": {},
   "source": [
    "### Convert mixtures from log back to regular scale"
   ]
  },
  {
   "cell_type": "code",
   "execution_count": 36,
   "metadata": {},
   "outputs": [],
   "source": [
    "for i,param in enumerate(inpainted_params):\n",
    "    if 'mixratio' in param:\n",
    "        inpainted_params[param] = (inpainted_params_mean[i]) # convert log back to regular scale\n",
    "    else:\n",
    "        inpainted_params[param] = inpainted_params_mean[i]"
   ]
  },
  {
   "cell_type": "code",
   "execution_count": 37,
   "metadata": {},
   "outputs": [
    {
     "data": {
      "text/plain": [
       "{'planet_mass': 2.7070727838516236e+27,\n",
       " 'temp_profile': 1783.0035090446472,\n",
       " 'ch4_mixratio': -16.328346047951953,\n",
       " 'planet_radius': 77219033.14805627,\n",
       " 'h2o_mixratio': -12.651046943756342,\n",
       " 'co2_mixratio': -16.78464789078109,\n",
       " 'co_mixratio': -9.243581230090857}"
      ]
     },
     "execution_count": 37,
     "metadata": {},
     "output_type": "execute_result"
    }
   ],
   "source": [
    "inpainted_params"
   ]
  },
  {
   "cell_type": "markdown",
   "metadata": {},
   "source": [
    "## Real params\n",
    "Ground truth params"
   ]
  },
  {
   "cell_type": "code",
   "execution_count": 38,
   "metadata": {},
   "outputs": [
    {
     "data": {
      "text/plain": [
       "[-0.6666667, -0.9995555, 1.049541, -1.1428571, 1.049541, 1.0065367, 1.049541]"
      ]
     },
     "execution_count": 38,
     "metadata": {},
     "output_type": "execute_result"
    }
   ],
   "source": [
    "real_params_values = [aspa_real[:16, 25+i:26+i] for i in range(len(real_params))]\n",
    "real_params_mean  = [i.mean() for i in real_params_values]\n",
    "real_params_mean"
   ]
  },
  {
   "cell_type": "code",
   "execution_count": 39,
   "metadata": {},
   "outputs": [
    {
     "data": {
      "text/plain": [
       "[-4.525184634915599e+19,\n",
       " 0.4444718360900879,\n",
       " -1.5040785111880304,\n",
       " 3.333616256713867,\n",
       " -1.5040785111880304,\n",
       " -2.197225490862131,\n",
       " -1.5040785111880304]"
      ]
     },
     "execution_count": 39,
     "metadata": {},
     "output_type": "execute_result"
    }
   ],
   "source": [
    "real_params_mean = inverse_scale_params(real_params_mean)\n",
    "real_params_mean"
   ]
  },
  {
   "cell_type": "markdown",
   "metadata": {},
   "source": [
    "### Convert mixtures from log back to regular scale"
   ]
  },
  {
   "cell_type": "code",
   "execution_count": 40,
   "metadata": {},
   "outputs": [],
   "source": [
    "for i,param in enumerate(real_params):\n",
    "    if 'mixratio' in param:\n",
    "        real_params[param] = (real_params_mean[i]) # convert log back to regular scale\n",
    "    else:\n",
    "        real_params[param] = real_params_mean[i]"
   ]
  },
  {
   "cell_type": "code",
   "execution_count": 41,
   "metadata": {},
   "outputs": [
    {
     "data": {
      "text/plain": [
       "{'planet_mass': -4.525184634915599e+19,\n",
       " 'temp_profile': 0.4444718360900879,\n",
       " 'ch4_mixratio': -1.5040785111880304,\n",
       " 'planet_radius': 3.333616256713867,\n",
       " 'h2o_mixratio': -1.5040785111880304,\n",
       " 'co2_mixratio': -2.197225490862131,\n",
       " 'co_mixratio': -1.5040785111880304}"
      ]
     },
     "execution_count": 41,
     "metadata": {},
     "output_type": "execute_result"
    }
   ],
   "source": [
    "real_params"
   ]
  },
  {
   "cell_type": "markdown",
   "metadata": {},
   "source": [
    "## Percentage error\n",
    "\n",
    "% error = $\\frac{y-\\hat{y}}{\\hat{y}} \\cdot$ 100"
   ]
  },
  {
   "cell_type": "code",
   "execution_count": 42,
   "metadata": {},
   "outputs": [
    {
     "data": {
      "text/plain": [
       "{'planet_mass': -5982237295.283224,\n",
       " 'temp_profile': 401051.0661123776,\n",
       " 'ch4_mixratio': 985.604636094072,\n",
       " 'planet_radius': 2316374287.5,\n",
       " 'h2o_mixratio': 741.1161285565889,\n",
       " 'co2_mixratio': 663.9019281628331,\n",
       " 'co_mixratio': 514.5677344189703}"
      ]
     },
     "execution_count": 42,
     "metadata": {},
     "output_type": "execute_result"
    }
   ],
   "source": [
    "percentage_errors = []\n",
    "for param in real_params:\n",
    "    y_hat = real_params[param]\n",
    "    y = inpainted_params[param]\n",
    "    \n",
    "    params_errors[param] = ((y - y_hat) / y_hat)*100\n",
    "\n",
    "params_errors"
   ]
  },
  {
   "cell_type": "markdown",
   "metadata": {},
   "source": [
    "## Print results"
   ]
  },
  {
   "cell_type": "code",
   "execution_count": 43,
   "metadata": {},
   "outputs": [
    {
     "name": "stdout",
     "output_type": "stream",
     "text": [
      "planet_mass \t Real value: -4.52518e+19 \t inpainted value: 2.70707e+27 \t perc. diff.: -5982237295.2832241058349609375000000\n",
      "temp_profile \t Real value: 4.44472e-01 \t inpainted value: 1.78300e+03 \t perc. diff.: 401051.0661123776226304471492767\n",
      "ch4_mixratio \t Real value: -1.50408e+00 \t inpainted value: -1.63283e+01 \t perc. diff.: 985.6046360940720205690013245\n",
      "planet_radius \t Real value: 3.33362e+00 \t inpainted value: 7.72190e+07 \t perc. diff.: 2316374287.5000000000000000000000000\n",
      "h2o_mixratio \t Real value: -1.50408e+00 \t inpainted value: -1.26510e+01 \t perc. diff.: 741.1161285565889329518540762\n",
      "co2_mixratio \t Real value: -2.19723e+00 \t inpainted value: -1.67846e+01 \t perc. diff.: 663.9019281628330872990773059\n",
      "co_mixratio \t Real value: -1.50408e+00 \t inpainted value: -9.24358e+00 \t perc. diff.: 514.5677344189703035226557404\n"
     ]
    }
   ],
   "source": [
    "for param in inpainted_params:\n",
    "    real = real_params[param]\n",
    "    inpainted = inpainted_params[param]\n",
    "    error = params_errors[param]\n",
    "    \n",
    "    print('%s \\t Real value: %.5e \\t inpainted value: %.5e \\t perc. diff.: %.25f' % (param, real, inpainted, error))"
   ]
  },
  {
   "cell_type": "markdown",
   "metadata": {},
   "source": [
    "# Functionize this to output the MAPE of all inpainted images per metric "
   ]
  },
  {
   "cell_type": "code",
   "execution_count": 44,
   "metadata": {},
   "outputs": [],
   "source": [
    "#real_images = []\n",
    "#final_inpainted_images = []\n",
    "\n",
    "reals = []\n",
    "inpainteds = []\n",
    "errors = []\n",
    "for i in range(len(real_images)-1):\n",
    "    aspa_real = real_images[i].detach().cpu()[0, 0, :, :].numpy() # size is 32,32 now\n",
    "    aspa_inpainted = final_inpainted_images[i].detach().cpu()[0, 0, :, :].numpy() # size is 32,32 now\n",
    "\n",
    "    \"\"\"Decode inpainted aspa\"\"\"\n",
    "    inpainted_params_values = [aspa_inpainted[:16, 25+j:26+j] for j in range(len(inpainted_params))]\n",
    "    inpainted_params_mean  = [k.mean() for k in inpainted_params_values]\n",
    "    inpainted_params_mean = inverse_scale_params(inpainted_params_mean)\n",
    "    \n",
    "    for a,param in enumerate(inpainted_params):\n",
    "        if 'mixratio' in param:\n",
    "            inpainted_params[param] = inpainted_params_mean[a] # convert log back to regular scale\n",
    "        else:\n",
    "            inpainted_params[param] = inpainted_params_mean[a]\n",
    "    \n",
    "    \"\"\"Decode real aspa\"\"\"\n",
    "    real_params_values = [aspa_real[:16, 25+b:26+b] for b in range(len(real_params))]\n",
    "    real_params_mean  = [c.mean() for c in real_params_values]\n",
    "    real_params_mean = inverse_scale_params(real_params_mean)\n",
    "    \n",
    "    for d,param in enumerate(real_params):\n",
    "        if 'mixratio' in param:\n",
    "            real_params[param] = real_params_mean[d] # convert log back to regular scale\n",
    "        else:\n",
    "            real_params[param] = real_params_mean[d]\n",
    "\n",
    "    \"\"\"Calculate percentage difference\"\"\"\n",
    "    params_errors = dict.fromkeys(params_errors, 0) # copy dicts' keys, set all values to zero\n",
    "    for param in real_params:\n",
    "        y_hat = real_params[param]\n",
    "        y = inpainted_params[param]\n",
    "        \n",
    "        params_errors[param] = ((y - y_hat) / y_hat)*100\n",
    "\n",
    "    reals.append(real_params.copy()) # !!!!! for some reason dicts need to be copied, to be able to append to a list... otherwise the dicts inside the lists get update too\n",
    "    inpainteds.append(inpainted_params.copy())\n",
    "    errors.append(params_errors.copy())\n"
   ]
  },
  {
   "cell_type": "raw",
   "metadata": {},
   "source": [
    "for error in errors:\n",
    "    print(error)"
   ]
  },
  {
   "cell_type": "markdown",
   "metadata": {},
   "source": [
    "# Create one large df from all the dicts"
   ]
  },
  {
   "cell_type": "code",
   "execution_count": 45,
   "metadata": {},
   "outputs": [
    {
     "name": "stdout",
     "output_type": "stream",
     "text": [
      "{'planet_mass': -4.525184634915599e+19, 'temp_profile': 0.4444718360900879, 'ch4_mixratio': -1.5040785111880304, 'planet_radius': 3.333616256713867, 'h2o_mixratio': -1.5040785111880304, 'co2_mixratio': -2.197225490862131, 'co_mixratio': -1.5040785111880304}\n",
      "{'planet_mass': -4.525184634915599e+19, 'temp_profile': 0.9999871253967285, 'ch4_mixratio': -16.89123134869747, 'planet_radius': 3.333616256713867, 'h2o_mixratio': -0.11778263041317416, 'co2_mixratio': -0.11778263041317416, 'co_mixratio': -0.5877866470676665}\n",
      "{'planet_mass': -4.525184634915599e+19, 'temp_profile': 0.555574893951416, 'ch4_mixratio': -1.5040785111880304, 'planet_radius': -2.5002121925354004, 'h2o_mixratio': -16.89123134869747, 'co2_mixratio': -0.5877866470676665, 'co_mixratio': -0.5877866470676665}\n",
      "{'planet_mass': -4.525184634915599e+19, 'temp_profile': 0.3333091735839844, 'ch4_mixratio': -0.2513140971499688, 'planet_radius': 3.333616256713867, 'h2o_mixratio': -0.2513140971499688, 'co2_mixratio': -0.2513140971499688, 'co_mixratio': -0.11778263041317416}\n",
      "{'planet_mass': -4.525184634915599e+19, 'temp_profile': 0.22220611572265625, 'ch4_mixratio': -1.5040785111880304, 'planet_radius': 3.333616256713867, 'h2o_mixratio': 8.234685644481488e-07, 'co2_mixratio': 8.234685644481488e-07, 'co_mixratio': -1.0986132944101108}\n",
      "{'planet_mass': -4.525184634915599e+19, 'temp_profile': 0.3333091735839844, 'ch4_mixratio': -0.5877866470676665, 'planet_radius': 3.333616256713867, 'h2o_mixratio': -2.197225490862131, 'co2_mixratio': -0.8109296100872747, 'co_mixratio': -2.197225490862131}\n",
      "{'planet_mass': -4.525184634915599e+19, 'temp_profile': 0.3333091735839844, 'ch4_mixratio': -1.5040785111880304, 'planet_radius': -2.5002121925354004, 'h2o_mixratio': -0.5877866470676665, 'co2_mixratio': -0.40546439330935513, 'co_mixratio': -0.11778263041317416}\n",
      "{'planet_mass': -4.525184634915599e+19, 'temp_profile': 0.22220611572265625, 'ch4_mixratio': -16.89123134869747, 'planet_radius': -2.5002121925354004, 'h2o_mixratio': -0.40546439330935513, 'co2_mixratio': -1.5040785111880304, 'co_mixratio': -0.11778263041317416}\n",
      "{'planet_mass': -4.525184634915599e+19, 'temp_profile': 0.22220611572265625, 'ch4_mixratio': -0.2513140971499688, 'planet_radius': -2.5002121925354004, 'h2o_mixratio': -0.2513140971499688, 'co2_mixratio': -2.197225490862131, 'co_mixratio': -0.2513140971499688}\n",
      "{'planet_mass': -4.525184634915599e+19, 'temp_profile': 0.7777810096740723, 'ch4_mixratio': -0.2513140971499688, 'planet_radius': 3.333616256713867, 'h2o_mixratio': -1.0986132944101108, 'co2_mixratio': -1.5040785111880304, 'co_mixratio': -0.8109296100872747}\n",
      "{'planet_mass': -4.525184634915599e+19, 'temp_profile': 0.8888840675354004, 'ch4_mixratio': -0.8109296100872747, 'planet_radius': 3.333616256713867, 'h2o_mixratio': -0.2513140971499688, 'co2_mixratio': -0.40546439330935513, 'co_mixratio': -0.2513140971499688}\n",
      "{'planet_mass': -4.525184634915599e+19, 'temp_profile': 0.6666779518127441, 'ch4_mixratio': -1.0986132944101108, 'planet_radius': 3.333616256713867, 'h2o_mixratio': -16.89123134869747, 'co2_mixratio': -16.89123134869747, 'co_mixratio': -0.5877866470676665}\n",
      "{'planet_mass': -4.525184634915599e+19, 'temp_profile': 0.9999871253967285, 'ch4_mixratio': -2.197225490862131, 'planet_radius': -2.5002121925354004, 'h2o_mixratio': -16.89123134869747, 'co2_mixratio': -0.2513140971499688, 'co_mixratio': -1.0986132944101108}\n",
      "{'planet_mass': -4.525184634915599e+19, 'temp_profile': 0.11110305786132812, 'ch4_mixratio': -0.40546439330935513, 'planet_radius': 3.333616256713867, 'h2o_mixratio': -0.8109296100872747, 'co2_mixratio': -0.5877866470676665, 'co_mixratio': -0.2513140971499688}\n",
      "{'planet_mass': -4.525184634915599e+19, 'temp_profile': 0.8888840675354004, 'ch4_mixratio': -0.40546439330935513, 'planet_radius': -2.5002121925354004, 'h2o_mixratio': -0.40546439330935513, 'co2_mixratio': -16.89123134869747, 'co_mixratio': -2.197225490862131}\n",
      "{'planet_mass': -4.525184634915599e+19, 'temp_profile': 0.6666779518127441, 'ch4_mixratio': -2.197225490862131, 'planet_radius': 3.333616256713867, 'h2o_mixratio': -0.11778263041317416, 'co2_mixratio': -16.89123134869747, 'co_mixratio': -2.197225490862131}\n",
      "{'planet_mass': -4.525184634915599e+19, 'temp_profile': 0.8888840675354004, 'ch4_mixratio': -2.197225490862131, 'planet_radius': 3.333616256713867, 'h2o_mixratio': -0.8109296100872747, 'co2_mixratio': -0.40546439330935513, 'co_mixratio': -0.40546439330935513}\n",
      "{'planet_mass': -4.525184634915599e+19, 'temp_profile': 0.4444718360900879, 'ch4_mixratio': -1.0986132944101108, 'planet_radius': 3.333616256713867, 'h2o_mixratio': -0.11778263041317416, 'co2_mixratio': -16.89123134869747, 'co_mixratio': -16.89123134869747}\n",
      "{'planet_mass': -4.525184634915599e+19, 'temp_profile': 0.4444718360900879, 'ch4_mixratio': -0.11778263041317416, 'planet_radius': 3.333616256713867, 'h2o_mixratio': -0.11778263041317416, 'co2_mixratio': -16.89123134869747, 'co_mixratio': -16.89123134869747}\n",
      "{'planet_mass': -4.525184634915599e+19, 'temp_profile': 0.7777810096740723, 'ch4_mixratio': -1.5040785111880304, 'planet_radius': -2.5002121925354004, 'h2o_mixratio': -0.2513140971499688, 'co2_mixratio': -1.0986132944101108, 'co_mixratio': -16.89123134869747}\n",
      "{'planet_mass': -4.525184634915599e+19, 'temp_profile': 0.7777810096740723, 'ch4_mixratio': -0.11778263041317416, 'planet_radius': 3.333616256713867, 'h2o_mixratio': -1.5040785111880304, 'co2_mixratio': -0.5877866470676665, 'co_mixratio': -2.197225490862131}\n",
      "{'planet_mass': -4.525184634915599e+19, 'temp_profile': 0.8888840675354004, 'ch4_mixratio': 8.234685644481488e-07, 'planet_radius': -2.5002121925354004, 'h2o_mixratio': -0.40546439330935513, 'co2_mixratio': -0.2513140971499688, 'co_mixratio': -1.5040785111880304}\n",
      "{'planet_mass': -4.525184634915599e+19, 'temp_profile': 0.555574893951416, 'ch4_mixratio': -0.40546439330935513, 'planet_radius': 3.333616256713867, 'h2o_mixratio': -0.2513140971499688, 'co2_mixratio': 8.234685644481488e-07, 'co_mixratio': -0.11778263041317416}\n",
      "{'planet_mass': -4.525184634915599e+19, 'temp_profile': 0.555574893951416, 'ch4_mixratio': -0.40546439330935513, 'planet_radius': -2.5002121925354004, 'h2o_mixratio': -1.0986132944101108, 'co2_mixratio': -0.2513140971499688, 'co_mixratio': -0.2513140971499688}\n"
     ]
    }
   ],
   "source": [
    "dfs = []\n",
    "for i in range(len(errors)):\n",
    "    print(reals[i])\n",
    "    df1 = pd.DataFrame(errors[i], index=[0])\n",
    "    df1.columns = [i+'_error' for i in df1.columns]\n",
    "\n",
    "    df2 = pd.DataFrame(reals[i], index=[0])\n",
    "    df2.columns = [i+'_real' for i in df2.columns]\n",
    "\n",
    "    df3 = pd.DataFrame(inpainteds[i], index=[0])\n",
    "    df3.columns = [i+'_inpainted' for i in df3.columns]\n",
    "\n",
    "    df = pd.concat([df1, df2, df3], axis=1)\n",
    "    \n",
    "    dfs.append(df)\n",
    "\n",
    "df = pd.concat(dfs)"
   ]
  },
  {
   "cell_type": "markdown",
   "metadata": {},
   "source": [
    "# Errors of all images"
   ]
  },
  {
   "cell_type": "code",
   "execution_count": 46,
   "metadata": {},
   "outputs": [
    {
     "data": {
      "text/html": [
       "<div>\n",
       "<style scoped>\n",
       "    .dataframe tbody tr th:only-of-type {\n",
       "        vertical-align: middle;\n",
       "    }\n",
       "\n",
       "    .dataframe tbody tr th {\n",
       "        vertical-align: top;\n",
       "    }\n",
       "\n",
       "    .dataframe thead th {\n",
       "        text-align: right;\n",
       "    }\n",
       "</style>\n",
       "<table border=\"1\" class=\"dataframe\">\n",
       "  <thead>\n",
       "    <tr style=\"text-align: right;\">\n",
       "      <th></th>\n",
       "      <th>planet_mass_error</th>\n",
       "      <th>temp_profile_error</th>\n",
       "      <th>ch4_mixratio_error</th>\n",
       "      <th>planet_radius_error</th>\n",
       "      <th>h2o_mixratio_error</th>\n",
       "      <th>co2_mixratio_error</th>\n",
       "      <th>co_mixratio_error</th>\n",
       "      <th>planet_mass_real</th>\n",
       "      <th>temp_profile_real</th>\n",
       "      <th>ch4_mixratio_real</th>\n",
       "      <th>...</th>\n",
       "      <th>h2o_mixratio_real</th>\n",
       "      <th>co2_mixratio_real</th>\n",
       "      <th>co_mixratio_real</th>\n",
       "      <th>planet_mass_inpainted</th>\n",
       "      <th>temp_profile_inpainted</th>\n",
       "      <th>ch4_mixratio_inpainted</th>\n",
       "      <th>planet_radius_inpainted</th>\n",
       "      <th>h2o_mixratio_inpainted</th>\n",
       "      <th>co2_mixratio_inpainted</th>\n",
       "      <th>co_mixratio_inpainted</th>\n",
       "    </tr>\n",
       "  </thead>\n",
       "  <tbody>\n",
       "    <tr>\n",
       "      <th>count</th>\n",
       "      <td>2.400000e+01</td>\n",
       "      <td>2.400000e+01</td>\n",
       "      <td>2.400000e+01</td>\n",
       "      <td>2.400000e+01</td>\n",
       "      <td>2.400000e+01</td>\n",
       "      <td>2.400000e+01</td>\n",
       "      <td>24.000000</td>\n",
       "      <td>2.400000e+01</td>\n",
       "      <td>24.000000</td>\n",
       "      <td>2.400000e+01</td>\n",
       "      <td>...</td>\n",
       "      <td>2.400000e+01</td>\n",
       "      <td>2.400000e+01</td>\n",
       "      <td>24.000000</td>\n",
       "      <td>2.400000e+01</td>\n",
       "      <td>24.000000</td>\n",
       "      <td>24.000000</td>\n",
       "      <td>2.400000e+01</td>\n",
       "      <td>24.000000</td>\n",
       "      <td>24.000000</td>\n",
       "      <td>24.000000</td>\n",
       "    </tr>\n",
       "    <tr>\n",
       "      <th>mean</th>\n",
       "      <td>-5.516291e+09</td>\n",
       "      <td>3.764418e+05</td>\n",
       "      <td>-9.230354e+07</td>\n",
       "      <td>6.096129e+08</td>\n",
       "      <td>-5.267541e+07</td>\n",
       "      <td>-1.408431e+08</td>\n",
       "      <td>1638.229269</td>\n",
       "      <td>-4.525185e+19</td>\n",
       "      <td>0.583333</td>\n",
       "      <td>-2.254243e+00</td>\n",
       "      <td>...</td>\n",
       "      <td>-2.634585e+00</td>\n",
       "      <td>-4.077962e+00</td>\n",
       "      <td>-2.880172</td>\n",
       "      <td>2.496224e+27</td>\n",
       "      <td>1604.254575</td>\n",
       "      <td>-12.120968</td>\n",
       "      <td>7.393450e+07</td>\n",
       "      <td>-11.235532</td>\n",
       "      <td>-13.465870</td>\n",
       "      <td>-7.250310</td>\n",
       "    </tr>\n",
       "    <tr>\n",
       "      <th>std</th>\n",
       "      <td>1.965377e+09</td>\n",
       "      <td>3.130611e+05</td>\n",
       "      <td>4.522041e+08</td>\n",
       "      <td>2.433179e+09</td>\n",
       "      <td>2.580714e+08</td>\n",
       "      <td>4.819498e+08</td>\n",
       "      <td>1992.456471</td>\n",
       "      <td>0.000000e+00</td>\n",
       "      <td>0.272660</td>\n",
       "      <td>4.562394e+00</td>\n",
       "      <td>...</td>\n",
       "      <td>5.531128e+00</td>\n",
       "      <td>6.741483e+00</td>\n",
       "      <td>5.458412</td>\n",
       "      <td>8.893694e+26</td>\n",
       "      <td>346.813545</td>\n",
       "      <td>3.105565</td>\n",
       "      <td>1.238344e+07</td>\n",
       "      <td>1.431957</td>\n",
       "      <td>3.043335</td>\n",
       "      <td>2.456818</td>\n",
       "    </tr>\n",
       "    <tr>\n",
       "      <th>min</th>\n",
       "      <td>-8.975169e+09</td>\n",
       "      <td>1.142848e+05</td>\n",
       "      <td>-2.215336e+09</td>\n",
       "      <td>-2.994785e+09</td>\n",
       "      <td>-1.264283e+09</td>\n",
       "      <td>-1.919545e+09</td>\n",
       "      <td>-65.004754</td>\n",
       "      <td>-4.525185e+19</td>\n",
       "      <td>0.111103</td>\n",
       "      <td>-1.689123e+01</td>\n",
       "      <td>...</td>\n",
       "      <td>-1.689123e+01</td>\n",
       "      <td>-1.689123e+01</td>\n",
       "      <td>-16.891231</td>\n",
       "      <td>1.521314e+27</td>\n",
       "      <td>1016.748581</td>\n",
       "      <td>-18.242598</td>\n",
       "      <td>5.628716e+07</td>\n",
       "      <td>-15.107850</td>\n",
       "      <td>-18.398849</td>\n",
       "      <td>-12.753728</td>\n",
       "    </tr>\n",
       "    <tr>\n",
       "      <th>25%</th>\n",
       "      <td>-7.547833e+09</td>\n",
       "      <td>1.954105e+05</td>\n",
       "      <td>5.374069e+02</td>\n",
       "      <td>-2.278090e+09</td>\n",
       "      <td>6.587923e+02</td>\n",
       "      <td>8.806494e+00</td>\n",
       "      <td>202.118980</td>\n",
       "      <td>-4.525185e+19</td>\n",
       "      <td>0.333309</td>\n",
       "      <td>-1.504079e+00</td>\n",
       "      <td>...</td>\n",
       "      <td>-1.199980e+00</td>\n",
       "      <td>-2.197225e+00</td>\n",
       "      <td>-2.197225</td>\n",
       "      <td>1.690675e+27</td>\n",
       "      <td>1286.614534</td>\n",
       "      <td>-13.751547</td>\n",
       "      <td>6.261276e+07</td>\n",
       "      <td>-11.990794</td>\n",
       "      <td>-15.620110</td>\n",
       "      <td>-8.919097</td>\n",
       "    </tr>\n",
       "    <tr>\n",
       "      <th>50%</th>\n",
       "      <td>-4.853115e+09</td>\n",
       "      <td>2.952729e+05</td>\n",
       "      <td>9.827046e+02</td>\n",
       "      <td>2.235587e+09</td>\n",
       "      <td>1.928579e+03</td>\n",
       "      <td>1.542093e+03</td>\n",
       "      <td>776.144309</td>\n",
       "      <td>-4.525185e+19</td>\n",
       "      <td>0.555575</td>\n",
       "      <td>-9.547715e-01</td>\n",
       "      <td>...</td>\n",
       "      <td>-4.054644e-01</td>\n",
       "      <td>-5.877866e-01</td>\n",
       "      <td>-0.699358</td>\n",
       "      <td>2.196124e+27</td>\n",
       "      <td>1740.613580</td>\n",
       "      <td>-12.088821</td>\n",
       "      <td>7.534521e+07</td>\n",
       "      <td>-10.781504</td>\n",
       "      <td>-13.120663</td>\n",
       "      <td>-6.803041</td>\n",
       "    </tr>\n",
       "    <tr>\n",
       "      <th>75%</th>\n",
       "      <td>-3.736147e+09</td>\n",
       "      <td>4.816510e+05</td>\n",
       "      <td>3.385271e+03</td>\n",
       "      <td>2.443395e+09</td>\n",
       "      <td>4.319032e+03</td>\n",
       "      <td>3.200808e+03</td>\n",
       "      <td>2334.255924</td>\n",
       "      <td>-4.525185e+19</td>\n",
       "      <td>0.805557</td>\n",
       "      <td>-3.669268e-01</td>\n",
       "      <td>...</td>\n",
       "      <td>-2.513141e-01</td>\n",
       "      <td>-2.513141e-01</td>\n",
       "      <td>-0.251314</td>\n",
       "      <td>3.415534e+27</td>\n",
       "      <td>1859.754249</td>\n",
       "      <td>-9.568780</td>\n",
       "      <td>8.145342e+07</td>\n",
       "      <td>-10.332727</td>\n",
       "      <td>-11.431470</td>\n",
       "      <td>-5.563034</td>\n",
       "    </tr>\n",
       "    <tr>\n",
       "      <th>max</th>\n",
       "      <td>-3.361883e+09</td>\n",
       "      <td>1.673124e+06</td>\n",
       "      <td>9.308299e+03</td>\n",
       "      <td>2.829048e+09</td>\n",
       "      <td>9.061909e+03</td>\n",
       "      <td>1.018800e+04</td>\n",
       "      <td>7851.728630</td>\n",
       "      <td>-4.525185e+19</td>\n",
       "      <td>0.999987</td>\n",
       "      <td>8.234686e-07</td>\n",
       "      <td>...</td>\n",
       "      <td>8.234686e-07</td>\n",
       "      <td>8.234686e-07</td>\n",
       "      <td>-0.117783</td>\n",
       "      <td>4.061430e+27</td>\n",
       "      <td>2215.738893</td>\n",
       "      <td>-7.724980</td>\n",
       "      <td>9.430962e+07</td>\n",
       "      <td>-8.909722</td>\n",
       "      <td>-8.313890</td>\n",
       "      <td>-2.810983</td>\n",
       "    </tr>\n",
       "  </tbody>\n",
       "</table>\n",
       "<p>8 rows × 21 columns</p>\n",
       "</div>"
      ],
      "text/plain": [
       "       planet_mass_error  temp_profile_error  ch4_mixratio_error  \\\n",
       "count       2.400000e+01        2.400000e+01        2.400000e+01   \n",
       "mean       -5.516291e+09        3.764418e+05       -9.230354e+07   \n",
       "std         1.965377e+09        3.130611e+05        4.522041e+08   \n",
       "min        -8.975169e+09        1.142848e+05       -2.215336e+09   \n",
       "25%        -7.547833e+09        1.954105e+05        5.374069e+02   \n",
       "50%        -4.853115e+09        2.952729e+05        9.827046e+02   \n",
       "75%        -3.736147e+09        4.816510e+05        3.385271e+03   \n",
       "max        -3.361883e+09        1.673124e+06        9.308299e+03   \n",
       "\n",
       "       planet_radius_error  h2o_mixratio_error  co2_mixratio_error  \\\n",
       "count         2.400000e+01        2.400000e+01        2.400000e+01   \n",
       "mean          6.096129e+08       -5.267541e+07       -1.408431e+08   \n",
       "std           2.433179e+09        2.580714e+08        4.819498e+08   \n",
       "min          -2.994785e+09       -1.264283e+09       -1.919545e+09   \n",
       "25%          -2.278090e+09        6.587923e+02        8.806494e+00   \n",
       "50%           2.235587e+09        1.928579e+03        1.542093e+03   \n",
       "75%           2.443395e+09        4.319032e+03        3.200808e+03   \n",
       "max           2.829048e+09        9.061909e+03        1.018800e+04   \n",
       "\n",
       "       co_mixratio_error  planet_mass_real  temp_profile_real  \\\n",
       "count          24.000000      2.400000e+01          24.000000   \n",
       "mean         1638.229269     -4.525185e+19           0.583333   \n",
       "std          1992.456471      0.000000e+00           0.272660   \n",
       "min           -65.004754     -4.525185e+19           0.111103   \n",
       "25%           202.118980     -4.525185e+19           0.333309   \n",
       "50%           776.144309     -4.525185e+19           0.555575   \n",
       "75%          2334.255924     -4.525185e+19           0.805557   \n",
       "max          7851.728630     -4.525185e+19           0.999987   \n",
       "\n",
       "       ch4_mixratio_real          ...            h2o_mixratio_real  \\\n",
       "count       2.400000e+01          ...                 2.400000e+01   \n",
       "mean       -2.254243e+00          ...                -2.634585e+00   \n",
       "std         4.562394e+00          ...                 5.531128e+00   \n",
       "min        -1.689123e+01          ...                -1.689123e+01   \n",
       "25%        -1.504079e+00          ...                -1.199980e+00   \n",
       "50%        -9.547715e-01          ...                -4.054644e-01   \n",
       "75%        -3.669268e-01          ...                -2.513141e-01   \n",
       "max         8.234686e-07          ...                 8.234686e-07   \n",
       "\n",
       "       co2_mixratio_real  co_mixratio_real  planet_mass_inpainted  \\\n",
       "count       2.400000e+01         24.000000           2.400000e+01   \n",
       "mean       -4.077962e+00         -2.880172           2.496224e+27   \n",
       "std         6.741483e+00          5.458412           8.893694e+26   \n",
       "min        -1.689123e+01        -16.891231           1.521314e+27   \n",
       "25%        -2.197225e+00         -2.197225           1.690675e+27   \n",
       "50%        -5.877866e-01         -0.699358           2.196124e+27   \n",
       "75%        -2.513141e-01         -0.251314           3.415534e+27   \n",
       "max         8.234686e-07         -0.117783           4.061430e+27   \n",
       "\n",
       "       temp_profile_inpainted  ch4_mixratio_inpainted  \\\n",
       "count               24.000000               24.000000   \n",
       "mean              1604.254575              -12.120968   \n",
       "std                346.813545                3.105565   \n",
       "min               1016.748581              -18.242598   \n",
       "25%               1286.614534              -13.751547   \n",
       "50%               1740.613580              -12.088821   \n",
       "75%               1859.754249               -9.568780   \n",
       "max               2215.738893               -7.724980   \n",
       "\n",
       "       planet_radius_inpainted  h2o_mixratio_inpainted  \\\n",
       "count             2.400000e+01               24.000000   \n",
       "mean              7.393450e+07              -11.235532   \n",
       "std               1.238344e+07                1.431957   \n",
       "min               5.628716e+07              -15.107850   \n",
       "25%               6.261276e+07              -11.990794   \n",
       "50%               7.534521e+07              -10.781504   \n",
       "75%               8.145342e+07              -10.332727   \n",
       "max               9.430962e+07               -8.909722   \n",
       "\n",
       "       co2_mixratio_inpainted  co_mixratio_inpainted  \n",
       "count               24.000000              24.000000  \n",
       "mean               -13.465870              -7.250310  \n",
       "std                  3.043335               2.456818  \n",
       "min                -18.398849             -12.753728  \n",
       "25%                -15.620110              -8.919097  \n",
       "50%                -13.120663              -6.803041  \n",
       "75%                -11.431470              -5.563034  \n",
       "max                 -8.313890              -2.810983  \n",
       "\n",
       "[8 rows x 21 columns]"
      ]
     },
     "execution_count": 46,
     "metadata": {},
     "output_type": "execute_result"
    }
   ],
   "source": [
    "df.describe()"
   ]
  },
  {
   "cell_type": "code",
   "execution_count": 47,
   "metadata": {},
   "outputs": [
    {
     "data": {
      "text/html": [
       "<div>\n",
       "<style scoped>\n",
       "    .dataframe tbody tr th:only-of-type {\n",
       "        vertical-align: middle;\n",
       "    }\n",
       "\n",
       "    .dataframe tbody tr th {\n",
       "        vertical-align: top;\n",
       "    }\n",
       "\n",
       "    .dataframe thead th {\n",
       "        text-align: right;\n",
       "    }\n",
       "</style>\n",
       "<table border=\"1\" class=\"dataframe\">\n",
       "  <thead>\n",
       "    <tr style=\"text-align: right;\">\n",
       "      <th></th>\n",
       "      <th>planet_mass_error</th>\n",
       "      <th>temp_profile_error</th>\n",
       "      <th>ch4_mixratio_error</th>\n",
       "      <th>planet_radius_error</th>\n",
       "      <th>h2o_mixratio_error</th>\n",
       "      <th>co2_mixratio_error</th>\n",
       "      <th>co_mixratio_error</th>\n",
       "      <th>planet_mass_real</th>\n",
       "      <th>temp_profile_real</th>\n",
       "      <th>ch4_mixratio_real</th>\n",
       "      <th>...</th>\n",
       "      <th>h2o_mixratio_real</th>\n",
       "      <th>co2_mixratio_real</th>\n",
       "      <th>co_mixratio_real</th>\n",
       "      <th>planet_mass_inpainted</th>\n",
       "      <th>temp_profile_inpainted</th>\n",
       "      <th>ch4_mixratio_inpainted</th>\n",
       "      <th>planet_radius_inpainted</th>\n",
       "      <th>h2o_mixratio_inpainted</th>\n",
       "      <th>co2_mixratio_inpainted</th>\n",
       "      <th>co_mixratio_inpainted</th>\n",
       "    </tr>\n",
       "  </thead>\n",
       "  <tbody>\n",
       "    <tr>\n",
       "      <th>count</th>\n",
       "      <td>2.400000e+01</td>\n",
       "      <td>2.400000e+01</td>\n",
       "      <td>2.400000e+01</td>\n",
       "      <td>2.400000e+01</td>\n",
       "      <td>2.400000e+01</td>\n",
       "      <td>2.400000e+01</td>\n",
       "      <td>24.000000</td>\n",
       "      <td>2.400000e+01</td>\n",
       "      <td>24.000000</td>\n",
       "      <td>2.400000e+01</td>\n",
       "      <td>...</td>\n",
       "      <td>2.400000e+01</td>\n",
       "      <td>2.400000e+01</td>\n",
       "      <td>24.000000</td>\n",
       "      <td>2.400000e+01</td>\n",
       "      <td>24.000000</td>\n",
       "      <td>24.000000</td>\n",
       "      <td>2.400000e+01</td>\n",
       "      <td>24.000000</td>\n",
       "      <td>24.000000</td>\n",
       "      <td>24.000000</td>\n",
       "    </tr>\n",
       "    <tr>\n",
       "      <th>mean</th>\n",
       "      <td>-5.516291e+09</td>\n",
       "      <td>3.764418e+05</td>\n",
       "      <td>-9.230354e+07</td>\n",
       "      <td>6.096129e+08</td>\n",
       "      <td>-5.267541e+07</td>\n",
       "      <td>-1.408431e+08</td>\n",
       "      <td>1638.229269</td>\n",
       "      <td>-4.525185e+19</td>\n",
       "      <td>0.583333</td>\n",
       "      <td>-2.254243e+00</td>\n",
       "      <td>...</td>\n",
       "      <td>-2.634585e+00</td>\n",
       "      <td>-4.077962e+00</td>\n",
       "      <td>-2.880172</td>\n",
       "      <td>2.496224e+27</td>\n",
       "      <td>1604.254575</td>\n",
       "      <td>-12.120968</td>\n",
       "      <td>7.393450e+07</td>\n",
       "      <td>-11.235532</td>\n",
       "      <td>-13.465870</td>\n",
       "      <td>-7.250310</td>\n",
       "    </tr>\n",
       "    <tr>\n",
       "      <th>std</th>\n",
       "      <td>1.965377e+09</td>\n",
       "      <td>3.130611e+05</td>\n",
       "      <td>4.522041e+08</td>\n",
       "      <td>2.433179e+09</td>\n",
       "      <td>2.580714e+08</td>\n",
       "      <td>4.819498e+08</td>\n",
       "      <td>1992.456471</td>\n",
       "      <td>0.000000e+00</td>\n",
       "      <td>0.272660</td>\n",
       "      <td>4.562394e+00</td>\n",
       "      <td>...</td>\n",
       "      <td>5.531128e+00</td>\n",
       "      <td>6.741483e+00</td>\n",
       "      <td>5.458412</td>\n",
       "      <td>8.893694e+26</td>\n",
       "      <td>346.813545</td>\n",
       "      <td>3.105565</td>\n",
       "      <td>1.238344e+07</td>\n",
       "      <td>1.431957</td>\n",
       "      <td>3.043335</td>\n",
       "      <td>2.456818</td>\n",
       "    </tr>\n",
       "    <tr>\n",
       "      <th>min</th>\n",
       "      <td>-8.975169e+09</td>\n",
       "      <td>1.142848e+05</td>\n",
       "      <td>-2.215336e+09</td>\n",
       "      <td>-2.994785e+09</td>\n",
       "      <td>-1.264283e+09</td>\n",
       "      <td>-1.919545e+09</td>\n",
       "      <td>-65.004754</td>\n",
       "      <td>-4.525185e+19</td>\n",
       "      <td>0.111103</td>\n",
       "      <td>-1.689123e+01</td>\n",
       "      <td>...</td>\n",
       "      <td>-1.689123e+01</td>\n",
       "      <td>-1.689123e+01</td>\n",
       "      <td>-16.891231</td>\n",
       "      <td>1.521314e+27</td>\n",
       "      <td>1016.748581</td>\n",
       "      <td>-18.242598</td>\n",
       "      <td>5.628716e+07</td>\n",
       "      <td>-15.107850</td>\n",
       "      <td>-18.398849</td>\n",
       "      <td>-12.753728</td>\n",
       "    </tr>\n",
       "    <tr>\n",
       "      <th>25%</th>\n",
       "      <td>-7.547833e+09</td>\n",
       "      <td>1.954105e+05</td>\n",
       "      <td>5.374069e+02</td>\n",
       "      <td>-2.278090e+09</td>\n",
       "      <td>6.587923e+02</td>\n",
       "      <td>8.806494e+00</td>\n",
       "      <td>202.118980</td>\n",
       "      <td>-4.525185e+19</td>\n",
       "      <td>0.333309</td>\n",
       "      <td>-1.504079e+00</td>\n",
       "      <td>...</td>\n",
       "      <td>-1.199980e+00</td>\n",
       "      <td>-2.197225e+00</td>\n",
       "      <td>-2.197225</td>\n",
       "      <td>1.690675e+27</td>\n",
       "      <td>1286.614534</td>\n",
       "      <td>-13.751547</td>\n",
       "      <td>6.261276e+07</td>\n",
       "      <td>-11.990794</td>\n",
       "      <td>-15.620110</td>\n",
       "      <td>-8.919097</td>\n",
       "    </tr>\n",
       "    <tr>\n",
       "      <th>50%</th>\n",
       "      <td>-4.853115e+09</td>\n",
       "      <td>2.952729e+05</td>\n",
       "      <td>9.827046e+02</td>\n",
       "      <td>2.235587e+09</td>\n",
       "      <td>1.928579e+03</td>\n",
       "      <td>1.542093e+03</td>\n",
       "      <td>776.144309</td>\n",
       "      <td>-4.525185e+19</td>\n",
       "      <td>0.555575</td>\n",
       "      <td>-9.547715e-01</td>\n",
       "      <td>...</td>\n",
       "      <td>-4.054644e-01</td>\n",
       "      <td>-5.877866e-01</td>\n",
       "      <td>-0.699358</td>\n",
       "      <td>2.196124e+27</td>\n",
       "      <td>1740.613580</td>\n",
       "      <td>-12.088821</td>\n",
       "      <td>7.534521e+07</td>\n",
       "      <td>-10.781504</td>\n",
       "      <td>-13.120663</td>\n",
       "      <td>-6.803041</td>\n",
       "    </tr>\n",
       "    <tr>\n",
       "      <th>75%</th>\n",
       "      <td>-3.736147e+09</td>\n",
       "      <td>4.816510e+05</td>\n",
       "      <td>3.385271e+03</td>\n",
       "      <td>2.443395e+09</td>\n",
       "      <td>4.319032e+03</td>\n",
       "      <td>3.200808e+03</td>\n",
       "      <td>2334.255924</td>\n",
       "      <td>-4.525185e+19</td>\n",
       "      <td>0.805557</td>\n",
       "      <td>-3.669268e-01</td>\n",
       "      <td>...</td>\n",
       "      <td>-2.513141e-01</td>\n",
       "      <td>-2.513141e-01</td>\n",
       "      <td>-0.251314</td>\n",
       "      <td>3.415534e+27</td>\n",
       "      <td>1859.754249</td>\n",
       "      <td>-9.568780</td>\n",
       "      <td>8.145342e+07</td>\n",
       "      <td>-10.332727</td>\n",
       "      <td>-11.431470</td>\n",
       "      <td>-5.563034</td>\n",
       "    </tr>\n",
       "    <tr>\n",
       "      <th>max</th>\n",
       "      <td>-3.361883e+09</td>\n",
       "      <td>1.673124e+06</td>\n",
       "      <td>9.308299e+03</td>\n",
       "      <td>2.829048e+09</td>\n",
       "      <td>9.061909e+03</td>\n",
       "      <td>1.018800e+04</td>\n",
       "      <td>7851.728630</td>\n",
       "      <td>-4.525185e+19</td>\n",
       "      <td>0.999987</td>\n",
       "      <td>8.234686e-07</td>\n",
       "      <td>...</td>\n",
       "      <td>8.234686e-07</td>\n",
       "      <td>8.234686e-07</td>\n",
       "      <td>-0.117783</td>\n",
       "      <td>4.061430e+27</td>\n",
       "      <td>2215.738893</td>\n",
       "      <td>-7.724980</td>\n",
       "      <td>9.430962e+07</td>\n",
       "      <td>-8.909722</td>\n",
       "      <td>-8.313890</td>\n",
       "      <td>-2.810983</td>\n",
       "    </tr>\n",
       "  </tbody>\n",
       "</table>\n",
       "<p>8 rows × 21 columns</p>\n",
       "</div>"
      ],
      "text/plain": [
       "       planet_mass_error  temp_profile_error  ch4_mixratio_error  \\\n",
       "count       2.400000e+01        2.400000e+01        2.400000e+01   \n",
       "mean       -5.516291e+09        3.764418e+05       -9.230354e+07   \n",
       "std         1.965377e+09        3.130611e+05        4.522041e+08   \n",
       "min        -8.975169e+09        1.142848e+05       -2.215336e+09   \n",
       "25%        -7.547833e+09        1.954105e+05        5.374069e+02   \n",
       "50%        -4.853115e+09        2.952729e+05        9.827046e+02   \n",
       "75%        -3.736147e+09        4.816510e+05        3.385271e+03   \n",
       "max        -3.361883e+09        1.673124e+06        9.308299e+03   \n",
       "\n",
       "       planet_radius_error  h2o_mixratio_error  co2_mixratio_error  \\\n",
       "count         2.400000e+01        2.400000e+01        2.400000e+01   \n",
       "mean          6.096129e+08       -5.267541e+07       -1.408431e+08   \n",
       "std           2.433179e+09        2.580714e+08        4.819498e+08   \n",
       "min          -2.994785e+09       -1.264283e+09       -1.919545e+09   \n",
       "25%          -2.278090e+09        6.587923e+02        8.806494e+00   \n",
       "50%           2.235587e+09        1.928579e+03        1.542093e+03   \n",
       "75%           2.443395e+09        4.319032e+03        3.200808e+03   \n",
       "max           2.829048e+09        9.061909e+03        1.018800e+04   \n",
       "\n",
       "       co_mixratio_error  planet_mass_real  temp_profile_real  \\\n",
       "count          24.000000      2.400000e+01          24.000000   \n",
       "mean         1638.229269     -4.525185e+19           0.583333   \n",
       "std          1992.456471      0.000000e+00           0.272660   \n",
       "min           -65.004754     -4.525185e+19           0.111103   \n",
       "25%           202.118980     -4.525185e+19           0.333309   \n",
       "50%           776.144309     -4.525185e+19           0.555575   \n",
       "75%          2334.255924     -4.525185e+19           0.805557   \n",
       "max          7851.728630     -4.525185e+19           0.999987   \n",
       "\n",
       "       ch4_mixratio_real          ...            h2o_mixratio_real  \\\n",
       "count       2.400000e+01          ...                 2.400000e+01   \n",
       "mean       -2.254243e+00          ...                -2.634585e+00   \n",
       "std         4.562394e+00          ...                 5.531128e+00   \n",
       "min        -1.689123e+01          ...                -1.689123e+01   \n",
       "25%        -1.504079e+00          ...                -1.199980e+00   \n",
       "50%        -9.547715e-01          ...                -4.054644e-01   \n",
       "75%        -3.669268e-01          ...                -2.513141e-01   \n",
       "max         8.234686e-07          ...                 8.234686e-07   \n",
       "\n",
       "       co2_mixratio_real  co_mixratio_real  planet_mass_inpainted  \\\n",
       "count       2.400000e+01         24.000000           2.400000e+01   \n",
       "mean       -4.077962e+00         -2.880172           2.496224e+27   \n",
       "std         6.741483e+00          5.458412           8.893694e+26   \n",
       "min        -1.689123e+01        -16.891231           1.521314e+27   \n",
       "25%        -2.197225e+00         -2.197225           1.690675e+27   \n",
       "50%        -5.877866e-01         -0.699358           2.196124e+27   \n",
       "75%        -2.513141e-01         -0.251314           3.415534e+27   \n",
       "max         8.234686e-07         -0.117783           4.061430e+27   \n",
       "\n",
       "       temp_profile_inpainted  ch4_mixratio_inpainted  \\\n",
       "count               24.000000               24.000000   \n",
       "mean              1604.254575              -12.120968   \n",
       "std                346.813545                3.105565   \n",
       "min               1016.748581              -18.242598   \n",
       "25%               1286.614534              -13.751547   \n",
       "50%               1740.613580              -12.088821   \n",
       "75%               1859.754249               -9.568780   \n",
       "max               2215.738893               -7.724980   \n",
       "\n",
       "       planet_radius_inpainted  h2o_mixratio_inpainted  \\\n",
       "count             2.400000e+01               24.000000   \n",
       "mean              7.393450e+07              -11.235532   \n",
       "std               1.238344e+07                1.431957   \n",
       "min               5.628716e+07              -15.107850   \n",
       "25%               6.261276e+07              -11.990794   \n",
       "50%               7.534521e+07              -10.781504   \n",
       "75%               8.145342e+07              -10.332727   \n",
       "max               9.430962e+07               -8.909722   \n",
       "\n",
       "       co2_mixratio_inpainted  co_mixratio_inpainted  \n",
       "count               24.000000              24.000000  \n",
       "mean               -13.465870              -7.250310  \n",
       "std                  3.043335               2.456818  \n",
       "min                -18.398849             -12.753728  \n",
       "25%                -15.620110              -8.919097  \n",
       "50%                -13.120663              -6.803041  \n",
       "75%                -11.431470              -5.563034  \n",
       "max                 -8.313890              -2.810983  \n",
       "\n",
       "[8 rows x 21 columns]"
      ]
     },
     "execution_count": 47,
     "metadata": {},
     "output_type": "execute_result"
    }
   ],
   "source": [
    "df.describe()"
   ]
  },
  {
   "cell_type": "code",
   "execution_count": 48,
   "metadata": {},
   "outputs": [
    {
     "name": "stdout",
     "output_type": "stream",
     "text": [
      "ch4_mixratio\n"
     ]
    }
   ],
   "source": [
    "params = [param for param in real_params.keys()]\n",
    "param = params[2]\n",
    "print(param)"
   ]
  },
  {
   "cell_type": "code",
   "execution_count": 49,
   "metadata": {},
   "outputs": [
    {
     "data": {
      "image/png": "[encoded data removed]",
      "text/plain": [
       "<Figure size 432x288 with 1 Axes>"
      ]
     },
     "metadata": {},
     "output_type": "display_data"
    }
   ],
   "source": [
    "x = df[param+'_real']\n",
    "y = df[param+'_inpainted']\n",
    "\n",
    "plt.plot(x, y, '.')\n",
    "plt.xlabel('real')\n",
    "plt.ylabel('inpainted')\n",
    "plt.grid()"
   ]
  },
  {
   "cell_type": "code",
   "execution_count": 50,
   "metadata": {},
   "outputs": [
    {
     "data": {
      "text/plain": [
       "0   -1.504079e+00\n",
       "0   -1.689123e+01\n",
       "0   -1.504079e+00\n",
       "0   -2.513141e-01\n",
       "0   -1.504079e+00\n",
       "0   -5.877866e-01\n",
       "0   -1.504079e+00\n",
       "0   -1.689123e+01\n",
       "0   -2.513141e-01\n",
       "0   -2.513141e-01\n",
       "0   -8.109296e-01\n",
       "0   -1.098613e+00\n",
       "0   -2.197225e+00\n",
       "0   -4.054644e-01\n",
       "0   -4.054644e-01\n",
       "0   -2.197225e+00\n",
       "0   -2.197225e+00\n",
       "0   -1.098613e+00\n",
       "0   -1.177826e-01\n",
       "0   -1.504079e+00\n",
       "0   -1.177826e-01\n",
       "0    8.234686e-07\n",
       "0   -4.054644e-01\n",
       "0   -4.054644e-01\n",
       "Name: ch4_mixratio_real, dtype: float64"
      ]
     },
     "execution_count": 50,
     "metadata": {},
     "output_type": "execute_result"
    }
   ],
   "source": [
    "x"
   ]
  },
  {
   "cell_type": "code",
   "execution_count": 51,
   "metadata": {},
   "outputs": [
    {
     "data": {
      "text/plain": [
       "0   -11.352802\n",
       "0   -12.868707\n",
       "0   -14.220632\n",
       "0   -11.440366\n",
       "0   -12.395794\n",
       "0   -12.236763\n",
       "0   -12.806760\n",
       "0   -10.555349\n",
       "0    -9.584540\n",
       "0    -8.483790\n",
       "0   -13.672753\n",
       "0   -13.402400\n",
       "0   -14.011047\n",
       "0   -11.940879\n",
       "0    -9.521497\n",
       "0    -9.022026\n",
       "0   -13.987929\n",
       "0    -7.809144\n",
       "0    -8.170580\n",
       "0    -7.724980\n",
       "0   -11.081342\n",
       "0   -18.242598\n",
       "0   -18.198891\n",
       "0   -18.171654\n",
       "Name: ch4_mixratio_inpainted, dtype: float64"
      ]
     },
     "execution_count": 51,
     "metadata": {},
     "output_type": "execute_result"
    }
   ],
   "source": [
    "y"
   ]
  },
  {
   "cell_type": "code",
   "execution_count": 52,
   "metadata": {},
   "outputs": [
    {
     "data": {
      "text/plain": [
       "(array([ 1.,  0.,  0.,  0.,  0.,  0.,  0.,  0.,  0., 23.]),\n",
       " array([-2.21533636e+09, -1.99380179e+09, -1.77226723e+09, -1.55073266e+09,\n",
       "        -1.32919809e+09, -1.10766353e+09, -8.86128959e+08, -6.64594392e+08,\n",
       "        -4.43059826e+08, -2.21525259e+08,  9.30829876e+03]),\n",
       " <a list of 10 Patch objects>)"
      ]
     },
     "execution_count": 52,
     "metadata": {},
     "output_type": "execute_result"
    },
    {
     "data": {
      "image/png": "[encoded data removed]",
      "text/plain": [
       "<Figure size 432x288 with 1 Axes>"
      ]
     },
     "metadata": {},
     "output_type": "display_data"
    }
   ],
   "source": [
    "plt.hist(df[param+'_error'])"
   ]
  },
  {
   "cell_type": "code",
   "execution_count": 53,
   "metadata": {},
   "outputs": [
    {
     "name": "stdout",
     "output_type": "stream",
     "text": [
      "saved\n"
     ]
    },
    {
     "data": {
      "image/png": "[encoded data removed]",
      "text/plain": [
       "<Figure size 1800x720 with 7 Axes>"
      ]
     },
     "metadata": {},
     "output_type": "display_data"
    }
   ],
   "source": [
    "plt.figure(figsize=((25,10)))\n",
    "for i,param in enumerate(params):\n",
    "    plt.subplot(3,3,i+1)\n",
    "    plt.title(param+'_error')\n",
    "    plt.hist(df[param+'_error'], bins=20)\n",
    "    plt.grid()\n",
    "    plt.tight_layout()\n",
    "\n",
    "plt.savefig('plots//Validation error hist of '+str(len(images))+' images.png', dpi=1200)\n",
    "print('saved')"
   ]
  },
  {
   "cell_type": "raw",
   "metadata": {},
   "source": [
    "plt.figure(figsize=((25,10)))\n",
    "for i,param in enumerate(params):\n",
    "    x = df[param+'_error']\n",
    "    y = df[param+'_real']\n",
    "    \n",
    "    plt.subplot(3,3,i+1)\n",
    "\n",
    "    plt.plot(x, y, '.')\n",
    "    plt.tight_layout()"
   ]
  },
  {
   "cell_type": "code",
   "execution_count": 54,
   "metadata": {},
   "outputs": [],
   "source": [
    "df.to_csv('Validation error of '+str(len(images))+' images')"
   ]
  },
  {
   "cell_type": "code",
   "execution_count": 55,
   "metadata": {},
   "outputs": [
    {
     "data": {
      "text/html": [
       "<div>\n",
       "<style scoped>\n",
       "    .dataframe tbody tr th:only-of-type {\n",
       "        vertical-align: middle;\n",
       "    }\n",
       "\n",
       "    .dataframe tbody tr th {\n",
       "        vertical-align: top;\n",
       "    }\n",
       "\n",
       "    .dataframe thead th {\n",
       "        text-align: right;\n",
       "    }\n",
       "</style>\n",
       "<table border=\"1\" class=\"dataframe\">\n",
       "  <thead>\n",
       "    <tr style=\"text-align: right;\">\n",
       "      <th></th>\n",
       "      <th>planet_mass_error</th>\n",
       "      <th>temp_profile_error</th>\n",
       "      <th>ch4_mixratio_error</th>\n",
       "      <th>planet_radius_error</th>\n",
       "      <th>h2o_mixratio_error</th>\n",
       "      <th>co2_mixratio_error</th>\n",
       "      <th>co_mixratio_error</th>\n",
       "      <th>planet_mass_real</th>\n",
       "      <th>temp_profile_real</th>\n",
       "      <th>ch4_mixratio_real</th>\n",
       "      <th>...</th>\n",
       "      <th>h2o_mixratio_real</th>\n",
       "      <th>co2_mixratio_real</th>\n",
       "      <th>co_mixratio_real</th>\n",
       "      <th>planet_mass_inpainted</th>\n",
       "      <th>temp_profile_inpainted</th>\n",
       "      <th>ch4_mixratio_inpainted</th>\n",
       "      <th>planet_radius_inpainted</th>\n",
       "      <th>h2o_mixratio_inpainted</th>\n",
       "      <th>co2_mixratio_inpainted</th>\n",
       "      <th>co_mixratio_inpainted</th>\n",
       "    </tr>\n",
       "  </thead>\n",
       "  <tbody>\n",
       "    <tr>\n",
       "      <th>0</th>\n",
       "      <td>-5.221998e+09</td>\n",
       "      <td>355066.380582</td>\n",
       "      <td>654.801181</td>\n",
       "      <td>2.442644e+09</td>\n",
       "      <td>5.512385e+02</td>\n",
       "      <td>3.495946e+02</td>\n",
       "      <td>483.095285</td>\n",
       "      <td>-4.525185e+19</td>\n",
       "      <td>0.444472</td>\n",
       "      <td>-1.504079</td>\n",
       "      <td>...</td>\n",
       "      <td>-1.504079e+00</td>\n",
       "      <td>-2.197225e+00</td>\n",
       "      <td>-1.504079</td>\n",
       "      <td>2.363050e+27</td>\n",
       "      <td>1578.614533</td>\n",
       "      <td>-11.352802</td>\n",
       "      <td>8.142839e+07</td>\n",
       "      <td>-9.795138</td>\n",
       "      <td>-9.878607</td>\n",
       "      <td>-8.770211</td>\n",
       "    </tr>\n",
       "    <tr>\n",
       "      <th>0</th>\n",
       "      <td>-4.245393e+09</td>\n",
       "      <td>188675.502176</td>\n",
       "      <td>-23.814275</td>\n",
       "      <td>2.196934e+09</td>\n",
       "      <td>8.960989e+03</td>\n",
       "      <td>1.018800e+04</td>\n",
       "      <td>767.246230</td>\n",
       "      <td>-4.525185e+19</td>\n",
       "      <td>0.999987</td>\n",
       "      <td>-16.891231</td>\n",
       "      <td>...</td>\n",
       "      <td>-1.177826e-01</td>\n",
       "      <td>-1.177826e-01</td>\n",
       "      <td>-0.587787</td>\n",
       "      <td>1.921119e+27</td>\n",
       "      <td>1887.730718</td>\n",
       "      <td>-12.868707</td>\n",
       "      <td>7.323735e+07</td>\n",
       "      <td>-10.672271</td>\n",
       "      <td>-12.117483</td>\n",
       "      <td>-5.097558</td>\n",
       "    </tr>\n",
       "    <tr>\n",
       "      <th>0</th>\n",
       "      <td>-3.677534e+09</td>\n",
       "      <td>341373.833280</td>\n",
       "      <td>845.471360</td>\n",
       "      <td>-2.290941e+09</td>\n",
       "      <td>-3.027323e+01</td>\n",
       "      <td>2.136084e+03</td>\n",
       "      <td>1141.385559</td>\n",
       "      <td>-4.525185e+19</td>\n",
       "      <td>0.555575</td>\n",
       "      <td>-1.504079</td>\n",
       "      <td>...</td>\n",
       "      <td>-1.689123e+01</td>\n",
       "      <td>-5.877866e-01</td>\n",
       "      <td>-0.587787</td>\n",
       "      <td>1.664152e+27</td>\n",
       "      <td>1897.142887</td>\n",
       "      <td>-14.220632</td>\n",
       "      <td>5.727838e+07</td>\n",
       "      <td>-11.777710</td>\n",
       "      <td>-13.143401</td>\n",
       "      <td>-7.296699</td>\n",
       "    </tr>\n",
       "    <tr>\n",
       "      <th>0</th>\n",
       "      <td>-3.983085e+09</td>\n",
       "      <td>558542.775393</td>\n",
       "      <td>4452.218020</td>\n",
       "      <td>2.293540e+09</td>\n",
       "      <td>3.798882e+03</td>\n",
       "      <td>4.528108e+03</td>\n",
       "      <td>3756.684503</td>\n",
       "      <td>-4.525185e+19</td>\n",
       "      <td>0.333309</td>\n",
       "      <td>-0.251314</td>\n",
       "      <td>...</td>\n",
       "      <td>-2.513141e-01</td>\n",
       "      <td>-2.513141e-01</td>\n",
       "      <td>-0.117783</td>\n",
       "      <td>1.802420e+27</td>\n",
       "      <td>1862.007618</td>\n",
       "      <td>-11.440366</td>\n",
       "      <td>7.645781e+07</td>\n",
       "      <td>-9.798439</td>\n",
       "      <td>-11.631087</td>\n",
       "      <td>-4.542504</td>\n",
       "    </tr>\n",
       "    <tr>\n",
       "      <th>0</th>\n",
       "      <td>-8.975169e+09</td>\n",
       "      <td>584851.596030</td>\n",
       "      <td>724.145413</td>\n",
       "      <td>2.829048e+09</td>\n",
       "      <td>-1.264283e+09</td>\n",
       "      <td>-1.460743e+09</td>\n",
       "      <td>155.866462</td>\n",
       "      <td>-4.525185e+19</td>\n",
       "      <td>0.222206</td>\n",
       "      <td>-1.504079</td>\n",
       "      <td>...</td>\n",
       "      <td>8.234686e-07</td>\n",
       "      <td>8.234686e-07</td>\n",
       "      <td>-1.098613</td>\n",
       "      <td>4.061430e+27</td>\n",
       "      <td>1299.798220</td>\n",
       "      <td>-12.395794</td>\n",
       "      <td>9.430962e+07</td>\n",
       "      <td>-10.410974</td>\n",
       "      <td>-12.028760</td>\n",
       "      <td>-2.810983</td>\n",
       "    </tr>\n",
       "  </tbody>\n",
       "</table>\n",
       "<p>5 rows × 21 columns</p>\n",
       "</div>"
      ],
      "text/plain": [
       "   planet_mass_error  temp_profile_error  ch4_mixratio_error  \\\n",
       "0      -5.221998e+09       355066.380582          654.801181   \n",
       "0      -4.245393e+09       188675.502176          -23.814275   \n",
       "0      -3.677534e+09       341373.833280          845.471360   \n",
       "0      -3.983085e+09       558542.775393         4452.218020   \n",
       "0      -8.975169e+09       584851.596030          724.145413   \n",
       "\n",
       "   planet_radius_error  h2o_mixratio_error  co2_mixratio_error  \\\n",
       "0         2.442644e+09        5.512385e+02        3.495946e+02   \n",
       "0         2.196934e+09        8.960989e+03        1.018800e+04   \n",
       "0        -2.290941e+09       -3.027323e+01        2.136084e+03   \n",
       "0         2.293540e+09        3.798882e+03        4.528108e+03   \n",
       "0         2.829048e+09       -1.264283e+09       -1.460743e+09   \n",
       "\n",
       "   co_mixratio_error  planet_mass_real  temp_profile_real  ch4_mixratio_real  \\\n",
       "0         483.095285     -4.525185e+19           0.444472          -1.504079   \n",
       "0         767.246230     -4.525185e+19           0.999987         -16.891231   \n",
       "0        1141.385559     -4.525185e+19           0.555575          -1.504079   \n",
       "0        3756.684503     -4.525185e+19           0.333309          -0.251314   \n",
       "0         155.866462     -4.525185e+19           0.222206          -1.504079   \n",
       "\n",
       "           ...            h2o_mixratio_real  co2_mixratio_real  \\\n",
       "0          ...                -1.504079e+00      -2.197225e+00   \n",
       "0          ...                -1.177826e-01      -1.177826e-01   \n",
       "0          ...                -1.689123e+01      -5.877866e-01   \n",
       "0          ...                -2.513141e-01      -2.513141e-01   \n",
       "0          ...                 8.234686e-07       8.234686e-07   \n",
       "\n",
       "   co_mixratio_real  planet_mass_inpainted  temp_profile_inpainted  \\\n",
       "0         -1.504079           2.363050e+27             1578.614533   \n",
       "0         -0.587787           1.921119e+27             1887.730718   \n",
       "0         -0.587787           1.664152e+27             1897.142887   \n",
       "0         -0.117783           1.802420e+27             1862.007618   \n",
       "0         -1.098613           4.061430e+27             1299.798220   \n",
       "\n",
       "   ch4_mixratio_inpainted  planet_radius_inpainted  h2o_mixratio_inpainted  \\\n",
       "0              -11.352802             8.142839e+07               -9.795138   \n",
       "0              -12.868707             7.323735e+07              -10.672271   \n",
       "0              -14.220632             5.727838e+07              -11.777710   \n",
       "0              -11.440366             7.645781e+07               -9.798439   \n",
       "0              -12.395794             9.430962e+07              -10.410974   \n",
       "\n",
       "   co2_mixratio_inpainted  co_mixratio_inpainted  \n",
       "0               -9.878607              -8.770211  \n",
       "0              -12.117483              -5.097558  \n",
       "0              -13.143401              -7.296699  \n",
       "0              -11.631087              -4.542504  \n",
       "0              -12.028760              -2.810983  \n",
       "\n",
       "[5 rows x 21 columns]"
      ]
     },
     "execution_count": 55,
     "metadata": {},
     "output_type": "execute_result"
    }
   ],
   "source": [
    "df.head()"
   ]
  },
  {
   "cell_type": "code",
   "execution_count": 56,
   "metadata": {},
   "outputs": [
    {
     "name": "stdout",
     "output_type": "stream",
     "text": [
      "DONE\n"
     ]
    }
   ],
   "source": [
    "print('DONE')"
   ]
  },
  {
   "cell_type": "code",
   "execution_count": 57,
   "metadata": {},
   "outputs": [
    {
     "data": {
      "text/html": [
       "<div>\n",
       "<style scoped>\n",
       "    .dataframe tbody tr th:only-of-type {\n",
       "        vertical-align: middle;\n",
       "    }\n",
       "\n",
       "    .dataframe tbody tr th {\n",
       "        vertical-align: top;\n",
       "    }\n",
       "\n",
       "    .dataframe thead th {\n",
       "        text-align: right;\n",
       "    }\n",
       "</style>\n",
       "<table border=\"1\" class=\"dataframe\">\n",
       "  <thead>\n",
       "    <tr style=\"text-align: right;\">\n",
       "      <th></th>\n",
       "      <th>ch4_mixratio_real</th>\n",
       "      <th>ch4_mixratio_inpainted</th>\n",
       "    </tr>\n",
       "  </thead>\n",
       "  <tbody>\n",
       "    <tr>\n",
       "      <th>0</th>\n",
       "      <td>-1.504079e+00</td>\n",
       "      <td>-11.352802</td>\n",
       "    </tr>\n",
       "    <tr>\n",
       "      <th>0</th>\n",
       "      <td>-1.689123e+01</td>\n",
       "      <td>-12.868707</td>\n",
       "    </tr>\n",
       "    <tr>\n",
       "      <th>0</th>\n",
       "      <td>-1.504079e+00</td>\n",
       "      <td>-14.220632</td>\n",
       "    </tr>\n",
       "    <tr>\n",
       "      <th>0</th>\n",
       "      <td>-2.513141e-01</td>\n",
       "      <td>-11.440366</td>\n",
       "    </tr>\n",
       "    <tr>\n",
       "      <th>0</th>\n",
       "      <td>-1.504079e+00</td>\n",
       "      <td>-12.395794</td>\n",
       "    </tr>\n",
       "    <tr>\n",
       "      <th>0</th>\n",
       "      <td>-5.877866e-01</td>\n",
       "      <td>-12.236763</td>\n",
       "    </tr>\n",
       "    <tr>\n",
       "      <th>0</th>\n",
       "      <td>-1.504079e+00</td>\n",
       "      <td>-12.806760</td>\n",
       "    </tr>\n",
       "    <tr>\n",
       "      <th>0</th>\n",
       "      <td>-1.689123e+01</td>\n",
       "      <td>-10.555349</td>\n",
       "    </tr>\n",
       "    <tr>\n",
       "      <th>0</th>\n",
       "      <td>-2.513141e-01</td>\n",
       "      <td>-9.584540</td>\n",
       "    </tr>\n",
       "    <tr>\n",
       "      <th>0</th>\n",
       "      <td>-2.513141e-01</td>\n",
       "      <td>-8.483790</td>\n",
       "    </tr>\n",
       "    <tr>\n",
       "      <th>0</th>\n",
       "      <td>-8.109296e-01</td>\n",
       "      <td>-13.672753</td>\n",
       "    </tr>\n",
       "    <tr>\n",
       "      <th>0</th>\n",
       "      <td>-1.098613e+00</td>\n",
       "      <td>-13.402400</td>\n",
       "    </tr>\n",
       "    <tr>\n",
       "      <th>0</th>\n",
       "      <td>-2.197225e+00</td>\n",
       "      <td>-14.011047</td>\n",
       "    </tr>\n",
       "    <tr>\n",
       "      <th>0</th>\n",
       "      <td>-4.054644e-01</td>\n",
       "      <td>-11.940879</td>\n",
       "    </tr>\n",
       "    <tr>\n",
       "      <th>0</th>\n",
       "      <td>-4.054644e-01</td>\n",
       "      <td>-9.521497</td>\n",
       "    </tr>\n",
       "    <tr>\n",
       "      <th>0</th>\n",
       "      <td>-2.197225e+00</td>\n",
       "      <td>-9.022026</td>\n",
       "    </tr>\n",
       "    <tr>\n",
       "      <th>0</th>\n",
       "      <td>-2.197225e+00</td>\n",
       "      <td>-13.987929</td>\n",
       "    </tr>\n",
       "    <tr>\n",
       "      <th>0</th>\n",
       "      <td>-1.098613e+00</td>\n",
       "      <td>-7.809144</td>\n",
       "    </tr>\n",
       "    <tr>\n",
       "      <th>0</th>\n",
       "      <td>-1.177826e-01</td>\n",
       "      <td>-8.170580</td>\n",
       "    </tr>\n",
       "    <tr>\n",
       "      <th>0</th>\n",
       "      <td>-1.504079e+00</td>\n",
       "      <td>-7.724980</td>\n",
       "    </tr>\n",
       "    <tr>\n",
       "      <th>0</th>\n",
       "      <td>-1.177826e-01</td>\n",
       "      <td>-11.081342</td>\n",
       "    </tr>\n",
       "    <tr>\n",
       "      <th>0</th>\n",
       "      <td>8.234686e-07</td>\n",
       "      <td>-18.242598</td>\n",
       "    </tr>\n",
       "    <tr>\n",
       "      <th>0</th>\n",
       "      <td>-4.054644e-01</td>\n",
       "      <td>-18.198891</td>\n",
       "    </tr>\n",
       "    <tr>\n",
       "      <th>0</th>\n",
       "      <td>-4.054644e-01</td>\n",
       "      <td>-18.171654</td>\n",
       "    </tr>\n",
       "  </tbody>\n",
       "</table>\n",
       "</div>"
      ],
      "text/plain": [
       "   ch4_mixratio_real  ch4_mixratio_inpainted\n",
       "0      -1.504079e+00              -11.352802\n",
       "0      -1.689123e+01              -12.868707\n",
       "0      -1.504079e+00              -14.220632\n",
       "0      -2.513141e-01              -11.440366\n",
       "0      -1.504079e+00              -12.395794\n",
       "0      -5.877866e-01              -12.236763\n",
       "0      -1.504079e+00              -12.806760\n",
       "0      -1.689123e+01              -10.555349\n",
       "0      -2.513141e-01               -9.584540\n",
       "0      -2.513141e-01               -8.483790\n",
       "0      -8.109296e-01              -13.672753\n",
       "0      -1.098613e+00              -13.402400\n",
       "0      -2.197225e+00              -14.011047\n",
       "0      -4.054644e-01              -11.940879\n",
       "0      -4.054644e-01               -9.521497\n",
       "0      -2.197225e+00               -9.022026\n",
       "0      -2.197225e+00              -13.987929\n",
       "0      -1.098613e+00               -7.809144\n",
       "0      -1.177826e-01               -8.170580\n",
       "0      -1.504079e+00               -7.724980\n",
       "0      -1.177826e-01              -11.081342\n",
       "0       8.234686e-07              -18.242598\n",
       "0      -4.054644e-01              -18.198891\n",
       "0      -4.054644e-01              -18.171654"
      ]
     },
     "execution_count": 57,
     "metadata": {},
     "output_type": "execute_result"
    }
   ],
   "source": [
    "param = params[2]\n",
    "df[[param+'_real', param+'_inpainted']]"
   ]
  },
  {
   "cell_type": "code",
   "execution_count": 58,
   "metadata": {},
   "outputs": [
    {
     "name": "stdout",
     "output_type": "stream",
     "text": [
      "Done\n"
     ]
    }
   ],
   "source": [
    "print('Done')"
   ]
  },
  {
   "cell_type": "code",
   "execution_count": 59,
   "metadata": {},
   "outputs": [
    {
     "name": "stdout",
     "output_type": "stream",
     "text": [
      "Done\n"
     ]
    }
   ],
   "source": [
    "print('Done')"
   ]
  },
  {
   "cell_type": "code",
   "execution_count": 60,
   "metadata": {},
   "outputs": [
    {
     "name": "stdout",
     "output_type": "stream",
     "text": [
      "done\n"
     ]
    }
   ],
   "source": [
    "print('done')"
   ]
  },
  {
   "cell_type": "code",
   "execution_count": 61,
   "metadata": {},
   "outputs": [
    {
     "data": {
      "text/plain": [
       "(16327.285714285714, 6093.97040909609)"
      ]
     },
     "execution_count": 61,
     "metadata": {},
     "output_type": "execute_result"
    },
    {
     "data": {
      "image/png": "[encoded data removed]",
      "text/plain": [
       "<Figure size 432x288 with 1 Axes>"
      ]
     },
     "metadata": {},
     "output_type": "display_data"
    }
   ],
   "source": [
    "its = np.array(n_iteration)\n",
    "plt.hist(its)\n",
    "plt.grid()\n",
    "\n",
    "its.mean(), its.std()"
   ]
  },
  {
   "cell_type": "code",
   "execution_count": null,
   "metadata": {},
   "outputs": [],
   "source": []
  }
 ],
 "metadata": {
  "kernelspec": {
   "display_name": "Python 3",
   "language": "python",
   "name": "python3"
  },
  "language_info": {
   "codemirror_mode": {
    "name": "ipython",
    "version": 3
   },
   "file_extension": ".py",
   "mimetype": "text/x-python",
   "name": "python",
   "nbconvert_exporter": "python",
   "pygments_lexer": "ipython3",
   "version": "3.6.8"
  }
 },
 "nbformat": 4,
 "nbformat_minor": 2
}
