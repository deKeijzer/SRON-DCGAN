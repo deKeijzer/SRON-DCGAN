{
 "cells": [
  {
   "cell_type": "code",
   "execution_count": 1,
   "metadata": {},
   "outputs": [],
   "source": [
    "# Imports\n",
    "import random\n",
    "import sys\n",
    "import numpy as np\n",
    "import time\n",
    "import matplotlib.pyplot as plt\n",
    "import seaborn as sns\n",
    "\n",
    "import torch.nn as nn\n",
    "import torch.optim as optim\n",
    "import torchvision.utils as vutils\n",
    "import matplotlib.animation as animation\n",
    "from IPython.display import HTML\n",
    "\n",
    "import model\n",
    "from keijzer_exogan import *\n",
    "\n",
    "# initialize random seeds\n",
    "manualSeed = 999\n",
    "random.seed(manualSeed)\n",
    "torch.manual_seed(manualSeed)\n",
    "\n",
    "%matplotlib inline\n",
    "%config InlineBackend.print_figure_kwargs={'facecolor' : \"w\"} # Make sure the axis background of plots is white, this is usefull for the black theme in JupyterLab\n",
    "# Initialize default seaborn layout\n",
    "sns.set_palette(sns.hls_palette(8, l=.3, s=.8))\n",
    "sns.set(style='ticks')\n",
    "\n",
    "\n",
    "\"\"\"\n",
    "Local variables\n",
    "\"\"\"\n",
    "workers = 0 # Number of workers for dataloader, 0 when to_vram is enabled\n",
    "batch_size = 1 # using one image ofcourse\n",
    "image_size = 32\n",
    "nz = 100 # size of latent vector\n",
    "n_iters = 25*10**3 # number of iterations to do for inpainting\n",
    "torch.backends.cudnn.benchmark=True # Uses udnn auto-tuner to find the best algorithm to use for your hardware, speeds up training by almost 50%\n",
    "\n",
    "lr = 1e-2\n",
    "lamb1 = 1e2 #1e4\n",
    "lamb2 = 1 # 1 , total_loss = lamb1*loss_context + lamb2*loss_perceptual\n",
    "\n",
    "lr_G = 2e-4\n",
    "beta1 = 0.5 # Beta1 hyperparam for Adam optimizers\n",
    "selected_gpus = [3] # Number of GPUs available. Use 0 for CPU mode."
   ]
  },
  {
   "cell_type": "code",
   "execution_count": 2,
   "metadata": {},
   "outputs": [
    {
     "data": {
      "text/plain": [
       "1250000"
      ]
     },
     "execution_count": 2,
     "metadata": {},
     "output_type": "execute_result"
    }
   ],
   "source": [
    "path = '/datb/16011015/ExoGAN_data/selection//' #notice how you dont put the last folder in here...\n",
    "\n",
    "images = np.load(path+'last_chunks_25_percent_images_v3.npy').astype('float32')\n",
    "\n",
    "len(images)"
   ]
  },
  {
   "cell_type": "code",
   "execution_count": 3,
   "metadata": {},
   "outputs": [
    {
     "name": "stdout",
     "output_type": "stream",
     "text": [
      "Batch size:  1\n",
      "Number of GPUs used:  1\n",
      "Number of images:  25\n"
     ]
    }
   ],
   "source": [
    "print('Batch size: ', batch_size)\n",
    "\n",
    "\n",
    "# Number of training epochs\n",
    "\n",
    "# Learning rate for optimizers\n",
    "ngpu = len(selected_gpus)\n",
    "print('Number of GPUs used: ', ngpu)\n",
    "\n",
    "\n",
    "\"\"\"\n",
    "Load data and prepare DataLoader\n",
    "\"\"\"\n",
    "shuffle = True\n",
    "\n",
    "if shuffle:\n",
    "    np.random.shuffle(images) # shuffles the images\n",
    "\n",
    "images = images[:25] # 1200 should take ~ 1 hour\n",
    "#images = images[:int(len(images)*0.005)]\n",
    "print('Number of images: ', len(images))"
   ]
  },
  {
   "cell_type": "code",
   "execution_count": 4,
   "metadata": {},
   "outputs": [
    {
     "name": "stdout",
     "output_type": "stream",
     "text": [
      "Loading weights...\n",
      "done\n"
     ]
    }
   ],
   "source": [
    "dataset = numpy_dataset(data=images, to_vram=True) # to_vram pins it to all GPU's\n",
    "#dataset = numpy_dataset(data=images, to_vram=True, transform=transforms.Compose([transforms.Normalize((0.5, 0.5, 0.5), (0.5, 0.5, 0.5))])) # to_vram pins it to all GPU's\n",
    "\n",
    "# Create the dataloader\n",
    "dataloader = torch.utils.data.DataLoader(dataset, batch_size=batch_size,\n",
    "                                         shuffle=True, num_workers=workers, pin_memory=False)\n",
    "\n",
    "\"\"\"\n",
    "Load and setup models\n",
    "\"\"\"\n",
    "# Initialize cuda\n",
    "device = torch.device(\"cuda:\"+str(selected_gpus[0]) if (torch.cuda.is_available() and ngpu > 0) else \"cpu\")\n",
    "\n",
    "# Load models, set to evaluation mode since training is not needed (this also allows batchsize 1 to work with batchnorm2d layers)\n",
    "netG = model.Generator(ngpu).eval().to(device)\n",
    "netD = model.Discriminator(ngpu).eval().to(device)\n",
    "\n",
    "# Apply weights\n",
    "print('Loading weights...')\n",
    "try:\n",
    "    # Load saved weights\n",
    "    netG.load_state_dict(torch.load('gan_data//weights//netG_state_dict0_v3_test', map_location=device)) #net.module..load_... for parallel model , net.load_... for single gpu model\n",
    "    netD.load_state_dict(torch.load('gan_data//weights//netD_state_dict0_v3_test', map_location=device))\n",
    "except:\n",
    "    print('Could not load saved weights.')\n",
    "    sys.exit()\n",
    "\n",
    "\n",
    "\n",
    "\n",
    "\n",
    "\"\"\"\n",
    "Define input training stuff (fancy this up)\n",
    "\"\"\"\n",
    "G = netG\n",
    "D = netD\n",
    "z = torch.randn(1, nz, 1, 1, requires_grad=True, device=device)\n",
    "\n",
    "# Handle multi-gpu if desired\n",
    "if (device.type == 'cuda') and (ngpu > 1):\n",
    "    G = nn.DataParallel(G, device_ids=selected_gpus, output_device=device)\n",
    "    D = nn.DataParallel(D, device_ids=selected_gpus, output_device=device)\n",
    "    #z = nn.DataParallel(z, device_ids=selected_gpus, output_device=device)\n",
    "\n",
    "# Setup Adam optimizers for both G and D\n",
    "optimizerD = optim.Adam(netD.parameters(), lr=lr, betas=(beta1, 0.999)) # should be sgd\n",
    "optimizerG = optim.Adam(netG.parameters(), lr=lr_G, betas=(beta1, 0.999))\n",
    "\n",
    "print('done')"
   ]
  },
  {
   "cell_type": "markdown",
   "metadata": {},
   "source": [
    "# Show generated images"
   ]
  },
  {
   "cell_type": "code",
   "execution_count": 5,
   "metadata": {},
   "outputs": [
    {
     "data": {
      "image/png": "[encoded data removed]",
      "text/plain": [
       "<Figure size 720x720 with 9 Axes>"
      ]
     },
     "metadata": {
      "needs_background": "light"
     },
     "output_type": "display_data"
    }
   ],
   "source": [
    "from sklearn.preprocessing import MinMaxScaler\n",
    "\n",
    "z_tests = [torch.randn(1, nz, 1, 1, device=device) for _ in range(9)]\n",
    "\n",
    "plt.figure(figsize=(10,10))\n",
    "for i in range(9):\n",
    "    img = G(z_tests[i]).detach().cpu()[0, 0, :, :]\n",
    "    plt.subplot(3,3,i+1)\n",
    "    #scaler = MinMaxScaler((0, 1.2))\n",
    "    #img = scaler.fit_transform(img)\n",
    "    plt.imshow(img, cmap='gray', vmin=-1.2, vmax=1.2)\n",
    "    #plt.imshow(img, cmap='gray')\n",
    "\n",
    "plt.tight_layout()"
   ]
  },
  {
   "cell_type": "code",
   "execution_count": 6,
   "metadata": {},
   "outputs": [
    {
     "data": {
      "text/plain": [
       "(tensor(-1.2905), tensor(1.8100), tensor(0.2226), tensor(0.6380))"
      ]
     },
     "execution_count": 6,
     "metadata": {},
     "output_type": "execute_result"
    }
   ],
   "source": [
    "img.min(), img.max(), img.mean(), img.std()"
   ]
  },
  {
   "cell_type": "markdown",
   "metadata": {},
   "source": [
    "## Make sure Z is different for each image"
   ]
  },
  {
   "cell_type": "code",
   "execution_count": 7,
   "metadata": {},
   "outputs": [
    {
     "data": {
      "image/png": "[encoded data removed]",
      "text/plain": [
       "<Figure size 720x720 with 9 Axes>"
      ]
     },
     "metadata": {
      "needs_background": "light"
     },
     "output_type": "display_data"
    }
   ],
   "source": [
    "plt.figure(figsize=(10,10))\n",
    "for i,z_t in enumerate(z_tests):\n",
    "    z_t = z_t.detach().cpu().numpy()\n",
    "    \n",
    "    plt.subplot(3,3,i+1)\n",
    "    \n",
    "    plt.hist(z_t.flatten())\n",
    "    plt.grid()\n",
    "    \n",
    "    plt.tight_layout()\n",
    "    #print(z_t[0].flatten())"
   ]
  },
  {
   "cell_type": "markdown",
   "metadata": {},
   "source": [
    "## Show first 9 selected images"
   ]
  },
  {
   "cell_type": "code",
   "execution_count": 8,
   "metadata": {},
   "outputs": [
    {
     "data": {
      "image/png": "[encoded data removed]",
      "text/plain": [
       "<Figure size 720x720 with 9 Axes>"
      ]
     },
     "metadata": {
      "needs_background": "light"
     },
     "output_type": "display_data"
    }
   ],
   "source": [
    "plt.figure(figsize=(10,10))\n",
    "for i in range(9):\n",
    "    try:\n",
    "        img = images[i]\n",
    "        plt.subplot(3,3,i+1)\n",
    "        plt.imshow(img[0, :, :], cmap='gray', vmin=-1.2, vmax=1.2)\n",
    "    except:\n",
    "        pass\n",
    "\n",
    "plt.tight_layout()"
   ]
  },
  {
   "cell_type": "code",
   "execution_count": 9,
   "metadata": {},
   "outputs": [
    {
     "data": {
      "text/plain": [
       "(-1.0, 13.697468, 0.30097532, 1.2135824)"
      ]
     },
     "execution_count": 9,
     "metadata": {},
     "output_type": "execute_result"
    }
   ],
   "source": [
    "img.min(), img.max(), img.mean(), img.std()"
   ]
  },
  {
   "cell_type": "markdown",
   "metadata": {},
   "source": [
    "# Visualizing the weights for debugging purposes"
   ]
  },
  {
   "cell_type": "code",
   "execution_count": 10,
   "metadata": {},
   "outputs": [
    {
     "name": "stdout",
     "output_type": "stream",
     "text": [
      "Layer: 0 \t n_weights: 512 \t std: 0.0692 \t mean: -0.0008\n",
      "Layer: 1 \t n_weights: 16384 \t std: 0.2377 \t mean: 0.0035\n",
      "Layer: 2 \t n_weights: 32768 \t std: 0.2835 \t mean: 0.0320\n",
      "Layer: 3 \t n_weights: 131072 \t std: 0.2929 \t mean: 0.0381\n",
      "Layer: 4 \t n_weights: 524288 \t std: 0.1133 \t mean: 0.0025\n",
      "Layer: 5 \t n_weights: 256 \t std: 0.0173 \t mean: -0.0024\n"
     ]
    },
    {
     "data": {
      "image/png": "[encoded data removed]",
      "text/plain": [
       "<Figure size 720x720 with 6 Axes>"
      ]
     },
     "metadata": {
      "needs_background": "light"
     },
     "output_type": "display_data"
    }
   ],
   "source": [
    "weights = [param.data.cpu().numpy().flatten() for param in netD.parameters()]\n",
    "\n",
    "plt.figure(figsize=(10,10))\n",
    "for i,layer_weights in enumerate(weights):\n",
    "    print('Layer: %s \\t n_weights: %s \\t std: %.4f \\t mean: %.4f' % (i, len(layer_weights), layer_weights.std(), layer_weights.mean()))\n",
    "    plt.subplot(3,2,i+1)\n",
    "    plt.title('netD layer %s weights' % i)\n",
    "    plt.hist(layer_weights, bins=100)\n",
    "    plt.grid()\n",
    "    plt.tight_layout()"
   ]
  },
  {
   "cell_type": "code",
   "execution_count": 11,
   "metadata": {},
   "outputs": [
    {
     "name": "stdout",
     "output_type": "stream",
     "text": [
      "Layer: 0 \t n_weights: 409600 \t std: 0.0614 \t mean: 0.0000\n",
      "Layer: 1 \t n_weights: 524288 \t std: 0.0949 \t mean: -0.0090\n",
      "Layer: 2 \t n_weights: 131072 \t std: 0.0918 \t mean: -0.0021\n",
      "Layer: 3 \t n_weights: 32768 \t std: 0.0772 \t mean: -0.0040\n",
      "Layer: 4 \t n_weights: 16384 \t std: 0.0686 \t mean: -0.0016\n",
      "Layer: 5 \t n_weights: 512 \t std: 0.0435 \t mean: 0.0006\n"
     ]
    },
    {
     "data": {
      "image/png": "[encoded data removed]",
      "text/plain": [
       "<Figure size 720x720 with 6 Axes>"
      ]
     },
     "metadata": {
      "needs_background": "light"
     },
     "output_type": "display_data"
    }
   ],
   "source": [
    "weights = [param.data.cpu().numpy().flatten() for param in netG.parameters()] # where param.data are the weights of the i-th layer\n",
    "\n",
    "plt.figure(figsize=(10,10))\n",
    "for i,layer_weights in enumerate(weights):\n",
    "    print('Layer: %s \\t n_weights: %s \\t std: %.4f \\t mean: %.4f' % (i, len(layer_weights), layer_weights.std(), layer_weights.mean()))\n",
    "    plt.subplot(3,2,i+1)\n",
    "    plt.title('netG layer %s weights' % i)\n",
    "    plt.hist(layer_weights, bins=100)\n",
    "    plt.grid()\n",
    "    plt.tight_layout()"
   ]
  },
  {
   "cell_type": "markdown",
   "metadata": {},
   "source": [
    "# Inpainting\n",
    "The corrupted image $y$ is mapped to the closest $z$ in the latent representation space, this mapping is denoted as $\\hat{z}$.\n",
    "    \n",
    "$\\hat{z} = \\operatorname{arg\\,min}_z \\{ \\mathcal{L}_c(z |y, M) + \\mathcal{L}_p (z) \\}$\n",
    "\n",
    "where\n",
    "\n",
    "$\\mathcal{L}_c(z |y, M) = || M \\bigodot G(z) - M \\bigodot y||_1 = || M \\bigodot (G(z)-y) ||_1 $\n",
    "\n",
    "with $\\mathcal{L}_c$ being contextual loss and $M$ being a binary mask with the same size as $y$,\n",
    "\n",
    "$\\mathcal{L}_p (z) = \\lambda \\operatorname{log}(1-D(G(z)))$\n",
    "\n",
    "with $\\mathcal{L}_p$ being perceptual loss and $D$ being the discriminator.\n",
    "  \n",
    "Once $G(\\hat{z})$ is generated, the final solution $\\hat{x}$ is calculated as\n",
    "\n",
    "$\\hat{x} = \\operatorname{arg\\, min}_x ||\\nabla x - \\nabla G(\\hat{z}) ||^2_2$  \n",
    "\n",
    "(substitute $x_i = y_i$ for $M_i = 1$).\n",
    "\n",
    "-----\n",
    "\n",
    "$|| ... ||$ is done by `torch.norm()`.  \n",
    "$... \\bigodot ...$ is done by `torch.mul()`.  \n",
    "-----\n",
    "TODO: Implement $\\hat{x} = \\operatorname{arg\\, min}_x ||\\nabla x - \\nabla G(\\hat{z}) ||^2_2$    \n",
    "Currently $\\hat{x} = G(\\hat{z}) \\bigodot (1 -M)+y$"
   ]
  },
  {
   "cell_type": "code",
   "execution_count": 12,
   "metadata": {},
   "outputs": [
    {
     "data": {
      "text/html": [
       "<div>\n",
       "<style scoped>\n",
       "    .dataframe tbody tr th:only-of-type {\n",
       "        vertical-align: middle;\n",
       "    }\n",
       "\n",
       "    .dataframe tbody tr th {\n",
       "        vertical-align: top;\n",
       "    }\n",
       "\n",
       "    .dataframe thead th {\n",
       "        text-align: right;\n",
       "    }\n",
       "</style>\n",
       "<table border=\"1\" class=\"dataframe\">\n",
       "  <thead>\n",
       "    <tr style=\"text-align: right;\">\n",
       "      <th></th>\n",
       "      <th>Unnamed: 0</th>\n",
       "      <th>x</th>\n",
       "    </tr>\n",
       "  </thead>\n",
       "  <tbody>\n",
       "    <tr>\n",
       "      <th>129</th>\n",
       "      <td>129</td>\n",
       "      <td>13.900046</td>\n",
       "    </tr>\n",
       "    <tr>\n",
       "      <th>130</th>\n",
       "      <td>130</td>\n",
       "      <td>13.762421</td>\n",
       "    </tr>\n",
       "    <tr>\n",
       "      <th>131</th>\n",
       "      <td>131</td>\n",
       "      <td>13.626160</td>\n",
       "    </tr>\n",
       "    <tr>\n",
       "      <th>132</th>\n",
       "      <td>132</td>\n",
       "      <td>13.491247</td>\n",
       "    </tr>\n",
       "    <tr>\n",
       "      <th>133</th>\n",
       "      <td>133</td>\n",
       "      <td>13.357671</td>\n",
       "    </tr>\n",
       "    <tr>\n",
       "      <th>134</th>\n",
       "      <td>134</td>\n",
       "      <td>13.225416</td>\n",
       "    </tr>\n",
       "    <tr>\n",
       "      <th>135</th>\n",
       "      <td>135</td>\n",
       "      <td>13.094472</td>\n",
       "    </tr>\n",
       "    <tr>\n",
       "      <th>136</th>\n",
       "      <td>136</td>\n",
       "      <td>12.964823</td>\n",
       "    </tr>\n",
       "    <tr>\n",
       "      <th>137</th>\n",
       "      <td>137</td>\n",
       "      <td>12.836459</td>\n",
       "    </tr>\n",
       "    <tr>\n",
       "      <th>138</th>\n",
       "      <td>138</td>\n",
       "      <td>12.709365</td>\n",
       "    </tr>\n",
       "    <tr>\n",
       "      <th>139</th>\n",
       "      <td>139</td>\n",
       "      <td>12.583530</td>\n",
       "    </tr>\n",
       "    <tr>\n",
       "      <th>140</th>\n",
       "      <td>140</td>\n",
       "      <td>12.458940</td>\n",
       "    </tr>\n",
       "    <tr>\n",
       "      <th>141</th>\n",
       "      <td>141</td>\n",
       "      <td>12.335585</td>\n",
       "    </tr>\n",
       "    <tr>\n",
       "      <th>142</th>\n",
       "      <td>142</td>\n",
       "      <td>12.213450</td>\n",
       "    </tr>\n",
       "    <tr>\n",
       "      <th>143</th>\n",
       "      <td>143</td>\n",
       "      <td>12.092525</td>\n",
       "    </tr>\n",
       "    <tr>\n",
       "      <th>144</th>\n",
       "      <td>144</td>\n",
       "      <td>11.972797</td>\n",
       "    </tr>\n",
       "    <tr>\n",
       "      <th>145</th>\n",
       "      <td>145</td>\n",
       "      <td>11.854254</td>\n",
       "    </tr>\n",
       "    <tr>\n",
       "      <th>146</th>\n",
       "      <td>146</td>\n",
       "      <td>11.736886</td>\n",
       "    </tr>\n",
       "    <tr>\n",
       "      <th>147</th>\n",
       "      <td>147</td>\n",
       "      <td>11.620679</td>\n",
       "    </tr>\n",
       "    <tr>\n",
       "      <th>148</th>\n",
       "      <td>148</td>\n",
       "      <td>11.505623</td>\n",
       "    </tr>\n",
       "    <tr>\n",
       "      <th>149</th>\n",
       "      <td>149</td>\n",
       "      <td>11.391705</td>\n",
       "    </tr>\n",
       "    <tr>\n",
       "      <th>150</th>\n",
       "      <td>150</td>\n",
       "      <td>11.278916</td>\n",
       "    </tr>\n",
       "    <tr>\n",
       "      <th>151</th>\n",
       "      <td>151</td>\n",
       "      <td>11.167244</td>\n",
       "    </tr>\n",
       "    <tr>\n",
       "      <th>152</th>\n",
       "      <td>152</td>\n",
       "      <td>11.056677</td>\n",
       "    </tr>\n",
       "    <tr>\n",
       "      <th>153</th>\n",
       "      <td>153</td>\n",
       "      <td>10.947205</td>\n",
       "    </tr>\n",
       "    <tr>\n",
       "      <th>154</th>\n",
       "      <td>154</td>\n",
       "      <td>10.838817</td>\n",
       "    </tr>\n",
       "    <tr>\n",
       "      <th>155</th>\n",
       "      <td>155</td>\n",
       "      <td>10.731502</td>\n",
       "    </tr>\n",
       "    <tr>\n",
       "      <th>156</th>\n",
       "      <td>156</td>\n",
       "      <td>10.625249</td>\n",
       "    </tr>\n",
       "    <tr>\n",
       "      <th>157</th>\n",
       "      <td>157</td>\n",
       "      <td>10.520049</td>\n",
       "    </tr>\n",
       "    <tr>\n",
       "      <th>158</th>\n",
       "      <td>158</td>\n",
       "      <td>10.415890</td>\n",
       "    </tr>\n",
       "    <tr>\n",
       "      <th>159</th>\n",
       "      <td>159</td>\n",
       "      <td>10.312762</td>\n",
       "    </tr>\n",
       "    <tr>\n",
       "      <th>160</th>\n",
       "      <td>160</td>\n",
       "      <td>10.210656</td>\n",
       "    </tr>\n",
       "    <tr>\n",
       "      <th>161</th>\n",
       "      <td>161</td>\n",
       "      <td>10.109560</td>\n",
       "    </tr>\n",
       "    <tr>\n",
       "      <th>162</th>\n",
       "      <td>162</td>\n",
       "      <td>10.009466</td>\n",
       "    </tr>\n",
       "  </tbody>\n",
       "</table>\n",
       "</div>"
      ],
      "text/plain": [
       "     Unnamed: 0          x\n",
       "129         129  13.900046\n",
       "130         130  13.762421\n",
       "131         131  13.626160\n",
       "132         132  13.491247\n",
       "133         133  13.357671\n",
       "134         134  13.225416\n",
       "135         135  13.094472\n",
       "136         136  12.964823\n",
       "137         137  12.836459\n",
       "138         138  12.709365\n",
       "139         139  12.583530\n",
       "140         140  12.458940\n",
       "141         141  12.335585\n",
       "142         142  12.213450\n",
       "143         143  12.092525\n",
       "144         144  11.972797\n",
       "145         145  11.854254\n",
       "146         146  11.736886\n",
       "147         147  11.620679\n",
       "148         148  11.505623\n",
       "149         149  11.391705\n",
       "150         150  11.278916\n",
       "151         151  11.167244\n",
       "152         152  11.056677\n",
       "153         153  10.947205\n",
       "154         154  10.838817\n",
       "155         155  10.731502\n",
       "156         156  10.625249\n",
       "157         157  10.520049\n",
       "158         158  10.415890\n",
       "159         159  10.312762\n",
       "160         160  10.210656\n",
       "161         161  10.109560\n",
       "162         162  10.009466"
      ]
     },
     "execution_count": 12,
     "metadata": {},
     "output_type": "execute_result"
    }
   ],
   "source": [
    "ind = pd.read_csv('wavelengths_and_indices.csv')  # where x is the wavelength\n",
    "\n",
    "ind[(ind.x > 10) & (ind.x <= 14)]"
   ]
  },
  {
   "cell_type": "code",
   "execution_count": 13,
   "metadata": {},
   "outputs": [],
   "source": [
    "def create_mask():\n",
    "    \n",
    "    mask = np.full([1,1,32,32], 1) # init array with 0.5's\n",
    "    mask = torch.from_numpy(mask).to(device)\n",
    "    \n",
    "    #mask = torch.ones([1, 1, 32, 32]).to(device) # create mask with 1's in the shape of image\n",
    "    \n",
    "    #print(\"mask.shape\", mask.shape)\n",
    "\n",
    "    # use a random 'easy' mask\n",
    "    mask[:, :, :16, 25:] = 0\n",
    "    \n",
    "    # The noise doesn't matter for conceptual loss\n",
    "    mask[:, :, 19:, :] = 0\n",
    "    \n",
    "    \"\"\"Weighted mask\"\"\"\n",
    "    \n",
    "    # Normalization factors\n",
    "    mask[:, :, 16:19, :] = 10\n",
    "    \n",
    "    mask = mask.float() # make sure dtype is float, torch was complaining during inpainting that this is a double\n",
    "    \n",
    "    return mask"
   ]
  },
  {
   "cell_type": "markdown",
   "metadata": {},
   "source": [
    "## Visualize the mask"
   ]
  },
  {
   "cell_type": "code",
   "execution_count": 14,
   "metadata": {},
   "outputs": [
    {
     "data": {
      "text/plain": [
       "<matplotlib.image.AxesImage at 0x7fadc45c5cf8>"
      ]
     },
     "execution_count": 14,
     "metadata": {},
     "output_type": "execute_result"
    },
    {
     "data": {
      "image/png": "[encoded data removed]",
      "text/plain": [
       "<Figure size 432x288 with 1 Axes>"
      ]
     },
     "metadata": {
      "needs_background": "light"
     },
     "output_type": "display_data"
    }
   ],
   "source": [
    "m = create_mask().cpu()[0, 0, :, :]\n",
    "plt.imshow(m, cmap='gray', vmin=0, vmax=1.2) "
   ]
  },
  {
   "cell_type": "code",
   "execution_count": 15,
   "metadata": {},
   "outputs": [],
   "source": [
    "t = m.cpu().numpy().flatten()\n",
    "\n",
    "for i in range(len(t)):\n",
    "    if np.isnan(t[i]):\n",
    "        print('nan')"
   ]
  },
  {
   "cell_type": "code",
   "execution_count": 16,
   "metadata": {},
   "outputs": [
    {
     "name": "stdout",
     "output_type": "stream",
     "text": [
      " image [25/25] iteration : 24950 , context_loss: 78.583, perceptual_loss: -0.505813, total_loss: 78.077278, min L: 78.077278, 0.000000, D(G(z)): 0.396985, ETA: 0h 55m"
     ]
    }
   ],
   "source": [
    "# Lists to keep track of progress\n",
    "real_images = []\n",
    "masked_images= []\n",
    "inpainted_images = []\n",
    "final_inpainted_images = [] # last inpainted image for each input image\n",
    "n_iteration = []\n",
    "\n",
    "MSELoss = nn.MSELoss()\n",
    "L1Loss = nn.L1Loss() # MAE\n",
    "SmoothL1Loss = nn.SmoothL1Loss()\n",
    "\n",
    "\"\"\"\n",
    "Inpainting\n",
    "\"\"\"\n",
    "for i, data in enumerate(dataloader, 0): # batches per epoch\n",
    "    real_cpu = data.to(device)\n",
    "    b_size = real_cpu.size(0) # this is one ofc, it's one image we're trying to inpaint\n",
    "\n",
    "    #print(\"data.shape: \", data.shape)\n",
    "    image = data.to(device) # select the image (Channel, Height, Width), this is the original unmasked input image\n",
    "    \n",
    "    real_images.append(image)\n",
    "    #print(\"image.shape: \", image.shape)\n",
    "\n",
    "    \"\"\"Mask the image\"\"\"\n",
    "    mask = create_mask()\n",
    "\n",
    "    masked_image = torch.mul(image, mask).to(device) #image bigodot mask\n",
    "    masked_images.append(masked_image)\n",
    "    #print('masked image shape', masked_image.shape)\n",
    "    #plt.imshow(masked_image.detach().cpu()[0, 0, :, :], cmap='gray') # plot the masked image\n",
    "\n",
    "    opt = optim.Adam([z], lr=lr)\n",
    "\n",
    "    # what's v and m?\n",
    "    v = torch.tensor(0, dtype=torch.float32, device=device)\n",
    "    m = torch.tensor(0, dtype=torch.float32, device=device)\n",
    "\n",
    "\n",
    "    \"\"\"Start the inpainting process\"\"\"\n",
    "    early_stopping_n_iters = 0\n",
    "    early_stopping_min_loss = 999999 # set to random high number to initialize\n",
    "    for iteration in range(n_iters):\n",
    "        t1 = time.time()\n",
    "        if z.grad is not None:\n",
    "            z.grad.data.zero_()\n",
    "\n",
    "        G.zero_grad()\n",
    "        D.zero_grad()\n",
    "\n",
    "\n",
    "        image_generated = G(z) # generated image G(z)\n",
    "        image_generated_masked = torch.mul(image_generated, mask) # G(z) bigodot M\n",
    "        image_generated_inpainted = torch.mul(image_generated, (1-mask))+masked_image\n",
    "        \n",
    "        if (iteration % 100 == 0):\n",
    "            inpainted_images.append(image_generated_inpainted)\n",
    "\n",
    "        #print(\"image_generated_inpainted.shape : \",image_generated_inpainted.shape)\n",
    "\n",
    "        t = image_generated_inpainted.detach().cpu()[0, 0, :, :]\n",
    "\n",
    "        # TODO: why does this already look real?\n",
    "        #plt.imshow(t, cmap='gray') # plot the masked image \n",
    "\n",
    "        \"\"\"Calculate losses\"\"\"\n",
    "        #loss_context = torch.norm(image_generated_masked-masked_image, p=1) #what's p=1?\n",
    "        loss_context = lamb1*MSELoss(image_generated_masked,masked_image)\n",
    "        #loss_context = L1Loss(image_generated_masked, masked_image)*10\n",
    "        #loss_context = SmoothL1Loss(image_generated_masked, masked_image)*10\n",
    "        \n",
    "        discriminator_output = netD(image_generated_inpainted) - 0.005 # -0.005 offset so loss_perceptual doesn't become 1 when D(G(z)) == 1.000000\n",
    "        #print(\"Discriminator output: \", discriminator_output)\n",
    "\n",
    "        labels = torch.full((b_size,), 1, device=device)\n",
    "        loss_perceptual = lamb2*torch.log(1-discriminator_output)\n",
    "        \n",
    "        #if loss_perceptual == -np.inf:\n",
    "        #    #print('loss perceptual == -np.inf()')\n",
    "        #    loss_perceptual = torch.tensor(-10, dtype=torch.float32, device=device)\n",
    "        \n",
    "        #print(loss_perceptual.data.cpu().numpy().flatten()[0])\n",
    "\n",
    "        total_loss = loss_context + loss_perceptual\n",
    "        #total_loss = loss_context + 10*discriminator_output\n",
    "        \n",
    "        # grab the values from losses for printing\n",
    "        loss_perceptual = loss_perceptual.data.cpu().numpy().flatten()[0]\n",
    "        #loss_perceptual = 0\n",
    "        loss_context = loss_context.data.cpu().numpy().flatten()[0]\n",
    "\n",
    "\n",
    "\n",
    "        total_loss.backward()\n",
    "        opt.step()\n",
    "        \n",
    "        total_loss = total_loss.data.cpu().numpy().flatten()[0]\n",
    "        \n",
    "        \"\"\"Early stopping\"\"\" # TODO: \n",
    "        if iteration > 0:\n",
    "            delta_loss = early_stopping_min_loss - total_loss\n",
    "            delta_iters = iteration - iter1\n",
    "            \n",
    "            if (delta_loss < 0.1) or (total_loss > early_stopping_min_loss):\n",
    "                early_stopping_n_iters += 1\n",
    "            else:\n",
    "                #print('set to zero')\n",
    "                early_stopping_n_iters = 0\n",
    "            \n",
    "            if early_stopping_n_iters > 1000:\n",
    "                n_iteration.append(iteration)\n",
    "                break\n",
    "            \n",
    "        loss1 = total_loss\n",
    "        iter1 = iteration\n",
    "        \n",
    "        if total_loss < early_stopping_min_loss:\n",
    "            early_stopping_min_loss = total_loss\n",
    "            best_inpained_image = image_generated_inpainted.detach().cpu()\n",
    "            early_stopping_n_iters = 0\n",
    "            #print('min loss: ', early_stopping_min_loss)\n",
    "         \n",
    "        t2 = time.time()\n",
    "        \n",
    "        \"\"\"Calculate ETA\"\"\"\n",
    "        t_per_iter = t2 - t1 # time per iteration in seconds\n",
    "        \n",
    "        eta = t_per_iter * (n_iters - iteration) + t_per_iter* (len(images)-i+1) * n_iters # time left to finish epoch/image + time left to finish all epochs/images in SECONDS\n",
    "        eta_h = (eta/ 60) // 60 # divisor integer\n",
    "        eta_m = eta % 60 # get remainer\n",
    "        \n",
    "        if (iteration % 50 == 0):\n",
    "            print(\"\\r image [{}/{}] iteration : {:4} , context_loss: {:.3f}, perceptual_loss: {:3f}, total_loss: {:3f}, min L: {:3f}, {:1f}, D(G(z)): {:3f}, ETA: {:.0f}h {:.0f}m\".format(i+1, \n",
    "            len(images), iteration, loss_context,loss_perceptual, total_loss,early_stopping_min_loss, early_stopping_n_iters, discriminator_output.data.cpu().numpy().flatten()[0], eta_h, eta_m),end=\"\")\n",
    "            \n",
    "\n",
    "            \n",
    "        \"\"\"NaN monitor\"\"\"\n",
    "        #if (loss_context or loss_perceptual == np.nan()) and iteration >64:\n",
    "        #    print(r'='*10 + '     NaN     '+ '='*10)\n",
    "        #    print(loss_context, loss_percept  ual)\n",
    "            #break+\n",
    "        \n",
    "    final_inpainted_images.append(best_inpained_image.detach().cpu())"
   ]
  },
  {
   "cell_type": "code",
   "execution_count": 17,
   "metadata": {},
   "outputs": [
    {
     "data": {
      "text/plain": [
       "25"
      ]
     },
     "execution_count": 17,
     "metadata": {},
     "output_type": "execute_result"
    }
   ],
   "source": [
    "len(real_images)"
   ]
  },
  {
   "cell_type": "markdown",
   "metadata": {},
   "source": [
    "## Inverse transform ASPA to spectrum"
   ]
  },
  {
   "cell_type": "code",
   "execution_count": 18,
   "metadata": {},
   "outputs": [],
   "source": [
    "def inverse_scale(X_, X_min, X_max):\n",
    "    \"\"\"\n",
    "    X_ is scaled X\n",
    "    X is unscaled X_\n",
    "    \"\"\"\n",
    "    X = X_ * (X_max - X_min) + X_min\n",
    "    return X"
   ]
  },
  {
   "cell_type": "code",
   "execution_count": 19,
   "metadata": {},
   "outputs": [
    {
     "data": {
      "image/png": "[encoded data removed]",
      "text/plain": [
       "<Figure size 432x288 with 1 Axes>"
      ]
     },
     "metadata": {
      "needs_background": "light"
     },
     "output_type": "display_data"
    }
   ],
   "source": [
    "i = 0\n",
    "aspa = real_images[i].detach().cpu().numpy()[0, 0, :, :]\n",
    "\n",
    "\n",
    "plt.imshow(aspa, cmap='gray', vmin=-1.2, vmax=1.2)\n",
    "\n",
    "\n",
    "\n",
    "n_bins = 8 # amount of bins the spectrum got scaled in\n",
    "\"\"\"Image parts from the aspa, still encoded\"\"\"\n",
    "spectrum = aspa[:16, :25]\n",
    "mins_ = [aspa[16:17, i*4:i*4+4] for i in range(n_bins)]\n",
    "stds_ = [aspa[17:18, i*4:i*4+4] for i in range(n_bins)]\n",
    "maxs_ = [aspa[18:19, i*4:i*4+4] for i in range(n_bins)]\n",
    "\n",
    "\"\"\"Decode to arrays\"\"\"\n",
    "spectrum = spectrum.flatten()\n",
    "\n",
    "mins_ = [inverse_scale(mins_[i].mean(), 0.005, 0.03) for i in range(n_bins)]\n",
    "stds_ = [inverse_scale(stds_[i].mean(), 0.005, 0.03) for i in range(n_bins)]\n",
    "maxs_ = [inverse_scale(maxs_[i].mean(), 1e-7, 1e-4) for i in range(n_bins)]"
   ]
  },
  {
   "cell_type": "code",
   "execution_count": 20,
   "metadata": {},
   "outputs": [
    {
     "data": {
      "text/html": [
       "<div>\n",
       "<style scoped>\n",
       "    .dataframe tbody tr th:only-of-type {\n",
       "        vertical-align: middle;\n",
       "    }\n",
       "\n",
       "    .dataframe tbody tr th {\n",
       "        vertical-align: top;\n",
       "    }\n",
       "\n",
       "    .dataframe thead th {\n",
       "        text-align: right;\n",
       "    }\n",
       "</style>\n",
       "<table border=\"1\" class=\"dataframe\">\n",
       "  <thead>\n",
       "    <tr style=\"text-align: right;\">\n",
       "      <th></th>\n",
       "      <th>x</th>\n",
       "      <th>y</th>\n",
       "    </tr>\n",
       "  </thead>\n",
       "  <tbody>\n",
       "    <tr>\n",
       "      <th>115</th>\n",
       "      <td>15.977744</td>\n",
       "      <td>-1.000000</td>\n",
       "    </tr>\n",
       "    <tr>\n",
       "      <th>116</th>\n",
       "      <td>15.819548</td>\n",
       "      <td>-0.771032</td>\n",
       "    </tr>\n",
       "    <tr>\n",
       "      <th>117</th>\n",
       "      <td>15.662919</td>\n",
       "      <td>-0.608890</td>\n",
       "    </tr>\n",
       "    <tr>\n",
       "      <th>118</th>\n",
       "      <td>15.507841</td>\n",
       "      <td>-0.358919</td>\n",
       "    </tr>\n",
       "    <tr>\n",
       "      <th>119</th>\n",
       "      <td>15.354298</td>\n",
       "      <td>-0.358779</td>\n",
       "    </tr>\n",
       "  </tbody>\n",
       "</table>\n",
       "</div>"
      ],
      "text/plain": [
       "             x         y\n",
       "115  15.977744 -1.000000\n",
       "116  15.819548 -0.771032\n",
       "117  15.662919 -0.608890\n",
       "118  15.507841 -0.358919\n",
       "119  15.354298 -0.358779"
      ]
     },
     "execution_count": 20,
     "metadata": {},
     "output_type": "execute_result"
    }
   ],
   "source": [
    "df = pd.read_csv('wavelengths_and_indices.csv', header=None, skiprows=[0], usecols=[1]) # load wavelengths\n",
    "df.columns = ['x']\n",
    "df = df.loc[df['x'] <= 16] # select only wavelengths <= 16\n",
    "df['y'] = spectrum\n",
    "\n",
    "df.head()"
   ]
  },
  {
   "cell_type": "code",
   "execution_count": 21,
   "metadata": {},
   "outputs": [
    {
     "data": {
      "text/plain": [
       "[<matplotlib.lines.Line2D at 0x7fadc46b44e0>]"
      ]
     },
     "execution_count": 21,
     "metadata": {},
     "output_type": "execute_result"
    },
    {
     "data": {
      "image/png": "[encoded data removed]",
      "text/plain": [
       "<Figure size 432x288 with 1 Axes>"
      ]
     },
     "metadata": {
      "needs_background": "light"
     },
     "output_type": "display_data"
    }
   ],
   "source": [
    "plt.plot(df.x, df.y)"
   ]
  },
  {
   "cell_type": "code",
   "execution_count": 22,
   "metadata": {},
   "outputs": [
    {
     "data": {
      "image/png": "[encoded data removed]",
      "text/plain": [
       "<Figure size 432x288 with 1 Axes>"
      ]
     },
     "metadata": {
      "needs_background": "light"
     },
     "output_type": "display_data"
    }
   ],
   "source": [
    "\"\"\"select spectrum bins\"\"\"\n",
    "bin1 = df[df.x <= 0.8]\n",
    "bin2 = df[(df.x > 0.8) & (df.x <= 1.3)] # select data between 2 and 4 micron\n",
    "bin3 = df[(df.x > 1.3) & (df.x <= 2)]\n",
    "bin4 = df[(df.x > 2) & (df.x <= 4)]\n",
    "bin5 = df[(df.x > 4) & (df.x <= 6)]\n",
    "bin6 = df[(df.x > 6) & (df.x <= 10)]\n",
    "bin7 = df[(df.x > 10) & (df.x <= 14)]\n",
    "bin8 = df[df.x > 14]\n",
    "\n",
    "bins = [bin8, bin7, bin6, bin5, bin4, bin3, bin2, bin1]\n",
    "for b in bins:\n",
    "    plt.plot(b['x'], b['y'])"
   ]
  },
  {
   "cell_type": "code",
   "execution_count": 23,
   "metadata": {},
   "outputs": [
    {
     "data": {
      "text/plain": [
       "[115   -7.592000e+26\n",
       " 116   -2.377015e+26\n",
       " 117    1.315933e+26\n",
       " 118    7.009254e+26\n",
       " 119    7.012460e+26\n",
       " 120    2.208836e+27\n",
       " 121    8.733604e+26\n",
       " 122    3.796000e+27\n",
       " 123    1.506907e+27\n",
       " 124    1.469265e+27\n",
       " 125    1.068317e+27\n",
       " 126    4.740751e+26\n",
       " 127    4.250759e+26\n",
       " 128    2.362675e+26\n",
       " Name: y, dtype: float32, 129    2000.000000\n",
       " 130    1860.961914\n",
       " 131    1763.964111\n",
       " 132    1807.309082\n",
       " 133    1574.668213\n",
       " 134    1674.056641\n",
       " 135    1504.351807\n",
       " 136    1364.799316\n",
       " 137    1337.666992\n",
       " 138    1195.199829\n",
       " 139    1158.464844\n",
       " 140     972.422668\n",
       " 141     883.623474\n",
       " 142     752.893005\n",
       " 143     724.088806\n",
       " 144     572.925293\n",
       " 145     493.474487\n",
       " 146     428.310181\n",
       " 147     388.931213\n",
       " 148     253.147705\n",
       " 149     232.793457\n",
       " 150     188.743347\n",
       " 151     134.589294\n",
       " 152      91.597656\n",
       " 153      64.200623\n",
       " 154      15.616943\n",
       " 155       0.000000\n",
       " 156       6.197571\n",
       " 157      46.936340\n",
       " 158      50.430481\n",
       " 159      83.154114\n",
       " 160     107.968323\n",
       " 161     178.657288\n",
       " 162     236.248962\n",
       " Name: y, dtype: float32, 163    -7.032081\n",
       " 164    -6.916485\n",
       " 165    -6.834493\n",
       " 166    -6.169667\n",
       " 167    -5.171053\n",
       " 168    -4.380273\n",
       " 169    -3.491933\n",
       " 170    -2.302584\n",
       " 171    -3.159848\n",
       " 172    -6.881598\n",
       " 173   -18.004770\n",
       " 174   -32.502914\n",
       " 175   -34.538773\n",
       " 176   -34.467575\n",
       " 177   -34.535072\n",
       " 178   -34.190723\n",
       " 179   -34.086731\n",
       " 180   -33.736351\n",
       " 181   -33.866638\n",
       " 182   -33.592808\n",
       " 183   -33.694313\n",
       " 184   -33.393299\n",
       " 185   -33.467415\n",
       " 186   -32.611801\n",
       " 187   -32.783367\n",
       " 188   -32.476955\n",
       " 189   -33.461197\n",
       " 190   -33.125385\n",
       " 191   -33.162834\n",
       " 192   -32.998871\n",
       " 193   -32.732872\n",
       " 194   -32.958088\n",
       " 195   -33.178001\n",
       " 196   -33.146564\n",
       " 197   -33.043510\n",
       " 198   -33.365055\n",
       " 199   -33.370110\n",
       " 200   -32.656124\n",
       " 201   -32.977112\n",
       " 202   -33.259357\n",
       " 203   -32.447708\n",
       " 204   -32.202274\n",
       " 205   -33.263947\n",
       " 206   -33.273083\n",
       " 207   -33.793743\n",
       " 208   -34.289249\n",
       " 209   -34.286160\n",
       " 210   -34.429764\n",
       " 211   -34.324112\n",
       " 212   -34.074944\n",
       " 213   -33.982819\n",
       " Name: y, dtype: float32, 214     12927620.0\n",
       " 215     12930336.0\n",
       " 216     13306696.0\n",
       " 217     13835176.0\n",
       " 218     14510692.0\n",
       " 219     15393932.0\n",
       " 220     16433888.0\n",
       " 221     18165368.0\n",
       " 222     19267556.0\n",
       " 223     20069448.0\n",
       " 224     20763316.0\n",
       " 225     20986460.0\n",
       " 226     21322000.0\n",
       " 227     22239080.0\n",
       " 228     23320172.0\n",
       " 229     25328696.0\n",
       " 230     27347200.0\n",
       " 231     30051804.0\n",
       " 232     33436200.0\n",
       " 233     38227212.0\n",
       " 234     44347340.0\n",
       " 235     51728496.0\n",
       " 236     59026144.0\n",
       " 237     65773680.0\n",
       " 238     72836336.0\n",
       " 239     80325104.0\n",
       " 240     87426792.0\n",
       " 241     93624888.0\n",
       " 242     98294944.0\n",
       " 243    101533904.0\n",
       " 244    103892080.0\n",
       " 245    104817904.0\n",
       " 246    104866496.0\n",
       " 247    100778016.0\n",
       " 248     88153464.0\n",
       " 249     66218820.0\n",
       " 250     31048058.0\n",
       " 251     14565288.0\n",
       " 252     12976412.0\n",
       " 253     10655620.0\n",
       " 254      6991100.0\n",
       " Name: y, dtype: float32, 255   -33.943165\n",
       " 256   -34.188179\n",
       " 257   -34.356339\n",
       " 258   -34.423264\n",
       " 259   -34.458717\n",
       " 260   -34.499241\n",
       " 261   -34.529961\n",
       " 262   -34.538773\n",
       " 263   -34.490402\n",
       " 264   -34.400414\n",
       " 265   -34.255341\n",
       " 266   -34.098663\n",
       " 267   -34.024834\n",
       " 268   -33.966286\n",
       " 269   -33.828709\n",
       " 270   -33.807102\n",
       " 271   -33.601295\n",
       " 272   -32.220764\n",
       " 273   -32.299801\n",
       " 274   -33.278122\n",
       " 275   -33.094303\n",
       " 276   -32.829483\n",
       " 277   -32.463036\n",
       " 278   -32.230396\n",
       " 279   -31.836670\n",
       " 280   -29.212849\n",
       " 281   -24.165405\n",
       " 282   -19.838816\n",
       " 283   -16.150589\n",
       " 284   -12.792278\n",
       "          ...    \n",
       " 294    -3.138711\n",
       " 295    -7.153216\n",
       " 296   -24.086510\n",
       " 297   -26.118977\n",
       " 298   -26.605297\n",
       " 299   -27.399727\n",
       " 300   -28.089680\n",
       " 301   -28.422689\n",
       " 302   -28.456221\n",
       " 303   -28.458078\n",
       " 304   -28.246944\n",
       " 305   -28.078470\n",
       " 306   -27.822168\n",
       " 307   -27.681372\n",
       " 308   -27.897694\n",
       " 309   -27.697001\n",
       " 310   -28.262726\n",
       " 311   -29.735405\n",
       " 312   -29.556244\n",
       " 313   -28.978111\n",
       " 314   -27.955891\n",
       " 315   -26.647993\n",
       " 316   -25.396782\n",
       " 317   -24.205936\n",
       " 318   -22.988029\n",
       " 319   -21.583897\n",
       " 320   -20.008362\n",
       " 321   -18.564278\n",
       " 322   -18.433167\n",
       " 323   -20.146317\n",
       " Name: y, Length: 69, dtype: float32, 324    -3.914125\n",
       " 325    -3.854050\n",
       " 326    -2.302584\n",
       " 327    -4.427750\n",
       " 328   -15.177280\n",
       " 329   -17.899998\n",
       " 330   -18.345203\n",
       " 331   -18.599380\n",
       " 332   -19.037374\n",
       " 333   -19.332180\n",
       " 334   -19.744446\n",
       " 335   -20.388794\n",
       " 336   -21.294834\n",
       " 337   -22.094141\n",
       " 338   -22.639835\n",
       " 339   -22.953197\n",
       " 340   -23.192924\n",
       " 341   -23.010092\n",
       " 342   -22.373955\n",
       " 343   -21.470211\n",
       " 344   -20.968838\n",
       " 345   -21.217754\n",
       " 346   -21.650421\n",
       " 347   -21.734169\n",
       " 348   -23.011694\n",
       " 349   -26.685547\n",
       " 350   -28.158546\n",
       " 351   -27.607059\n",
       " 352   -27.158295\n",
       " 353   -26.112007\n",
       " 354   -24.411491\n",
       " 355   -23.219347\n",
       " 356   -24.577147\n",
       " 357   -27.733906\n",
       " 358   -31.621410\n",
       " 359   -32.065659\n",
       " 360   -32.295029\n",
       " 361   -32.671516\n",
       " 362   -32.762489\n",
       " 363   -32.463017\n",
       " 364   -32.848804\n",
       " 365   -34.037407\n",
       " 366   -34.455921\n",
       " 367   -34.538773\n",
       " Name: y, dtype: float32, 368   -14.577559\n",
       " 369   -13.197041\n",
       " 370   -10.237020\n",
       " 371    -6.020434\n",
       " 372    -2.836476\n",
       " 373    -2.302584\n",
       " 374    -4.507617\n",
       " 375    -9.783641\n",
       " 376   -12.851038\n",
       " 377   -12.680168\n",
       " 378   -13.947289\n",
       " 379   -13.869626\n",
       " 380   -13.796669\n",
       " 381   -12.798317\n",
       " 382   -12.338316\n",
       " 383   -12.183086\n",
       " 384   -13.092509\n",
       " 385   -13.984756\n",
       " 386   -15.084002\n",
       " 387   -16.970013\n",
       " 388   -19.504305\n",
       " 389   -22.350718\n",
       " 390   -25.415253\n",
       " 391   -28.444117\n",
       " 392   -31.238384\n",
       " 393   -33.862434\n",
       " 394   -34.538773\n",
       " 395   -33.353230\n",
       " 396   -32.089134\n",
       " 397   -30.748371\n",
       " 398   -29.559055\n",
       " 399   -28.328207\n",
       " 400   -26.989994\n",
       " 401   -25.478790\n",
       " 402   -24.837297\n",
       " 403   -23.465204\n",
       " 404   -21.984238\n",
       " 405   -20.475506\n",
       " 406   -19.034771\n",
       " 407   -17.493330\n",
       " 408   -15.912894\n",
       " 409   -14.287971\n",
       " 410   -12.630256\n",
       " 411   -10.949118\n",
       " 412    -9.242313\n",
       " 413    -7.506453\n",
       " 414    -5.731418\n",
       " 415    -3.958618\n",
       " Name: y, dtype: float32]"
      ]
     },
     "execution_count": 23,
     "metadata": {},
     "output_type": "execute_result"
    }
   ],
   "source": [
    "\"\"\"Inverse scale the bins\"\"\"\n",
    "# min max values for spectrum from ASPA v2 notebook\n",
    "min_values = [1.518400e+27, \n",
    "                  1.000000e+03, \n",
    "                  -1.842068e+01, \n",
    "                  5.592880e+07, \n",
    "                  -1.842068e+01, \n",
    "                  -1.842068e+01, \n",
    "                  -1.842068e+01]\n",
    "    \n",
    "max_values = [3.796000e+27, \n",
    "                  2.000000e+03, \n",
    "                  -2.302585e+00, \n",
    "                  1.048665e+08, \n",
    "                  -2.302585e+00, \n",
    "                  -2.302585e+00,\n",
    "                  -2.302585e+00]\n",
    "\n",
    "spectra_inverses = []\n",
    "for i in range(7):\n",
    "    bin_ = bins[i]\n",
    "    max_ = maxs_[i]\n",
    "    min_ = mins_[i]\n",
    "    \n",
    "    spectrum = bin_['y']\n",
    "    spectrum_inverse = inverse_scale(spectrum, min_values[i], max_values[i])\n",
    "    spectra_inverses.append(spectrum_inverse)\n",
    "\n",
    "spectra_inverses"
   ]
  },
  {
   "cell_type": "markdown",
   "metadata": {},
   "source": [
    "# Show results"
   ]
  },
  {
   "cell_type": "code",
   "execution_count": 24,
   "metadata": {},
   "outputs": [],
   "source": [
    "real = real_images[0].detach().cpu()[0, 0, :, :]\n",
    "real_masked = masked_images[0].detach().cpu()[0, 0, :, :]\n",
    "\n",
    "#first_generated =inpainted_images[1].detach().cpu()[0, 0, :, :]\n",
    "last_generated = inpainted_images[-1].detach().cpu()[0, 0, :, :]"
   ]
  },
  {
   "cell_type": "code",
   "execution_count": 25,
   "metadata": {},
   "outputs": [
    {
     "data": {
      "image/png": "[encoded data removed]",
      "text/plain": [
       "<Figure size 1584x720 with 3 Axes>"
      ]
     },
     "metadata": {
      "needs_background": "light"
     },
     "output_type": "display_data"
    }
   ],
   "source": [
    "plt.figure(figsize=(22,10))\n",
    "\n",
    "plt.subplot(1,3,1)\n",
    "plt.imshow(real, cmap='gray', vmin=-1.2, vmax=1.2)\n",
    "plt.title('Ground truth')\n",
    "\n",
    "plt.subplot(1,3,2)\n",
    "plt.imshow(real_masked, cmap='gray', vmin=-1.2, vmax=1.2)\n",
    "plt.title('Masked input')\n",
    "\n",
    "plt.subplot(1,3,3)\n",
    "plt.imshow(last_generated, cmap='gray', vmin=-1.2, vmax=1.2)\n",
    "plt.title('Inpainted')\n",
    "\n",
    "plt.tight_layout()\n",
    "\n",
    "#plt.savefig('plots/inpainting.png', dpi=1300)"
   ]
  },
  {
   "cell_type": "code",
   "execution_count": 26,
   "metadata": {},
   "outputs": [
    {
     "name": "stdout",
     "output_type": "stream",
     "text": [
      "mean: -0.0905 \n",
      " std: 0.4873 \n",
      " min: -1.8911 \n",
      " max: 1.8949\n"
     ]
    },
    {
     "data": {
      "image/png": "[encoded data removed]",
      "text/plain": [
       "<Figure size 432x288 with 2 Axes>"
      ]
     },
     "metadata": {
      "needs_background": "light"
     },
     "output_type": "display_data"
    }
   ],
   "source": [
    "difference = real - last_generated\n",
    "difference[19:, :] = 0 # remove the noise, it doesn't matter\n",
    "\n",
    "#sns.heatmap(difference, cmap='gray', vmin=-2, vmax=2)\n",
    "sns.heatmap(difference, cmap='gray')\n",
    "plt.title('Ground truth - Inpainted ')\n",
    "\n",
    "difference  = difference.cpu().detach().numpy().flatten()\n",
    "\n",
    "mean, sigma, min_, max_ = difference.mean().item(), difference.std(), difference.min(), difference.max()\n",
    "print('mean: %.4f \\n std: %.4f \\n min: %.4f \\n max: %.4f' % (mean, sigma, min_, max_))"
   ]
  },
  {
   "cell_type": "raw",
   "metadata": {},
   "source": [
    "import matplotlib\n",
    "matplotlib.rcParams['animation.embed_limit'] = 20**128\n",
    "\n",
    "#%%capture\n",
    "fig = plt.figure(figsize=(8,8))\n",
    "plt.axis(\"off\")\n",
    "ims = [[plt.imshow(i.detach().cpu()[0, 0, :, :], animated=True, cmap='gray', vmin=0, vmax=1.2)] for i in inpainted_images]\n",
    "ani = animation.ArtistAnimation(fig, ims, interval=500, repeat_delay=1000, blit=True)\n",
    "\n",
    "\n",
    "HTML(ani.to_jshtml())"
   ]
  },
  {
   "cell_type": "code",
   "execution_count": null,
   "metadata": {},
   "outputs": [],
   "source": []
  },
  {
   "cell_type": "markdown",
   "metadata": {},
   "source": [
    "# Decoding ASPA\n",
    "Need to clean this up. Using dicts like this is not clean."
   ]
  },
  {
   "cell_type": "code",
   "execution_count": 27,
   "metadata": {},
   "outputs": [
    {
     "data": {
      "text/plain": [
       "(32, 32)"
      ]
     },
     "execution_count": 27,
     "metadata": {},
     "output_type": "execute_result"
    }
   ],
   "source": [
    "aspa_inpainted = last_generated.numpy()\n",
    "aspa_real = real.numpy()\n",
    "\n",
    "aspa_inpainted.shape"
   ]
  },
  {
   "cell_type": "code",
   "execution_count": 28,
   "metadata": {},
   "outputs": [],
   "source": [
    "# Initialize ExoGAN params with zero's\n",
    "inpainted_params = {\n",
    "    'planet_mass': 0,\n",
    "    'temp_profile': 0,\n",
    "    'ch4_mixratio': 0,\n",
    "    'planet_radius': 0,\n",
    "    'h2o_mixratio': 0,\n",
    "    'co2_mixratio': 0,\n",
    "    'co_mixratio': 0\n",
    "}\n",
    "\n",
    "real_params = inpainted_params.copy()\n",
    "params_errors = inpainted_params.copy()"
   ]
  },
  {
   "cell_type": "markdown",
   "metadata": {},
   "source": [
    "## Inverse scale functions"
   ]
  },
  {
   "cell_type": "code",
   "execution_count": 29,
   "metadata": {},
   "outputs": [],
   "source": [
    "def inverse_scale_param(X_scaled, X_min, X_max):\n",
    "    return (X_scaled * (X_max-X_min)) + X_min\n",
    "\n",
    "def inverse_scale_params(params):\n",
    "    \"\"\"\n",
    "    Inverse scales the params array. \n",
    "    Params must be in fixed order, same order as it is encoded with.\n",
    "    \"\"\"\n",
    "    params = params.copy()\n",
    "    min_values = [1.518400e+27, \n",
    "                  1.000000e+03, \n",
    "                  -1.842068e+01, \n",
    "                  5.592880e+07, \n",
    "                  -1.842068e+01, \n",
    "                  -1.842068e+01, \n",
    "                  -1.842068e+01]\n",
    "    \n",
    "    max_values = [3.796000e+27, \n",
    "                  2.000000e+03, \n",
    "                  -2.302585e+00, \n",
    "                  1.048665e+08, \n",
    "                  -2.302585e+00, \n",
    "                  -2.302585e+00,\n",
    "                  -2.302585e+00]\n",
    "\n",
    "    params_inverse_scaled = []\n",
    "    for i in range(len(params)):\n",
    "        param = params[i]\n",
    "        min_= min_values[i]\n",
    "        max_ = max_values[i]\n",
    "\n",
    "        params_inverse_scaled.append(inverse_scale_param(param, min_, max_))\n",
    "    \n",
    "    return params_inverse_scaled"
   ]
  },
  {
   "cell_type": "markdown",
   "metadata": {},
   "source": [
    "## Inpainted params"
   ]
  },
  {
   "cell_type": "code",
   "execution_count": 30,
   "metadata": {},
   "outputs": [
    {
     "data": {
      "text/plain": [
       "[-1.0341918,\n",
       " 0.9793762,\n",
       " 0.45602417,\n",
       " -0.25014645,\n",
       " -0.28411254,\n",
       " 0.5805782,\n",
       " 0.97868633]"
      ]
     },
     "execution_count": 30,
     "metadata": {},
     "output_type": "execute_result"
    }
   ],
   "source": [
    "inpainted_params_values = [aspa_inpainted[:16, 25+i:26+i] for i in range(len(inpainted_params))]\n",
    "inpainted_params_mean  = [i.mean() for i in inpainted_params_values]\n",
    "\n",
    "inpainted_params_mean"
   ]
  },
  {
   "cell_type": "code",
   "execution_count": 31,
   "metadata": {},
   "outputs": [
    {
     "data": {
      "text/plain": [
       "-8.95126699298"
      ]
     },
     "execution_count": 31,
     "metadata": {},
     "output_type": "execute_result"
    }
   ],
   "source": [
    "y = (0.5876265 * (-2.306--1.842068e+01))+-1.842068e+01\n",
    "y"
   ]
  },
  {
   "cell_type": "code",
   "execution_count": 32,
   "metadata": {},
   "outputs": [
    {
     "data": {
      "text/plain": [
       "[-8.370753503799436e+26,\n",
       " 1979.376196861267,\n",
       " -11.070439106903077,\n",
       " 43687208.1417501,\n",
       " -23.000032956632523,\n",
       " -9.062865289015175,\n",
       " -2.646120714297295]"
      ]
     },
     "execution_count": 32,
     "metadata": {},
     "output_type": "execute_result"
    }
   ],
   "source": [
    "inpainted_params_mean = inverse_scale_params(inpainted_params_mean)\n",
    "inpainted_params_mean"
   ]
  },
  {
   "cell_type": "markdown",
   "metadata": {},
   "source": [
    "### Convert mixtures from log back to regular scale"
   ]
  },
  {
   "cell_type": "code",
   "execution_count": 33,
   "metadata": {},
   "outputs": [],
   "source": [
    "for i,param in enumerate(inpainted_params):\n",
    "    if 'mixratio' in param:\n",
    "        inpainted_params[param] = (inpainted_params_mean[i]) # convert log back to regular scale\n",
    "    else:\n",
    "        inpainted_params[param] = inpainted_params_mean[i]"
   ]
  },
  {
   "cell_type": "code",
   "execution_count": 34,
   "metadata": {},
   "outputs": [
    {
     "data": {
      "text/plain": [
       "{'planet_mass': -8.370753503799436e+26,\n",
       " 'temp_profile': 1979.376196861267,\n",
       " 'ch4_mixratio': -11.070439106903077,\n",
       " 'planet_radius': 43687208.1417501,\n",
       " 'h2o_mixratio': -23.000032956632523,\n",
       " 'co2_mixratio': -9.062865289015175,\n",
       " 'co_mixratio': -2.646120714297295}"
      ]
     },
     "execution_count": 34,
     "metadata": {},
     "output_type": "execute_result"
    }
   ],
   "source": [
    "inpainted_params"
   ]
  },
  {
   "cell_type": "markdown",
   "metadata": {},
   "source": [
    "## Real params\n",
    "Ground truth params"
   ]
  },
  {
   "cell_type": "code",
   "execution_count": 35,
   "metadata": {},
   "outputs": [
    {
     "data": {
      "text/plain": [
       "[-0.11111111,\n",
       " 0.7777778,\n",
       " -1.0000001,\n",
       " -0.33333334,\n",
       " -0.77777785,\n",
       " 0.11111107,\n",
       " 0.11111107]"
      ]
     },
     "execution_count": 35,
     "metadata": {},
     "output_type": "execute_result"
    }
   ],
   "source": [
    "real_params_values = [aspa_real[:16, 25+i:26+i] for i in range(len(real_params))]\n",
    "real_params_mean  = [i.mean() for i in real_params_values]\n",
    "real_params_mean"
   ]
  },
  {
   "cell_type": "code",
   "execution_count": 36,
   "metadata": {},
   "outputs": [
    {
     "data": {
      "text/plain": [
       "[1.2653333314478397e+27,\n",
       " 1777.7777910232544,\n",
       " -34.53877692142666,\n",
       " 39616232.84718096,\n",
       " -30.95697728531629,\n",
       " -16.62978126274731,\n",
       " -16.62978126274731]"
      ]
     },
     "execution_count": 36,
     "metadata": {},
     "output_type": "execute_result"
    }
   ],
   "source": [
    "real_params_mean = inverse_scale_params(real_params_mean)\n",
    "real_params_mean"
   ]
  },
  {
   "cell_type": "markdown",
   "metadata": {},
   "source": [
    "### Convert mixtures from log back to regular scale"
   ]
  },
  {
   "cell_type": "code",
   "execution_count": 37,
   "metadata": {},
   "outputs": [],
   "source": [
    "for i,param in enumerate(real_params):\n",
    "    if 'mixratio' in param:\n",
    "        real_params[param] = (real_params_mean[i]) # convert log back to regular scale\n",
    "    else:\n",
    "        real_params[param] = real_params_mean[i]"
   ]
  },
  {
   "cell_type": "code",
   "execution_count": 38,
   "metadata": {},
   "outputs": [
    {
     "data": {
      "text/plain": [
       "{'planet_mass': 1.2653333314478397e+27,\n",
       " 'temp_profile': 1777.7777910232544,\n",
       " 'ch4_mixratio': -34.53877692142666,\n",
       " 'planet_radius': 39616232.84718096,\n",
       " 'h2o_mixratio': -30.95697728531629,\n",
       " 'co2_mixratio': -16.62978126274731,\n",
       " 'co_mixratio': -16.62978126274731}"
      ]
     },
     "execution_count": 38,
     "metadata": {},
     "output_type": "execute_result"
    }
   ],
   "source": [
    "real_params"
   ]
  },
  {
   "cell_type": "markdown",
   "metadata": {},
   "source": [
    "## Percentage error\n",
    "\n",
    "% error = $\\frac{y-\\hat{y}}{\\hat{y}} \\cdot$ 100"
   ]
  },
  {
   "cell_type": "code",
   "execution_count": 39,
   "metadata": {},
   "outputs": [
    {
     "data": {
      "text/plain": [
       "{'planet_mass': -166.15453253113407,\n",
       " 'temp_profile': 11.339910243899299,\n",
       " 'ch4_mixratio': -67.94779637945037,\n",
       " 'planet_radius': 10.276028289395567,\n",
       " 'h2o_mixratio': -25.70323405721513,\n",
       " 'co2_mixratio': -45.50219785922818,\n",
       " 'co_mixratio': -84.08806061553605}"
      ]
     },
     "execution_count": 39,
     "metadata": {},
     "output_type": "execute_result"
    }
   ],
   "source": [
    "percentage_errors = []\n",
    "for param in real_params:\n",
    "    y_hat = real_params[param]\n",
    "    y = inpainted_params[param]\n",
    "    \n",
    "    params_errors[param] = ((y - y_hat) / y_hat)*100\n",
    "\n",
    "params_errors"
   ]
  },
  {
   "cell_type": "markdown",
   "metadata": {},
   "source": [
    "## Print results"
   ]
  },
  {
   "cell_type": "code",
   "execution_count": 40,
   "metadata": {},
   "outputs": [
    {
     "name": "stdout",
     "output_type": "stream",
     "text": [
      "planet_mass \t Real value: 1.26533e+27 \t inpainted value: -8.37075e+26 \t perc. diff.: -166.1545325311340661755821202\n",
      "temp_profile \t Real value: 1.77778e+03 \t inpainted value: 1.97938e+03 \t perc. diff.: 11.3399102438992986918719907\n",
      "ch4_mixratio \t Real value: -3.45388e+01 \t inpainted value: -1.10704e+01 \t perc. diff.: -67.9477963794503665440061013\n",
      "planet_radius \t Real value: 3.96162e+07 \t inpainted value: 4.36872e+07 \t perc. diff.: 10.2760282893955672278707425\n",
      "h2o_mixratio \t Real value: -3.09570e+01 \t inpainted value: -2.30000e+01 \t perc. diff.: -25.7032340572151305480019801\n",
      "co2_mixratio \t Real value: -1.66298e+01 \t inpainted value: -9.06287e+00 \t perc. diff.: -45.5021978592281826081489271\n",
      "co_mixratio \t Real value: -1.66298e+01 \t inpainted value: -2.64612e+00 \t perc. diff.: -84.0880606155360510456375778\n"
     ]
    }
   ],
   "source": [
    "for param in inpainted_params:\n",
    "    real = real_params[param]\n",
    "    inpainted = inpainted_params[param]\n",
    "    error = params_errors[param]\n",
    "    \n",
    "    print('%s \\t Real value: %.5e \\t inpainted value: %.5e \\t perc. diff.: %.25f' % (param, real, inpainted, error))"
   ]
  },
  {
   "cell_type": "markdown",
   "metadata": {},
   "source": [
    "# Functionize this to output the MAPE of all inpainted images per metric "
   ]
  },
  {
   "cell_type": "code",
   "execution_count": 41,
   "metadata": {},
   "outputs": [
    {
     "name": "stderr",
     "output_type": "stream",
     "text": [
      "/opt/jupyterhub/anaconda/lib/python3.6/site-packages/ipykernel_launcher.py:39: RuntimeWarning: divide by zero encountered in double_scalars\n"
     ]
    }
   ],
   "source": [
    "#real_images = []\n",
    "#final_inpainted_images = []\n",
    "\n",
    "reals = []\n",
    "inpainteds = []\n",
    "errors = []\n",
    "for i in range(len(real_images)-1):\n",
    "    aspa_real = real_images[i].detach().cpu()[0, 0, :, :].numpy() # size is 32,32 now\n",
    "    aspa_inpainted = final_inpainted_images[i].detach().cpu()[0, 0, :, :].numpy() # size is 32,32 now\n",
    "\n",
    "    \"\"\"Decode inpainted aspa\"\"\"\n",
    "    inpainted_params_values = [aspa_inpainted[:16, 25+j:26+j] for j in range(len(inpainted_params))]\n",
    "    inpainted_params_mean  = [k.mean() for k in inpainted_params_values]\n",
    "    inpainted_params_mean = inverse_scale_params(inpainted_params_mean)\n",
    "    \n",
    "    for a,param in enumerate(inpainted_params):\n",
    "        if 'mixratio' in param:\n",
    "            inpainted_params[param] = inpainted_params_mean[a] # convert log back to regular scale\n",
    "        else:\n",
    "            inpainted_params[param] = inpainted_params_mean[a]\n",
    "    \n",
    "    \"\"\"Decode real aspa\"\"\"\n",
    "    real_params_values = [aspa_real[:16, 25+b:26+b] for b in range(len(real_params))]\n",
    "    real_params_mean  = [c.mean() for c in real_params_values]\n",
    "    real_params_mean = inverse_scale_params(real_params_mean)\n",
    "    \n",
    "    for d,param in enumerate(real_params):\n",
    "        if 'mixratio' in param:\n",
    "            real_params[param] = real_params_mean[d] # convert log back to regular scale\n",
    "        else:\n",
    "            real_params[param] = real_params_mean[d]\n",
    "\n",
    "    \"\"\"Calculate percentage difference\"\"\"\n",
    "    params_errors = dict.fromkeys(params_errors, 0) # copy dicts' keys, set all values to zero\n",
    "    for param in real_params:\n",
    "        y_hat = real_params[param]\n",
    "        y = inpainted_params[param]\n",
    "        \n",
    "        params_errors[param] = ((y - y_hat) / y_hat)*100\n",
    "\n",
    "    reals.append(real_params.copy()) # !!!!! for some reason dicts need to be copied, to be able to append to a list... otherwise the dicts inside the lists get update too\n",
    "    inpainteds.append(inpainted_params.copy())\n",
    "    errors.append(params_errors.copy())\n"
   ]
  },
  {
   "cell_type": "raw",
   "metadata": {},
   "source": [
    "for error in errors:\n",
    "    print(error)"
   ]
  },
  {
   "cell_type": "markdown",
   "metadata": {},
   "source": [
    "# Create one large df from all the dicts"
   ]
  },
  {
   "cell_type": "code",
   "execution_count": 42,
   "metadata": {},
   "outputs": [
    {
     "name": "stdout",
     "output_type": "stream",
     "text": [
      "{'planet_mass': 1.2653333314478397e+27, 'temp_profile': 1777.7777910232544, 'ch4_mixratio': -34.53877692142666, 'planet_radius': 39616232.84718096, 'h2o_mixratio': -30.95697728531629, 'co2_mixratio': -16.62978126274731, 'co_mixratio': -16.62978126274731}\n",
      "{'planet_mass': -2.530666968345642e+26, 'temp_profile': 222.2222089767456, 'ch4_mixratio': -9.466183311507404, 'planet_radius': 50491277.73726508, 'h2o_mixratio': -30.95697728531629, 'co2_mixratio': -16.62978126274731, 'co_mixratio': -9.466183311507404}\n",
      "{'planet_mass': 7.591999773740768e+26, 'temp_profile': 1111.1111119389534, 'ch4_mixratio': -2.3025850000000005, 'planet_radius': 83116412.40751743, 'h2o_mixratio': -13.047982467261107, 'co2_mixratio': -2.3025850000000005, 'co_mixratio': -23.79337945416555}\n",
      "{'planet_mass': -2.530666968345642e+26, 'temp_profile': 444.4444179534912, 'ch4_mixratio': -2.3025850000000005, 'planet_radius': 28741187.592482567, 'h2o_mixratio': -23.79337945416555, 'co2_mixratio': -23.79337945416555, 'co_mixratio': -27.375178609919253}\n",
      "{'planet_mass': 1.7714666685521603e+27, 'temp_profile': 666.6666567325592, 'ch4_mixratio': -9.466183311507404, 'planet_radius': 72241367.15281904, 'h2o_mixratio': -5.884384636110367, 'co2_mixratio': -30.95697728531629, 'co_mixratio': -2.3025850000000005}\n",
      "{'planet_mass': 1.2653333314478397e+27, 'temp_profile': 0.0, 'ch4_mixratio': -34.53877692142666, 'planet_radius': 28741187.592482567, 'h2o_mixratio': -2.3025850000000005, 'co2_mixratio': -20.211580298411846, 'co_mixratio': -20.211580298411846}\n",
      "{'planet_mass': 3.289866696834564e+27, 'temp_profile': 222.2222089767456, 'ch4_mixratio': -13.047982467261107, 'planet_radius': 50491277.73726508, 'h2o_mixratio': -13.047982467261107, 'co2_mixratio': -5.884384636110367, 'co_mixratio': -5.884384636110367}\n",
      "{'planet_mass': -2.530666968345642e+26, 'temp_profile': 666.6666567325592, 'ch4_mixratio': -30.95697728531629, 'planet_radius': 93991456.20375872, 'h2o_mixratio': -27.375178609919253, 'co2_mixratio': -20.211580298411846, 'co_mixratio': -30.95697728531629}\n",
      "{'planet_mass': 1.2653333314478397e+27, 'temp_profile': 0.0, 'ch4_mixratio': -16.62978126274731, 'planet_radius': 17866143.796241283, 'h2o_mixratio': -2.3025850000000005, 'co2_mixratio': -13.047982467261107, 'co_mixratio': -13.047982467261107}\n",
      "{'planet_mass': 7.591999773740768e+26, 'temp_profile': 1555.5555820465088, 'ch4_mixratio': -23.79337945416555, 'planet_radius': 72241367.15281904, 'h2o_mixratio': -5.884384636110367, 'co2_mixratio': -13.047982467261107, 'co_mixratio': -34.53877692142666}\n",
      "{'planet_mass': 7.591999773740768e+26, 'temp_profile': 444.4444179534912, 'ch4_mixratio': -2.3025850000000005, 'planet_radius': 93991456.20375872, 'h2o_mixratio': -27.375178609919253, 'co2_mixratio': -27.375178609919253, 'co_mixratio': -23.79337945416555}\n",
      "{'planet_mass': 2.783733393669128e+27, 'temp_profile': 666.6666567325592, 'ch4_mixratio': -16.62978126274731, 'planet_radius': 104866500.0, 'h2o_mixratio': -13.047982467261107, 'co2_mixratio': -30.95697728531629, 'co_mixratio': -34.53877692142666}\n",
      "{'planet_mass': -7.591999999999999e+26, 'temp_profile': 2000.0, 'ch4_mixratio': -20.211580298411846, 'planet_radius': 93991456.20375872, 'h2o_mixratio': -30.95697728531629, 'co2_mixratio': -9.466183311507404, 'co_mixratio': -27.375178609919253}\n",
      "{'planet_mass': 3.796e+27, 'temp_profile': 1111.1111119389534, 'ch4_mixratio': -23.79337945416555, 'planet_radius': 72241367.15281904, 'h2o_mixratio': -27.375178609919253, 'co2_mixratio': -30.95697728531629, 'co_mixratio': -34.53877692142666}\n",
      "{'planet_mass': 2.783733393669128e+27, 'temp_profile': 1333.3333432674408, 'ch4_mixratio': -34.53877692142666, 'planet_radius': 28741187.592482567, 'h2o_mixratio': -13.047982467261107, 'co2_mixratio': -2.3025850000000005, 'co_mixratio': -9.466183311507404}\n",
      "{'planet_mass': 3.289866696834564e+27, 'temp_profile': 888.8888880610466, 'ch4_mixratio': -27.375178609919253, 'planet_radius': 39616232.84718096, 'h2o_mixratio': -20.211580298411846, 'co2_mixratio': -30.95697728531629, 'co_mixratio': -20.211580298411846}\n",
      "{'planet_mass': 3.796e+27, 'temp_profile': 888.8888880610466, 'ch4_mixratio': -34.53877692142666, 'planet_radius': 61366322.26273492, 'h2o_mixratio': -2.3025850000000005, 'co2_mixratio': -23.79337945416555, 'co_mixratio': -13.047982467261107}\n",
      "{'planet_mass': -2.530666968345642e+26, 'temp_profile': 1777.7777910232544, 'ch4_mixratio': -16.62978126274731, 'planet_radius': 17866143.796241283, 'h2o_mixratio': -23.79337945416555, 'co2_mixratio': -23.79337945416555, 'co_mixratio': -2.3025850000000005}\n",
      "{'planet_mass': 3.289866696834564e+27, 'temp_profile': 222.2222089767456, 'ch4_mixratio': -13.047982467261107, 'planet_radius': 6991100.0, 'h2o_mixratio': -9.466183311507404, 'co2_mixratio': -16.62978126274731, 'co_mixratio': -16.62978126274731}\n",
      "{'planet_mass': 1.7714666685521603e+27, 'temp_profile': 666.6666567325592, 'ch4_mixratio': -30.95697728531629, 'planet_radius': 72241367.15281904, 'h2o_mixratio': -2.3025850000000005, 'co2_mixratio': -20.211580298411846, 'co_mixratio': -2.3025850000000005}\n",
      "{'planet_mass': 2.783733393669128e+27, 'temp_profile': 222.2222089767456, 'ch4_mixratio': -2.3025850000000005, 'planet_radius': 17866143.796241283, 'h2o_mixratio': -34.53877692142666, 'co2_mixratio': -5.884384636110367, 'co_mixratio': -2.3025850000000005}\n",
      "{'planet_mass': 3.796e+27, 'temp_profile': 666.6666567325592, 'ch4_mixratio': -30.95697728531629, 'planet_radius': 72241367.15281904, 'h2o_mixratio': -13.047982467261107, 'co2_mixratio': -2.3025850000000005, 'co_mixratio': -20.211580298411846}\n",
      "{'planet_mass': 2.5306660633087177e+26, 'temp_profile': 666.6666567325592, 'ch4_mixratio': -27.375178609919253, 'planet_radius': 104866500.0, 'h2o_mixratio': -9.466183311507404, 'co2_mixratio': -2.3025850000000005, 'co_mixratio': -34.53877692142666}\n",
      "{'planet_mass': 2.5306660633087177e+26, 'temp_profile': 0.0, 'ch4_mixratio': -5.884384636110367, 'planet_radius': 72241367.15281904, 'h2o_mixratio': -16.62978126274731, 'co2_mixratio': -30.95697728531629, 'co_mixratio': -20.211580298411846}\n"
     ]
    }
   ],
   "source": [
    "dfs = []\n",
    "for i in range(len(errors)):\n",
    "    print(reals[i])\n",
    "    df1 = pd.DataFrame(errors[i], index=[0])\n",
    "    df1.columns = [i+'_error' for i in df1.columns]\n",
    "\n",
    "    df2 = pd.DataFrame(reals[i], index=[0])\n",
    "    df2.columns = [i+'_real' for i in df2.columns]\n",
    "\n",
    "    df3 = pd.DataFrame(inpainteds[i], index=[0])\n",
    "    df3.columns = [i+'_inpainted' for i in df3.columns]\n",
    "\n",
    "    df = pd.concat([df1, df2, df3], axis=1)\n",
    "    \n",
    "    dfs.append(df)\n",
    "\n",
    "df = pd.concat(dfs)"
   ]
  },
  {
   "cell_type": "markdown",
   "metadata": {},
   "source": [
    "# Errors of all images"
   ]
  },
  {
   "cell_type": "code",
   "execution_count": 43,
   "metadata": {},
   "outputs": [
    {
     "data": {
      "text/html": [
       "<div>\n",
       "<style scoped>\n",
       "    .dataframe tbody tr th:only-of-type {\n",
       "        vertical-align: middle;\n",
       "    }\n",
       "\n",
       "    .dataframe tbody tr th {\n",
       "        vertical-align: top;\n",
       "    }\n",
       "\n",
       "    .dataframe thead th {\n",
       "        text-align: right;\n",
       "    }\n",
       "</style>\n",
       "<table border=\"1\" class=\"dataframe\">\n",
       "  <thead>\n",
       "    <tr style=\"text-align: right;\">\n",
       "      <th></th>\n",
       "      <th>planet_mass_error</th>\n",
       "      <th>temp_profile_error</th>\n",
       "      <th>ch4_mixratio_error</th>\n",
       "      <th>planet_radius_error</th>\n",
       "      <th>h2o_mixratio_error</th>\n",
       "      <th>co2_mixratio_error</th>\n",
       "      <th>co_mixratio_error</th>\n",
       "      <th>planet_mass_real</th>\n",
       "      <th>temp_profile_real</th>\n",
       "      <th>ch4_mixratio_real</th>\n",
       "      <th>...</th>\n",
       "      <th>h2o_mixratio_real</th>\n",
       "      <th>co2_mixratio_real</th>\n",
       "      <th>co_mixratio_real</th>\n",
       "      <th>planet_mass_inpainted</th>\n",
       "      <th>temp_profile_inpainted</th>\n",
       "      <th>ch4_mixratio_inpainted</th>\n",
       "      <th>planet_radius_inpainted</th>\n",
       "      <th>h2o_mixratio_inpainted</th>\n",
       "      <th>co2_mixratio_inpainted</th>\n",
       "      <th>co_mixratio_inpainted</th>\n",
       "    </tr>\n",
       "  </thead>\n",
       "  <tbody>\n",
       "    <tr>\n",
       "      <th>count</th>\n",
       "      <td>24.000000</td>\n",
       "      <td>24.000000</td>\n",
       "      <td>24.000000</td>\n",
       "      <td>24.000000</td>\n",
       "      <td>24.000000</td>\n",
       "      <td>24.000000</td>\n",
       "      <td>24.000000</td>\n",
       "      <td>2.400000e+01</td>\n",
       "      <td>24.000000</td>\n",
       "      <td>24.000000</td>\n",
       "      <td>...</td>\n",
       "      <td>24.000000</td>\n",
       "      <td>24.000000</td>\n",
       "      <td>24.000000</td>\n",
       "      <td>2.400000e+01</td>\n",
       "      <td>24.000000</td>\n",
       "      <td>24.000000</td>\n",
       "      <td>2.400000e+01</td>\n",
       "      <td>24.000000</td>\n",
       "      <td>24.000000</td>\n",
       "      <td>24.000000</td>\n",
       "    </tr>\n",
       "    <tr>\n",
       "      <th>mean</th>\n",
       "      <td>-10.905107</td>\n",
       "      <td>inf</td>\n",
       "      <td>-2.140466</td>\n",
       "      <td>-0.133102</td>\n",
       "      <td>-0.855203</td>\n",
       "      <td>11.038474</td>\n",
       "      <td>1.108420</td>\n",
       "      <td>1.581667e+27</td>\n",
       "      <td>759.259255</td>\n",
       "      <td>-19.316131</td>\n",
       "      <td>...</td>\n",
       "      <td>-16.629781</td>\n",
       "      <td>-17.525231</td>\n",
       "      <td>-18.569923</td>\n",
       "      <td>1.785218e+27</td>\n",
       "      <td>943.819802</td>\n",
       "      <td>-17.651174</td>\n",
       "      <td>5.666095e+07</td>\n",
       "      <td>-15.813419</td>\n",
       "      <td>-17.325492</td>\n",
       "      <td>-14.667616</td>\n",
       "    </tr>\n",
       "    <tr>\n",
       "      <th>std</th>\n",
       "      <td>324.878256</td>\n",
       "      <td>NaN</td>\n",
       "      <td>26.215873</td>\n",
       "      <td>15.396958</td>\n",
       "      <td>18.260777</td>\n",
       "      <td>37.594465</td>\n",
       "      <td>56.528172</td>\n",
       "      <td>1.513349e+27</td>\n",
       "      <td>589.464376</td>\n",
       "      <td>11.678222</td>\n",
       "      <td>...</td>\n",
       "      <td>10.667248</td>\n",
       "      <td>10.308246</td>\n",
       "      <td>11.126870</td>\n",
       "      <td>1.540977e+27</td>\n",
       "      <td>609.403287</td>\n",
       "      <td>10.110423</td>\n",
       "      <td>2.955584e+07</td>\n",
       "      <td>9.832813</td>\n",
       "      <td>9.618784</td>\n",
       "      <td>9.304669</td>\n",
       "    </tr>\n",
       "    <tr>\n",
       "      <th>min</th>\n",
       "      <td>-786.955438</td>\n",
       "      <td>-113.120374</td>\n",
       "      <td>-39.569920</td>\n",
       "      <td>-15.899746</td>\n",
       "      <td>-42.665601</td>\n",
       "      <td>-21.871528</td>\n",
       "      <td>-93.086991</td>\n",
       "      <td>-7.592000e+26</td>\n",
       "      <td>0.000000</td>\n",
       "      <td>-34.538777</td>\n",
       "      <td>...</td>\n",
       "      <td>-34.538777</td>\n",
       "      <td>-30.956977</td>\n",
       "      <td>-34.538777</td>\n",
       "      <td>-2.337221e+27</td>\n",
       "      <td>-174.938321</td>\n",
       "      <td>-32.847338</td>\n",
       "      <td>1.157647e+07</td>\n",
       "      <td>-30.890528</td>\n",
       "      <td>-32.313029</td>\n",
       "      <td>-33.875962</td>\n",
       "    </tr>\n",
       "    <tr>\n",
       "      <th>25%</th>\n",
       "      <td>-87.387082</td>\n",
       "      <td>-36.132599</td>\n",
       "      <td>-18.678781</td>\n",
       "      <td>-6.474725</td>\n",
       "      <td>-8.736481</td>\n",
       "      <td>-4.871141</td>\n",
       "      <td>-35.748678</td>\n",
       "      <td>2.530666e+26</td>\n",
       "      <td>222.222209</td>\n",
       "      <td>-30.956977</td>\n",
       "      <td>...</td>\n",
       "      <td>-27.375179</td>\n",
       "      <td>-24.688829</td>\n",
       "      <td>-27.375179</td>\n",
       "      <td>8.848619e+26</td>\n",
       "      <td>471.689194</td>\n",
       "      <td>-26.601089</td>\n",
       "      <td>2.895352e+07</td>\n",
       "      <td>-25.981551</td>\n",
       "      <td>-25.669276</td>\n",
       "      <td>-21.079841</td>\n",
       "    </tr>\n",
       "    <tr>\n",
       "      <th>50%</th>\n",
       "      <td>-11.885431</td>\n",
       "      <td>7.139120</td>\n",
       "      <td>-2.761598</td>\n",
       "      <td>-2.405443</td>\n",
       "      <td>-3.988488</td>\n",
       "      <td>0.712496</td>\n",
       "      <td>-6.461865</td>\n",
       "      <td>1.265333e+27</td>\n",
       "      <td>666.666657</td>\n",
       "      <td>-18.420681</td>\n",
       "      <td>...</td>\n",
       "      <td>-13.047982</td>\n",
       "      <td>-18.420681</td>\n",
       "      <td>-20.211580</td>\n",
       "      <td>1.924296e+27</td>\n",
       "      <td>997.563626</td>\n",
       "      <td>-19.356511</td>\n",
       "      <td>5.961192e+07</td>\n",
       "      <td>-14.580206</td>\n",
       "      <td>-17.647555</td>\n",
       "      <td>-14.849230</td>\n",
       "    </tr>\n",
       "    <tr>\n",
       "      <th>75%</th>\n",
       "      <td>101.392151</td>\n",
       "      <td>226.855103</td>\n",
       "      <td>7.901165</td>\n",
       "      <td>2.106894</td>\n",
       "      <td>9.263064</td>\n",
       "      <td>4.902330</td>\n",
       "      <td>45.607221</td>\n",
       "      <td>2.910267e+27</td>\n",
       "      <td>1111.111112</td>\n",
       "      <td>-9.466183</td>\n",
       "      <td>...</td>\n",
       "      <td>-8.570734</td>\n",
       "      <td>-8.570734</td>\n",
       "      <td>-9.466183</td>\n",
       "      <td>3.233481e+27</td>\n",
       "      <td>1486.456431</td>\n",
       "      <td>-9.611795</td>\n",
       "      <td>7.498964e+07</td>\n",
       "      <td>-8.162659</td>\n",
       "      <td>-8.639533</td>\n",
       "      <td>-4.525881</td>\n",
       "    </tr>\n",
       "    <tr>\n",
       "      <th>max</th>\n",
       "      <td>931.333171</td>\n",
       "      <td>inf</td>\n",
       "      <td>91.456366</td>\n",
       "      <td>65.588701</td>\n",
       "      <td>39.532030</td>\n",
       "      <td>160.111892</td>\n",
       "      <td>105.778205</td>\n",
       "      <td>3.796000e+27</td>\n",
       "      <td>2000.000000</td>\n",
       "      <td>-2.302585</td>\n",
       "      <td>...</td>\n",
       "      <td>-2.302585</td>\n",
       "      <td>-2.302585</td>\n",
       "      <td>-2.302585</td>\n",
       "      <td>3.835328e+27</td>\n",
       "      <td>1866.311550</td>\n",
       "      <td>-2.105643</td>\n",
       "      <td>1.043583e+08</td>\n",
       "      <td>-1.992109</td>\n",
       "      <td>-3.373324</td>\n",
       "      <td>-1.955329</td>\n",
       "    </tr>\n",
       "  </tbody>\n",
       "</table>\n",
       "<p>8 rows × 21 columns</p>\n",
       "</div>"
      ],
      "text/plain": [
       "       planet_mass_error  temp_profile_error  ch4_mixratio_error  \\\n",
       "count          24.000000           24.000000           24.000000   \n",
       "mean          -10.905107                 inf           -2.140466   \n",
       "std           324.878256                 NaN           26.215873   \n",
       "min          -786.955438         -113.120374          -39.569920   \n",
       "25%           -87.387082          -36.132599          -18.678781   \n",
       "50%           -11.885431            7.139120           -2.761598   \n",
       "75%           101.392151          226.855103            7.901165   \n",
       "max           931.333171                 inf           91.456366   \n",
       "\n",
       "       planet_radius_error  h2o_mixratio_error  co2_mixratio_error  \\\n",
       "count            24.000000           24.000000           24.000000   \n",
       "mean             -0.133102           -0.855203           11.038474   \n",
       "std              15.396958           18.260777           37.594465   \n",
       "min             -15.899746          -42.665601          -21.871528   \n",
       "25%              -6.474725           -8.736481           -4.871141   \n",
       "50%              -2.405443           -3.988488            0.712496   \n",
       "75%               2.106894            9.263064            4.902330   \n",
       "max              65.588701           39.532030          160.111892   \n",
       "\n",
       "       co_mixratio_error  planet_mass_real  temp_profile_real  \\\n",
       "count          24.000000      2.400000e+01          24.000000   \n",
       "mean            1.108420      1.581667e+27         759.259255   \n",
       "std            56.528172      1.513349e+27         589.464376   \n",
       "min           -93.086991     -7.592000e+26           0.000000   \n",
       "25%           -35.748678      2.530666e+26         222.222209   \n",
       "50%            -6.461865      1.265333e+27         666.666657   \n",
       "75%            45.607221      2.910267e+27        1111.111112   \n",
       "max           105.778205      3.796000e+27        2000.000000   \n",
       "\n",
       "       ch4_mixratio_real          ...            h2o_mixratio_real  \\\n",
       "count          24.000000          ...                    24.000000   \n",
       "mean          -19.316131          ...                   -16.629781   \n",
       "std            11.678222          ...                    10.667248   \n",
       "min           -34.538777          ...                   -34.538777   \n",
       "25%           -30.956977          ...                   -27.375179   \n",
       "50%           -18.420681          ...                   -13.047982   \n",
       "75%            -9.466183          ...                    -8.570734   \n",
       "max            -2.302585          ...                    -2.302585   \n",
       "\n",
       "       co2_mixratio_real  co_mixratio_real  planet_mass_inpainted  \\\n",
       "count          24.000000         24.000000           2.400000e+01   \n",
       "mean          -17.525231        -18.569923           1.785218e+27   \n",
       "std            10.308246         11.126870           1.540977e+27   \n",
       "min           -30.956977        -34.538777          -2.337221e+27   \n",
       "25%           -24.688829        -27.375179           8.848619e+26   \n",
       "50%           -18.420681        -20.211580           1.924296e+27   \n",
       "75%            -8.570734         -9.466183           3.233481e+27   \n",
       "max            -2.302585         -2.302585           3.835328e+27   \n",
       "\n",
       "       temp_profile_inpainted  ch4_mixratio_inpainted  \\\n",
       "count               24.000000               24.000000   \n",
       "mean               943.819802              -17.651174   \n",
       "std                609.403287               10.110423   \n",
       "min               -174.938321              -32.847338   \n",
       "25%                471.689194              -26.601089   \n",
       "50%                997.563626              -19.356511   \n",
       "75%               1486.456431               -9.611795   \n",
       "max               1866.311550               -2.105643   \n",
       "\n",
       "       planet_radius_inpainted  h2o_mixratio_inpainted  \\\n",
       "count             2.400000e+01               24.000000   \n",
       "mean              5.666095e+07              -15.813419   \n",
       "std               2.955584e+07                9.832813   \n",
       "min               1.157647e+07              -30.890528   \n",
       "25%               2.895352e+07              -25.981551   \n",
       "50%               5.961192e+07              -14.580206   \n",
       "75%               7.498964e+07               -8.162659   \n",
       "max               1.043583e+08               -1.992109   \n",
       "\n",
       "       co2_mixratio_inpainted  co_mixratio_inpainted  \n",
       "count               24.000000              24.000000  \n",
       "mean               -17.325492             -14.667616  \n",
       "std                  9.618784               9.304669  \n",
       "min                -32.313029             -33.875962  \n",
       "25%                -25.669276             -21.079841  \n",
       "50%                -17.647555             -14.849230  \n",
       "75%                 -8.639533              -4.525881  \n",
       "max                 -3.373324              -1.955329  \n",
       "\n",
       "[8 rows x 21 columns]"
      ]
     },
     "execution_count": 43,
     "metadata": {},
     "output_type": "execute_result"
    }
   ],
   "source": [
    "df.describe()"
   ]
  },
  {
   "cell_type": "code",
   "execution_count": 44,
   "metadata": {},
   "outputs": [
    {
     "data": {
      "text/html": [
       "<div>\n",
       "<style scoped>\n",
       "    .dataframe tbody tr th:only-of-type {\n",
       "        vertical-align: middle;\n",
       "    }\n",
       "\n",
       "    .dataframe tbody tr th {\n",
       "        vertical-align: top;\n",
       "    }\n",
       "\n",
       "    .dataframe thead th {\n",
       "        text-align: right;\n",
       "    }\n",
       "</style>\n",
       "<table border=\"1\" class=\"dataframe\">\n",
       "  <thead>\n",
       "    <tr style=\"text-align: right;\">\n",
       "      <th></th>\n",
       "      <th>planet_mass_error</th>\n",
       "      <th>temp_profile_error</th>\n",
       "      <th>ch4_mixratio_error</th>\n",
       "      <th>planet_radius_error</th>\n",
       "      <th>h2o_mixratio_error</th>\n",
       "      <th>co2_mixratio_error</th>\n",
       "      <th>co_mixratio_error</th>\n",
       "      <th>planet_mass_real</th>\n",
       "      <th>temp_profile_real</th>\n",
       "      <th>ch4_mixratio_real</th>\n",
       "      <th>...</th>\n",
       "      <th>h2o_mixratio_real</th>\n",
       "      <th>co2_mixratio_real</th>\n",
       "      <th>co_mixratio_real</th>\n",
       "      <th>planet_mass_inpainted</th>\n",
       "      <th>temp_profile_inpainted</th>\n",
       "      <th>ch4_mixratio_inpainted</th>\n",
       "      <th>planet_radius_inpainted</th>\n",
       "      <th>h2o_mixratio_inpainted</th>\n",
       "      <th>co2_mixratio_inpainted</th>\n",
       "      <th>co_mixratio_inpainted</th>\n",
       "    </tr>\n",
       "  </thead>\n",
       "  <tbody>\n",
       "    <tr>\n",
       "      <th>count</th>\n",
       "      <td>24.000000</td>\n",
       "      <td>24.000000</td>\n",
       "      <td>24.000000</td>\n",
       "      <td>24.000000</td>\n",
       "      <td>24.000000</td>\n",
       "      <td>24.000000</td>\n",
       "      <td>24.000000</td>\n",
       "      <td>2.400000e+01</td>\n",
       "      <td>24.000000</td>\n",
       "      <td>24.000000</td>\n",
       "      <td>...</td>\n",
       "      <td>24.000000</td>\n",
       "      <td>24.000000</td>\n",
       "      <td>24.000000</td>\n",
       "      <td>2.400000e+01</td>\n",
       "      <td>24.000000</td>\n",
       "      <td>24.000000</td>\n",
       "      <td>2.400000e+01</td>\n",
       "      <td>24.000000</td>\n",
       "      <td>24.000000</td>\n",
       "      <td>24.000000</td>\n",
       "    </tr>\n",
       "    <tr>\n",
       "      <th>mean</th>\n",
       "      <td>-10.905107</td>\n",
       "      <td>inf</td>\n",
       "      <td>-2.140466</td>\n",
       "      <td>-0.133102</td>\n",
       "      <td>-0.855203</td>\n",
       "      <td>11.038474</td>\n",
       "      <td>1.108420</td>\n",
       "      <td>1.581667e+27</td>\n",
       "      <td>759.259255</td>\n",
       "      <td>-19.316131</td>\n",
       "      <td>...</td>\n",
       "      <td>-16.629781</td>\n",
       "      <td>-17.525231</td>\n",
       "      <td>-18.569923</td>\n",
       "      <td>1.785218e+27</td>\n",
       "      <td>943.819802</td>\n",
       "      <td>-17.651174</td>\n",
       "      <td>5.666095e+07</td>\n",
       "      <td>-15.813419</td>\n",
       "      <td>-17.325492</td>\n",
       "      <td>-14.667616</td>\n",
       "    </tr>\n",
       "    <tr>\n",
       "      <th>std</th>\n",
       "      <td>324.878256</td>\n",
       "      <td>NaN</td>\n",
       "      <td>26.215873</td>\n",
       "      <td>15.396958</td>\n",
       "      <td>18.260777</td>\n",
       "      <td>37.594465</td>\n",
       "      <td>56.528172</td>\n",
       "      <td>1.513349e+27</td>\n",
       "      <td>589.464376</td>\n",
       "      <td>11.678222</td>\n",
       "      <td>...</td>\n",
       "      <td>10.667248</td>\n",
       "      <td>10.308246</td>\n",
       "      <td>11.126870</td>\n",
       "      <td>1.540977e+27</td>\n",
       "      <td>609.403287</td>\n",
       "      <td>10.110423</td>\n",
       "      <td>2.955584e+07</td>\n",
       "      <td>9.832813</td>\n",
       "      <td>9.618784</td>\n",
       "      <td>9.304669</td>\n",
       "    </tr>\n",
       "    <tr>\n",
       "      <th>min</th>\n",
       "      <td>-786.955438</td>\n",
       "      <td>-113.120374</td>\n",
       "      <td>-39.569920</td>\n",
       "      <td>-15.899746</td>\n",
       "      <td>-42.665601</td>\n",
       "      <td>-21.871528</td>\n",
       "      <td>-93.086991</td>\n",
       "      <td>-7.592000e+26</td>\n",
       "      <td>0.000000</td>\n",
       "      <td>-34.538777</td>\n",
       "      <td>...</td>\n",
       "      <td>-34.538777</td>\n",
       "      <td>-30.956977</td>\n",
       "      <td>-34.538777</td>\n",
       "      <td>-2.337221e+27</td>\n",
       "      <td>-174.938321</td>\n",
       "      <td>-32.847338</td>\n",
       "      <td>1.157647e+07</td>\n",
       "      <td>-30.890528</td>\n",
       "      <td>-32.313029</td>\n",
       "      <td>-33.875962</td>\n",
       "    </tr>\n",
       "    <tr>\n",
       "      <th>25%</th>\n",
       "      <td>-87.387082</td>\n",
       "      <td>-36.132599</td>\n",
       "      <td>-18.678781</td>\n",
       "      <td>-6.474725</td>\n",
       "      <td>-8.736481</td>\n",
       "      <td>-4.871141</td>\n",
       "      <td>-35.748678</td>\n",
       "      <td>2.530666e+26</td>\n",
       "      <td>222.222209</td>\n",
       "      <td>-30.956977</td>\n",
       "      <td>...</td>\n",
       "      <td>-27.375179</td>\n",
       "      <td>-24.688829</td>\n",
       "      <td>-27.375179</td>\n",
       "      <td>8.848619e+26</td>\n",
       "      <td>471.689194</td>\n",
       "      <td>-26.601089</td>\n",
       "      <td>2.895352e+07</td>\n",
       "      <td>-25.981551</td>\n",
       "      <td>-25.669276</td>\n",
       "      <td>-21.079841</td>\n",
       "    </tr>\n",
       "    <tr>\n",
       "      <th>50%</th>\n",
       "      <td>-11.885431</td>\n",
       "      <td>7.139120</td>\n",
       "      <td>-2.761598</td>\n",
       "      <td>-2.405443</td>\n",
       "      <td>-3.988488</td>\n",
       "      <td>0.712496</td>\n",
       "      <td>-6.461865</td>\n",
       "      <td>1.265333e+27</td>\n",
       "      <td>666.666657</td>\n",
       "      <td>-18.420681</td>\n",
       "      <td>...</td>\n",
       "      <td>-13.047982</td>\n",
       "      <td>-18.420681</td>\n",
       "      <td>-20.211580</td>\n",
       "      <td>1.924296e+27</td>\n",
       "      <td>997.563626</td>\n",
       "      <td>-19.356511</td>\n",
       "      <td>5.961192e+07</td>\n",
       "      <td>-14.580206</td>\n",
       "      <td>-17.647555</td>\n",
       "      <td>-14.849230</td>\n",
       "    </tr>\n",
       "    <tr>\n",
       "      <th>75%</th>\n",
       "      <td>101.392151</td>\n",
       "      <td>226.855103</td>\n",
       "      <td>7.901165</td>\n",
       "      <td>2.106894</td>\n",
       "      <td>9.263064</td>\n",
       "      <td>4.902330</td>\n",
       "      <td>45.607221</td>\n",
       "      <td>2.910267e+27</td>\n",
       "      <td>1111.111112</td>\n",
       "      <td>-9.466183</td>\n",
       "      <td>...</td>\n",
       "      <td>-8.570734</td>\n",
       "      <td>-8.570734</td>\n",
       "      <td>-9.466183</td>\n",
       "      <td>3.233481e+27</td>\n",
       "      <td>1486.456431</td>\n",
       "      <td>-9.611795</td>\n",
       "      <td>7.498964e+07</td>\n",
       "      <td>-8.162659</td>\n",
       "      <td>-8.639533</td>\n",
       "      <td>-4.525881</td>\n",
       "    </tr>\n",
       "    <tr>\n",
       "      <th>max</th>\n",
       "      <td>931.333171</td>\n",
       "      <td>inf</td>\n",
       "      <td>91.456366</td>\n",
       "      <td>65.588701</td>\n",
       "      <td>39.532030</td>\n",
       "      <td>160.111892</td>\n",
       "      <td>105.778205</td>\n",
       "      <td>3.796000e+27</td>\n",
       "      <td>2000.000000</td>\n",
       "      <td>-2.302585</td>\n",
       "      <td>...</td>\n",
       "      <td>-2.302585</td>\n",
       "      <td>-2.302585</td>\n",
       "      <td>-2.302585</td>\n",
       "      <td>3.835328e+27</td>\n",
       "      <td>1866.311550</td>\n",
       "      <td>-2.105643</td>\n",
       "      <td>1.043583e+08</td>\n",
       "      <td>-1.992109</td>\n",
       "      <td>-3.373324</td>\n",
       "      <td>-1.955329</td>\n",
       "    </tr>\n",
       "  </tbody>\n",
       "</table>\n",
       "<p>8 rows × 21 columns</p>\n",
       "</div>"
      ],
      "text/plain": [
       "       planet_mass_error  temp_profile_error  ch4_mixratio_error  \\\n",
       "count          24.000000           24.000000           24.000000   \n",
       "mean          -10.905107                 inf           -2.140466   \n",
       "std           324.878256                 NaN           26.215873   \n",
       "min          -786.955438         -113.120374          -39.569920   \n",
       "25%           -87.387082          -36.132599          -18.678781   \n",
       "50%           -11.885431            7.139120           -2.761598   \n",
       "75%           101.392151          226.855103            7.901165   \n",
       "max           931.333171                 inf           91.456366   \n",
       "\n",
       "       planet_radius_error  h2o_mixratio_error  co2_mixratio_error  \\\n",
       "count            24.000000           24.000000           24.000000   \n",
       "mean             -0.133102           -0.855203           11.038474   \n",
       "std              15.396958           18.260777           37.594465   \n",
       "min             -15.899746          -42.665601          -21.871528   \n",
       "25%              -6.474725           -8.736481           -4.871141   \n",
       "50%              -2.405443           -3.988488            0.712496   \n",
       "75%               2.106894            9.263064            4.902330   \n",
       "max              65.588701           39.532030          160.111892   \n",
       "\n",
       "       co_mixratio_error  planet_mass_real  temp_profile_real  \\\n",
       "count          24.000000      2.400000e+01          24.000000   \n",
       "mean            1.108420      1.581667e+27         759.259255   \n",
       "std            56.528172      1.513349e+27         589.464376   \n",
       "min           -93.086991     -7.592000e+26           0.000000   \n",
       "25%           -35.748678      2.530666e+26         222.222209   \n",
       "50%            -6.461865      1.265333e+27         666.666657   \n",
       "75%            45.607221      2.910267e+27        1111.111112   \n",
       "max           105.778205      3.796000e+27        2000.000000   \n",
       "\n",
       "       ch4_mixratio_real          ...            h2o_mixratio_real  \\\n",
       "count          24.000000          ...                    24.000000   \n",
       "mean          -19.316131          ...                   -16.629781   \n",
       "std            11.678222          ...                    10.667248   \n",
       "min           -34.538777          ...                   -34.538777   \n",
       "25%           -30.956977          ...                   -27.375179   \n",
       "50%           -18.420681          ...                   -13.047982   \n",
       "75%            -9.466183          ...                    -8.570734   \n",
       "max            -2.302585          ...                    -2.302585   \n",
       "\n",
       "       co2_mixratio_real  co_mixratio_real  planet_mass_inpainted  \\\n",
       "count          24.000000         24.000000           2.400000e+01   \n",
       "mean          -17.525231        -18.569923           1.785218e+27   \n",
       "std            10.308246         11.126870           1.540977e+27   \n",
       "min           -30.956977        -34.538777          -2.337221e+27   \n",
       "25%           -24.688829        -27.375179           8.848619e+26   \n",
       "50%           -18.420681        -20.211580           1.924296e+27   \n",
       "75%            -8.570734         -9.466183           3.233481e+27   \n",
       "max            -2.302585         -2.302585           3.835328e+27   \n",
       "\n",
       "       temp_profile_inpainted  ch4_mixratio_inpainted  \\\n",
       "count               24.000000               24.000000   \n",
       "mean               943.819802              -17.651174   \n",
       "std                609.403287               10.110423   \n",
       "min               -174.938321              -32.847338   \n",
       "25%                471.689194              -26.601089   \n",
       "50%                997.563626              -19.356511   \n",
       "75%               1486.456431               -9.611795   \n",
       "max               1866.311550               -2.105643   \n",
       "\n",
       "       planet_radius_inpainted  h2o_mixratio_inpainted  \\\n",
       "count             2.400000e+01               24.000000   \n",
       "mean              5.666095e+07              -15.813419   \n",
       "std               2.955584e+07                9.832813   \n",
       "min               1.157647e+07              -30.890528   \n",
       "25%               2.895352e+07              -25.981551   \n",
       "50%               5.961192e+07              -14.580206   \n",
       "75%               7.498964e+07               -8.162659   \n",
       "max               1.043583e+08               -1.992109   \n",
       "\n",
       "       co2_mixratio_inpainted  co_mixratio_inpainted  \n",
       "count               24.000000              24.000000  \n",
       "mean               -17.325492             -14.667616  \n",
       "std                  9.618784               9.304669  \n",
       "min                -32.313029             -33.875962  \n",
       "25%                -25.669276             -21.079841  \n",
       "50%                -17.647555             -14.849230  \n",
       "75%                 -8.639533              -4.525881  \n",
       "max                 -3.373324              -1.955329  \n",
       "\n",
       "[8 rows x 21 columns]"
      ]
     },
     "execution_count": 44,
     "metadata": {},
     "output_type": "execute_result"
    }
   ],
   "source": [
    "df.describe()"
   ]
  },
  {
   "cell_type": "code",
   "execution_count": 45,
   "metadata": {},
   "outputs": [
    {
     "name": "stdout",
     "output_type": "stream",
     "text": [
      "ch4_mixratio\n"
     ]
    }
   ],
   "source": [
    "params = [param for param in real_params.keys()]\n",
    "param = params[2]\n",
    "print(param)"
   ]
  },
  {
   "cell_type": "code",
   "execution_count": 46,
   "metadata": {},
   "outputs": [
    {
     "data": {
      "image/png": "[encoded data removed]",
      "text/plain": [
       "<Figure size 432x288 with 1 Axes>"
      ]
     },
     "metadata": {
      "needs_background": "light"
     },
     "output_type": "display_data"
    }
   ],
   "source": [
    "x = df[param+'_real']\n",
    "y = df[param+'_inpainted']\n",
    "\n",
    "plt.plot(x, y, '.')\n",
    "plt.xlabel('real')\n",
    "plt.ylabel('inpainted')\n",
    "plt.grid()"
   ]
  },
  {
   "cell_type": "code",
   "execution_count": 47,
   "metadata": {},
   "outputs": [
    {
     "data": {
      "text/plain": [
       "0   -34.538777\n",
       "0    -9.466183\n",
       "0    -2.302585\n",
       "0    -2.302585\n",
       "0    -9.466183\n",
       "0   -34.538777\n",
       "0   -13.047982\n",
       "0   -30.956977\n",
       "0   -16.629781\n",
       "0   -23.793379\n",
       "0    -2.302585\n",
       "0   -16.629781\n",
       "0   -20.211580\n",
       "0   -23.793379\n",
       "0   -34.538777\n",
       "0   -27.375179\n",
       "0   -34.538777\n",
       "0   -16.629781\n",
       "0   -13.047982\n",
       "0   -30.956977\n",
       "0    -2.302585\n",
       "0   -30.956977\n",
       "0   -27.375179\n",
       "0    -5.884385\n",
       "Name: ch4_mixratio_real, dtype: float64"
      ]
     },
     "execution_count": 47,
     "metadata": {},
     "output_type": "execute_result"
    }
   ],
   "source": [
    "x"
   ]
  },
  {
   "cell_type": "code",
   "execution_count": 48,
   "metadata": {},
   "outputs": [
    {
     "data": {
      "text/plain": [
       "0   -32.847338\n",
       "0    -6.780852\n",
       "0    -4.408446\n",
       "0    -2.105643\n",
       "0   -10.555442\n",
       "0   -23.844127\n",
       "0   -11.897986\n",
       "0   -29.851399\n",
       "0   -18.390912\n",
       "0   -26.521168\n",
       "0    -2.551106\n",
       "0   -12.465237\n",
       "0   -20.322110\n",
       "0   -24.293490\n",
       "0   -28.820026\n",
       "0   -27.511571\n",
       "0   -25.309238\n",
       "0   -17.794666\n",
       "0   -13.092490\n",
       "0   -22.990361\n",
       "0    -3.067886\n",
       "0   -27.809885\n",
       "0   -26.840854\n",
       "0    -3.555938\n",
       "Name: ch4_mixratio_inpainted, dtype: float64"
      ]
     },
     "execution_count": 48,
     "metadata": {},
     "output_type": "execute_result"
    }
   ],
   "source": [
    "y"
   ]
  },
  {
   "cell_type": "code",
   "execution_count": 49,
   "metadata": {},
   "outputs": [
    {
     "data": {
      "text/plain": [
       "(array([4., 3., 6., 9., 0., 1., 0., 0., 0., 1.]),\n",
       " array([-39.5699202 , -26.46729162, -13.36466304,  -0.26203446,\n",
       "         12.84059411,  25.94322269,  39.04585127,  52.14847985,\n",
       "         65.25110843,  78.35373701,  91.45636559]),\n",
       " <a list of 10 Patch objects>)"
      ]
     },
     "execution_count": 49,
     "metadata": {},
     "output_type": "execute_result"
    },
    {
     "data": {
      "image/png": "[encoded data removed]",
      "text/plain": [
       "<Figure size 432x288 with 1 Axes>"
      ]
     },
     "metadata": {
      "needs_background": "light"
     },
     "output_type": "display_data"
    }
   ],
   "source": [
    "plt.hist(df[param+'_error'])"
   ]
  },
  {
   "cell_type": "code",
   "execution_count": 50,
   "metadata": {},
   "outputs": [
    {
     "ename": "ValueError",
     "evalue": "supplied range of [-113.12037398576457, inf] is not finite",
     "output_type": "error",
     "traceback": [
      "\u001b[0;31m---------------------------------------------------------------------------\u001b[0m",
      "\u001b[0;31mValueError\u001b[0m                                Traceback (most recent call last)",
      "\u001b[0;32m<ipython-input-50-babbe7b43ef2>\u001b[0m in \u001b[0;36m<module>\u001b[0;34m\u001b[0m\n\u001b[1;32m      3\u001b[0m     \u001b[0mplt\u001b[0m\u001b[0;34m.\u001b[0m\u001b[0msubplot\u001b[0m\u001b[0;34m(\u001b[0m\u001b[0;36m3\u001b[0m\u001b[0;34m,\u001b[0m\u001b[0;36m3\u001b[0m\u001b[0;34m,\u001b[0m\u001b[0mi\u001b[0m\u001b[0;34m+\u001b[0m\u001b[0;36m1\u001b[0m\u001b[0;34m)\u001b[0m\u001b[0;34m\u001b[0m\u001b[0;34m\u001b[0m\u001b[0m\n\u001b[1;32m      4\u001b[0m     \u001b[0mplt\u001b[0m\u001b[0;34m.\u001b[0m\u001b[0mtitle\u001b[0m\u001b[0;34m(\u001b[0m\u001b[0mparam\u001b[0m\u001b[0;34m+\u001b[0m\u001b[0;34m'_error'\u001b[0m\u001b[0;34m)\u001b[0m\u001b[0;34m\u001b[0m\u001b[0;34m\u001b[0m\u001b[0m\n\u001b[0;32m----> 5\u001b[0;31m     \u001b[0mplt\u001b[0m\u001b[0;34m.\u001b[0m\u001b[0mhist\u001b[0m\u001b[0;34m(\u001b[0m\u001b[0mdf\u001b[0m\u001b[0;34m[\u001b[0m\u001b[0mparam\u001b[0m\u001b[0;34m+\u001b[0m\u001b[0;34m'_error'\u001b[0m\u001b[0;34m]\u001b[0m\u001b[0;34m,\u001b[0m \u001b[0mbins\u001b[0m\u001b[0;34m=\u001b[0m\u001b[0;36m20\u001b[0m\u001b[0;34m)\u001b[0m\u001b[0;34m\u001b[0m\u001b[0;34m\u001b[0m\u001b[0m\n\u001b[0m\u001b[1;32m      6\u001b[0m     \u001b[0mplt\u001b[0m\u001b[0;34m.\u001b[0m\u001b[0mgrid\u001b[0m\u001b[0;34m(\u001b[0m\u001b[0;34m)\u001b[0m\u001b[0;34m\u001b[0m\u001b[0;34m\u001b[0m\u001b[0m\n\u001b[1;32m      7\u001b[0m     \u001b[0mplt\u001b[0m\u001b[0;34m.\u001b[0m\u001b[0mtight_layout\u001b[0m\u001b[0;34m(\u001b[0m\u001b[0;34m)\u001b[0m\u001b[0;34m\u001b[0m\u001b[0;34m\u001b[0m\u001b[0m\n",
      "\u001b[0;32m/opt/jupyterhub/anaconda/lib/python3.6/site-packages/matplotlib/pyplot.py\u001b[0m in \u001b[0;36mhist\u001b[0;34m(x, bins, range, density, weights, cumulative, bottom, histtype, align, orientation, rwidth, log, color, label, stacked, normed, data, **kwargs)\u001b[0m\n\u001b[1;32m   2659\u001b[0m         \u001b[0malign\u001b[0m\u001b[0;34m=\u001b[0m\u001b[0malign\u001b[0m\u001b[0;34m,\u001b[0m \u001b[0morientation\u001b[0m\u001b[0;34m=\u001b[0m\u001b[0morientation\u001b[0m\u001b[0;34m,\u001b[0m \u001b[0mrwidth\u001b[0m\u001b[0;34m=\u001b[0m\u001b[0mrwidth\u001b[0m\u001b[0;34m,\u001b[0m \u001b[0mlog\u001b[0m\u001b[0;34m=\u001b[0m\u001b[0mlog\u001b[0m\u001b[0;34m,\u001b[0m\u001b[0;34m\u001b[0m\u001b[0;34m\u001b[0m\u001b[0m\n\u001b[1;32m   2660\u001b[0m         \u001b[0mcolor\u001b[0m\u001b[0;34m=\u001b[0m\u001b[0mcolor\u001b[0m\u001b[0;34m,\u001b[0m \u001b[0mlabel\u001b[0m\u001b[0;34m=\u001b[0m\u001b[0mlabel\u001b[0m\u001b[0;34m,\u001b[0m \u001b[0mstacked\u001b[0m\u001b[0;34m=\u001b[0m\u001b[0mstacked\u001b[0m\u001b[0;34m,\u001b[0m \u001b[0mnormed\u001b[0m\u001b[0;34m=\u001b[0m\u001b[0mnormed\u001b[0m\u001b[0;34m,\u001b[0m\u001b[0;34m\u001b[0m\u001b[0;34m\u001b[0m\u001b[0m\n\u001b[0;32m-> 2661\u001b[0;31m         **({\"data\": data} if data is not None else {}), **kwargs)\n\u001b[0m\u001b[1;32m   2662\u001b[0m \u001b[0;34m\u001b[0m\u001b[0m\n\u001b[1;32m   2663\u001b[0m \u001b[0;34m\u001b[0m\u001b[0m\n",
      "\u001b[0;32m/opt/jupyterhub/anaconda/lib/python3.6/site-packages/matplotlib/__init__.py\u001b[0m in \u001b[0;36minner\u001b[0;34m(ax, data, *args, **kwargs)\u001b[0m\n\u001b[1;32m   1803\u001b[0m                         \u001b[0;34m\"the Matplotlib list!)\"\u001b[0m \u001b[0;34m%\u001b[0m \u001b[0;34m(\u001b[0m\u001b[0mlabel_namer\u001b[0m\u001b[0;34m,\u001b[0m \u001b[0mfunc\u001b[0m\u001b[0;34m.\u001b[0m\u001b[0m__name__\u001b[0m\u001b[0;34m)\u001b[0m\u001b[0;34m,\u001b[0m\u001b[0;34m\u001b[0m\u001b[0;34m\u001b[0m\u001b[0m\n\u001b[1;32m   1804\u001b[0m                         RuntimeWarning, stacklevel=2)\n\u001b[0;32m-> 1805\u001b[0;31m             \u001b[0;32mreturn\u001b[0m \u001b[0mfunc\u001b[0m\u001b[0;34m(\u001b[0m\u001b[0max\u001b[0m\u001b[0;34m,\u001b[0m \u001b[0;34m*\u001b[0m\u001b[0margs\u001b[0m\u001b[0;34m,\u001b[0m \u001b[0;34m**\u001b[0m\u001b[0mkwargs\u001b[0m\u001b[0;34m)\u001b[0m\u001b[0;34m\u001b[0m\u001b[0;34m\u001b[0m\u001b[0m\n\u001b[0m\u001b[1;32m   1806\u001b[0m \u001b[0;34m\u001b[0m\u001b[0m\n\u001b[1;32m   1807\u001b[0m         inner.__doc__ = _add_data_doc(inner.__doc__,\n",
      "\u001b[0;32m/opt/jupyterhub/anaconda/lib/python3.6/site-packages/matplotlib/axes/_axes.py\u001b[0m in \u001b[0;36mhist\u001b[0;34m(self, x, bins, range, density, weights, cumulative, bottom, histtype, align, orientation, rwidth, log, color, label, stacked, normed, **kwargs)\u001b[0m\n\u001b[1;32m   6578\u001b[0m             \u001b[0;31m# this will automatically overwrite bins,\u001b[0m\u001b[0;34m\u001b[0m\u001b[0;34m\u001b[0m\u001b[0;34m\u001b[0m\u001b[0m\n\u001b[1;32m   6579\u001b[0m             \u001b[0;31m# so that each histogram uses the same bins\u001b[0m\u001b[0;34m\u001b[0m\u001b[0;34m\u001b[0m\u001b[0;34m\u001b[0m\u001b[0m\n\u001b[0;32m-> 6580\u001b[0;31m             \u001b[0mm\u001b[0m\u001b[0;34m,\u001b[0m \u001b[0mbins\u001b[0m \u001b[0;34m=\u001b[0m \u001b[0mnp\u001b[0m\u001b[0;34m.\u001b[0m\u001b[0mhistogram\u001b[0m\u001b[0;34m(\u001b[0m\u001b[0mx\u001b[0m\u001b[0;34m[\u001b[0m\u001b[0mi\u001b[0m\u001b[0;34m]\u001b[0m\u001b[0;34m,\u001b[0m \u001b[0mbins\u001b[0m\u001b[0;34m,\u001b[0m \u001b[0mweights\u001b[0m\u001b[0;34m=\u001b[0m\u001b[0mw\u001b[0m\u001b[0;34m[\u001b[0m\u001b[0mi\u001b[0m\u001b[0;34m]\u001b[0m\u001b[0;34m,\u001b[0m \u001b[0;34m**\u001b[0m\u001b[0mhist_kwargs\u001b[0m\u001b[0;34m)\u001b[0m\u001b[0;34m\u001b[0m\u001b[0;34m\u001b[0m\u001b[0m\n\u001b[0m\u001b[1;32m   6581\u001b[0m             \u001b[0mm\u001b[0m \u001b[0;34m=\u001b[0m \u001b[0mm\u001b[0m\u001b[0;34m.\u001b[0m\u001b[0mastype\u001b[0m\u001b[0;34m(\u001b[0m\u001b[0mfloat\u001b[0m\u001b[0;34m)\u001b[0m  \u001b[0;31m# causes problems later if it's an int\u001b[0m\u001b[0;34m\u001b[0m\u001b[0;34m\u001b[0m\u001b[0m\n\u001b[1;32m   6582\u001b[0m             \u001b[0;32mif\u001b[0m \u001b[0mmlast\u001b[0m \u001b[0;32mis\u001b[0m \u001b[0;32mNone\u001b[0m\u001b[0;34m:\u001b[0m\u001b[0;34m\u001b[0m\u001b[0;34m\u001b[0m\u001b[0m\n",
      "\u001b[0;32m/opt/jupyterhub/anaconda/lib/python3.6/site-packages/numpy/lib/histograms.py\u001b[0m in \u001b[0;36mhistogram\u001b[0;34m(a, bins, range, normed, weights, density)\u001b[0m\n\u001b[1;32m    708\u001b[0m     \u001b[0ma\u001b[0m\u001b[0;34m,\u001b[0m \u001b[0mweights\u001b[0m \u001b[0;34m=\u001b[0m \u001b[0m_ravel_and_check_weights\u001b[0m\u001b[0;34m(\u001b[0m\u001b[0ma\u001b[0m\u001b[0;34m,\u001b[0m \u001b[0mweights\u001b[0m\u001b[0;34m)\u001b[0m\u001b[0;34m\u001b[0m\u001b[0;34m\u001b[0m\u001b[0m\n\u001b[1;32m    709\u001b[0m \u001b[0;34m\u001b[0m\u001b[0m\n\u001b[0;32m--> 710\u001b[0;31m     \u001b[0mbin_edges\u001b[0m\u001b[0;34m,\u001b[0m \u001b[0muniform_bins\u001b[0m \u001b[0;34m=\u001b[0m \u001b[0m_get_bin_edges\u001b[0m\u001b[0;34m(\u001b[0m\u001b[0ma\u001b[0m\u001b[0;34m,\u001b[0m \u001b[0mbins\u001b[0m\u001b[0;34m,\u001b[0m \u001b[0mrange\u001b[0m\u001b[0;34m,\u001b[0m \u001b[0mweights\u001b[0m\u001b[0;34m)\u001b[0m\u001b[0;34m\u001b[0m\u001b[0;34m\u001b[0m\u001b[0m\n\u001b[0m\u001b[1;32m    711\u001b[0m \u001b[0;34m\u001b[0m\u001b[0m\n\u001b[1;32m    712\u001b[0m     \u001b[0;31m# Histogram is an integer or a float array depending on the weights.\u001b[0m\u001b[0;34m\u001b[0m\u001b[0;34m\u001b[0m\u001b[0;34m\u001b[0m\u001b[0m\n",
      "\u001b[0;32m/opt/jupyterhub/anaconda/lib/python3.6/site-packages/numpy/lib/histograms.py\u001b[0m in \u001b[0;36m_get_bin_edges\u001b[0;34m(a, bins, range, weights)\u001b[0m\n\u001b[1;32m    361\u001b[0m             \u001b[0;32mraise\u001b[0m \u001b[0mValueError\u001b[0m\u001b[0;34m(\u001b[0m\u001b[0;34m'`bins` must be positive, when an integer'\u001b[0m\u001b[0;34m)\u001b[0m\u001b[0;34m\u001b[0m\u001b[0;34m\u001b[0m\u001b[0m\n\u001b[1;32m    362\u001b[0m \u001b[0;34m\u001b[0m\u001b[0m\n\u001b[0;32m--> 363\u001b[0;31m         \u001b[0mfirst_edge\u001b[0m\u001b[0;34m,\u001b[0m \u001b[0mlast_edge\u001b[0m \u001b[0;34m=\u001b[0m \u001b[0m_get_outer_edges\u001b[0m\u001b[0;34m(\u001b[0m\u001b[0ma\u001b[0m\u001b[0;34m,\u001b[0m \u001b[0mrange\u001b[0m\u001b[0;34m)\u001b[0m\u001b[0;34m\u001b[0m\u001b[0;34m\u001b[0m\u001b[0m\n\u001b[0m\u001b[1;32m    364\u001b[0m \u001b[0;34m\u001b[0m\u001b[0m\n\u001b[1;32m    365\u001b[0m     \u001b[0;32melif\u001b[0m \u001b[0mnp\u001b[0m\u001b[0;34m.\u001b[0m\u001b[0mndim\u001b[0m\u001b[0;34m(\u001b[0m\u001b[0mbins\u001b[0m\u001b[0;34m)\u001b[0m \u001b[0;34m==\u001b[0m \u001b[0;36m1\u001b[0m\u001b[0;34m:\u001b[0m\u001b[0;34m\u001b[0m\u001b[0;34m\u001b[0m\u001b[0m\n",
      "\u001b[0;32m/opt/jupyterhub/anaconda/lib/python3.6/site-packages/numpy/lib/histograms.py\u001b[0m in \u001b[0;36m_get_outer_edges\u001b[0;34m(a, range)\u001b[0m\n\u001b[1;32m    251\u001b[0m         \u001b[0;32mif\u001b[0m \u001b[0;32mnot\u001b[0m \u001b[0;34m(\u001b[0m\u001b[0mnp\u001b[0m\u001b[0;34m.\u001b[0m\u001b[0misfinite\u001b[0m\u001b[0;34m(\u001b[0m\u001b[0mfirst_edge\u001b[0m\u001b[0;34m)\u001b[0m \u001b[0;32mand\u001b[0m \u001b[0mnp\u001b[0m\u001b[0;34m.\u001b[0m\u001b[0misfinite\u001b[0m\u001b[0;34m(\u001b[0m\u001b[0mlast_edge\u001b[0m\u001b[0;34m)\u001b[0m\u001b[0;34m)\u001b[0m\u001b[0;34m:\u001b[0m\u001b[0;34m\u001b[0m\u001b[0;34m\u001b[0m\u001b[0m\n\u001b[1;32m    252\u001b[0m             raise ValueError(\n\u001b[0;32m--> 253\u001b[0;31m                 \"supplied range of [{}, {}] is not finite\".format(first_edge, last_edge))\n\u001b[0m\u001b[1;32m    254\u001b[0m     \u001b[0;32melif\u001b[0m \u001b[0ma\u001b[0m\u001b[0;34m.\u001b[0m\u001b[0msize\u001b[0m \u001b[0;34m==\u001b[0m \u001b[0;36m0\u001b[0m\u001b[0;34m:\u001b[0m\u001b[0;34m\u001b[0m\u001b[0;34m\u001b[0m\u001b[0m\n\u001b[1;32m    255\u001b[0m         \u001b[0;31m# handle empty arrays. Can't determine range, so use 0-1.\u001b[0m\u001b[0;34m\u001b[0m\u001b[0;34m\u001b[0m\u001b[0;34m\u001b[0m\u001b[0m\n",
      "\u001b[0;31mValueError\u001b[0m: supplied range of [-113.12037398576457, inf] is not finite"
     ]
    },
    {
     "data": {
      "image/png": "[encoded data removed]",
      "text/plain": [
       "<Figure size 1800x720 with 2 Axes>"
      ]
     },
     "metadata": {
      "needs_background": "light"
     },
     "output_type": "display_data"
    }
   ],
   "source": [
    "plt.figure(figsize=((25,10)))\n",
    "for i,param in enumerate(params):\n",
    "    plt.subplot(3,3,i+1)\n",
    "    plt.title(param+'_error')\n",
    "    plt.hist(df[param+'_error'], bins=20)\n",
    "    plt.grid()\n",
    "    plt.tight_layout()\n",
    "\n",
    "plt.savefig('plots//Validation error hist of '+str(len(images))+' images.png', dpi=1200)\n",
    "print('saved')"
   ]
  },
  {
   "cell_type": "raw",
   "metadata": {},
   "source": [
    "plt.figure(figsize=((25,10)))\n",
    "for i,param in enumerate(params):\n",
    "    x = df[param+'_error']\n",
    "    y = df[param+'_real']\n",
    "    \n",
    "    plt.subplot(3,3,i+1)\n",
    "\n",
    "    plt.plot(x, y, '.')\n",
    "    plt.tight_layout()"
   ]
  },
  {
   "cell_type": "code",
   "execution_count": null,
   "metadata": {},
   "outputs": [],
   "source": [
    "df.to_csv('Validation error of '+str(len(images))+' images')"
   ]
  },
  {
   "cell_type": "code",
   "execution_count": null,
   "metadata": {},
   "outputs": [],
   "source": [
    "df.head()"
   ]
  },
  {
   "cell_type": "code",
   "execution_count": null,
   "metadata": {},
   "outputs": [],
   "source": [
    "print('DONE')"
   ]
  },
  {
   "cell_type": "code",
   "execution_count": null,
   "metadata": {},
   "outputs": [],
   "source": [
    "param = params[2]\n",
    "df[[param+'_real', param+'_inpainted']]"
   ]
  },
  {
   "cell_type": "code",
   "execution_count": null,
   "metadata": {},
   "outputs": [],
   "source": [
    "print('Done')"
   ]
  },
  {
   "cell_type": "code",
   "execution_count": null,
   "metadata": {},
   "outputs": [],
   "source": [
    "print('Done')"
   ]
  },
  {
   "cell_type": "code",
   "execution_count": null,
   "metadata": {},
   "outputs": [],
   "source": [
    "print('done')"
   ]
  },
  {
   "cell_type": "code",
   "execution_count": null,
   "metadata": {},
   "outputs": [],
   "source": [
    "its = np.array(n_iteration)\n",
    "plt.hist(its)\n",
    "plt.grid()\n",
    "\n",
    "its.mean(), its.std()"
   ]
  },
  {
   "cell_type": "code",
   "execution_count": null,
   "metadata": {},
   "outputs": [],
   "source": []
  }
 ],
 "metadata": {
  "kernelspec": {
   "display_name": "Python 3",
   "language": "python",
   "name": "python3"
  },
  "language_info": {
   "codemirror_mode": {
    "name": "ipython",
    "version": 3
   },
   "file_extension": ".py",
   "mimetype": "text/x-python",
   "name": "python",
   "nbconvert_exporter": "python",
   "pygments_lexer": "ipython3",
   "version": "3.6.8"
  }
 },
 "nbformat": 4,
 "nbformat_minor": 2
}
