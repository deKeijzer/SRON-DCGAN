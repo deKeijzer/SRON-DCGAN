{
 "cells": [
  {
   "cell_type": "code",
   "execution_count": 133,
   "metadata": {},
   "outputs": [],
   "source": [
    "# Imports\n",
    "import random\n",
    "import sys\n",
    "import numpy as np\n",
    "import time as t\n",
    "import matplotlib.pyplot as plt\n",
    "import seaborn as sns\n",
    "\n",
    "import torch.nn as nn\n",
    "import torch.optim as optim\n",
    "import torchvision.utils as vutils\n",
    "import matplotlib.animation as animation\n",
    "from IPython.display import HTML\n",
    "\n",
    "import model\n",
    "from keijzer_exogan import *\n",
    "\n",
    "# initialize random seeds\n",
    "manualSeed = 999\n",
    "random.seed(manualSeed)\n",
    "torch.manual_seed(manualSeed)\n",
    "\n",
    "\n",
    "\"\"\"\n",
    "Local variables\n",
    "\"\"\"\n",
    "workers = 0 # Number of workers for dataloader, 0 when to_vram is enabled\n",
    "batch_size = 1 # using one image ofcourse\n",
    "image_size = 32\n",
    "nz = 100 # size of latent vector\n",
    "n_iters = 2500 # number of iterations to do for inpainting\n",
    "torch.backends.cudnn.benchmark=True # Uses udnn auto-tuner to find the best algorithm to use for your hardware, speeds up training by almost 50%\n",
    "lr = 1e-1\n",
    "lr_G = 2e-4\n",
    "beta1 = 0.5 # Beta1 hyperparam for Adam optimizers\n",
    "selected_gpus = [0] # Number of GPUs available. Use 0 for CPU mode."
   ]
  },
  {
   "cell_type": "code",
   "execution_count": 134,
   "metadata": {},
   "outputs": [
    {
     "data": {
      "text/plain": [
       "1250000"
      ]
     },
     "execution_count": 134,
     "metadata": {},
     "output_type": "execute_result"
    }
   ],
   "source": [
    "path = '/datb/16011015/ExoGAN_data/selection//' #notice how you dont put the last folder in here...\n",
    "images = np.load(path+'last_chunks_25_percent_images.npy').astype('float32')\n",
    "\n",
    "len(images)"
   ]
  },
  {
   "cell_type": "code",
   "execution_count": 141,
   "metadata": {},
   "outputs": [
    {
     "name": "stdout",
     "output_type": "stream",
     "text": [
      "Batch size:  1\n",
      "Number of GPUs used:  1\n",
      "Number of images:  5\n"
     ]
    }
   ],
   "source": [
    "print('Batch size: ', batch_size)\n",
    "\n",
    "\n",
    "# Number of training epochs\n",
    "\n",
    "# Learning rate for optimizers\n",
    "ngpu = len(selected_gpus)\n",
    "print('Number of GPUs used: ', ngpu)\n",
    "\n",
    "\n",
    "\"\"\"\n",
    "Load data and prepare DataLoader\n",
    "\"\"\"\n",
    "shuffle = True\n",
    "\n",
    "if shuffle:\n",
    "    np.random.shuffle(images) # shuffles the images\n",
    "\n",
    "images = images[:5] # 1200 should take ~ 1 hour\n",
    "#images = images[:int(len(images)*0.005)]\n",
    "print('Number of images: ', len(images))"
   ]
  },
  {
   "cell_type": "code",
   "execution_count": 142,
   "metadata": {},
   "outputs": [
    {
     "name": "stdout",
     "output_type": "stream",
     "text": [
      "Loading weights...\n",
      "done\n"
     ]
    }
   ],
   "source": [
    "dataset = numpy_dataset(data=images, to_vram=True) # to_vram pins it to all GPU's\n",
    "#dataset = numpy_dataset(data=images, to_vram=True, transform=transforms.Compose([transforms.Normalize((0.5, 0.5, 0.5), (0.5, 0.5, 0.5))])) # to_vram pins it to all GPU's\n",
    "\n",
    "# Create the dataloader\n",
    "dataloader = torch.utils.data.DataLoader(dataset, batch_size=batch_size,\n",
    "                                         shuffle=True, num_workers=workers, pin_memory=False)\n",
    "\n",
    "\"\"\"\n",
    "Load and setup models\n",
    "\"\"\"\n",
    "# Initialize cuda\n",
    "device = torch.device(\"cuda:\"+str(selected_gpus[0]) if (torch.cuda.is_available() and ngpu > 0) else \"cpu\")\n",
    "\n",
    "# Load models, set to evaluation mode since training is not needed (this also allows batchsize 1 to work with batchnorm2d layers)\n",
    "netG = model.Generator(ngpu).eval().to(device)\n",
    "netD = model.Discriminator(ngpu).eval().to(device)\n",
    "\n",
    "# Apply weights\n",
    "print('Loading weights...')\n",
    "try:\n",
    "    # Load saved weights\n",
    "    netG.load_state_dict(torch.load('netG_state_dict', map_location=device)) #net.module..load_... for parallel model , net.load_... for single gpu model\n",
    "    netD.load_state_dict(torch.load('netD_state_dict', map_location=device))\n",
    "except:\n",
    "    print('Could not load saved weights.')\n",
    "    sys.exit()\n",
    "\n",
    "# Handle multi-gpu if desired\n",
    "if (device.type == 'cuda') and (ngpu > 1):\n",
    "    netG = nn.DataParallel(netG, device_ids=selected_gpus, output_device=device)\n",
    "    netD = nn.DataParallel(netD, device_ids=selected_gpus, output_device=device)\n",
    "\n",
    "\n",
    "\"\"\"\n",
    "Define input training stuff (fancy this up)\n",
    "\"\"\"\n",
    "G = netG\n",
    "D = netD\n",
    "z = torch.randn(1, nz, 1, 1, requires_grad=True, device=device)\n",
    "\n",
    "lamb = 3e-1\n",
    "\n",
    "criteria = nn.BCELoss()\n",
    "\n",
    "# Setup Adam optimizers for both G and D\n",
    "optimizerD = optim.Adam(netD.parameters(), lr=lr, betas=(beta1, 0.999)) # should be sgd\n",
    "optimizerG = optim.Adam(netG.parameters(), lr=lr_G, betas=(beta1, 0.999))\n",
    "\n",
    "print('done')"
   ]
  },
  {
   "cell_type": "markdown",
   "metadata": {},
   "source": [
    "# Show generated images"
   ]
  },
  {
   "cell_type": "code",
   "execution_count": 140,
   "metadata": {},
   "outputs": [
    {
     "data": {
      "image/png": "[encoded data removed]",
      "text/plain": [
       "<Figure size 720x720 with 9 Axes>"
      ]
     },
     "metadata": {
      "needs_background": "light"
     },
     "output_type": "display_data"
    }
   ],
   "source": [
    "z_tests = [torch.randn(1, nz, 1, 1, device=device) for _ in range(9)]\n",
    "\n",
    "plt.figure(figsize=(10,10))\n",
    "for i in range(9):\n",
    "    img = G(z_tests[i]).detach().cpu()[0, 0, :, :]\n",
    "    plt.subplot(3,3,i+1)\n",
    "    plt.imshow(img, cmap='gray', vmin=0, vmax=1.2)\n",
    "\n",
    "plt.tight_layout()"
   ]
  },
  {
   "cell_type": "code",
   "execution_count": 138,
   "metadata": {},
   "outputs": [
    {
     "data": {
      "text/plain": [
       "(tensor(-0.3114), tensor(0.8662), tensor(0.3641), tensor(0.2052))"
      ]
     },
     "execution_count": 138,
     "metadata": {},
     "output_type": "execute_result"
    }
   ],
   "source": [
    "img.min(), img.max(), img.mean(), img.std()"
   ]
  },
  {
   "cell_type": "markdown",
   "metadata": {},
   "source": [
    "## Make sure Z is different for each image"
   ]
  },
  {
   "cell_type": "code",
   "execution_count": 86,
   "metadata": {},
   "outputs": [
    {
     "data": {
      "image/png": "[encoded data removed]",
      "text/plain": [
       "<Figure size 720x720 with 9 Axes>"
      ]
     },
     "metadata": {
      "needs_background": "light"
     },
     "output_type": "display_data"
    }
   ],
   "source": [
    "plt.figure(figsize=(10,10))\n",
    "for i,z_t in enumerate(z_tests):\n",
    "    z_t = z_t.detach().cpu().numpy()\n",
    "    \n",
    "    plt.subplot(3,3,i+1)\n",
    "    \n",
    "    plt.hist(z_t.flatten())\n",
    "    plt.grid()\n",
    "    \n",
    "    plt.tight_layout()\n",
    "    #print(z_t[0].flatten())"
   ]
  },
  {
   "cell_type": "markdown",
   "metadata": {},
   "source": [
    "## Show first 9 selected images"
   ]
  },
  {
   "cell_type": "code",
   "execution_count": 87,
   "metadata": {},
   "outputs": [
    {
     "data": {
      "image/png": "[encoded data removed]",
      "text/plain": [
       "<Figure size 720x720 with 5 Axes>"
      ]
     },
     "metadata": {
      "needs_background": "light"
     },
     "output_type": "display_data"
    }
   ],
   "source": [
    "plt.figure(figsize=(10,10))\n",
    "for i in range(9):\n",
    "    try:\n",
    "        img = images[i]\n",
    "        plt.subplot(3,3,i+1)\n",
    "        plt.imshow(img[0, :, :], cmap='gray', vmin=0, vmax=1.2)\n",
    "    except:\n",
    "        pass\n",
    "\n",
    "plt.tight_layout()"
   ]
  },
  {
   "cell_type": "code",
   "execution_count": 88,
   "metadata": {},
   "outputs": [
    {
     "data": {
      "text/plain": [
       "(0.0, 1.0296893540090022, 0.454776201518151, 0.29029906314618864)"
      ]
     },
     "execution_count": 88,
     "metadata": {},
     "output_type": "execute_result"
    }
   ],
   "source": [
    "img.min(), img.max(), img.mean(), img.std()"
   ]
  },
  {
   "cell_type": "markdown",
   "metadata": {},
   "source": [
    "# Inpainting\n",
    "The corrupted image $y$ is mapped to the closest $z$ in the latent representation space, this mapping is denoted as $\\hat{z}$.\n",
    "    \n",
    "$\\hat{z} = \\operatorname{arg\\,min}_z \\{ \\mathcal{L}_c(z |y, M) + \\mathcal{L}_p (z) \\}$\n",
    "\n",
    "where\n",
    "\n",
    "$\\mathcal{L}_c(z |y, M) = || M \\bigodot G(z) - M \\bigodot y||_1 = || M \\bigodot (G(z)-y) ||_1 $\n",
    "\n",
    "with $\\mathcal{L}_c$ being contextual loss and $M$ being a binary mask with the same size as $y$,\n",
    "\n",
    "$\\mathcal{L}_p (z) = \\lambda \\operatorname{log}(1-D(G(z)))$\n",
    "\n",
    "with $\\mathcal{L}_p$ being perceptual loss and $D$ being the discriminator.\n",
    "  \n",
    "Once $G(\\hat{z})$ is generated, the final solution $\\hat{x}$ is calculated as\n",
    "\n",
    "$\\hat{x} = \\operatorname{arg\\, min}_x ||\\nabla x - \\nabla G(\\hat{z}) ||^2_2$  \n",
    "\n",
    "(substitute $x_i = y_i$ for $M_i = 1$).\n",
    "\n",
    "-----\n",
    "\n",
    "$|| ... ||$ is done by `torch.norm()`.  \n",
    "$... \\bigodot ...$ is done by `torch.mul()`.  \n",
    "-----\n",
    "TODO: Implement $\\hat{x} = \\operatorname{arg\\, min}_x ||\\nabla x - \\nabla G(\\hat{z}) ||^2_2$    \n",
    "Currently $\\hat{x} = G(\\hat{z}) \\bigodot (1 -M)+y$"
   ]
  },
  {
   "cell_type": "code",
   "execution_count": 89,
   "metadata": {},
   "outputs": [],
   "source": [
    "# Lists to keep track of progress\n",
    "real_images = []\n",
    "masked_images= []\n",
    "inpainted_images = []\n",
    "final_inpainted_images = [] # last inpainted image for each input image"
   ]
  },
  {
   "cell_type": "code",
   "execution_count": 90,
   "metadata": {},
   "outputs": [
    {
     "name": "stdout",
     "output_type": "stream",
     "text": [
      " image [5/5] iteration : 2499 , context_loss: 12.4563, perceptual_loss: -1.242082, total_loss: 12.083657"
     ]
    }
   ],
   "source": [
    "\"\"\"\n",
    "Inpainting\n",
    "\"\"\"\n",
    "for i, data in enumerate(dataloader, 0): # batches per epoch\n",
    "    real_cpu = data.to(device)\n",
    "    b_size = real_cpu.size(0) # this is one ofc, it's one image we're trying to inpaint\n",
    "\n",
    "    #print(\"data.shape: \", data.shape)\n",
    "    image = data.to(device) # select the image (Channel, Height, Width), this is the original unmasked input image\n",
    "    real_images.append(image)\n",
    "    #print(\"image.shape: \", image.shape)\n",
    "\n",
    "    \"\"\"Mask the images manually, for testing pruposes\"\"\"\n",
    "    mask = torch.ones(size=image.shape).to(device) # create mask with 1's in the shape of image\n",
    "    \n",
    "    #print(\"mask.shape\", mask.shape)\n",
    "\n",
    "    # use a random 'easy' mask\n",
    "    mask[:, :, :16, 25:] = 0\n",
    "    \n",
    "    # The noise doesn't matter for conceptual loss\n",
    "    mask[:, :, 19:, :] = 0\n",
    "\n",
    "    masked_image = torch.mul(image, mask).to(device) #image bigodot mask\n",
    "    masked_images.append(masked_image)\n",
    "    #print('masked image shape', masked_image.shape)\n",
    "    #plt.imshow(masked_image.detach().cpu()[0, 0, :, :], cmap='gray') # plot the masked image\n",
    "\n",
    "    opt = optim.Adam([z], lr=lr)\n",
    "\n",
    "    # what's v and m?\n",
    "    v = torch.tensor(0, dtype=torch.float32, device=device)\n",
    "    m = torch.tensor(0, dtype=torch.float32, device=device)\n",
    "\n",
    "\n",
    "    \"\"\"Start the inpainting process\"\"\"\n",
    "    for iteration in range(n_iters):\n",
    "        if z.grad is not None:\n",
    "            z.grad.data.zero_()\n",
    "\n",
    "        G.zero_grad()\n",
    "        D.zero_grad()\n",
    "\n",
    "\n",
    "        image_generated = G(z) # generated image G(z)\n",
    "        image_generated_masked = torch.mul(image_generated, mask) # G(z) bigodot M\n",
    "        image_generated_inpainted = torch.mul(image_generated, (1-mask))+masked_image\n",
    "        \n",
    "        if (iteration % 100 == 0):\n",
    "            inpainted_images.append(image_generated_inpainted)\n",
    "\n",
    "        #print(\"image_generated_inpainted.shape : \",image_generated_inpainted.shape)\n",
    "\n",
    "        t = image_generated_inpainted.detach().cpu()[0, 0, :, :]\n",
    "\n",
    "        # TODO: why does this already look real?\n",
    "        #plt.imshow(t, cmap='gray') # plot the masked image \n",
    "\n",
    "        \"\"\"Calculate losses\"\"\"\n",
    "        loss_context = torch.norm(image_generated_masked-masked_image, p=1) #what's p=1?\n",
    "        discriminator_output = netD(image_generated_inpainted)\n",
    "        #print(\"Discriminator output: \", discriminator_output)\n",
    "\n",
    "        labels = torch.full((b_size,), 1, device=device)\n",
    "        loss_perceptual = torch.log(1-discriminator_output)\n",
    "        \n",
    "        #print(loss_perceptual.data.cpu().numpy().flatten()[0])\n",
    "\n",
    "        total_loss = loss_context + lamb*loss_perceptual\n",
    "        \n",
    "        # grab the values from losses for printing\n",
    "        loss_perceptual = loss_perceptual.data.cpu().numpy().flatten()[0]\n",
    "        loss_context = loss_context.data.cpu().numpy().flatten()[0]\n",
    "\n",
    "\n",
    "\n",
    "        total_loss.backward()\n",
    "        opt.step()\n",
    "        \n",
    "        total_loss = total_loss.data.cpu().numpy().flatten()[0]\n",
    "        \n",
    "        print(\"\\r image [{}/{}] iteration : {:4} , context_loss: {:.4f}, perceptual_loss: {:4f}, total_loss: {:4f}\".format(i+1, len(images), iteration,loss_context,loss_perceptual, total_loss),end=\"\")\n",
    "    \n",
    "    final_inpainted_images.append(image_generated_inpainted.detach().cpu())"
   ]
  },
  {
   "cell_type": "code",
   "execution_count": 91,
   "metadata": {},
   "outputs": [
    {
     "data": {
      "text/plain": [
       "5"
      ]
     },
     "execution_count": 91,
     "metadata": {},
     "output_type": "execute_result"
    }
   ],
   "source": [
    "len(real_images)"
   ]
  },
  {
   "cell_type": "markdown",
   "metadata": {},
   "source": [
    "# Show results"
   ]
  },
  {
   "cell_type": "code",
   "execution_count": 92,
   "metadata": {},
   "outputs": [],
   "source": [
    "real = real_images[0].detach().cpu()[0, 0, :, :]\n",
    "real_masked = masked_images[0].detach().cpu()[0, 0, :, :]\n",
    "\n",
    "#first_generated =inpainted_images[1].detach().cpu()[0, 0, :, :]\n",
    "last_generated = inpainted_images[-1].detach().cpu()[0, 0, :, :]"
   ]
  },
  {
   "cell_type": "raw",
   "metadata": {},
   "source": [
    "plt.figure(figsize=(22,10))\n",
    "\n",
    "plt.subplot(1,3,1)\n",
    "plt.imshow(real, cmap='gray', vmin=0, vmax=1.2)\n",
    "plt.title('Ground truth')\n",
    "\n",
    "plt.subplot(1,3,2)\n",
    "plt.imshow(real_masked, cmap='gray', vmin=0, vmax=1.2)\n",
    "plt.title('Masked input')\n",
    "\n",
    "plt.subplot(1,3,3)\n",
    "plt.imshow(last_generated, cmap='gray', vmin=0, vmax=1.2)\n",
    "plt.title('Inpainted')\n",
    "\n",
    "plt.tight_layout()\n",
    "\n",
    "#plt.savefig('plots/inpainting.png', dpi=1300)"
   ]
  },
  {
   "cell_type": "raw",
   "metadata": {},
   "source": [
    "difference = real - last_generated\n",
    "difference[19:, :] = 0 # remove the noise, it doesn't matter\n",
    "\n",
    "sns.heatmap(difference, cmap='gray')\n",
    "plt.title('Ground truth - Inpainted ')\n",
    "\n",
    "difference  = difference.cpu().detach().numpy().flatten()\n",
    "\n",
    "mean, sigma, min_, max_ = difference.mean().item(), difference.std(), difference.min(), difference.max()\n",
    "print('mean: %.4f \\n std: %.4f \\n min: %.4f \\n max: %.4f' % (mean, sigma, min_, max_))"
   ]
  },
  {
   "cell_type": "raw",
   "metadata": {},
   "source": [
    "import matplotlib\n",
    "matplotlib.rcParams['animation.embed_limit'] = 20**128\n",
    "\n",
    "#%%capture\n",
    "fig = plt.figure(figsize=(8,8))\n",
    "plt.axis(\"off\")\n",
    "ims = [[plt.imshow(i.detach().cpu()[0, 0, :, :], animated=True, cmap='gray', vmin=0, vmax=1.2)] for i in inpainted_images]\n",
    "ani = animation.ArtistAnimation(fig, ims, interval=500, repeat_delay=1000, blit=True)\n",
    "\n",
    "\n",
    "HTML(ani.to_jshtml())"
   ]
  },
  {
   "cell_type": "markdown",
   "metadata": {},
   "source": [
    "# Decoding ASPA\n",
    "Need to clean this up. Using dicts like this is not clean."
   ]
  },
  {
   "cell_type": "code",
   "execution_count": 93,
   "metadata": {},
   "outputs": [
    {
     "data": {
      "text/plain": [
       "(32, 32)"
      ]
     },
     "execution_count": 93,
     "metadata": {},
     "output_type": "execute_result"
    }
   ],
   "source": [
    "aspa_inpainted = last_generated.numpy()\n",
    "aspa_real = real.numpy()\n",
    "\n",
    "aspa_inpainted.shape"
   ]
  },
  {
   "cell_type": "code",
   "execution_count": 94,
   "metadata": {},
   "outputs": [],
   "source": [
    "# Initialize ExoGAN params with zero's\n",
    "inpainted_params = {\n",
    "    'planet_mass': 0,\n",
    "    'temp_profile': 0,\n",
    "    'ch4_mixratio': 0,\n",
    "    'planet_radius': 0,\n",
    "    'h2o_mixratio': 0,\n",
    "    'co2_mixratio': 0,\n",
    "    'co_mixratio': 0\n",
    "}\n",
    "\n",
    "real_params = inpainted_params.copy()\n",
    "params_errors = inpainted_params.copy()"
   ]
  },
  {
   "cell_type": "markdown",
   "metadata": {},
   "source": [
    "## Inverse scale functions"
   ]
  },
  {
   "cell_type": "code",
   "execution_count": 95,
   "metadata": {},
   "outputs": [],
   "source": [
    "def inverse_scale_param(X_scaled, X_min, X_max):\n",
    "    return (X_scaled * (X_max-X_min)) + X_min\n",
    "\n",
    "def inverse_scale_params(params):\n",
    "    \"\"\"\n",
    "    Inverse scales the params array. \n",
    "    Params must be in fixed order, same order as it is encoded with.\n",
    "    \"\"\"\n",
    "    params = params.copy()\n",
    "    min_values = [1.518400e+27, \n",
    "                  1.000000e+03, \n",
    "                  -1.842068e+01, \n",
    "                  5.592880e+07, \n",
    "                  -1.842068e+01, \n",
    "                  -1.842068e+01, \n",
    "                  -1.842068e+01]\n",
    "    \n",
    "    max_values = [3.796000e+27, \n",
    "                  2.000000e+03, \n",
    "                  -2.302585e+00, \n",
    "                  1.048665e+08, \n",
    "                  -2.302585e+00, \n",
    "                  -2.302585e+00,\n",
    "                  -2.302585e+00]\n",
    "\n",
    "    params_inverse_scaled = []\n",
    "    for i in range(len(params)):\n",
    "        param = params[i]\n",
    "        min_= min_values[i]\n",
    "        max_ = max_values[i]\n",
    "\n",
    "        params_inverse_scaled.append(inverse_scale_param(param, min_, max_))\n",
    "    \n",
    "    return params_inverse_scaled"
   ]
  },
  {
   "cell_type": "markdown",
   "metadata": {},
   "source": [
    "## Inpainted params"
   ]
  },
  {
   "cell_type": "code",
   "execution_count": 96,
   "metadata": {},
   "outputs": [
    {
     "data": {
      "text/plain": [
       "[0.5913901,\n",
       " 0.52987623,\n",
       " 0.28509814,\n",
       " 0.49228072,\n",
       " 0.8672572,\n",
       " 0.16480102,\n",
       " 0.52327204]"
      ]
     },
     "execution_count": 96,
     "metadata": {},
     "output_type": "execute_result"
    }
   ],
   "source": [
    "inpainted_params_values = [aspa_inpainted[:16, 25+i:26+i] for i in range(len(inpainted_params))]\n",
    "inpainted_params_mean  = [i.mean() for i in inpainted_params_values]\n",
    "\n",
    "inpainted_params_mean"
   ]
  },
  {
   "cell_type": "code",
   "execution_count": 97,
   "metadata": {},
   "outputs": [
    {
     "data": {
      "text/plain": [
       "-8.95126699298"
      ]
     },
     "execution_count": 97,
     "metadata": {},
     "output_type": "execute_result"
    }
   ],
   "source": [
    "y = (0.5876265 * (-2.306--1.842068e+01))+-1.842068e+01\n",
    "y"
   ]
  },
  {
   "cell_type": "code",
   "execution_count": 98,
   "metadata": {},
   "outputs": [
    {
     "data": {
      "text/plain": [
       "[2.865350030946731e+27,\n",
       " 1529.8762321472168,\n",
       " -13.825441168150007,\n",
       " 80019886.27259731,\n",
       " -4.442146418308319,\n",
       " -15.764401560763494,\n",
       " -9.986531588633062]"
      ]
     },
     "execution_count": 98,
     "metadata": {},
     "output_type": "execute_result"
    }
   ],
   "source": [
    "inpainted_params_mean = inverse_scale_params(inpainted_params_mean)\n",
    "inpainted_params_mean"
   ]
  },
  {
   "cell_type": "markdown",
   "metadata": {},
   "source": [
    "### Convert mixtures from log back to regular scale"
   ]
  },
  {
   "cell_type": "code",
   "execution_count": 99,
   "metadata": {},
   "outputs": [],
   "source": [
    "for i,param in enumerate(inpainted_params):\n",
    "    if 'mixratio' in param:\n",
    "        inpainted_params[param] = 10**(inpainted_params_mean[i]) # convert log back to regular scale\n",
    "    else:\n",
    "        inpainted_params[param] = inpainted_params_mean[i]"
   ]
  },
  {
   "cell_type": "code",
   "execution_count": 100,
   "metadata": {},
   "outputs": [
    {
     "data": {
      "text/plain": [
       "{'planet_mass': 2.865350030946731e+27,\n",
       " 'temp_profile': 1529.8762321472168,\n",
       " 'ch4_mixratio': 1.4947165109339445e-14,\n",
       " 'planet_radius': 80019886.27259731,\n",
       " 'h2o_mixratio': 3.612880372338897e-05,\n",
       " 'co2_mixratio': 1.7202772232029457e-16,\n",
       " 'co_mixratio': 1.0314980501683828e-10}"
      ]
     },
     "execution_count": 100,
     "metadata": {},
     "output_type": "execute_result"
    }
   ],
   "source": [
    "inpainted_params"
   ]
  },
  {
   "cell_type": "markdown",
   "metadata": {},
   "source": [
    "## Real params\n",
    "Ground truth params"
   ]
  },
  {
   "cell_type": "code",
   "execution_count": 101,
   "metadata": {},
   "outputs": [
    {
     "data": {
      "text/plain": [
       "[1.0, 1.0, 0.8888889, 0.5555556, 0.7777778, 0.5555555, 0.44444442]"
      ]
     },
     "execution_count": 101,
     "metadata": {},
     "output_type": "execute_result"
    }
   ],
   "source": [
    "real_params_values = [aspa_real[:16, 25+i:26+i] for i in range(len(real_params))]\n",
    "real_params_mean  = [i.mean() for i in real_params_values]\n",
    "real_params_mean"
   ]
  },
  {
   "cell_type": "code",
   "execution_count": 102,
   "metadata": {},
   "outputs": [
    {
     "data": {
      "text/plain": [
       "[3.796e+27,\n",
       " 2000.0,\n",
       " -4.09348433769852,\n",
       " 83116412.40751743,\n",
       " -5.884383675397039,\n",
       " -9.466183311507404,\n",
       " -11.257082649205923]"
      ]
     },
     "execution_count": 102,
     "metadata": {},
     "output_type": "execute_result"
    }
   ],
   "source": [
    "real_params_mean = inverse_scale_params(real_params_mean)\n",
    "real_params_mean"
   ]
  },
  {
   "cell_type": "markdown",
   "metadata": {},
   "source": [
    "### Convert mixtures from log back to regular scale"
   ]
  },
  {
   "cell_type": "code",
   "execution_count": 103,
   "metadata": {},
   "outputs": [],
   "source": [
    "for i,param in enumerate(real_params):\n",
    "    if 'mixratio' in param:\n",
    "        real_params[param] = 10**(real_params_mean[i]) # convert log back to regular scale\n",
    "    else:\n",
    "        real_params[param] = real_params_mean[i]"
   ]
  },
  {
   "cell_type": "code",
   "execution_count": 104,
   "metadata": {},
   "outputs": [
    {
     "data": {
      "text/plain": [
       "{'planet_mass': 3.796e+27,\n",
       " 'temp_profile': 2000.0,\n",
       " 'ch4_mixratio': 8.063352803300718e-05,\n",
       " 'planet_radius': 83116412.40751743,\n",
       " 'h2o_mixratio': 1.3050174672324571e-06,\n",
       " 'co2_mixratio': 3.4183512675235434e-10,\n",
       " 'co_mixratio': 5.5324481293046354e-12}"
      ]
     },
     "execution_count": 104,
     "metadata": {},
     "output_type": "execute_result"
    }
   ],
   "source": [
    "real_params"
   ]
  },
  {
   "cell_type": "markdown",
   "metadata": {},
   "source": [
    "## Percentage error\n",
    "\n",
    "% error = $\\frac{y-\\hat{y}}{\\hat{y}} \\cdot$ 100"
   ]
  },
  {
   "cell_type": "code",
   "execution_count": 105,
   "metadata": {},
   "outputs": [
    {
     "data": {
      "text/plain": [
       "{'planet_mass': -24.51659560203553,\n",
       " 'temp_profile': -23.50618839263916,\n",
       " 'ch4_mixratio': -99.99999998146284,\n",
       " 'planet_radius': -3.7255291045743646,\n",
       " 'h2o_mixratio': 2668.4536514294414,\n",
       " 'co2_mixratio': -99.99994967523557,\n",
       " 'co_mixratio': 1764.4513713642898}"
      ]
     },
     "execution_count": 105,
     "metadata": {},
     "output_type": "execute_result"
    }
   ],
   "source": [
    "percentage_errors = []\n",
    "for param in real_params:\n",
    "    y_hat = real_params[param]\n",
    "    y = inpainted_params[param]\n",
    "    \n",
    "    params_errors[param] = ((y - y_hat) / y_hat)*100\n",
    "\n",
    "params_errors"
   ]
  },
  {
   "cell_type": "markdown",
   "metadata": {},
   "source": [
    "## Print results"
   ]
  },
  {
   "cell_type": "code",
   "execution_count": 106,
   "metadata": {},
   "outputs": [
    {
     "name": "stdout",
     "output_type": "stream",
     "text": [
      "planet_mass \t Real value: 3.79600e+27 \t inpainted value: 2.86535e+27 \t perc. diff.: -24.5165956020355295663648576\n",
      "temp_profile \t Real value: 2.00000e+03 \t inpainted value: 1.52988e+03 \t perc. diff.: -23.5061883926391601562500000\n",
      "ch4_mixratio \t Real value: 8.06335e-05 \t inpainted value: 1.49472e-14 \t perc. diff.: -99.9999999814628353078660439\n",
      "planet_radius \t Real value: 8.31164e+07 \t inpainted value: 8.00199e+07 \t perc. diff.: -3.7255291045743645916843434\n",
      "h2o_mixratio \t Real value: 1.30502e-06 \t inpainted value: 3.61288e-05 \t perc. diff.: 2668.4536514294413791503757238\n",
      "co2_mixratio \t Real value: 3.41835e-10 \t inpainted value: 1.72028e-16 \t perc. diff.: -99.9999496752355696571612498\n",
      "co_mixratio \t Real value: 5.53245e-12 \t inpainted value: 1.03150e-10 \t perc. diff.: 1764.4513713642897982936119661\n"
     ]
    }
   ],
   "source": [
    "for param in inpainted_params:\n",
    "    real = real_params[param]\n",
    "    inpainted = inpainted_params[param]\n",
    "    error = params_errors[param]\n",
    "    \n",
    "    print('%s \\t Real value: %.5e \\t inpainted value: %.5e \\t perc. diff.: %.25f' % (param, real, inpainted, error))"
   ]
  },
  {
   "cell_type": "markdown",
   "metadata": {},
   "source": [
    "# Functionize this to output the MAPE of all inpainted images per metric "
   ]
  },
  {
   "cell_type": "code",
   "execution_count": 107,
   "metadata": {},
   "outputs": [],
   "source": [
    "#real_images = []\n",
    "#final_inpainted_images = []\n",
    "\n",
    "reals = []\n",
    "inpainteds = []\n",
    "errors = []\n",
    "for i in range(len(real_images)-1):\n",
    "    aspa_real = real_images[i].detach().cpu()[0, 0, :, :].numpy() # size is 32,32 now\n",
    "    aspa_inpainted = final_inpainted_images[i].detach().cpu()[0, 0, :, :].numpy() # size is 32,32 now\n",
    "\n",
    "    \"\"\"Decode inpainted aspa\"\"\"\n",
    "    inpainted_params_values = [aspa_inpainted[:16, 25+j:26+j] for j in range(len(inpainted_params))]\n",
    "    inpainted_params_mean  = [k.mean() for k in inpainted_params_values]\n",
    "    inpainted_params_mean = inverse_scale_params(inpainted_params_mean)\n",
    "    \n",
    "    for a,param in enumerate(inpainted_params):\n",
    "        if 'mixratio' in param:\n",
    "            inpainted_params[param] = inpainted_params_mean[a] # convert log back to regular scale\n",
    "        else:\n",
    "            inpainted_params[param] = inpainted_params_mean[a]\n",
    "    \n",
    "    \"\"\"Decode real aspa\"\"\"\n",
    "    real_params_values = [aspa_real[:16, 25+b:26+b] for b in range(len(real_params))]\n",
    "    real_params_mean  = [c.mean() for c in real_params_values]\n",
    "    real_params_mean = inverse_scale_params(real_params_mean)\n",
    "    \n",
    "    for d,param in enumerate(real_params):\n",
    "        if 'mixratio' in param:\n",
    "            real_params[param] = real_params_mean[d] # convert log back to regular scale\n",
    "        else:\n",
    "            real_params[param] = real_params_mean[d]\n",
    "\n",
    "    \"\"\"Calculate percentage difference\"\"\"\n",
    "    params_errors = dict.fromkeys(params_errors, 0) # copy dicts' keys, set all values to zero\n",
    "    for param in real_params:\n",
    "        y_hat = real_params[param]\n",
    "        y = inpainted_params[param]\n",
    "        \n",
    "        params_errors[param] = ((y - y_hat) / y_hat)*100\n",
    "\n",
    "    reals.append(real_params.copy()) # !!!!! for some reason dicts need to be copied, to be able to append to a list... otherwise the dicts inside the lists get update too\n",
    "    inpainteds.append(inpainted_params.copy())\n",
    "    errors.append(params_errors.copy())\n"
   ]
  },
  {
   "cell_type": "raw",
   "metadata": {},
   "source": [
    "for error in errors:\n",
    "    print(error)"
   ]
  },
  {
   "cell_type": "markdown",
   "metadata": {},
   "source": [
    "# Create one large df from all the dicts"
   ]
  },
  {
   "cell_type": "code",
   "execution_count": 108,
   "metadata": {},
   "outputs": [
    {
     "data": {
      "text/plain": [
       "{'planet_mass': 2.783733393669128e+27,\n",
       " 'temp_profile': 1333.3333432674408,\n",
       " 'ch4_mixratio': -7.6752839738088845,\n",
       " 'planet_radius': 88553934.30563807,\n",
       " 'h2o_mixratio': -16.62978126274731,\n",
       " 'co2_mixratio': -7.6752839738088845,\n",
       " 'co_mixratio': -7.6752839738088845}"
      ]
     },
     "execution_count": 108,
     "metadata": {},
     "output_type": "execute_result"
    }
   ],
   "source": [
    "reals[1]"
   ]
  },
  {
   "cell_type": "code",
   "execution_count": 109,
   "metadata": {},
   "outputs": [
    {
     "name": "stdout",
     "output_type": "stream",
     "text": [
      "{'planet_mass': 3.796e+27, 'temp_profile': 2000.0, 'ch4_mixratio': -4.09348433769852, 'planet_radius': 83116412.40751743, 'h2o_mixratio': -5.884383675397039, 'co2_mixratio': -9.466183311507404, 'co_mixratio': -11.257082649205923}\n",
      "{'planet_mass': 2.783733393669128e+27, 'temp_profile': 1333.3333432674408, 'ch4_mixratio': -7.6752839738088845, 'planet_radius': 88553934.30563807, 'h2o_mixratio': -16.62978126274731, 'co2_mixratio': -7.6752839738088845, 'co_mixratio': -7.6752839738088845}\n",
      "{'planet_mass': 1.7714666685521603e+27, 'temp_profile': 1222.2222238779068, 'ch4_mixratio': -5.884383675397039, 'planet_radius': 93991456.20375872, 'h2o_mixratio': -4.09348433769852, 'co2_mixratio': -9.466183311507404, 'co_mixratio': -14.838881804959627}\n",
      "{'planet_mass': 2.783733393669128e+27, 'temp_profile': 1888.8888955116272, 'ch4_mixratio': -9.466183311507404, 'planet_radius': 66803844.52546984, 'h2o_mixratio': -16.62978126274731, 'co2_mixratio': -18.420680743952346, 'co_mixratio': -11.257082649205923}\n"
     ]
    }
   ],
   "source": [
    "dfs = []\n",
    "for i in range(len(errors)):\n",
    "    print(reals[i])\n",
    "    df1 = pd.DataFrame(errors[i], index=[0])\n",
    "    df1.columns = [i+'_error' for i in df1.columns]\n",
    "\n",
    "    df2 = pd.DataFrame(reals[i], index=[0])\n",
    "    df2.columns = [i+'_real' for i in df2.columns]\n",
    "\n",
    "    df3 = pd.DataFrame(inpainteds[i], index=[0])\n",
    "    df3.columns = [i+'_inpainted' for i in df3.columns]\n",
    "\n",
    "    df = pd.concat([df1, df2, df3], axis=1)\n",
    "    \n",
    "    dfs.append(df)\n",
    "\n",
    "df = pd.concat(dfs)"
   ]
  },
  {
   "cell_type": "markdown",
   "metadata": {},
   "source": [
    "# Errors of all images"
   ]
  },
  {
   "cell_type": "code",
   "execution_count": 110,
   "metadata": {},
   "outputs": [
    {
     "data": {
      "text/html": [
       "<div>\n",
       "<style scoped>\n",
       "    .dataframe tbody tr th:only-of-type {\n",
       "        vertical-align: middle;\n",
       "    }\n",
       "\n",
       "    .dataframe tbody tr th {\n",
       "        vertical-align: top;\n",
       "    }\n",
       "\n",
       "    .dataframe thead th {\n",
       "        text-align: right;\n",
       "    }\n",
       "</style>\n",
       "<table border=\"1\" class=\"dataframe\">\n",
       "  <thead>\n",
       "    <tr style=\"text-align: right;\">\n",
       "      <th></th>\n",
       "      <th>planet_mass_error</th>\n",
       "      <th>temp_profile_error</th>\n",
       "      <th>ch4_mixratio_error</th>\n",
       "      <th>planet_radius_error</th>\n",
       "      <th>h2o_mixratio_error</th>\n",
       "      <th>co2_mixratio_error</th>\n",
       "      <th>co_mixratio_error</th>\n",
       "      <th>planet_mass_real</th>\n",
       "      <th>temp_profile_real</th>\n",
       "      <th>ch4_mixratio_real</th>\n",
       "      <th>...</th>\n",
       "      <th>h2o_mixratio_real</th>\n",
       "      <th>co2_mixratio_real</th>\n",
       "      <th>co_mixratio_real</th>\n",
       "      <th>planet_mass_inpainted</th>\n",
       "      <th>temp_profile_inpainted</th>\n",
       "      <th>ch4_mixratio_inpainted</th>\n",
       "      <th>planet_radius_inpainted</th>\n",
       "      <th>h2o_mixratio_inpainted</th>\n",
       "      <th>co2_mixratio_inpainted</th>\n",
       "      <th>co_mixratio_inpainted</th>\n",
       "    </tr>\n",
       "  </thead>\n",
       "  <tbody>\n",
       "    <tr>\n",
       "      <th>count</th>\n",
       "      <td>4.000000</td>\n",
       "      <td>4.000000</td>\n",
       "      <td>4.000000</td>\n",
       "      <td>4.000000</td>\n",
       "      <td>4.000000</td>\n",
       "      <td>4.000000</td>\n",
       "      <td>4.000000</td>\n",
       "      <td>4.000000e+00</td>\n",
       "      <td>4.000000</td>\n",
       "      <td>4.000000</td>\n",
       "      <td>...</td>\n",
       "      <td>4.000000</td>\n",
       "      <td>4.000000</td>\n",
       "      <td>4.000000</td>\n",
       "      <td>4.000000e+00</td>\n",
       "      <td>4.000000</td>\n",
       "      <td>4.000000</td>\n",
       "      <td>4.000000e+00</td>\n",
       "      <td>4.000000</td>\n",
       "      <td>4.000000</td>\n",
       "      <td>4.000000</td>\n",
       "    </tr>\n",
       "    <tr>\n",
       "      <th>mean</th>\n",
       "      <td>4.842963</td>\n",
       "      <td>2.247836</td>\n",
       "      <td>4.147077</td>\n",
       "      <td>0.703409</td>\n",
       "      <td>3.731056</td>\n",
       "      <td>-9.267473</td>\n",
       "      <td>-0.697143</td>\n",
       "      <td>2.783733e+27</td>\n",
       "      <td>1611.111116</td>\n",
       "      <td>-6.779834</td>\n",
       "      <td>...</td>\n",
       "      <td>-10.809358</td>\n",
       "      <td>-11.257083</td>\n",
       "      <td>-11.257083</td>\n",
       "      <td>2.729919e+27</td>\n",
       "      <td>1562.652640</td>\n",
       "      <td>-6.877333</td>\n",
       "      <td>8.277924e+07</td>\n",
       "      <td>-10.423615</td>\n",
       "      <td>-10.342436</td>\n",
       "      <td>-10.667506</td>\n",
       "    </tr>\n",
       "    <tr>\n",
       "      <th>std</th>\n",
       "      <td>31.433768</td>\n",
       "      <td>29.299499</td>\n",
       "      <td>13.089897</td>\n",
       "      <td>10.523092</td>\n",
       "      <td>16.317525</td>\n",
       "      <td>5.370190</td>\n",
       "      <td>25.934799</td>\n",
       "      <td>8.265123e+26</td>\n",
       "      <td>390.209397</td>\n",
       "      <td>2.312042</td>\n",
       "      <td>...</td>\n",
       "      <td>6.760498</td>\n",
       "      <td>4.849779</td>\n",
       "      <td>2.924527</td>\n",
       "      <td>9.478924e+25</td>\n",
       "      <td>88.350999</td>\n",
       "      <td>1.856715</td>\n",
       "      <td>3.963887e+06</td>\n",
       "      <td>5.433742</td>\n",
       "      <td>4.985977</td>\n",
       "      <td>0.951689</td>\n",
       "    </tr>\n",
       "    <tr>\n",
       "      <th>min</th>\n",
       "      <td>-25.853380</td>\n",
       "      <td>-23.987312</td>\n",
       "      <td>-8.434000</td>\n",
       "      <td>-7.668687</td>\n",
       "      <td>-12.995449</td>\n",
       "      <td>-16.125666</td>\n",
       "      <td>-20.229120</td>\n",
       "      <td>1.771467e+27</td>\n",
       "      <td>1222.222224</td>\n",
       "      <td>-9.466183</td>\n",
       "      <td>...</td>\n",
       "      <td>-16.629781</td>\n",
       "      <td>-18.420681</td>\n",
       "      <td>-14.838882</td>\n",
       "      <td>2.633889e+27</td>\n",
       "      <td>1435.795218</td>\n",
       "      <td>-9.371205</td>\n",
       "      <td>7.733715e+07</td>\n",
       "      <td>-15.696398</td>\n",
       "      <td>-17.720899</td>\n",
       "      <td>-11.837107</td>\n",
       "    </tr>\n",
       "    <tr>\n",
       "      <th>25%</th>\n",
       "      <td>-9.712273</td>\n",
       "      <td>-22.148979</td>\n",
       "      <td>-2.861005</td>\n",
       "      <td>-5.796170</td>\n",
       "      <td>-7.458402</td>\n",
       "      <td>-12.017155</td>\n",
       "      <td>-16.592553</td>\n",
       "      <td>2.530667e+27</td>\n",
       "      <td>1305.555563</td>\n",
       "      <td>-8.123009</td>\n",
       "      <td>...</td>\n",
       "      <td>-16.629781</td>\n",
       "      <td>-11.704808</td>\n",
       "      <td>-12.152532</td>\n",
       "      <td>2.655831e+27</td>\n",
       "      <td>1535.905786</td>\n",
       "      <td>-7.613764</td>\n",
       "      <td>8.160104e+07</td>\n",
       "      <td>-14.775599</td>\n",
       "      <td>-11.068550</td>\n",
       "      <td>-11.062069</td>\n",
       "    </tr>\n",
       "    <tr>\n",
       "      <th>50%</th>\n",
       "      <td>-1.729413</td>\n",
       "      <td>-0.107108</td>\n",
       "      <td>1.367623</td>\n",
       "      <td>-2.642594</td>\n",
       "      <td>2.187913</td>\n",
       "      <td>-8.572666</td>\n",
       "      <td>-9.703848</td>\n",
       "      <td>2.783733e+27</td>\n",
       "      <td>1611.111119</td>\n",
       "      <td>-6.779834</td>\n",
       "      <td>...</td>\n",
       "      <td>-11.257082</td>\n",
       "      <td>-9.466183</td>\n",
       "      <td>-11.257083</td>\n",
       "      <td>2.735591e+27</td>\n",
       "      <td>1593.451232</td>\n",
       "      <td>-6.566163</td>\n",
       "      <td>8.349813e+07</td>\n",
       "      <td>-10.470407</td>\n",
       "      <td>-8.395400</td>\n",
       "      <td>-10.653607</td>\n",
       "    </tr>\n",
       "    <tr>\n",
       "      <th>75%</th>\n",
       "      <td>12.825823</td>\n",
       "      <td>24.289707</td>\n",
       "      <td>8.375706</td>\n",
       "      <td>3.856985</td>\n",
       "      <td>13.377371</td>\n",
       "      <td>-5.822984</td>\n",
       "      <td>6.191562</td>\n",
       "      <td>3.036800e+27</td>\n",
       "      <td>1916.666672</td>\n",
       "      <td>-5.436659</td>\n",
       "      <td>...</td>\n",
       "      <td>-5.436659</td>\n",
       "      <td>-9.018458</td>\n",
       "      <td>-10.361633</td>\n",
       "      <td>2.809680e+27</td>\n",
       "      <td>1620.198086</td>\n",
       "      <td>-5.829733</td>\n",
       "      <td>8.467633e+07</td>\n",
       "      <td>-6.118423</td>\n",
       "      <td>-7.669285</td>\n",
       "      <td>-10.259044</td>\n",
       "    </tr>\n",
       "    <tr>\n",
       "      <th>max</th>\n",
       "      <td>48.684058</td>\n",
       "      <td>33.192872</td>\n",
       "      <td>22.287062</td>\n",
       "      <td>15.767511</td>\n",
       "      <td>23.543845</td>\n",
       "      <td>-3.798894</td>\n",
       "      <td>36.848245</td>\n",
       "      <td>3.796000e+27</td>\n",
       "      <td>2000.000000</td>\n",
       "      <td>-4.093484</td>\n",
       "      <td>...</td>\n",
       "      <td>-4.093484</td>\n",
       "      <td>-7.675284</td>\n",
       "      <td>-7.675284</td>\n",
       "      <td>2.814606e+27</td>\n",
       "      <td>1627.912879</td>\n",
       "      <td>-5.005802</td>\n",
       "      <td>8.678355e+07</td>\n",
       "      <td>-5.057248</td>\n",
       "      <td>-6.858046</td>\n",
       "      <td>-9.525702</td>\n",
       "    </tr>\n",
       "  </tbody>\n",
       "</table>\n",
       "<p>8 rows × 21 columns</p>\n",
       "</div>"
      ],
      "text/plain": [
       "       planet_mass_error  temp_profile_error  ch4_mixratio_error  \\\n",
       "count           4.000000            4.000000            4.000000   \n",
       "mean            4.842963            2.247836            4.147077   \n",
       "std            31.433768           29.299499           13.089897   \n",
       "min           -25.853380          -23.987312           -8.434000   \n",
       "25%            -9.712273          -22.148979           -2.861005   \n",
       "50%            -1.729413           -0.107108            1.367623   \n",
       "75%            12.825823           24.289707            8.375706   \n",
       "max            48.684058           33.192872           22.287062   \n",
       "\n",
       "       planet_radius_error  h2o_mixratio_error  co2_mixratio_error  \\\n",
       "count             4.000000            4.000000            4.000000   \n",
       "mean              0.703409            3.731056           -9.267473   \n",
       "std              10.523092           16.317525            5.370190   \n",
       "min              -7.668687          -12.995449          -16.125666   \n",
       "25%              -5.796170           -7.458402          -12.017155   \n",
       "50%              -2.642594            2.187913           -8.572666   \n",
       "75%               3.856985           13.377371           -5.822984   \n",
       "max              15.767511           23.543845           -3.798894   \n",
       "\n",
       "       co_mixratio_error  planet_mass_real  temp_profile_real  \\\n",
       "count           4.000000      4.000000e+00           4.000000   \n",
       "mean           -0.697143      2.783733e+27        1611.111116   \n",
       "std            25.934799      8.265123e+26         390.209397   \n",
       "min           -20.229120      1.771467e+27        1222.222224   \n",
       "25%           -16.592553      2.530667e+27        1305.555563   \n",
       "50%            -9.703848      2.783733e+27        1611.111119   \n",
       "75%             6.191562      3.036800e+27        1916.666672   \n",
       "max            36.848245      3.796000e+27        2000.000000   \n",
       "\n",
       "       ch4_mixratio_real          ...            h2o_mixratio_real  \\\n",
       "count           4.000000          ...                     4.000000   \n",
       "mean           -6.779834          ...                   -10.809358   \n",
       "std             2.312042          ...                     6.760498   \n",
       "min            -9.466183          ...                   -16.629781   \n",
       "25%            -8.123009          ...                   -16.629781   \n",
       "50%            -6.779834          ...                   -11.257082   \n",
       "75%            -5.436659          ...                    -5.436659   \n",
       "max            -4.093484          ...                    -4.093484   \n",
       "\n",
       "       co2_mixratio_real  co_mixratio_real  planet_mass_inpainted  \\\n",
       "count           4.000000          4.000000           4.000000e+00   \n",
       "mean          -11.257083        -11.257083           2.729919e+27   \n",
       "std             4.849779          2.924527           9.478924e+25   \n",
       "min           -18.420681        -14.838882           2.633889e+27   \n",
       "25%           -11.704808        -12.152532           2.655831e+27   \n",
       "50%            -9.466183        -11.257083           2.735591e+27   \n",
       "75%            -9.018458        -10.361633           2.809680e+27   \n",
       "max            -7.675284         -7.675284           2.814606e+27   \n",
       "\n",
       "       temp_profile_inpainted  ch4_mixratio_inpainted  \\\n",
       "count                4.000000                4.000000   \n",
       "mean              1562.652640               -6.877333   \n",
       "std                 88.350999                1.856715   \n",
       "min               1435.795218               -9.371205   \n",
       "25%               1535.905786               -7.613764   \n",
       "50%               1593.451232               -6.566163   \n",
       "75%               1620.198086               -5.829733   \n",
       "max               1627.912879               -5.005802   \n",
       "\n",
       "       planet_radius_inpainted  h2o_mixratio_inpainted  \\\n",
       "count             4.000000e+00                4.000000   \n",
       "mean              8.277924e+07              -10.423615   \n",
       "std               3.963887e+06                5.433742   \n",
       "min               7.733715e+07              -15.696398   \n",
       "25%               8.160104e+07              -14.775599   \n",
       "50%               8.349813e+07              -10.470407   \n",
       "75%               8.467633e+07               -6.118423   \n",
       "max               8.678355e+07               -5.057248   \n",
       "\n",
       "       co2_mixratio_inpainted  co_mixratio_inpainted  \n",
       "count                4.000000               4.000000  \n",
       "mean               -10.342436             -10.667506  \n",
       "std                  4.985977               0.951689  \n",
       "min                -17.720899             -11.837107  \n",
       "25%                -11.068550             -11.062069  \n",
       "50%                 -8.395400             -10.653607  \n",
       "75%                 -7.669285             -10.259044  \n",
       "max                 -6.858046              -9.525702  \n",
       "\n",
       "[8 rows x 21 columns]"
      ]
     },
     "execution_count": 110,
     "metadata": {},
     "output_type": "execute_result"
    }
   ],
   "source": [
    "df.describe()"
   ]
  },
  {
   "cell_type": "code",
   "execution_count": 111,
   "metadata": {},
   "outputs": [
    {
     "data": {
      "text/html": [
       "<div>\n",
       "<style scoped>\n",
       "    .dataframe tbody tr th:only-of-type {\n",
       "        vertical-align: middle;\n",
       "    }\n",
       "\n",
       "    .dataframe tbody tr th {\n",
       "        vertical-align: top;\n",
       "    }\n",
       "\n",
       "    .dataframe thead th {\n",
       "        text-align: right;\n",
       "    }\n",
       "</style>\n",
       "<table border=\"1\" class=\"dataframe\">\n",
       "  <thead>\n",
       "    <tr style=\"text-align: right;\">\n",
       "      <th></th>\n",
       "      <th>planet_mass_error</th>\n",
       "      <th>temp_profile_error</th>\n",
       "      <th>ch4_mixratio_error</th>\n",
       "      <th>planet_radius_error</th>\n",
       "      <th>h2o_mixratio_error</th>\n",
       "      <th>co2_mixratio_error</th>\n",
       "      <th>co_mixratio_error</th>\n",
       "      <th>planet_mass_real</th>\n",
       "      <th>temp_profile_real</th>\n",
       "      <th>ch4_mixratio_real</th>\n",
       "      <th>...</th>\n",
       "      <th>h2o_mixratio_real</th>\n",
       "      <th>co2_mixratio_real</th>\n",
       "      <th>co_mixratio_real</th>\n",
       "      <th>planet_mass_inpainted</th>\n",
       "      <th>temp_profile_inpainted</th>\n",
       "      <th>ch4_mixratio_inpainted</th>\n",
       "      <th>planet_radius_inpainted</th>\n",
       "      <th>h2o_mixratio_inpainted</th>\n",
       "      <th>co2_mixratio_inpainted</th>\n",
       "      <th>co_mixratio_inpainted</th>\n",
       "    </tr>\n",
       "  </thead>\n",
       "  <tbody>\n",
       "    <tr>\n",
       "      <th>count</th>\n",
       "      <td>4.000000</td>\n",
       "      <td>4.000000</td>\n",
       "      <td>4.000000</td>\n",
       "      <td>4.000000</td>\n",
       "      <td>4.000000</td>\n",
       "      <td>4.000000</td>\n",
       "      <td>4.000000</td>\n",
       "      <td>4.000000e+00</td>\n",
       "      <td>4.000000</td>\n",
       "      <td>4.000000</td>\n",
       "      <td>...</td>\n",
       "      <td>4.000000</td>\n",
       "      <td>4.000000</td>\n",
       "      <td>4.000000</td>\n",
       "      <td>4.000000e+00</td>\n",
       "      <td>4.000000</td>\n",
       "      <td>4.000000</td>\n",
       "      <td>4.000000e+00</td>\n",
       "      <td>4.000000</td>\n",
       "      <td>4.000000</td>\n",
       "      <td>4.000000</td>\n",
       "    </tr>\n",
       "    <tr>\n",
       "      <th>mean</th>\n",
       "      <td>4.842963</td>\n",
       "      <td>2.247836</td>\n",
       "      <td>4.147077</td>\n",
       "      <td>0.703409</td>\n",
       "      <td>3.731056</td>\n",
       "      <td>-9.267473</td>\n",
       "      <td>-0.697143</td>\n",
       "      <td>2.783733e+27</td>\n",
       "      <td>1611.111116</td>\n",
       "      <td>-6.779834</td>\n",
       "      <td>...</td>\n",
       "      <td>-10.809358</td>\n",
       "      <td>-11.257083</td>\n",
       "      <td>-11.257083</td>\n",
       "      <td>2.729919e+27</td>\n",
       "      <td>1562.652640</td>\n",
       "      <td>-6.877333</td>\n",
       "      <td>8.277924e+07</td>\n",
       "      <td>-10.423615</td>\n",
       "      <td>-10.342436</td>\n",
       "      <td>-10.667506</td>\n",
       "    </tr>\n",
       "    <tr>\n",
       "      <th>std</th>\n",
       "      <td>31.433768</td>\n",
       "      <td>29.299499</td>\n",
       "      <td>13.089897</td>\n",
       "      <td>10.523092</td>\n",
       "      <td>16.317525</td>\n",
       "      <td>5.370190</td>\n",
       "      <td>25.934799</td>\n",
       "      <td>8.265123e+26</td>\n",
       "      <td>390.209397</td>\n",
       "      <td>2.312042</td>\n",
       "      <td>...</td>\n",
       "      <td>6.760498</td>\n",
       "      <td>4.849779</td>\n",
       "      <td>2.924527</td>\n",
       "      <td>9.478924e+25</td>\n",
       "      <td>88.350999</td>\n",
       "      <td>1.856715</td>\n",
       "      <td>3.963887e+06</td>\n",
       "      <td>5.433742</td>\n",
       "      <td>4.985977</td>\n",
       "      <td>0.951689</td>\n",
       "    </tr>\n",
       "    <tr>\n",
       "      <th>min</th>\n",
       "      <td>-25.853380</td>\n",
       "      <td>-23.987312</td>\n",
       "      <td>-8.434000</td>\n",
       "      <td>-7.668687</td>\n",
       "      <td>-12.995449</td>\n",
       "      <td>-16.125666</td>\n",
       "      <td>-20.229120</td>\n",
       "      <td>1.771467e+27</td>\n",
       "      <td>1222.222224</td>\n",
       "      <td>-9.466183</td>\n",
       "      <td>...</td>\n",
       "      <td>-16.629781</td>\n",
       "      <td>-18.420681</td>\n",
       "      <td>-14.838882</td>\n",
       "      <td>2.633889e+27</td>\n",
       "      <td>1435.795218</td>\n",
       "      <td>-9.371205</td>\n",
       "      <td>7.733715e+07</td>\n",
       "      <td>-15.696398</td>\n",
       "      <td>-17.720899</td>\n",
       "      <td>-11.837107</td>\n",
       "    </tr>\n",
       "    <tr>\n",
       "      <th>25%</th>\n",
       "      <td>-9.712273</td>\n",
       "      <td>-22.148979</td>\n",
       "      <td>-2.861005</td>\n",
       "      <td>-5.796170</td>\n",
       "      <td>-7.458402</td>\n",
       "      <td>-12.017155</td>\n",
       "      <td>-16.592553</td>\n",
       "      <td>2.530667e+27</td>\n",
       "      <td>1305.555563</td>\n",
       "      <td>-8.123009</td>\n",
       "      <td>...</td>\n",
       "      <td>-16.629781</td>\n",
       "      <td>-11.704808</td>\n",
       "      <td>-12.152532</td>\n",
       "      <td>2.655831e+27</td>\n",
       "      <td>1535.905786</td>\n",
       "      <td>-7.613764</td>\n",
       "      <td>8.160104e+07</td>\n",
       "      <td>-14.775599</td>\n",
       "      <td>-11.068550</td>\n",
       "      <td>-11.062069</td>\n",
       "    </tr>\n",
       "    <tr>\n",
       "      <th>50%</th>\n",
       "      <td>-1.729413</td>\n",
       "      <td>-0.107108</td>\n",
       "      <td>1.367623</td>\n",
       "      <td>-2.642594</td>\n",
       "      <td>2.187913</td>\n",
       "      <td>-8.572666</td>\n",
       "      <td>-9.703848</td>\n",
       "      <td>2.783733e+27</td>\n",
       "      <td>1611.111119</td>\n",
       "      <td>-6.779834</td>\n",
       "      <td>...</td>\n",
       "      <td>-11.257082</td>\n",
       "      <td>-9.466183</td>\n",
       "      <td>-11.257083</td>\n",
       "      <td>2.735591e+27</td>\n",
       "      <td>1593.451232</td>\n",
       "      <td>-6.566163</td>\n",
       "      <td>8.349813e+07</td>\n",
       "      <td>-10.470407</td>\n",
       "      <td>-8.395400</td>\n",
       "      <td>-10.653607</td>\n",
       "    </tr>\n",
       "    <tr>\n",
       "      <th>75%</th>\n",
       "      <td>12.825823</td>\n",
       "      <td>24.289707</td>\n",
       "      <td>8.375706</td>\n",
       "      <td>3.856985</td>\n",
       "      <td>13.377371</td>\n",
       "      <td>-5.822984</td>\n",
       "      <td>6.191562</td>\n",
       "      <td>3.036800e+27</td>\n",
       "      <td>1916.666672</td>\n",
       "      <td>-5.436659</td>\n",
       "      <td>...</td>\n",
       "      <td>-5.436659</td>\n",
       "      <td>-9.018458</td>\n",
       "      <td>-10.361633</td>\n",
       "      <td>2.809680e+27</td>\n",
       "      <td>1620.198086</td>\n",
       "      <td>-5.829733</td>\n",
       "      <td>8.467633e+07</td>\n",
       "      <td>-6.118423</td>\n",
       "      <td>-7.669285</td>\n",
       "      <td>-10.259044</td>\n",
       "    </tr>\n",
       "    <tr>\n",
       "      <th>max</th>\n",
       "      <td>48.684058</td>\n",
       "      <td>33.192872</td>\n",
       "      <td>22.287062</td>\n",
       "      <td>15.767511</td>\n",
       "      <td>23.543845</td>\n",
       "      <td>-3.798894</td>\n",
       "      <td>36.848245</td>\n",
       "      <td>3.796000e+27</td>\n",
       "      <td>2000.000000</td>\n",
       "      <td>-4.093484</td>\n",
       "      <td>...</td>\n",
       "      <td>-4.093484</td>\n",
       "      <td>-7.675284</td>\n",
       "      <td>-7.675284</td>\n",
       "      <td>2.814606e+27</td>\n",
       "      <td>1627.912879</td>\n",
       "      <td>-5.005802</td>\n",
       "      <td>8.678355e+07</td>\n",
       "      <td>-5.057248</td>\n",
       "      <td>-6.858046</td>\n",
       "      <td>-9.525702</td>\n",
       "    </tr>\n",
       "  </tbody>\n",
       "</table>\n",
       "<p>8 rows × 21 columns</p>\n",
       "</div>"
      ],
      "text/plain": [
       "       planet_mass_error  temp_profile_error  ch4_mixratio_error  \\\n",
       "count           4.000000            4.000000            4.000000   \n",
       "mean            4.842963            2.247836            4.147077   \n",
       "std            31.433768           29.299499           13.089897   \n",
       "min           -25.853380          -23.987312           -8.434000   \n",
       "25%            -9.712273          -22.148979           -2.861005   \n",
       "50%            -1.729413           -0.107108            1.367623   \n",
       "75%            12.825823           24.289707            8.375706   \n",
       "max            48.684058           33.192872           22.287062   \n",
       "\n",
       "       planet_radius_error  h2o_mixratio_error  co2_mixratio_error  \\\n",
       "count             4.000000            4.000000            4.000000   \n",
       "mean              0.703409            3.731056           -9.267473   \n",
       "std              10.523092           16.317525            5.370190   \n",
       "min              -7.668687          -12.995449          -16.125666   \n",
       "25%              -5.796170           -7.458402          -12.017155   \n",
       "50%              -2.642594            2.187913           -8.572666   \n",
       "75%               3.856985           13.377371           -5.822984   \n",
       "max              15.767511           23.543845           -3.798894   \n",
       "\n",
       "       co_mixratio_error  planet_mass_real  temp_profile_real  \\\n",
       "count           4.000000      4.000000e+00           4.000000   \n",
       "mean           -0.697143      2.783733e+27        1611.111116   \n",
       "std            25.934799      8.265123e+26         390.209397   \n",
       "min           -20.229120      1.771467e+27        1222.222224   \n",
       "25%           -16.592553      2.530667e+27        1305.555563   \n",
       "50%            -9.703848      2.783733e+27        1611.111119   \n",
       "75%             6.191562      3.036800e+27        1916.666672   \n",
       "max            36.848245      3.796000e+27        2000.000000   \n",
       "\n",
       "       ch4_mixratio_real          ...            h2o_mixratio_real  \\\n",
       "count           4.000000          ...                     4.000000   \n",
       "mean           -6.779834          ...                   -10.809358   \n",
       "std             2.312042          ...                     6.760498   \n",
       "min            -9.466183          ...                   -16.629781   \n",
       "25%            -8.123009          ...                   -16.629781   \n",
       "50%            -6.779834          ...                   -11.257082   \n",
       "75%            -5.436659          ...                    -5.436659   \n",
       "max            -4.093484          ...                    -4.093484   \n",
       "\n",
       "       co2_mixratio_real  co_mixratio_real  planet_mass_inpainted  \\\n",
       "count           4.000000          4.000000           4.000000e+00   \n",
       "mean          -11.257083        -11.257083           2.729919e+27   \n",
       "std             4.849779          2.924527           9.478924e+25   \n",
       "min           -18.420681        -14.838882           2.633889e+27   \n",
       "25%           -11.704808        -12.152532           2.655831e+27   \n",
       "50%            -9.466183        -11.257083           2.735591e+27   \n",
       "75%            -9.018458        -10.361633           2.809680e+27   \n",
       "max            -7.675284         -7.675284           2.814606e+27   \n",
       "\n",
       "       temp_profile_inpainted  ch4_mixratio_inpainted  \\\n",
       "count                4.000000                4.000000   \n",
       "mean              1562.652640               -6.877333   \n",
       "std                 88.350999                1.856715   \n",
       "min               1435.795218               -9.371205   \n",
       "25%               1535.905786               -7.613764   \n",
       "50%               1593.451232               -6.566163   \n",
       "75%               1620.198086               -5.829733   \n",
       "max               1627.912879               -5.005802   \n",
       "\n",
       "       planet_radius_inpainted  h2o_mixratio_inpainted  \\\n",
       "count             4.000000e+00                4.000000   \n",
       "mean              8.277924e+07              -10.423615   \n",
       "std               3.963887e+06                5.433742   \n",
       "min               7.733715e+07              -15.696398   \n",
       "25%               8.160104e+07              -14.775599   \n",
       "50%               8.349813e+07              -10.470407   \n",
       "75%               8.467633e+07               -6.118423   \n",
       "max               8.678355e+07               -5.057248   \n",
       "\n",
       "       co2_mixratio_inpainted  co_mixratio_inpainted  \n",
       "count                4.000000               4.000000  \n",
       "mean               -10.342436             -10.667506  \n",
       "std                  4.985977               0.951689  \n",
       "min                -17.720899             -11.837107  \n",
       "25%                -11.068550             -11.062069  \n",
       "50%                 -8.395400             -10.653607  \n",
       "75%                 -7.669285             -10.259044  \n",
       "max                 -6.858046              -9.525702  \n",
       "\n",
       "[8 rows x 21 columns]"
      ]
     },
     "execution_count": 111,
     "metadata": {},
     "output_type": "execute_result"
    }
   ],
   "source": [
    "df.describe()"
   ]
  },
  {
   "cell_type": "code",
   "execution_count": 112,
   "metadata": {},
   "outputs": [
    {
     "name": "stdout",
     "output_type": "stream",
     "text": [
      "ch4_mixratio\n"
     ]
    }
   ],
   "source": [
    "params = [param for param in real_params.keys()]\n",
    "param = params[2]\n",
    "print(param)"
   ]
  },
  {
   "cell_type": "code",
   "execution_count": 113,
   "metadata": {},
   "outputs": [
    {
     "data": {
      "image/png": "[encoded data removed]",
      "text/plain": [
       "<Figure size 432x288 with 1 Axes>"
      ]
     },
     "metadata": {
      "needs_background": "light"
     },
     "output_type": "display_data"
    }
   ],
   "source": [
    "x = df[param+'_real']\n",
    "y = df[param+'_inpainted']\n",
    "\n",
    "plt.plot(x, y, '.')\n",
    "plt.xlabel('real')\n",
    "plt.ylabel('inpainted')\n",
    "plt.grid()"
   ]
  },
  {
   "cell_type": "code",
   "execution_count": 114,
   "metadata": {},
   "outputs": [
    {
     "data": {
      "text/plain": [
       "0   -4.093484\n",
       "0   -7.675284\n",
       "0   -5.884384\n",
       "0   -9.466183\n",
       "Name: ch4_mixratio_real, dtype: float64"
      ]
     },
     "execution_count": 114,
     "metadata": {},
     "output_type": "execute_result"
    }
   ],
   "source": [
    "x"
   ]
  },
  {
   "cell_type": "code",
   "execution_count": 115,
   "metadata": {},
   "outputs": [
    {
     "data": {
      "text/plain": [
       "0   -5.005802\n",
       "0   -7.027951\n",
       "0   -6.104376\n",
       "0   -9.371205\n",
       "Name: ch4_mixratio_inpainted, dtype: float64"
      ]
     },
     "execution_count": 115,
     "metadata": {},
     "output_type": "execute_result"
    }
   ],
   "source": [
    "y"
   ]
  },
  {
   "cell_type": "code",
   "execution_count": 116,
   "metadata": {},
   "outputs": [
    {
     "data": {
      "text/plain": [
       "(array([1., 0., 1., 1., 0., 0., 0., 0., 0., 1.]),\n",
       " array([-8.43399991, -5.36189371, -2.28978752,  0.78231867,  3.85442486,\n",
       "         6.92653106,  9.99863725, 13.07074344, 16.14284963, 19.21495583,\n",
       "        22.28706202]),\n",
       " <a list of 10 Patch objects>)"
      ]
     },
     "execution_count": 116,
     "metadata": {},
     "output_type": "execute_result"
    },
    {
     "data": {
      "image/png": "[encoded data removed]",
      "text/plain": [
       "<Figure size 432x288 with 1 Axes>"
      ]
     },
     "metadata": {
      "needs_background": "light"
     },
     "output_type": "display_data"
    }
   ],
   "source": [
    "plt.hist(df[param+'_error'])"
   ]
  },
  {
   "cell_type": "code",
   "execution_count": 117,
   "metadata": {},
   "outputs": [
    {
     "name": "stdout",
     "output_type": "stream",
     "text": [
      "saved\n"
     ]
    },
    {
     "data": {
      "image/png": "[encoded data removed]",
      "text/plain": [
       "<Figure size 1800x720 with 7 Axes>"
      ]
     },
     "metadata": {
      "needs_background": "light"
     },
     "output_type": "display_data"
    }
   ],
   "source": [
    "plt.figure(figsize=((25,10)))\n",
    "for i,param in enumerate(params):\n",
    "    plt.subplot(3,3,i+1)\n",
    "    plt.title(param+'_error')\n",
    "    plt.hist(df[param+'_error'], bins=20)\n",
    "    plt.grid()\n",
    "    plt.tight_layout()\n",
    "\n",
    "plt.savefig('plots//Validation error hist of '+str(len(images))+' images.png', dpi=1200)\n",
    "print('saved')"
   ]
  },
  {
   "cell_type": "raw",
   "metadata": {},
   "source": [
    "plt.figure(figsize=((25,10)))\n",
    "for i,param in enumerate(params):\n",
    "    x = df[param+'_error']\n",
    "    y = df[param+'_real']\n",
    "    \n",
    "    plt.subplot(3,3,i+1)\n",
    "\n",
    "    plt.plot(x, y, '.')\n",
    "    plt.tight_layout()"
   ]
  },
  {
   "cell_type": "code",
   "execution_count": 118,
   "metadata": {},
   "outputs": [],
   "source": [
    "df.to_csv('Validation error of '+str(len(images))+' images')"
   ]
  },
  {
   "cell_type": "code",
   "execution_count": 119,
   "metadata": {},
   "outputs": [
    {
     "data": {
      "text/html": [
       "<div>\n",
       "<style scoped>\n",
       "    .dataframe tbody tr th:only-of-type {\n",
       "        vertical-align: middle;\n",
       "    }\n",
       "\n",
       "    .dataframe tbody tr th {\n",
       "        vertical-align: top;\n",
       "    }\n",
       "\n",
       "    .dataframe thead th {\n",
       "        text-align: right;\n",
       "    }\n",
       "</style>\n",
       "<table border=\"1\" class=\"dataframe\">\n",
       "  <thead>\n",
       "    <tr style=\"text-align: right;\">\n",
       "      <th></th>\n",
       "      <th>planet_mass_error</th>\n",
       "      <th>temp_profile_error</th>\n",
       "      <th>ch4_mixratio_error</th>\n",
       "      <th>planet_radius_error</th>\n",
       "      <th>h2o_mixratio_error</th>\n",
       "      <th>co2_mixratio_error</th>\n",
       "      <th>co_mixratio_error</th>\n",
       "      <th>planet_mass_real</th>\n",
       "      <th>temp_profile_real</th>\n",
       "      <th>ch4_mixratio_real</th>\n",
       "      <th>...</th>\n",
       "      <th>h2o_mixratio_real</th>\n",
       "      <th>co2_mixratio_real</th>\n",
       "      <th>co_mixratio_real</th>\n",
       "      <th>planet_mass_inpainted</th>\n",
       "      <th>temp_profile_inpainted</th>\n",
       "      <th>ch4_mixratio_inpainted</th>\n",
       "      <th>planet_radius_inpainted</th>\n",
       "      <th>h2o_mixratio_inpainted</th>\n",
       "      <th>co2_mixratio_inpainted</th>\n",
       "      <th>co_mixratio_inpainted</th>\n",
       "    </tr>\n",
       "  </thead>\n",
       "  <tbody>\n",
       "    <tr>\n",
       "      <th>0</th>\n",
       "      <td>-25.853380</td>\n",
       "      <td>-21.536201</td>\n",
       "      <td>22.287062</td>\n",
       "      <td>-0.113190</td>\n",
       "      <td>9.988547</td>\n",
       "      <td>-6.497680</td>\n",
       "      <td>-4.027332</td>\n",
       "      <td>3.796000e+27</td>\n",
       "      <td>2000.000000</td>\n",
       "      <td>-4.093484</td>\n",
       "      <td>...</td>\n",
       "      <td>-5.884384</td>\n",
       "      <td>-9.466183</td>\n",
       "      <td>-11.257083</td>\n",
       "      <td>2.814606e+27</td>\n",
       "      <td>1569.275975</td>\n",
       "      <td>-5.005802</td>\n",
       "      <td>8.302233e+07</td>\n",
       "      <td>-6.472148</td>\n",
       "      <td>-8.851101</td>\n",
       "      <td>-10.803723</td>\n",
       "    </tr>\n",
       "    <tr>\n",
       "      <th>0</th>\n",
       "      <td>0.873079</td>\n",
       "      <td>21.321986</td>\n",
       "      <td>-8.434000</td>\n",
       "      <td>-5.171998</td>\n",
       "      <td>-12.995449</td>\n",
       "      <td>-10.647652</td>\n",
       "      <td>36.848245</td>\n",
       "      <td>2.783733e+27</td>\n",
       "      <td>1333.333343</td>\n",
       "      <td>-7.675284</td>\n",
       "      <td>...</td>\n",
       "      <td>-16.629781</td>\n",
       "      <td>-7.675284</td>\n",
       "      <td>-7.675284</td>\n",
       "      <td>2.808038e+27</td>\n",
       "      <td>1617.626488</td>\n",
       "      <td>-7.027951</td>\n",
       "      <td>8.397393e+07</td>\n",
       "      <td>-14.468667</td>\n",
       "      <td>-6.858046</td>\n",
       "      <td>-10.503491</td>\n",
       "    </tr>\n",
       "    <tr>\n",
       "      <th>0</th>\n",
       "      <td>48.684058</td>\n",
       "      <td>33.192872</td>\n",
       "      <td>3.738587</td>\n",
       "      <td>-7.668687</td>\n",
       "      <td>23.543845</td>\n",
       "      <td>-16.125666</td>\n",
       "      <td>-20.229120</td>\n",
       "      <td>1.771467e+27</td>\n",
       "      <td>1222.222224</td>\n",
       "      <td>-5.884384</td>\n",
       "      <td>...</td>\n",
       "      <td>-4.093484</td>\n",
       "      <td>-9.466183</td>\n",
       "      <td>-14.838882</td>\n",
       "      <td>2.633889e+27</td>\n",
       "      <td>1627.912879</td>\n",
       "      <td>-6.104376</td>\n",
       "      <td>8.678355e+07</td>\n",
       "      <td>-5.057248</td>\n",
       "      <td>-7.939698</td>\n",
       "      <td>-11.837107</td>\n",
       "    </tr>\n",
       "    <tr>\n",
       "      <th>0</th>\n",
       "      <td>-4.331904</td>\n",
       "      <td>-23.987312</td>\n",
       "      <td>-1.003340</td>\n",
       "      <td>15.767511</td>\n",
       "      <td>-5.612720</td>\n",
       "      <td>-3.798894</td>\n",
       "      <td>-15.380364</td>\n",
       "      <td>2.783733e+27</td>\n",
       "      <td>1888.888896</td>\n",
       "      <td>-9.466183</td>\n",
       "      <td>...</td>\n",
       "      <td>-16.629781</td>\n",
       "      <td>-18.420681</td>\n",
       "      <td>-11.257083</td>\n",
       "      <td>2.663145e+27</td>\n",
       "      <td>1435.795218</td>\n",
       "      <td>-9.371205</td>\n",
       "      <td>7.733715e+07</td>\n",
       "      <td>-15.696398</td>\n",
       "      <td>-17.720899</td>\n",
       "      <td>-9.525702</td>\n",
       "    </tr>\n",
       "  </tbody>\n",
       "</table>\n",
       "<p>4 rows × 21 columns</p>\n",
       "</div>"
      ],
      "text/plain": [
       "   planet_mass_error  temp_profile_error  ch4_mixratio_error  \\\n",
       "0         -25.853380          -21.536201           22.287062   \n",
       "0           0.873079           21.321986           -8.434000   \n",
       "0          48.684058           33.192872            3.738587   \n",
       "0          -4.331904          -23.987312           -1.003340   \n",
       "\n",
       "   planet_radius_error  h2o_mixratio_error  co2_mixratio_error  \\\n",
       "0            -0.113190            9.988547           -6.497680   \n",
       "0            -5.171998          -12.995449          -10.647652   \n",
       "0            -7.668687           23.543845          -16.125666   \n",
       "0            15.767511           -5.612720           -3.798894   \n",
       "\n",
       "   co_mixratio_error  planet_mass_real  temp_profile_real  ch4_mixratio_real  \\\n",
       "0          -4.027332      3.796000e+27        2000.000000          -4.093484   \n",
       "0          36.848245      2.783733e+27        1333.333343          -7.675284   \n",
       "0         -20.229120      1.771467e+27        1222.222224          -5.884384   \n",
       "0         -15.380364      2.783733e+27        1888.888896          -9.466183   \n",
       "\n",
       "           ...            h2o_mixratio_real  co2_mixratio_real  \\\n",
       "0          ...                    -5.884384          -9.466183   \n",
       "0          ...                   -16.629781          -7.675284   \n",
       "0          ...                    -4.093484          -9.466183   \n",
       "0          ...                   -16.629781         -18.420681   \n",
       "\n",
       "   co_mixratio_real  planet_mass_inpainted  temp_profile_inpainted  \\\n",
       "0        -11.257083           2.814606e+27             1569.275975   \n",
       "0         -7.675284           2.808038e+27             1617.626488   \n",
       "0        -14.838882           2.633889e+27             1627.912879   \n",
       "0        -11.257083           2.663145e+27             1435.795218   \n",
       "\n",
       "   ch4_mixratio_inpainted  planet_radius_inpainted  h2o_mixratio_inpainted  \\\n",
       "0               -5.005802             8.302233e+07               -6.472148   \n",
       "0               -7.027951             8.397393e+07              -14.468667   \n",
       "0               -6.104376             8.678355e+07               -5.057248   \n",
       "0               -9.371205             7.733715e+07              -15.696398   \n",
       "\n",
       "   co2_mixratio_inpainted  co_mixratio_inpainted  \n",
       "0               -8.851101             -10.803723  \n",
       "0               -6.858046             -10.503491  \n",
       "0               -7.939698             -11.837107  \n",
       "0              -17.720899              -9.525702  \n",
       "\n",
       "[4 rows x 21 columns]"
      ]
     },
     "execution_count": 119,
     "metadata": {},
     "output_type": "execute_result"
    }
   ],
   "source": [
    "df.head()"
   ]
  },
  {
   "cell_type": "code",
   "execution_count": 120,
   "metadata": {},
   "outputs": [
    {
     "name": "stdout",
     "output_type": "stream",
     "text": [
      "DONE\n"
     ]
    }
   ],
   "source": [
    "print('DONE')"
   ]
  },
  {
   "cell_type": "code",
   "execution_count": 121,
   "metadata": {},
   "outputs": [
    {
     "data": {
      "text/html": [
       "<div>\n",
       "<style scoped>\n",
       "    .dataframe tbody tr th:only-of-type {\n",
       "        vertical-align: middle;\n",
       "    }\n",
       "\n",
       "    .dataframe tbody tr th {\n",
       "        vertical-align: top;\n",
       "    }\n",
       "\n",
       "    .dataframe thead th {\n",
       "        text-align: right;\n",
       "    }\n",
       "</style>\n",
       "<table border=\"1\" class=\"dataframe\">\n",
       "  <thead>\n",
       "    <tr style=\"text-align: right;\">\n",
       "      <th></th>\n",
       "      <th>ch4_mixratio_real</th>\n",
       "      <th>ch4_mixratio_inpainted</th>\n",
       "    </tr>\n",
       "  </thead>\n",
       "  <tbody>\n",
       "    <tr>\n",
       "      <th>0</th>\n",
       "      <td>-4.093484</td>\n",
       "      <td>-5.005802</td>\n",
       "    </tr>\n",
       "    <tr>\n",
       "      <th>0</th>\n",
       "      <td>-7.675284</td>\n",
       "      <td>-7.027951</td>\n",
       "    </tr>\n",
       "    <tr>\n",
       "      <th>0</th>\n",
       "      <td>-5.884384</td>\n",
       "      <td>-6.104376</td>\n",
       "    </tr>\n",
       "    <tr>\n",
       "      <th>0</th>\n",
       "      <td>-9.466183</td>\n",
       "      <td>-9.371205</td>\n",
       "    </tr>\n",
       "  </tbody>\n",
       "</table>\n",
       "</div>"
      ],
      "text/plain": [
       "   ch4_mixratio_real  ch4_mixratio_inpainted\n",
       "0          -4.093484               -5.005802\n",
       "0          -7.675284               -7.027951\n",
       "0          -5.884384               -6.104376\n",
       "0          -9.466183               -9.371205"
      ]
     },
     "execution_count": 121,
     "metadata": {},
     "output_type": "execute_result"
    }
   ],
   "source": [
    "param = params[2]\n",
    "df[[param+'_real', param+'_inpainted']]"
   ]
  },
  {
   "cell_type": "code",
   "execution_count": 122,
   "metadata": {},
   "outputs": [
    {
     "name": "stdout",
     "output_type": "stream",
     "text": [
      "Done\n"
     ]
    }
   ],
   "source": [
    "print('Done')"
   ]
  },
  {
   "cell_type": "code",
   "execution_count": null,
   "metadata": {},
   "outputs": [],
   "source": []
  },
  {
   "cell_type": "code",
   "execution_count": null,
   "metadata": {},
   "outputs": [],
   "source": []
  },
  {
   "cell_type": "code",
   "execution_count": null,
   "metadata": {},
   "outputs": [],
   "source": []
  }
 ],
 "metadata": {
  "kernelspec": {
   "display_name": "Python 3",
   "language": "python",
   "name": "python3"
  },
  "language_info": {
   "codemirror_mode": {
    "name": "ipython",
    "version": 3
   },
   "file_extension": ".py",
   "mimetype": "text/x-python",
   "name": "python",
   "nbconvert_exporter": "python",
   "pygments_lexer": "ipython3",
   "version": "3.6.8"
  }
 },
 "nbformat": 4,
 "nbformat_minor": 2
}
