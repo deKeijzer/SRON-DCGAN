{
 "cells": [
  {
   "cell_type": "code",
   "execution_count": 1,
   "metadata": {},
   "outputs": [],
   "source": [
    "# Imports\n",
    "import random\n",
    "import sys\n",
    "import numpy as np\n",
    "import time as t\n",
    "import matplotlib.pyplot as plt\n",
    "import seaborn as sns\n",
    "\n",
    "import torch.nn as nn\n",
    "import torch.optim as optim\n",
    "import torchvision.utils as vutils\n",
    "import matplotlib.animation as animation\n",
    "from IPython.display import HTML\n",
    "\n",
    "import model\n",
    "from keijzer_exogan import *\n",
    "\n",
    "# initialize random seeds\n",
    "manualSeed = 999\n",
    "random.seed(manualSeed)\n",
    "torch.manual_seed(manualSeed)\n",
    "\n",
    "\n",
    "\"\"\"\n",
    "Local variables\n",
    "\"\"\"\n",
    "workers = 0 # Number of workers for dataloader, 0 when to_vram is enabled\n",
    "batch_size = 1 # using one image ofcourse\n",
    "image_size = 32\n",
    "nz = 100 # size of latent vector\n",
    "n_iters = 1000 # number of iterations to do for inpainting\n",
    "torch.backends.cudnn.benchmark=True # Uses udnn auto-tuner to find the best algorithm to use for your hardware, speeds up training by almost 50%\n",
    "lr = 1e-1\n",
    "lr_G = 2e-4\n",
    "beta1 = 0.5 # Beta1 hyperparam for Adam optimizers\n",
    "selected_gpus = [0] # Number of GPUs available. Use 0 for CPU mode."
   ]
  },
  {
   "cell_type": "code",
   "execution_count": 2,
   "metadata": {},
   "outputs": [
    {
     "data": {
      "text/plain": [
       "1250000"
      ]
     },
     "execution_count": 2,
     "metadata": {},
     "output_type": "execute_result"
    }
   ],
   "source": [
    "path = '/datb/16011015/ExoGAN_data/selection//' #notice how you dont put the last folder in here...\n",
    "images = np.load(path+'last_chunks_25_percent_images.npy')\n",
    "\n",
    "len(images)"
   ]
  },
  {
   "cell_type": "code",
   "execution_count": 3,
   "metadata": {},
   "outputs": [
    {
     "name": "stdout",
     "output_type": "stream",
     "text": [
      "Batch size:  1\n",
      "Number of GPUs used:  1\n",
      "Number of images:  1\n"
     ]
    }
   ],
   "source": [
    "print('Batch size: ', batch_size)\n",
    "\n",
    "\n",
    "# Number of training epochs\n",
    "\n",
    "# Learning rate for optimizers\n",
    "ngpu = len(selected_gpus)\n",
    "print('Number of GPUs used: ', ngpu)\n",
    "\n",
    "\n",
    "\"\"\"\n",
    "Load data and prepare DataLoader\n",
    "\"\"\"\n",
    "shuffle = True\n",
    "\n",
    "if shuffle:\n",
    "    np.random.shuffle(images) # shuffles the images\n",
    "\n",
    "images = images[:2500] # should take ~ 2 hours\n",
    "#images = images[:int(len(images)*0.005)]\n",
    "print('Number of images: ', len(images))"
   ]
  },
  {
   "cell_type": "code",
   "execution_count": 4,
   "metadata": {},
   "outputs": [
    {
     "name": "stdout",
     "output_type": "stream",
     "text": [
      "Loading weights...\n",
      "done\n"
     ]
    }
   ],
   "source": [
    "dataset = numpy_dataset(data=images, to_vram=True) # to_vram pins it to all GPU's\n",
    "#dataset = numpy_dataset(data=images, to_vram=True, transform=transforms.Compose([transforms.Normalize((0.5, 0.5, 0.5), (0.5, 0.5, 0.5))])) # to_vram pins it to all GPU's\n",
    "\n",
    "# Create the dataloader\n",
    "dataloader = torch.utils.data.DataLoader(dataset, batch_size=batch_size,\n",
    "                                         shuffle=True, num_workers=workers, pin_memory=False)\n",
    "\n",
    "\"\"\"\n",
    "Load and setup models\n",
    "\"\"\"\n",
    "# Initialize cuda\n",
    "device = torch.device(\"cuda:\"+str(selected_gpus[0]) if (torch.cuda.is_available() and ngpu > 0) else \"cpu\")\n",
    "\n",
    "# Load models, set to evaluation mode since training is not needed (this also allows batchsize 1 to work with batchnorm2d layers)\n",
    "netG = model.Generator(ngpu).eval().to(device)\n",
    "netD = model.Discriminator(ngpu).eval().to(device)\n",
    "\n",
    "# Apply weights\n",
    "print('Loading weights...')\n",
    "try:\n",
    "    # Load saved weights\n",
    "    netG.load_state_dict(torch.load('netG_state_dict', map_location=device)) #net.module..load_... for parallel model , net.load_... for single gpu model\n",
    "    netD.load_state_dict(torch.load('netD_state_dict', map_location=device))\n",
    "except:\n",
    "    print('Could not load saved weights.')\n",
    "    sys.exit()\n",
    "\n",
    "# Handle multi-gpu if desired\n",
    "if (device.type == 'cuda') and (ngpu > 1):\n",
    "    netG = nn.DataParallel(netG, device_ids=selected_gpus, output_device=device)\n",
    "    netD = nn.DataParallel(netD, device_ids=selected_gpus, output_device=device)\n",
    "\n",
    "\n",
    "\"\"\"\n",
    "Define input training stuff (fancy this up)\n",
    "\"\"\"\n",
    "G = netG\n",
    "D = netD\n",
    "z = torch.randn(1, nz, 1, 1, requires_grad=True, device=device)\n",
    "\n",
    "lamb = 3e-1\n",
    "\n",
    "criteria = nn.BCELoss()\n",
    "\n",
    "# Setup Adam optimizers for both G and D\n",
    "optimizerD = optim.Adam(netD.parameters(), lr=lr, betas=(beta1, 0.999)) # should be sgd\n",
    "optimizerG = optim.Adam(netG.parameters(), lr=lr_G, betas=(beta1, 0.999))\n",
    "\n",
    "print('done')"
   ]
  },
  {
   "cell_type": "markdown",
   "metadata": {},
   "source": [
    "# Show a generated image"
   ]
  },
  {
   "cell_type": "code",
   "execution_count": 5,
   "metadata": {},
   "outputs": [
    {
     "data": {
      "text/plain": [
       "<matplotlib.image.AxesImage at 0x7fafbb15d9e8>"
      ]
     },
     "execution_count": 5,
     "metadata": {},
     "output_type": "execute_result"
    },
    {
     "data": {
      "image/png": "[encoded data removed]",
      "text/plain": [
       "<Figure size 432x288 with 1 Axes>"
      ]
     },
     "metadata": {
      "needs_background": "light"
     },
     "output_type": "display_data"
    }
   ],
   "source": [
    "z2 = torch.randn(1, nz, 1, 1, device=device)\n",
    "t = G(z2).detach().cpu()[0, 0, :, :]\n",
    "# TODO: why does this already look real?\n",
    "plt.imshow(t, cmap='gray') # plot the masked image "
   ]
  },
  {
   "cell_type": "markdown",
   "metadata": {},
   "source": [
    "# Inpainting\n",
    "The corrupted image $y$ is mapped to the closest $z$ in the latent representation space, this mapping is denoted as $\\hat{z}$.\n",
    "    \n",
    "$\\hat{z} = \\operatorname{arg\\,min}_z \\{ \\mathcal{L}_c(z |y, M) + \\mathcal{L}_p (z) \\}$\n",
    "\n",
    "where\n",
    "\n",
    "$\\mathcal{L}_c(z |y, M) = || M \\bigodot G(z) - M \\bigodot y||_1 = || M \\bigodot (G(z)-y) ||_1 $\n",
    "\n",
    "with $\\mathcal{L}_c$ being contextual loss and $M$ being a binary mask with the same size as $y$,\n",
    "\n",
    "$\\mathcal{L}_p (z) = \\lambda \\operatorname{log}(1-D(G(z)))$\n",
    "\n",
    "with $\\mathcal{L}_p$ being perceptual loss and $D$ being the discriminator.\n",
    "  \n",
    "Once $G(\\hat{z})$ is generated, the final solution $\\hat{x}$ is calculated as\n",
    "\n",
    "$\\hat{x} = \\operatorname{arg\\, min}_x ||\\nabla x - \\nabla G(\\hat{z}) ||^2_2$  \n",
    "\n",
    "(substitute $x_i = y_i$ for $M_i = 1$).\n",
    "\n",
    "-----\n",
    "\n",
    "$|| ... ||$ is done by `torch.norm()`.  \n",
    "$... \\bigodot ...$ is done by `torch.mul()`.  \n",
    "-----\n",
    "TODO: Implement $\\hat{x} = \\operatorname{arg\\, min}_x ||\\nabla x - \\nabla G(\\hat{z}) ||^2_2$    \n",
    "Currently $\\hat{x} = G(\\hat{z}) \\bigodot (1 -M)+y$"
   ]
  },
  {
   "cell_type": "code",
   "execution_count": 6,
   "metadata": {},
   "outputs": [],
   "source": [
    "# Lists to keep track of progress\n",
    "real_images = []\n",
    "masked_images= []\n",
    "inpainted_images = []\n",
    "final_inpainted_images = [] # last inpainted image for each input image"
   ]
  },
  {
   "cell_type": "code",
   "execution_count": 7,
   "metadata": {},
   "outputs": [
    {
     "name": "stdout",
     "output_type": "stream",
     "text": [
      " image [1/1] iteration :  999 , context_loss: 75.7013, perceptual_loss: -0.823186, total_loss: 75.454308"
     ]
    }
   ],
   "source": [
    "\"\"\"\n",
    "Inpainting\n",
    "\"\"\"\n",
    "for i, data in enumerate(dataloader, 0): # batches per epoch\n",
    "    real_cpu = data.to(device)\n",
    "    b_size = real_cpu.size(0) # this is one ofc, it's one image we're trying to inpaint\n",
    "\n",
    "    #print(\"data.shape: \", data.shape)\n",
    "    image = data.to(device) # select the image (Channel, Height, Width), this is the original unmasked input image\n",
    "    real_images.append(image)\n",
    "    #print(\"image.shape: \", image.shape)\n",
    "\n",
    "    \"\"\"Mask the images manually, for testing pruposes\"\"\"\n",
    "    mask = torch.ones(size=image.shape).to(device) # create mask with 1's in the shape of image\n",
    "    \n",
    "    #print(\"mask.shape\", mask.shape)\n",
    "\n",
    "    # use a random 'easy' mask\n",
    "    mask[:, :, :16, 25:] = 0\n",
    "    \n",
    "    # The noise doesn't matter for conceptual loss\n",
    "    mask[:, :, 19:, :] = 0\n",
    "\n",
    "    masked_image = torch.mul(image, mask).to(device) #image bigodot mask\n",
    "    masked_images.append(masked_image)\n",
    "    #print('masked image shape', masked_image.shape)\n",
    "    #plt.imshow(masked_image.detach().cpu()[0, 0, :, :], cmap='gray') # plot the masked image\n",
    "\n",
    "    opt = optim.Adam([z], lr=lr)\n",
    "\n",
    "    # what's v and m?\n",
    "    v = torch.tensor(0, dtype=torch.float32, device=device)\n",
    "    m = torch.tensor(0, dtype=torch.float32, device=device)\n",
    "\n",
    "\n",
    "    \"\"\"Start the inpainting process\"\"\"\n",
    "    for iteration in range(n_iters):\n",
    "        if z.grad is not None:\n",
    "            z.grad.data.zero_()\n",
    "\n",
    "        G.zero_grad()\n",
    "        D.zero_grad()\n",
    "\n",
    "\n",
    "        image_generated = G(z) # generated image G(z)\n",
    "        image_generated_masked = torch.mul(image_generated, mask) # G(z) bigodot M\n",
    "        image_generated_inpainted = torch.mul(image_generated, (1-mask))+masked_image\n",
    "        \n",
    "        if (iteration % 100 == 0):\n",
    "            inpainted_images.append(image_generated_inpainted)\n",
    "\n",
    "        #print(\"image_generated_inpainted.shape : \",image_generated_inpainted.shape)\n",
    "\n",
    "        t = image_generated_inpainted.detach().cpu()[0, 0, :, :]\n",
    "\n",
    "        # TODO: why does this already look real?\n",
    "        #plt.imshow(t, cmap='gray') # plot the masked image \n",
    "\n",
    "        \"\"\"Calculate losses\"\"\"\n",
    "        loss_context = torch.norm(image_generated_masked-masked_image, p=1) #what's p=1?\n",
    "        discriminator_output = netD(image_generated_inpainted)\n",
    "        #print(\"Discriminator output: \", discriminator_output)\n",
    "\n",
    "        labels = torch.full((b_size,), 1, device=device)\n",
    "        loss_perceptual = torch.log(1-discriminator_output)\n",
    "        \n",
    "        #print(loss_perceptual.data.cpu().numpy().flatten()[0])\n",
    "\n",
    "        total_loss = loss_context + lamb*loss_perceptual\n",
    "        \n",
    "        # grab the values from losses for printing\n",
    "        loss_perceptual = loss_perceptual.data.cpu().numpy().flatten()[0]\n",
    "        loss_context = loss_context.data.cpu().numpy().flatten()[0]\n",
    "\n",
    "\n",
    "\n",
    "        total_loss.backward()\n",
    "        opt.step()\n",
    "        \n",
    "        total_loss = total_loss.data.cpu().numpy().flatten()[0]\n",
    "        \n",
    "        print(\"\\r image [{}/{}] iteration : {:4} , context_loss: {:.4f}, perceptual_loss: {:4f}, total_loss: {:4f}\".format(i+1, len(images), iteration,loss_context,loss_perceptual, total_loss),end=\"\")\n",
    "    \n",
    "    final_inpainted_images.append(image_generated_inpainted.detach().cpu())"
   ]
  },
  {
   "cell_type": "code",
   "execution_count": 8,
   "metadata": {},
   "outputs": [
    {
     "name": "stdout",
     "output_type": "stream",
     "text": [
      "DONE\n"
     ]
    }
   ],
   "source": [
    "print('DONE')"
   ]
  },
  {
   "cell_type": "markdown",
   "metadata": {},
   "source": [
    "# Show results"
   ]
  },
  {
   "cell_type": "code",
   "execution_count": 9,
   "metadata": {},
   "outputs": [],
   "source": [
    "real = real_images[0].detach().cpu()[0, 0, :, :]\n",
    "real_masked = masked_images[0].detach().cpu()[0, 0, :, :]\n",
    "\n",
    "#first_generated =inpainted_images[1].detach().cpu()[0, 0, :, :]\n",
    "last_generated = inpainted_images[-1].detach().cpu()[0, 0, :, :]"
   ]
  },
  {
   "cell_type": "raw",
   "metadata": {},
   "source": [
    "plt.figure(figsize=(22,10))\n",
    "\n",
    "plt.subplot(1,3,1)\n",
    "plt.imshow(real, cmap='gray', vmin=-0.2, vmax=1.2)\n",
    "plt.title('Ground truth')\n",
    "\n",
    "plt.subplot(1,3,2)\n",
    "plt.imshow(real_masked, cmap='gray', vmin=-0.2, vmax=1.2)\n",
    "plt.title('Masked input')\n",
    "\n",
    "plt.subplot(1,3,3)\n",
    "plt.imshow(last_generated, cmap='gray', vmin=-0.2, vmax=1.2)\n",
    "plt.title('Inpainted')\n",
    "\n",
    "plt.tight_layout()\n",
    "\n",
    "#plt.savefig('plots/inpainting.png', dpi=1300)"
   ]
  },
  {
   "cell_type": "raw",
   "metadata": {},
   "source": [
    "difference = real - last_generated\n",
    "difference[19:, :] = 0 # remove the noise, it doesn't matter\n",
    "\n",
    "sns.heatmap(difference, cmap='gray')\n",
    "plt.title('Ground truth - Inpainted ')\n",
    "\n",
    "difference  = difference.cpu().detach().numpy().flatten()\n",
    "\n",
    "mean, sigma, min_, max_ = difference.mean().item(), difference.std(), difference.min(), difference.max()\n",
    "print('mean: %.4f \\n std: %.4f \\n min: %.4f \\n max: %.4f' % (mean, sigma, min_, max_))"
   ]
  },
  {
   "cell_type": "raw",
   "metadata": {},
   "source": [
    "import matplotlib\n",
    "matplotlib.rcParams['animation.embed_limit'] = 20**128\n",
    "\n",
    "#%%capture\n",
    "fig = plt.figure(figsize=(8,8))\n",
    "plt.axis(\"off\")\n",
    "ims = [[plt.imshow(i.detach().cpu()[0, 0, :, :], animated=True, cmap='gray')] for i in inpainted_images]\n",
    "ani = animation.ArtistAnimation(fig, ims, interval=500, repeat_delay=1000, blit=True)\n",
    "\n",
    "\n",
    "HTML(ani.to_jshtml())"
   ]
  },
  {
   "cell_type": "markdown",
   "metadata": {},
   "source": [
    "# Decoding ASPA\n",
    "Need to clean this up. Using dicts like this is not clean."
   ]
  },
  {
   "cell_type": "code",
   "execution_count": 10,
   "metadata": {},
   "outputs": [
    {
     "data": {
      "text/plain": [
       "(32, 32)"
      ]
     },
     "execution_count": 10,
     "metadata": {},
     "output_type": "execute_result"
    }
   ],
   "source": [
    "aspa_inpainted = last_generated.numpy()\n",
    "aspa_real = real.numpy()\n",
    "\n",
    "aspa_inpainted.shape"
   ]
  },
  {
   "cell_type": "code",
   "execution_count": 11,
   "metadata": {},
   "outputs": [],
   "source": [
    "# Initialize ExoGAN params with zero's\n",
    "inpainted_params = {\n",
    "    'planet_mass': 0,\n",
    "    'temp_profile': 0,\n",
    "    'ch4_mixratio': 0,\n",
    "    'planet_radius': 0,\n",
    "    'h2o_mixratio': 0,\n",
    "    'co2_mixratio': 0,\n",
    "    'co_mixratio': 0\n",
    "}\n",
    "\n",
    "real_params = inpainted_params.copy()\n",
    "params_errors = inpainted_params.copy()"
   ]
  },
  {
   "cell_type": "markdown",
   "metadata": {},
   "source": [
    "## Inverse scale functions"
   ]
  },
  {
   "cell_type": "code",
   "execution_count": 12,
   "metadata": {},
   "outputs": [],
   "source": [
    "def inverse_scale_param(X_scaled, X_min, X_max):\n",
    "    return (X_scaled / (X_max-X_min)) + X_min\n",
    "\n",
    "def inverse_scale_params(params):\n",
    "    \"\"\"\n",
    "    Inverse scales the params array. \n",
    "    Params must be in fixed order, same order as it is encoded with.\n",
    "    \"\"\"\n",
    "    params = params.copy()\n",
    "    min_values = [1.518400e+27, \n",
    "                  1.000000e+03, \n",
    "                  -1.842068e+01, \n",
    "                  5.592880e+07, \n",
    "                  -1.842068e+01, \n",
    "                  -1.842068e+01, \n",
    "                  -1.842068e+01]\n",
    "    \n",
    "    max_values = [3.796000e+27, \n",
    "                  2.000000e+03, \n",
    "                  -2.302585e+00, \n",
    "                  1.048665e+08, \n",
    "                  -2.302585e+00, \n",
    "                  -2.302585e+00,\n",
    "                  -2.302585e+00]\n",
    "\n",
    "    params_inverse_scaled = []\n",
    "    for i in range(len(params)):\n",
    "        param = params[i]\n",
    "        min_= min_values[i]\n",
    "        max_ = max_values[i]\n",
    "\n",
    "        params_inverse_scaled.append(inverse_scale_param(param, min_, max_))\n",
    "    \n",
    "    return params_inverse_scaled"
   ]
  },
  {
   "cell_type": "markdown",
   "metadata": {},
   "source": [
    "## Inpainted params"
   ]
  },
  {
   "cell_type": "code",
   "execution_count": 13,
   "metadata": {},
   "outputs": [
    {
     "data": {
      "text/plain": [
       "[0.5951531,\n",
       " 0.5458924,\n",
       " 0.6838418,\n",
       " 0.5687896,\n",
       " 0.65419495,\n",
       " 0.64671576,\n",
       " 0.55804765]"
      ]
     },
     "execution_count": 13,
     "metadata": {},
     "output_type": "execute_result"
    }
   ],
   "source": [
    "inpainted_params_values = [aspa_inpainted[:16, 25+i:26+i] for i in range(len(inpainted_params))]\n",
    "inpainted_params_mean  = [i.mean() for i in inpainted_params_values]\n",
    "\n",
    "inpainted_params_mean"
   ]
  },
  {
   "cell_type": "code",
   "execution_count": 14,
   "metadata": {},
   "outputs": [
    {
     "data": {
      "text/plain": [
       "-18.384214708725214"
      ]
     },
     "execution_count": 14,
     "metadata": {},
     "output_type": "execute_result"
    }
   ],
   "source": [
    "y = (0.5876265 / (-2.306--1.842068e+01))+-1.842068e+01\n",
    "y"
   ]
  },
  {
   "cell_type": "code",
   "execution_count": 15,
   "metadata": {},
   "outputs": [
    {
     "data": {
      "text/plain": [
       "[1.5184e+27,\n",
       " 1000.0005458924174,\n",
       " -18.37825303673098,\n",
       " 55928800.000000015,\n",
       " -18.38009239017034,\n",
       " -18.380556414661225,\n",
       " -18.3860575677433]"
      ]
     },
     "execution_count": 15,
     "metadata": {},
     "output_type": "execute_result"
    }
   ],
   "source": [
    "inpainted_params_mean = inverse_scale_params(inpainted_params_mean)\n",
    "inpainted_params_mean"
   ]
  },
  {
   "cell_type": "markdown",
   "metadata": {},
   "source": [
    "### Convert mixtures from log back to regular scale"
   ]
  },
  {
   "cell_type": "code",
   "execution_count": 16,
   "metadata": {},
   "outputs": [],
   "source": [
    "for i,param in enumerate(inpainted_params):\n",
    "    if 'mixratio' in param:\n",
    "        inpainted_params[param] = 10**(inpainted_params_mean[i]) # convert log back to regular scale\n",
    "    else:\n",
    "        inpainted_params[param] = inpainted_params_mean[i]"
   ]
  },
  {
   "cell_type": "code",
   "execution_count": 17,
   "metadata": {},
   "outputs": [
    {
     "data": {
      "text/plain": [
       "{'planet_mass': 1.5184e+27,\n",
       " 'temp_profile': 1000.0005458924174,\n",
       " 'ch4_mixratio': 4.1854963088911457e-19,\n",
       " 'planet_radius': 55928800.000000015,\n",
       " 'h2o_mixratio': 4.1678070968212353e-19,\n",
       " 'co2_mixratio': 4.163356356973687e-19,\n",
       " 'co_mixratio': 4.1109522491831007e-19}"
      ]
     },
     "execution_count": 17,
     "metadata": {},
     "output_type": "execute_result"
    }
   ],
   "source": [
    "inpainted_params"
   ]
  },
  {
   "cell_type": "markdown",
   "metadata": {},
   "source": [
    "## Real params\n",
    "Ground truth params"
   ]
  },
  {
   "cell_type": "code",
   "execution_count": 18,
   "metadata": {},
   "outputs": [
    {
     "data": {
      "text/plain": [
       "[0.44444445, 0.0, 0.6666666, 0.5555556, 0.22222218, 1.0, 0.5555555]"
      ]
     },
     "execution_count": 18,
     "metadata": {},
     "output_type": "execute_result"
    }
   ],
   "source": [
    "real_params_values = [aspa_real[:16, 25+i:26+i] for i in range(len(real_params))]\n",
    "real_params_mean  = [i.mean() for i in real_params_values]\n",
    "real_params_mean"
   ]
  },
  {
   "cell_type": "code",
   "execution_count": 19,
   "metadata": {},
   "outputs": [
    {
     "data": {
      "text/plain": [
       "[1.5184e+27,\n",
       " 1000.0,\n",
       " -18.379318621565996,\n",
       " 55928800.000000015,\n",
       " -18.40689287570433,\n",
       " -18.358637928651,\n",
       " -18.38621218463833]"
      ]
     },
     "execution_count": 19,
     "metadata": {},
     "output_type": "execute_result"
    }
   ],
   "source": [
    "real_params_mean = inverse_scale_params(real_params_mean)\n",
    "real_params_mean"
   ]
  },
  {
   "cell_type": "markdown",
   "metadata": {},
   "source": [
    "### Convert mixtures from log back to regular scale"
   ]
  },
  {
   "cell_type": "code",
   "execution_count": 20,
   "metadata": {},
   "outputs": [],
   "source": [
    "for i,param in enumerate(real_params):\n",
    "    if 'mixratio' in param:\n",
    "        real_params[param] = 10**(real_params_mean[i]) # convert log back to regular scale\n",
    "    else:\n",
    "        real_params[param] = real_params_mean[i]"
   ]
  },
  {
   "cell_type": "code",
   "execution_count": 21,
   "metadata": {},
   "outputs": [
    {
     "data": {
      "text/plain": [
       "{'planet_mass': 1.5184e+27,\n",
       " 'temp_profile': 1000.0,\n",
       " 'ch4_mixratio': 4.175239364530919e-19,\n",
       " 'planet_radius': 55928800.000000015,\n",
       " 'h2o_mixratio': 3.9183851717680434e-19,\n",
       " 'co2_mixratio': 4.3788701947046465e-19,\n",
       " 'co_mixratio': 4.109488934391952e-19}"
      ]
     },
     "execution_count": 21,
     "metadata": {},
     "output_type": "execute_result"
    }
   ],
   "source": [
    "real_params"
   ]
  },
  {
   "cell_type": "markdown",
   "metadata": {},
   "source": [
    "## Percentage error\n",
    "\n",
    "% error = $\\frac{y-\\hat{y}}{\\hat{y}} \\cdot$ 100"
   ]
  },
  {
   "cell_type": "code",
   "execution_count": 22,
   "metadata": {},
   "outputs": [
    {
     "data": {
      "text/plain": [
       "{'planet_mass': 0.0,\n",
       " 'temp_profile': 5.458924174490676e-05,\n",
       " 'ch4_mixratio': 0.24566122956591785,\n",
       " 'planet_radius': 0.0,\n",
       " 'h2o_mixratio': 6.365426422350623,\n",
       " 'co2_mixratio': -4.921676783010823,\n",
       " 'co_mixratio': 0.03560819397523013}"
      ]
     },
     "execution_count": 22,
     "metadata": {},
     "output_type": "execute_result"
    }
   ],
   "source": [
    "percentage_errors = []\n",
    "for param in real_params:\n",
    "    y_hat = real_params[param]\n",
    "    y = inpainted_params[param]\n",
    "    \n",
    "    params_errors[param] = ((y - y_hat) / y_hat)*100\n",
    "\n",
    "params_errors"
   ]
  },
  {
   "cell_type": "markdown",
   "metadata": {},
   "source": [
    "## Print results"
   ]
  },
  {
   "cell_type": "code",
   "execution_count": 23,
   "metadata": {},
   "outputs": [
    {
     "name": "stdout",
     "output_type": "stream",
     "text": [
      "planet_mass \t Real value: 1.51840e+27 \t inpainted value: 1.51840e+27 \t perc. diff.: 0.0000000000000000000000000\n",
      "temp_profile \t Real value: 1.00000e+03 \t inpainted value: 1.00000e+03 \t perc. diff.: 0.0000545892417449067620240\n",
      "ch4_mixratio \t Real value: 4.17524e-19 \t inpainted value: 4.18550e-19 \t perc. diff.: 0.2456612295659178490936370\n",
      "planet_radius \t Real value: 5.59288e+07 \t inpainted value: 5.59288e+07 \t perc. diff.: 0.0000000000000000000000000\n",
      "h2o_mixratio \t Real value: 3.91839e-19 \t inpainted value: 4.16781e-19 \t perc. diff.: 6.3654264223506231701321667\n",
      "co2_mixratio \t Real value: 4.37887e-19 \t inpainted value: 4.16336e-19 \t perc. diff.: -4.9216767830108230086239018\n",
      "co_mixratio \t Real value: 4.10949e-19 \t inpainted value: 4.11095e-19 \t perc. diff.: 0.0356081939752301290802450\n"
     ]
    }
   ],
   "source": [
    "for param in inpainted_params:\n",
    "    real = real_params[param]\n",
    "    inpainted = inpainted_params[param]\n",
    "    error = params_errors[param]\n",
    "    \n",
    "    print('%s \\t Real value: %.5e \\t inpainted value: %.5e \\t perc. diff.: %.25f' % (param, real, inpainted, error))"
   ]
  },
  {
   "cell_type": "markdown",
   "metadata": {},
   "source": [
    "# Functionize this to output the MAPE of all inpainted images per metric "
   ]
  },
  {
   "cell_type": "code",
   "execution_count": 24,
   "metadata": {},
   "outputs": [],
   "source": [
    "#real_images = []\n",
    "#final_inpainted_images = []\n",
    "reals = []\n",
    "inpainteds = []\n",
    "errors = []\n",
    "for i in range(len(real_images)):\n",
    "    aspa_real = real_images[i].detach().cpu()[0, 0, :, :].numpy()\n",
    "    aspa_inpainted = final_inpainted_images[i].detach().cpu()[0, 0, :, :].numpy()\n",
    "\n",
    "    \"\"\"Decode inpainted aspa\"\"\"\n",
    "    inpainted_params_values = [aspa_inpainted[:16, 25+i:26+i] for i in range(len(inpainted_params))]\n",
    "    inpainted_params_mean  = [i.mean() for i in inpainted_params_values]\n",
    "    inpainted_params_mean = inverse_scale_params(inpainted_params_mean)\n",
    "    \n",
    "    for i,param in enumerate(inpainted_params):\n",
    "        if 'mixratio' in param:\n",
    "            inpainted_params[param] = 10**(inpainted_params_mean[i]) # convert log back to regular scale\n",
    "        else:\n",
    "            inpainted_params[param] = inpainted_params_mean[i]\n",
    "    \n",
    "    \"\"\"Decode real aspa\"\"\"\n",
    "    real_params_values = [aspa_real[:16, 25+i:26+i] for i in range(len(real_params))]\n",
    "    real_params_mean  = [i.mean() for i in real_params_values]\n",
    "    real_params_mean = inverse_scale_params(real_params_mean)\n",
    "    for i,param in enumerate(real_params):\n",
    "        if 'mixratio' in param:\n",
    "            real_params[param] = 10**(real_params_mean[i]) # convert log back to regular scale\n",
    "        else:\n",
    "            real_params[param] = real_params_mean[i]\n",
    "\n",
    "    \"\"\"Calculate percentage difference\"\"\"\n",
    "    params_errors = dict.fromkeys(params_errors, 0) # copy dicts' keys, set all values to zero\n",
    "    for param in real_params:\n",
    "        y_hat = real_params[param]\n",
    "        y = inpainted_params[param]\n",
    "        \n",
    "        params_errors[param] = ((y - y_hat) / y_hat)*100\n",
    "    \n",
    "    reals.append(real_params)\n",
    "    inpainteds.append(inpainted_params)\n",
    "    errors.append(params_errors)"
   ]
  },
  {
   "cell_type": "raw",
   "metadata": {},
   "source": [
    "for error in errors:\n",
    "    print(error)"
   ]
  },
  {
   "cell_type": "markdown",
   "metadata": {},
   "source": [
    "# Create one large df from all the dicts"
   ]
  },
  {
   "cell_type": "code",
   "execution_count": 25,
   "metadata": {},
   "outputs": [
    {
     "data": {
      "text/html": [
       "<div>\n",
       "<style scoped>\n",
       "    .dataframe tbody tr th:only-of-type {\n",
       "        vertical-align: middle;\n",
       "    }\n",
       "\n",
       "    .dataframe tbody tr th {\n",
       "        vertical-align: top;\n",
       "    }\n",
       "\n",
       "    .dataframe thead th {\n",
       "        text-align: right;\n",
       "    }\n",
       "</style>\n",
       "<table border=\"1\" class=\"dataframe\">\n",
       "  <thead>\n",
       "    <tr style=\"text-align: right;\">\n",
       "      <th></th>\n",
       "      <th>planet_mass_error</th>\n",
       "      <th>temp_profile_error</th>\n",
       "      <th>ch4_mixratio_error</th>\n",
       "      <th>planet_radius_error</th>\n",
       "      <th>h2o_mixratio_error</th>\n",
       "      <th>co2_mixratio_error</th>\n",
       "      <th>co_mixratio_error</th>\n",
       "      <th>planet_mass_real</th>\n",
       "      <th>temp_profile_real</th>\n",
       "      <th>ch4_mixratio_real</th>\n",
       "      <th>...</th>\n",
       "      <th>h2o_mixratio_real</th>\n",
       "      <th>co2_mixratio_real</th>\n",
       "      <th>co_mixratio_real</th>\n",
       "      <th>planet_mass_inpainted</th>\n",
       "      <th>temp_profile_inpainted</th>\n",
       "      <th>ch4_mixratio_inpainted</th>\n",
       "      <th>planet_radius_inpainted</th>\n",
       "      <th>h2o_mixratio_inpainted</th>\n",
       "      <th>co2_mixratio_inpainted</th>\n",
       "      <th>co_mixratio_inpainted</th>\n",
       "    </tr>\n",
       "  </thead>\n",
       "  <tbody>\n",
       "    <tr>\n",
       "      <th>0</th>\n",
       "      <td>0.0</td>\n",
       "      <td>0.000055</td>\n",
       "      <td>0.257164</td>\n",
       "      <td>0.0</td>\n",
       "      <td>6.379184</td>\n",
       "      <td>-4.909242</td>\n",
       "      <td>0.052874</td>\n",
       "      <td>1.518400e+27</td>\n",
       "      <td>1000.0</td>\n",
       "      <td>4.175239e-19</td>\n",
       "      <td>...</td>\n",
       "      <td>3.918385e-19</td>\n",
       "      <td>4.378870e-19</td>\n",
       "      <td>4.109489e-19</td>\n",
       "      <td>1.518400e+27</td>\n",
       "      <td>1000.000547</td>\n",
       "      <td>4.185977e-19</td>\n",
       "      <td>55928800.0</td>\n",
       "      <td>4.168346e-19</td>\n",
       "      <td>4.163901e-19</td>\n",
       "      <td>4.111662e-19</td>\n",
       "    </tr>\n",
       "  </tbody>\n",
       "</table>\n",
       "<p>1 rows × 21 columns</p>\n",
       "</div>"
      ],
      "text/plain": [
       "   planet_mass_error  temp_profile_error  ch4_mixratio_error  \\\n",
       "0                0.0            0.000055            0.257164   \n",
       "\n",
       "   planet_radius_error  h2o_mixratio_error  co2_mixratio_error  \\\n",
       "0                  0.0            6.379184           -4.909242   \n",
       "\n",
       "   co_mixratio_error  planet_mass_real  temp_profile_real  ch4_mixratio_real  \\\n",
       "0           0.052874      1.518400e+27             1000.0       4.175239e-19   \n",
       "\n",
       "           ...            h2o_mixratio_real  co2_mixratio_real  \\\n",
       "0          ...                 3.918385e-19       4.378870e-19   \n",
       "\n",
       "   co_mixratio_real  planet_mass_inpainted  temp_profile_inpainted  \\\n",
       "0      4.109489e-19           1.518400e+27             1000.000547   \n",
       "\n",
       "   ch4_mixratio_inpainted  planet_radius_inpainted  h2o_mixratio_inpainted  \\\n",
       "0            4.185977e-19               55928800.0            4.168346e-19   \n",
       "\n",
       "   co2_mixratio_inpainted  co_mixratio_inpainted  \n",
       "0            4.163901e-19           4.111662e-19  \n",
       "\n",
       "[1 rows x 21 columns]"
      ]
     },
     "execution_count": 25,
     "metadata": {},
     "output_type": "execute_result"
    }
   ],
   "source": [
    "dfs = []\n",
    "for i in range(len(errors)):\n",
    "    df1 = pd.DataFrame(errors[i], index=[0])\n",
    "    df1.columns = [i+'_error' for i in df1.columns]\n",
    "\n",
    "    df2 = pd.DataFrame(reals[i], index=[0])\n",
    "    df2.columns = [i+'_real' for i in df2.columns]\n",
    "\n",
    "    df3 = pd.DataFrame(inpainteds[i], index=[0])\n",
    "    df3.columns = [i+'_inpainted' for i in df3.columns]\n",
    "\n",
    "    df = pd.concat([df1, df2, df3], axis=1)\n",
    "    \n",
    "    dfs.append(df)\n",
    "\n",
    "df = pd.concat(dfs)\n",
    "df"
   ]
  },
  {
   "cell_type": "markdown",
   "metadata": {},
   "source": [
    "# Errors of all images"
   ]
  },
  {
   "cell_type": "code",
   "execution_count": 26,
   "metadata": {},
   "outputs": [
    {
     "data": {
      "text/html": [
       "<div>\n",
       "<style scoped>\n",
       "    .dataframe tbody tr th:only-of-type {\n",
       "        vertical-align: middle;\n",
       "    }\n",
       "\n",
       "    .dataframe tbody tr th {\n",
       "        vertical-align: top;\n",
       "    }\n",
       "\n",
       "    .dataframe thead th {\n",
       "        text-align: right;\n",
       "    }\n",
       "</style>\n",
       "<table border=\"1\" class=\"dataframe\">\n",
       "  <thead>\n",
       "    <tr style=\"text-align: right;\">\n",
       "      <th></th>\n",
       "      <th>planet_mass_error</th>\n",
       "      <th>temp_profile_error</th>\n",
       "      <th>ch4_mixratio_error</th>\n",
       "      <th>planet_radius_error</th>\n",
       "      <th>h2o_mixratio_error</th>\n",
       "      <th>co2_mixratio_error</th>\n",
       "      <th>co_mixratio_error</th>\n",
       "      <th>planet_mass_real</th>\n",
       "      <th>temp_profile_real</th>\n",
       "      <th>ch4_mixratio_real</th>\n",
       "      <th>...</th>\n",
       "      <th>h2o_mixratio_real</th>\n",
       "      <th>co2_mixratio_real</th>\n",
       "      <th>co_mixratio_real</th>\n",
       "      <th>planet_mass_inpainted</th>\n",
       "      <th>temp_profile_inpainted</th>\n",
       "      <th>ch4_mixratio_inpainted</th>\n",
       "      <th>planet_radius_inpainted</th>\n",
       "      <th>h2o_mixratio_inpainted</th>\n",
       "      <th>co2_mixratio_inpainted</th>\n",
       "      <th>co_mixratio_inpainted</th>\n",
       "    </tr>\n",
       "  </thead>\n",
       "  <tbody>\n",
       "    <tr>\n",
       "      <th>count</th>\n",
       "      <td>1.0</td>\n",
       "      <td>1.000000</td>\n",
       "      <td>1.000000</td>\n",
       "      <td>1.0</td>\n",
       "      <td>1.000000</td>\n",
       "      <td>1.000000</td>\n",
       "      <td>1.000000</td>\n",
       "      <td>1.000000e+00</td>\n",
       "      <td>1.0</td>\n",
       "      <td>1.000000e+00</td>\n",
       "      <td>...</td>\n",
       "      <td>1.000000e+00</td>\n",
       "      <td>1.000000e+00</td>\n",
       "      <td>1.000000e+00</td>\n",
       "      <td>1.000000e+00</td>\n",
       "      <td>1.000000</td>\n",
       "      <td>1.000000e+00</td>\n",
       "      <td>1.0</td>\n",
       "      <td>1.000000e+00</td>\n",
       "      <td>1.000000e+00</td>\n",
       "      <td>1.000000e+00</td>\n",
       "    </tr>\n",
       "    <tr>\n",
       "      <th>mean</th>\n",
       "      <td>0.0</td>\n",
       "      <td>0.000055</td>\n",
       "      <td>0.257164</td>\n",
       "      <td>0.0</td>\n",
       "      <td>6.379184</td>\n",
       "      <td>-4.909242</td>\n",
       "      <td>0.052874</td>\n",
       "      <td>1.518400e+27</td>\n",
       "      <td>1000.0</td>\n",
       "      <td>4.175239e-19</td>\n",
       "      <td>...</td>\n",
       "      <td>3.918385e-19</td>\n",
       "      <td>4.378870e-19</td>\n",
       "      <td>4.109489e-19</td>\n",
       "      <td>1.518400e+27</td>\n",
       "      <td>1000.000547</td>\n",
       "      <td>4.185977e-19</td>\n",
       "      <td>55928800.0</td>\n",
       "      <td>4.168346e-19</td>\n",
       "      <td>4.163901e-19</td>\n",
       "      <td>4.111662e-19</td>\n",
       "    </tr>\n",
       "    <tr>\n",
       "      <th>std</th>\n",
       "      <td>NaN</td>\n",
       "      <td>NaN</td>\n",
       "      <td>NaN</td>\n",
       "      <td>NaN</td>\n",
       "      <td>NaN</td>\n",
       "      <td>NaN</td>\n",
       "      <td>NaN</td>\n",
       "      <td>NaN</td>\n",
       "      <td>NaN</td>\n",
       "      <td>NaN</td>\n",
       "      <td>...</td>\n",
       "      <td>NaN</td>\n",
       "      <td>NaN</td>\n",
       "      <td>NaN</td>\n",
       "      <td>NaN</td>\n",
       "      <td>NaN</td>\n",
       "      <td>NaN</td>\n",
       "      <td>NaN</td>\n",
       "      <td>NaN</td>\n",
       "      <td>NaN</td>\n",
       "      <td>NaN</td>\n",
       "    </tr>\n",
       "    <tr>\n",
       "      <th>min</th>\n",
       "      <td>0.0</td>\n",
       "      <td>0.000055</td>\n",
       "      <td>0.257164</td>\n",
       "      <td>0.0</td>\n",
       "      <td>6.379184</td>\n",
       "      <td>-4.909242</td>\n",
       "      <td>0.052874</td>\n",
       "      <td>1.518400e+27</td>\n",
       "      <td>1000.0</td>\n",
       "      <td>4.175239e-19</td>\n",
       "      <td>...</td>\n",
       "      <td>3.918385e-19</td>\n",
       "      <td>4.378870e-19</td>\n",
       "      <td>4.109489e-19</td>\n",
       "      <td>1.518400e+27</td>\n",
       "      <td>1000.000547</td>\n",
       "      <td>4.185977e-19</td>\n",
       "      <td>55928800.0</td>\n",
       "      <td>4.168346e-19</td>\n",
       "      <td>4.163901e-19</td>\n",
       "      <td>4.111662e-19</td>\n",
       "    </tr>\n",
       "    <tr>\n",
       "      <th>25%</th>\n",
       "      <td>0.0</td>\n",
       "      <td>0.000055</td>\n",
       "      <td>0.257164</td>\n",
       "      <td>0.0</td>\n",
       "      <td>6.379184</td>\n",
       "      <td>-4.909242</td>\n",
       "      <td>0.052874</td>\n",
       "      <td>1.518400e+27</td>\n",
       "      <td>1000.0</td>\n",
       "      <td>4.175239e-19</td>\n",
       "      <td>...</td>\n",
       "      <td>3.918385e-19</td>\n",
       "      <td>4.378870e-19</td>\n",
       "      <td>4.109489e-19</td>\n",
       "      <td>1.518400e+27</td>\n",
       "      <td>1000.000547</td>\n",
       "      <td>4.185977e-19</td>\n",
       "      <td>55928800.0</td>\n",
       "      <td>4.168346e-19</td>\n",
       "      <td>4.163901e-19</td>\n",
       "      <td>4.111662e-19</td>\n",
       "    </tr>\n",
       "    <tr>\n",
       "      <th>50%</th>\n",
       "      <td>0.0</td>\n",
       "      <td>0.000055</td>\n",
       "      <td>0.257164</td>\n",
       "      <td>0.0</td>\n",
       "      <td>6.379184</td>\n",
       "      <td>-4.909242</td>\n",
       "      <td>0.052874</td>\n",
       "      <td>1.518400e+27</td>\n",
       "      <td>1000.0</td>\n",
       "      <td>4.175239e-19</td>\n",
       "      <td>...</td>\n",
       "      <td>3.918385e-19</td>\n",
       "      <td>4.378870e-19</td>\n",
       "      <td>4.109489e-19</td>\n",
       "      <td>1.518400e+27</td>\n",
       "      <td>1000.000547</td>\n",
       "      <td>4.185977e-19</td>\n",
       "      <td>55928800.0</td>\n",
       "      <td>4.168346e-19</td>\n",
       "      <td>4.163901e-19</td>\n",
       "      <td>4.111662e-19</td>\n",
       "    </tr>\n",
       "    <tr>\n",
       "      <th>75%</th>\n",
       "      <td>0.0</td>\n",
       "      <td>0.000055</td>\n",
       "      <td>0.257164</td>\n",
       "      <td>0.0</td>\n",
       "      <td>6.379184</td>\n",
       "      <td>-4.909242</td>\n",
       "      <td>0.052874</td>\n",
       "      <td>1.518400e+27</td>\n",
       "      <td>1000.0</td>\n",
       "      <td>4.175239e-19</td>\n",
       "      <td>...</td>\n",
       "      <td>3.918385e-19</td>\n",
       "      <td>4.378870e-19</td>\n",
       "      <td>4.109489e-19</td>\n",
       "      <td>1.518400e+27</td>\n",
       "      <td>1000.000547</td>\n",
       "      <td>4.185977e-19</td>\n",
       "      <td>55928800.0</td>\n",
       "      <td>4.168346e-19</td>\n",
       "      <td>4.163901e-19</td>\n",
       "      <td>4.111662e-19</td>\n",
       "    </tr>\n",
       "    <tr>\n",
       "      <th>max</th>\n",
       "      <td>0.0</td>\n",
       "      <td>0.000055</td>\n",
       "      <td>0.257164</td>\n",
       "      <td>0.0</td>\n",
       "      <td>6.379184</td>\n",
       "      <td>-4.909242</td>\n",
       "      <td>0.052874</td>\n",
       "      <td>1.518400e+27</td>\n",
       "      <td>1000.0</td>\n",
       "      <td>4.175239e-19</td>\n",
       "      <td>...</td>\n",
       "      <td>3.918385e-19</td>\n",
       "      <td>4.378870e-19</td>\n",
       "      <td>4.109489e-19</td>\n",
       "      <td>1.518400e+27</td>\n",
       "      <td>1000.000547</td>\n",
       "      <td>4.185977e-19</td>\n",
       "      <td>55928800.0</td>\n",
       "      <td>4.168346e-19</td>\n",
       "      <td>4.163901e-19</td>\n",
       "      <td>4.111662e-19</td>\n",
       "    </tr>\n",
       "  </tbody>\n",
       "</table>\n",
       "<p>8 rows × 21 columns</p>\n",
       "</div>"
      ],
      "text/plain": [
       "       planet_mass_error  temp_profile_error  ch4_mixratio_error  \\\n",
       "count                1.0            1.000000            1.000000   \n",
       "mean                 0.0            0.000055            0.257164   \n",
       "std                  NaN                 NaN                 NaN   \n",
       "min                  0.0            0.000055            0.257164   \n",
       "25%                  0.0            0.000055            0.257164   \n",
       "50%                  0.0            0.000055            0.257164   \n",
       "75%                  0.0            0.000055            0.257164   \n",
       "max                  0.0            0.000055            0.257164   \n",
       "\n",
       "       planet_radius_error  h2o_mixratio_error  co2_mixratio_error  \\\n",
       "count                  1.0            1.000000            1.000000   \n",
       "mean                   0.0            6.379184           -4.909242   \n",
       "std                    NaN                 NaN                 NaN   \n",
       "min                    0.0            6.379184           -4.909242   \n",
       "25%                    0.0            6.379184           -4.909242   \n",
       "50%                    0.0            6.379184           -4.909242   \n",
       "75%                    0.0            6.379184           -4.909242   \n",
       "max                    0.0            6.379184           -4.909242   \n",
       "\n",
       "       co_mixratio_error  planet_mass_real  temp_profile_real  \\\n",
       "count           1.000000      1.000000e+00                1.0   \n",
       "mean            0.052874      1.518400e+27             1000.0   \n",
       "std                  NaN               NaN                NaN   \n",
       "min             0.052874      1.518400e+27             1000.0   \n",
       "25%             0.052874      1.518400e+27             1000.0   \n",
       "50%             0.052874      1.518400e+27             1000.0   \n",
       "75%             0.052874      1.518400e+27             1000.0   \n",
       "max             0.052874      1.518400e+27             1000.0   \n",
       "\n",
       "       ch4_mixratio_real          ...            h2o_mixratio_real  \\\n",
       "count       1.000000e+00          ...                 1.000000e+00   \n",
       "mean        4.175239e-19          ...                 3.918385e-19   \n",
       "std                  NaN          ...                          NaN   \n",
       "min         4.175239e-19          ...                 3.918385e-19   \n",
       "25%         4.175239e-19          ...                 3.918385e-19   \n",
       "50%         4.175239e-19          ...                 3.918385e-19   \n",
       "75%         4.175239e-19          ...                 3.918385e-19   \n",
       "max         4.175239e-19          ...                 3.918385e-19   \n",
       "\n",
       "       co2_mixratio_real  co_mixratio_real  planet_mass_inpainted  \\\n",
       "count       1.000000e+00      1.000000e+00           1.000000e+00   \n",
       "mean        4.378870e-19      4.109489e-19           1.518400e+27   \n",
       "std                  NaN               NaN                    NaN   \n",
       "min         4.378870e-19      4.109489e-19           1.518400e+27   \n",
       "25%         4.378870e-19      4.109489e-19           1.518400e+27   \n",
       "50%         4.378870e-19      4.109489e-19           1.518400e+27   \n",
       "75%         4.378870e-19      4.109489e-19           1.518400e+27   \n",
       "max         4.378870e-19      4.109489e-19           1.518400e+27   \n",
       "\n",
       "       temp_profile_inpainted  ch4_mixratio_inpainted  \\\n",
       "count                1.000000            1.000000e+00   \n",
       "mean              1000.000547            4.185977e-19   \n",
       "std                       NaN                     NaN   \n",
       "min               1000.000547            4.185977e-19   \n",
       "25%               1000.000547            4.185977e-19   \n",
       "50%               1000.000547            4.185977e-19   \n",
       "75%               1000.000547            4.185977e-19   \n",
       "max               1000.000547            4.185977e-19   \n",
       "\n",
       "       planet_radius_inpainted  h2o_mixratio_inpainted  \\\n",
       "count                      1.0            1.000000e+00   \n",
       "mean                55928800.0            4.168346e-19   \n",
       "std                        NaN                     NaN   \n",
       "min                 55928800.0            4.168346e-19   \n",
       "25%                 55928800.0            4.168346e-19   \n",
       "50%                 55928800.0            4.168346e-19   \n",
       "75%                 55928800.0            4.168346e-19   \n",
       "max                 55928800.0            4.168346e-19   \n",
       "\n",
       "       co2_mixratio_inpainted  co_mixratio_inpainted  \n",
       "count            1.000000e+00           1.000000e+00  \n",
       "mean             4.163901e-19           4.111662e-19  \n",
       "std                       NaN                    NaN  \n",
       "min              4.163901e-19           4.111662e-19  \n",
       "25%              4.163901e-19           4.111662e-19  \n",
       "50%              4.163901e-19           4.111662e-19  \n",
       "75%              4.163901e-19           4.111662e-19  \n",
       "max              4.163901e-19           4.111662e-19  \n",
       "\n",
       "[8 rows x 21 columns]"
      ]
     },
     "execution_count": 26,
     "metadata": {},
     "output_type": "execute_result"
    }
   ],
   "source": [
    "df.describe()"
   ]
  },
  {
   "cell_type": "code",
   "execution_count": 27,
   "metadata": {},
   "outputs": [
    {
     "name": "stdout",
     "output_type": "stream",
     "text": [
      "ch4_mixratio\n"
     ]
    }
   ],
   "source": [
    "params = [param for param in real_params.keys()]\n",
    "param = params[2]\n",
    "print(param)"
   ]
  },
  {
   "cell_type": "code",
   "execution_count": 28,
   "metadata": {},
   "outputs": [
    {
     "data": {
      "text/plain": [
       "[<matplotlib.lines.Line2D at 0x7fafbabba438>]"
      ]
     },
     "execution_count": 28,
     "metadata": {},
     "output_type": "execute_result"
    },
    {
     "data": {
      "image/png": "[encoded data removed]",
      "text/plain": [
       "<Figure size 432x288 with 1 Axes>"
      ]
     },
     "metadata": {
      "needs_background": "light"
     },
     "output_type": "display_data"
    }
   ],
   "source": [
    "plt.plot(df[param+'_real'], df[param+'_inpainted'], '.')"
   ]
  },
  {
   "cell_type": "code",
   "execution_count": 29,
   "metadata": {},
   "outputs": [
    {
     "data": {
      "text/plain": [
       "(array([0., 0., 0., 0., 0., 1., 0., 0., 0., 0.]),\n",
       " array([-0.24283603, -0.14283603, -0.04283603,  0.05716397,  0.15716397,\n",
       "         0.25716397,  0.35716397,  0.45716397,  0.55716397,  0.65716397,\n",
       "         0.75716397]),\n",
       " <a list of 10 Patch objects>)"
      ]
     },
     "execution_count": 29,
     "metadata": {},
     "output_type": "execute_result"
    },
    {
     "data": {
      "image/png": "[encoded data removed]",
      "text/plain": [
       "<Figure size 432x288 with 1 Axes>"
      ]
     },
     "metadata": {
      "needs_background": "light"
     },
     "output_type": "display_data"
    }
   ],
   "source": [
    "plt.hist(df[param+'_error'])"
   ]
  },
  {
   "cell_type": "code",
   "execution_count": 34,
   "metadata": {},
   "outputs": [
    {
     "name": "stdout",
     "output_type": "stream",
     "text": [
      "saved\n"
     ]
    },
    {
     "data": {
      "image/png": "[encoded data removed]",
      "text/plain": [
       "<Figure size 1800x720 with 7 Axes>"
      ]
     },
     "metadata": {
      "needs_background": "light"
     },
     "output_type": "display_data"
    }
   ],
   "source": [
    "plt.figure(figsize=((25,10)))\n",
    "for i,param in enumerate(params):\n",
    "    plt.subplot(3,3,i+1)\n",
    "    plt.title(param+'_error')\n",
    "    plt.hist(df[param+'_error'], bins=20)\n",
    "    plt.grid()\n",
    "    plt.tight_layout()\n",
    "\n",
    "plt.savefig('plots//Validation error hist of '+str(len(images))+' images.png', dpi=1200)\n",
    "print('saved')"
   ]
  },
  {
   "cell_type": "raw",
   "metadata": {},
   "source": [
    "plt.figure(figsize=((25,10)))\n",
    "for i,param in enumerate(params):\n",
    "    x = df[param+'_error']\n",
    "    y = df[param+'_real']\n",
    "    \n",
    "    plt.subplot(3,3,i+1)\n",
    "\n",
    "    plt.plot(x, y, '.')\n",
    "    plt.tight_layout()"
   ]
  },
  {
   "cell_type": "code",
   "execution_count": 31,
   "metadata": {},
   "outputs": [],
   "source": [
    "df.to_csv('Validation error of '+str(len(images))+' images')"
   ]
  },
  {
   "cell_type": "code",
   "execution_count": 32,
   "metadata": {},
   "outputs": [
    {
     "data": {
      "text/html": [
       "<div>\n",
       "<style scoped>\n",
       "    .dataframe tbody tr th:only-of-type {\n",
       "        vertical-align: middle;\n",
       "    }\n",
       "\n",
       "    .dataframe tbody tr th {\n",
       "        vertical-align: top;\n",
       "    }\n",
       "\n",
       "    .dataframe thead th {\n",
       "        text-align: right;\n",
       "    }\n",
       "</style>\n",
       "<table border=\"1\" class=\"dataframe\">\n",
       "  <thead>\n",
       "    <tr style=\"text-align: right;\">\n",
       "      <th></th>\n",
       "      <th>planet_mass_error</th>\n",
       "      <th>temp_profile_error</th>\n",
       "      <th>ch4_mixratio_error</th>\n",
       "      <th>planet_radius_error</th>\n",
       "      <th>h2o_mixratio_error</th>\n",
       "      <th>co2_mixratio_error</th>\n",
       "      <th>co_mixratio_error</th>\n",
       "      <th>planet_mass_real</th>\n",
       "      <th>temp_profile_real</th>\n",
       "      <th>ch4_mixratio_real</th>\n",
       "      <th>...</th>\n",
       "      <th>h2o_mixratio_real</th>\n",
       "      <th>co2_mixratio_real</th>\n",
       "      <th>co_mixratio_real</th>\n",
       "      <th>planet_mass_inpainted</th>\n",
       "      <th>temp_profile_inpainted</th>\n",
       "      <th>ch4_mixratio_inpainted</th>\n",
       "      <th>planet_radius_inpainted</th>\n",
       "      <th>h2o_mixratio_inpainted</th>\n",
       "      <th>co2_mixratio_inpainted</th>\n",
       "      <th>co_mixratio_inpainted</th>\n",
       "    </tr>\n",
       "  </thead>\n",
       "  <tbody>\n",
       "    <tr>\n",
       "      <th>0</th>\n",
       "      <td>0.0</td>\n",
       "      <td>0.000055</td>\n",
       "      <td>0.257164</td>\n",
       "      <td>0.0</td>\n",
       "      <td>6.379184</td>\n",
       "      <td>-4.909242</td>\n",
       "      <td>0.052874</td>\n",
       "      <td>1.518400e+27</td>\n",
       "      <td>1000.0</td>\n",
       "      <td>4.175239e-19</td>\n",
       "      <td>...</td>\n",
       "      <td>3.918385e-19</td>\n",
       "      <td>4.378870e-19</td>\n",
       "      <td>4.109489e-19</td>\n",
       "      <td>1.518400e+27</td>\n",
       "      <td>1000.000547</td>\n",
       "      <td>4.185977e-19</td>\n",
       "      <td>55928800.0</td>\n",
       "      <td>4.168346e-19</td>\n",
       "      <td>4.163901e-19</td>\n",
       "      <td>4.111662e-19</td>\n",
       "    </tr>\n",
       "  </tbody>\n",
       "</table>\n",
       "<p>1 rows × 21 columns</p>\n",
       "</div>"
      ],
      "text/plain": [
       "   planet_mass_error  temp_profile_error  ch4_mixratio_error  \\\n",
       "0                0.0            0.000055            0.257164   \n",
       "\n",
       "   planet_radius_error  h2o_mixratio_error  co2_mixratio_error  \\\n",
       "0                  0.0            6.379184           -4.909242   \n",
       "\n",
       "   co_mixratio_error  planet_mass_real  temp_profile_real  ch4_mixratio_real  \\\n",
       "0           0.052874      1.518400e+27             1000.0       4.175239e-19   \n",
       "\n",
       "           ...            h2o_mixratio_real  co2_mixratio_real  \\\n",
       "0          ...                 3.918385e-19       4.378870e-19   \n",
       "\n",
       "   co_mixratio_real  planet_mass_inpainted  temp_profile_inpainted  \\\n",
       "0      4.109489e-19           1.518400e+27             1000.000547   \n",
       "\n",
       "   ch4_mixratio_inpainted  planet_radius_inpainted  h2o_mixratio_inpainted  \\\n",
       "0            4.185977e-19               55928800.0            4.168346e-19   \n",
       "\n",
       "   co2_mixratio_inpainted  co_mixratio_inpainted  \n",
       "0            4.163901e-19           4.111662e-19  \n",
       "\n",
       "[1 rows x 21 columns]"
      ]
     },
     "execution_count": 32,
     "metadata": {},
     "output_type": "execute_result"
    }
   ],
   "source": [
    "df.head()"
   ]
  },
  {
   "cell_type": "code",
   "execution_count": 33,
   "metadata": {},
   "outputs": [
    {
     "name": "stdout",
     "output_type": "stream",
     "text": [
      "DONE\n"
     ]
    }
   ],
   "source": [
    "print('DONE')"
   ]
  },
  {
   "cell_type": "code",
   "execution_count": null,
   "metadata": {},
   "outputs": [],
   "source": []
  }
 ],
 "metadata": {
  "kernelspec": {
   "display_name": "Python 3",
   "language": "python",
   "name": "python3"
  },
  "language_info": {
   "codemirror_mode": {
    "name": "ipython",
    "version": 3
   },
   "file_extension": ".py",
   "mimetype": "text/x-python",
   "name": "python",
   "nbconvert_exporter": "python",
   "pygments_lexer": "ipython3",
   "version": "3.6.8"
  }
 },
 "nbformat": 4,
 "nbformat_minor": 2
}
