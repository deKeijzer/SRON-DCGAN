{
 "cells": [
  {
   "cell_type": "code",
   "execution_count": 1,
   "metadata": {},
   "outputs": [],
   "source": [
    "# Imports\n",
    "import random\n",
    "import sys\n",
    "import numpy as np\n",
    "import time\n",
    "import matplotlib.pyplot as plt\n",
    "import seaborn as sns\n",
    "\n",
    "import torch.nn as nn\n",
    "import torch.optim as optim\n",
    "import torchvision.utils as vutils\n",
    "import matplotlib.animation as animation\n",
    "from IPython.display import HTML\n",
    "\n",
    "import model\n",
    "from keijzer_exogan import *\n",
    "\n",
    "# initialize random seeds\n",
    "manualSeed = 999\n",
    "random.seed(manualSeed)\n",
    "torch.manual_seed(manualSeed)\n",
    "\n",
    "%matplotlib inline\n",
    "%config InlineBackend.print_figure_kwargs={'facecolor' : \"w\"} # Make sure the axis background of plots is white, this is usefull for the black theme in JupyterLab\n",
    "# Initialize default seaborn layout\n",
    "sns.set_palette(sns.hls_palette(8, l=.3, s=.8))\n",
    "sns.set(style='ticks')\n",
    "\n",
    "\n",
    "\"\"\"\n",
    "Local variables\n",
    "\"\"\"\n",
    "workers = 0 # Number of workers for dataloader, 0 when to_vram is enabled\n",
    "batch_size = 1 # using one image ofcourse\n",
    "image_size = 32\n",
    "nz = 100 # size of latent vector\n",
    "n_iters = 25*10**3 # number of iterations to do for inpainting\n",
    "torch.backends.cudnn.benchmark=True # Uses udnn auto-tuner to find the best algorithm to use for your hardware, speeds up training by almost 50%\n",
    "\n",
    "lr = 1e-2\n",
    "lamb1 = 1e2 #1e4\n",
    "lamb2 = 1 # 1 , total_loss = lamb1*loss_context + lamb2*loss_perceptual\n",
    "\n",
    "lr_G = 2e-4\n",
    "beta1 = 0.5 # Beta1 hyperparam for Adam optimizers\n",
    "selected_gpus = [3] # Number of GPUs available. Use 0 for CPU mode."
   ]
  },
  {
   "cell_type": "code",
   "execution_count": 2,
   "metadata": {},
   "outputs": [
    {
     "data": {
      "text/plain": [
       "4"
      ]
     },
     "execution_count": 2,
     "metadata": {},
     "output_type": "execute_result"
    }
   ],
   "source": [
    "path = '/datb/16011015/ExoGAN_data/selection//' #notice how you dont put the last folder in here...\n",
    "\n",
    "images = np.load(path+'last_chunks_25_percent_images.npy').astype('float32')\n",
    "images = images[:4] # select first ... images\n",
    "\n",
    "len(images)"
   ]
  },
  {
   "cell_type": "code",
   "execution_count": 3,
   "metadata": {},
   "outputs": [
    {
     "name": "stdout",
     "output_type": "stream",
     "text": [
      "Batch size:  1\n",
      "Number of GPUs used:  1\n",
      "Number of images:  4\n"
     ]
    }
   ],
   "source": [
    "print('Batch size: ', batch_size)\n",
    "\n",
    "\n",
    "# Number of training epochs\n",
    "\n",
    "# Learning rate for optimizers\n",
    "ngpu = len(selected_gpus)\n",
    "print('Number of GPUs used: ', ngpu)\n",
    "\n",
    "\n",
    "\"\"\"\n",
    "Load data and prepare DataLoader\n",
    "\"\"\"\n",
    "shuffle = True\n",
    "\n",
    "if shuffle:\n",
    "    np.random.shuffle(images) # shuffles the images\n",
    "\n",
    "images = images[:25] # 1200 should take ~ 1 hour\n",
    "#images = images[:int(len(images)*0.005)]\n",
    "print('Number of images: ', len(images))"
   ]
  },
  {
   "cell_type": "code",
   "execution_count": 4,
   "metadata": {},
   "outputs": [
    {
     "name": "stdout",
     "output_type": "stream",
     "text": [
      "Loading weights...\n",
      "done\n"
     ]
    }
   ],
   "source": [
    "dataset = numpy_dataset(data=images, to_vram=True) # to_vram pins it to all GPU's\n",
    "#dataset = numpy_dataset(data=images, to_vram=True, transform=transforms.Compose([transforms.Normalize((0.5, 0.5, 0.5), (0.5, 0.5, 0.5))])) # to_vram pins it to all GPU's\n",
    "\n",
    "# Create the dataloader\n",
    "dataloader = torch.utils.data.DataLoader(dataset, batch_size=batch_size,\n",
    "                                         shuffle=True, num_workers=workers, pin_memory=False)\n",
    "\n",
    "\"\"\"\n",
    "Load and setup models\n",
    "\"\"\"\n",
    "# Initialize cuda\n",
    "device = torch.device(\"cuda:\"+str(selected_gpus[0]) if (torch.cuda.is_available() and ngpu > 0) else \"cpu\")\n",
    "\n",
    "# Load models, set to evaluation mode since training is not needed (this also allows batchsize 1 to work with batchnorm2d layers)\n",
    "netG = model.Generator(ngpu).eval().to(device)\n",
    "netD = model.Discriminator(ngpu).eval().to(device)\n",
    "\n",
    "# Apply weights\n",
    "print('Loading weights...')\n",
    "try:\n",
    "    # Load saved weights\n",
    "    netG.load_state_dict(torch.load('gan_data//weights//netG_state_dict0_v2_test', map_location=device)) #net.module..load_... for parallel model , net.load_... for single gpu model\n",
    "    netD.load_state_dict(torch.load('gan_data//weights//netD_state_dict0_v2_test', map_location=device))\n",
    "except:\n",
    "    print('Could not load saved weights.')\n",
    "    sys.exit()\n",
    "\n",
    "\n",
    "\n",
    "\n",
    "\n",
    "\"\"\"\n",
    "Define input training stuff (fancy this up)\n",
    "\"\"\"\n",
    "G = netG\n",
    "D = netD\n",
    "z = torch.randn(1, nz, 1, 1, requires_grad=True, device=device)\n",
    "\n",
    "# Handle multi-gpu if desired\n",
    "if (device.type == 'cuda') and (ngpu > 1):\n",
    "    G = nn.DataParallel(G, device_ids=selected_gpus, output_device=device)\n",
    "    D = nn.DataParallel(D, device_ids=selected_gpus, output_device=device)\n",
    "    #z = nn.DataParallel(z, device_ids=selected_gpus, output_device=device)\n",
    "\n",
    "# Setup Adam optimizers for both G and D\n",
    "optimizerD = optim.Adam(netD.parameters(), lr=lr, betas=(beta1, 0.999)) # should be sgd\n",
    "optimizerG = optim.Adam(netG.parameters(), lr=lr_G, betas=(beta1, 0.999))\n",
    "\n",
    "print('done')"
   ]
  },
  {
   "cell_type": "markdown",
   "metadata": {},
   "source": [
    "# Show generated images"
   ]
  },
  {
   "cell_type": "code",
   "execution_count": 5,
   "metadata": {},
   "outputs": [
    {
     "data": {
      "image/png": "[encoded data removed]",
      "text/plain": [
       "<Figure size 720x720 with 9 Axes>"
      ]
     },
     "metadata": {
      "needs_background": "light"
     },
     "output_type": "display_data"
    }
   ],
   "source": [
    "from sklearn.preprocessing import MinMaxScaler\n",
    "\n",
    "z_tests = [torch.randn(1, nz, 1, 1, device=device) for _ in range(9)]\n",
    "\n",
    "plt.figure(figsize=(10,10))\n",
    "for i in range(9):\n",
    "    img = G(z_tests[i]).detach().cpu()[0, 0, :, :]\n",
    "    plt.subplot(3,3,i+1)\n",
    "    #scaler = MinMaxScaler((0, 1.2))\n",
    "    #img = scaler.fit_transform(img)\n",
    "    plt.imshow(img, cmap='gray', vmin=0, vmax=1.2)\n",
    "    #plt.imshow(img, cmap='gray')\n",
    "\n",
    "plt.tight_layout()"
   ]
  },
  {
   "cell_type": "code",
   "execution_count": 6,
   "metadata": {},
   "outputs": [
    {
     "data": {
      "text/plain": [
       "(tensor(-0.2062), tensor(1.2093), tensor(0.4673), tensor(0.2569))"
      ]
     },
     "execution_count": 6,
     "metadata": {},
     "output_type": "execute_result"
    }
   ],
   "source": [
    "img.min(), img.max(), img.mean(), img.std()"
   ]
  },
  {
   "cell_type": "markdown",
   "metadata": {},
   "source": [
    "## Make sure Z is different for each image"
   ]
  },
  {
   "cell_type": "code",
   "execution_count": 7,
   "metadata": {},
   "outputs": [
    {
     "data": {
      "image/png": "[encoded data removed]",
      "text/plain": [
       "<Figure size 720x720 with 9 Axes>"
      ]
     },
     "metadata": {
      "needs_background": "light"
     },
     "output_type": "display_data"
    }
   ],
   "source": [
    "plt.figure(figsize=(10,10))\n",
    "for i,z_t in enumerate(z_tests):\n",
    "    z_t = z_t.detach().cpu().numpy()\n",
    "    \n",
    "    plt.subplot(3,3,i+1)\n",
    "    \n",
    "    plt.hist(z_t.flatten())\n",
    "    plt.grid()\n",
    "    \n",
    "    plt.tight_layout()\n",
    "    #print(z_t[0].flatten())"
   ]
  },
  {
   "cell_type": "markdown",
   "metadata": {},
   "source": [
    "## Show first 9 selected images"
   ]
  },
  {
   "cell_type": "code",
   "execution_count": 8,
   "metadata": {},
   "outputs": [
    {
     "data": {
      "image/png": "[encoded data removed]",
      "text/plain": [
       "<Figure size 720x720 with 4 Axes>"
      ]
     },
     "metadata": {
      "needs_background": "light"
     },
     "output_type": "display_data"
    }
   ],
   "source": [
    "plt.figure(figsize=(10,10))\n",
    "for i in range(9):\n",
    "    try:\n",
    "        img = images[i]\n",
    "        plt.subplot(3,3,i+1)\n",
    "        plt.imshow(img[0, :, :], cmap='gray', vmin=0, vmax=1.2)\n",
    "    except:\n",
    "        pass\n",
    "\n",
    "plt.tight_layout()"
   ]
  },
  {
   "cell_type": "code",
   "execution_count": 9,
   "metadata": {},
   "outputs": [
    {
     "data": {
      "text/plain": [
       "(-1.1428572, 1.1063896, 0.35112596, 0.44157878)"
      ]
     },
     "execution_count": 9,
     "metadata": {},
     "output_type": "execute_result"
    }
   ],
   "source": [
    "img.min(), img.max(), img.mean(), img.std()"
   ]
  },
  {
   "cell_type": "markdown",
   "metadata": {},
   "source": [
    "# Visualizing the weights for debugging purposes"
   ]
  },
  {
   "cell_type": "code",
   "execution_count": 10,
   "metadata": {},
   "outputs": [
    {
     "name": "stdout",
     "output_type": "stream",
     "text": [
      "Layer: 0 \t n_weights: 512 \t std: 0.0998 \t mean: -0.0071\n",
      "Layer: 1 \t n_weights: 16384 \t std: 0.1828 \t mean: -0.0060\n",
      "Layer: 2 \t n_weights: 32768 \t std: 0.1906 \t mean: -0.0022\n",
      "Layer: 3 \t n_weights: 131072 \t std: 0.2048 \t mean: 0.0054\n",
      "Layer: 4 \t n_weights: 524288 \t std: 0.0847 \t mean: 0.0017\n",
      "Layer: 5 \t n_weights: 256 \t std: 0.0707 \t mean: -0.0239\n"
     ]
    },
    {
     "data": {
      "image/png": "[encoded data removed]",
      "text/plain": [
       "<Figure size 720x720 with 6 Axes>"
      ]
     },
     "metadata": {
      "needs_background": "light"
     },
     "output_type": "display_data"
    }
   ],
   "source": [
    "weights = [param.data.cpu().numpy().flatten() for param in netD.parameters()]\n",
    "\n",
    "plt.figure(figsize=(10,10))\n",
    "for i,layer_weights in enumerate(weights):\n",
    "    print('Layer: %s \\t n_weights: %s \\t std: %.4f \\t mean: %.4f' % (i, len(layer_weights), layer_weights.std(), layer_weights.mean()))\n",
    "    plt.subplot(3,2,i+1)\n",
    "    plt.title('netD layer %s weights' % i)\n",
    "    plt.hist(layer_weights, bins=100)\n",
    "    plt.grid()\n",
    "    plt.tight_layout()"
   ]
  },
  {
   "cell_type": "code",
   "execution_count": 11,
   "metadata": {},
   "outputs": [
    {
     "name": "stdout",
     "output_type": "stream",
     "text": [
      "Layer: 0 \t n_weights: 409600 \t std: 0.0685 \t mean: 0.0001\n",
      "Layer: 1 \t n_weights: 524288 \t std: 0.0766 \t mean: -0.0063\n",
      "Layer: 2 \t n_weights: 131072 \t std: 0.0841 \t mean: -0.0061\n",
      "Layer: 3 \t n_weights: 32768 \t std: 0.0739 \t mean: -0.0055\n",
      "Layer: 4 \t n_weights: 16384 \t std: 0.0647 \t mean: -0.0019\n",
      "Layer: 5 \t n_weights: 512 \t std: 0.0336 \t mean: 0.0026\n"
     ]
    },
    {
     "data": {
      "image/png": "[encoded data removed]",
      "text/plain": [
       "<Figure size 720x720 with 6 Axes>"
      ]
     },
     "metadata": {
      "needs_background": "light"
     },
     "output_type": "display_data"
    }
   ],
   "source": [
    "weights = [param.data.cpu().numpy().flatten() for param in netG.parameters()] # where param.data are the weights of the i-th layer\n",
    "\n",
    "plt.figure(figsize=(10,10))\n",
    "for i,layer_weights in enumerate(weights):\n",
    "    print('Layer: %s \\t n_weights: %s \\t std: %.4f \\t mean: %.4f' % (i, len(layer_weights), layer_weights.std(), layer_weights.mean()))\n",
    "    plt.subplot(3,2,i+1)\n",
    "    plt.title('netG layer %s weights' % i)\n",
    "    plt.hist(layer_weights, bins=100)\n",
    "    plt.grid()\n",
    "    plt.tight_layout()"
   ]
  },
  {
   "cell_type": "markdown",
   "metadata": {},
   "source": [
    "# Inpainting\n",
    "The corrupted image $y$ is mapped to the closest $z$ in the latent representation space, this mapping is denoted as $\\hat{z}$.\n",
    "    \n",
    "$\\hat{z} = \\operatorname{arg\\,min}_z \\{ \\mathcal{L}_c(z |y, M) + \\mathcal{L}_p (z) \\}$\n",
    "\n",
    "where\n",
    "\n",
    "$\\mathcal{L}_c(z |y, M) = || M \\bigodot G(z) - M \\bigodot y||_1 = || M \\bigodot (G(z)-y) ||_1 $\n",
    "\n",
    "with $\\mathcal{L}_c$ being contextual loss and $M$ being a binary mask with the same size as $y$,\n",
    "\n",
    "$\\mathcal{L}_p (z) = \\lambda \\operatorname{log}(1-D(G(z)))$\n",
    "\n",
    "with $\\mathcal{L}_p$ being perceptual loss and $D$ being the discriminator.\n",
    "  \n",
    "Once $G(\\hat{z})$ is generated, the final solution $\\hat{x}$ is calculated as\n",
    "\n",
    "$\\hat{x} = \\operatorname{arg\\, min}_x ||\\nabla x - \\nabla G(\\hat{z}) ||^2_2$  \n",
    "\n",
    "(substitute $x_i = y_i$ for $M_i = 1$).\n",
    "\n",
    "-----\n",
    "\n",
    "$|| ... ||$ is done by `torch.norm()`.  \n",
    "$... \\bigodot ...$ is done by `torch.mul()`.  \n",
    "-----\n",
    "TODO: Implement $\\hat{x} = \\operatorname{arg\\, min}_x ||\\nabla x - \\nabla G(\\hat{z}) ||^2_2$    \n",
    "Currently $\\hat{x} = G(\\hat{z}) \\bigodot (1 -M)+y$"
   ]
  },
  {
   "cell_type": "code",
   "execution_count": 12,
   "metadata": {},
   "outputs": [
    {
     "data": {
      "text/html": [
       "<div>\n",
       "<style scoped>\n",
       "    .dataframe tbody tr th:only-of-type {\n",
       "        vertical-align: middle;\n",
       "    }\n",
       "\n",
       "    .dataframe tbody tr th {\n",
       "        vertical-align: top;\n",
       "    }\n",
       "\n",
       "    .dataframe thead th {\n",
       "        text-align: right;\n",
       "    }\n",
       "</style>\n",
       "<table border=\"1\" class=\"dataframe\">\n",
       "  <thead>\n",
       "    <tr style=\"text-align: right;\">\n",
       "      <th></th>\n",
       "      <th>Unnamed: 0</th>\n",
       "      <th>x</th>\n",
       "    </tr>\n",
       "  </thead>\n",
       "  <tbody>\n",
       "    <tr>\n",
       "      <th>129</th>\n",
       "      <td>129</td>\n",
       "      <td>13.900046</td>\n",
       "    </tr>\n",
       "    <tr>\n",
       "      <th>130</th>\n",
       "      <td>130</td>\n",
       "      <td>13.762421</td>\n",
       "    </tr>\n",
       "    <tr>\n",
       "      <th>131</th>\n",
       "      <td>131</td>\n",
       "      <td>13.626160</td>\n",
       "    </tr>\n",
       "    <tr>\n",
       "      <th>132</th>\n",
       "      <td>132</td>\n",
       "      <td>13.491247</td>\n",
       "    </tr>\n",
       "    <tr>\n",
       "      <th>133</th>\n",
       "      <td>133</td>\n",
       "      <td>13.357671</td>\n",
       "    </tr>\n",
       "    <tr>\n",
       "      <th>134</th>\n",
       "      <td>134</td>\n",
       "      <td>13.225416</td>\n",
       "    </tr>\n",
       "    <tr>\n",
       "      <th>135</th>\n",
       "      <td>135</td>\n",
       "      <td>13.094472</td>\n",
       "    </tr>\n",
       "    <tr>\n",
       "      <th>136</th>\n",
       "      <td>136</td>\n",
       "      <td>12.964823</td>\n",
       "    </tr>\n",
       "    <tr>\n",
       "      <th>137</th>\n",
       "      <td>137</td>\n",
       "      <td>12.836459</td>\n",
       "    </tr>\n",
       "    <tr>\n",
       "      <th>138</th>\n",
       "      <td>138</td>\n",
       "      <td>12.709365</td>\n",
       "    </tr>\n",
       "    <tr>\n",
       "      <th>139</th>\n",
       "      <td>139</td>\n",
       "      <td>12.583530</td>\n",
       "    </tr>\n",
       "    <tr>\n",
       "      <th>140</th>\n",
       "      <td>140</td>\n",
       "      <td>12.458940</td>\n",
       "    </tr>\n",
       "    <tr>\n",
       "      <th>141</th>\n",
       "      <td>141</td>\n",
       "      <td>12.335585</td>\n",
       "    </tr>\n",
       "    <tr>\n",
       "      <th>142</th>\n",
       "      <td>142</td>\n",
       "      <td>12.213450</td>\n",
       "    </tr>\n",
       "    <tr>\n",
       "      <th>143</th>\n",
       "      <td>143</td>\n",
       "      <td>12.092525</td>\n",
       "    </tr>\n",
       "    <tr>\n",
       "      <th>144</th>\n",
       "      <td>144</td>\n",
       "      <td>11.972797</td>\n",
       "    </tr>\n",
       "    <tr>\n",
       "      <th>145</th>\n",
       "      <td>145</td>\n",
       "      <td>11.854254</td>\n",
       "    </tr>\n",
       "    <tr>\n",
       "      <th>146</th>\n",
       "      <td>146</td>\n",
       "      <td>11.736886</td>\n",
       "    </tr>\n",
       "    <tr>\n",
       "      <th>147</th>\n",
       "      <td>147</td>\n",
       "      <td>11.620679</td>\n",
       "    </tr>\n",
       "    <tr>\n",
       "      <th>148</th>\n",
       "      <td>148</td>\n",
       "      <td>11.505623</td>\n",
       "    </tr>\n",
       "    <tr>\n",
       "      <th>149</th>\n",
       "      <td>149</td>\n",
       "      <td>11.391705</td>\n",
       "    </tr>\n",
       "    <tr>\n",
       "      <th>150</th>\n",
       "      <td>150</td>\n",
       "      <td>11.278916</td>\n",
       "    </tr>\n",
       "    <tr>\n",
       "      <th>151</th>\n",
       "      <td>151</td>\n",
       "      <td>11.167244</td>\n",
       "    </tr>\n",
       "    <tr>\n",
       "      <th>152</th>\n",
       "      <td>152</td>\n",
       "      <td>11.056677</td>\n",
       "    </tr>\n",
       "    <tr>\n",
       "      <th>153</th>\n",
       "      <td>153</td>\n",
       "      <td>10.947205</td>\n",
       "    </tr>\n",
       "    <tr>\n",
       "      <th>154</th>\n",
       "      <td>154</td>\n",
       "      <td>10.838817</td>\n",
       "    </tr>\n",
       "    <tr>\n",
       "      <th>155</th>\n",
       "      <td>155</td>\n",
       "      <td>10.731502</td>\n",
       "    </tr>\n",
       "    <tr>\n",
       "      <th>156</th>\n",
       "      <td>156</td>\n",
       "      <td>10.625249</td>\n",
       "    </tr>\n",
       "    <tr>\n",
       "      <th>157</th>\n",
       "      <td>157</td>\n",
       "      <td>10.520049</td>\n",
       "    </tr>\n",
       "    <tr>\n",
       "      <th>158</th>\n",
       "      <td>158</td>\n",
       "      <td>10.415890</td>\n",
       "    </tr>\n",
       "    <tr>\n",
       "      <th>159</th>\n",
       "      <td>159</td>\n",
       "      <td>10.312762</td>\n",
       "    </tr>\n",
       "    <tr>\n",
       "      <th>160</th>\n",
       "      <td>160</td>\n",
       "      <td>10.210656</td>\n",
       "    </tr>\n",
       "    <tr>\n",
       "      <th>161</th>\n",
       "      <td>161</td>\n",
       "      <td>10.109560</td>\n",
       "    </tr>\n",
       "    <tr>\n",
       "      <th>162</th>\n",
       "      <td>162</td>\n",
       "      <td>10.009466</td>\n",
       "    </tr>\n",
       "  </tbody>\n",
       "</table>\n",
       "</div>"
      ],
      "text/plain": [
       "     Unnamed: 0          x\n",
       "129         129  13.900046\n",
       "130         130  13.762421\n",
       "131         131  13.626160\n",
       "132         132  13.491247\n",
       "133         133  13.357671\n",
       "134         134  13.225416\n",
       "135         135  13.094472\n",
       "136         136  12.964823\n",
       "137         137  12.836459\n",
       "138         138  12.709365\n",
       "139         139  12.583530\n",
       "140         140  12.458940\n",
       "141         141  12.335585\n",
       "142         142  12.213450\n",
       "143         143  12.092525\n",
       "144         144  11.972797\n",
       "145         145  11.854254\n",
       "146         146  11.736886\n",
       "147         147  11.620679\n",
       "148         148  11.505623\n",
       "149         149  11.391705\n",
       "150         150  11.278916\n",
       "151         151  11.167244\n",
       "152         152  11.056677\n",
       "153         153  10.947205\n",
       "154         154  10.838817\n",
       "155         155  10.731502\n",
       "156         156  10.625249\n",
       "157         157  10.520049\n",
       "158         158  10.415890\n",
       "159         159  10.312762\n",
       "160         160  10.210656\n",
       "161         161  10.109560\n",
       "162         162  10.009466"
      ]
     },
     "execution_count": 12,
     "metadata": {},
     "output_type": "execute_result"
    }
   ],
   "source": [
    "ind = pd.read_csv('wavelengths_and_indices.csv')  # where x is the wavelength\n",
    "\n",
    "ind[(ind.x > 10) & (ind.x <= 14)]"
   ]
  },
  {
   "cell_type": "code",
   "execution_count": 13,
   "metadata": {},
   "outputs": [],
   "source": [
    "def create_mask():\n",
    "    \n",
    "    mask = np.full([1,1,32,32], 1) # init array with 0.5's\n",
    "    mask = torch.from_numpy(mask).to(device)\n",
    "    \n",
    "    #mask = torch.ones([1, 1, 32, 32]).to(device) # create mask with 1's in the shape of image\n",
    "    \n",
    "    #print(\"mask.shape\", mask.shape)\n",
    "\n",
    "    # use a random 'easy' mask\n",
    "    mask[:, :, :16, 25:] = 0\n",
    "    \n",
    "    # The noise doesn't matter for conceptual loss\n",
    "    mask[:, :, 19:, :] = 0\n",
    "    \n",
    "    \"\"\"Weighted mask\"\"\"\n",
    "    \n",
    "    # Normalization factors\n",
    "    mask[:, :, 16:19, :] = 2\n",
    "    \n",
    "    mask = mask.float() # make sure dtype is float, torch was complaining during inpainting that this is a double\n",
    "    \n",
    "    return mask"
   ]
  },
  {
   "cell_type": "markdown",
   "metadata": {},
   "source": [
    "## Visualize the mask"
   ]
  },
  {
   "cell_type": "code",
   "execution_count": 14,
   "metadata": {},
   "outputs": [
    {
     "data": {
      "text/plain": [
       "<matplotlib.image.AxesImage at 0x7f4a341f1160>"
      ]
     },
     "execution_count": 14,
     "metadata": {},
     "output_type": "execute_result"
    },
    {
     "data": {
      "image/png": "[encoded data removed]",
      "text/plain": [
       "<Figure size 432x288 with 1 Axes>"
      ]
     },
     "metadata": {
      "needs_background": "light"
     },
     "output_type": "display_data"
    }
   ],
   "source": [
    "m = create_mask().cpu()[0, 0, :, :]\n",
    "plt.imshow(m, cmap='gray', vmin=0, vmax=1.2)"
   ]
  },
  {
   "cell_type": "code",
   "execution_count": 15,
   "metadata": {},
   "outputs": [],
   "source": [
    "t = m.cpu().numpy().flatten()\n",
    "\n",
    "for i in range(len(t)):\n",
    "    if np.isnan(t[i]):\n",
    "        print('nan')"
   ]
  },
  {
   "cell_type": "code",
   "execution_count": 16,
   "metadata": {},
   "outputs": [
    {
     "name": "stdout",
     "output_type": "stream",
     "text": [
      " image [4/4] iteration : 24950 , context_loss: 3.567, perceptual_loss: -0.001045, total_loss: 3.566166, min L: 3.565297, 284.000000, D(G(z)): 0.001045, ETA: 0h 48m"
     ]
    }
   ],
   "source": [
    "# Lists to keep track of progress\n",
    "real_images = []\n",
    "masked_images= []\n",
    "inpainted_images = []\n",
    "final_inpainted_images = [] # last inpainted image for each input image\n",
    "n_iteration = []\n",
    "\n",
    "MSELoss = nn.MSELoss()\n",
    "L1Loss = nn.L1Loss() # MAE\n",
    "SmoothL1Loss = nn.SmoothL1Loss()\n",
    "\n",
    "\"\"\"\n",
    "Inpainting\n",
    "\"\"\"\n",
    "for i, data in enumerate(dataloader, 0): # batches per epoch\n",
    "    real_cpu = data.to(device)\n",
    "    b_size = real_cpu.size(0) # this is one ofc, it's one image we're trying to inpaint\n",
    "\n",
    "    #print(\"data.shape: \", data.shape)\n",
    "    image = data.to(device) # select the image (Channel, Height, Width), this is the original unmasked input image\n",
    "    \n",
    "    real_images.append(image)\n",
    "    #print(\"image.shape: \", image.shape)\n",
    "\n",
    "    \"\"\"Mask the image\"\"\"\n",
    "    mask = create_mask()\n",
    "\n",
    "    masked_image = torch.mul(image, mask).to(device) #image bigodot mask\n",
    "    masked_images.append(masked_image)\n",
    "    #print('masked image shape', masked_image.shape)\n",
    "    #plt.imshow(masked_image.detach().cpu()[0, 0, :, :], cmap='gray') # plot the masked image\n",
    "\n",
    "    opt = optim.Adam([z], lr=lr)\n",
    "\n",
    "    # what's v and m?\n",
    "    v = torch.tensor(0, dtype=torch.float32, device=device)\n",
    "    m = torch.tensor(0, dtype=torch.float32, device=device)\n",
    "\n",
    "\n",
    "    \"\"\"Start the inpainting process\"\"\"\n",
    "    early_stopping_n_iters = 0\n",
    "    early_stopping_min_loss = 999999 # set to random high number to initialize\n",
    "    for iteration in range(n_iters):\n",
    "        t1 = time.time()\n",
    "        if z.grad is not None:\n",
    "            z.grad.data.zero_()\n",
    "\n",
    "        G.zero_grad()\n",
    "        D.zero_grad()\n",
    "\n",
    "\n",
    "        image_generated = G(z) # generated image G(z)\n",
    "        image_generated_masked = torch.mul(image_generated, mask) # G(z) bigodot M\n",
    "        image_generated_inpainted = torch.mul(image_generated, (1-mask))+masked_image\n",
    "        \n",
    "        if (iteration % 100 == 0):\n",
    "            inpainted_images.append(image_generated_inpainted)\n",
    "\n",
    "        #print(\"image_generated_inpainted.shape : \",image_generated_inpainted.shape)\n",
    "\n",
    "        t = image_generated_inpainted.detach().cpu()[0, 0, :, :]\n",
    "\n",
    "        # TODO: why does this already look real?\n",
    "        #plt.imshow(t, cmap='gray') # plot the masked image \n",
    "\n",
    "        \"\"\"Calculate losses\"\"\"\n",
    "        #loss_context = torch.norm(image_generated_masked-masked_image, p=1) #what's p=1?\n",
    "        loss_context = lamb1*MSELoss(image_generated_masked,masked_image)\n",
    "        #loss_context = L1Loss(image_generated_masked, masked_image)*10\n",
    "        #loss_context = SmoothL1Loss(image_generated_masked, masked_image)*10\n",
    "        \n",
    "        discriminator_output = netD(image_generated_inpainted) - 0.005 # -0.005 offset so loss_perceptual doesn't become 1 when D(G(z)) == 1.000000\n",
    "        #print(\"Discriminator output: \", discriminator_output)\n",
    "\n",
    "        labels = torch.full((b_size,), 1, device=device)\n",
    "        loss_perceptual = lamb2*torch.log(1-discriminator_output)\n",
    "        \n",
    "        #if loss_perceptual == -np.inf:\n",
    "        #    #print('loss perceptual == -np.inf()')\n",
    "        #    loss_perceptual = torch.tensor(-10, dtype=torch.float32, device=device)\n",
    "        \n",
    "        #print(loss_perceptual.data.cpu().numpy().flatten()[0])\n",
    "\n",
    "        total_loss = loss_context + loss_perceptual\n",
    "        #total_loss = loss_context + 10*discriminator_output\n",
    "        \n",
    "        # grab the values from losses for printing\n",
    "        loss_perceptual = loss_perceptual.data.cpu().numpy().flatten()[0]\n",
    "        #loss_perceptual = 0\n",
    "        loss_context = loss_context.data.cpu().numpy().flatten()[0]\n",
    "\n",
    "\n",
    "\n",
    "        total_loss.backward()\n",
    "        opt.step()\n",
    "        \n",
    "        total_loss = total_loss.data.cpu().numpy().flatten()[0]\n",
    "        \n",
    "        \"\"\"Early stopping\"\"\" # TODO: \n",
    "        if iteration > 0:\n",
    "            delta_loss = early_stopping_min_loss - total_loss\n",
    "            delta_iters = iteration - iter1\n",
    "            \n",
    "            if (delta_loss < 0.1) or (total_loss > early_stopping_min_loss):\n",
    "                early_stopping_n_iters += 1\n",
    "            else:\n",
    "                #print('set to zero')\n",
    "                early_stopping_n_iters = 0\n",
    "            \n",
    "            if early_stopping_n_iters > 1000:\n",
    "                n_iteration.append(iteration)\n",
    "                break\n",
    "            \n",
    "        loss1 = total_loss\n",
    "        iter1 = iteration\n",
    "        \n",
    "        if total_loss < early_stopping_min_loss:\n",
    "            early_stopping_min_loss = total_loss\n",
    "            best_inpained_image = image_generated_inpainted.detach().cpu()\n",
    "            early_stopping_n_iters = 0\n",
    "            #print('min loss: ', early_stopping_min_loss)\n",
    "        \n",
    "        t2 = time.time()\n",
    "        \n",
    "        \"\"\"Calculate ETA\"\"\"\n",
    "        t_per_iter = t2 - t1 # time per iteration in seconds\n",
    "        \n",
    "        eta = t_per_iter * (n_iters - iteration) + t_per_iter* (len(images)-i+1) * n_iters # time left to finish epoch/image + time left to finish all epochs/images in SECONDS\n",
    "        eta_h = (eta/ 60) // 60 # divisor integer\n",
    "        eta_m = eta % 60 # get remainer\n",
    "        \n",
    "        if (iteration % 50 == 0):\n",
    "            print(\"\\r image [{}/{}] iteration : {:4} , context_loss: {:.3f}, perceptual_loss: {:3f}, total_loss: {:3f}, min L: {:3f}, {:1f}, D(G(z)): {:3f}, ETA: {:.0f}h {:.0f}m\".format(i+1, \n",
    "            len(images), iteration, loss_context,loss_perceptual, total_loss,early_stopping_min_loss, early_stopping_n_iters, discriminator_output.data.cpu().numpy().flatten()[0], eta_h, eta_m),end=\"\")\n",
    "            \n",
    "\n",
    "            \n",
    "        \"\"\"NaN monitor\"\"\"\n",
    "        #if (loss_context or loss_perceptual == np.nan()) and iteration >64:\n",
    "        #    print(r'='*10 + '     NaN     '+ '='*10)\n",
    "        #    print(loss_context, loss_percept  ual)\n",
    "            #break\n",
    "        \n",
    "    final_inpainted_images.append(best_inpained_image.detach().cpu())"
   ]
  },
  {
   "cell_type": "code",
   "execution_count": 97,
   "metadata": {},
   "outputs": [
    {
     "data": {
      "text/plain": [
       "5"
      ]
     },
     "execution_count": 97,
     "metadata": {},
     "output_type": "execute_result"
    }
   ],
   "source": [
    "len(real_images)"
   ]
  },
  {
   "cell_type": "markdown",
   "metadata": {},
   "source": [
    "## Inverse transform ASPA to spectrum"
   ]
  },
  {
   "cell_type": "code",
   "execution_count": 98,
   "metadata": {},
   "outputs": [],
   "source": [
    "def inverse_scale(X_, X_min, X_max):\n",
    "    \"\"\"\n",
    "    X_ is scaled X\n",
    "    X is unscaled X_\n",
    "    \"\"\"\n",
    "    X = X_ * (X_max - X_min) + X_min\n",
    "    return X"
   ]
  },
  {
   "cell_type": "code",
   "execution_count": 99,
   "metadata": {},
   "outputs": [
    {
     "data": {
      "image/png": "[encoded data removed]",
      "text/plain": [
       "<Figure size 432x288 with 1 Axes>"
      ]
     },
     "metadata": {},
     "output_type": "display_data"
    }
   ],
   "source": [
    "i = 0\n",
    "aspa = real_images[i].detach().cpu().numpy()[0, 0, :, :]\n",
    "\n",
    "\n",
    "plt.imshow(aspa, cmap='gray', vmin=0, vmax=1.2)\n",
    "\n",
    "\n",
    "\n",
    "n_bins = 8 # amount of bins the spectrum got scaled in\n",
    "\"\"\"Image parts from the aspa, still encoded\"\"\"\n",
    "spectrum = aspa[:16, :25]\n",
    "mins_ = [aspa[16:17, i*4:i*4+4] for i in range(n_bins)]\n",
    "stds_ = [aspa[17:18, i*4:i*4+4] for i in range(n_bins)]\n",
    "maxs_ = [aspa[18:19, i*4:i*4+4] for i in range(n_bins)]\n",
    "\n",
    "\"\"\"Decode to arrays\"\"\"\n",
    "spectrum = spectrum.flatten()\n",
    "\n",
    "mins_ = [inverse_scale(mins_[i].mean(), 0.005, 0.03) for i in range(n_bins)]\n",
    "stds_ = [inverse_scale(stds_[i].mean(), 0.005, 0.03) for i in range(n_bins)]\n",
    "maxs_ = [inverse_scale(maxs_[i].mean(), 1e-7, 1e-4) for i in range(n_bins)]"
   ]
  },
  {
   "cell_type": "code",
   "execution_count": 100,
   "metadata": {},
   "outputs": [
    {
     "data": {
      "text/html": [
       "<div>\n",
       "<style scoped>\n",
       "    .dataframe tbody tr th:only-of-type {\n",
       "        vertical-align: middle;\n",
       "    }\n",
       "\n",
       "    .dataframe tbody tr th {\n",
       "        vertical-align: top;\n",
       "    }\n",
       "\n",
       "    .dataframe thead th {\n",
       "        text-align: right;\n",
       "    }\n",
       "</style>\n",
       "<table border=\"1\" class=\"dataframe\">\n",
       "  <thead>\n",
       "    <tr style=\"text-align: right;\">\n",
       "      <th></th>\n",
       "      <th>x</th>\n",
       "      <th>y</th>\n",
       "    </tr>\n",
       "  </thead>\n",
       "  <tbody>\n",
       "    <tr>\n",
       "      <th>115</th>\n",
       "      <td>15.977744</td>\n",
       "      <td>0.840537</td>\n",
       "    </tr>\n",
       "    <tr>\n",
       "      <th>116</th>\n",
       "      <td>15.819548</td>\n",
       "      <td>0.227340</td>\n",
       "    </tr>\n",
       "    <tr>\n",
       "      <th>117</th>\n",
       "      <td>15.662919</td>\n",
       "      <td>0.073600</td>\n",
       "    </tr>\n",
       "    <tr>\n",
       "      <th>118</th>\n",
       "      <td>15.507841</td>\n",
       "      <td>0.513641</td>\n",
       "    </tr>\n",
       "    <tr>\n",
       "      <th>119</th>\n",
       "      <td>15.354298</td>\n",
       "      <td>0.040275</td>\n",
       "    </tr>\n",
       "  </tbody>\n",
       "</table>\n",
       "</div>"
      ],
      "text/plain": [
       "             x         y\n",
       "115  15.977744  0.840537\n",
       "116  15.819548  0.227340\n",
       "117  15.662919  0.073600\n",
       "118  15.507841  0.513641\n",
       "119  15.354298  0.040275"
      ]
     },
     "execution_count": 100,
     "metadata": {},
     "output_type": "execute_result"
    }
   ],
   "source": [
    "df = pd.read_csv('wavelengths_and_indices.csv', header=None, skiprows=[0], usecols=[1]) # load wavelengths\n",
    "df.columns = ['x']\n",
    "df = df.loc[df['x'] <= 16] # select only wavelengths <= 16\n",
    "df['y'] = spectrum\n",
    "\n",
    "df.head()"
   ]
  },
  {
   "cell_type": "code",
   "execution_count": 101,
   "metadata": {},
   "outputs": [
    {
     "data": {
      "text/plain": [
       "[<matplotlib.lines.Line2D at 0x7f337c534908>]"
      ]
     },
     "execution_count": 101,
     "metadata": {},
     "output_type": "execute_result"
    },
    {
     "data": {
      "image/png": "[encoded data removed]",
      "text/plain": [
       "<Figure size 432x288 with 1 Axes>"
      ]
     },
     "metadata": {},
     "output_type": "display_data"
    }
   ],
   "source": [
    "plt.plot(df.x, df.y)"
   ]
  },
  {
   "cell_type": "code",
   "execution_count": 102,
   "metadata": {},
   "outputs": [
    {
     "data": {
      "image/png": "[encoded data removed]",
      "text/plain": [
       "<Figure size 432x288 with 1 Axes>"
      ]
     },
     "metadata": {},
     "output_type": "display_data"
    }
   ],
   "source": [
    "\"\"\"select spectrum bins\"\"\"\n",
    "bin1 = df[df.x <= 0.8]\n",
    "bin2 = df[(df.x > 0.8) & (df.x <= 1.3)] # select data between 2 and 4 micron\n",
    "bin3 = df[(df.x > 1.3) & (df.x <= 2)]\n",
    "bin4 = df[(df.x > 2) & (df.x <= 4)]\n",
    "bin5 = df[(df.x > 4) & (df.x <= 6)]\n",
    "bin6 = df[(df.x > 6) & (df.x <= 10)]\n",
    "bin7 = df[(df.x > 10) & (df.x <= 14)]\n",
    "bin8 = df[df.x > 14]\n",
    "\n",
    "bins = [bin8, bin7, bin6, bin5, bin4, bin3, bin2, bin1]\n",
    "for b in bins:\n",
    "    plt.plot(b['x'], b['y'])"
   ]
  },
  {
   "cell_type": "code",
   "execution_count": 103,
   "metadata": {},
   "outputs": [
    {
     "data": {
      "text/plain": [
       "[115    3.432808e+27\n",
       " 116    2.036190e+27\n",
       " 117    1.686032e+27\n",
       " 118    2.688268e+27\n",
       " 119    1.610132e+27\n",
       " 120    1.945022e+27\n",
       " 121    2.646964e+27\n",
       " 122    1.518400e+27\n",
       " 123    2.055430e+27\n",
       " 124    1.685227e+27\n",
       " 125    2.373270e+27\n",
       " 126    2.299343e+27\n",
       " 127    1.860513e+27\n",
       " 128    2.581712e+27\n",
       " Name: y, dtype: float32, 129    1270.506836\n",
       " 130    1563.544067\n",
       " 131    1002.315796\n",
       " 132    1402.164062\n",
       " 133    1297.524780\n",
       " 134    1349.521606\n",
       " 135    1471.812500\n",
       " 136    1580.198242\n",
       " 137    1473.637695\n",
       " 138    1528.864258\n",
       " 139    1438.411865\n",
       " 140    1576.617188\n",
       " 141    1321.363892\n",
       " 142    1288.318115\n",
       " 143    1653.836182\n",
       " 144    1565.949829\n",
       " 145    1734.247559\n",
       " 146    1482.867310\n",
       " 147    1400.489014\n",
       " 148    1608.907349\n",
       " 149    1576.253174\n",
       " 150    1700.863281\n",
       " 151    1810.035645\n",
       " 152    1536.552612\n",
       " 153    1538.886841\n",
       " 154    1338.309082\n",
       " 155    1332.304321\n",
       " 156    1395.888306\n",
       " 157    2000.000000\n",
       " 158    1321.559082\n",
       " 159    1461.255371\n",
       " 160    1433.833740\n",
       " 161    1413.542603\n",
       " 162    1084.469116\n",
       " Name: y, dtype: float32, 163    -8.270072\n",
       " 164   -10.379901\n",
       " 165    -9.887799\n",
       " 166   -12.051531\n",
       " 167   -12.339447\n",
       " 168   -10.254081\n",
       " 169   -12.143051\n",
       " 170   -14.434639\n",
       " 171   -15.137493\n",
       " 172    -8.685025\n",
       " 173    -9.381800\n",
       " 174   -14.548967\n",
       " 175   -14.305428\n",
       " 176   -13.714514\n",
       " 177   -16.065714\n",
       " 178   -13.093515\n",
       " 179   -10.390105\n",
       " 180   -17.709383\n",
       " 181   -10.683697\n",
       " 182   -17.387514\n",
       " 183   -10.293946\n",
       " 184   -13.125961\n",
       " 185   -11.875162\n",
       " 186   -16.192535\n",
       " 187    -9.083411\n",
       " 188   -16.016289\n",
       " 189   -13.011960\n",
       " 190   -15.838792\n",
       " 191    -9.951179\n",
       " 192   -14.911238\n",
       " 193   -13.510565\n",
       " 194   -16.260023\n",
       " 195    -9.980736\n",
       " 196   -13.983223\n",
       " 197   -14.210224\n",
       " 198   -12.583252\n",
       " 199   -10.895057\n",
       " 200   -14.542427\n",
       " 201   -13.117294\n",
       " 202   -11.529575\n",
       " 203   -14.508226\n",
       " 204   -15.101977\n",
       " 205   -13.285421\n",
       " 206   -12.290928\n",
       " 207   -17.816683\n",
       " 208   -10.565548\n",
       " 209   -15.061419\n",
       " 210   -11.966375\n",
       " 211   -12.661583\n",
       " 212   -17.655478\n",
       " 213   -14.020401\n",
       " Name: y, dtype: float32, 214     71885928.0\n",
       " 215     80325808.0\n",
       " 216     63208844.0\n",
       " 217     70830800.0\n",
       " 218     67743968.0\n",
       " 219     60690624.0\n",
       " 220     75989792.0\n",
       " 221     67735752.0\n",
       " 222     77033032.0\n",
       " 223     69234104.0\n",
       " 224     59491164.0\n",
       " 225     68822992.0\n",
       " 226     77078024.0\n",
       " 227     66590584.0\n",
       " 228     64671544.0\n",
       " 229     69116608.0\n",
       " 230     68432664.0\n",
       " 231     67589304.0\n",
       " 232     60046584.0\n",
       " 233     68654776.0\n",
       " 234     71317520.0\n",
       " 235     61834744.0\n",
       " 236     63030468.0\n",
       " 237     70126160.0\n",
       " 238     58235924.0\n",
       " 239     67627640.0\n",
       " 240     65140616.0\n",
       " 241     56326692.0\n",
       " 242     73079328.0\n",
       " 243     57675696.0\n",
       " 244     90178896.0\n",
       " 245    103787560.0\n",
       " 246     91310896.0\n",
       " 247    104866496.0\n",
       " 248     81951648.0\n",
       " 249     95845088.0\n",
       " 250     83759600.0\n",
       " 251     85480792.0\n",
       " 252     90089232.0\n",
       " 253     91068560.0\n",
       " 254     91096320.0\n",
       " Name: y, dtype: float32, 255    -7.291121\n",
       " 256   -13.349401\n",
       " 257   -15.897758\n",
       " 258   -13.870429\n",
       " 259   -13.246910\n",
       " 260   -12.062854\n",
       " 261    -8.066972\n",
       " 262   -14.221604\n",
       " 263   -14.763340\n",
       " 264   -18.420679\n",
       " 265   -14.788899\n",
       " 266   -12.831413\n",
       " 267   -14.536051\n",
       " 268   -12.649275\n",
       " 269   -16.082382\n",
       " 270   -11.644585\n",
       " 271    -9.827848\n",
       " 272    -9.421528\n",
       " 273    -5.846421\n",
       " 274    -3.338380\n",
       " 275    -2.516018\n",
       " 276    -2.980989\n",
       " 277   -13.310030\n",
       " 278   -18.420679\n",
       " 279   -18.114082\n",
       " 280   -17.520111\n",
       " 281   -16.443394\n",
       " 282   -16.129992\n",
       " 283   -15.015703\n",
       " 284   -14.531464\n",
       "          ...    \n",
       " 294    -7.206322\n",
       " 295    -6.665209\n",
       " 296    -6.538030\n",
       " 297    -6.244639\n",
       " 298    -6.261841\n",
       " 299    -5.686762\n",
       " 300    -4.958466\n",
       " 301    -3.497970\n",
       " 302    -2.302584\n",
       " 303    -2.936539\n",
       " 304    -6.276366\n",
       " 305    -6.201626\n",
       " 306    -4.919187\n",
       " 307    -4.103445\n",
       " 308    -3.928901\n",
       " 309    -4.391499\n",
       " 310    -5.354151\n",
       " 311    -6.659141\n",
       " 312    -8.144060\n",
       " 313    -9.481620\n",
       " 314   -10.270298\n",
       " 315   -10.390101\n",
       " 316   -10.775705\n",
       " 317   -11.652132\n",
       " 318   -11.101233\n",
       " 319   -11.096457\n",
       " 320   -10.991663\n",
       " 321   -10.527016\n",
       " 322   -11.690360\n",
       " 323   -12.558987\n",
       " Name: y, Length: 69, dtype: float32, 324   -12.531439\n",
       " 325   -12.603722\n",
       " 326   -12.419153\n",
       " 327   -12.273856\n",
       " 328   -12.260673\n",
       " 329    -4.127680\n",
       " 330    -5.029115\n",
       " 331    -2.302584\n",
       " 332    -4.420275\n",
       " 333    -6.152394\n",
       " 334    -6.001942\n",
       " 335    -6.050826\n",
       " 336    -4.757534\n",
       " 337    -5.453952\n",
       " 338    -6.210544\n",
       " 339    -6.888293\n",
       " 340    -7.755229\n",
       " 341    -7.958271\n",
       " 342    -8.889503\n",
       " 343    -9.027290\n",
       " 344    -9.589917\n",
       " 345   -10.495454\n",
       " 346   -10.575388\n",
       " 347   -11.858529\n",
       " 348   -12.962491\n",
       " 349   -13.488342\n",
       " 350   -14.517814\n",
       " 351   -15.038498\n",
       " 352   -16.301077\n",
       " 353   -17.097305\n",
       " 354   -16.937958\n",
       " 355   -18.420679\n",
       " 356   -18.378891\n",
       " 357   -18.128635\n",
       " 358   -18.101940\n",
       " 359   -17.722815\n",
       " 360   -17.600122\n",
       " 361   -17.952379\n",
       " 362   -17.798069\n",
       " 363   -17.813444\n",
       " 364   -17.845997\n",
       " 365   -16.993834\n",
       " 366   -16.542757\n",
       " 367   -15.782516\n",
       " Name: y, dtype: float32, 368   -14.826755\n",
       " 369   -13.570832\n",
       " 370   -14.888257\n",
       " 371   -14.458988\n",
       " 372   -13.956682\n",
       " 373   -13.340876\n",
       " 374   -12.575650\n",
       " 375   -11.869462\n",
       " 376   -11.008326\n",
       " 377   -10.076226\n",
       " 378    -8.981997\n",
       " 379    -8.078661\n",
       " 380    -7.128455\n",
       " 381    -6.403412\n",
       " 382    -6.263490\n",
       " 383    -6.151754\n",
       " 384    -5.750755\n",
       " 385    -6.051229\n",
       " 386    -5.680152\n",
       " 387    -2.302584\n",
       " 388    -3.512729\n",
       " 389    -6.582302\n",
       " 390    -5.908292\n",
       " 391    -5.144875\n",
       " 392    -4.599878\n",
       " 393    -4.766891\n",
       " 394    -5.476451\n",
       " 395    -6.539599\n",
       " 396    -8.136178\n",
       " 397   -10.185050\n",
       " 398   -11.571696\n",
       " 399   -12.347364\n",
       " 400   -12.517813\n",
       " 401   -12.492636\n",
       " 402   -13.265312\n",
       " 403   -13.300159\n",
       " 404   -13.244849\n",
       " 405   -13.703043\n",
       " 406   -13.601133\n",
       " 407   -13.878213\n",
       " 408   -13.731868\n",
       " 409   -13.886312\n",
       " 410   -13.791426\n",
       " 411   -13.047665\n",
       " 412   -12.848897\n",
       " 413   -11.984303\n",
       " 414   -11.884638\n",
       " 415   -11.776789\n",
       " Name: y, dtype: float32]"
      ]
     },
     "execution_count": 103,
     "metadata": {},
     "output_type": "execute_result"
    }
   ],
   "source": [
    "\"\"\"Inverse scale the bins\"\"\"\n",
    "# min max values for spectrum from ASPA v2 notebook\n",
    "min_values = [1.518400e+27, \n",
    "                  1.000000e+03, \n",
    "                  -1.842068e+01, \n",
    "                  5.592880e+07, \n",
    "                  -1.842068e+01, \n",
    "                  -1.842068e+01, \n",
    "                  -1.842068e+01]\n",
    "    \n",
    "max_values = [3.796000e+27, \n",
    "                  2.000000e+03, \n",
    "                  -2.302585e+00, \n",
    "                  1.048665e+08, \n",
    "                  -2.302585e+00, \n",
    "                  -2.302585e+00,\n",
    "                  -2.302585e+00]\n",
    "\n",
    "spectra_inverses = []\n",
    "for i in range(7):\n",
    "    bin_ = bins[i]\n",
    "    max_ = maxs_[i]\n",
    "    min_ = mins_[i]\n",
    "    \n",
    "    spectrum = bin_['y']\n",
    "    spectrum_inverse = inverse_scale(spectrum, min_values[i], max_values[i])\n",
    "    spectra_inverses.append(spectrum_inverse)\n",
    "\n",
    "spectra_inverses"
   ]
  },
  {
   "cell_type": "markdown",
   "metadata": {},
   "source": [
    "# Show results"
   ]
  },
  {
   "cell_type": "code",
   "execution_count": 104,
   "metadata": {},
   "outputs": [],
   "source": [
    "real = real_images[0].detach().cpu()[0, 0, :, :]\n",
    "real_masked = masked_images[0].detach().cpu()[0, 0, :, :]\n",
    "\n",
    "#first_generated =inpainted_images[1].detach().cpu()[0, 0, :, :]\n",
    "last_generated = inpainted_images[-1].detach().cpu()[0, 0, :, :]"
   ]
  },
  {
   "cell_type": "code",
   "execution_count": 105,
   "metadata": {},
   "outputs": [
    {
     "data": {
      "image/png": "[encoded data removed]",
      "text/plain": [
       "<Figure size 1584x720 with 3 Axes>"
      ]
     },
     "metadata": {},
     "output_type": "display_data"
    }
   ],
   "source": [
    "plt.figure(figsize=(22,10))\n",
    "\n",
    "plt.subplot(1,3,1)\n",
    "plt.imshow(real, cmap='gray', vmin=0, vmax=1.2)\n",
    "plt.title('Ground truth')\n",
    "\n",
    "plt.subplot(1,3,2)\n",
    "plt.imshow(real_masked, cmap='gray', vmin=0, vmax=1.2)\n",
    "plt.title('Masked input')\n",
    "\n",
    "plt.subplot(1,3,3)\n",
    "plt.imshow(last_generated, cmap='gray', vmin=0, vmax=1.2)\n",
    "plt.title('Inpainted')\n",
    "\n",
    "plt.tight_layout()\n",
    "\n",
    "#plt.savefig('plots/inpainting.png', dpi=1300)"
   ]
  },
  {
   "cell_type": "code",
   "execution_count": 106,
   "metadata": {},
   "outputs": [
    {
     "name": "stdout",
     "output_type": "stream",
     "text": [
      "mean: 0.0170 \n",
      " std: 0.4589 \n",
      " min: -1.7043 \n",
      " max: 0.9984\n"
     ]
    },
    {
     "data": {
      "image/png": "[encoded data removed]",
      "text/plain": [
       "<Figure size 432x288 with 2 Axes>"
      ]
     },
     "metadata": {},
     "output_type": "display_data"
    }
   ],
   "source": [
    "difference = real - last_generated\n",
    "difference[19:, :] = 0 # remove the noise, it doesn't matter\n",
    "\n",
    "#sns.heatmap(difference, cmap='gray', vmin=-2, vmax=2)\n",
    "sns.heatmap(difference, cmap='gray')\n",
    "plt.title('Ground truth - Inpainted ')\n",
    "\n",
    "difference  = difference.cpu().detach().numpy().flatten()\n",
    "\n",
    "mean, sigma, min_, max_ = difference.mean().item(), difference.std(), difference.min(), difference.max()\n",
    "print('mean: %.4f \\n std: %.4f \\n min: %.4f \\n max: %.4f' % (mean, sigma, min_, max_))"
   ]
  },
  {
   "cell_type": "raw",
   "metadata": {},
   "source": [
    "import matplotlib\n",
    "matplotlib.rcParams['animation.embed_limit'] = 20**128\n",
    "\n",
    "#%%capture\n",
    "fig = plt.figure(figsize=(8,8))\n",
    "plt.axis(\"off\")\n",
    "ims = [[plt.imshow(i.detach().cpu()[0, 0, :, :], animated=True, cmap='gray', vmin=0, vmax=1.2)] for i in inpainted_images]\n",
    "ani = animation.ArtistAnimation(fig, ims, interval=500, repeat_delay=1000, blit=True)\n",
    "\n",
    "\n",
    "HTML(ani.to_jshtml())"
   ]
  },
  {
   "cell_type": "code",
   "execution_count": null,
   "metadata": {},
   "outputs": [],
   "source": []
  },
  {
   "cell_type": "markdown",
   "metadata": {},
   "source": [
    "# Decoding ASPA\n",
    "Need to clean this up. Using dicts like this is not clean."
   ]
  },
  {
   "cell_type": "code",
   "execution_count": 107,
   "metadata": {},
   "outputs": [
    {
     "data": {
      "text/plain": [
       "(32, 32)"
      ]
     },
     "execution_count": 107,
     "metadata": {},
     "output_type": "execute_result"
    }
   ],
   "source": [
    "aspa_inpainted = last_generated.numpy()\n",
    "aspa_real = real.numpy()\n",
    "\n",
    "aspa_inpainted.shape"
   ]
  },
  {
   "cell_type": "code",
   "execution_count": 108,
   "metadata": {},
   "outputs": [],
   "source": [
    "# Initialize ExoGAN params with zero's\n",
    "inpainted_params = {\n",
    "    'planet_mass': 0,\n",
    "    'temp_profile': 0,\n",
    "    'ch4_mixratio': 0,\n",
    "    'planet_radius': 0,\n",
    "    'h2o_mixratio': 0,\n",
    "    'co2_mixratio': 0,\n",
    "    'co_mixratio': 0\n",
    "}\n",
    "\n",
    "real_params = inpainted_params.copy()\n",
    "params_errors = inpainted_params.copy()"
   ]
  },
  {
   "cell_type": "markdown",
   "metadata": {},
   "source": [
    "## Inverse scale functions"
   ]
  },
  {
   "cell_type": "code",
   "execution_count": 109,
   "metadata": {},
   "outputs": [],
   "source": [
    "def inverse_scale_param(X_scaled, X_min, X_max):\n",
    "    return (X_scaled * (X_max-X_min)) + X_min\n",
    "\n",
    "def inverse_scale_params(params):\n",
    "    \"\"\"\n",
    "    Inverse scales the params array. \n",
    "    Params must be in fixed order, same order as it is encoded with.\n",
    "    \"\"\"\n",
    "    params = params.copy()\n",
    "    min_values = [1.518400e+27, \n",
    "                  1.000000e+03, \n",
    "                  -1.842068e+01, \n",
    "                  5.592880e+07, \n",
    "                  -1.842068e+01, \n",
    "                  -1.842068e+01, \n",
    "                  -1.842068e+01]\n",
    "    \n",
    "    max_values = [3.796000e+27, \n",
    "                  2.000000e+03, \n",
    "                  -2.302585e+00, \n",
    "                  1.048665e+08, \n",
    "                  -2.302585e+00, \n",
    "                  -2.302585e+00,\n",
    "                  -2.302585e+00]\n",
    "\n",
    "    params_inverse_scaled = []\n",
    "    for i in range(len(params)):\n",
    "        param = params[i]\n",
    "        min_= min_values[i]\n",
    "        max_ = max_values[i]\n",
    "\n",
    "        params_inverse_scaled.append(inverse_scale_param(param, min_, max_))\n",
    "    \n",
    "    return params_inverse_scaled"
   ]
  },
  {
   "cell_type": "markdown",
   "metadata": {},
   "source": [
    "## Inpainted params"
   ]
  },
  {
   "cell_type": "code",
   "execution_count": 110,
   "metadata": {},
   "outputs": [
    {
     "data": {
      "text/plain": [
       "[0.050284225,\n",
       " 0.6122489,\n",
       " 0.31744623,\n",
       " 0.32393855,\n",
       " 0.42265162,\n",
       " 0.3475127,\n",
       " 0.62498444]"
      ]
     },
     "execution_count": 110,
     "metadata": {},
     "output_type": "execute_result"
    }
   ],
   "source": [
    "inpainted_params_values = [aspa_inpainted[:16, 25+i:26+i] for i in range(len(inpainted_params))]\n",
    "inpainted_params_mean  = [i.mean() for i in inpainted_params_values]\n",
    "\n",
    "inpainted_params_mean"
   ]
  },
  {
   "cell_type": "code",
   "execution_count": 111,
   "metadata": {},
   "outputs": [
    {
     "data": {
      "text/plain": [
       "-8.95126699298"
      ]
     },
     "execution_count": 111,
     "metadata": {},
     "output_type": "execute_result"
    }
   ],
   "source": [
    "y = (0.5876265 * (-2.306--1.842068e+01))+-1.842068e+01\n",
    "y"
   ]
  },
  {
   "cell_type": "code",
   "execution_count": 112,
   "metadata": {},
   "outputs": [
    {
     "data": {
      "text/plain": [
       "[1.6329273519843818e+27,\n",
       " 1612.2488975524902,\n",
       " -13.304051477777959,\n",
       " 71781607.50810504,\n",
       " -11.608341057581754,\n",
       " -12.819437413204163,\n",
       " -8.34712137117833]"
      ]
     },
     "execution_count": 112,
     "metadata": {},
     "output_type": "execute_result"
    }
   ],
   "source": [
    "inpainted_params_mean = inverse_scale_params(inpainted_params_mean)\n",
    "inpainted_params_mean"
   ]
  },
  {
   "cell_type": "markdown",
   "metadata": {},
   "source": [
    "### Convert mixtures from log back to regular scale"
   ]
  },
  {
   "cell_type": "code",
   "execution_count": 113,
   "metadata": {},
   "outputs": [],
   "source": [
    "for i,param in enumerate(inpainted_params):\n",
    "    if 'mixratio' in param:\n",
    "        inpainted_params[param] = (inpainted_params_mean[i]) # convert log back to regular scale\n",
    "    else:\n",
    "        inpainted_params[param] = inpainted_params_mean[i]"
   ]
  },
  {
   "cell_type": "code",
   "execution_count": 114,
   "metadata": {},
   "outputs": [
    {
     "data": {
      "text/plain": [
       "{'planet_mass': 1.6329273519843818e+27,\n",
       " 'temp_profile': 1612.2488975524902,\n",
       " 'ch4_mixratio': -13.304051477777959,\n",
       " 'planet_radius': 71781607.50810504,\n",
       " 'h2o_mixratio': -11.608341057581754,\n",
       " 'co2_mixratio': -12.819437413204163,\n",
       " 'co_mixratio': -8.34712137117833}"
      ]
     },
     "execution_count": 114,
     "metadata": {},
     "output_type": "execute_result"
    }
   ],
   "source": [
    "inpainted_params"
   ]
  },
  {
   "cell_type": "markdown",
   "metadata": {},
   "source": [
    "## Real params\n",
    "Ground truth params"
   ]
  },
  {
   "cell_type": "code",
   "execution_count": 115,
   "metadata": {},
   "outputs": [
    {
     "data": {
      "text/plain": [
       "[-0.6666667,\n",
       " -0.9997778,\n",
       " 1.1272651,\n",
       " -1.1428572,\n",
       " 1.1272651,\n",
       " 1.0065367,\n",
       " 1.1272651]"
      ]
     },
     "execution_count": 115,
     "metadata": {},
     "output_type": "execute_result"
    }
   ],
   "source": [
    "real_params_values = [aspa_real[:16, 25+i:26+i] for i in range(len(real_params))]\n",
    "real_params_mean  = [i.mean() for i in real_params_values]\n",
    "real_params_mean"
   ]
  },
  {
   "cell_type": "code",
   "execution_count": 116,
   "metadata": {},
   "outputs": [
    {
     "data": {
      "text/plain": [
       "[-4.525184634915599e+19,\n",
       " 0.22220611572265625,\n",
       " -0.2513140971499688,\n",
       " -2.5002121925354004,\n",
       " -0.2513140971499688,\n",
       " -2.197225490862131,\n",
       " -0.2513140971499688]"
      ]
     },
     "execution_count": 116,
     "metadata": {},
     "output_type": "execute_result"
    }
   ],
   "source": [
    "real_params_mean = inverse_scale_params(real_params_mean)\n",
    "real_params_mean"
   ]
  },
  {
   "cell_type": "markdown",
   "metadata": {},
   "source": [
    "### Convert mixtures from log back to regular scale"
   ]
  },
  {
   "cell_type": "code",
   "execution_count": 117,
   "metadata": {},
   "outputs": [],
   "source": [
    "for i,param in enumerate(real_params):\n",
    "    if 'mixratio' in param:\n",
    "        real_params[param] = (real_params_mean[i]) # convert log back to regular scale\n",
    "    else:\n",
    "        real_params[param] = real_params_mean[i]"
   ]
  },
  {
   "cell_type": "code",
   "execution_count": 118,
   "metadata": {},
   "outputs": [
    {
     "data": {
      "text/plain": [
       "{'planet_mass': -4.525184634915599e+19,\n",
       " 'temp_profile': 0.22220611572265625,\n",
       " 'ch4_mixratio': -0.2513140971499688,\n",
       " 'planet_radius': -2.5002121925354004,\n",
       " 'h2o_mixratio': -0.2513140971499688,\n",
       " 'co2_mixratio': -2.197225490862131,\n",
       " 'co_mixratio': -0.2513140971499688}"
      ]
     },
     "execution_count": 118,
     "metadata": {},
     "output_type": "execute_result"
    }
   ],
   "source": [
    "real_params"
   ]
  },
  {
   "cell_type": "markdown",
   "metadata": {},
   "source": [
    "## Percentage error\n",
    "\n",
    "% error = $\\frac{y-\\hat{y}}{\\hat{y}} \\cdot$ 100"
   ]
  },
  {
   "cell_type": "code",
   "execution_count": 119,
   "metadata": {},
   "outputs": [
    {
     "data": {
      "text/plain": [
       "{'planet_mass': -3608532090.904804,\n",
       " 'temp_profile': 725464.5922746782,\n",
       " 'ch4_mixratio': 5193.794350835369,\n",
       " 'planet_radius': -2871020716.666667,\n",
       " 'h2o_mixratio': 4519.056865184372,\n",
       " 'co2_mixratio': 483.43749726725446,\n",
       " 'co_mixratio': 3221.390031772584}"
      ]
     },
     "execution_count": 119,
     "metadata": {},
     "output_type": "execute_result"
    }
   ],
   "source": [
    "percentage_errors = []\n",
    "for param in real_params:\n",
    "    y_hat = real_params[param]\n",
    "    y = inpainted_params[param]\n",
    "    \n",
    "    params_errors[param] = ((y - y_hat) / y_hat)*100\n",
    "\n",
    "params_errors"
   ]
  },
  {
   "cell_type": "markdown",
   "metadata": {},
   "source": [
    "## Print results"
   ]
  },
  {
   "cell_type": "code",
   "execution_count": 120,
   "metadata": {},
   "outputs": [
    {
     "name": "stdout",
     "output_type": "stream",
     "text": [
      "planet_mass \t Real value: -4.52518e+19 \t inpainted value: 1.63293e+27 \t perc. diff.: -3608532090.9048042297363281250000000\n",
      "temp_profile \t Real value: 2.22206e-01 \t inpainted value: 1.61225e+03 \t perc. diff.: 725464.5922746781725436449050903\n",
      "ch4_mixratio \t Real value: -2.51314e-01 \t inpainted value: -1.33041e+01 \t perc. diff.: 5193.7943508353691868251189590\n",
      "planet_radius \t Real value: -2.50021e+00 \t inpainted value: 7.17816e+07 \t perc. diff.: -2871020716.6666669845581054687500000\n",
      "h2o_mixratio \t Real value: -2.51314e-01 \t inpainted value: -1.16083e+01 \t perc. diff.: 4519.0568651843723273486830294\n",
      "co2_mixratio \t Real value: -2.19723e+00 \t inpainted value: -1.28194e+01 \t perc. diff.: 483.4374972672544572560582310\n",
      "co_mixratio \t Real value: -2.51314e-01 \t inpainted value: -8.34712e+00 \t perc. diff.: 3221.3900317725838249316439033\n"
     ]
    }
   ],
   "source": [
    "for param in inpainted_params:\n",
    "    real = real_params[param]\n",
    "    inpainted = inpainted_params[param]\n",
    "    error = params_errors[param]\n",
    "    \n",
    "    print('%s \\t Real value: %.5e \\t inpainted value: %.5e \\t perc. diff.: %.25f' % (param, real, inpainted, error))"
   ]
  },
  {
   "cell_type": "markdown",
   "metadata": {},
   "source": [
    "# Functionize this to output the MAPE of all inpainted images per metric "
   ]
  },
  {
   "cell_type": "code",
   "execution_count": 121,
   "metadata": {},
   "outputs": [],
   "source": [
    "#real_images = []\n",
    "#final_inpainted_images = []\n",
    "\n",
    "reals = []\n",
    "inpainteds = []\n",
    "errors = []\n",
    "for i in range(len(real_images)-1):\n",
    "    aspa_real = real_images[i].detach().cpu()[0, 0, :, :].numpy() # size is 32,32 now\n",
    "    aspa_inpainted = final_inpainted_images[i].detach().cpu()[0, 0, :, :].numpy() # size is 32,32 now\n",
    "\n",
    "    \"\"\"Decode inpainted aspa\"\"\"\n",
    "    inpainted_params_values = [aspa_inpainted[:16, 25+j:26+j] for j in range(len(inpainted_params))]\n",
    "    inpainted_params_mean  = [k.mean() for k in inpainted_params_values]\n",
    "    inpainted_params_mean = inverse_scale_params(inpainted_params_mean)\n",
    "    \n",
    "    for a,param in enumerate(inpainted_params):\n",
    "        if 'mixratio' in param:\n",
    "            inpainted_params[param] = inpainted_params_mean[a] # convert log back to regular scale\n",
    "        else:\n",
    "            inpainted_params[param] = inpainted_params_mean[a]\n",
    "    \n",
    "    \"\"\"Decode real aspa\"\"\"\n",
    "    real_params_values = [aspa_real[:16, 25+b:26+b] for b in range(len(real_params))]\n",
    "    real_params_mean  = [c.mean() for c in real_params_values]\n",
    "    real_params_mean = inverse_scale_params(real_params_mean)\n",
    "    \n",
    "    for d,param in enumerate(real_params):\n",
    "        if 'mixratio' in param:\n",
    "            real_params[param] = real_params_mean[d] # convert log back to regular scale\n",
    "        else:\n",
    "            real_params[param] = real_params_mean[d]\n",
    "\n",
    "    \"\"\"Calculate percentage difference\"\"\"\n",
    "    params_errors = dict.fromkeys(params_errors, 0) # copy dicts' keys, set all values to zero\n",
    "    for param in real_params:\n",
    "        y_hat = real_params[param]\n",
    "        y = inpainted_params[param]\n",
    "        \n",
    "        params_errors[param] = ((y - y_hat) / y_hat)*100\n",
    "\n",
    "    reals.append(real_params.copy()) # !!!!! for some reason dicts need to be copied, to be able to append to a list... otherwise the dicts inside the lists get update too\n",
    "    inpainteds.append(inpainted_params.copy())\n",
    "    errors.append(params_errors.copy())\n"
   ]
  },
  {
   "cell_type": "raw",
   "metadata": {},
   "source": [
    "for error in errors:\n",
    "    print(error)"
   ]
  },
  {
   "cell_type": "markdown",
   "metadata": {},
   "source": [
    "# Create one large df from all the dicts"
   ]
  },
  {
   "cell_type": "code",
   "execution_count": 122,
   "metadata": {},
   "outputs": [
    {
     "name": "stdout",
     "output_type": "stream",
     "text": [
      "{'planet_mass': -4.525184634915599e+19, 'temp_profile': 0.22220611572265625, 'ch4_mixratio': -0.2513140971499688, 'planet_radius': -2.5002121925354004, 'h2o_mixratio': -0.2513140971499688, 'co2_mixratio': -2.197225490862131, 'co_mixratio': -0.2513140971499688}\n",
      "{'planet_mass': -4.525184634915599e+19, 'temp_profile': 0.22220611572265625, 'ch4_mixratio': -16.89123134869747, 'planet_radius': -2.5002121925354004, 'h2o_mixratio': -0.40546439330935513, 'co2_mixratio': -1.5040785111880304, 'co_mixratio': -0.11778263041317416}\n",
      "{'planet_mass': -4.525184634915599e+19, 'temp_profile': 0.11110305786132812, 'ch4_mixratio': -0.40546439330935513, 'planet_radius': 3.333616256713867, 'h2o_mixratio': -0.8109296100872747, 'co2_mixratio': -0.5877866470676665, 'co_mixratio': -0.2513140971499688}\n",
      "{'planet_mass': -4.525184634915599e+19, 'temp_profile': 0.3333091735839844, 'ch4_mixratio': -0.5877866470676665, 'planet_radius': 3.333616256713867, 'h2o_mixratio': -2.197225490862131, 'co2_mixratio': -0.8109296100872747, 'co_mixratio': -2.197225490862131}\n"
     ]
    }
   ],
   "source": [
    "dfs = []\n",
    "for i in range(len(errors)):\n",
    "    print(reals[i])\n",
    "    df1 = pd.DataFrame(errors[i], index=[0])\n",
    "    df1.columns = [i+'_error' for i in df1.columns]\n",
    "\n",
    "    df2 = pd.DataFrame(reals[i], index=[0])\n",
    "    df2.columns = [i+'_real' for i in df2.columns]\n",
    "\n",
    "    df3 = pd.DataFrame(inpainteds[i], index=[0])\n",
    "    df3.columns = [i+'_inpainted' for i in df3.columns]\n",
    "\n",
    "    df = pd.concat([df1, df2, df3], axis=1)\n",
    "    \n",
    "    dfs.append(df)\n",
    "\n",
    "df = pd.concat(dfs)"
   ]
  },
  {
   "cell_type": "markdown",
   "metadata": {},
   "source": [
    "# Errors of all images"
   ]
  },
  {
   "cell_type": "code",
   "execution_count": 123,
   "metadata": {},
   "outputs": [
    {
     "data": {
      "text/html": [
       "<div>\n",
       "<style scoped>\n",
       "    .dataframe tbody tr th:only-of-type {\n",
       "        vertical-align: middle;\n",
       "    }\n",
       "\n",
       "    .dataframe tbody tr th {\n",
       "        vertical-align: top;\n",
       "    }\n",
       "\n",
       "    .dataframe thead th {\n",
       "        text-align: right;\n",
       "    }\n",
       "</style>\n",
       "<table border=\"1\" class=\"dataframe\">\n",
       "  <thead>\n",
       "    <tr style=\"text-align: right;\">\n",
       "      <th></th>\n",
       "      <th>planet_mass_error</th>\n",
       "      <th>temp_profile_error</th>\n",
       "      <th>ch4_mixratio_error</th>\n",
       "      <th>planet_radius_error</th>\n",
       "      <th>h2o_mixratio_error</th>\n",
       "      <th>co2_mixratio_error</th>\n",
       "      <th>co_mixratio_error</th>\n",
       "      <th>planet_mass_real</th>\n",
       "      <th>temp_profile_real</th>\n",
       "      <th>ch4_mixratio_real</th>\n",
       "      <th>...</th>\n",
       "      <th>h2o_mixratio_real</th>\n",
       "      <th>co2_mixratio_real</th>\n",
       "      <th>co_mixratio_real</th>\n",
       "      <th>planet_mass_inpainted</th>\n",
       "      <th>temp_profile_inpainted</th>\n",
       "      <th>ch4_mixratio_inpainted</th>\n",
       "      <th>planet_radius_inpainted</th>\n",
       "      <th>h2o_mixratio_inpainted</th>\n",
       "      <th>co2_mixratio_inpainted</th>\n",
       "      <th>co_mixratio_inpainted</th>\n",
       "    </tr>\n",
       "  </thead>\n",
       "  <tbody>\n",
       "    <tr>\n",
       "      <th>count</th>\n",
       "      <td>4.000000e+00</td>\n",
       "      <td>4.000000e+00</td>\n",
       "      <td>4.000000</td>\n",
       "      <td>4.000000e+00</td>\n",
       "      <td>4.000000</td>\n",
       "      <td>4.000000</td>\n",
       "      <td>4.000000</td>\n",
       "      <td>4.000000e+00</td>\n",
       "      <td>4.000000</td>\n",
       "      <td>4.000000</td>\n",
       "      <td>...</td>\n",
       "      <td>4.000000</td>\n",
       "      <td>4.000000</td>\n",
       "      <td>4.000000</td>\n",
       "      <td>4.000000e+00</td>\n",
       "      <td>4.000000</td>\n",
       "      <td>4.000000</td>\n",
       "      <td>4.000000e+00</td>\n",
       "      <td>4.000000</td>\n",
       "      <td>4.000000</td>\n",
       "      <td>4.000000</td>\n",
       "    </tr>\n",
       "    <tr>\n",
       "      <th>mean</th>\n",
       "      <td>-5.902443e+09</td>\n",
       "      <td>7.995950e+05</td>\n",
       "      <td>2392.378903</td>\n",
       "      <td>-1.933337e+08</td>\n",
       "      <td>1916.772004</td>\n",
       "      <td>1050.063920</td>\n",
       "      <td>1937.784579</td>\n",
       "      <td>-4.525185e+19</td>\n",
       "      <td>0.222206</td>\n",
       "      <td>-4.533949</td>\n",
       "      <td>...</td>\n",
       "      <td>-0.916233</td>\n",
       "      <td>-1.275005</td>\n",
       "      <td>-0.704409</td>\n",
       "      <td>2.670965e+27</td>\n",
       "      <td>1500.370227</td>\n",
       "      <td>-12.568092</td>\n",
       "      <td>7.452467e+07</td>\n",
       "      <td>-10.312516</td>\n",
       "      <td>-10.623287</td>\n",
       "      <td>-5.839303</td>\n",
       "    </tr>\n",
       "    <tr>\n",
       "      <th>std</th>\n",
       "      <td>2.390107e+09</td>\n",
       "      <td>4.586352e+05</td>\n",
       "      <td>1894.851219</td>\n",
       "      <td>2.988954e+09</td>\n",
       "      <td>1487.261843</td>\n",
       "      <td>763.674139</td>\n",
       "      <td>1240.511748</td>\n",
       "      <td>0.000000e+00</td>\n",
       "      <td>0.090715</td>\n",
       "      <td>8.239336</td>\n",
       "      <td>...</td>\n",
       "      <td>0.886008</td>\n",
       "      <td>0.728148</td>\n",
       "      <td>0.997200</td>\n",
       "      <td>1.081568e+27</td>\n",
       "      <td>162.852343</td>\n",
       "      <td>0.810723</td>\n",
       "      <td>8.871357e+06</td>\n",
       "      <td>0.973035</td>\n",
       "      <td>2.125368</td>\n",
       "      <td>1.822759</td>\n",
       "    </tr>\n",
       "    <tr>\n",
       "      <th>min</th>\n",
       "      <td>-8.122593e+09</td>\n",
       "      <td>4.835973e+05</td>\n",
       "      <td>-21.807167</td>\n",
       "      <td>-2.855772e+09</td>\n",
       "      <td>429.196979</td>\n",
       "      <td>262.311922</td>\n",
       "      <td>279.865418</td>\n",
       "      <td>-4.525185e+19</td>\n",
       "      <td>0.111103</td>\n",
       "      <td>-16.891231</td>\n",
       "      <td>...</td>\n",
       "      <td>-2.197225</td>\n",
       "      <td>-2.197225</td>\n",
       "      <td>-2.197225</td>\n",
       "      <td>1.632468e+27</td>\n",
       "      <td>1289.370030</td>\n",
       "      <td>-13.303727</td>\n",
       "      <td>6.740479e+07</td>\n",
       "      <td>-11.627651</td>\n",
       "      <td>-12.840302</td>\n",
       "      <td>-8.346500</td>\n",
       "    </tr>\n",
       "    <tr>\n",
       "      <th>25%</th>\n",
       "      <td>-7.882546e+09</td>\n",
       "      <td>5.560183e+05</td>\n",
       "      <td>1617.068129</td>\n",
       "      <td>-2.735915e+09</td>\n",
       "      <td>988.659606</td>\n",
       "      <td>488.973621</td>\n",
       "      <td>1600.768757</td>\n",
       "      <td>-4.525185e+19</td>\n",
       "      <td>0.194430</td>\n",
       "      <td>-4.663648</td>\n",
       "      <td>...</td>\n",
       "      <td>-1.157504</td>\n",
       "      <td>-1.677365</td>\n",
       "      <td>-0.737792</td>\n",
       "      <td>1.791851e+27</td>\n",
       "      <td>1414.415352</td>\n",
       "      <td>-13.231731</td>\n",
       "      <td>7.040147e+07</td>\n",
       "      <td>-10.662322</td>\n",
       "      <td>-11.982840</td>\n",
       "      <td>-6.319143</td>\n",
       "    </tr>\n",
       "    <tr>\n",
       "      <th>50%</th>\n",
       "      <td>-5.939832e+09</td>\n",
       "      <td>6.176749e+05</td>\n",
       "      <td>2520.733353</td>\n",
       "      <td>-2.710890e+08</td>\n",
       "      <td>1686.682658</td>\n",
       "      <td>1023.966396</td>\n",
       "      <td>2093.304819</td>\n",
       "      <td>-4.525185e+19</td>\n",
       "      <td>0.222206</td>\n",
       "      <td>-0.496626</td>\n",
       "      <td>...</td>\n",
       "      <td>-0.608197</td>\n",
       "      <td>-1.157504</td>\n",
       "      <td>-0.251314</td>\n",
       "      <td>2.687883e+27</td>\n",
       "      <td>1534.152329</td>\n",
       "      <td>-12.641447</td>\n",
       "      <td>7.159964e+07</td>\n",
       "      <td>-10.151979</td>\n",
       "      <td>-10.846017</td>\n",
       "      <td>-5.512084</td>\n",
       "    </tr>\n",
       "    <tr>\n",
       "      <th>75%</th>\n",
       "      <td>-3.959730e+09</td>\n",
       "      <td>8.612516e+05</td>\n",
       "      <td>3296.044126</td>\n",
       "      <td>2.271492e+09</td>\n",
       "      <td>2614.795055</td>\n",
       "      <td>1585.056695</td>\n",
       "      <td>2430.320641</td>\n",
       "      <td>-4.525185e+19</td>\n",
       "      <td>0.249982</td>\n",
       "      <td>-0.366927</td>\n",
       "      <td>...</td>\n",
       "      <td>-0.366927</td>\n",
       "      <td>-0.755144</td>\n",
       "      <td>-0.217931</td>\n",
       "      <td>3.566997e+27</td>\n",
       "      <td>1620.107204</td>\n",
       "      <td>-11.977808</td>\n",
       "      <td>7.572285e+07</td>\n",
       "      <td>-9.802173</td>\n",
       "      <td>-9.486464</td>\n",
       "      <td>-5.032244</td>\n",
       "    </tr>\n",
       "    <tr>\n",
       "      <th>max</th>\n",
       "      <td>-3.607517e+09</td>\n",
       "      <td>1.479433e+06</td>\n",
       "      <td>4549.856073</td>\n",
       "      <td>2.624615e+09</td>\n",
       "      <td>3864.525721</td>\n",
       "      <td>1890.010967</td>\n",
       "      <td>3284.663258</td>\n",
       "      <td>-4.525185e+19</td>\n",
       "      <td>0.333309</td>\n",
       "      <td>-0.251314</td>\n",
       "      <td>...</td>\n",
       "      <td>-0.251314</td>\n",
       "      <td>-0.587787</td>\n",
       "      <td>-0.117783</td>\n",
       "      <td>3.675623e+27</td>\n",
       "      <td>1643.806219</td>\n",
       "      <td>-11.685744</td>\n",
       "      <td>8.749461e+07</td>\n",
       "      <td>-9.318456</td>\n",
       "      <td>-7.960810</td>\n",
       "      <td>-3.986545</td>\n",
       "    </tr>\n",
       "  </tbody>\n",
       "</table>\n",
       "<p>8 rows × 21 columns</p>\n",
       "</div>"
      ],
      "text/plain": [
       "       planet_mass_error  temp_profile_error  ch4_mixratio_error  \\\n",
       "count       4.000000e+00        4.000000e+00            4.000000   \n",
       "mean       -5.902443e+09        7.995950e+05         2392.378903   \n",
       "std         2.390107e+09        4.586352e+05         1894.851219   \n",
       "min        -8.122593e+09        4.835973e+05          -21.807167   \n",
       "25%        -7.882546e+09        5.560183e+05         1617.068129   \n",
       "50%        -5.939832e+09        6.176749e+05         2520.733353   \n",
       "75%        -3.959730e+09        8.612516e+05         3296.044126   \n",
       "max        -3.607517e+09        1.479433e+06         4549.856073   \n",
       "\n",
       "       planet_radius_error  h2o_mixratio_error  co2_mixratio_error  \\\n",
       "count         4.000000e+00            4.000000            4.000000   \n",
       "mean         -1.933337e+08         1916.772004         1050.063920   \n",
       "std           2.988954e+09         1487.261843          763.674139   \n",
       "min          -2.855772e+09          429.196979          262.311922   \n",
       "25%          -2.735915e+09          988.659606          488.973621   \n",
       "50%          -2.710890e+08         1686.682658         1023.966396   \n",
       "75%           2.271492e+09         2614.795055         1585.056695   \n",
       "max           2.624615e+09         3864.525721         1890.010967   \n",
       "\n",
       "       co_mixratio_error  planet_mass_real  temp_profile_real  \\\n",
       "count           4.000000      4.000000e+00           4.000000   \n",
       "mean         1937.784579     -4.525185e+19           0.222206   \n",
       "std          1240.511748      0.000000e+00           0.090715   \n",
       "min           279.865418     -4.525185e+19           0.111103   \n",
       "25%          1600.768757     -4.525185e+19           0.194430   \n",
       "50%          2093.304819     -4.525185e+19           0.222206   \n",
       "75%          2430.320641     -4.525185e+19           0.249982   \n",
       "max          3284.663258     -4.525185e+19           0.333309   \n",
       "\n",
       "       ch4_mixratio_real          ...            h2o_mixratio_real  \\\n",
       "count           4.000000          ...                     4.000000   \n",
       "mean           -4.533949          ...                    -0.916233   \n",
       "std             8.239336          ...                     0.886008   \n",
       "min           -16.891231          ...                    -2.197225   \n",
       "25%            -4.663648          ...                    -1.157504   \n",
       "50%            -0.496626          ...                    -0.608197   \n",
       "75%            -0.366927          ...                    -0.366927   \n",
       "max            -0.251314          ...                    -0.251314   \n",
       "\n",
       "       co2_mixratio_real  co_mixratio_real  planet_mass_inpainted  \\\n",
       "count           4.000000          4.000000           4.000000e+00   \n",
       "mean           -1.275005         -0.704409           2.670965e+27   \n",
       "std             0.728148          0.997200           1.081568e+27   \n",
       "min            -2.197225         -2.197225           1.632468e+27   \n",
       "25%            -1.677365         -0.737792           1.791851e+27   \n",
       "50%            -1.157504         -0.251314           2.687883e+27   \n",
       "75%            -0.755144         -0.217931           3.566997e+27   \n",
       "max            -0.587787         -0.117783           3.675623e+27   \n",
       "\n",
       "       temp_profile_inpainted  ch4_mixratio_inpainted  \\\n",
       "count                4.000000                4.000000   \n",
       "mean              1500.370227              -12.568092   \n",
       "std                162.852343                0.810723   \n",
       "min               1289.370030              -13.303727   \n",
       "25%               1414.415352              -13.231731   \n",
       "50%               1534.152329              -12.641447   \n",
       "75%               1620.107204              -11.977808   \n",
       "max               1643.806219              -11.685744   \n",
       "\n",
       "       planet_radius_inpainted  h2o_mixratio_inpainted  \\\n",
       "count             4.000000e+00                4.000000   \n",
       "mean              7.452467e+07              -10.312516   \n",
       "std               8.871357e+06                0.973035   \n",
       "min               6.740479e+07              -11.627651   \n",
       "25%               7.040147e+07              -10.662322   \n",
       "50%               7.159964e+07              -10.151979   \n",
       "75%               7.572285e+07               -9.802173   \n",
       "max               8.749461e+07               -9.318456   \n",
       "\n",
       "       co2_mixratio_inpainted  co_mixratio_inpainted  \n",
       "count                4.000000               4.000000  \n",
       "mean               -10.623287              -5.839303  \n",
       "std                  2.125368               1.822759  \n",
       "min                -12.840302              -8.346500  \n",
       "25%                -11.982840              -6.319143  \n",
       "50%                -10.846017              -5.512084  \n",
       "75%                 -9.486464              -5.032244  \n",
       "max                 -7.960810              -3.986545  \n",
       "\n",
       "[8 rows x 21 columns]"
      ]
     },
     "execution_count": 123,
     "metadata": {},
     "output_type": "execute_result"
    }
   ],
   "source": [
    "df.describe()"
   ]
  },
  {
   "cell_type": "code",
   "execution_count": 124,
   "metadata": {},
   "outputs": [
    {
     "data": {
      "text/html": [
       "<div>\n",
       "<style scoped>\n",
       "    .dataframe tbody tr th:only-of-type {\n",
       "        vertical-align: middle;\n",
       "    }\n",
       "\n",
       "    .dataframe tbody tr th {\n",
       "        vertical-align: top;\n",
       "    }\n",
       "\n",
       "    .dataframe thead th {\n",
       "        text-align: right;\n",
       "    }\n",
       "</style>\n",
       "<table border=\"1\" class=\"dataframe\">\n",
       "  <thead>\n",
       "    <tr style=\"text-align: right;\">\n",
       "      <th></th>\n",
       "      <th>planet_mass_error</th>\n",
       "      <th>temp_profile_error</th>\n",
       "      <th>ch4_mixratio_error</th>\n",
       "      <th>planet_radius_error</th>\n",
       "      <th>h2o_mixratio_error</th>\n",
       "      <th>co2_mixratio_error</th>\n",
       "      <th>co_mixratio_error</th>\n",
       "      <th>planet_mass_real</th>\n",
       "      <th>temp_profile_real</th>\n",
       "      <th>ch4_mixratio_real</th>\n",
       "      <th>...</th>\n",
       "      <th>h2o_mixratio_real</th>\n",
       "      <th>co2_mixratio_real</th>\n",
       "      <th>co_mixratio_real</th>\n",
       "      <th>planet_mass_inpainted</th>\n",
       "      <th>temp_profile_inpainted</th>\n",
       "      <th>ch4_mixratio_inpainted</th>\n",
       "      <th>planet_radius_inpainted</th>\n",
       "      <th>h2o_mixratio_inpainted</th>\n",
       "      <th>co2_mixratio_inpainted</th>\n",
       "      <th>co_mixratio_inpainted</th>\n",
       "    </tr>\n",
       "  </thead>\n",
       "  <tbody>\n",
       "    <tr>\n",
       "      <th>count</th>\n",
       "      <td>4.000000e+00</td>\n",
       "      <td>4.000000e+00</td>\n",
       "      <td>4.000000</td>\n",
       "      <td>4.000000e+00</td>\n",
       "      <td>4.000000</td>\n",
       "      <td>4.000000</td>\n",
       "      <td>4.000000</td>\n",
       "      <td>4.000000e+00</td>\n",
       "      <td>4.000000</td>\n",
       "      <td>4.000000</td>\n",
       "      <td>...</td>\n",
       "      <td>4.000000</td>\n",
       "      <td>4.000000</td>\n",
       "      <td>4.000000</td>\n",
       "      <td>4.000000e+00</td>\n",
       "      <td>4.000000</td>\n",
       "      <td>4.000000</td>\n",
       "      <td>4.000000e+00</td>\n",
       "      <td>4.000000</td>\n",
       "      <td>4.000000</td>\n",
       "      <td>4.000000</td>\n",
       "    </tr>\n",
       "    <tr>\n",
       "      <th>mean</th>\n",
       "      <td>-5.902443e+09</td>\n",
       "      <td>7.995950e+05</td>\n",
       "      <td>2392.378903</td>\n",
       "      <td>-1.933337e+08</td>\n",
       "      <td>1916.772004</td>\n",
       "      <td>1050.063920</td>\n",
       "      <td>1937.784579</td>\n",
       "      <td>-4.525185e+19</td>\n",
       "      <td>0.222206</td>\n",
       "      <td>-4.533949</td>\n",
       "      <td>...</td>\n",
       "      <td>-0.916233</td>\n",
       "      <td>-1.275005</td>\n",
       "      <td>-0.704409</td>\n",
       "      <td>2.670965e+27</td>\n",
       "      <td>1500.370227</td>\n",
       "      <td>-12.568092</td>\n",
       "      <td>7.452467e+07</td>\n",
       "      <td>-10.312516</td>\n",
       "      <td>-10.623287</td>\n",
       "      <td>-5.839303</td>\n",
       "    </tr>\n",
       "    <tr>\n",
       "      <th>std</th>\n",
       "      <td>2.390107e+09</td>\n",
       "      <td>4.586352e+05</td>\n",
       "      <td>1894.851219</td>\n",
       "      <td>2.988954e+09</td>\n",
       "      <td>1487.261843</td>\n",
       "      <td>763.674139</td>\n",
       "      <td>1240.511748</td>\n",
       "      <td>0.000000e+00</td>\n",
       "      <td>0.090715</td>\n",
       "      <td>8.239336</td>\n",
       "      <td>...</td>\n",
       "      <td>0.886008</td>\n",
       "      <td>0.728148</td>\n",
       "      <td>0.997200</td>\n",
       "      <td>1.081568e+27</td>\n",
       "      <td>162.852343</td>\n",
       "      <td>0.810723</td>\n",
       "      <td>8.871357e+06</td>\n",
       "      <td>0.973035</td>\n",
       "      <td>2.125368</td>\n",
       "      <td>1.822759</td>\n",
       "    </tr>\n",
       "    <tr>\n",
       "      <th>min</th>\n",
       "      <td>-8.122593e+09</td>\n",
       "      <td>4.835973e+05</td>\n",
       "      <td>-21.807167</td>\n",
       "      <td>-2.855772e+09</td>\n",
       "      <td>429.196979</td>\n",
       "      <td>262.311922</td>\n",
       "      <td>279.865418</td>\n",
       "      <td>-4.525185e+19</td>\n",
       "      <td>0.111103</td>\n",
       "      <td>-16.891231</td>\n",
       "      <td>...</td>\n",
       "      <td>-2.197225</td>\n",
       "      <td>-2.197225</td>\n",
       "      <td>-2.197225</td>\n",
       "      <td>1.632468e+27</td>\n",
       "      <td>1289.370030</td>\n",
       "      <td>-13.303727</td>\n",
       "      <td>6.740479e+07</td>\n",
       "      <td>-11.627651</td>\n",
       "      <td>-12.840302</td>\n",
       "      <td>-8.346500</td>\n",
       "    </tr>\n",
       "    <tr>\n",
       "      <th>25%</th>\n",
       "      <td>-7.882546e+09</td>\n",
       "      <td>5.560183e+05</td>\n",
       "      <td>1617.068129</td>\n",
       "      <td>-2.735915e+09</td>\n",
       "      <td>988.659606</td>\n",
       "      <td>488.973621</td>\n",
       "      <td>1600.768757</td>\n",
       "      <td>-4.525185e+19</td>\n",
       "      <td>0.194430</td>\n",
       "      <td>-4.663648</td>\n",
       "      <td>...</td>\n",
       "      <td>-1.157504</td>\n",
       "      <td>-1.677365</td>\n",
       "      <td>-0.737792</td>\n",
       "      <td>1.791851e+27</td>\n",
       "      <td>1414.415352</td>\n",
       "      <td>-13.231731</td>\n",
       "      <td>7.040147e+07</td>\n",
       "      <td>-10.662322</td>\n",
       "      <td>-11.982840</td>\n",
       "      <td>-6.319143</td>\n",
       "    </tr>\n",
       "    <tr>\n",
       "      <th>50%</th>\n",
       "      <td>-5.939832e+09</td>\n",
       "      <td>6.176749e+05</td>\n",
       "      <td>2520.733353</td>\n",
       "      <td>-2.710890e+08</td>\n",
       "      <td>1686.682658</td>\n",
       "      <td>1023.966396</td>\n",
       "      <td>2093.304819</td>\n",
       "      <td>-4.525185e+19</td>\n",
       "      <td>0.222206</td>\n",
       "      <td>-0.496626</td>\n",
       "      <td>...</td>\n",
       "      <td>-0.608197</td>\n",
       "      <td>-1.157504</td>\n",
       "      <td>-0.251314</td>\n",
       "      <td>2.687883e+27</td>\n",
       "      <td>1534.152329</td>\n",
       "      <td>-12.641447</td>\n",
       "      <td>7.159964e+07</td>\n",
       "      <td>-10.151979</td>\n",
       "      <td>-10.846017</td>\n",
       "      <td>-5.512084</td>\n",
       "    </tr>\n",
       "    <tr>\n",
       "      <th>75%</th>\n",
       "      <td>-3.959730e+09</td>\n",
       "      <td>8.612516e+05</td>\n",
       "      <td>3296.044126</td>\n",
       "      <td>2.271492e+09</td>\n",
       "      <td>2614.795055</td>\n",
       "      <td>1585.056695</td>\n",
       "      <td>2430.320641</td>\n",
       "      <td>-4.525185e+19</td>\n",
       "      <td>0.249982</td>\n",
       "      <td>-0.366927</td>\n",
       "      <td>...</td>\n",
       "      <td>-0.366927</td>\n",
       "      <td>-0.755144</td>\n",
       "      <td>-0.217931</td>\n",
       "      <td>3.566997e+27</td>\n",
       "      <td>1620.107204</td>\n",
       "      <td>-11.977808</td>\n",
       "      <td>7.572285e+07</td>\n",
       "      <td>-9.802173</td>\n",
       "      <td>-9.486464</td>\n",
       "      <td>-5.032244</td>\n",
       "    </tr>\n",
       "    <tr>\n",
       "      <th>max</th>\n",
       "      <td>-3.607517e+09</td>\n",
       "      <td>1.479433e+06</td>\n",
       "      <td>4549.856073</td>\n",
       "      <td>2.624615e+09</td>\n",
       "      <td>3864.525721</td>\n",
       "      <td>1890.010967</td>\n",
       "      <td>3284.663258</td>\n",
       "      <td>-4.525185e+19</td>\n",
       "      <td>0.333309</td>\n",
       "      <td>-0.251314</td>\n",
       "      <td>...</td>\n",
       "      <td>-0.251314</td>\n",
       "      <td>-0.587787</td>\n",
       "      <td>-0.117783</td>\n",
       "      <td>3.675623e+27</td>\n",
       "      <td>1643.806219</td>\n",
       "      <td>-11.685744</td>\n",
       "      <td>8.749461e+07</td>\n",
       "      <td>-9.318456</td>\n",
       "      <td>-7.960810</td>\n",
       "      <td>-3.986545</td>\n",
       "    </tr>\n",
       "  </tbody>\n",
       "</table>\n",
       "<p>8 rows × 21 columns</p>\n",
       "</div>"
      ],
      "text/plain": [
       "       planet_mass_error  temp_profile_error  ch4_mixratio_error  \\\n",
       "count       4.000000e+00        4.000000e+00            4.000000   \n",
       "mean       -5.902443e+09        7.995950e+05         2392.378903   \n",
       "std         2.390107e+09        4.586352e+05         1894.851219   \n",
       "min        -8.122593e+09        4.835973e+05          -21.807167   \n",
       "25%        -7.882546e+09        5.560183e+05         1617.068129   \n",
       "50%        -5.939832e+09        6.176749e+05         2520.733353   \n",
       "75%        -3.959730e+09        8.612516e+05         3296.044126   \n",
       "max        -3.607517e+09        1.479433e+06         4549.856073   \n",
       "\n",
       "       planet_radius_error  h2o_mixratio_error  co2_mixratio_error  \\\n",
       "count         4.000000e+00            4.000000            4.000000   \n",
       "mean         -1.933337e+08         1916.772004         1050.063920   \n",
       "std           2.988954e+09         1487.261843          763.674139   \n",
       "min          -2.855772e+09          429.196979          262.311922   \n",
       "25%          -2.735915e+09          988.659606          488.973621   \n",
       "50%          -2.710890e+08         1686.682658         1023.966396   \n",
       "75%           2.271492e+09         2614.795055         1585.056695   \n",
       "max           2.624615e+09         3864.525721         1890.010967   \n",
       "\n",
       "       co_mixratio_error  planet_mass_real  temp_profile_real  \\\n",
       "count           4.000000      4.000000e+00           4.000000   \n",
       "mean         1937.784579     -4.525185e+19           0.222206   \n",
       "std          1240.511748      0.000000e+00           0.090715   \n",
       "min           279.865418     -4.525185e+19           0.111103   \n",
       "25%          1600.768757     -4.525185e+19           0.194430   \n",
       "50%          2093.304819     -4.525185e+19           0.222206   \n",
       "75%          2430.320641     -4.525185e+19           0.249982   \n",
       "max          3284.663258     -4.525185e+19           0.333309   \n",
       "\n",
       "       ch4_mixratio_real          ...            h2o_mixratio_real  \\\n",
       "count           4.000000          ...                     4.000000   \n",
       "mean           -4.533949          ...                    -0.916233   \n",
       "std             8.239336          ...                     0.886008   \n",
       "min           -16.891231          ...                    -2.197225   \n",
       "25%            -4.663648          ...                    -1.157504   \n",
       "50%            -0.496626          ...                    -0.608197   \n",
       "75%            -0.366927          ...                    -0.366927   \n",
       "max            -0.251314          ...                    -0.251314   \n",
       "\n",
       "       co2_mixratio_real  co_mixratio_real  planet_mass_inpainted  \\\n",
       "count           4.000000          4.000000           4.000000e+00   \n",
       "mean           -1.275005         -0.704409           2.670965e+27   \n",
       "std             0.728148          0.997200           1.081568e+27   \n",
       "min            -2.197225         -2.197225           1.632468e+27   \n",
       "25%            -1.677365         -0.737792           1.791851e+27   \n",
       "50%            -1.157504         -0.251314           2.687883e+27   \n",
       "75%            -0.755144         -0.217931           3.566997e+27   \n",
       "max            -0.587787         -0.117783           3.675623e+27   \n",
       "\n",
       "       temp_profile_inpainted  ch4_mixratio_inpainted  \\\n",
       "count                4.000000                4.000000   \n",
       "mean              1500.370227              -12.568092   \n",
       "std                162.852343                0.810723   \n",
       "min               1289.370030              -13.303727   \n",
       "25%               1414.415352              -13.231731   \n",
       "50%               1534.152329              -12.641447   \n",
       "75%               1620.107204              -11.977808   \n",
       "max               1643.806219              -11.685744   \n",
       "\n",
       "       planet_radius_inpainted  h2o_mixratio_inpainted  \\\n",
       "count             4.000000e+00                4.000000   \n",
       "mean              7.452467e+07              -10.312516   \n",
       "std               8.871357e+06                0.973035   \n",
       "min               6.740479e+07              -11.627651   \n",
       "25%               7.040147e+07              -10.662322   \n",
       "50%               7.159964e+07              -10.151979   \n",
       "75%               7.572285e+07               -9.802173   \n",
       "max               8.749461e+07               -9.318456   \n",
       "\n",
       "       co2_mixratio_inpainted  co_mixratio_inpainted  \n",
       "count                4.000000               4.000000  \n",
       "mean               -10.623287              -5.839303  \n",
       "std                  2.125368               1.822759  \n",
       "min                -12.840302              -8.346500  \n",
       "25%                -11.982840              -6.319143  \n",
       "50%                -10.846017              -5.512084  \n",
       "75%                 -9.486464              -5.032244  \n",
       "max                 -7.960810              -3.986545  \n",
       "\n",
       "[8 rows x 21 columns]"
      ]
     },
     "execution_count": 124,
     "metadata": {},
     "output_type": "execute_result"
    }
   ],
   "source": [
    "df.describe()"
   ]
  },
  {
   "cell_type": "code",
   "execution_count": 125,
   "metadata": {},
   "outputs": [
    {
     "name": "stdout",
     "output_type": "stream",
     "text": [
      "ch4_mixratio\n"
     ]
    }
   ],
   "source": [
    "params = [param for param in real_params.keys()]\n",
    "param = params[2]\n",
    "print(param)"
   ]
  },
  {
   "cell_type": "code",
   "execution_count": 126,
   "metadata": {},
   "outputs": [
    {
     "data": {
      "image/png": "[encoded data removed]",
      "text/plain": [
       "<Figure size 432x288 with 1 Axes>"
      ]
     },
     "metadata": {},
     "output_type": "display_data"
    }
   ],
   "source": [
    "x = df[param+'_real']\n",
    "y = df[param+'_inpainted']\n",
    "\n",
    "plt.plot(x, y, '.')\n",
    "plt.xlabel('real')\n",
    "plt.ylabel('inpainted')\n",
    "plt.grid()"
   ]
  },
  {
   "cell_type": "code",
   "execution_count": 127,
   "metadata": {},
   "outputs": [
    {
     "data": {
      "text/plain": [
       "0    -0.251314\n",
       "0   -16.891231\n",
       "0    -0.405464\n",
       "0    -0.587787\n",
       "Name: ch4_mixratio_real, dtype: float64"
      ]
     },
     "execution_count": 127,
     "metadata": {},
     "output_type": "execute_result"
    }
   ],
   "source": [
    "x"
   ]
  },
  {
   "cell_type": "code",
   "execution_count": 128,
   "metadata": {},
   "outputs": [
    {
     "data": {
      "text/plain": [
       "0   -11.685744\n",
       "0   -13.207732\n",
       "0   -12.075163\n",
       "0   -13.303727\n",
       "Name: ch4_mixratio_inpainted, dtype: float64"
      ]
     },
     "execution_count": 128,
     "metadata": {},
     "output_type": "execute_result"
    }
   ],
   "source": [
    "y"
   ]
  },
  {
   "cell_type": "code",
   "execution_count": 129,
   "metadata": {},
   "outputs": [
    {
     "data": {
      "text/plain": [
       "(array([1., 0., 0., 0., 1., 0., 1., 0., 0., 1.]),\n",
       " array([ -21.80716723,  435.3591568 ,  892.52548084, 1349.69180487,\n",
       "        1806.8581289 , 2264.02445294, 2721.19077697, 3178.35710101,\n",
       "        3635.52342504, 4092.68974907, 4549.85607311]),\n",
       " <a list of 10 Patch objects>)"
      ]
     },
     "execution_count": 129,
     "metadata": {},
     "output_type": "execute_result"
    },
    {
     "data": {
      "image/png": "[encoded data removed]",
      "text/plain": [
       "<Figure size 432x288 with 1 Axes>"
      ]
     },
     "metadata": {},
     "output_type": "display_data"
    }
   ],
   "source": [
    "plt.hist(df[param+'_error'])"
   ]
  },
  {
   "cell_type": "code",
   "execution_count": 130,
   "metadata": {},
   "outputs": [
    {
     "name": "stdout",
     "output_type": "stream",
     "text": [
      "saved\n"
     ]
    },
    {
     "data": {
      "image/png": "[encoded data removed]",
      "text/plain": [
       "<Figure size 1800x720 with 7 Axes>"
      ]
     },
     "metadata": {},
     "output_type": "display_data"
    }
   ],
   "source": [
    "plt.figure(figsize=((25,10)))\n",
    "for i,param in enumerate(params):\n",
    "    plt.subplot(3,3,i+1)\n",
    "    plt.title(param+'_error')\n",
    "    plt.hist(df[param+'_error'], bins=20)\n",
    "    plt.grid()\n",
    "    plt.tight_layout()\n",
    "\n",
    "plt.savefig('plots//Validation error hist of '+str(len(images))+' images.png', dpi=1200)\n",
    "print('saved')"
   ]
  },
  {
   "cell_type": "raw",
   "metadata": {},
   "source": [
    "plt.figure(figsize=((25,10)))\n",
    "for i,param in enumerate(params):\n",
    "    x = df[param+'_error']\n",
    "    y = df[param+'_real']\n",
    "    \n",
    "    plt.subplot(3,3,i+1)\n",
    "\n",
    "    plt.plot(x, y, '.')\n",
    "    plt.tight_layout()"
   ]
  },
  {
   "cell_type": "code",
   "execution_count": 131,
   "metadata": {},
   "outputs": [],
   "source": [
    "df.to_csv('Validation error of '+str(len(images))+' images')"
   ]
  },
  {
   "cell_type": "code",
   "execution_count": 132,
   "metadata": {},
   "outputs": [
    {
     "data": {
      "text/html": [
       "<div>\n",
       "<style scoped>\n",
       "    .dataframe tbody tr th:only-of-type {\n",
       "        vertical-align: middle;\n",
       "    }\n",
       "\n",
       "    .dataframe tbody tr th {\n",
       "        vertical-align: top;\n",
       "    }\n",
       "\n",
       "    .dataframe thead th {\n",
       "        text-align: right;\n",
       "    }\n",
       "</style>\n",
       "<table border=\"1\" class=\"dataframe\">\n",
       "  <thead>\n",
       "    <tr style=\"text-align: right;\">\n",
       "      <th></th>\n",
       "      <th>planet_mass_error</th>\n",
       "      <th>temp_profile_error</th>\n",
       "      <th>ch4_mixratio_error</th>\n",
       "      <th>planet_radius_error</th>\n",
       "      <th>h2o_mixratio_error</th>\n",
       "      <th>co2_mixratio_error</th>\n",
       "      <th>co_mixratio_error</th>\n",
       "      <th>planet_mass_real</th>\n",
       "      <th>temp_profile_real</th>\n",
       "      <th>ch4_mixratio_real</th>\n",
       "      <th>...</th>\n",
       "      <th>h2o_mixratio_real</th>\n",
       "      <th>co2_mixratio_real</th>\n",
       "      <th>co_mixratio_real</th>\n",
       "      <th>planet_mass_inpainted</th>\n",
       "      <th>temp_profile_inpainted</th>\n",
       "      <th>ch4_mixratio_inpainted</th>\n",
       "      <th>planet_radius_inpainted</th>\n",
       "      <th>h2o_mixratio_inpainted</th>\n",
       "      <th>co2_mixratio_inpainted</th>\n",
       "      <th>co_mixratio_inpainted</th>\n",
       "    </tr>\n",
       "  </thead>\n",
       "  <tbody>\n",
       "    <tr>\n",
       "      <th>0</th>\n",
       "      <td>-8.122593e+09</td>\n",
       "      <td>6.551912e+05</td>\n",
       "      <td>4549.856073</td>\n",
       "      <td>-2.855772e+09</td>\n",
       "      <td>3864.525721</td>\n",
       "      <td>262.311922</td>\n",
       "      <td>2145.539768</td>\n",
       "      <td>-4.525185e+19</td>\n",
       "      <td>0.222206</td>\n",
       "      <td>-0.251314</td>\n",
       "      <td>...</td>\n",
       "      <td>-0.251314</td>\n",
       "      <td>-2.197225</td>\n",
       "      <td>-0.251314</td>\n",
       "      <td>3.675623e+27</td>\n",
       "      <td>1456.097126</td>\n",
       "      <td>-11.685744</td>\n",
       "      <td>7.140036e+07</td>\n",
       "      <td>-9.963412</td>\n",
       "      <td>-7.960810</td>\n",
       "      <td>-5.643358</td>\n",
       "    </tr>\n",
       "    <tr>\n",
       "      <th>0</th>\n",
       "      <td>-7.802530e+09</td>\n",
       "      <td>5.801586e+05</td>\n",
       "      <td>-21.807167</td>\n",
       "      <td>-2.695963e+09</td>\n",
       "      <td>2198.218166</td>\n",
       "      <td>564.527521</td>\n",
       "      <td>3284.663258</td>\n",
       "      <td>-4.525185e+19</td>\n",
       "      <td>0.222206</td>\n",
       "      <td>-16.891231</td>\n",
       "      <td>...</td>\n",
       "      <td>-0.405464</td>\n",
       "      <td>-1.504079</td>\n",
       "      <td>-0.117783</td>\n",
       "      <td>3.530789e+27</td>\n",
       "      <td>1289.370030</td>\n",
       "      <td>-13.207732</td>\n",
       "      <td>6.740479e+07</td>\n",
       "      <td>-9.318456</td>\n",
       "      <td>-9.995016</td>\n",
       "      <td>-3.986545</td>\n",
       "    </tr>\n",
       "    <tr>\n",
       "      <th>0</th>\n",
       "      <td>-4.077134e+09</td>\n",
       "      <td>1.479433e+06</td>\n",
       "      <td>2878.106811</td>\n",
       "      <td>2.624615e+09</td>\n",
       "      <td>1175.147149</td>\n",
       "      <td>1890.010967</td>\n",
       "      <td>2041.069870</td>\n",
       "      <td>-4.525185e+19</td>\n",
       "      <td>0.111103</td>\n",
       "      <td>-0.405464</td>\n",
       "      <td>...</td>\n",
       "      <td>-0.810930</td>\n",
       "      <td>-0.587787</td>\n",
       "      <td>-0.251314</td>\n",
       "      <td>1.844978e+27</td>\n",
       "      <td>1643.806219</td>\n",
       "      <td>-12.075163</td>\n",
       "      <td>8.749461e+07</td>\n",
       "      <td>-10.340546</td>\n",
       "      <td>-11.697019</td>\n",
       "      <td>-5.380810</td>\n",
       "    </tr>\n",
       "    <tr>\n",
       "      <th>0</th>\n",
       "      <td>-3.607517e+09</td>\n",
       "      <td>4.835973e+05</td>\n",
       "      <td>2163.359895</td>\n",
       "      <td>2.153785e+09</td>\n",
       "      <td>429.196979</td>\n",
       "      <td>1483.405270</td>\n",
       "      <td>279.865418</td>\n",
       "      <td>-4.525185e+19</td>\n",
       "      <td>0.333309</td>\n",
       "      <td>-0.587787</td>\n",
       "      <td>...</td>\n",
       "      <td>-2.197225</td>\n",
       "      <td>-0.810930</td>\n",
       "      <td>-2.197225</td>\n",
       "      <td>1.632468e+27</td>\n",
       "      <td>1612.207532</td>\n",
       "      <td>-13.303727</td>\n",
       "      <td>7.179893e+07</td>\n",
       "      <td>-11.627651</td>\n",
       "      <td>-12.840302</td>\n",
       "      <td>-8.346500</td>\n",
       "    </tr>\n",
       "  </tbody>\n",
       "</table>\n",
       "<p>4 rows × 21 columns</p>\n",
       "</div>"
      ],
      "text/plain": [
       "   planet_mass_error  temp_profile_error  ch4_mixratio_error  \\\n",
       "0      -8.122593e+09        6.551912e+05         4549.856073   \n",
       "0      -7.802530e+09        5.801586e+05          -21.807167   \n",
       "0      -4.077134e+09        1.479433e+06         2878.106811   \n",
       "0      -3.607517e+09        4.835973e+05         2163.359895   \n",
       "\n",
       "   planet_radius_error  h2o_mixratio_error  co2_mixratio_error  \\\n",
       "0        -2.855772e+09         3864.525721          262.311922   \n",
       "0        -2.695963e+09         2198.218166          564.527521   \n",
       "0         2.624615e+09         1175.147149         1890.010967   \n",
       "0         2.153785e+09          429.196979         1483.405270   \n",
       "\n",
       "   co_mixratio_error  planet_mass_real  temp_profile_real  ch4_mixratio_real  \\\n",
       "0        2145.539768     -4.525185e+19           0.222206          -0.251314   \n",
       "0        3284.663258     -4.525185e+19           0.222206         -16.891231   \n",
       "0        2041.069870     -4.525185e+19           0.111103          -0.405464   \n",
       "0         279.865418     -4.525185e+19           0.333309          -0.587787   \n",
       "\n",
       "           ...            h2o_mixratio_real  co2_mixratio_real  \\\n",
       "0          ...                    -0.251314          -2.197225   \n",
       "0          ...                    -0.405464          -1.504079   \n",
       "0          ...                    -0.810930          -0.587787   \n",
       "0          ...                    -2.197225          -0.810930   \n",
       "\n",
       "   co_mixratio_real  planet_mass_inpainted  temp_profile_inpainted  \\\n",
       "0         -0.251314           3.675623e+27             1456.097126   \n",
       "0         -0.117783           3.530789e+27             1289.370030   \n",
       "0         -0.251314           1.844978e+27             1643.806219   \n",
       "0         -2.197225           1.632468e+27             1612.207532   \n",
       "\n",
       "   ch4_mixratio_inpainted  planet_radius_inpainted  h2o_mixratio_inpainted  \\\n",
       "0              -11.685744             7.140036e+07               -9.963412   \n",
       "0              -13.207732             6.740479e+07               -9.318456   \n",
       "0              -12.075163             8.749461e+07              -10.340546   \n",
       "0              -13.303727             7.179893e+07              -11.627651   \n",
       "\n",
       "   co2_mixratio_inpainted  co_mixratio_inpainted  \n",
       "0               -7.960810              -5.643358  \n",
       "0               -9.995016              -3.986545  \n",
       "0              -11.697019              -5.380810  \n",
       "0              -12.840302              -8.346500  \n",
       "\n",
       "[4 rows x 21 columns]"
      ]
     },
     "execution_count": 132,
     "metadata": {},
     "output_type": "execute_result"
    }
   ],
   "source": [
    "df.head()"
   ]
  },
  {
   "cell_type": "code",
   "execution_count": 133,
   "metadata": {},
   "outputs": [
    {
     "name": "stdout",
     "output_type": "stream",
     "text": [
      "DONE\n"
     ]
    }
   ],
   "source": [
    "print('DONE')"
   ]
  },
  {
   "cell_type": "code",
   "execution_count": 134,
   "metadata": {},
   "outputs": [
    {
     "data": {
      "text/html": [
       "<div>\n",
       "<style scoped>\n",
       "    .dataframe tbody tr th:only-of-type {\n",
       "        vertical-align: middle;\n",
       "    }\n",
       "\n",
       "    .dataframe tbody tr th {\n",
       "        vertical-align: top;\n",
       "    }\n",
       "\n",
       "    .dataframe thead th {\n",
       "        text-align: right;\n",
       "    }\n",
       "</style>\n",
       "<table border=\"1\" class=\"dataframe\">\n",
       "  <thead>\n",
       "    <tr style=\"text-align: right;\">\n",
       "      <th></th>\n",
       "      <th>ch4_mixratio_real</th>\n",
       "      <th>ch4_mixratio_inpainted</th>\n",
       "    </tr>\n",
       "  </thead>\n",
       "  <tbody>\n",
       "    <tr>\n",
       "      <th>0</th>\n",
       "      <td>-0.251314</td>\n",
       "      <td>-11.685744</td>\n",
       "    </tr>\n",
       "    <tr>\n",
       "      <th>0</th>\n",
       "      <td>-16.891231</td>\n",
       "      <td>-13.207732</td>\n",
       "    </tr>\n",
       "    <tr>\n",
       "      <th>0</th>\n",
       "      <td>-0.405464</td>\n",
       "      <td>-12.075163</td>\n",
       "    </tr>\n",
       "    <tr>\n",
       "      <th>0</th>\n",
       "      <td>-0.587787</td>\n",
       "      <td>-13.303727</td>\n",
       "    </tr>\n",
       "  </tbody>\n",
       "</table>\n",
       "</div>"
      ],
      "text/plain": [
       "   ch4_mixratio_real  ch4_mixratio_inpainted\n",
       "0          -0.251314              -11.685744\n",
       "0         -16.891231              -13.207732\n",
       "0          -0.405464              -12.075163\n",
       "0          -0.587787              -13.303727"
      ]
     },
     "execution_count": 134,
     "metadata": {},
     "output_type": "execute_result"
    }
   ],
   "source": [
    "param = params[2]\n",
    "df[[param+'_real', param+'_inpainted']]"
   ]
  },
  {
   "cell_type": "code",
   "execution_count": 135,
   "metadata": {},
   "outputs": [
    {
     "name": "stdout",
     "output_type": "stream",
     "text": [
      "Done\n"
     ]
    }
   ],
   "source": [
    "print('Done')"
   ]
  },
  {
   "cell_type": "code",
   "execution_count": 136,
   "metadata": {},
   "outputs": [
    {
     "name": "stdout",
     "output_type": "stream",
     "text": [
      "Done\n"
     ]
    }
   ],
   "source": [
    "print('Done')"
   ]
  },
  {
   "cell_type": "code",
   "execution_count": 137,
   "metadata": {},
   "outputs": [
    {
     "name": "stdout",
     "output_type": "stream",
     "text": [
      "done\n"
     ]
    }
   ],
   "source": [
    "print('done')"
   ]
  },
  {
   "cell_type": "code",
   "execution_count": 138,
   "metadata": {},
   "outputs": [
    {
     "data": {
      "text/plain": [
       "(22321.0, 0.0)"
      ]
     },
     "execution_count": 138,
     "metadata": {},
     "output_type": "execute_result"
    },
    {
     "data": {
      "image/png": "[encoded data removed]",
      "text/plain": [
       "<Figure size 432x288 with 1 Axes>"
      ]
     },
     "metadata": {},
     "output_type": "display_data"
    }
   ],
   "source": [
    "its = np.array(n_iteration)\n",
    "plt.hist(its)\n",
    "plt.grid()\n",
    "\n",
    "its.mean(), its.std()"
   ]
  },
  {
   "cell_type": "code",
   "execution_count": null,
   "metadata": {},
   "outputs": [],
   "source": []
  }
 ],
 "metadata": {
  "kernelspec": {
   "display_name": "Python 3",
   "language": "python",
   "name": "python3"
  },
  "language_info": {
   "codemirror_mode": {
    "name": "ipython",
    "version": 3
   },
   "file_extension": ".py",
   "mimetype": "text/x-python",
   "name": "python",
   "nbconvert_exporter": "python",
   "pygments_lexer": "ipython3",
   "version": "3.6.8"
  }
 },
 "nbformat": 4,
 "nbformat_minor": 2
}
