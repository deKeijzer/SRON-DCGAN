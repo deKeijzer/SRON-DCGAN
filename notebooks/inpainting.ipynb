{
 "cells": [
  {
   "cell_type": "code",
   "execution_count": 1,
   "metadata": {},
   "outputs": [],
   "source": [
    "# Imports\n",
    "import random\n",
    "import sys\n",
    "import numpy as np\n",
    "import time\n",
    "import matplotlib.pyplot as plt\n",
    "import seaborn as sns\n",
    "\n",
    "import torch.nn as nn\n",
    "import torch.optim as optim\n",
    "import torchvision.utils as vutils\n",
    "import matplotlib.animation as animation\n",
    "from IPython.display import HTML\n",
    "\n",
    "import model\n",
    "from keijzer_exogan import *\n",
    "\n",
    "# initialize random seeds\n",
    "manualSeed = 999\n",
    "random.seed(manualSeed)\n",
    "torch.manual_seed(manualSeed)\n",
    "\n",
    "%matplotlib inline\n",
    "%config InlineBackend.print_figure_kwargs={'facecolor' : \"w\"} # Make sure the axis background of plots is white, this is usefull for the black theme in JupyterLab\n",
    "# Initialize default seaborn layout\n",
    "sns.set_palette(sns.hls_palette(8, l=.3, s=.8))\n",
    "sns.set(style='ticks')\n",
    "\n",
    "\n",
    "\"\"\"\n",
    "Local variables\n",
    "\"\"\"\n",
    "workers = 0 # Number of workers for dataloader, 0 when to_vram is enabled\n",
    "batch_size = 1 # using one image ofcourse\n",
    "image_size = 32\n",
    "nz = 100 # size of latent vector\n",
    "n_iters = 1*10**3 # number of iterations to do for inpainting\n",
    "torch.backends.cudnn.benchmark=True # Uses udnn auto-tuner to find the best algorithm to use for your hardware, speeds up training by almost 50%\n",
    "\n",
    "lr = 1e-2\n",
    "lamb1 = 1e4 #1e4\n",
    "lamb2 = 1e-3 # 1 , total_loss = lamb1*loss_context + lamb2*loss_perceptual\n",
    "\n",
    "lr_G = 2e-4\n",
    "beta1 = 0.5 # Beta1 hyperparam for Adam optimizers\n",
    "selected_gpus = [0] # Number of GPUs available. Use 0 for CPU mode."
   ]
  },
  {
   "cell_type": "code",
   "execution_count": 2,
   "metadata": {},
   "outputs": [
    {
     "data": {
      "text/plain": [
       "2"
      ]
     },
     "execution_count": 2,
     "metadata": {},
     "output_type": "execute_result"
    }
   ],
   "source": [
    "path = 'F:\\Jupyterlab\\SRON-DCGAN\\data\\\\' #notice how you dont put the last folder in here...\n",
    "\n",
    "images = np.load(path+'last.npy').astype('float32')\n",
    "images = images[:2] # select first ... images\n",
    "\n",
    "len(images)"
   ]
  },
  {
   "cell_type": "code",
   "execution_count": 3,
   "metadata": {},
   "outputs": [
    {
     "name": "stdout",
     "output_type": "stream",
     "text": [
      "Batch size:  1\n",
      "Number of GPUs used:  1\n",
      "Number of images:  2\n"
     ]
    }
   ],
   "source": [
    "print('Batch size: ', batch_size)\n",
    "\n",
    "\n",
    "# Number of training epochs\n",
    "\n",
    "# Learning rate for optimizers\n",
    "ngpu = len(selected_gpus)\n",
    "print('Number of GPUs used: ', ngpu)\n",
    "\n",
    "\n",
    "\"\"\"\n",
    "Load data and prepare DataLoader\n",
    "\"\"\"\n",
    "shuffle = True\n",
    "\n",
    "if shuffle:\n",
    "    np.random.shuffle(images) # shuffles the images\n",
    "\n",
    "images = images[:25] # 1200 should take ~ 1 hour\n",
    "#images = images[:int(len(images)*0.005)]\n",
    "print('Number of images: ', len(images))"
   ]
  },
  {
   "cell_type": "code",
   "execution_count": 4,
   "metadata": {},
   "outputs": [
    {
     "name": "stdout",
     "output_type": "stream",
     "text": [
      "Loading weights...\n",
      "done\n"
     ]
    }
   ],
   "source": [
    "dataset = numpy_dataset(data=images, to_vram=True) # to_vram pins it to all GPU's\n",
    "#dataset = numpy_dataset(data=images, to_vram=True, transform=transforms.Compose([transforms.Normalize((0.5, 0.5, 0.5), (0.5, 0.5, 0.5))])) # to_vram pins it to all GPU's\n",
    "\n",
    "# Create the dataloader\n",
    "dataloader = torch.utils.data.DataLoader(dataset, batch_size=batch_size,\n",
    "                                         shuffle=True, num_workers=workers, pin_memory=False)\n",
    "\n",
    "\"\"\"\n",
    "Load and setup models\n",
    "\"\"\"\n",
    "# Initialize cuda\n",
    "device = torch.device(\"cuda:\"+str(selected_gpus[0]) if (torch.cuda.is_available() and ngpu > 0) else \"cpu\")\n",
    "\n",
    "# Load models, set to evaluation mode since training is not needed (this also allows batchsize 1 to work with batchnorm2d layers)\n",
    "netG = model.Generator(ngpu).eval().to(device)\n",
    "netD = model.Discriminator(ngpu).eval().to(device)\n",
    "\n",
    "# Apply weights\n",
    "print('Loading weights...')\n",
    "try:\n",
    "    # Load saved weights\n",
    "    netG.load_state_dict(torch.load('gan_data//weights//netG_state_dict0', map_location=device)) #net.module..load_... for parallel model , net.load_... for single gpu model\n",
    "    netD.load_state_dict(torch.load('gan_data//weights//netD_state_dict0', map_location=device))\n",
    "except:\n",
    "    print('Could not load saved weights.')\n",
    "    sys.exit()\n",
    "\n",
    "\n",
    "\n",
    "\n",
    "\n",
    "\"\"\"\n",
    "Define input training stuff (fancy this up)\n",
    "\"\"\"\n",
    "G = netG\n",
    "D = netD\n",
    "z = torch.randn(1, nz, 1, 1, requires_grad=True, device=device)\n",
    "\n",
    "# Handle multi-gpu if desired\n",
    "if (device.type == 'cuda') and (ngpu > 1):\n",
    "    G = nn.DataParallel(G, device_ids=selected_gpus, output_device=device)\n",
    "    D = nn.DataParallel(D, device_ids=selected_gpus, output_device=device)\n",
    "    #z = nn.DataParallel(z, device_ids=selected_gpus, output_device=device)\n",
    "\n",
    "# Setup Adam optimizers for both G and D\n",
    "optimizerD = optim.Adam(netD.parameters(), lr=lr, betas=(beta1, 0.999)) # should be sgd\n",
    "optimizerG = optim.Adam(netG.parameters(), lr=lr_G, betas=(beta1, 0.999))\n",
    "\n",
    "print('done')"
   ]
  },
  {
   "cell_type": "markdown",
   "metadata": {},
   "source": [
    "# Show generated images"
   ]
  },
  {
   "cell_type": "code",
   "execution_count": 5,
   "metadata": {},
   "outputs": [
    {
     "data": {
      "image/png": "[encoded data removed]",
      "text/plain": [
       "<matplotlib.figure.Figure at 0x2438720a208>"
      ]
     },
     "metadata": {},
     "output_type": "display_data"
    }
   ],
   "source": [
    "from sklearn.preprocessing import MinMaxScaler\n",
    "\n",
    "z_tests = [torch.randn(1, nz, 1, 1, device=device) for _ in range(9)]\n",
    "\n",
    "plt.figure(figsize=(10,10))\n",
    "for i in range(9):\n",
    "    img = G(z_tests[i]).detach().cpu()[0, 0, :, :]\n",
    "    plt.subplot(3,3,i+1)\n",
    "    #scaler = MinMaxScaler((0, 1.2))\n",
    "    #img = scaler.fit_transform(img)\n",
    "    plt.imshow(img, cmap='gray', vmin=0, vmax=1.2)\n",
    "    #plt.imshow(img, cmap='gray')\n",
    "\n",
    "plt.tight_layout()"
   ]
  },
  {
   "cell_type": "code",
   "execution_count": 6,
   "metadata": {},
   "outputs": [
    {
     "data": {
      "text/plain": [
       "(tensor(-0.1358), tensor(1.1137), tensor(0.4608), tensor(0.2600))"
      ]
     },
     "execution_count": 6,
     "metadata": {},
     "output_type": "execute_result"
    }
   ],
   "source": [
    "img.min(), img.max(), img.mean(), img.std()"
   ]
  },
  {
   "cell_type": "markdown",
   "metadata": {},
   "source": [
    "## Make sure Z is different for each image"
   ]
  },
  {
   "cell_type": "code",
   "execution_count": 7,
   "metadata": {},
   "outputs": [
    {
     "data": {
      "image/png": "[encoded data removed]",
      "text/plain": [
       "<matplotlib.figure.Figure at 0x243872044e0>"
      ]
     },
     "metadata": {},
     "output_type": "display_data"
    }
   ],
   "source": [
    "plt.figure(figsize=(10,10))\n",
    "for i,z_t in enumerate(z_tests):\n",
    "    z_t = z_t.detach().cpu().numpy()\n",
    "    \n",
    "    plt.subplot(3,3,i+1)\n",
    "    \n",
    "    plt.hist(z_t.flatten())\n",
    "    plt.grid()\n",
    "    \n",
    "    plt.tight_layout()\n",
    "    #print(z_t[0].flatten())"
   ]
  },
  {
   "cell_type": "markdown",
   "metadata": {},
   "source": [
    "## Show first 9 selected images"
   ]
  },
  {
   "cell_type": "code",
   "execution_count": 8,
   "metadata": {},
   "outputs": [
    {
     "data": {
      "image/png": "[encoded data removed]",
      "text/plain": [
       "<matplotlib.figure.Figure at 0x243d0e1e0f0>"
      ]
     },
     "metadata": {},
     "output_type": "display_data"
    }
   ],
   "source": [
    "plt.figure(figsize=(10,10))\n",
    "for i in range(9):\n",
    "    try:\n",
    "        img = images[i]\n",
    "        plt.subplot(3,3,i+1)\n",
    "        plt.imshow(img[0, :, :], cmap='gray', vmin=0, vmax=1.2)\n",
    "    except:\n",
    "        pass\n",
    "\n",
    "plt.tight_layout()"
   ]
  },
  {
   "cell_type": "code",
   "execution_count": 9,
   "metadata": {},
   "outputs": [
    {
     "data": {
      "text/plain": [
       "(-1.1428571, 1.1428572, 0.4341848, 0.4427339)"
      ]
     },
     "execution_count": 9,
     "metadata": {},
     "output_type": "execute_result"
    }
   ],
   "source": [
    "img.min(), img.max(), img.mean(), img.std()"
   ]
  },
  {
   "cell_type": "markdown",
   "metadata": {},
   "source": [
    "# Visualizing the weights for debugging purposes"
   ]
  },
  {
   "cell_type": "code",
   "execution_count": 10,
   "metadata": {},
   "outputs": [
    {
     "name": "stdout",
     "output_type": "stream",
     "text": [
      "Layer: 0 \t n_weights: 512 \t std: 0.0440 \t mean: 0.0011\n",
      "Layer: 1 \t n_weights: 16384 \t std: 0.3539 \t mean: -0.0055\n",
      "Layer: 2 \t n_weights: 32768 \t std: 0.6005 \t mean: 0.0141\n",
      "Layer: 3 \t n_weights: 131072 \t std: 0.8583 \t mean: 0.0585\n",
      "Layer: 4 \t n_weights: 524288 \t std: 0.4682 \t mean: 0.0494\n",
      "Layer: 5 \t n_weights: 256 \t std: 0.0052 \t mean: 0.0001\n"
     ]
    },
    {
     "data": {
      "image/png": "[encoded data removed]",
      "text/plain": [
       "<matplotlib.figure.Figure at 0x243e09fa630>"
      ]
     },
     "metadata": {},
     "output_type": "display_data"
    }
   ],
   "source": [
    "weights = [param.data.cpu().numpy().flatten() for param in netD.parameters()]\n",
    "\n",
    "plt.figure(figsize=(10,10))\n",
    "for i,layer_weights in enumerate(weights):\n",
    "    print('Layer: %s \\t n_weights: %s \\t std: %.4f \\t mean: %.4f' % (i, len(layer_weights), layer_weights.std(), layer_weights.mean()))\n",
    "    plt.subplot(3,2,i+1)\n",
    "    plt.title('netD layer %s weights' % i)\n",
    "    plt.hist(layer_weights, bins=100)\n",
    "    plt.grid()\n",
    "    plt.tight_layout()"
   ]
  },
  {
   "cell_type": "code",
   "execution_count": 11,
   "metadata": {},
   "outputs": [
    {
     "name": "stdout",
     "output_type": "stream",
     "text": [
      "Layer: 0 \t n_weights: 409600 \t std: 0.0856 \t mean: 0.0000\n",
      "Layer: 1 \t n_weights: 524288 \t std: 0.1200 \t mean: -0.0086\n",
      "Layer: 2 \t n_weights: 131072 \t std: 0.1566 \t mean: -0.0002\n",
      "Layer: 3 \t n_weights: 32768 \t std: 0.1286 \t mean: -0.0113\n",
      "Layer: 4 \t n_weights: 16384 \t std: 0.1160 \t mean: -0.0033\n",
      "Layer: 5 \t n_weights: 512 \t std: 0.0158 \t mean: 0.0028\n"
     ]
    },
    {
     "data": {
      "image/png": "[encoded data removed]",
      "text/plain": [
       "<matplotlib.figure.Figure at 0x243ea822c18>"
      ]
     },
     "metadata": {},
     "output_type": "display_data"
    }
   ],
   "source": [
    "weights = [param.data.cpu().numpy().flatten() for param in netG.parameters()] # where param.data are the weights of the i-th layer\n",
    "\n",
    "plt.figure(figsize=(10,10))\n",
    "for i,layer_weights in enumerate(weights):\n",
    "    print('Layer: %s \\t n_weights: %s \\t std: %.4f \\t mean: %.4f' % (i, len(layer_weights), layer_weights.std(), layer_weights.mean()))\n",
    "    plt.subplot(3,2,i+1)\n",
    "    plt.title('netG layer %s weights' % i)\n",
    "    plt.hist(layer_weights, bins=100)\n",
    "    plt.grid()\n",
    "    plt.tight_layout()"
   ]
  },
  {
   "cell_type": "markdown",
   "metadata": {},
   "source": [
    "# Inpainting\n",
    "The corrupted image $y$ is mapped to the closest $z$ in the latent representation space, this mapping is denoted as $\\hat{z}$.\n",
    "    \n",
    "$\\hat{z} = \\operatorname{arg\\,min}_z \\{ \\mathcal{L}_c(z |y, M) + \\mathcal{L}_p (z) \\}$\n",
    "\n",
    "where\n",
    "\n",
    "$\\mathcal{L}_c(z |y, M) = || M \\bigodot G(z) - M \\bigodot y||_1 = || M \\bigodot (G(z)-y) ||_1 $\n",
    "\n",
    "with $\\mathcal{L}_c$ being contextual loss and $M$ being a binary mask with the same size as $y$,\n",
    "\n",
    "$\\mathcal{L}_p (z) = \\lambda \\operatorname{log}(1-D(G(z)))$\n",
    "\n",
    "with $\\mathcal{L}_p$ being perceptual loss and $D$ being the discriminator.\n",
    "  \n",
    "Once $G(\\hat{z})$ is generated, the final solution $\\hat{x}$ is calculated as\n",
    "\n",
    "$\\hat{x} = \\operatorname{arg\\, min}_x ||\\nabla x - \\nabla G(\\hat{z}) ||^2_2$  \n",
    "\n",
    "(substitute $x_i = y_i$ for $M_i = 1$).\n",
    "\n",
    "-----\n",
    "\n",
    "$|| ... ||$ is done by `torch.norm()`.  \n",
    "$... \\bigodot ...$ is done by `torch.mul()`.  \n",
    "-----\n",
    "TODO: Implement $\\hat{x} = \\operatorname{arg\\, min}_x ||\\nabla x - \\nabla G(\\hat{z}) ||^2_2$    \n",
    "Currently $\\hat{x} = G(\\hat{z}) \\bigodot (1 -M)+y$"
   ]
  },
  {
   "cell_type": "code",
   "execution_count": 12,
   "metadata": {},
   "outputs": [
    {
     "data": {
      "text/html": [
       "<div>\n",
       "<style scoped>\n",
       "    .dataframe tbody tr th:only-of-type {\n",
       "        vertical-align: middle;\n",
       "    }\n",
       "\n",
       "    .dataframe tbody tr th {\n",
       "        vertical-align: top;\n",
       "    }\n",
       "\n",
       "    .dataframe thead th {\n",
       "        text-align: right;\n",
       "    }\n",
       "</style>\n",
       "<table border=\"1\" class=\"dataframe\">\n",
       "  <thead>\n",
       "    <tr style=\"text-align: right;\">\n",
       "      <th></th>\n",
       "      <th>Unnamed: 0</th>\n",
       "      <th>x</th>\n",
       "    </tr>\n",
       "  </thead>\n",
       "  <tbody>\n",
       "    <tr>\n",
       "      <th>129</th>\n",
       "      <td>129</td>\n",
       "      <td>13.900046</td>\n",
       "    </tr>\n",
       "    <tr>\n",
       "      <th>130</th>\n",
       "      <td>130</td>\n",
       "      <td>13.762421</td>\n",
       "    </tr>\n",
       "    <tr>\n",
       "      <th>131</th>\n",
       "      <td>131</td>\n",
       "      <td>13.626160</td>\n",
       "    </tr>\n",
       "    <tr>\n",
       "      <th>132</th>\n",
       "      <td>132</td>\n",
       "      <td>13.491247</td>\n",
       "    </tr>\n",
       "    <tr>\n",
       "      <th>133</th>\n",
       "      <td>133</td>\n",
       "      <td>13.357671</td>\n",
       "    </tr>\n",
       "    <tr>\n",
       "      <th>134</th>\n",
       "      <td>134</td>\n",
       "      <td>13.225416</td>\n",
       "    </tr>\n",
       "    <tr>\n",
       "      <th>135</th>\n",
       "      <td>135</td>\n",
       "      <td>13.094472</td>\n",
       "    </tr>\n",
       "    <tr>\n",
       "      <th>136</th>\n",
       "      <td>136</td>\n",
       "      <td>12.964823</td>\n",
       "    </tr>\n",
       "    <tr>\n",
       "      <th>137</th>\n",
       "      <td>137</td>\n",
       "      <td>12.836459</td>\n",
       "    </tr>\n",
       "    <tr>\n",
       "      <th>138</th>\n",
       "      <td>138</td>\n",
       "      <td>12.709365</td>\n",
       "    </tr>\n",
       "    <tr>\n",
       "      <th>139</th>\n",
       "      <td>139</td>\n",
       "      <td>12.583530</td>\n",
       "    </tr>\n",
       "    <tr>\n",
       "      <th>140</th>\n",
       "      <td>140</td>\n",
       "      <td>12.458940</td>\n",
       "    </tr>\n",
       "    <tr>\n",
       "      <th>141</th>\n",
       "      <td>141</td>\n",
       "      <td>12.335585</td>\n",
       "    </tr>\n",
       "    <tr>\n",
       "      <th>142</th>\n",
       "      <td>142</td>\n",
       "      <td>12.213450</td>\n",
       "    </tr>\n",
       "    <tr>\n",
       "      <th>143</th>\n",
       "      <td>143</td>\n",
       "      <td>12.092525</td>\n",
       "    </tr>\n",
       "    <tr>\n",
       "      <th>144</th>\n",
       "      <td>144</td>\n",
       "      <td>11.972797</td>\n",
       "    </tr>\n",
       "    <tr>\n",
       "      <th>145</th>\n",
       "      <td>145</td>\n",
       "      <td>11.854254</td>\n",
       "    </tr>\n",
       "    <tr>\n",
       "      <th>146</th>\n",
       "      <td>146</td>\n",
       "      <td>11.736886</td>\n",
       "    </tr>\n",
       "    <tr>\n",
       "      <th>147</th>\n",
       "      <td>147</td>\n",
       "      <td>11.620679</td>\n",
       "    </tr>\n",
       "    <tr>\n",
       "      <th>148</th>\n",
       "      <td>148</td>\n",
       "      <td>11.505623</td>\n",
       "    </tr>\n",
       "    <tr>\n",
       "      <th>149</th>\n",
       "      <td>149</td>\n",
       "      <td>11.391705</td>\n",
       "    </tr>\n",
       "    <tr>\n",
       "      <th>150</th>\n",
       "      <td>150</td>\n",
       "      <td>11.278916</td>\n",
       "    </tr>\n",
       "    <tr>\n",
       "      <th>151</th>\n",
       "      <td>151</td>\n",
       "      <td>11.167244</td>\n",
       "    </tr>\n",
       "    <tr>\n",
       "      <th>152</th>\n",
       "      <td>152</td>\n",
       "      <td>11.056677</td>\n",
       "    </tr>\n",
       "    <tr>\n",
       "      <th>153</th>\n",
       "      <td>153</td>\n",
       "      <td>10.947205</td>\n",
       "    </tr>\n",
       "    <tr>\n",
       "      <th>154</th>\n",
       "      <td>154</td>\n",
       "      <td>10.838817</td>\n",
       "    </tr>\n",
       "    <tr>\n",
       "      <th>155</th>\n",
       "      <td>155</td>\n",
       "      <td>10.731502</td>\n",
       "    </tr>\n",
       "    <tr>\n",
       "      <th>156</th>\n",
       "      <td>156</td>\n",
       "      <td>10.625249</td>\n",
       "    </tr>\n",
       "    <tr>\n",
       "      <th>157</th>\n",
       "      <td>157</td>\n",
       "      <td>10.520049</td>\n",
       "    </tr>\n",
       "    <tr>\n",
       "      <th>158</th>\n",
       "      <td>158</td>\n",
       "      <td>10.415890</td>\n",
       "    </tr>\n",
       "    <tr>\n",
       "      <th>159</th>\n",
       "      <td>159</td>\n",
       "      <td>10.312762</td>\n",
       "    </tr>\n",
       "    <tr>\n",
       "      <th>160</th>\n",
       "      <td>160</td>\n",
       "      <td>10.210656</td>\n",
       "    </tr>\n",
       "    <tr>\n",
       "      <th>161</th>\n",
       "      <td>161</td>\n",
       "      <td>10.109560</td>\n",
       "    </tr>\n",
       "    <tr>\n",
       "      <th>162</th>\n",
       "      <td>162</td>\n",
       "      <td>10.009466</td>\n",
       "    </tr>\n",
       "  </tbody>\n",
       "</table>\n",
       "</div>"
      ],
      "text/plain": [
       "     Unnamed: 0          x\n",
       "129         129  13.900046\n",
       "130         130  13.762421\n",
       "131         131  13.626160\n",
       "132         132  13.491247\n",
       "133         133  13.357671\n",
       "134         134  13.225416\n",
       "135         135  13.094472\n",
       "136         136  12.964823\n",
       "137         137  12.836459\n",
       "138         138  12.709365\n",
       "139         139  12.583530\n",
       "140         140  12.458940\n",
       "141         141  12.335585\n",
       "142         142  12.213450\n",
       "143         143  12.092525\n",
       "144         144  11.972797\n",
       "145         145  11.854254\n",
       "146         146  11.736886\n",
       "147         147  11.620679\n",
       "148         148  11.505623\n",
       "149         149  11.391705\n",
       "150         150  11.278916\n",
       "151         151  11.167244\n",
       "152         152  11.056677\n",
       "153         153  10.947205\n",
       "154         154  10.838817\n",
       "155         155  10.731502\n",
       "156         156  10.625249\n",
       "157         157  10.520049\n",
       "158         158  10.415890\n",
       "159         159  10.312762\n",
       "160         160  10.210656\n",
       "161         161  10.109560\n",
       "162         162  10.009466"
      ]
     },
     "execution_count": 12,
     "metadata": {},
     "output_type": "execute_result"
    }
   ],
   "source": [
    "ind = pd.read_csv('wavelengths_and_indices.csv')  # where x is the wavelength\n",
    "\n",
    "ind[(ind.x > 10) & (ind.x <= 14)]"
   ]
  },
  {
   "cell_type": "code",
   "execution_count": 13,
   "metadata": {},
   "outputs": [],
   "source": [
    "def create_mask():\n",
    "    \n",
    "    mask = np.full([1,1,32,32], 1) # init array with 0.5's\n",
    "    mask = torch.from_numpy(mask).to(device)\n",
    "    \n",
    "    #mask = torch.ones([1, 1, 32, 32]).to(device) # create mask with 1's in the shape of image\n",
    "    \n",
    "    #print(\"mask.shape\", mask.shape)\n",
    "\n",
    "    # use a random 'easy' mask\n",
    "    mask[:, :, :16, 25:] = 0\n",
    "    \n",
    "    # The noise doesn't matter for conceptual loss\n",
    "    mask[:, :, 19:, :] = 0\n",
    "    \n",
    "    \"\"\"Weighted mask\"\"\"\n",
    "    \n",
    "    # Normalization factors\n",
    "    mask[:, :, 16:19, :] = 2\n",
    "    \n",
    "    mask = mask.float() # make sure dtype is float, torch was complaining during inpainting that this is a double\n",
    "    \n",
    "    return mask"
   ]
  },
  {
   "cell_type": "markdown",
   "metadata": {},
   "source": [
    "## Visualize the mask"
   ]
  },
  {
   "cell_type": "code",
   "execution_count": 14,
   "metadata": {},
   "outputs": [
    {
     "data": {
      "text/plain": [
       "<matplotlib.image.AxesImage at 0x243c2949a90>"
      ]
     },
     "execution_count": 14,
     "metadata": {},
     "output_type": "execute_result"
    },
    {
     "data": {
      "image/png": "[encoded data removed]",
      "text/plain": [
       "<matplotlib.figure.Figure at 0x2441561ce10>"
      ]
     },
     "metadata": {},
     "output_type": "display_data"
    }
   ],
   "source": [
    "m = create_mask().cpu()[0, 0, :, :]\n",
    "plt.imshow(m, cmap='gray', vmin=0, vmax=1.2)"
   ]
  },
  {
   "cell_type": "code",
   "execution_count": 15,
   "metadata": {},
   "outputs": [],
   "source": [
    "t = m.cpu().numpy().flatten()\n",
    "\n",
    "for i in range(len(t)):\n",
    "    if np.isnan(t[i]):\n",
    "        print('nan')"
   ]
  },
  {
   "cell_type": "code",
   "execution_count": 16,
   "metadata": {},
   "outputs": [],
   "source": [
    "# Lists to keep track of progress\n",
    "real_images = []\n",
    "masked_images= []\n",
    "inpainted_images = []\n",
    "final_inpainted_images = [] # last inpainted image for each input image\n",
    "n_iteration = []"
   ]
  },
  {
   "cell_type": "code",
   "execution_count": 17,
   "metadata": {},
   "outputs": [
    {
     "name": "stdout",
     "output_type": "stream",
     "text": [
      " image [2/2] iteration :  950 , context_loss: 1.656, perceptual_loss: -0.000464, total_loss: 1.655814, min L: 1.655814, 0.000000, D(G(z)): 0.371050, ETA: 0h 29m"
     ]
    }
   ],
   "source": [
    "MSELoss = nn.MSELoss()\n",
    "L1Loss = nn.L1Loss() # MAE\n",
    "SmoothL1Loss = nn.SmoothL1Loss()\n",
    "\n",
    "\"\"\"\n",
    "Inpainting\n",
    "\"\"\"\n",
    "for i, data in enumerate(dataloader, 0): # batches per epoch\n",
    "    real_cpu = data.to(device)\n",
    "    b_size = real_cpu.size(0) # this is one ofc, it's one image we're trying to inpaint\n",
    "\n",
    "    #print(\"data.shape: \", data.shape)\n",
    "    image = data.to(device) # select the image (Channel, Height, Width), this is the original unmasked input image\n",
    "    \n",
    "    real_images.append(image)\n",
    "    #print(\"image.shape: \", image.shape)\n",
    "\n",
    "    \"\"\"Mask the image\"\"\"\n",
    "    mask = create_mask()\n",
    "\n",
    "    masked_image = torch.mul(image, mask).to(device) #image bigodot mask\n",
    "    masked_images.append(masked_image)\n",
    "    #print('masked image shape', masked_image.shape)\n",
    "    #plt.imshow(masked_image.detach().cpu()[0, 0, :, :], cmap='gray') # plot the masked image\n",
    "\n",
    "    opt = optim.Adam([z], lr=lr)\n",
    "\n",
    "    # what's v and m?\n",
    "    v = torch.tensor(0, dtype=torch.float32, device=device)\n",
    "    m = torch.tensor(0, dtype=torch.float32, device=device)\n",
    "\n",
    "\n",
    "    \"\"\"Start the inpainting process\"\"\"\n",
    "    early_stopping_n_iters = 0\n",
    "    early_stopping_min_loss = 999999 # set to random high number to initialize\n",
    "    for iteration in range(n_iters):\n",
    "        t1 = time.time()\n",
    "        if z.grad is not None:\n",
    "            z.grad.data.zero_()\n",
    "\n",
    "        G.zero_grad()\n",
    "        D.zero_grad()\n",
    "\n",
    "\n",
    "        image_generated = G(z) # generated image G(z)\n",
    "        image_generated_masked = torch.mul(image_generated, mask) # G(z) bigodot M\n",
    "        image_generated_inpainted = torch.mul(image_generated, (1-mask))+masked_image\n",
    "        \n",
    "        if (iteration % 100 == 0):\n",
    "            inpainted_images.append(image_generated_inpainted)\n",
    "\n",
    "        #print(\"image_generated_inpainted.shape : \",image_generated_inpainted.shape)\n",
    "\n",
    "        t = image_generated_inpainted.detach().cpu()[0, 0, :, :]\n",
    "\n",
    "        # TODO: why does this already look real?\n",
    "        #plt.imshow(t, cmap='gray') # plot the masked image \n",
    "\n",
    "        \"\"\"Calculate losses\"\"\"\n",
    "        #loss_context = torch.norm(image_generated_masked-masked_image, p=1) #what's p=1?\n",
    "        loss_context = lamb1*MSELoss(image_generated_masked,masked_image)\n",
    "        #loss_context = L1Loss(image_generated_masked, masked_image)*10\n",
    "        #loss_context = SmoothL1Loss(image_generated_masked, masked_image)*10\n",
    "        \n",
    "        discriminator_output = netD(image_generated_inpainted) - 0.005 # -0.005 offset so loss_perceptual doesn't become 1 when D(G(z)) == 1.000000\n",
    "        #print(\"Discriminator output: \", discriminator_output)\n",
    "\n",
    "        labels = torch.full((b_size,), 1, device=device)\n",
    "        loss_perceptual = lamb2*torch.log(1-discriminator_output)\n",
    "        \n",
    "        #if loss_perceptual == -np.inf:\n",
    "        #    #print('loss perceptual == -np.inf()')\n",
    "        #    loss_perceptual = torch.tensor(-10, dtype=torch.float32, device=device)\n",
    "        \n",
    "        #print(loss_perceptual.data.cpu().numpy().flatten()[0])\n",
    "\n",
    "        total_loss = loss_context + loss_perceptual\n",
    "        #total_loss = loss_context + 10*discriminator_output\n",
    "        \n",
    "        # grab the values from losses for printing\n",
    "        loss_perceptual = loss_perceptual.data.cpu().numpy().flatten()[0]\n",
    "        #loss_perceptual = 0\n",
    "        loss_context = loss_context.data.cpu().numpy().flatten()[0]\n",
    "\n",
    "\n",
    "\n",
    "        total_loss.backward()\n",
    "        opt.step()\n",
    "        \n",
    "        total_loss = total_loss.data.cpu().numpy().flatten()[0]\n",
    "        \n",
    "        \"\"\"Early stopping\"\"\" # TODO: \n",
    "        if iteration > 0:\n",
    "            delta_loss = early_stopping_min_loss - total_loss\n",
    "            delta_iters = iteration - iter1\n",
    "            \n",
    "            if (delta_loss < 0.01) or (total_loss > early_stopping_min_loss):\n",
    "                early_stopping_n_iters += 1\n",
    "            else:\n",
    "                #print('set to zero')\n",
    "                early_stopping_n_iters = 0\n",
    "            \n",
    "            if early_stopping_n_iters > 1000:\n",
    "                n_iteration.append(iteration)\n",
    "                break\n",
    "            \n",
    "        loss1 = total_loss\n",
    "        iter1 = iteration\n",
    "        \n",
    "        if total_loss < early_stopping_min_loss:\n",
    "            early_stopping_min_loss = total_loss\n",
    "            best_inpained_image = image_generated_inpainted.detach().cpu()\n",
    "            early_stopping_n_iters = 0\n",
    "            #print('min loss: ', early_stopping_min_loss)\n",
    "        \n",
    "        t2 = time.time()\n",
    "        \n",
    "        \"\"\"Calculate ETA\"\"\"\n",
    "        t_per_iter = t2 - t1 # time per iteration in seconds\n",
    "        \n",
    "        eta = t_per_iter * (n_iters - iteration) + t_per_iter* (len(images)-i+1) * n_iters # time left to finish epoch/image + time left to finish all epochs/images in SECONDS\n",
    "        eta_h = (eta/ 60) // 60 # divisor integer\n",
    "        eta_m = eta % 60 # get remainer\n",
    "        \n",
    "        if (iteration % 50 == 0):\n",
    "            print(\"\\r image [{}/{}] iteration : {:4} , context_loss: {:.3f}, perceptual_loss: {:3f}, total_loss: {:3f}, min L: {:3f}, {:1f}, D(G(z)): {:3f}, ETA: {:.0f}h {:.0f}m\".format(i+1, \n",
    "            len(images), iteration, loss_context,loss_perceptual, total_loss,early_stopping_min_loss, early_stopping_n_iters, discriminator_output.data.cpu().numpy().flatten()[0], eta_h, eta_m),end=\"\")\n",
    "            \n",
    "\n",
    "            \n",
    "        \"\"\"NaN monitor\"\"\"\n",
    "        #if (loss_context or loss_perceptual == np.nan()) and iteration >64:\n",
    "        #    print(r'='*10 + '     NaN     '+ '='*10)\n",
    "        #    print(loss_context, loss_percept  ual)\n",
    "            #break\n",
    "        \n",
    "    final_inpainted_images.append(best_inpained_image.detach().cpu())"
   ]
  },
  {
   "cell_type": "code",
   "execution_count": 19,
   "metadata": {},
   "outputs": [
    {
     "data": {
      "text/plain": [
       "2"
      ]
     },
     "execution_count": 19,
     "metadata": {},
     "output_type": "execute_result"
    }
   ],
   "source": [
    "len(real_images)"
   ]
  },
  {
   "cell_type": "markdown",
   "metadata": {},
   "source": [
    "## Inverse transform ASPA to spectrum"
   ]
  },
  {
   "cell_type": "code",
   "execution_count": 122,
   "metadata": {},
   "outputs": [],
   "source": [
    "def inverse_scale(X_, X_min, X_max):\n",
    "    \"\"\"\n",
    "    X_ is scaled X\n",
    "    X is unscaled X_\n",
    "    \"\"\"\n",
    "    X = X_ * (X_max - X_min) + X_min\n",
    "    return X"
   ]
  },
  {
   "cell_type": "code",
   "execution_count": 130,
   "metadata": {},
   "outputs": [
    {
     "name": "stdout",
     "output_type": "stream",
     "text": [
      "Spectrum length:  400\n"
     ]
    },
    {
     "data": {
      "image/png": "[encoded data removed]",
      "text/plain": [
       "<matplotlib.figure.Figure at 0x2440e9a0630>"
      ]
     },
     "metadata": {},
     "output_type": "display_data"
    }
   ],
   "source": [
    "i = 0\n",
    "aspa = real_images[i].detach().cpu().numpy()[0, 0, :, :]\n",
    "\n",
    "\n",
    "plt.imshow(aspa, cmap='gray', vmin=0, vmax=1.2)\n",
    "\n",
    "\n",
    "\n",
    "n_bins = 8 # amount of bins the \n",
    "\"\"\"Image parts from the aspa, still encoded\"\"\"\n",
    "spectrum = aspa[:16, :25]\n",
    "mins_ = [aspa[16:17, i*4:i*4+4] for i in range(n_bins)]\n",
    "stds_ = [aspa[17:18, i*4:i*4+4] for i in range(n_bins)]\n",
    "maxs_ = [aspa[18:19, i*4:i*4+4] for i in range(n_bins)]\n",
    "\n",
    "\"\"\"Decode to arrays\"\"\"\n",
    "spectrum = spectrum.flatten()\n",
    "\n",
    "mins_ = [inverse_scale(mins_[i].mean(), 0.005, 0.03) for i in range(n_bins)]\n",
    "stds_ = [inverse_scale(stds_[i].mean(), 0.005, 0.03) for i in range(n_bins)]\n",
    "maxs_ = [inverse_scale(maxs_[i].mean(), 1e-7, 1e-4) for i in range(n_bins)]"
   ]
  },
  {
   "cell_type": "code",
   "execution_count": 131,
   "metadata": {},
   "outputs": [
    {
     "data": {
      "text/html": [
       "<div>\n",
       "<style scoped>\n",
       "    .dataframe tbody tr th:only-of-type {\n",
       "        vertical-align: middle;\n",
       "    }\n",
       "\n",
       "    .dataframe tbody tr th {\n",
       "        vertical-align: top;\n",
       "    }\n",
       "\n",
       "    .dataframe thead th {\n",
       "        text-align: right;\n",
       "    }\n",
       "</style>\n",
       "<table border=\"1\" class=\"dataframe\">\n",
       "  <thead>\n",
       "    <tr style=\"text-align: right;\">\n",
       "      <th></th>\n",
       "      <th>x</th>\n",
       "      <th>y</th>\n",
       "    </tr>\n",
       "  </thead>\n",
       "  <tbody>\n",
       "    <tr>\n",
       "      <th>115</th>\n",
       "      <td>15.977744</td>\n",
       "      <td>0.756169</td>\n",
       "    </tr>\n",
       "    <tr>\n",
       "      <th>116</th>\n",
       "      <td>15.819548</td>\n",
       "      <td>0.229372</td>\n",
       "    </tr>\n",
       "    <tr>\n",
       "      <th>117</th>\n",
       "      <td>15.662919</td>\n",
       "      <td>0.069190</td>\n",
       "    </tr>\n",
       "    <tr>\n",
       "      <th>118</th>\n",
       "      <td>15.507841</td>\n",
       "      <td>0.491981</td>\n",
       "    </tr>\n",
       "    <tr>\n",
       "      <th>119</th>\n",
       "      <td>15.354298</td>\n",
       "      <td>0.064384</td>\n",
       "    </tr>\n",
       "  </tbody>\n",
       "</table>\n",
       "</div>"
      ],
      "text/plain": [
       "             x         y\n",
       "115  15.977744  0.756169\n",
       "116  15.819548  0.229372\n",
       "117  15.662919  0.069190\n",
       "118  15.507841  0.491981\n",
       "119  15.354298  0.064384"
      ]
     },
     "execution_count": 131,
     "metadata": {},
     "output_type": "execute_result"
    }
   ],
   "source": [
    "df = pd.read_csv('wavelengths_and_indices.csv', header=None, skiprows=[0], usecols=[1]) # load wavelengths\n",
    "df.columns = ['x']\n",
    "df = df.loc[df['x'] <= 16] # select only wavelengths <= 16\n",
    "df['y'] = spectrum\n",
    "\n",
    "df.head()"
   ]
  },
  {
   "cell_type": "code",
   "execution_count": 126,
   "metadata": {},
   "outputs": [
    {
     "data": {
      "text/plain": [
       "[<matplotlib.lines.Line2D at 0x2440e98d780>]"
      ]
     },
     "execution_count": 126,
     "metadata": {},
     "output_type": "execute_result"
    },
    {
     "data": {
      "image/png": "[encoded data removed]",
      "text/plain": [
       "<matplotlib.figure.Figure at 0x2440e99a908>"
      ]
     },
     "metadata": {},
     "output_type": "display_data"
    }
   ],
   "source": [
    "plt.plot(df.x, df.y)"
   ]
  },
  {
   "cell_type": "code",
   "execution_count": 127,
   "metadata": {},
   "outputs": [
    {
     "data": {
      "image/png": "[encoded data removed]",
      "text/plain": [
       "<matplotlib.figure.Figure at 0x2440e9b6940>"
      ]
     },
     "metadata": {},
     "output_type": "display_data"
    }
   ],
   "source": [
    "\"\"\"select spectrum bins\"\"\"\n",
    "bin1 = df[df.x <= 0.8]\n",
    "bin2 = df[(df.x > 0.8) & (df.x <= 1.3)] # select data between 2 and 4 micron\n",
    "bin3 = df[(df.x > 1.3) & (df.x <= 2)]\n",
    "bin4 = df[(df.x > 2) & (df.x <= 4)]\n",
    "bin5 = df[(df.x > 4) & (df.x <= 6)]\n",
    "bin6 = df[(df.x > 6) & (df.x <= 10)]\n",
    "bin7 = df[(df.x > 10) & (df.x <= 14)]\n",
    "bin8 = df[df.x > 14]\n",
    "\n",
    "bins = [bin8, bin7, bin6, bin5, bin4, bin3, bin2, bin1]\n",
    "for b in bins:\n",
    "    plt.plot(b['x'], b['y'])"
   ]
  },
  {
   "cell_type": "code",
   "execution_count": 135,
   "metadata": {},
   "outputs": [
    {
     "data": {
      "text/plain": [
       "[115    3.240650e+27\n",
       " 116    2.040818e+27\n",
       " 117    1.675988e+27\n",
       " 118    2.638936e+27\n",
       " 119    1.665041e+27\n",
       " 120    1.908538e+27\n",
       " 121    2.610379e+27\n",
       " 122    1.518400e+27\n",
       " 123    2.056934e+27\n",
       " 124    1.713457e+27\n",
       " 125    2.413616e+27\n",
       " 126    2.256511e+27\n",
       " 127    1.918916e+27\n",
       " 128    2.549293e+27\n",
       " Name: y, dtype: float32, 129    1294.217773\n",
       " 130    1549.332275\n",
       " 131    1027.777100\n",
       " 132    1422.363647\n",
       " 133    1311.759155\n",
       " 134    1382.797241\n",
       " 135    1487.326538\n",
       " 136    1547.846924\n",
       " 137    1460.517578\n",
       " 138    1556.437500\n",
       " 139    1464.403564\n",
       " 140    1613.321045\n",
       " 141    1340.505737\n",
       " 142    1316.745117\n",
       " 143    1672.346680\n",
       " 144    1594.958252\n",
       " 145    1779.760742\n",
       " 146    1535.800659\n",
       " 147    1475.275635\n",
       " 148    1632.607788\n",
       " 149    1610.250977\n",
       " 150    1754.243652\n",
       " 151    1837.675537\n",
       " 152    1621.409546\n",
       " 153    1605.797607\n",
       " 154    1436.746826\n",
       " 155    1400.103882\n",
       " 156    1464.756348\n",
       " 157    2000.000000\n",
       " 158    1414.996338\n",
       " 159    1563.745117\n",
       " 160    1527.005859\n",
       " 161    1505.236572\n",
       " 162    1209.121582\n",
       " Name: y, dtype: float32, 163    -7.477767\n",
       " 164    -9.045193\n",
       " 165    -8.853013\n",
       " 166   -10.591159\n",
       " 167   -10.493903\n",
       " 168    -8.677265\n",
       " 169    -9.899714\n",
       " 170   -12.792231\n",
       " 171   -13.190973\n",
       " 172    -8.317170\n",
       " 173    -8.340896\n",
       " 174   -12.722862\n",
       " 175   -12.134069\n",
       " 176   -11.703739\n",
       " 177   -13.828213\n",
       " 178   -11.757919\n",
       " 179    -8.902247\n",
       " 180   -15.717008\n",
       " 181    -9.178805\n",
       " 182   -15.042097\n",
       " 183    -8.666595\n",
       " 184   -11.478174\n",
       " 185   -10.357161\n",
       " 186   -13.713411\n",
       " 187    -7.793873\n",
       " 188   -13.356065\n",
       " 189   -10.948566\n",
       " 190   -13.689635\n",
       " 191    -8.364520\n",
       " 192   -12.192597\n",
       " 193   -11.096381\n",
       " 194   -13.357801\n",
       " 195    -7.883313\n",
       " 196   -11.832970\n",
       " 197   -11.530489\n",
       " 198   -10.047289\n",
       " 199    -8.593341\n",
       " 200   -11.316283\n",
       " 201   -10.775547\n",
       " 202    -9.374134\n",
       " 203   -11.583500\n",
       " 204   -11.771753\n",
       " 205   -10.474482\n",
       " 206    -9.794616\n",
       " 207   -14.071321\n",
       " 208    -8.085062\n",
       " 209   -11.694115\n",
       " 210    -9.105968\n",
       " 211    -9.662397\n",
       " 212   -13.652733\n",
       " 213   -10.850826\n",
       " Name: y, dtype: float32, 214     81757784.0\n",
       " 215     87516424.0\n",
       " 216     74341664.0\n",
       " 217     81412336.0\n",
       " 218     78623520.0\n",
       " 219     73226032.0\n",
       " 220     85461712.0\n",
       " 221     79175168.0\n",
       " 222     86204576.0\n",
       " 223     80218400.0\n",
       " 224     71220928.0\n",
       " 225     81541832.0\n",
       " 226     87391056.0\n",
       " 227     77393880.0\n",
       " 228     76692960.0\n",
       " 229     80263888.0\n",
       " 230     80144448.0\n",
       " 231     79180496.0\n",
       " 232     72469272.0\n",
       " 233     79385872.0\n",
       " 234     83586160.0\n",
       " 235     74077760.0\n",
       " 236     75574448.0\n",
       " 237     80640704.0\n",
       " 238     71509304.0\n",
       " 239     80055792.0\n",
       " 240     77355264.0\n",
       " 241     70734808.0\n",
       " 242     84992288.0\n",
       " 243     72649592.0\n",
       " 244     93167280.0\n",
       " 245    103920720.0\n",
       " 246     96345296.0\n",
       " 247    104866496.0\n",
       " 248     89217504.0\n",
       " 249     99969984.0\n",
       " 250     90873920.0\n",
       " 251     93620384.0\n",
       " 252     97933160.0\n",
       " 253     97749840.0\n",
       " 254     97084624.0\n",
       " Name: y, dtype: float32, 255    -5.283567\n",
       " 256    -9.785479\n",
       " 257   -11.389587\n",
       " 258   -10.240282\n",
       " 259    -9.798632\n",
       " 260    -8.488000\n",
       " 261    -6.155618\n",
       " 262   -10.413158\n",
       " 263   -11.702940\n",
       " 264   -14.573880\n",
       " 265   -12.749828\n",
       " 266   -12.105509\n",
       " 267   -13.759840\n",
       " 268   -13.700144\n",
       " 269   -17.080090\n",
       " 270   -14.812142\n",
       " 271   -15.059174\n",
       " 272   -16.997255\n",
       " 273   -15.452011\n",
       " 274   -16.200642\n",
       " 275   -18.420679\n",
       " 276   -14.429739\n",
       " 277   -16.252363\n",
       " 278   -18.266134\n",
       " 279   -18.388144\n",
       " 280   -17.910069\n",
       " 281   -16.795607\n",
       " 282   -18.420679\n",
       " 283   -15.735707\n",
       " 284   -16.298071\n",
       "          ...    \n",
       " 294   -10.487343\n",
       " 295    -7.924905\n",
       " 296    -9.021972\n",
       " 297    -8.369718\n",
       " 298    -9.293753\n",
       " 299    -8.760374\n",
       " 300    -8.446224\n",
       " 301    -7.537925\n",
       " 302    -9.206155\n",
       " 303    -7.957318\n",
       " 304    -7.844016\n",
       " 305    -7.997237\n",
       " 306    -7.901952\n",
       " 307    -8.059504\n",
       " 308    -6.837564\n",
       " 309    -7.306218\n",
       " 310    -7.456482\n",
       " 311    -6.093248\n",
       " 312    -6.184287\n",
       " 313    -5.462063\n",
       " 314    -5.228231\n",
       " 315    -4.462029\n",
       " 316    -3.678802\n",
       " 317    -5.000998\n",
       " 318    -2.302584\n",
       " 319    -3.999179\n",
       " 320    -7.532511\n",
       " 321    -9.575797\n",
       " 322   -13.697006\n",
       " 323   -15.057440\n",
       " Name: y, Length: 69, dtype: float32, 324   -14.146366\n",
       " 325   -14.905834\n",
       " 326   -13.750020\n",
       " 327   -12.871181\n",
       " 328   -10.405447\n",
       " 329    -3.897326\n",
       " 330    -3.981297\n",
       " 331    -3.103796\n",
       " 332    -3.186029\n",
       " 333    -3.063719\n",
       " 334    -2.835771\n",
       " 335    -3.756936\n",
       " 336    -2.302584\n",
       " 337    -2.991844\n",
       " 338    -3.711999\n",
       " 339    -3.731850\n",
       " 340    -3.858803\n",
       " 341    -3.903751\n",
       " 342    -4.999042\n",
       " 343    -4.665469\n",
       " 344    -5.326703\n",
       " 345    -6.094803\n",
       " 346    -5.797941\n",
       " 347    -7.051125\n",
       " 348    -8.254445\n",
       " 349    -8.405166\n",
       " 350    -8.967449\n",
       " 351    -8.677255\n",
       " 352    -9.827727\n",
       " 353    -9.582316\n",
       " 354    -9.490853\n",
       " 355   -11.456717\n",
       " 356   -11.835533\n",
       " 357   -11.544245\n",
       " 358   -11.718915\n",
       " 359   -11.423681\n",
       " 360   -11.090320\n",
       " 361   -11.716470\n",
       " 362   -11.450110\n",
       " 363   -11.810152\n",
       " 364   -13.292290\n",
       " 365   -13.381609\n",
       " 366   -14.952805\n",
       " 367   -15.239160\n",
       " Name: y, dtype: float32, 368   -17.284290\n",
       " 369   -18.420679\n",
       " 370   -18.049814\n",
       " 371   -18.285316\n",
       " 372   -18.420679\n",
       " 373   -17.894238\n",
       " 374   -17.510860\n",
       " 375   -17.063095\n",
       " 376   -16.285757\n",
       " 377   -15.497779\n",
       " 378   -14.418645\n",
       " 379   -14.094744\n",
       " 380   -13.510654\n",
       " 381   -12.855415\n",
       " 382   -12.415972\n",
       " 383   -11.832016\n",
       " 384   -11.456034\n",
       " 385   -10.907749\n",
       " 386   -10.676054\n",
       " 387    -9.484774\n",
       " 388    -9.385629\n",
       " 389    -8.529492\n",
       " 390    -8.215648\n",
       " 391    -7.626614\n",
       " 392    -6.345284\n",
       " 393    -6.062230\n",
       " 394    -5.547828\n",
       " 395    -5.085319\n",
       " 396    -4.214215\n",
       " 397    -3.861852\n",
       " 398    -3.337772\n",
       " 399    -3.043259\n",
       " 400    -2.746349\n",
       " 401    -2.302584\n",
       " 402    -3.343814\n",
       " 403    -3.089279\n",
       " 404    -2.861876\n",
       " 405    -3.471803\n",
       " 406    -3.232502\n",
       " 407    -3.941916\n",
       " 408    -4.058380\n",
       " 409    -4.940687\n",
       " 410    -5.428048\n",
       " 411    -4.633558\n",
       " 412    -5.438541\n",
       " 413    -4.549513\n",
       " 414    -4.890304\n",
       " 415    -5.533603\n",
       " Name: y, dtype: float32]"
      ]
     },
     "execution_count": 135,
     "metadata": {},
     "output_type": "execute_result"
    }
   ],
   "source": [
    "\"\"\"Inverse scale the bins\"\"\"\n",
    "# min max values for spectrum from ASPA v2 notebook\n",
    "min_values = [1.518400e+27, \n",
    "                  1.000000e+03, \n",
    "                  -1.842068e+01, \n",
    "                  5.592880e+07, \n",
    "                  -1.842068e+01, \n",
    "                  -1.842068e+01, \n",
    "                  -1.842068e+01]\n",
    "    \n",
    "max_values = [3.796000e+27, \n",
    "                  2.000000e+03, \n",
    "                  -2.302585e+00, \n",
    "                  1.048665e+08, \n",
    "                  -2.302585e+00, \n",
    "                  -2.302585e+00,\n",
    "                  -2.302585e+00]\n",
    "\n",
    "spectra_inverses = []\n",
    "for i in range(7):\n",
    "    bin_ = bins[i]\n",
    "    max_ = maxs_[i]\n",
    "    min_ = mins_[i]\n",
    "    \n",
    "    spectrum = bin_['y']\n",
    "    spectrum_inverse = inverse_scale(spectrum, min_values[i], max_values[i])\n",
    "    spectra_inverses.append(spectrum_inverse)\n",
    "\n",
    "spectra_inverses"
   ]
  },
  {
   "cell_type": "markdown",
   "metadata": {},
   "source": [
    "# Show results"
   ]
  },
  {
   "cell_type": "code",
   "execution_count": 20,
   "metadata": {},
   "outputs": [],
   "source": [
    "real = real_images[0].detach().cpu()[0, 0, :, :]\n",
    "real_masked = masked_images[0].detach().cpu()[0, 0, :, :]\n",
    "\n",
    "#first_generated =inpainted_images[1].detach().cpu()[0, 0, :, :]\n",
    "last_generated = inpainted_images[-1].detach().cpu()[0, 0, :, :]"
   ]
  },
  {
   "cell_type": "code",
   "execution_count": 21,
   "metadata": {},
   "outputs": [
    {
     "data": {
      "image/png": "[encoded data removed]",
      "text/plain": [
       "<matplotlib.figure.Figure at 0x243c2a04080>"
      ]
     },
     "metadata": {},
     "output_type": "display_data"
    }
   ],
   "source": [
    "plt.figure(figsize=(22,10))\n",
    "\n",
    "plt.subplot(1,3,1)\n",
    "plt.imshow(real, cmap='gray', vmin=0, vmax=1.2)\n",
    "plt.title('Ground truth')\n",
    "\n",
    "plt.subplot(1,3,2)\n",
    "plt.imshow(real_masked, cmap='gray', vmin=0, vmax=1.2)\n",
    "plt.title('Masked input')\n",
    "\n",
    "plt.subplot(1,3,3)\n",
    "plt.imshow(last_generated, cmap='gray', vmin=0, vmax=1.2)\n",
    "plt.title('Inpainted')\n",
    "\n",
    "plt.tight_layout()\n",
    "\n",
    "#plt.savefig('plots/inpainting.png', dpi=1300)"
   ]
  },
  {
   "cell_type": "code",
   "execution_count": 22,
   "metadata": {},
   "outputs": [
    {
     "name": "stdout",
     "output_type": "stream",
     "text": [
      "mean: -0.0366 \n",
      " std: 0.4374 \n",
      " min: -2.0462 \n",
      " max: 0.8216\n"
     ]
    },
    {
     "data": {
      "image/png": "[encoded data removed]",
      "text/plain": [
       "<matplotlib.figure.Figure at 0x243c292cdd8>"
      ]
     },
     "metadata": {},
     "output_type": "display_data"
    }
   ],
   "source": [
    "difference = real - last_generated\n",
    "difference[19:, :] = 0 # remove the noise, it doesn't matter\n",
    "\n",
    "sns.heatmap(difference, cmap='gray')\n",
    "plt.title('Ground truth - Inpainted ')\n",
    "\n",
    "difference  = difference.cpu().detach().numpy().flatten()\n",
    "\n",
    "mean, sigma, min_, max_ = difference.mean().item(), difference.std(), difference.min(), difference.max()\n",
    "print('mean: %.4f \\n std: %.4f \\n min: %.4f \\n max: %.4f' % (mean, sigma, min_, max_))"
   ]
  },
  {
   "cell_type": "raw",
   "metadata": {},
   "source": [
    "import matplotlib\n",
    "matplotlib.rcParams['animation.embed_limit'] = 20**128\n",
    "\n",
    "#%%capture\n",
    "fig = plt.figure(figsize=(8,8))\n",
    "plt.axis(\"off\")\n",
    "ims = [[plt.imshow(i.detach().cpu()[0, 0, :, :], animated=True, cmap='gray', vmin=0, vmax=1.2)] for i in inpainted_images]\n",
    "ani = animation.ArtistAnimation(fig, ims, interval=500, repeat_delay=1000, blit=True)\n",
    "\n",
    "\n",
    "HTML(ani.to_jshtml())"
   ]
  },
  {
   "cell_type": "code",
   "execution_count": null,
   "metadata": {},
   "outputs": [],
   "source": []
  },
  {
   "cell_type": "markdown",
   "metadata": {},
   "source": [
    "# Decoding ASPA\n",
    "Need to clean this up. Using dicts like this is not clean."
   ]
  },
  {
   "cell_type": "code",
   "execution_count": null,
   "metadata": {},
   "outputs": [],
   "source": [
    "aspa_inpainted = last_generated.numpy()\n",
    "aspa_real = real.numpy()\n",
    "\n",
    "aspa_inpainted.shape"
   ]
  },
  {
   "cell_type": "code",
   "execution_count": null,
   "metadata": {},
   "outputs": [],
   "source": [
    "# Initialize ExoGAN params with zero's\n",
    "inpainted_params = {\n",
    "    'planet_mass': 0,\n",
    "    'temp_profile': 0,\n",
    "    'ch4_mixratio': 0,\n",
    "    'planet_radius': 0,\n",
    "    'h2o_mixratio': 0,\n",
    "    'co2_mixratio': 0,\n",
    "    'co_mixratio': 0\n",
    "}\n",
    "\n",
    "real_params = inpainted_params.copy()\n",
    "params_errors = inpainted_params.copy()"
   ]
  },
  {
   "cell_type": "markdown",
   "metadata": {},
   "source": [
    "## Inverse scale functions"
   ]
  },
  {
   "cell_type": "code",
   "execution_count": null,
   "metadata": {},
   "outputs": [],
   "source": [
    "def inverse_scale_param(X_scaled, X_min, X_max):\n",
    "    return (X_scaled * (X_max-X_min)) + X_min\n",
    "\n",
    "def inverse_scale_params(params):\n",
    "    \"\"\"\n",
    "    Inverse scales the params array. \n",
    "    Params must be in fixed order, same order as it is encoded with.\n",
    "    \"\"\"\n",
    "    params = params.copy()\n",
    "    min_values = [1.518400e+27, \n",
    "                  1.000000e+03, \n",
    "                  -1.842068e+01, \n",
    "                  5.592880e+07, \n",
    "                  -1.842068e+01, \n",
    "                  -1.842068e+01, \n",
    "                  -1.842068e+01]\n",
    "    \n",
    "    max_values = [3.796000e+27, \n",
    "                  2.000000e+03, \n",
    "                  -2.302585e+00, \n",
    "                  1.048665e+08, \n",
    "                  -2.302585e+00, \n",
    "                  -2.302585e+00,\n",
    "                  -2.302585e+00]\n",
    "\n",
    "    params_inverse_scaled = []\n",
    "    for i in range(len(params)):\n",
    "        param = params[i]\n",
    "        min_= min_values[i]\n",
    "        max_ = max_values[i]\n",
    "\n",
    "        params_inverse_scaled.append(inverse_scale_param(param, min_, max_))\n",
    "    \n",
    "    return params_inverse_scaled"
   ]
  },
  {
   "cell_type": "markdown",
   "metadata": {},
   "source": [
    "## Inpainted params"
   ]
  },
  {
   "cell_type": "code",
   "execution_count": null,
   "metadata": {},
   "outputs": [],
   "source": [
    "inpainted_params_values = [aspa_inpainted[:16, 25+i:26+i] for i in range(len(inpainted_params))]\n",
    "inpainted_params_mean  = [i.mean() for i in inpainted_params_values]\n",
    "\n",
    "inpainted_params_mean"
   ]
  },
  {
   "cell_type": "code",
   "execution_count": null,
   "metadata": {},
   "outputs": [],
   "source": [
    "y = (0.5876265 * (-2.306--1.842068e+01))+-1.842068e+01\n",
    "y"
   ]
  },
  {
   "cell_type": "code",
   "execution_count": null,
   "metadata": {},
   "outputs": [],
   "source": [
    "inpainted_params_mean = inverse_scale_params(inpainted_params_mean)\n",
    "inpainted_params_mean"
   ]
  },
  {
   "cell_type": "markdown",
   "metadata": {},
   "source": [
    "### Convert mixtures from log back to regular scale"
   ]
  },
  {
   "cell_type": "code",
   "execution_count": null,
   "metadata": {},
   "outputs": [],
   "source": [
    "for i,param in enumerate(inpainted_params):\n",
    "    if 'mixratio' in param:\n",
    "        inpainted_params[param] = 10**(inpainted_params_mean[i]) # convert log back to regular scale\n",
    "    else:\n",
    "        inpainted_params[param] = inpainted_params_mean[i]"
   ]
  },
  {
   "cell_type": "code",
   "execution_count": null,
   "metadata": {},
   "outputs": [],
   "source": [
    "inpainted_params"
   ]
  },
  {
   "cell_type": "markdown",
   "metadata": {},
   "source": [
    "## Real params\n",
    "Ground truth params"
   ]
  },
  {
   "cell_type": "code",
   "execution_count": null,
   "metadata": {},
   "outputs": [],
   "source": [
    "real_params_values = [aspa_real[:16, 25+i:26+i] for i in range(len(real_params))]\n",
    "real_params_mean  = [i.mean() for i in real_params_values]\n",
    "real_params_mean"
   ]
  },
  {
   "cell_type": "code",
   "execution_count": null,
   "metadata": {},
   "outputs": [],
   "source": [
    "real_params_mean = inverse_scale_params(real_params_mean)\n",
    "real_params_mean"
   ]
  },
  {
   "cell_type": "markdown",
   "metadata": {},
   "source": [
    "### Convert mixtures from log back to regular scale"
   ]
  },
  {
   "cell_type": "code",
   "execution_count": null,
   "metadata": {},
   "outputs": [],
   "source": [
    "for i,param in enumerate(real_params):\n",
    "    if 'mixratio' in param:\n",
    "        real_params[param] = 10**(real_params_mean[i]) # convert log back to regular scale\n",
    "    else:\n",
    "        real_params[param] = real_params_mean[i]"
   ]
  },
  {
   "cell_type": "code",
   "execution_count": null,
   "metadata": {},
   "outputs": [],
   "source": [
    "real_params"
   ]
  },
  {
   "cell_type": "markdown",
   "metadata": {},
   "source": [
    "## Percentage error\n",
    "\n",
    "% error = $\\frac{y-\\hat{y}}{\\hat{y}} \\cdot$ 100"
   ]
  },
  {
   "cell_type": "code",
   "execution_count": null,
   "metadata": {},
   "outputs": [],
   "source": [
    "percentage_errors = []\n",
    "for param in real_params:\n",
    "    y_hat = real_params[param]\n",
    "    y = inpainted_params[param]\n",
    "    \n",
    "    params_errors[param] = ((y - y_hat) / y_hat)*100\n",
    "\n",
    "params_errors"
   ]
  },
  {
   "cell_type": "markdown",
   "metadata": {},
   "source": [
    "## Print results"
   ]
  },
  {
   "cell_type": "code",
   "execution_count": null,
   "metadata": {},
   "outputs": [],
   "source": [
    "for param in inpainted_params:\n",
    "    real = real_params[param]\n",
    "    inpainted = inpainted_params[param]\n",
    "    error = params_errors[param]\n",
    "    \n",
    "    print('%s \\t Real value: %.5e \\t inpainted value: %.5e \\t perc. diff.: %.25f' % (param, real, inpainted, error))"
   ]
  },
  {
   "cell_type": "markdown",
   "metadata": {},
   "source": [
    "# Functionize this to output the MAPE of all inpainted images per metric "
   ]
  },
  {
   "cell_type": "code",
   "execution_count": null,
   "metadata": {},
   "outputs": [],
   "source": [
    "#real_images = []\n",
    "#final_inpainted_images = []\n",
    "\n",
    "reals = []\n",
    "inpainteds = []\n",
    "errors = []\n",
    "for i in range(len(real_images)-1):\n",
    "    aspa_real = real_images[i].detach().cpu()[0, 0, :, :].numpy() # size is 32,32 now\n",
    "    aspa_inpainted = final_inpainted_images[i].detach().cpu()[0, 0, :, :].numpy() # size is 32,32 now\n",
    "\n",
    "    \"\"\"Decode inpainted aspa\"\"\"\n",
    "    inpainted_params_values = [aspa_inpainted[:16, 25+j:26+j] for j in range(len(inpainted_params))]\n",
    "    inpainted_params_mean  = [k.mean() for k in inpainted_params_values]\n",
    "    inpainted_params_mean = inverse_scale_params(inpainted_params_mean)\n",
    "    \n",
    "    for a,param in enumerate(inpainted_params):\n",
    "        if 'mixratio' in param:\n",
    "            inpainted_params[param] = inpainted_params_mean[a] # convert log back to regular scale\n",
    "        else:\n",
    "            inpainted_params[param] = inpainted_params_mean[a]\n",
    "    \n",
    "    \"\"\"Decode real aspa\"\"\"\n",
    "    real_params_values = [aspa_real[:16, 25+b:26+b] for b in range(len(real_params))]\n",
    "    real_params_mean  = [c.mean() for c in real_params_values]\n",
    "    real_params_mean = inverse_scale_params(real_params_mean)\n",
    "    \n",
    "    for d,param in enumerate(real_params):\n",
    "        if 'mixratio' in param:\n",
    "            real_params[param] = real_params_mean[d] # convert log back to regular scale\n",
    "        else:\n",
    "            real_params[param] = real_params_mean[d]\n",
    "\n",
    "    \"\"\"Calculate percentage difference\"\"\"\n",
    "    params_errors = dict.fromkeys(params_errors, 0) # copy dicts' keys, set all values to zero\n",
    "    for param in real_params:\n",
    "        y_hat = real_params[param]\n",
    "        y = inpainted_params[param]\n",
    "        \n",
    "        params_errors[param] = ((y - y_hat) / y_hat)*100\n",
    "\n",
    "    reals.append(real_params.copy()) # !!!!! for some reason dicts need to be copied, to be able to append to a list... otherwise the dicts inside the lists get update too\n",
    "    inpainteds.append(inpainted_params.copy())\n",
    "    errors.append(params_errors.copy())\n"
   ]
  },
  {
   "cell_type": "raw",
   "metadata": {},
   "source": [
    "for error in errors:\n",
    "    print(error)"
   ]
  },
  {
   "cell_type": "markdown",
   "metadata": {},
   "source": [
    "# Create one large df from all the dicts"
   ]
  },
  {
   "cell_type": "code",
   "execution_count": null,
   "metadata": {},
   "outputs": [],
   "source": [
    "reals[1]"
   ]
  },
  {
   "cell_type": "code",
   "execution_count": null,
   "metadata": {},
   "outputs": [],
   "source": [
    "dfs = []\n",
    "for i in range(len(errors)):\n",
    "    print(reals[i])\n",
    "    df1 = pd.DataFrame(errors[i], index=[0])\n",
    "    df1.columns = [i+'_error' for i in df1.columns]\n",
    "\n",
    "    df2 = pd.DataFrame(reals[i], index=[0])\n",
    "    df2.columns = [i+'_real' for i in df2.columns]\n",
    "\n",
    "    df3 = pd.DataFrame(inpainteds[i], index=[0])\n",
    "    df3.columns = [i+'_inpainted' for i in df3.columns]\n",
    "\n",
    "    df = pd.concat([df1, df2, df3], axis=1)\n",
    "    \n",
    "    dfs.append(df)\n",
    "\n",
    "df = pd.concat(dfs)"
   ]
  },
  {
   "cell_type": "markdown",
   "metadata": {},
   "source": [
    "# Errors of all images"
   ]
  },
  {
   "cell_type": "code",
   "execution_count": null,
   "metadata": {},
   "outputs": [],
   "source": [
    "df.describe()"
   ]
  },
  {
   "cell_type": "code",
   "execution_count": null,
   "metadata": {},
   "outputs": [],
   "source": [
    "df.describe()"
   ]
  },
  {
   "cell_type": "code",
   "execution_count": null,
   "metadata": {},
   "outputs": [],
   "source": [
    "params = [param for param in real_params.keys()]\n",
    "param = params[2]\n",
    "print(param)"
   ]
  },
  {
   "cell_type": "code",
   "execution_count": null,
   "metadata": {},
   "outputs": [],
   "source": [
    "x = df[param+'_real']\n",
    "y = df[param+'_inpainted']\n",
    "\n",
    "plt.plot(x, y, '.')\n",
    "plt.xlabel('real')\n",
    "plt.ylabel('inpainted')\n",
    "plt.grid()"
   ]
  },
  {
   "cell_type": "code",
   "execution_count": null,
   "metadata": {},
   "outputs": [],
   "source": [
    "x"
   ]
  },
  {
   "cell_type": "code",
   "execution_count": null,
   "metadata": {},
   "outputs": [],
   "source": [
    "y"
   ]
  },
  {
   "cell_type": "code",
   "execution_count": null,
   "metadata": {},
   "outputs": [],
   "source": [
    "plt.hist(df[param+'_error'])"
   ]
  },
  {
   "cell_type": "code",
   "execution_count": null,
   "metadata": {},
   "outputs": [],
   "source": [
    "plt.figure(figsize=((25,10)))\n",
    "for i,param in enumerate(params):\n",
    "    plt.subplot(3,3,i+1)\n",
    "    plt.title(param+'_error')\n",
    "    plt.hist(df[param+'_error'], bins=20)\n",
    "    plt.grid()\n",
    "    plt.tight_layout()\n",
    "\n",
    "plt.savefig('plots//Validation error hist of '+str(len(images))+' images.png', dpi=1200)\n",
    "print('saved')"
   ]
  },
  {
   "cell_type": "raw",
   "metadata": {},
   "source": [
    "plt.figure(figsize=((25,10)))\n",
    "for i,param in enumerate(params):\n",
    "    x = df[param+'_error']\n",
    "    y = df[param+'_real']\n",
    "    \n",
    "    plt.subplot(3,3,i+1)\n",
    "\n",
    "    plt.plot(x, y, '.')\n",
    "    plt.tight_layout()"
   ]
  },
  {
   "cell_type": "code",
   "execution_count": null,
   "metadata": {},
   "outputs": [],
   "source": [
    "df.to_csv('Validation error of '+str(len(images))+' images')"
   ]
  },
  {
   "cell_type": "code",
   "execution_count": null,
   "metadata": {},
   "outputs": [],
   "source": [
    "df.head()"
   ]
  },
  {
   "cell_type": "code",
   "execution_count": null,
   "metadata": {},
   "outputs": [],
   "source": [
    "print('DONE')"
   ]
  },
  {
   "cell_type": "code",
   "execution_count": null,
   "metadata": {},
   "outputs": [],
   "source": [
    "param = params[2]\n",
    "df[[param+'_real', param+'_inpainted']]"
   ]
  },
  {
   "cell_type": "code",
   "execution_count": null,
   "metadata": {},
   "outputs": [],
   "source": [
    "print('Done')"
   ]
  },
  {
   "cell_type": "code",
   "execution_count": null,
   "metadata": {},
   "outputs": [],
   "source": [
    "print('Done')"
   ]
  },
  {
   "cell_type": "code",
   "execution_count": null,
   "metadata": {},
   "outputs": [],
   "source": [
    "print('done')"
   ]
  },
  {
   "cell_type": "code",
   "execution_count": null,
   "metadata": {},
   "outputs": [],
   "source": [
    "its = np.array(n_iteration)\n",
    "plt.hist(its)\n",
    "plt.grid()\n",
    "\n",
    "its.mean(), its.std()"
   ]
  },
  {
   "cell_type": "code",
   "execution_count": null,
   "metadata": {},
   "outputs": [],
   "source": []
  }
 ],
 "metadata": {
  "kernelspec": {
   "display_name": "Python 3",
   "language": "python",
   "name": "python3"
  },
  "language_info": {
   "codemirror_mode": {
    "name": "ipython",
    "version": 3
   },
   "file_extension": ".py",
   "mimetype": "text/x-python",
   "name": "python",
   "nbconvert_exporter": "python",
   "pygments_lexer": "ipython3",
   "version": "3.6.7"
  }
 },
 "nbformat": 4,
 "nbformat_minor": 2
}
