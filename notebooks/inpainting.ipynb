{
 "cells": [
  {
   "cell_type": "code",
   "execution_count": 20,
   "metadata": {},
   "outputs": [],
   "source": [
    "# Imports\n",
    "import random\n",
    "import sys\n",
    "import numpy as np\n",
    "import time\n",
    "import matplotlib.pyplot as plt\n",
    "import seaborn as sns\n",
    "\n",
    "import torch.nn as nn\n",
    "import torch.optim as optim\n",
    "import torchvision.utils as vutils\n",
    "import matplotlib.animation as animation\n",
    "from IPython.display import HTML\n",
    "\n",
    "import model\n",
    "from keijzer_exogan import *\n",
    "\n",
    "# initialize random seeds\n",
    "manualSeed = 999\n",
    "random.seed(manualSeed)\n",
    "torch.manual_seed(manualSeed)\n",
    "\n",
    "%matplotlib inline\n",
    "%config InlineBackend.print_figure_kwargs={'facecolor' : \"w\"} # Make sure the axis background of plots is white, this is usefull for the black theme in JupyterLab\n",
    "# Initialize default seaborn layout\n",
    "sns.set_palette(sns.hls_palette(8, l=.3, s=.8))\n",
    "sns.set(style='ticks')\n",
    "\n",
    "\n",
    "\"\"\"\n",
    "Local variables\n",
    "\"\"\"\n",
    "workers = 0 # Number of workers for dataloader, 0 when to_vram is enabled\n",
    "batch_size = 1 # using one image ofcourse\n",
    "image_size = 32\n",
    "nz = 100 # size of latent vector\n",
    "n_iters = 25*10**3 # number of iterations to do for inpainting\n",
    "torch.backends.cudnn.benchmark=True # Uses udnn auto-tuner to find the best algorithm to use for your hardware, speeds up training by almost 50%\n",
    "\n",
    "lr = 1e-2\n",
    "lamb1 = 1e4 #1e4\n",
    "lamb2 = 1 # 1 , total_loss = lamb1*loss_context + lamb2*loss_perceptual\n",
    "\n",
    "lr_G = 2e-4\n",
    "beta1 = 0.5 # Beta1 hyperparam for Adam optimizers\n",
    "selected_gpus = [3] # Number of GPUs available. Use 0 for CPU mode."
   ]
  },
  {
   "cell_type": "code",
   "execution_count": 2,
   "metadata": {},
   "outputs": [
    {
     "data": {
      "text/plain": [
       "25"
      ]
     },
     "execution_count": 2,
     "metadata": {},
     "output_type": "execute_result"
    }
   ],
   "source": [
    "path = '/datb/16011015/ExoGAN_data/selection//' #notice how you dont put the last folder in here...\n",
    "\n",
    "images = np.load(path+'last_chunks_25_percent_images.npy').astype('float32')\n",
    "images = images[:25] # select first ... images\n",
    "\n",
    "len(images)"
   ]
  },
  {
   "cell_type": "code",
   "execution_count": 3,
   "metadata": {},
   "outputs": [
    {
     "name": "stdout",
     "output_type": "stream",
     "text": [
      "Batch size:  1\n",
      "Number of GPUs used:  1\n",
      "Number of images:  25\n"
     ]
    }
   ],
   "source": [
    "print('Batch size: ', batch_size)\n",
    "\n",
    "\n",
    "# Number of training epochs\n",
    "\n",
    "# Learning rate for optimizers\n",
    "ngpu = len(selected_gpus)\n",
    "print('Number of GPUs used: ', ngpu)\n",
    "\n",
    "\n",
    "\"\"\"\n",
    "Load data and prepare DataLoader\n",
    "\"\"\"\n",
    "shuffle = True\n",
    "\n",
    "if shuffle:\n",
    "    np.random.shuffle(images) # shuffles the images\n",
    "\n",
    "images = images[:25] # 1200 should take ~ 1 hour\n",
    "#images = images[:int(len(images)*0.005)]\n",
    "print('Number of images: ', len(images))"
   ]
  },
  {
   "cell_type": "code",
   "execution_count": 4,
   "metadata": {},
   "outputs": [
    {
     "name": "stdout",
     "output_type": "stream",
     "text": [
      "Loading weights...\n",
      "done\n"
     ]
    }
   ],
   "source": [
    "dataset = numpy_dataset(data=images, to_vram=True) # to_vram pins it to all GPU's\n",
    "#dataset = numpy_dataset(data=images, to_vram=True, transform=transforms.Compose([transforms.Normalize((0.5, 0.5, 0.5), (0.5, 0.5, 0.5))])) # to_vram pins it to all GPU's\n",
    "\n",
    "# Create the dataloader\n",
    "dataloader = torch.utils.data.DataLoader(dataset, batch_size=batch_size,\n",
    "                                         shuffle=True, num_workers=workers, pin_memory=False)\n",
    "\n",
    "\"\"\"\n",
    "Load and setup models\n",
    "\"\"\"\n",
    "# Initialize cuda\n",
    "device = torch.device(\"cuda:\"+str(selected_gpus[0]) if (torch.cuda.is_available() and ngpu > 0) else \"cpu\")\n",
    "\n",
    "# Load models, set to evaluation mode since training is not needed (this also allows batchsize 1 to work with batchnorm2d layers)\n",
    "netG = model.Generator(ngpu).eval().to(device)\n",
    "netD = model.Discriminator(ngpu).eval().to(device)\n",
    "\n",
    "# Apply weights\n",
    "print('Loading weights...')\n",
    "try:\n",
    "    # Load saved weights\n",
    "    netG.load_state_dict(torch.load('gan_data//weights//netG_state_dict0', map_location=device)) #net.module..load_... for parallel model , net.load_... for single gpu model\n",
    "    netD.load_state_dict(torch.load('gan_data//weights//netD_state_dict0', map_location=device))\n",
    "except:\n",
    "    print('Could not load saved weights.')\n",
    "    sys.exit()\n",
    "\n",
    "\n",
    "\n",
    "\n",
    "\n",
    "\"\"\"\n",
    "Define input training stuff (fancy this up)\n",
    "\"\"\"\n",
    "G = netG\n",
    "D = netD\n",
    "z = torch.randn(1, nz, 1, 1, requires_grad=True, device=device)\n",
    "\n",
    "# Handle multi-gpu if desired\n",
    "if (device.type == 'cuda') and (ngpu > 1):\n",
    "    G = nn.DataParallel(G, device_ids=selected_gpus, output_device=device)\n",
    "    D = nn.DataParallel(D, device_ids=selected_gpus, output_device=device)\n",
    "    #z = nn.DataParallel(z, device_ids=selected_gpus, output_device=device)\n",
    "\n",
    "# Setup Adam optimizers for both G and D\n",
    "optimizerD = optim.Adam(netD.parameters(), lr=lr, betas=(beta1, 0.999)) # should be sgd\n",
    "optimizerG = optim.Adam(netG.parameters(), lr=lr_G, betas=(beta1, 0.999))\n",
    "\n",
    "print('done')"
   ]
  },
  {
   "cell_type": "markdown",
   "metadata": {},
   "source": [
    "# Show generated images"
   ]
  },
  {
   "cell_type": "code",
   "execution_count": 5,
   "metadata": {},
   "outputs": [
    {
     "data": {
      "image/png": "[encoded data removed]",
      "text/plain": [
       "<Figure size 720x720 with 9 Axes>"
      ]
     },
     "metadata": {
      "needs_background": "light"
     },
     "output_type": "display_data"
    }
   ],
   "source": [
    "from sklearn.preprocessing import MinMaxScaler\n",
    "\n",
    "z_tests = [torch.randn(1, nz, 1, 1, device=device) for _ in range(9)]\n",
    "\n",
    "plt.figure(figsize=(10,10))\n",
    "for i in range(9):\n",
    "    img = G(z_tests[i]).detach().cpu()[0, 0, :, :]\n",
    "    plt.subplot(3,3,i+1)\n",
    "    #scaler = MinMaxScaler((0, 1.2))\n",
    "    #img = scaler.fit_transform(img)\n",
    "    plt.imshow(img, cmap='gray', vmin=0, vmax=1.2)\n",
    "    #plt.imshow(img, cmap='gray')\n",
    "\n",
    "plt.tight_layout()"
   ]
  },
  {
   "cell_type": "code",
   "execution_count": 6,
   "metadata": {},
   "outputs": [
    {
     "data": {
      "text/plain": [
       "(tensor(-0.2651), tensor(1.1324), tensor(0.4241), tensor(0.2483))"
      ]
     },
     "execution_count": 6,
     "metadata": {},
     "output_type": "execute_result"
    }
   ],
   "source": [
    "img.min(), img.max(), img.mean(), img.std()"
   ]
  },
  {
   "cell_type": "markdown",
   "metadata": {},
   "source": [
    "## Make sure Z is different for each image"
   ]
  },
  {
   "cell_type": "code",
   "execution_count": 7,
   "metadata": {},
   "outputs": [
    {
     "data": {
      "image/png": "[encoded data removed]",
      "text/plain": [
       "<Figure size 720x720 with 9 Axes>"
      ]
     },
     "metadata": {
      "needs_background": "light"
     },
     "output_type": "display_data"
    }
   ],
   "source": [
    "plt.figure(figsize=(10,10))\n",
    "for i,z_t in enumerate(z_tests):\n",
    "    z_t = z_t.detach().cpu().numpy()\n",
    "    \n",
    "    plt.subplot(3,3,i+1)\n",
    "    \n",
    "    plt.hist(z_t.flatten())\n",
    "    plt.grid()\n",
    "    \n",
    "    plt.tight_layout()\n",
    "    #print(z_t[0].flatten())"
   ]
  },
  {
   "cell_type": "markdown",
   "metadata": {},
   "source": [
    "## Show first 9 selected images"
   ]
  },
  {
   "cell_type": "code",
   "execution_count": 8,
   "metadata": {},
   "outputs": [
    {
     "data": {
      "image/png": "[encoded data removed]",
      "text/plain": [
       "<Figure size 720x720 with 9 Axes>"
      ]
     },
     "metadata": {
      "needs_background": "light"
     },
     "output_type": "display_data"
    }
   ],
   "source": [
    "plt.figure(figsize=(10,10))\n",
    "for i in range(9):\n",
    "    try:\n",
    "        img = images[i]\n",
    "        plt.subplot(3,3,i+1)\n",
    "        plt.imshow(img[0, :, :], cmap='gray', vmin=0, vmax=1.2)\n",
    "    except:\n",
    "        pass\n",
    "\n",
    "plt.tight_layout()"
   ]
  },
  {
   "cell_type": "code",
   "execution_count": 9,
   "metadata": {},
   "outputs": [
    {
     "data": {
      "text/plain": [
       "(-1.1428572, 1.1355497, 0.42062604, 0.43448916)"
      ]
     },
     "execution_count": 9,
     "metadata": {},
     "output_type": "execute_result"
    }
   ],
   "source": [
    "img.min(), img.max(), img.mean(), img.std()"
   ]
  },
  {
   "cell_type": "markdown",
   "metadata": {},
   "source": [
    "# Visualizing the weights for debugging purposes"
   ]
  },
  {
   "cell_type": "code",
   "execution_count": 10,
   "metadata": {},
   "outputs": [
    {
     "name": "stdout",
     "output_type": "stream",
     "text": [
      "Layer: 0 \t n_weights: 512 \t std: 0.0435 \t mean: -0.0027\n",
      "Layer: 1 \t n_weights: 16384 \t std: 0.3069 \t mean: -0.0027\n",
      "Layer: 2 \t n_weights: 32768 \t std: 0.5409 \t mean: 0.0093\n",
      "Layer: 3 \t n_weights: 131072 \t std: 0.8916 \t mean: 0.0420\n",
      "Layer: 4 \t n_weights: 524288 \t std: 0.4939 \t mean: 0.0394\n",
      "Layer: 5 \t n_weights: 256 \t std: 0.0118 \t mean: -0.0008\n"
     ]
    },
    {
     "data": {
      "image/png": "[encoded data removed]",
      "text/plain": [
       "<Figure size 720x720 with 6 Axes>"
      ]
     },
     "metadata": {
      "needs_background": "light"
     },
     "output_type": "display_data"
    }
   ],
   "source": [
    "weights = [param.data.cpu().numpy().flatten() for param in netD.parameters()]\n",
    "\n",
    "plt.figure(figsize=(10,10))\n",
    "for i,layer_weights in enumerate(weights):\n",
    "    print('Layer: %s \\t n_weights: %s \\t std: %.4f \\t mean: %.4f' % (i, len(layer_weights), layer_weights.std(), layer_weights.mean()))\n",
    "    plt.subplot(3,2,i+1)\n",
    "    plt.title('netD layer %s weights' % i)\n",
    "    plt.hist(layer_weights, bins=100)\n",
    "    plt.grid()\n",
    "    plt.tight_layout()"
   ]
  },
  {
   "cell_type": "code",
   "execution_count": 11,
   "metadata": {},
   "outputs": [
    {
     "name": "stdout",
     "output_type": "stream",
     "text": [
      "Layer: 0 \t n_weights: 409600 \t std: 0.0658 \t mean: 0.0001\n",
      "Layer: 1 \t n_weights: 524288 \t std: 0.1228 \t mean: -0.0055\n",
      "Layer: 2 \t n_weights: 131072 \t std: 0.1537 \t mean: 0.0019\n",
      "Layer: 3 \t n_weights: 32768 \t std: 0.1259 \t mean: -0.0103\n",
      "Layer: 4 \t n_weights: 16384 \t std: 0.1064 \t mean: -0.0027\n",
      "Layer: 5 \t n_weights: 512 \t std: 0.0136 \t mean: 0.0027\n"
     ]
    },
    {
     "data": {
      "image/png": "[encoded data removed]",
      "text/plain": [
       "<Figure size 720x720 with 6 Axes>"
      ]
     },
     "metadata": {
      "needs_background": "light"
     },
     "output_type": "display_data"
    }
   ],
   "source": [
    "weights = [param.data.cpu().numpy().flatten() for param in netG.parameters()] # where param.data are the weights of the i-th layer\n",
    "\n",
    "plt.figure(figsize=(10,10))\n",
    "for i,layer_weights in enumerate(weights):\n",
    "    print('Layer: %s \\t n_weights: %s \\t std: %.4f \\t mean: %.4f' % (i, len(layer_weights), layer_weights.std(), layer_weights.mean()))\n",
    "    plt.subplot(3,2,i+1)\n",
    "    plt.title('netG layer %s weights' % i)\n",
    "    plt.hist(layer_weights, bins=100)\n",
    "    plt.grid()\n",
    "    plt.tight_layout()"
   ]
  },
  {
   "cell_type": "markdown",
   "metadata": {},
   "source": [
    "# Inpainting\n",
    "The corrupted image $y$ is mapped to the closest $z$ in the latent representation space, this mapping is denoted as $\\hat{z}$.\n",
    "    \n",
    "$\\hat{z} = \\operatorname{arg\\,min}_z \\{ \\mathcal{L}_c(z |y, M) + \\mathcal{L}_p (z) \\}$\n",
    "\n",
    "where\n",
    "\n",
    "$\\mathcal{L}_c(z |y, M) = || M \\bigodot G(z) - M \\bigodot y||_1 = || M \\bigodot (G(z)-y) ||_1 $\n",
    "\n",
    "with $\\mathcal{L}_c$ being contextual loss and $M$ being a binary mask with the same size as $y$,\n",
    "\n",
    "$\\mathcal{L}_p (z) = \\lambda \\operatorname{log}(1-D(G(z)))$\n",
    "\n",
    "with $\\mathcal{L}_p$ being perceptual loss and $D$ being the discriminator.\n",
    "  \n",
    "Once $G(\\hat{z})$ is generated, the final solution $\\hat{x}$ is calculated as\n",
    "\n",
    "$\\hat{x} = \\operatorname{arg\\, min}_x ||\\nabla x - \\nabla G(\\hat{z}) ||^2_2$  \n",
    "\n",
    "(substitute $x_i = y_i$ for $M_i = 1$).\n",
    "\n",
    "-----\n",
    "\n",
    "$|| ... ||$ is done by `torch.norm()`.  \n",
    "$... \\bigodot ...$ is done by `torch.mul()`.  \n",
    "-----\n",
    "TODO: Implement $\\hat{x} = \\operatorname{arg\\, min}_x ||\\nabla x - \\nabla G(\\hat{z}) ||^2_2$    \n",
    "Currently $\\hat{x} = G(\\hat{z}) \\bigodot (1 -M)+y$"
   ]
  },
  {
   "cell_type": "code",
   "execution_count": 12,
   "metadata": {},
   "outputs": [
    {
     "data": {
      "text/html": [
       "<div>\n",
       "<style scoped>\n",
       "    .dataframe tbody tr th:only-of-type {\n",
       "        vertical-align: middle;\n",
       "    }\n",
       "\n",
       "    .dataframe tbody tr th {\n",
       "        vertical-align: top;\n",
       "    }\n",
       "\n",
       "    .dataframe thead th {\n",
       "        text-align: right;\n",
       "    }\n",
       "</style>\n",
       "<table border=\"1\" class=\"dataframe\">\n",
       "  <thead>\n",
       "    <tr style=\"text-align: right;\">\n",
       "      <th></th>\n",
       "      <th>Unnamed: 0</th>\n",
       "      <th>x</th>\n",
       "    </tr>\n",
       "  </thead>\n",
       "  <tbody>\n",
       "    <tr>\n",
       "      <th>129</th>\n",
       "      <td>129</td>\n",
       "      <td>13.900046</td>\n",
       "    </tr>\n",
       "    <tr>\n",
       "      <th>130</th>\n",
       "      <td>130</td>\n",
       "      <td>13.762421</td>\n",
       "    </tr>\n",
       "    <tr>\n",
       "      <th>131</th>\n",
       "      <td>131</td>\n",
       "      <td>13.626160</td>\n",
       "    </tr>\n",
       "    <tr>\n",
       "      <th>132</th>\n",
       "      <td>132</td>\n",
       "      <td>13.491247</td>\n",
       "    </tr>\n",
       "    <tr>\n",
       "      <th>133</th>\n",
       "      <td>133</td>\n",
       "      <td>13.357671</td>\n",
       "    </tr>\n",
       "    <tr>\n",
       "      <th>134</th>\n",
       "      <td>134</td>\n",
       "      <td>13.225416</td>\n",
       "    </tr>\n",
       "    <tr>\n",
       "      <th>135</th>\n",
       "      <td>135</td>\n",
       "      <td>13.094472</td>\n",
       "    </tr>\n",
       "    <tr>\n",
       "      <th>136</th>\n",
       "      <td>136</td>\n",
       "      <td>12.964823</td>\n",
       "    </tr>\n",
       "    <tr>\n",
       "      <th>137</th>\n",
       "      <td>137</td>\n",
       "      <td>12.836459</td>\n",
       "    </tr>\n",
       "    <tr>\n",
       "      <th>138</th>\n",
       "      <td>138</td>\n",
       "      <td>12.709365</td>\n",
       "    </tr>\n",
       "    <tr>\n",
       "      <th>139</th>\n",
       "      <td>139</td>\n",
       "      <td>12.583530</td>\n",
       "    </tr>\n",
       "    <tr>\n",
       "      <th>140</th>\n",
       "      <td>140</td>\n",
       "      <td>12.458940</td>\n",
       "    </tr>\n",
       "    <tr>\n",
       "      <th>141</th>\n",
       "      <td>141</td>\n",
       "      <td>12.335585</td>\n",
       "    </tr>\n",
       "    <tr>\n",
       "      <th>142</th>\n",
       "      <td>142</td>\n",
       "      <td>12.213450</td>\n",
       "    </tr>\n",
       "    <tr>\n",
       "      <th>143</th>\n",
       "      <td>143</td>\n",
       "      <td>12.092525</td>\n",
       "    </tr>\n",
       "    <tr>\n",
       "      <th>144</th>\n",
       "      <td>144</td>\n",
       "      <td>11.972797</td>\n",
       "    </tr>\n",
       "    <tr>\n",
       "      <th>145</th>\n",
       "      <td>145</td>\n",
       "      <td>11.854254</td>\n",
       "    </tr>\n",
       "    <tr>\n",
       "      <th>146</th>\n",
       "      <td>146</td>\n",
       "      <td>11.736886</td>\n",
       "    </tr>\n",
       "    <tr>\n",
       "      <th>147</th>\n",
       "      <td>147</td>\n",
       "      <td>11.620679</td>\n",
       "    </tr>\n",
       "    <tr>\n",
       "      <th>148</th>\n",
       "      <td>148</td>\n",
       "      <td>11.505623</td>\n",
       "    </tr>\n",
       "    <tr>\n",
       "      <th>149</th>\n",
       "      <td>149</td>\n",
       "      <td>11.391705</td>\n",
       "    </tr>\n",
       "    <tr>\n",
       "      <th>150</th>\n",
       "      <td>150</td>\n",
       "      <td>11.278916</td>\n",
       "    </tr>\n",
       "    <tr>\n",
       "      <th>151</th>\n",
       "      <td>151</td>\n",
       "      <td>11.167244</td>\n",
       "    </tr>\n",
       "    <tr>\n",
       "      <th>152</th>\n",
       "      <td>152</td>\n",
       "      <td>11.056677</td>\n",
       "    </tr>\n",
       "    <tr>\n",
       "      <th>153</th>\n",
       "      <td>153</td>\n",
       "      <td>10.947205</td>\n",
       "    </tr>\n",
       "    <tr>\n",
       "      <th>154</th>\n",
       "      <td>154</td>\n",
       "      <td>10.838817</td>\n",
       "    </tr>\n",
       "    <tr>\n",
       "      <th>155</th>\n",
       "      <td>155</td>\n",
       "      <td>10.731502</td>\n",
       "    </tr>\n",
       "    <tr>\n",
       "      <th>156</th>\n",
       "      <td>156</td>\n",
       "      <td>10.625249</td>\n",
       "    </tr>\n",
       "    <tr>\n",
       "      <th>157</th>\n",
       "      <td>157</td>\n",
       "      <td>10.520049</td>\n",
       "    </tr>\n",
       "    <tr>\n",
       "      <th>158</th>\n",
       "      <td>158</td>\n",
       "      <td>10.415890</td>\n",
       "    </tr>\n",
       "    <tr>\n",
       "      <th>159</th>\n",
       "      <td>159</td>\n",
       "      <td>10.312762</td>\n",
       "    </tr>\n",
       "    <tr>\n",
       "      <th>160</th>\n",
       "      <td>160</td>\n",
       "      <td>10.210656</td>\n",
       "    </tr>\n",
       "    <tr>\n",
       "      <th>161</th>\n",
       "      <td>161</td>\n",
       "      <td>10.109560</td>\n",
       "    </tr>\n",
       "    <tr>\n",
       "      <th>162</th>\n",
       "      <td>162</td>\n",
       "      <td>10.009466</td>\n",
       "    </tr>\n",
       "  </tbody>\n",
       "</table>\n",
       "</div>"
      ],
      "text/plain": [
       "     Unnamed: 0          x\n",
       "129         129  13.900046\n",
       "130         130  13.762421\n",
       "131         131  13.626160\n",
       "132         132  13.491247\n",
       "133         133  13.357671\n",
       "134         134  13.225416\n",
       "135         135  13.094472\n",
       "136         136  12.964823\n",
       "137         137  12.836459\n",
       "138         138  12.709365\n",
       "139         139  12.583530\n",
       "140         140  12.458940\n",
       "141         141  12.335585\n",
       "142         142  12.213450\n",
       "143         143  12.092525\n",
       "144         144  11.972797\n",
       "145         145  11.854254\n",
       "146         146  11.736886\n",
       "147         147  11.620679\n",
       "148         148  11.505623\n",
       "149         149  11.391705\n",
       "150         150  11.278916\n",
       "151         151  11.167244\n",
       "152         152  11.056677\n",
       "153         153  10.947205\n",
       "154         154  10.838817\n",
       "155         155  10.731502\n",
       "156         156  10.625249\n",
       "157         157  10.520049\n",
       "158         158  10.415890\n",
       "159         159  10.312762\n",
       "160         160  10.210656\n",
       "161         161  10.109560\n",
       "162         162  10.009466"
      ]
     },
     "execution_count": 12,
     "metadata": {},
     "output_type": "execute_result"
    }
   ],
   "source": [
    "ind = pd.read_csv('wavelengths_and_indices.csv')  # where x is the wavelength\n",
    "\n",
    "ind[(ind.x > 10) & (ind.x <= 14)]"
   ]
  },
  {
   "cell_type": "code",
   "execution_count": 13,
   "metadata": {},
   "outputs": [],
   "source": [
    "def create_mask():\n",
    "    \n",
    "    mask = np.full([1,1,32,32], 1) # init array with 0.5's\n",
    "    mask = torch.from_numpy(mask).to(device)\n",
    "    \n",
    "    #mask = torch.ones([1, 1, 32, 32]).to(device) # create mask with 1's in the shape of image\n",
    "    \n",
    "    #print(\"mask.shape\", mask.shape)\n",
    "\n",
    "    # use a random 'easy' mask\n",
    "    mask[:, :, :16, 25:] = 0\n",
    "    \n",
    "    # The noise doesn't matter for conceptual loss\n",
    "    mask[:, :, 19:, :] = 0\n",
    "    \n",
    "    \"\"\"Weighted mask\"\"\"\n",
    "    \n",
    "    # Normalization factors\n",
    "    mask[:, :, 16:19, :] = 2\n",
    "    \n",
    "    mask = mask.float() # make sure dtype is float, torch was complaining during inpainting that this is a double\n",
    "    \n",
    "    return mask"
   ]
  },
  {
   "cell_type": "markdown",
   "metadata": {},
   "source": [
    "## Visualize the mask"
   ]
  },
  {
   "cell_type": "code",
   "execution_count": 14,
   "metadata": {},
   "outputs": [
    {
     "data": {
      "text/plain": [
       "<matplotlib.image.AxesImage at 0x7f21b2091e10>"
      ]
     },
     "execution_count": 14,
     "metadata": {},
     "output_type": "execute_result"
    },
    {
     "data": {
      "image/png": "[encoded data removed]",
      "text/plain": [
       "<Figure size 432x288 with 1 Axes>"
      ]
     },
     "metadata": {
      "needs_background": "light"
     },
     "output_type": "display_data"
    }
   ],
   "source": [
    "m = create_mask().cpu()[0, 0, :, :]\n",
    "plt.imshow(m, cmap='gray', vmin=0, vmax=1.2)"
   ]
  },
  {
   "cell_type": "code",
   "execution_count": 15,
   "metadata": {},
   "outputs": [],
   "source": [
    "t = m.cpu().numpy().flatten()\n",
    "\n",
    "for i in range(len(t)):\n",
    "    if np.isnan(t[i]):\n",
    "        print('nan')"
   ]
  },
  {
   "cell_type": "code",
   "execution_count": 21,
   "metadata": {},
   "outputs": [
    {
     "name": "stdout",
     "output_type": "stream",
     "text": [
      " image [25/25] iteration : 8500 , context_loss: 613.761, perceptual_loss: -0.132725, total_loss: 613.627808, min L: 613.395752, 998.000000, D(G(z)): 0.124294, ETA: 0h 29m"
     ]
    }
   ],
   "source": [
    "# Lists to keep track of progress\n",
    "real_images = []\n",
    "masked_images= []\n",
    "inpainted_images = []\n",
    "final_inpainted_images = [] # last inpainted image for each input image\n",
    "n_iteration = []\n",
    "\n",
    "MSELoss = nn.MSELoss()\n",
    "L1Loss = nn.L1Loss() # MAE\n",
    "SmoothL1Loss = nn.SmoothL1Loss()\n",
    "\n",
    "\"\"\"\n",
    "Inpainting\n",
    "\"\"\"\n",
    "for i, data in enumerate(dataloader, 0): # batches per epoch\n",
    "    real_cpu = data.to(device)\n",
    "    b_size = real_cpu.size(0) # this is one ofc, it's one image we're trying to inpaint\n",
    "\n",
    "    #print(\"data.shape: \", data.shape)\n",
    "    image = data.to(device) # select the image (Channel, Height, Width), this is the original unmasked input image\n",
    "    \n",
    "    real_images.append(image)\n",
    "    #print(\"image.shape: \", image.shape)\n",
    "\n",
    "    \"\"\"Mask the image\"\"\"\n",
    "    mask = create_mask()\n",
    "\n",
    "    masked_image = torch.mul(image, mask).to(device) #image bigodot mask\n",
    "    masked_images.append(masked_image)\n",
    "    #print('masked image shape', masked_image.shape)\n",
    "    #plt.imshow(masked_image.detach().cpu()[0, 0, :, :], cmap='gray') # plot the masked image\n",
    "\n",
    "    opt = optim.Adam([z], lr=lr)\n",
    "\n",
    "    # what's v and m?\n",
    "    v = torch.tensor(0, dtype=torch.float32, device=device)\n",
    "    m = torch.tensor(0, dtype=torch.float32, device=device)\n",
    "\n",
    "\n",
    "    \"\"\"Start the inpainting process\"\"\"\n",
    "    early_stopping_n_iters = 0\n",
    "    early_stopping_min_loss = 999999 # set to random high number to initialize\n",
    "    for iteration in range(n_iters):\n",
    "        t1 = time.time()\n",
    "        if z.grad is not None:\n",
    "            z.grad.data.zero_()\n",
    "\n",
    "        G.zero_grad()\n",
    "        D.zero_grad()\n",
    "\n",
    "\n",
    "        image_generated = G(z) # generated image G(z)\n",
    "        image_generated_masked = torch.mul(image_generated, mask) # G(z) bigodot M\n",
    "        image_generated_inpainted = torch.mul(image_generated, (1-mask))+masked_image\n",
    "        \n",
    "        if (iteration % 100 == 0):\n",
    "            inpainted_images.append(image_generated_inpainted)\n",
    "\n",
    "        #print(\"image_generated_inpainted.shape : \",image_generated_inpainted.shape)\n",
    "\n",
    "        t = image_generated_inpainted.detach().cpu()[0, 0, :, :]\n",
    "\n",
    "        # TODO: why does this already look real?\n",
    "        #plt.imshow(t, cmap='gray') # plot the masked image \n",
    "\n",
    "        \"\"\"Calculate losses\"\"\"\n",
    "        #loss_context = torch.norm(image_generated_masked-masked_image, p=1) #what's p=1?\n",
    "        loss_context = lamb1*MSELoss(image_generated_masked,masked_image)\n",
    "        #loss_context = L1Loss(image_generated_masked, masked_image)*10\n",
    "        #loss_context = SmoothL1Loss(image_generated_masked, masked_image)*10\n",
    "        \n",
    "        discriminator_output = netD(image_generated_inpainted) - 0.005 # -0.005 offset so loss_perceptual doesn't become 1 when D(G(z)) == 1.000000\n",
    "        #print(\"Discriminator output: \", discriminator_output)\n",
    "\n",
    "        labels = torch.full((b_size,), 1, device=device)\n",
    "        loss_perceptual = lamb2*torch.log(1-discriminator_output)\n",
    "        \n",
    "        #if loss_perceptual == -np.inf:\n",
    "        #    #print('loss perceptual == -np.inf()')\n",
    "        #    loss_perceptual = torch.tensor(-10, dtype=torch.float32, device=device)\n",
    "        \n",
    "        #print(loss_perceptual.data.cpu().numpy().flatten()[0])\n",
    "\n",
    "        total_loss = loss_context + loss_perceptual\n",
    "        #total_loss = loss_context + 10*discriminator_output\n",
    "        \n",
    "        # grab the values from losses for printing\n",
    "        loss_perceptual = loss_perceptual.data.cpu().numpy().flatten()[0]\n",
    "        #loss_perceptual = 0\n",
    "        loss_context = loss_context.data.cpu().numpy().flatten()[0]\n",
    "\n",
    "\n",
    "\n",
    "        total_loss.backward()\n",
    "        opt.step()\n",
    "        \n",
    "        total_loss = total_loss.data.cpu().numpy().flatten()[0]\n",
    "        \n",
    "        \"\"\"Early stopping\"\"\" # TODO: \n",
    "        if iteration > 0:\n",
    "            delta_loss = early_stopping_min_loss - total_loss\n",
    "            delta_iters = iteration - iter1\n",
    "            \n",
    "            if (delta_loss < 0.001) or (total_loss > early_stopping_min_loss):\n",
    "                early_stopping_n_iters += 1\n",
    "            else:\n",
    "                #print('set to zero')\n",
    "                early_stopping_n_iters = 0\n",
    "            \n",
    "            if early_stopping_n_iters > 1000:\n",
    "                n_iteration.append(iteration)\n",
    "                break\n",
    "            \n",
    "        loss1 = total_loss\n",
    "        iter1 = iteration\n",
    "        \n",
    "        if total_loss < early_stopping_min_loss:\n",
    "            early_stopping_min_loss = total_loss\n",
    "            best_inpained_image = image_generated_inpainted.detach().cpu()\n",
    "            early_stopping_n_iters = 0\n",
    "            #print('min loss: ', early_stopping_min_loss)\n",
    "        \n",
    "        t2 = time.time()\n",
    "        \n",
    "        \"\"\"Calculate ETA\"\"\"\n",
    "        t_per_iter = t2 - t1 # time per iteration in seconds\n",
    "        \n",
    "        eta = t_per_iter * (n_iters - iteration) + t_per_iter* (len(images)-i+1) * n_iters # time left to finish epoch/image + time left to finish all epochs/images in SECONDS\n",
    "        eta_h = (eta/ 60) // 60 # divisor integer\n",
    "        eta_m = eta % 60 # get remainer\n",
    "        \n",
    "        if (iteration % 50 == 0):\n",
    "            print(\"\\r image [{}/{}] iteration : {:4} , context_loss: {:.3f}, perceptual_loss: {:3f}, total_loss: {:3f}, min L: {:3f}, {:1f}, D(G(z)): {:3f}, ETA: {:.0f}h {:.0f}m\".format(i+1, \n",
    "            len(images), iteration, loss_context,loss_perceptual, total_loss,early_stopping_min_loss, early_stopping_n_iters, discriminator_output.data.cpu().numpy().flatten()[0], eta_h, eta_m),end=\"\")\n",
    "            \n",
    "\n",
    "            \n",
    "        \"\"\"NaN monitor\"\"\"\n",
    "        #if (loss_context or loss_perceptual == np.nan()) and iteration >64:\n",
    "        #    print(r'='*10 + '     NaN     '+ '='*10)\n",
    "        #    print(loss_context, loss_percept  ual)\n",
    "            #break\n",
    "        \n",
    "    final_inpainted_images.append(best_inpained_image.detach().cpu())"
   ]
  },
  {
   "cell_type": "code",
   "execution_count": 22,
   "metadata": {},
   "outputs": [
    {
     "data": {
      "text/plain": [
       "25"
      ]
     },
     "execution_count": 22,
     "metadata": {},
     "output_type": "execute_result"
    }
   ],
   "source": [
    "len(real_images)"
   ]
  },
  {
   "cell_type": "markdown",
   "metadata": {},
   "source": [
    "## Inverse transform ASPA to spectrum"
   ]
  },
  {
   "cell_type": "code",
   "execution_count": 23,
   "metadata": {},
   "outputs": [],
   "source": [
    "def inverse_scale(X_, X_min, X_max):\n",
    "    \"\"\"\n",
    "    X_ is scaled X\n",
    "    X is unscaled X_\n",
    "    \"\"\"\n",
    "    X = X_ * (X_max - X_min) + X_min\n",
    "    return X"
   ]
  },
  {
   "cell_type": "code",
   "execution_count": 24,
   "metadata": {},
   "outputs": [
    {
     "data": {
      "image/png": "[encoded data removed]",
      "text/plain": [
       "<Figure size 432x288 with 1 Axes>"
      ]
     },
     "metadata": {},
     "output_type": "display_data"
    }
   ],
   "source": [
    "i = 0\n",
    "aspa = real_images[i].detach().cpu().numpy()[0, 0, :, :]\n",
    "\n",
    "\n",
    "plt.imshow(aspa, cmap='gray', vmin=0, vmax=1.2)\n",
    "\n",
    "\n",
    "\n",
    "n_bins = 8 # amount of bins the spectrum got scaled in\n",
    "\"\"\"Image parts from the aspa, still encoded\"\"\"\n",
    "spectrum = aspa[:16, :25]\n",
    "mins_ = [aspa[16:17, i*4:i*4+4] for i in range(n_bins)]\n",
    "stds_ = [aspa[17:18, i*4:i*4+4] for i in range(n_bins)]\n",
    "maxs_ = [aspa[18:19, i*4:i*4+4] for i in range(n_bins)]\n",
    "\n",
    "\"\"\"Decode to arrays\"\"\"\n",
    "spectrum = spectrum.flatten()\n",
    "\n",
    "mins_ = [inverse_scale(mins_[i].mean(), 0.005, 0.03) for i in range(n_bins)]\n",
    "stds_ = [inverse_scale(stds_[i].mean(), 0.005, 0.03) for i in range(n_bins)]\n",
    "maxs_ = [inverse_scale(maxs_[i].mean(), 1e-7, 1e-4) for i in range(n_bins)]"
   ]
  },
  {
   "cell_type": "code",
   "execution_count": 25,
   "metadata": {},
   "outputs": [
    {
     "data": {
      "text/html": [
       "<div>\n",
       "<style scoped>\n",
       "    .dataframe tbody tr th:only-of-type {\n",
       "        vertical-align: middle;\n",
       "    }\n",
       "\n",
       "    .dataframe tbody tr th {\n",
       "        vertical-align: top;\n",
       "    }\n",
       "\n",
       "    .dataframe thead th {\n",
       "        text-align: right;\n",
       "    }\n",
       "</style>\n",
       "<table border=\"1\" class=\"dataframe\">\n",
       "  <thead>\n",
       "    <tr style=\"text-align: right;\">\n",
       "      <th></th>\n",
       "      <th>x</th>\n",
       "      <th>y</th>\n",
       "    </tr>\n",
       "  </thead>\n",
       "  <tbody>\n",
       "    <tr>\n",
       "      <th>115</th>\n",
       "      <td>15.977744</td>\n",
       "      <td>0.167921</td>\n",
       "    </tr>\n",
       "    <tr>\n",
       "      <th>116</th>\n",
       "      <td>15.819548</td>\n",
       "      <td>0.013097</td>\n",
       "    </tr>\n",
       "    <tr>\n",
       "      <th>117</th>\n",
       "      <td>15.662919</td>\n",
       "      <td>0.046678</td>\n",
       "    </tr>\n",
       "    <tr>\n",
       "      <th>118</th>\n",
       "      <td>15.507841</td>\n",
       "      <td>0.001259</td>\n",
       "    </tr>\n",
       "    <tr>\n",
       "      <th>119</th>\n",
       "      <td>15.354298</td>\n",
       "      <td>0.044297</td>\n",
       "    </tr>\n",
       "  </tbody>\n",
       "</table>\n",
       "</div>"
      ],
      "text/plain": [
       "             x         y\n",
       "115  15.977744  0.167921\n",
       "116  15.819548  0.013097\n",
       "117  15.662919  0.046678\n",
       "118  15.507841  0.001259\n",
       "119  15.354298  0.044297"
      ]
     },
     "execution_count": 25,
     "metadata": {},
     "output_type": "execute_result"
    }
   ],
   "source": [
    "df = pd.read_csv('wavelengths_and_indices.csv', header=None, skiprows=[0], usecols=[1]) # load wavelengths\n",
    "df.columns = ['x']\n",
    "df = df.loc[df['x'] <= 16] # select only wavelengths <= 16\n",
    "df['y'] = spectrum\n",
    "\n",
    "df.head()"
   ]
  },
  {
   "cell_type": "code",
   "execution_count": 26,
   "metadata": {},
   "outputs": [
    {
     "data": {
      "text/plain": [
       "[<matplotlib.lines.Line2D at 0x7f2142d6d710>]"
      ]
     },
     "execution_count": 26,
     "metadata": {},
     "output_type": "execute_result"
    },
    {
     "data": {
      "image/png": "[encoded data removed]",
      "text/plain": [
       "<Figure size 432x288 with 1 Axes>"
      ]
     },
     "metadata": {},
     "output_type": "display_data"
    }
   ],
   "source": [
    "plt.plot(df.x, df.y)"
   ]
  },
  {
   "cell_type": "code",
   "execution_count": 27,
   "metadata": {},
   "outputs": [
    {
     "data": {
      "image/png": "[encoded data removed]",
      "text/plain": [
       "<Figure size 432x288 with 1 Axes>"
      ]
     },
     "metadata": {},
     "output_type": "display_data"
    }
   ],
   "source": [
    "\"\"\"select spectrum bins\"\"\"\n",
    "bin1 = df[df.x <= 0.8]\n",
    "bin2 = df[(df.x > 0.8) & (df.x <= 1.3)] # select data between 2 and 4 micron\n",
    "bin3 = df[(df.x > 1.3) & (df.x <= 2)]\n",
    "bin4 = df[(df.x > 2) & (df.x <= 4)]\n",
    "bin5 = df[(df.x > 4) & (df.x <= 6)]\n",
    "bin6 = df[(df.x > 6) & (df.x <= 10)]\n",
    "bin7 = df[(df.x > 10) & (df.x <= 14)]\n",
    "bin8 = df[df.x > 14]\n",
    "\n",
    "bins = [bin8, bin7, bin6, bin5, bin4, bin3, bin2, bin1]\n",
    "for b in bins:\n",
    "    plt.plot(b['x'], b['y'])"
   ]
  },
  {
   "cell_type": "code",
   "execution_count": 28,
   "metadata": {},
   "outputs": [
    {
     "data": {
      "text/plain": [
       "[115    1.900857e+27\n",
       " 116    1.548230e+27\n",
       " 117    1.624714e+27\n",
       " 118    1.521269e+27\n",
       " 119    1.619291e+27\n",
       " 120    1.518400e+27\n",
       " 121    1.616481e+27\n",
       " 122    1.571338e+27\n",
       " 123    1.545985e+27\n",
       " 124    1.605450e+27\n",
       " 125    1.525871e+27\n",
       " 126    1.599853e+27\n",
       " 127    1.578835e+27\n",
       " 128    1.559373e+27\n",
       " Name: y, dtype: float32, 129    1034.914551\n",
       " 130    1024.902222\n",
       " 131    1020.897156\n",
       " 132    1027.621948\n",
       " 133    1022.895996\n",
       " 134    1027.114868\n",
       " 135    1040.024658\n",
       " 136    1046.690674\n",
       " 137    1044.791260\n",
       " 138    1046.566284\n",
       " 139    1047.905396\n",
       " 140    1045.870239\n",
       " 141    1069.547729\n",
       " 142    1059.664795\n",
       " 143    1063.653687\n",
       " 144    1064.728271\n",
       " 145    1074.525024\n",
       " 146    1082.520386\n",
       " 147    1075.519287\n",
       " 148    1092.523560\n",
       " 149    1091.229248\n",
       " 150    1100.877197\n",
       " 151    1095.577026\n",
       " 152    1108.508911\n",
       " 153    1110.678589\n",
       " 154    1141.383057\n",
       " 155    1114.453613\n",
       " 156    1114.168823\n",
       " 157    1140.661255\n",
       " 158    1130.764404\n",
       " 159    1148.998291\n",
       " 160    1143.114014\n",
       " 161    1154.251465\n",
       " 162    1154.586426\n",
       " Name: y, dtype: float32, 163   -15.319342\n",
       " 164   -15.661859\n",
       " 165   -15.583947\n",
       " 166   -15.270566\n",
       " 167   -15.326793\n",
       " 168   -14.996401\n",
       " 169   -15.202900\n",
       " 170   -14.886841\n",
       " 171   -14.790224\n",
       " 172   -14.411580\n",
       " 173   -14.159517\n",
       " 174   -14.324268\n",
       " 175   -14.070047\n",
       " 176   -13.901677\n",
       " 177   -13.819824\n",
       " 178   -13.574148\n",
       " 179   -13.471664\n",
       " 180   -13.262522\n",
       " 181   -13.102419\n",
       " 182   -12.993189\n",
       " 183   -12.574529\n",
       " 184   -12.864264\n",
       " 185   -12.566393\n",
       " 186   -12.478319\n",
       " 187   -12.141054\n",
       " 188   -12.207886\n",
       " 189   -11.987875\n",
       " 190   -11.704267\n",
       " 191   -11.645624\n",
       " 192   -11.659445\n",
       " 193   -11.169014\n",
       " 194   -10.978676\n",
       " 195   -10.788069\n",
       " 196   -10.683756\n",
       " 197   -10.540480\n",
       " 198   -10.089856\n",
       " 199    -9.966714\n",
       " 200    -9.752056\n",
       " 201    -9.609070\n",
       " 202    -9.318268\n",
       " 203    -9.161762\n",
       " 204    -8.888525\n",
       " 205    -8.764200\n",
       " 206    -8.506041\n",
       " 207    -8.297969\n",
       " 208    -8.136633\n",
       " 209    -7.828797\n",
       " 210    -7.574406\n",
       " 211    -7.517033\n",
       " 212    -7.239762\n",
       " 213    -6.903964\n",
       " Name: y, dtype: float32, 214     90406016.0\n",
       " 215     91670312.0\n",
       " 216     92061280.0\n",
       " 217     92075408.0\n",
       " 218     93697440.0\n",
       " 219     92413200.0\n",
       " 220     94492784.0\n",
       " 221     93659632.0\n",
       " 222     95188272.0\n",
       " 223     95225656.0\n",
       " 224     95458064.0\n",
       " 225     96871016.0\n",
       " 226     96011328.0\n",
       " 227     96649488.0\n",
       " 228     97419880.0\n",
       " 229     97470912.0\n",
       " 230     98092560.0\n",
       " 231     98935048.0\n",
       " 232     99466816.0\n",
       " 233    100355264.0\n",
       " 234    100340736.0\n",
       " 235    102590240.0\n",
       " 236    100653008.0\n",
       " 237    104866496.0\n",
       " 238    101567448.0\n",
       " 239    101478160.0\n",
       " 240    100863776.0\n",
       " 241     99997584.0\n",
       " 242     99890544.0\n",
       " 243     99630608.0\n",
       " 244    104866496.0\n",
       " 245    101825944.0\n",
       " 246     99661024.0\n",
       " 247    100615120.0\n",
       " 248     95327776.0\n",
       " 249     97645760.0\n",
       " 250     93768696.0\n",
       " 251     90522336.0\n",
       " 252     89999232.0\n",
       " 253     86698304.0\n",
       " 254     85793432.0\n",
       " Name: y, dtype: float32, 255   -10.030293\n",
       " 256   -10.725870\n",
       " 257   -11.742862\n",
       " 258   -12.014592\n",
       " 259   -13.221830\n",
       " 260   -13.843501\n",
       " 261   -14.405102\n",
       " 262   -14.820926\n",
       " 263   -16.021069\n",
       " 264   -16.251554\n",
       " 265   -16.811518\n",
       " 266   -17.332201\n",
       " 267   -17.855635\n",
       " 268   -18.043146\n",
       " 269   -18.374020\n",
       " 270   -18.412781\n",
       " 271   -18.420679\n",
       " 272   -18.003883\n",
       " 273   -17.900536\n",
       " 274   -17.614054\n",
       " 275   -17.542418\n",
       " 276   -16.943705\n",
       " 277   -16.513365\n",
       " 278    -3.188573\n",
       " 279    -3.155180\n",
       " 280    -3.086082\n",
       " 281    -2.885412\n",
       " 282    -2.654590\n",
       " 283    -2.479122\n",
       " 284    -2.401770\n",
       "          ...    \n",
       " 294   -16.202635\n",
       " 295   -16.507376\n",
       " 296   -16.887318\n",
       " 297   -17.303818\n",
       " 298   -17.406906\n",
       " 299   -17.557072\n",
       " 300   -18.061720\n",
       " 301   -18.180796\n",
       " 302   -18.201820\n",
       " 303   -18.246399\n",
       " 304   -18.420679\n",
       " 305   -18.162161\n",
       " 306   -17.859632\n",
       " 307   -17.452784\n",
       " 308   -17.448812\n",
       " 309   -17.225088\n",
       " 310   -17.202095\n",
       " 311   -17.136099\n",
       " 312   -17.126165\n",
       " 313   -17.222647\n",
       " 314   -17.330244\n",
       " 315   -17.413481\n",
       " 316   -17.094061\n",
       " 317   -17.057899\n",
       " 318   -16.015667\n",
       " 319   -15.098638\n",
       " 320   -13.921918\n",
       " 321   -12.841956\n",
       " 322   -12.061746\n",
       " 323   -11.969824\n",
       " Name: y, Length: 69, dtype: float32, 324   -11.964958\n",
       " 325   -12.237558\n",
       " 326   -12.136836\n",
       " 327   -12.025904\n",
       " 328   -11.899858\n",
       " 329   -18.420679\n",
       " 330   -18.323854\n",
       " 331   -17.990658\n",
       " 332   -17.454842\n",
       " 333   -16.967339\n",
       " 334   -16.398943\n",
       " 335   -15.846497\n",
       " 336   -15.392661\n",
       " 337   -15.125123\n",
       " 338   -15.017468\n",
       " 339   -15.023668\n",
       " 340   -15.044087\n",
       " 341   -15.005181\n",
       " 342   -14.881475\n",
       " 343   -14.611217\n",
       " 344   -14.271521\n",
       " 345   -13.960474\n",
       " 346   -13.554735\n",
       " 347   -12.827415\n",
       " 348   -11.926103\n",
       " 349   -10.734510\n",
       " 350    -9.579890\n",
       " 351    -8.520281\n",
       " 352    -7.574413\n",
       " 353    -6.599395\n",
       " 354    -5.582417\n",
       " 355    -4.620450\n",
       " 356    -3.789021\n",
       " 357    -3.160798\n",
       " 358    -2.738956\n",
       " 359    -2.426694\n",
       " 360    -2.302584\n",
       " 361    -2.302900\n",
       " 362    -2.919948\n",
       " 363    -5.142212\n",
       " 364    -9.444638\n",
       " 365   -14.253005\n",
       " 366   -15.689934\n",
       " 367   -16.360661\n",
       " Name: y, dtype: float32, 368   -17.156216\n",
       " 369   -18.319126\n",
       " 370   -14.448962\n",
       " 371   -15.393009\n",
       " 372   -16.545815\n",
       " 373   -16.765461\n",
       " 374   -16.894297\n",
       " 375   -17.125597\n",
       " 376   -17.611683\n",
       " 377   -18.143061\n",
       " 378   -18.420679\n",
       " 379   -17.734127\n",
       " 380   -17.012392\n",
       " 381   -16.769377\n",
       " 382   -16.755829\n",
       " 383   -16.818846\n",
       " 384   -16.446468\n",
       " 385   -15.896349\n",
       " 386   -14.978264\n",
       " 387   -14.140787\n",
       " 388   -13.779896\n",
       " 389   -13.665824\n",
       " 390   -13.783133\n",
       " 391   -13.896655\n",
       " 392   -13.528076\n",
       " 393   -13.113325\n",
       " 394   -12.370863\n",
       " 395   -10.458712\n",
       " 396    -8.523658\n",
       " 397    -7.220679\n",
       " 398    -6.164873\n",
       " 399    -5.216901\n",
       " 400    -4.427035\n",
       " 401    -3.812819\n",
       " 402    -3.379540\n",
       " 403    -3.142352\n",
       " 404    -3.094402\n",
       " 405    -3.058115\n",
       " 406    -2.823895\n",
       " 407    -2.442841\n",
       " 408    -2.302584\n",
       " 409    -2.547619\n",
       " 410    -3.808820\n",
       " 411    -8.867427\n",
       " 412    -9.693283\n",
       " 413   -10.053721\n",
       " 414   -10.689560\n",
       " 415   -11.682642\n",
       " Name: y, dtype: float32]"
      ]
     },
     "execution_count": 28,
     "metadata": {},
     "output_type": "execute_result"
    }
   ],
   "source": [
    "\"\"\"Inverse scale the bins\"\"\"\n",
    "# min max values for spectrum from ASPA v2 notebook\n",
    "min_values = [1.518400e+27, \n",
    "                  1.000000e+03, \n",
    "                  -1.842068e+01, \n",
    "                  5.592880e+07, \n",
    "                  -1.842068e+01, \n",
    "                  -1.842068e+01, \n",
    "                  -1.842068e+01]\n",
    "    \n",
    "max_values = [3.796000e+27, \n",
    "                  2.000000e+03, \n",
    "                  -2.302585e+00, \n",
    "                  1.048665e+08, \n",
    "                  -2.302585e+00, \n",
    "                  -2.302585e+00,\n",
    "                  -2.302585e+00]\n",
    "\n",
    "spectra_inverses = []\n",
    "for i in range(7):\n",
    "    bin_ = bins[i]\n",
    "    max_ = maxs_[i]\n",
    "    min_ = mins_[i]\n",
    "    \n",
    "    spectrum = bin_['y']\n",
    "    spectrum_inverse = inverse_scale(spectrum, min_values[i], max_values[i])\n",
    "    spectra_inverses.append(spectrum_inverse)\n",
    "\n",
    "spectra_inverses"
   ]
  },
  {
   "cell_type": "markdown",
   "metadata": {},
   "source": [
    "# Show results"
   ]
  },
  {
   "cell_type": "code",
   "execution_count": 29,
   "metadata": {},
   "outputs": [],
   "source": [
    "real = real_images[0].detach().cpu()[0, 0, :, :]\n",
    "real_masked = masked_images[0].detach().cpu()[0, 0, :, :]\n",
    "\n",
    "#first_generated =inpainted_images[1].detach().cpu()[0, 0, :, :]\n",
    "last_generated = inpainted_images[-1].detach().cpu()[0, 0, :, :]"
   ]
  },
  {
   "cell_type": "code",
   "execution_count": 30,
   "metadata": {},
   "outputs": [
    {
     "data": {
      "image/png": "[encoded data removed]",
      "text/plain": [
       "<Figure size 1584x720 with 3 Axes>"
      ]
     },
     "metadata": {},
     "output_type": "display_data"
    }
   ],
   "source": [
    "plt.figure(figsize=(22,10))\n",
    "\n",
    "plt.subplot(1,3,1)\n",
    "plt.imshow(real, cmap='gray', vmin=0, vmax=1.2)\n",
    "plt.title('Ground truth')\n",
    "\n",
    "plt.subplot(1,3,2)\n",
    "plt.imshow(real_masked, cmap='gray', vmin=0, vmax=1.2)\n",
    "plt.title('Masked input')\n",
    "\n",
    "plt.subplot(1,3,3)\n",
    "plt.imshow(last_generated, cmap='gray', vmin=0, vmax=1.2)\n",
    "plt.title('Inpainted')\n",
    "\n",
    "plt.tight_layout()\n",
    "\n",
    "#plt.savefig('plots/inpainting.png', dpi=1300)"
   ]
  },
  {
   "cell_type": "code",
   "execution_count": 31,
   "metadata": {},
   "outputs": [
    {
     "name": "stdout",
     "output_type": "stream",
     "text": [
      "mean: -0.0302 \n",
      " std: 0.3529 \n",
      " min: -2.2330 \n",
      " max: 0.8803\n"
     ]
    },
    {
     "data": {
      "image/png": "[encoded data removed]",
      "text/plain": [
       "<Figure size 432x288 with 2 Axes>"
      ]
     },
     "metadata": {},
     "output_type": "display_data"
    }
   ],
   "source": [
    "difference = real - last_generated\n",
    "difference[19:, :] = 0 # remove the noise, it doesn't matter\n",
    "\n",
    "sns.heatmap(difference, cmap='gray')\n",
    "plt.title('Ground truth - Inpainted ')\n",
    "\n",
    "difference  = difference.cpu().detach().numpy().flatten()\n",
    "\n",
    "mean, sigma, min_, max_ = difference.mean().item(), difference.std(), difference.min(), difference.max()\n",
    "print('mean: %.4f \\n std: %.4f \\n min: %.4f \\n max: %.4f' % (mean, sigma, min_, max_))"
   ]
  },
  {
   "cell_type": "raw",
   "metadata": {},
   "source": [
    "import matplotlib\n",
    "matplotlib.rcParams['animation.embed_limit'] = 20**128\n",
    "\n",
    "#%%capture\n",
    "fig = plt.figure(figsize=(8,8))\n",
    "plt.axis(\"off\")\n",
    "ims = [[plt.imshow(i.detach().cpu()[0, 0, :, :], animated=True, cmap='gray', vmin=0, vmax=1.2)] for i in inpainted_images]\n",
    "ani = animation.ArtistAnimation(fig, ims, interval=500, repeat_delay=1000, blit=True)\n",
    "\n",
    "\n",
    "HTML(ani.to_jshtml())"
   ]
  },
  {
   "cell_type": "code",
   "execution_count": null,
   "metadata": {},
   "outputs": [],
   "source": []
  },
  {
   "cell_type": "markdown",
   "metadata": {},
   "source": [
    "# Decoding ASPA\n",
    "Need to clean this up. Using dicts like this is not clean."
   ]
  },
  {
   "cell_type": "code",
   "execution_count": 32,
   "metadata": {},
   "outputs": [
    {
     "data": {
      "text/plain": [
       "(32, 32)"
      ]
     },
     "execution_count": 32,
     "metadata": {},
     "output_type": "execute_result"
    }
   ],
   "source": [
    "aspa_inpainted = last_generated.numpy()\n",
    "aspa_real = real.numpy()\n",
    "\n",
    "aspa_inpainted.shape"
   ]
  },
  {
   "cell_type": "code",
   "execution_count": 33,
   "metadata": {},
   "outputs": [],
   "source": [
    "# Initialize ExoGAN params with zero's\n",
    "inpainted_params = {\n",
    "    'planet_mass': 0,\n",
    "    'temp_profile': 0,\n",
    "    'ch4_mixratio': 0,\n",
    "    'planet_radius': 0,\n",
    "    'h2o_mixratio': 0,\n",
    "    'co2_mixratio': 0,\n",
    "    'co_mixratio': 0\n",
    "}\n",
    "\n",
    "real_params = inpainted_params.copy()\n",
    "params_errors = inpainted_params.copy()"
   ]
  },
  {
   "cell_type": "markdown",
   "metadata": {},
   "source": [
    "## Inverse scale functions"
   ]
  },
  {
   "cell_type": "code",
   "execution_count": 34,
   "metadata": {},
   "outputs": [],
   "source": [
    "def inverse_scale_param(X_scaled, X_min, X_max):\n",
    "    return (X_scaled * (X_max-X_min)) + X_min\n",
    "\n",
    "def inverse_scale_params(params):\n",
    "    \"\"\"\n",
    "    Inverse scales the params array. \n",
    "    Params must be in fixed order, same order as it is encoded with.\n",
    "    \"\"\"\n",
    "    params = params.copy()\n",
    "    min_values = [1.518400e+27, \n",
    "                  1.000000e+03, \n",
    "                  -1.842068e+01, \n",
    "                  5.592880e+07, \n",
    "                  -1.842068e+01, \n",
    "                  -1.842068e+01, \n",
    "                  -1.842068e+01]\n",
    "    \n",
    "    max_values = [3.796000e+27, \n",
    "                  2.000000e+03, \n",
    "                  -2.302585e+00, \n",
    "                  1.048665e+08, \n",
    "                  -2.302585e+00, \n",
    "                  -2.302585e+00,\n",
    "                  -2.302585e+00]\n",
    "\n",
    "    params_inverse_scaled = []\n",
    "    for i in range(len(params)):\n",
    "        param = params[i]\n",
    "        min_= min_values[i]\n",
    "        max_ = max_values[i]\n",
    "\n",
    "        params_inverse_scaled.append(inverse_scale_param(param, min_, max_))\n",
    "    \n",
    "    return params_inverse_scaled"
   ]
  },
  {
   "cell_type": "markdown",
   "metadata": {},
   "source": [
    "## Inpainted params"
   ]
  },
  {
   "cell_type": "code",
   "execution_count": 35,
   "metadata": {},
   "outputs": [
    {
     "data": {
      "text/plain": [
       "[-0.00058861665,\n",
       " 0.37448317,\n",
       " 0.22411299,\n",
       " 0.20989856,\n",
       " 0.3021807,\n",
       " 0.28383234,\n",
       " 0.7098514]"
      ]
     },
     "execution_count": 35,
     "metadata": {},
     "output_type": "execute_result"
    }
   ],
   "source": [
    "inpainted_params_values = [aspa_inpainted[:16, 25+i:26+i] for i in range(len(inpainted_params))]\n",
    "inpainted_params_mean  = [i.mean() for i in inpainted_params_values]\n",
    "\n",
    "inpainted_params_mean"
   ]
  },
  {
   "cell_type": "code",
   "execution_count": 36,
   "metadata": {},
   "outputs": [
    {
     "data": {
      "text/plain": [
       "-8.95126699298"
      ]
     },
     "execution_count": 36,
     "metadata": {},
     "output_type": "execute_result"
    }
   ],
   "source": [
    "y = (0.5876265 * (-2.306--1.842068e+01))+-1.842068e+01\n",
    "y"
   ]
  },
  {
   "cell_type": "code",
   "execution_count": 37,
   "metadata": {},
   "outputs": [
    {
     "data": {
      "text/plain": [
       "[1.5170593667241278e+27,\n",
       " 1374.4831681251526,\n",
       " -14.808405576446058,\n",
       " 66200752.82035768,\n",
       " -13.550102650078237,\n",
       " -13.845843356717378,\n",
       " -6.979227954180837]"
      ]
     },
     "execution_count": 37,
     "metadata": {},
     "output_type": "execute_result"
    }
   ],
   "source": [
    "inpainted_params_mean = inverse_scale_params(inpainted_params_mean)\n",
    "inpainted_params_mean"
   ]
  },
  {
   "cell_type": "markdown",
   "metadata": {},
   "source": [
    "### Convert mixtures from log back to regular scale"
   ]
  },
  {
   "cell_type": "code",
   "execution_count": 38,
   "metadata": {},
   "outputs": [],
   "source": [
    "for i,param in enumerate(inpainted_params):\n",
    "    if 'mixratio' in param:\n",
    "        inpainted_params[param] = (inpainted_params_mean[i]) # convert log back to regular scale\n",
    "    else:\n",
    "        inpainted_params[param] = inpainted_params_mean[i]"
   ]
  },
  {
   "cell_type": "code",
   "execution_count": 39,
   "metadata": {},
   "outputs": [
    {
     "data": {
      "text/plain": [
       "{'planet_mass': 1.5170593667241278e+27,\n",
       " 'temp_profile': 1374.4831681251526,\n",
       " 'ch4_mixratio': -14.808405576446058,\n",
       " 'planet_radius': 66200752.82035768,\n",
       " 'h2o_mixratio': -13.550102650078237,\n",
       " 'co2_mixratio': -13.845843356717378,\n",
       " 'co_mixratio': -6.979227954180837}"
      ]
     },
     "execution_count": 39,
     "metadata": {},
     "output_type": "execute_result"
    }
   ],
   "source": [
    "inpainted_params"
   ]
  },
  {
   "cell_type": "markdown",
   "metadata": {},
   "source": [
    "## Real params\n",
    "Ground truth params"
   ]
  },
  {
   "cell_type": "code",
   "execution_count": null,
   "metadata": {},
   "outputs": [
    {
     "data": {
      "text/plain": [
       "[-0.6666667,\n",
       " -0.9996667,\n",
       " 0.09489016,\n",
       " -1.1428571,\n",
       " 0.09489016,\n",
       " 1.1428572,\n",
       " 1.1355497]"
      ]
     },
     "execution_count": 40,
     "metadata": {},
     "output_type": "execute_result"
    }
   ],
   "source": [
    "real_params_values = [aspa_real[:16, 25+i:26+i] for i in range(len(real_params))]\n",
    "real_params_mean  = [i.mean() for i in real_params_values]\n",
    "real_params_mean"
   ]
  },
  {
   "cell_type": "code",
   "execution_count": null,
   "metadata": {},
   "outputs": [
    {
     "data": {
      "text/plain": [
       "[-4.525184634915599e+19,\n",
       " 0.3333091735839844,\n",
       " -16.89123134869747,\n",
       " 3.333616256713867,\n",
       " -16.89123134869747,\n",
       " 8.234685644481488e-07,\n",
       " -0.11778263041317416]"
      ]
     },
     "execution_count": 41,
     "metadata": {},
     "output_type": "execute_result"
    }
   ],
   "source": [
    "real_params_mean = inverse_scale_params(real_params_mean)\n",
    "real_params_mean"
   ]
  },
  {
   "cell_type": "markdown",
   "metadata": {},
   "source": [
    "### Convert mixtures from log back to regular scale"
   ]
  },
  {
   "cell_type": "code",
   "execution_count": null,
   "metadata": {},
   "outputs": [],
   "source": [
    "for i,param in enumerate(real_params):\n",
    "    if 'mixratio' in param:\n",
    "        real_params[param] = (real_params_mean[i]) # convert log back to regular scale\n",
    "    else:\n",
    "        real_params[param] = real_params_mean[i]"
   ]
  },
  {
   "cell_type": "code",
   "execution_count": null,
   "metadata": {},
   "outputs": [
    {
     "data": {
      "text/plain": [
       "{'planet_mass': -4.525184634915599e+19,\n",
       " 'temp_profile': 0.3333091735839844,\n",
       " 'ch4_mixratio': -16.89123134869747,\n",
       " 'planet_radius': 3.333616256713867,\n",
       " 'h2o_mixratio': -16.89123134869747,\n",
       " 'co2_mixratio': 8.234685644481488e-07,\n",
       " 'co_mixratio': -0.11778263041317416}"
      ]
     },
     "execution_count": 43,
     "metadata": {},
     "output_type": "execute_result"
    }
   ],
   "source": [
    "real_params"
   ]
  },
  {
   "cell_type": "markdown",
   "metadata": {},
   "source": [
    "## Percentage error\n",
    "\n",
    "% error = $\\frac{y-\\hat{y}}{\\hat{y}} \\cdot$ 100"
   ]
  },
  {
   "cell_type": "code",
   "execution_count": null,
   "metadata": {},
   "outputs": [
    {
     "data": {
      "text/plain": [
       "{'planet_mass': -3352480692.7668476,\n",
       " 'temp_profile': 412274.839055794,\n",
       " 'ch4_mixratio': -12.330810757689523,\n",
       " 'planet_radius': 1985853931.25,\n",
       " 'h2o_mixratio': -19.780255386040146,\n",
       " 'co2_mixratio': -1681405311.38123,\n",
       " 'co_mixratio': 5825.51544289522}"
      ]
     },
     "execution_count": 44,
     "metadata": {},
     "output_type": "execute_result"
    }
   ],
   "source": [
    "percentage_errors = []\n",
    "for param in real_params:\n",
    "    y_hat = real_params[param]\n",
    "    y = inpainted_params[param]\n",
    "    \n",
    "    params_errors[param] = ((y - y_hat) / y_hat)*100\n",
    "\n",
    "params_errors"
   ]
  },
  {
   "cell_type": "markdown",
   "metadata": {},
   "source": [
    "## Print results"
   ]
  },
  {
   "cell_type": "code",
   "execution_count": null,
   "metadata": {},
   "outputs": [
    {
     "name": "stdout",
     "output_type": "stream",
     "text": [
      "planet_mass \t Real value: -4.52518e+19 \t inpainted value: 1.51706e+27 \t perc. diff.: -3352480692.7668476104736328125000000\n",
      "temp_profile \t Real value: 3.33309e-01 \t inpainted value: 1.37448e+03 \t perc. diff.: 412274.8390557940001599490642548\n",
      "ch4_mixratio \t Real value: -1.68912e+01 \t inpainted value: -1.48084e+01 \t perc. diff.: -12.3308107576895231716207491\n",
      "planet_radius \t Real value: 3.33362e+00 \t inpainted value: 6.62008e+07 \t perc. diff.: 1985853931.2500000000000000000000000\n",
      "h2o_mixratio \t Real value: -1.68912e+01 \t inpainted value: -1.35501e+01 \t perc. diff.: -19.7802553860401459928652912\n",
      "co2_mixratio \t Real value: 8.23469e-07 \t inpainted value: -1.38458e+01 \t perc. diff.: -1681405311.3812301158905029296875000\n",
      "co_mixratio \t Real value: -1.17783e-01 \t inpainted value: -6.97923e+00 \t perc. diff.: 5825.5154428952200760249979794\n"
     ]
    }
   ],
   "source": [
    "for param in inpainted_params:\n",
    "    real = real_params[param]\n",
    "    inpainted = inpainted_params[param]\n",
    "    error = params_errors[param]\n",
    "    \n",
    "    print('%s \\t Real value: %.5e \\t inpainted value: %.5e \\t perc. diff.: %.25f' % (param, real, inpainted, error))"
   ]
  },
  {
   "cell_type": "markdown",
   "metadata": {},
   "source": [
    "# Functionize this to output the MAPE of all inpainted images per metric "
   ]
  },
  {
   "cell_type": "code",
   "execution_count": null,
   "metadata": {},
   "outputs": [],
   "source": [
    "#real_images = []\n",
    "#final_inpainted_images = []\n",
    "\n",
    "reals = []\n",
    "inpainteds = []\n",
    "errors = []\n",
    "for i in range(len(real_images)-1):\n",
    "    aspa_real = real_images[i].detach().cpu()[0, 0, :, :].numpy() # size is 32,32 now\n",
    "    aspa_inpainted = final_inpainted_images[i].detach().cpu()[0, 0, :, :].numpy() # size is 32,32 now\n",
    "\n",
    "    \"\"\"Decode inpainted aspa\"\"\"\n",
    "    inpainted_params_values = [aspa_inpainted[:16, 25+j:26+j] for j in range(len(inpainted_params))]\n",
    "    inpainted_params_mean  = [k.mean() for k in inpainted_params_values]\n",
    "    inpainted_params_mean = inverse_scale_params(inpainted_params_mean)\n",
    "    \n",
    "    for a,param in enumerate(inpainted_params):\n",
    "        if 'mixratio' in param:\n",
    "            inpainted_params[param] = inpainted_params_mean[a] # convert log back to regular scale\n",
    "        else:\n",
    "            inpainted_params[param] = inpainted_params_mean[a]\n",
    "    \n",
    "    \"\"\"Decode real aspa\"\"\"\n",
    "    real_params_values = [aspa_real[:16, 25+b:26+b] for b in range(len(real_params))]\n",
    "    real_params_mean  = [c.mean() for c in real_params_values]\n",
    "    real_params_mean = inverse_scale_params(real_params_mean)\n",
    "    \n",
    "    for d,param in enumerate(real_params):\n",
    "        if 'mixratio' in param:\n",
    "            real_params[param] = real_params_mean[d] # convert log back to regular scale\n",
    "        else:\n",
    "            real_params[param] = real_params_mean[d]\n",
    "\n",
    "    \"\"\"Calculate percentage difference\"\"\"\n",
    "    params_errors = dict.fromkeys(params_errors, 0) # copy dicts' keys, set all values to zero\n",
    "    for param in real_params:\n",
    "        y_hat = real_params[param]\n",
    "        y = inpainted_params[param]\n",
    "        \n",
    "        params_errors[param] = ((y - y_hat) / y_hat)*100\n",
    "\n",
    "    reals.append(real_params.copy()) # !!!!! for some reason dicts need to be copied, to be able to append to a list... otherwise the dicts inside the lists get update too\n",
    "    inpainteds.append(inpainted_params.copy())\n",
    "    errors.append(params_errors.copy())\n"
   ]
  },
  {
   "cell_type": "raw",
   "metadata": {},
   "source": [
    "for error in errors:\n",
    "    print(error)"
   ]
  },
  {
   "cell_type": "markdown",
   "metadata": {},
   "source": [
    "# Create one large df from all the dicts"
   ]
  },
  {
   "cell_type": "code",
   "execution_count": null,
   "metadata": {},
   "outputs": [
    {
     "name": "stdout",
     "output_type": "stream",
     "text": [
      "{'planet_mass': -4.525184634915599e+19, 'temp_profile': 0.3333091735839844, 'ch4_mixratio': -16.89123134869747, 'planet_radius': 3.333616256713867, 'h2o_mixratio': -16.89123134869747, 'co2_mixratio': 8.234685644481488e-07, 'co_mixratio': -0.11778263041317416}\n",
      "{'planet_mass': -4.525184634915599e+19, 'temp_profile': 0.8888840675354004, 'ch4_mixratio': -2.197225490862131, 'planet_radius': 3.333616256713867, 'h2o_mixratio': -0.8109296100872747, 'co2_mixratio': -0.40546439330935513, 'co_mixratio': -0.40546439330935513}\n",
      "{'planet_mass': -4.525184634915599e+19, 'temp_profile': 0.555574893951416, 'ch4_mixratio': -0.40546439330935513, 'planet_radius': -2.5002121925354004, 'h2o_mixratio': -1.0986132944101108, 'co2_mixratio': -0.2513140971499688, 'co_mixratio': -0.2513140971499688}\n",
      "{'planet_mass': -4.525184634915599e+19, 'temp_profile': 0.7777810096740723, 'ch4_mixratio': -0.11778263041317416, 'planet_radius': 3.333616256713867, 'h2o_mixratio': -1.5040785111880304, 'co2_mixratio': -0.5877866470676665, 'co_mixratio': -2.197225490862131}\n",
      "{'planet_mass': -4.525184634915599e+19, 'temp_profile': 0.3333091735839844, 'ch4_mixratio': -0.5877866470676665, 'planet_radius': 3.333616256713867, 'h2o_mixratio': -2.197225490862131, 'co2_mixratio': -0.8109296100872747, 'co_mixratio': -2.197225490862131}\n",
      "{'planet_mass': -4.525184634915599e+19, 'temp_profile': 0.4444718360900879, 'ch4_mixratio': -0.11778263041317416, 'planet_radius': 3.333616256713867, 'h2o_mixratio': -0.11778263041317416, 'co2_mixratio': -16.89123134869747, 'co_mixratio': -16.89123134869747}\n",
      "{'planet_mass': -4.525184634915599e+19, 'temp_profile': 0.555574893951416, 'ch4_mixratio': -0.40546439330935513, 'planet_radius': 3.333616256713867, 'h2o_mixratio': -0.2513140971499688, 'co2_mixratio': 8.234685644481488e-07, 'co_mixratio': -0.11778263041317416}\n",
      "{'planet_mass': -4.525184634915599e+19, 'temp_profile': 0.7777810096740723, 'ch4_mixratio': -1.5040785111880304, 'planet_radius': -2.5002121925354004, 'h2o_mixratio': -0.2513140971499688, 'co2_mixratio': -1.0986132944101108, 'co_mixratio': -16.89123134869747}\n",
      "{'planet_mass': -4.525184634915599e+19, 'temp_profile': 0.3333091735839844, 'ch4_mixratio': -1.5040785111880304, 'planet_radius': -2.5002121925354004, 'h2o_mixratio': -0.5877866470676665, 'co2_mixratio': -0.40546439330935513, 'co_mixratio': -0.11778263041317416}\n",
      "{'planet_mass': -4.525184634915599e+19, 'temp_profile': 0.22220611572265625, 'ch4_mixratio': -16.89123134869747, 'planet_radius': -2.5002121925354004, 'h2o_mixratio': -0.40546439330935513, 'co2_mixratio': -1.5040785111880304, 'co_mixratio': -0.11778263041317416}\n",
      "{'planet_mass': -4.525184634915599e+19, 'temp_profile': 0.6666779518127441, 'ch4_mixratio': -1.0986132944101108, 'planet_radius': 3.333616256713867, 'h2o_mixratio': -16.89123134869747, 'co2_mixratio': -16.89123134869747, 'co_mixratio': -0.5877866470676665}\n",
      "{'planet_mass': -4.525184634915599e+19, 'temp_profile': 0.8888840675354004, 'ch4_mixratio': -0.40546439330935513, 'planet_radius': -2.5002121925354004, 'h2o_mixratio': -0.40546439330935513, 'co2_mixratio': -16.89123134869747, 'co_mixratio': -2.197225490862131}\n",
      "{'planet_mass': -4.525184634915599e+19, 'temp_profile': 0.22220611572265625, 'ch4_mixratio': -1.5040785111880304, 'planet_radius': 3.333616256713867, 'h2o_mixratio': 8.234685644481488e-07, 'co2_mixratio': 8.234685644481488e-07, 'co_mixratio': -1.0986132944101108}\n",
      "{'planet_mass': -4.525184634915599e+19, 'temp_profile': 0.4444718360900879, 'ch4_mixratio': -1.0986132944101108, 'planet_radius': 3.333616256713867, 'h2o_mixratio': -0.11778263041317416, 'co2_mixratio': -16.89123134869747, 'co_mixratio': -16.89123134869747}\n",
      "{'planet_mass': -4.525184634915599e+19, 'temp_profile': 0.22220611572265625, 'ch4_mixratio': -0.2513140971499688, 'planet_radius': -2.5002121925354004, 'h2o_mixratio': -0.2513140971499688, 'co2_mixratio': -2.197225490862131, 'co_mixratio': -0.2513140971499688}\n",
      "{'planet_mass': -4.525184634915599e+19, 'temp_profile': 0.3333091735839844, 'ch4_mixratio': -0.2513140971499688, 'planet_radius': 3.333616256713867, 'h2o_mixratio': -0.2513140971499688, 'co2_mixratio': -0.2513140971499688, 'co_mixratio': -0.11778263041317416}\n",
      "{'planet_mass': -4.525184634915599e+19, 'temp_profile': 0.4444718360900879, 'ch4_mixratio': -1.5040785111880304, 'planet_radius': 3.333616256713867, 'h2o_mixratio': -1.5040785111880304, 'co2_mixratio': -2.197225490862131, 'co_mixratio': -1.5040785111880304}\n",
      "{'planet_mass': -4.525184634915599e+19, 'temp_profile': 0.8888840675354004, 'ch4_mixratio': -0.8109296100872747, 'planet_radius': 3.333616256713867, 'h2o_mixratio': -0.2513140971499688, 'co2_mixratio': -0.40546439330935513, 'co_mixratio': -0.2513140971499688}\n",
      "{'planet_mass': -4.525184634915599e+19, 'temp_profile': 0.7777810096740723, 'ch4_mixratio': -0.2513140971499688, 'planet_radius': 3.333616256713867, 'h2o_mixratio': -1.0986132944101108, 'co2_mixratio': -1.5040785111880304, 'co_mixratio': -0.8109296100872747}\n",
      "{'planet_mass': -4.525184634915599e+19, 'temp_profile': 0.555574893951416, 'ch4_mixratio': -1.5040785111880304, 'planet_radius': -2.5002121925354004, 'h2o_mixratio': -16.89123134869747, 'co2_mixratio': -0.5877866470676665, 'co_mixratio': -0.5877866470676665}\n",
      "{'planet_mass': -4.525184634915599e+19, 'temp_profile': 0.8888840675354004, 'ch4_mixratio': 8.234685644481488e-07, 'planet_radius': -2.5002121925354004, 'h2o_mixratio': -0.40546439330935513, 'co2_mixratio': -0.2513140971499688, 'co_mixratio': -1.5040785111880304}\n",
      "{'planet_mass': -4.525184634915599e+19, 'temp_profile': 0.6666779518127441, 'ch4_mixratio': -2.197225490862131, 'planet_radius': 3.333616256713867, 'h2o_mixratio': -0.11778263041317416, 'co2_mixratio': -16.89123134869747, 'co_mixratio': -2.197225490862131}\n",
      "{'planet_mass': -4.525184634915599e+19, 'temp_profile': 0.11110305786132812, 'ch4_mixratio': -0.40546439330935513, 'planet_radius': 3.333616256713867, 'h2o_mixratio': -0.8109296100872747, 'co2_mixratio': -0.5877866470676665, 'co_mixratio': -0.2513140971499688}\n",
      "{'planet_mass': -4.525184634915599e+19, 'temp_profile': 0.9999871253967285, 'ch4_mixratio': -16.89123134869747, 'planet_radius': 3.333616256713867, 'h2o_mixratio': -0.11778263041317416, 'co2_mixratio': -0.11778263041317416, 'co_mixratio': -0.5877866470676665}\n"
     ]
    }
   ],
   "source": [
    "dfs = []\n",
    "for i in range(len(errors)):\n",
    "    print(reals[i])\n",
    "    df1 = pd.DataFrame(errors[i], index=[0])\n",
    "    df1.columns = [i+'_error' for i in df1.columns]\n",
    "\n",
    "    df2 = pd.DataFrame(reals[i], index=[0])\n",
    "    df2.columns = [i+'_real' for i in df2.columns]\n",
    "\n",
    "    df3 = pd.DataFrame(inpainteds[i], index=[0])\n",
    "    df3.columns = [i+'_inpainted' for i in df3.columns]\n",
    "\n",
    "    df = pd.concat([df1, df2, df3], axis=1)\n",
    "    \n",
    "    dfs.append(df)\n",
    "\n",
    "df = pd.concat(dfs)"
   ]
  },
  {
   "cell_type": "markdown",
   "metadata": {},
   "source": [
    "# Errors of all images"
   ]
  },
  {
   "cell_type": "code",
   "execution_count": null,
   "metadata": {},
   "outputs": [
    {
     "data": {
      "text/html": [
       "<div>\n",
       "<style scoped>\n",
       "    .dataframe tbody tr th:only-of-type {\n",
       "        vertical-align: middle;\n",
       "    }\n",
       "\n",
       "    .dataframe tbody tr th {\n",
       "        vertical-align: top;\n",
       "    }\n",
       "\n",
       "    .dataframe thead th {\n",
       "        text-align: right;\n",
       "    }\n",
       "</style>\n",
       "<table border=\"1\" class=\"dataframe\">\n",
       "  <thead>\n",
       "    <tr style=\"text-align: right;\">\n",
       "      <th></th>\n",
       "      <th>planet_mass_error</th>\n",
       "      <th>temp_profile_error</th>\n",
       "      <th>ch4_mixratio_error</th>\n",
       "      <th>planet_radius_error</th>\n",
       "      <th>h2o_mixratio_error</th>\n",
       "      <th>co2_mixratio_error</th>\n",
       "      <th>co_mixratio_error</th>\n",
       "      <th>planet_mass_real</th>\n",
       "      <th>temp_profile_real</th>\n",
       "      <th>ch4_mixratio_real</th>\n",
       "      <th>...</th>\n",
       "      <th>h2o_mixratio_real</th>\n",
       "      <th>co2_mixratio_real</th>\n",
       "      <th>co_mixratio_real</th>\n",
       "      <th>planet_mass_inpainted</th>\n",
       "      <th>temp_profile_inpainted</th>\n",
       "      <th>ch4_mixratio_inpainted</th>\n",
       "      <th>planet_radius_inpainted</th>\n",
       "      <th>h2o_mixratio_inpainted</th>\n",
       "      <th>co2_mixratio_inpainted</th>\n",
       "      <th>co_mixratio_inpainted</th>\n",
       "    </tr>\n",
       "  </thead>\n",
       "  <tbody>\n",
       "    <tr>\n",
       "      <th>count</th>\n",
       "      <td>2.400000e+01</td>\n",
       "      <td>2.400000e+01</td>\n",
       "      <td>2.400000e+01</td>\n",
       "      <td>2.400000e+01</td>\n",
       "      <td>2.400000e+01</td>\n",
       "      <td>2.400000e+01</td>\n",
       "      <td>24.000000</td>\n",
       "      <td>2.400000e+01</td>\n",
       "      <td>24.000000</td>\n",
       "      <td>2.400000e+01</td>\n",
       "      <td>...</td>\n",
       "      <td>2.400000e+01</td>\n",
       "      <td>2.400000e+01</td>\n",
       "      <td>24.000000</td>\n",
       "      <td>2.400000e+01</td>\n",
       "      <td>24.000000</td>\n",
       "      <td>24.000000</td>\n",
       "      <td>2.400000e+01</td>\n",
       "      <td>24.000000</td>\n",
       "      <td>24.000000</td>\n",
       "      <td>24.000000</td>\n",
       "    </tr>\n",
       "    <tr>\n",
       "      <th>mean</th>\n",
       "      <td>-5.912320e+09</td>\n",
       "      <td>4.740967e+05</td>\n",
       "      <td>-9.135693e+07</td>\n",
       "      <td>8.231376e+08</td>\n",
       "      <td>-6.776989e+07</td>\n",
       "      <td>-2.381468e+08</td>\n",
       "      <td>1487.725706</td>\n",
       "      <td>-4.525185e+19</td>\n",
       "      <td>0.555555</td>\n",
       "      <td>-2.866494e+00</td>\n",
       "      <td>...</td>\n",
       "      <td>-2.634585e+00</td>\n",
       "      <td>-4.067491e+00</td>\n",
       "      <td>-2.839304</td>\n",
       "      <td>2.675434e+27</td>\n",
       "      <td>1949.627632</td>\n",
       "      <td>-16.610188</td>\n",
       "      <td>7.191552e+07</td>\n",
       "      <td>-13.472966</td>\n",
       "      <td>-15.968649</td>\n",
       "      <td>-5.651054</td>\n",
       "    </tr>\n",
       "    <tr>\n",
       "      <th>std</th>\n",
       "      <td>1.729970e+09</td>\n",
       "      <td>3.342743e+05</td>\n",
       "      <td>4.475708e+08</td>\n",
       "      <td>2.254984e+09</td>\n",
       "      <td>3.320220e+08</td>\n",
       "      <td>6.447414e+08</td>\n",
       "      <td>1946.026502</td>\n",
       "      <td>0.000000e+00</td>\n",
       "      <td>0.262123</td>\n",
       "      <td>5.453347e+00</td>\n",
       "      <td>...</td>\n",
       "      <td>5.531128e+00</td>\n",
       "      <td>6.747878e+00</td>\n",
       "      <td>5.475974</td>\n",
       "      <td>7.828433e+26</td>\n",
       "      <td>490.137133</td>\n",
       "      <td>1.894000</td>\n",
       "      <td>1.244944e+07</td>\n",
       "      <td>1.634480</td>\n",
       "      <td>1.576940</td>\n",
       "      <td>3.254080</td>\n",
       "    </tr>\n",
       "    <tr>\n",
       "      <th>min</th>\n",
       "      <td>-1.000983e+10</td>\n",
       "      <td>1.510570e+05</td>\n",
       "      <td>-2.192637e+09</td>\n",
       "      <td>-2.344585e+09</td>\n",
       "      <td>-1.626565e+09</td>\n",
       "      <td>-2.042114e+09</td>\n",
       "      <td>-408.433360</td>\n",
       "      <td>-4.525185e+19</td>\n",
       "      <td>0.111103</td>\n",
       "      <td>-1.689123e+01</td>\n",
       "      <td>...</td>\n",
       "      <td>-1.689123e+01</td>\n",
       "      <td>-1.689123e+01</td>\n",
       "      <td>-16.891231</td>\n",
       "      <td>1.523595e+27</td>\n",
       "      <td>1343.610346</td>\n",
       "      <td>-18.130952</td>\n",
       "      <td>5.546018e+07</td>\n",
       "      <td>-16.688129</td>\n",
       "      <td>-18.318421</td>\n",
       "      <td>-9.874933</td>\n",
       "    </tr>\n",
       "    <tr>\n",
       "      <th>25%</th>\n",
       "      <td>-6.921622e+09</td>\n",
       "      <td>2.715099e+05</td>\n",
       "      <td>8.566282e+02</td>\n",
       "      <td>-2.246230e+09</td>\n",
       "      <td>9.231973e+02</td>\n",
       "      <td>2.418135e+00</td>\n",
       "      <td>259.973466</td>\n",
       "      <td>-4.525185e+19</td>\n",
       "      <td>0.333309</td>\n",
       "      <td>-1.504079e+00</td>\n",
       "      <td>...</td>\n",
       "      <td>-1.199980e+00</td>\n",
       "      <td>-2.197225e+00</td>\n",
       "      <td>-2.197225</td>\n",
       "      <td>2.029477e+27</td>\n",
       "      <td>1522.157662</td>\n",
       "      <td>-17.990382</td>\n",
       "      <td>5.825855e+07</td>\n",
       "      <td>-14.555766</td>\n",
       "      <td>-16.896458</td>\n",
       "      <td>-8.229683</td>\n",
       "    </tr>\n",
       "    <tr>\n",
       "      <th>50%</th>\n",
       "      <td>-5.968181e+09</td>\n",
       "      <td>3.277619e+05</td>\n",
       "      <td>1.535123e+03</td>\n",
       "      <td>2.195548e+09</td>\n",
       "      <td>2.156547e+03</td>\n",
       "      <td>1.285263e+03</td>\n",
       "      <td>530.612609</td>\n",
       "      <td>-4.525185e+19</td>\n",
       "      <td>0.555575</td>\n",
       "      <td>-9.547715e-01</td>\n",
       "      <td>...</td>\n",
       "      <td>-4.054644e-01</td>\n",
       "      <td>-5.877866e-01</td>\n",
       "      <td>-0.587787</td>\n",
       "      <td>2.700712e+27</td>\n",
       "      <td>1752.694607</td>\n",
       "      <td>-17.187648</td>\n",
       "      <td>7.319115e+07</td>\n",
       "      <td>-13.923092</td>\n",
       "      <td>-16.027329</td>\n",
       "      <td>-5.748421</td>\n",
       "    </tr>\n",
       "    <tr>\n",
       "      <th>75%</th>\n",
       "      <td>-4.484849e+09</td>\n",
       "      <td>5.124863e+05</td>\n",
       "      <td>4.096834e+03</td>\n",
       "      <td>2.387322e+09</td>\n",
       "      <td>5.613545e+03</td>\n",
       "      <td>3.643208e+03</td>\n",
       "      <td>1540.937776</td>\n",
       "      <td>-4.525185e+19</td>\n",
       "      <td>0.777781</td>\n",
       "      <td>-3.669268e-01</td>\n",
       "      <td>...</td>\n",
       "      <td>-2.513141e-01</td>\n",
       "      <td>-2.513141e-01</td>\n",
       "      <td>-0.251314</td>\n",
       "      <td>3.132162e+27</td>\n",
       "      <td>2441.968530</td>\n",
       "      <td>-15.583521</td>\n",
       "      <td>7.958416e+07</td>\n",
       "      <td>-12.611187</td>\n",
       "      <td>-14.925315</td>\n",
       "      <td>-4.061994</td>\n",
       "    </tr>\n",
       "    <tr>\n",
       "      <th>max</th>\n",
       "      <td>-3.366923e+09</td>\n",
       "      <td>1.340368e+06</td>\n",
       "      <td>1.128075e+04</td>\n",
       "      <td>2.802005e+09</td>\n",
       "      <td>1.206226e+04</td>\n",
       "      <td>1.166744e+04</td>\n",
       "      <td>6492.690580</td>\n",
       "      <td>-4.525185e+19</td>\n",
       "      <td>0.999987</td>\n",
       "      <td>8.234686e-07</td>\n",
       "      <td>...</td>\n",
       "      <td>8.234686e-07</td>\n",
       "      <td>8.234686e-07</td>\n",
       "      <td>-0.117783</td>\n",
       "      <td>4.529632e+27</td>\n",
       "      <td>2950.099230</td>\n",
       "      <td>-10.107541</td>\n",
       "      <td>9.340809e+07</td>\n",
       "      <td>-9.558389</td>\n",
       "      <td>-12.265012</td>\n",
       "      <td>4.639080</td>\n",
       "    </tr>\n",
       "  </tbody>\n",
       "</table>\n",
       "<p>8 rows × 21 columns</p>\n",
       "</div>"
      ],
      "text/plain": [
       "       planet_mass_error  temp_profile_error  ch4_mixratio_error  \\\n",
       "count       2.400000e+01        2.400000e+01        2.400000e+01   \n",
       "mean       -5.912320e+09        4.740967e+05       -9.135693e+07   \n",
       "std         1.729970e+09        3.342743e+05        4.475708e+08   \n",
       "min        -1.000983e+10        1.510570e+05       -2.192637e+09   \n",
       "25%        -6.921622e+09        2.715099e+05        8.566282e+02   \n",
       "50%        -5.968181e+09        3.277619e+05        1.535123e+03   \n",
       "75%        -4.484849e+09        5.124863e+05        4.096834e+03   \n",
       "max        -3.366923e+09        1.340368e+06        1.128075e+04   \n",
       "\n",
       "       planet_radius_error  h2o_mixratio_error  co2_mixratio_error  \\\n",
       "count         2.400000e+01        2.400000e+01        2.400000e+01   \n",
       "mean          8.231376e+08       -6.776989e+07       -2.381468e+08   \n",
       "std           2.254984e+09        3.320220e+08        6.447414e+08   \n",
       "min          -2.344585e+09       -1.626565e+09       -2.042114e+09   \n",
       "25%          -2.246230e+09        9.231973e+02        2.418135e+00   \n",
       "50%           2.195548e+09        2.156547e+03        1.285263e+03   \n",
       "75%           2.387322e+09        5.613545e+03        3.643208e+03   \n",
       "max           2.802005e+09        1.206226e+04        1.166744e+04   \n",
       "\n",
       "       co_mixratio_error  planet_mass_real  temp_profile_real  \\\n",
       "count          24.000000      2.400000e+01          24.000000   \n",
       "mean         1487.725706     -4.525185e+19           0.555555   \n",
       "std          1946.026502      0.000000e+00           0.262123   \n",
       "min          -408.433360     -4.525185e+19           0.111103   \n",
       "25%           259.973466     -4.525185e+19           0.333309   \n",
       "50%           530.612609     -4.525185e+19           0.555575   \n",
       "75%          1540.937776     -4.525185e+19           0.777781   \n",
       "max          6492.690580     -4.525185e+19           0.999987   \n",
       "\n",
       "       ch4_mixratio_real          ...            h2o_mixratio_real  \\\n",
       "count       2.400000e+01          ...                 2.400000e+01   \n",
       "mean       -2.866494e+00          ...                -2.634585e+00   \n",
       "std         5.453347e+00          ...                 5.531128e+00   \n",
       "min        -1.689123e+01          ...                -1.689123e+01   \n",
       "25%        -1.504079e+00          ...                -1.199980e+00   \n",
       "50%        -9.547715e-01          ...                -4.054644e-01   \n",
       "75%        -3.669268e-01          ...                -2.513141e-01   \n",
       "max         8.234686e-07          ...                 8.234686e-07   \n",
       "\n",
       "       co2_mixratio_real  co_mixratio_real  planet_mass_inpainted  \\\n",
       "count       2.400000e+01         24.000000           2.400000e+01   \n",
       "mean       -4.067491e+00         -2.839304           2.675434e+27   \n",
       "std         6.747878e+00          5.475974           7.828433e+26   \n",
       "min        -1.689123e+01        -16.891231           1.523595e+27   \n",
       "25%        -2.197225e+00         -2.197225           2.029477e+27   \n",
       "50%        -5.877866e-01         -0.587787           2.700712e+27   \n",
       "75%        -2.513141e-01         -0.251314           3.132162e+27   \n",
       "max         8.234686e-07         -0.117783           4.529632e+27   \n",
       "\n",
       "       temp_profile_inpainted  ch4_mixratio_inpainted  \\\n",
       "count               24.000000               24.000000   \n",
       "mean              1949.627632              -16.610188   \n",
       "std                490.137133                1.894000   \n",
       "min               1343.610346              -18.130952   \n",
       "25%               1522.157662              -17.990382   \n",
       "50%               1752.694607              -17.187648   \n",
       "75%               2441.968530              -15.583521   \n",
       "max               2950.099230              -10.107541   \n",
       "\n",
       "       planet_radius_inpainted  h2o_mixratio_inpainted  \\\n",
       "count             2.400000e+01               24.000000   \n",
       "mean              7.191552e+07              -13.472966   \n",
       "std               1.244944e+07                1.634480   \n",
       "min               5.546018e+07              -16.688129   \n",
       "25%               5.825855e+07              -14.555766   \n",
       "50%               7.319115e+07              -13.923092   \n",
       "75%               7.958416e+07              -12.611187   \n",
       "max               9.340809e+07               -9.558389   \n",
       "\n",
       "       co2_mixratio_inpainted  co_mixratio_inpainted  \n",
       "count               24.000000              24.000000  \n",
       "mean               -15.968649              -5.651054  \n",
       "std                  1.576940               3.254080  \n",
       "min                -18.318421              -9.874933  \n",
       "25%                -16.896458              -8.229683  \n",
       "50%                -16.027329              -5.748421  \n",
       "75%                -14.925315              -4.061994  \n",
       "max                -12.265012               4.639080  \n",
       "\n",
       "[8 rows x 21 columns]"
      ]
     },
     "execution_count": 48,
     "metadata": {},
     "output_type": "execute_result"
    }
   ],
   "source": [
    "df.describe()"
   ]
  },
  {
   "cell_type": "code",
   "execution_count": null,
   "metadata": {},
   "outputs": [
    {
     "data": {
      "text/html": [
       "<div>\n",
       "<style scoped>\n",
       "    .dataframe tbody tr th:only-of-type {\n",
       "        vertical-align: middle;\n",
       "    }\n",
       "\n",
       "    .dataframe tbody tr th {\n",
       "        vertical-align: top;\n",
       "    }\n",
       "\n",
       "    .dataframe thead th {\n",
       "        text-align: right;\n",
       "    }\n",
       "</style>\n",
       "<table border=\"1\" class=\"dataframe\">\n",
       "  <thead>\n",
       "    <tr style=\"text-align: right;\">\n",
       "      <th></th>\n",
       "      <th>planet_mass_error</th>\n",
       "      <th>temp_profile_error</th>\n",
       "      <th>ch4_mixratio_error</th>\n",
       "      <th>planet_radius_error</th>\n",
       "      <th>h2o_mixratio_error</th>\n",
       "      <th>co2_mixratio_error</th>\n",
       "      <th>co_mixratio_error</th>\n",
       "      <th>planet_mass_real</th>\n",
       "      <th>temp_profile_real</th>\n",
       "      <th>ch4_mixratio_real</th>\n",
       "      <th>...</th>\n",
       "      <th>h2o_mixratio_real</th>\n",
       "      <th>co2_mixratio_real</th>\n",
       "      <th>co_mixratio_real</th>\n",
       "      <th>planet_mass_inpainted</th>\n",
       "      <th>temp_profile_inpainted</th>\n",
       "      <th>ch4_mixratio_inpainted</th>\n",
       "      <th>planet_radius_inpainted</th>\n",
       "      <th>h2o_mixratio_inpainted</th>\n",
       "      <th>co2_mixratio_inpainted</th>\n",
       "      <th>co_mixratio_inpainted</th>\n",
       "    </tr>\n",
       "  </thead>\n",
       "  <tbody>\n",
       "    <tr>\n",
       "      <th>count</th>\n",
       "      <td>2.400000e+01</td>\n",
       "      <td>2.400000e+01</td>\n",
       "      <td>2.400000e+01</td>\n",
       "      <td>2.400000e+01</td>\n",
       "      <td>2.400000e+01</td>\n",
       "      <td>2.400000e+01</td>\n",
       "      <td>24.000000</td>\n",
       "      <td>2.400000e+01</td>\n",
       "      <td>24.000000</td>\n",
       "      <td>2.400000e+01</td>\n",
       "      <td>...</td>\n",
       "      <td>2.400000e+01</td>\n",
       "      <td>2.400000e+01</td>\n",
       "      <td>24.000000</td>\n",
       "      <td>2.400000e+01</td>\n",
       "      <td>24.000000</td>\n",
       "      <td>24.000000</td>\n",
       "      <td>2.400000e+01</td>\n",
       "      <td>24.000000</td>\n",
       "      <td>24.000000</td>\n",
       "      <td>24.000000</td>\n",
       "    </tr>\n",
       "    <tr>\n",
       "      <th>mean</th>\n",
       "      <td>-5.912320e+09</td>\n",
       "      <td>4.740967e+05</td>\n",
       "      <td>-9.135693e+07</td>\n",
       "      <td>8.231376e+08</td>\n",
       "      <td>-6.776989e+07</td>\n",
       "      <td>-2.381468e+08</td>\n",
       "      <td>1487.725706</td>\n",
       "      <td>-4.525185e+19</td>\n",
       "      <td>0.555555</td>\n",
       "      <td>-2.866494e+00</td>\n",
       "      <td>...</td>\n",
       "      <td>-2.634585e+00</td>\n",
       "      <td>-4.067491e+00</td>\n",
       "      <td>-2.839304</td>\n",
       "      <td>2.675434e+27</td>\n",
       "      <td>1949.627632</td>\n",
       "      <td>-16.610188</td>\n",
       "      <td>7.191552e+07</td>\n",
       "      <td>-13.472966</td>\n",
       "      <td>-15.968649</td>\n",
       "      <td>-5.651054</td>\n",
       "    </tr>\n",
       "    <tr>\n",
       "      <th>std</th>\n",
       "      <td>1.729970e+09</td>\n",
       "      <td>3.342743e+05</td>\n",
       "      <td>4.475708e+08</td>\n",
       "      <td>2.254984e+09</td>\n",
       "      <td>3.320220e+08</td>\n",
       "      <td>6.447414e+08</td>\n",
       "      <td>1946.026502</td>\n",
       "      <td>0.000000e+00</td>\n",
       "      <td>0.262123</td>\n",
       "      <td>5.453347e+00</td>\n",
       "      <td>...</td>\n",
       "      <td>5.531128e+00</td>\n",
       "      <td>6.747878e+00</td>\n",
       "      <td>5.475974</td>\n",
       "      <td>7.828433e+26</td>\n",
       "      <td>490.137133</td>\n",
       "      <td>1.894000</td>\n",
       "      <td>1.244944e+07</td>\n",
       "      <td>1.634480</td>\n",
       "      <td>1.576940</td>\n",
       "      <td>3.254080</td>\n",
       "    </tr>\n",
       "    <tr>\n",
       "      <th>min</th>\n",
       "      <td>-1.000983e+10</td>\n",
       "      <td>1.510570e+05</td>\n",
       "      <td>-2.192637e+09</td>\n",
       "      <td>-2.344585e+09</td>\n",
       "      <td>-1.626565e+09</td>\n",
       "      <td>-2.042114e+09</td>\n",
       "      <td>-408.433360</td>\n",
       "      <td>-4.525185e+19</td>\n",
       "      <td>0.111103</td>\n",
       "      <td>-1.689123e+01</td>\n",
       "      <td>...</td>\n",
       "      <td>-1.689123e+01</td>\n",
       "      <td>-1.689123e+01</td>\n",
       "      <td>-16.891231</td>\n",
       "      <td>1.523595e+27</td>\n",
       "      <td>1343.610346</td>\n",
       "      <td>-18.130952</td>\n",
       "      <td>5.546018e+07</td>\n",
       "      <td>-16.688129</td>\n",
       "      <td>-18.318421</td>\n",
       "      <td>-9.874933</td>\n",
       "    </tr>\n",
       "    <tr>\n",
       "      <th>25%</th>\n",
       "      <td>-6.921622e+09</td>\n",
       "      <td>2.715099e+05</td>\n",
       "      <td>8.566282e+02</td>\n",
       "      <td>-2.246230e+09</td>\n",
       "      <td>9.231973e+02</td>\n",
       "      <td>2.418135e+00</td>\n",
       "      <td>259.973466</td>\n",
       "      <td>-4.525185e+19</td>\n",
       "      <td>0.333309</td>\n",
       "      <td>-1.504079e+00</td>\n",
       "      <td>...</td>\n",
       "      <td>-1.199980e+00</td>\n",
       "      <td>-2.197225e+00</td>\n",
       "      <td>-2.197225</td>\n",
       "      <td>2.029477e+27</td>\n",
       "      <td>1522.157662</td>\n",
       "      <td>-17.990382</td>\n",
       "      <td>5.825855e+07</td>\n",
       "      <td>-14.555766</td>\n",
       "      <td>-16.896458</td>\n",
       "      <td>-8.229683</td>\n",
       "    </tr>\n",
       "    <tr>\n",
       "      <th>50%</th>\n",
       "      <td>-5.968181e+09</td>\n",
       "      <td>3.277619e+05</td>\n",
       "      <td>1.535123e+03</td>\n",
       "      <td>2.195548e+09</td>\n",
       "      <td>2.156547e+03</td>\n",
       "      <td>1.285263e+03</td>\n",
       "      <td>530.612609</td>\n",
       "      <td>-4.525185e+19</td>\n",
       "      <td>0.555575</td>\n",
       "      <td>-9.547715e-01</td>\n",
       "      <td>...</td>\n",
       "      <td>-4.054644e-01</td>\n",
       "      <td>-5.877866e-01</td>\n",
       "      <td>-0.587787</td>\n",
       "      <td>2.700712e+27</td>\n",
       "      <td>1752.694607</td>\n",
       "      <td>-17.187648</td>\n",
       "      <td>7.319115e+07</td>\n",
       "      <td>-13.923092</td>\n",
       "      <td>-16.027329</td>\n",
       "      <td>-5.748421</td>\n",
       "    </tr>\n",
       "    <tr>\n",
       "      <th>75%</th>\n",
       "      <td>-4.484849e+09</td>\n",
       "      <td>5.124863e+05</td>\n",
       "      <td>4.096834e+03</td>\n",
       "      <td>2.387322e+09</td>\n",
       "      <td>5.613545e+03</td>\n",
       "      <td>3.643208e+03</td>\n",
       "      <td>1540.937776</td>\n",
       "      <td>-4.525185e+19</td>\n",
       "      <td>0.777781</td>\n",
       "      <td>-3.669268e-01</td>\n",
       "      <td>...</td>\n",
       "      <td>-2.513141e-01</td>\n",
       "      <td>-2.513141e-01</td>\n",
       "      <td>-0.251314</td>\n",
       "      <td>3.132162e+27</td>\n",
       "      <td>2441.968530</td>\n",
       "      <td>-15.583521</td>\n",
       "      <td>7.958416e+07</td>\n",
       "      <td>-12.611187</td>\n",
       "      <td>-14.925315</td>\n",
       "      <td>-4.061994</td>\n",
       "    </tr>\n",
       "    <tr>\n",
       "      <th>max</th>\n",
       "      <td>-3.366923e+09</td>\n",
       "      <td>1.340368e+06</td>\n",
       "      <td>1.128075e+04</td>\n",
       "      <td>2.802005e+09</td>\n",
       "      <td>1.206226e+04</td>\n",
       "      <td>1.166744e+04</td>\n",
       "      <td>6492.690580</td>\n",
       "      <td>-4.525185e+19</td>\n",
       "      <td>0.999987</td>\n",
       "      <td>8.234686e-07</td>\n",
       "      <td>...</td>\n",
       "      <td>8.234686e-07</td>\n",
       "      <td>8.234686e-07</td>\n",
       "      <td>-0.117783</td>\n",
       "      <td>4.529632e+27</td>\n",
       "      <td>2950.099230</td>\n",
       "      <td>-10.107541</td>\n",
       "      <td>9.340809e+07</td>\n",
       "      <td>-9.558389</td>\n",
       "      <td>-12.265012</td>\n",
       "      <td>4.639080</td>\n",
       "    </tr>\n",
       "  </tbody>\n",
       "</table>\n",
       "<p>8 rows × 21 columns</p>\n",
       "</div>"
      ],
      "text/plain": [
       "       planet_mass_error  temp_profile_error  ch4_mixratio_error  \\\n",
       "count       2.400000e+01        2.400000e+01        2.400000e+01   \n",
       "mean       -5.912320e+09        4.740967e+05       -9.135693e+07   \n",
       "std         1.729970e+09        3.342743e+05        4.475708e+08   \n",
       "min        -1.000983e+10        1.510570e+05       -2.192637e+09   \n",
       "25%        -6.921622e+09        2.715099e+05        8.566282e+02   \n",
       "50%        -5.968181e+09        3.277619e+05        1.535123e+03   \n",
       "75%        -4.484849e+09        5.124863e+05        4.096834e+03   \n",
       "max        -3.366923e+09        1.340368e+06        1.128075e+04   \n",
       "\n",
       "       planet_radius_error  h2o_mixratio_error  co2_mixratio_error  \\\n",
       "count         2.400000e+01        2.400000e+01        2.400000e+01   \n",
       "mean          8.231376e+08       -6.776989e+07       -2.381468e+08   \n",
       "std           2.254984e+09        3.320220e+08        6.447414e+08   \n",
       "min          -2.344585e+09       -1.626565e+09       -2.042114e+09   \n",
       "25%          -2.246230e+09        9.231973e+02        2.418135e+00   \n",
       "50%           2.195548e+09        2.156547e+03        1.285263e+03   \n",
       "75%           2.387322e+09        5.613545e+03        3.643208e+03   \n",
       "max           2.802005e+09        1.206226e+04        1.166744e+04   \n",
       "\n",
       "       co_mixratio_error  planet_mass_real  temp_profile_real  \\\n",
       "count          24.000000      2.400000e+01          24.000000   \n",
       "mean         1487.725706     -4.525185e+19           0.555555   \n",
       "std          1946.026502      0.000000e+00           0.262123   \n",
       "min          -408.433360     -4.525185e+19           0.111103   \n",
       "25%           259.973466     -4.525185e+19           0.333309   \n",
       "50%           530.612609     -4.525185e+19           0.555575   \n",
       "75%          1540.937776     -4.525185e+19           0.777781   \n",
       "max          6492.690580     -4.525185e+19           0.999987   \n",
       "\n",
       "       ch4_mixratio_real          ...            h2o_mixratio_real  \\\n",
       "count       2.400000e+01          ...                 2.400000e+01   \n",
       "mean       -2.866494e+00          ...                -2.634585e+00   \n",
       "std         5.453347e+00          ...                 5.531128e+00   \n",
       "min        -1.689123e+01          ...                -1.689123e+01   \n",
       "25%        -1.504079e+00          ...                -1.199980e+00   \n",
       "50%        -9.547715e-01          ...                -4.054644e-01   \n",
       "75%        -3.669268e-01          ...                -2.513141e-01   \n",
       "max         8.234686e-07          ...                 8.234686e-07   \n",
       "\n",
       "       co2_mixratio_real  co_mixratio_real  planet_mass_inpainted  \\\n",
       "count       2.400000e+01         24.000000           2.400000e+01   \n",
       "mean       -4.067491e+00         -2.839304           2.675434e+27   \n",
       "std         6.747878e+00          5.475974           7.828433e+26   \n",
       "min        -1.689123e+01        -16.891231           1.523595e+27   \n",
       "25%        -2.197225e+00         -2.197225           2.029477e+27   \n",
       "50%        -5.877866e-01         -0.587787           2.700712e+27   \n",
       "75%        -2.513141e-01         -0.251314           3.132162e+27   \n",
       "max         8.234686e-07         -0.117783           4.529632e+27   \n",
       "\n",
       "       temp_profile_inpainted  ch4_mixratio_inpainted  \\\n",
       "count               24.000000               24.000000   \n",
       "mean              1949.627632              -16.610188   \n",
       "std                490.137133                1.894000   \n",
       "min               1343.610346              -18.130952   \n",
       "25%               1522.157662              -17.990382   \n",
       "50%               1752.694607              -17.187648   \n",
       "75%               2441.968530              -15.583521   \n",
       "max               2950.099230              -10.107541   \n",
       "\n",
       "       planet_radius_inpainted  h2o_mixratio_inpainted  \\\n",
       "count             2.400000e+01               24.000000   \n",
       "mean              7.191552e+07              -13.472966   \n",
       "std               1.244944e+07                1.634480   \n",
       "min               5.546018e+07              -16.688129   \n",
       "25%               5.825855e+07              -14.555766   \n",
       "50%               7.319115e+07              -13.923092   \n",
       "75%               7.958416e+07              -12.611187   \n",
       "max               9.340809e+07               -9.558389   \n",
       "\n",
       "       co2_mixratio_inpainted  co_mixratio_inpainted  \n",
       "count               24.000000              24.000000  \n",
       "mean               -15.968649              -5.651054  \n",
       "std                  1.576940               3.254080  \n",
       "min                -18.318421              -9.874933  \n",
       "25%                -16.896458              -8.229683  \n",
       "50%                -16.027329              -5.748421  \n",
       "75%                -14.925315              -4.061994  \n",
       "max                -12.265012               4.639080  \n",
       "\n",
       "[8 rows x 21 columns]"
      ]
     },
     "execution_count": 49,
     "metadata": {},
     "output_type": "execute_result"
    }
   ],
   "source": [
    "df.describe()"
   ]
  },
  {
   "cell_type": "code",
   "execution_count": null,
   "metadata": {},
   "outputs": [
    {
     "name": "stdout",
     "output_type": "stream",
     "text": [
      "ch4_mixratio\n"
     ]
    }
   ],
   "source": [
    "params = [param for param in real_params.keys()]\n",
    "param = params[2]\n",
    "print(param)"
   ]
  },
  {
   "cell_type": "code",
   "execution_count": null,
   "metadata": {},
   "outputs": [
    {
     "data": {
      "image/png": "[encoded data removed]",
      "text/plain": [
       "<Figure size 432x288 with 1 Axes>"
      ]
     },
     "metadata": {},
     "output_type": "display_data"
    }
   ],
   "source": [
    "x = df[param+'_real']\n",
    "y = df[param+'_inpainted']\n",
    "\n",
    "plt.plot(x, y, '.')\n",
    "plt.xlabel('real')\n",
    "plt.ylabel('inpainted')\n",
    "plt.grid()"
   ]
  },
  {
   "cell_type": "code",
   "execution_count": null,
   "metadata": {},
   "outputs": [
    {
     "data": {
      "text/plain": [
       "0   -1.689123e+01\n",
       "0   -2.197225e+00\n",
       "0   -4.054644e-01\n",
       "0   -1.177826e-01\n",
       "0   -5.877866e-01\n",
       "0   -1.177826e-01\n",
       "0   -4.054644e-01\n",
       "0   -1.504079e+00\n",
       "0   -1.504079e+00\n",
       "0   -1.689123e+01\n",
       "0   -1.098613e+00\n",
       "0   -4.054644e-01\n",
       "0   -1.504079e+00\n",
       "0   -1.098613e+00\n",
       "0   -2.513141e-01\n",
       "0   -2.513141e-01\n",
       "0   -1.504079e+00\n",
       "0   -8.109296e-01\n",
       "0   -2.513141e-01\n",
       "0   -1.504079e+00\n",
       "0    8.234686e-07\n",
       "0   -2.197225e+00\n",
       "0   -4.054644e-01\n",
       "0   -1.689123e+01\n",
       "Name: ch4_mixratio_real, dtype: float64"
      ]
     },
     "execution_count": 52,
     "metadata": {},
     "output_type": "execute_result"
    }
   ],
   "source": [
    "x"
   ]
  },
  {
   "cell_type": "code",
   "execution_count": null,
   "metadata": {},
   "outputs": [
    {
     "data": {
      "text/plain": [
       "0   -15.313492\n",
       "0   -16.919439\n",
       "0   -15.900467\n",
       "0   -13.404552\n",
       "0   -15.424160\n",
       "0   -10.107541\n",
       "0   -15.367952\n",
       "0   -17.926301\n",
       "0   -15.323934\n",
       "0   -17.987976\n",
       "0   -18.113507\n",
       "0   -17.956508\n",
       "0   -17.997601\n",
       "0   -17.813854\n",
       "0   -18.012741\n",
       "0   -17.933283\n",
       "0   -18.130952\n",
       "0   -18.068324\n",
       "0   -17.455857\n",
       "0   -16.374828\n",
       "0   -18.055677\n",
       "0   -16.715528\n",
       "0   -16.703388\n",
       "0   -15.636641\n",
       "Name: ch4_mixratio_inpainted, dtype: float64"
      ]
     },
     "execution_count": 53,
     "metadata": {},
     "output_type": "execute_result"
    }
   ],
   "source": [
    "y"
   ]
  },
  {
   "cell_type": "code",
   "execution_count": null,
   "metadata": {},
   "outputs": [
    {
     "data": {
      "text/plain": [
       "(array([ 1.,  0.,  0.,  0.,  0.,  0.,  0.,  0.,  0., 23.]),\n",
       " array([-2.19263723e+09, -1.97337238e+09, -1.75410753e+09, -1.53484267e+09,\n",
       "        -1.31557782e+09, -1.09631297e+09, -8.77048123e+08, -6.57783272e+08,\n",
       "        -4.38518421e+08, -2.19253570e+08,  1.12807542e+04]),\n",
       " <a list of 10 Patch objects>)"
      ]
     },
     "execution_count": 54,
     "metadata": {},
     "output_type": "execute_result"
    },
    {
     "data": {
      "image/png": "[encoded data removed]",
      "text/plain": [
       "<Figure size 432x288 with 1 Axes>"
      ]
     },
     "metadata": {},
     "output_type": "display_data"
    }
   ],
   "source": [
    "plt.hist(df[param+'_error'])"
   ]
  },
  {
   "cell_type": "code",
   "execution_count": null,
   "metadata": {},
   "outputs": [],
   "source": [
    "plt.figure(figsize=((25,10)))\n",
    "for i,param in enumerate(params):\n",
    "    plt.subplot(3,3,i+1)\n",
    "    plt.title(param+'_error')\n",
    "    plt.hist(df[param+'_error'], bins=20)\n",
    "    plt.grid()\n",
    "    plt.tight_layout()\n",
    "\n",
    "plt.savefig('plots//Validation error hist of '+str(len(images))+' images.png', dpi=1200)\n",
    "print('saved')"
   ]
  },
  {
   "cell_type": "raw",
   "metadata": {},
   "source": [
    "plt.figure(figsize=((25,10)))\n",
    "for i,param in enumerate(params):\n",
    "    x = df[param+'_error']\n",
    "    y = df[param+'_real']\n",
    "    \n",
    "    plt.subplot(3,3,i+1)\n",
    "\n",
    "    plt.plot(x, y, '.')\n",
    "    plt.tight_layout()"
   ]
  },
  {
   "cell_type": "code",
   "execution_count": null,
   "metadata": {},
   "outputs": [],
   "source": [
    "df.to_csv('Validation error of '+str(len(images))+' images')"
   ]
  },
  {
   "cell_type": "code",
   "execution_count": null,
   "metadata": {},
   "outputs": [],
   "source": [
    "df.head()"
   ]
  },
  {
   "cell_type": "code",
   "execution_count": null,
   "metadata": {},
   "outputs": [],
   "source": [
    "print('DONE')"
   ]
  },
  {
   "cell_type": "code",
   "execution_count": null,
   "metadata": {},
   "outputs": [],
   "source": [
    "param = params[2]\n",
    "df[[param+'_real', param+'_inpainted']]"
   ]
  },
  {
   "cell_type": "code",
   "execution_count": null,
   "metadata": {},
   "outputs": [],
   "source": [
    "print('Done')"
   ]
  },
  {
   "cell_type": "code",
   "execution_count": null,
   "metadata": {},
   "outputs": [],
   "source": [
    "print('Done')"
   ]
  },
  {
   "cell_type": "code",
   "execution_count": null,
   "metadata": {},
   "outputs": [],
   "source": [
    "print('done')"
   ]
  },
  {
   "cell_type": "code",
   "execution_count": null,
   "metadata": {},
   "outputs": [],
   "source": [
    "its = np.array(n_iteration)\n",
    "plt.hist(its)\n",
    "plt.grid()\n",
    "\n",
    "its.mean(), its.std()"
   ]
  },
  {
   "cell_type": "code",
   "execution_count": null,
   "metadata": {},
   "outputs": [],
   "source": []
  }
 ],
 "metadata": {
  "kernelspec": {
   "display_name": "Python 3",
   "language": "python",
   "name": "python3"
  },
  "language_info": {
   "codemirror_mode": {
    "name": "ipython",
    "version": 3
   },
   "file_extension": ".py",
   "mimetype": "text/x-python",
   "name": "python",
   "nbconvert_exporter": "python",
   "pygments_lexer": "ipython3",
   "version": "3.6.8"
  }
 },
 "nbformat": 4,
 "nbformat_minor": 2
}
