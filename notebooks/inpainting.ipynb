{
 "cells": [
  {
   "cell_type": "code",
   "execution_count": 1,
   "metadata": {},
   "outputs": [],
   "source": [
    "# Imports\n",
    "import random\n",
    "import sys\n",
    "import numpy as np\n",
    "import time\n",
    "import matplotlib.pyplot as plt\n",
    "import seaborn as sns\n",
    "\n",
    "import torch.nn as nn\n",
    "import torch.optim as optim\n",
    "import torchvision.utils as vutils\n",
    "import matplotlib.animation as animation\n",
    "from IPython.display import HTML\n",
    "\n",
    "import model\n",
    "from keijzer_exogan import *\n",
    "\n",
    "# initialize random seeds\n",
    "manualSeed = 999\n",
    "random.seed(manualSeed)\n",
    "torch.manual_seed(manualSeed)\n",
    "\n",
    "%matplotlib inline\n",
    "%config InlineBackend.print_figure_kwargs={'facecolor' : \"w\"} # Make sure the axis background of plots is white, this is usefull for the black theme in JupyterLab\n",
    "# Initialize default seaborn layout\n",
    "sns.set_palette(sns.hls_palette(8, l=.3, s=.8))\n",
    "sns.set(style='ticks')\n",
    "\n",
    "\n",
    "\"\"\"\n",
    "Local variables\n",
    "\"\"\"\n",
    "workers = 0 # Number of workers for dataloader, 0 when to_vram is enabled\n",
    "batch_size = 1 # using one image ofcourse\n",
    "image_size = 32\n",
    "nz = 100 # size of latent vector\n",
    "n_iters = 25*10**3 # number of iterations to do for inpainting\n",
    "torch.backends.cudnn.benchmark=True # Uses udnn auto-tuner to find the best algorithm to use for your hardware, speeds up training by almost 50%\n",
    "\n",
    "lr = 1e-1\n",
    "lamb1 = 1e3 #1e4\n",
    "lamb2 = 1 # 1 , total_loss = lamb1*loss_context + lamb2*loss_perceptual\n",
    "\n",
    "lr_G = 2e-4\n",
    "beta1 = 0.5 # Beta1 hyperparam for Adam optimizers\n",
    "selected_gpus = [3] # Number of GPUs available. Use 0 for CPU mode."
   ]
  },
  {
   "cell_type": "code",
   "execution_count": 2,
   "metadata": {},
   "outputs": [
    {
     "data": {
      "text/plain": [
       "1250000"
      ]
     },
     "execution_count": 2,
     "metadata": {},
     "output_type": "execute_result"
    }
   ],
   "source": [
    "path = '/datb/16011015/ExoGAN_data/selection//' #notice how you dont put the last folder in here...\n",
    "\n",
    "images = np.load(path+'last_chunks_25_percent_images_v3.npy').astype('float32')\n",
    "\n",
    "len(images)"
   ]
  },
  {
   "cell_type": "code",
   "execution_count": 3,
   "metadata": {},
   "outputs": [
    {
     "name": "stdout",
     "output_type": "stream",
     "text": [
      "Batch size:  1\n",
      "Number of GPUs used:  1\n",
      "Number of images:  25\n"
     ]
    }
   ],
   "source": [
    "print('Batch size: ', batch_size)\n",
    "\n",
    "\n",
    "# Number of training epochs\n",
    "\n",
    "# Learning rate for optimizers\n",
    "ngpu = len(selected_gpus)\n",
    "print('Number of GPUs used: ', ngpu)\n",
    "\n",
    "\n",
    "\"\"\"\n",
    "Load data and prepare DataLoader\n",
    "\"\"\"\n",
    "shuffle = True\n",
    "\n",
    "if shuffle:\n",
    "    np.random.shuffle(images) # shuffles the images\n",
    "\n",
    "images = images[:25] # 1200 should take ~ 1 hour\n",
    "#images = images[:int(len(images)*0.005)]\n",
    "print('Number of images: ', len(images))"
   ]
  },
  {
   "cell_type": "code",
   "execution_count": 4,
   "metadata": {},
   "outputs": [
    {
     "name": "stdout",
     "output_type": "stream",
     "text": [
      "Loading weights...\n",
      "done\n"
     ]
    }
   ],
   "source": [
    "dataset = numpy_dataset(data=images, to_vram=True) # to_vram pins it to all GPU's\n",
    "#dataset = numpy_dataset(data=images, to_vram=True, transform=transforms.Compose([transforms.Normalize((0.5, 0.5, 0.5), (0.5, 0.5, 0.5))])) # to_vram pins it to all GPU's\n",
    "\n",
    "# Create the dataloader\n",
    "dataloader = torch.utils.data.DataLoader(dataset, batch_size=batch_size,\n",
    "                                         shuffle=True, num_workers=workers, pin_memory=False)\n",
    "\n",
    "\"\"\"\n",
    "Load and setup models\n",
    "\"\"\"\n",
    "# Initialize cuda\n",
    "device = torch.device(\"cuda:\"+str(selected_gpus[0]) if (torch.cuda.is_available() and ngpu > 0) else \"cpu\")\n",
    "\n",
    "# Load models, set to evaluation mode since training is not needed (this also allows batchsize 1 to work with batchnorm2d layers)\n",
    "netG = model.Generator(ngpu).eval().to(device)\n",
    "netD = model.Discriminator(ngpu).eval().to(device)\n",
    "\n",
    "# Apply weights\n",
    "print('Loading weights...')\n",
    "try:\n",
    "    # Load saved weights\n",
    "    netG.load_state_dict(torch.load('gan_data//weights//netG_state_dict0_v3_test', map_location=device)) #net.module..load_... for parallel model , net.load_... for single gpu model\n",
    "    netD.load_state_dict(torch.load('gan_data//weights//netD_state_dict0_v3_test', map_location=device))\n",
    "except:\n",
    "    print('Could not load saved weights.')\n",
    "    sys.exit()\n",
    "\n",
    "\n",
    "\n",
    "\n",
    "\n",
    "\"\"\"\n",
    "Define input training stuff (fancy this up)\n",
    "\"\"\"\n",
    "G = netG\n",
    "D = netD\n",
    "z = torch.randn(1, nz, 1, 1, requires_grad=True, device=device)\n",
    "\n",
    "# Handle multi-gpu if desired\n",
    "if (device.type == 'cuda') and (ngpu > 1):\n",
    "    G = nn.DataParallel(G, device_ids=selected_gpus, output_device=device)\n",
    "    D = nn.DataParallel(D, device_ids=selected_gpus, output_device=device)\n",
    "    #z = nn.DataParallel(z, device_ids=selected_gpus, output_device=device)\n",
    "\n",
    "# Setup Adam optimizers for both G and D\n",
    "optimizerD = optim.Adam(netD.parameters(), lr=lr, betas=(beta1, 0.999)) # should be sgd\n",
    "optimizerG = optim.Adam(netG.parameters(), lr=lr_G, betas=(beta1, 0.999))\n",
    "\n",
    "print('done')"
   ]
  },
  {
   "cell_type": "markdown",
   "metadata": {},
   "source": [
    "# Show generated images"
   ]
  },
  {
   "cell_type": "code",
   "execution_count": 5,
   "metadata": {},
   "outputs": [
    {
     "data": {
      "image/png": "[encoded data removed]",
      "text/plain": [
       "<Figure size 720x720 with 9 Axes>"
      ]
     },
     "metadata": {
      "needs_background": "light"
     },
     "output_type": "display_data"
    }
   ],
   "source": [
    "from sklearn.preprocessing import MinMaxScaler\n",
    "\n",
    "z_tests = [torch.randn(1, nz, 1, 1, device=device) for _ in range(9)]\n",
    "\n",
    "plt.figure(figsize=(10,10))\n",
    "for i in range(9):\n",
    "    img = G(z_tests[i]).detach().cpu()[0, 0, :, :]\n",
    "    plt.subplot(3,3,i+1)\n",
    "    #scaler = MinMaxScaler((0, 1.2))\n",
    "    #img = scaler.fit_transform(img)\n",
    "    plt.imshow(img, cmap='gray', vmin=-1.2, vmax=1.2)\n",
    "    #plt.imshow(img, cmap='gray')\n",
    "\n",
    "plt.tight_layout()"
   ]
  },
  {
   "cell_type": "code",
   "execution_count": 6,
   "metadata": {},
   "outputs": [
    {
     "data": {
      "text/plain": [
       "(tensor(-1.3089), tensor(1.6892), tensor(0.2116), tensor(0.6228))"
      ]
     },
     "execution_count": 6,
     "metadata": {},
     "output_type": "execute_result"
    }
   ],
   "source": [
    "img.min(), img.max(), img.mean(), img.std()"
   ]
  },
  {
   "cell_type": "markdown",
   "metadata": {},
   "source": [
    "## Make sure Z is different for each image"
   ]
  },
  {
   "cell_type": "code",
   "execution_count": 7,
   "metadata": {},
   "outputs": [
    {
     "data": {
      "image/png": "[encoded data removed]",
      "text/plain": [
       "<Figure size 720x720 with 9 Axes>"
      ]
     },
     "metadata": {
      "needs_background": "light"
     },
     "output_type": "display_data"
    }
   ],
   "source": [
    "plt.figure(figsize=(10,10))\n",
    "for i,z_t in enumerate(z_tests):\n",
    "    z_t = z_t.detach().cpu().numpy()\n",
    "    \n",
    "    plt.subplot(3,3,i+1)\n",
    "    \n",
    "    plt.hist(z_t.flatten())\n",
    "    plt.grid()\n",
    "    \n",
    "    plt.tight_layout()\n",
    "    #print(z_t[0].flatten())"
   ]
  },
  {
   "cell_type": "markdown",
   "metadata": {},
   "source": [
    "## Show first 9 selected images"
   ]
  },
  {
   "cell_type": "code",
   "execution_count": 8,
   "metadata": {},
   "outputs": [
    {
     "data": {
      "image/png": "[encoded data removed]",
      "text/plain": [
       "<Figure size 720x720 with 9 Axes>"
      ]
     },
     "metadata": {
      "needs_background": "light"
     },
     "output_type": "display_data"
    }
   ],
   "source": [
    "plt.figure(figsize=(10,10))\n",
    "for i in range(9):\n",
    "    try:\n",
    "        img = images[i]\n",
    "        plt.subplot(3,3,i+1)\n",
    "        plt.imshow(img[0, :, :], cmap='gray', vmin=-1.2, vmax=1.2)\n",
    "    except:\n",
    "        pass\n",
    "\n",
    "plt.tight_layout()"
   ]
  },
  {
   "cell_type": "code",
   "execution_count": 9,
   "metadata": {},
   "outputs": [
    {
     "data": {
      "text/plain": [
       "(-1.0021654, 1.0, 0.14377047, 0.6042961)"
      ]
     },
     "execution_count": 9,
     "metadata": {},
     "output_type": "execute_result"
    }
   ],
   "source": [
    "img.min(), img.max(), img.mean(), img.std()"
   ]
  },
  {
   "cell_type": "markdown",
   "metadata": {},
   "source": [
    "# Visualizing the weights for debugging purposes"
   ]
  },
  {
   "cell_type": "code",
   "execution_count": 10,
   "metadata": {},
   "outputs": [
    {
     "name": "stdout",
     "output_type": "stream",
     "text": [
      "Layer: 0 \t n_weights: 512 \t std: 0.0543 \t mean: -0.0002\n",
      "Layer: 1 \t n_weights: 16384 \t std: 0.2809 \t mean: 0.0052\n",
      "Layer: 2 \t n_weights: 32768 \t std: 0.3949 \t mean: 0.0436\n",
      "Layer: 3 \t n_weights: 131072 \t std: 0.4490 \t mean: 0.0514\n",
      "Layer: 4 \t n_weights: 524288 \t std: 0.1621 \t mean: 0.0036\n",
      "Layer: 5 \t n_weights: 256 \t std: 0.0113 \t mean: -0.0016\n"
     ]
    },
    {
     "data": {
      "image/png": "[encoded data removed]",
      "text/plain": [
       "<Figure size 720x720 with 6 Axes>"
      ]
     },
     "metadata": {
      "needs_background": "light"
     },
     "output_type": "display_data"
    }
   ],
   "source": [
    "weights = [param.data.cpu().numpy().flatten() for param in netD.parameters()]\n",
    "\n",
    "plt.figure(figsize=(10,10))\n",
    "for i,layer_weights in enumerate(weights):\n",
    "    print('Layer: %s \\t n_weights: %s \\t std: %.4f \\t mean: %.4f' % (i, len(layer_weights), layer_weights.std(), layer_weights.mean()))\n",
    "    plt.subplot(3,2,i+1)\n",
    "    plt.title('netD layer %s weights' % i)\n",
    "    plt.hist(layer_weights, bins=100)\n",
    "    plt.grid()\n",
    "    plt.tight_layout()"
   ]
  },
  {
   "cell_type": "code",
   "execution_count": 11,
   "metadata": {},
   "outputs": [
    {
     "name": "stdout",
     "output_type": "stream",
     "text": [
      "Layer: 0 \t n_weights: 409600 \t std: 0.0736 \t mean: -0.0001\n",
      "Layer: 1 \t n_weights: 524288 \t std: 0.1146 \t mean: -0.0092\n",
      "Layer: 2 \t n_weights: 131072 \t std: 0.1135 \t mean: -0.0029\n",
      "Layer: 3 \t n_weights: 32768 \t std: 0.0937 \t mean: -0.0049\n",
      "Layer: 4 \t n_weights: 16384 \t std: 0.0772 \t mean: -0.0023\n",
      "Layer: 5 \t n_weights: 512 \t std: 0.0361 \t mean: 0.0004\n"
     ]
    },
    {
     "data": {
      "image/png": "[encoded data removed]",
      "text/plain": [
       "<Figure size 720x720 with 6 Axes>"
      ]
     },
     "metadata": {
      "needs_background": "light"
     },
     "output_type": "display_data"
    }
   ],
   "source": [
    "weights = [param.data.cpu().numpy().flatten() for param in netG.parameters()] # where param.data are the weights of the i-th layer\n",
    "\n",
    "plt.figure(figsize=(10,10))\n",
    "for i,layer_weights in enumerate(weights):\n",
    "    print('Layer: %s \\t n_weights: %s \\t std: %.4f \\t mean: %.4f' % (i, len(layer_weights), layer_weights.std(), layer_weights.mean()))\n",
    "    plt.subplot(3,2,i+1)\n",
    "    plt.title('netG layer %s weights' % i)\n",
    "    plt.hist(layer_weights, bins=100)\n",
    "    plt.grid()\n",
    "    plt.tight_layout()"
   ]
  },
  {
   "cell_type": "markdown",
   "metadata": {},
   "source": [
    "# Inpainting\n",
    "The corrupted image $y$ is mapped to the closest $z$ in the latent representation space, this mapping is denoted as $\\hat{z}$.\n",
    "    \n",
    "$\\hat{z} = \\operatorname{arg\\,min}_z \\{ \\mathcal{L}_c(z |y, M) + \\mathcal{L}_p (z) \\}$\n",
    "\n",
    "where\n",
    "\n",
    "$\\mathcal{L}_c(z |y, M) = || M \\bigodot G(z) - M \\bigodot y||_1 = || M \\bigodot (G(z)-y) ||_1 $\n",
    "\n",
    "with $\\mathcal{L}_c$ being contextual loss and $M$ being a binary mask with the same size as $y$,\n",
    "\n",
    "$\\mathcal{L}_p (z) = \\lambda \\operatorname{log}(1-D(G(z)))$\n",
    "\n",
    "with $\\mathcal{L}_p$ being perceptual loss and $D$ being the discriminator.\n",
    "  \n",
    "Once $G(\\hat{z})$ is generated, the final solution $\\hat{x}$ is calculated as\n",
    "\n",
    "$\\hat{x} = \\operatorname{arg\\, min}_x ||\\nabla x - \\nabla G(\\hat{z}) ||^2_2$  \n",
    "\n",
    "(substitute $x_i = y_i$ for $M_i = 1$).\n",
    "\n",
    "-----\n",
    "\n",
    "$|| ... ||$ is done by `torch.norm()`.  \n",
    "$... \\bigodot ...$ is done by `torch.mul()`.  \n",
    "-----\n",
    "TODO: Implement $\\hat{x} = \\operatorname{arg\\, min}_x ||\\nabla x - \\nabla G(\\hat{z}) ||^2_2$    \n",
    "Currently $\\hat{x} = G(\\hat{z}) \\bigodot (1 -M)+y$"
   ]
  },
  {
   "cell_type": "code",
   "execution_count": 12,
   "metadata": {},
   "outputs": [
    {
     "data": {
      "text/html": [
       "<div>\n",
       "<style scoped>\n",
       "    .dataframe tbody tr th:only-of-type {\n",
       "        vertical-align: middle;\n",
       "    }\n",
       "\n",
       "    .dataframe tbody tr th {\n",
       "        vertical-align: top;\n",
       "    }\n",
       "\n",
       "    .dataframe thead th {\n",
       "        text-align: right;\n",
       "    }\n",
       "</style>\n",
       "<table border=\"1\" class=\"dataframe\">\n",
       "  <thead>\n",
       "    <tr style=\"text-align: right;\">\n",
       "      <th></th>\n",
       "      <th>Unnamed: 0</th>\n",
       "      <th>x</th>\n",
       "    </tr>\n",
       "  </thead>\n",
       "  <tbody>\n",
       "    <tr>\n",
       "      <th>129</th>\n",
       "      <td>129</td>\n",
       "      <td>13.900046</td>\n",
       "    </tr>\n",
       "    <tr>\n",
       "      <th>130</th>\n",
       "      <td>130</td>\n",
       "      <td>13.762421</td>\n",
       "    </tr>\n",
       "    <tr>\n",
       "      <th>131</th>\n",
       "      <td>131</td>\n",
       "      <td>13.626160</td>\n",
       "    </tr>\n",
       "    <tr>\n",
       "      <th>132</th>\n",
       "      <td>132</td>\n",
       "      <td>13.491247</td>\n",
       "    </tr>\n",
       "    <tr>\n",
       "      <th>133</th>\n",
       "      <td>133</td>\n",
       "      <td>13.357671</td>\n",
       "    </tr>\n",
       "    <tr>\n",
       "      <th>134</th>\n",
       "      <td>134</td>\n",
       "      <td>13.225416</td>\n",
       "    </tr>\n",
       "    <tr>\n",
       "      <th>135</th>\n",
       "      <td>135</td>\n",
       "      <td>13.094472</td>\n",
       "    </tr>\n",
       "    <tr>\n",
       "      <th>136</th>\n",
       "      <td>136</td>\n",
       "      <td>12.964823</td>\n",
       "    </tr>\n",
       "    <tr>\n",
       "      <th>137</th>\n",
       "      <td>137</td>\n",
       "      <td>12.836459</td>\n",
       "    </tr>\n",
       "    <tr>\n",
       "      <th>138</th>\n",
       "      <td>138</td>\n",
       "      <td>12.709365</td>\n",
       "    </tr>\n",
       "    <tr>\n",
       "      <th>139</th>\n",
       "      <td>139</td>\n",
       "      <td>12.583530</td>\n",
       "    </tr>\n",
       "    <tr>\n",
       "      <th>140</th>\n",
       "      <td>140</td>\n",
       "      <td>12.458940</td>\n",
       "    </tr>\n",
       "    <tr>\n",
       "      <th>141</th>\n",
       "      <td>141</td>\n",
       "      <td>12.335585</td>\n",
       "    </tr>\n",
       "    <tr>\n",
       "      <th>142</th>\n",
       "      <td>142</td>\n",
       "      <td>12.213450</td>\n",
       "    </tr>\n",
       "    <tr>\n",
       "      <th>143</th>\n",
       "      <td>143</td>\n",
       "      <td>12.092525</td>\n",
       "    </tr>\n",
       "    <tr>\n",
       "      <th>144</th>\n",
       "      <td>144</td>\n",
       "      <td>11.972797</td>\n",
       "    </tr>\n",
       "    <tr>\n",
       "      <th>145</th>\n",
       "      <td>145</td>\n",
       "      <td>11.854254</td>\n",
       "    </tr>\n",
       "    <tr>\n",
       "      <th>146</th>\n",
       "      <td>146</td>\n",
       "      <td>11.736886</td>\n",
       "    </tr>\n",
       "    <tr>\n",
       "      <th>147</th>\n",
       "      <td>147</td>\n",
       "      <td>11.620679</td>\n",
       "    </tr>\n",
       "    <tr>\n",
       "      <th>148</th>\n",
       "      <td>148</td>\n",
       "      <td>11.505623</td>\n",
       "    </tr>\n",
       "    <tr>\n",
       "      <th>149</th>\n",
       "      <td>149</td>\n",
       "      <td>11.391705</td>\n",
       "    </tr>\n",
       "    <tr>\n",
       "      <th>150</th>\n",
       "      <td>150</td>\n",
       "      <td>11.278916</td>\n",
       "    </tr>\n",
       "    <tr>\n",
       "      <th>151</th>\n",
       "      <td>151</td>\n",
       "      <td>11.167244</td>\n",
       "    </tr>\n",
       "    <tr>\n",
       "      <th>152</th>\n",
       "      <td>152</td>\n",
       "      <td>11.056677</td>\n",
       "    </tr>\n",
       "    <tr>\n",
       "      <th>153</th>\n",
       "      <td>153</td>\n",
       "      <td>10.947205</td>\n",
       "    </tr>\n",
       "    <tr>\n",
       "      <th>154</th>\n",
       "      <td>154</td>\n",
       "      <td>10.838817</td>\n",
       "    </tr>\n",
       "    <tr>\n",
       "      <th>155</th>\n",
       "      <td>155</td>\n",
       "      <td>10.731502</td>\n",
       "    </tr>\n",
       "    <tr>\n",
       "      <th>156</th>\n",
       "      <td>156</td>\n",
       "      <td>10.625249</td>\n",
       "    </tr>\n",
       "    <tr>\n",
       "      <th>157</th>\n",
       "      <td>157</td>\n",
       "      <td>10.520049</td>\n",
       "    </tr>\n",
       "    <tr>\n",
       "      <th>158</th>\n",
       "      <td>158</td>\n",
       "      <td>10.415890</td>\n",
       "    </tr>\n",
       "    <tr>\n",
       "      <th>159</th>\n",
       "      <td>159</td>\n",
       "      <td>10.312762</td>\n",
       "    </tr>\n",
       "    <tr>\n",
       "      <th>160</th>\n",
       "      <td>160</td>\n",
       "      <td>10.210656</td>\n",
       "    </tr>\n",
       "    <tr>\n",
       "      <th>161</th>\n",
       "      <td>161</td>\n",
       "      <td>10.109560</td>\n",
       "    </tr>\n",
       "    <tr>\n",
       "      <th>162</th>\n",
       "      <td>162</td>\n",
       "      <td>10.009466</td>\n",
       "    </tr>\n",
       "  </tbody>\n",
       "</table>\n",
       "</div>"
      ],
      "text/plain": [
       "     Unnamed: 0          x\n",
       "129         129  13.900046\n",
       "130         130  13.762421\n",
       "131         131  13.626160\n",
       "132         132  13.491247\n",
       "133         133  13.357671\n",
       "134         134  13.225416\n",
       "135         135  13.094472\n",
       "136         136  12.964823\n",
       "137         137  12.836459\n",
       "138         138  12.709365\n",
       "139         139  12.583530\n",
       "140         140  12.458940\n",
       "141         141  12.335585\n",
       "142         142  12.213450\n",
       "143         143  12.092525\n",
       "144         144  11.972797\n",
       "145         145  11.854254\n",
       "146         146  11.736886\n",
       "147         147  11.620679\n",
       "148         148  11.505623\n",
       "149         149  11.391705\n",
       "150         150  11.278916\n",
       "151         151  11.167244\n",
       "152         152  11.056677\n",
       "153         153  10.947205\n",
       "154         154  10.838817\n",
       "155         155  10.731502\n",
       "156         156  10.625249\n",
       "157         157  10.520049\n",
       "158         158  10.415890\n",
       "159         159  10.312762\n",
       "160         160  10.210656\n",
       "161         161  10.109560\n",
       "162         162  10.009466"
      ]
     },
     "execution_count": 12,
     "metadata": {},
     "output_type": "execute_result"
    }
   ],
   "source": [
    "ind = pd.read_csv('wavelengths_and_indices.csv')  # where x is the wavelength\n",
    "\n",
    "ind[(ind.x > 10) & (ind.x <= 14)]"
   ]
  },
  {
   "cell_type": "code",
   "execution_count": 13,
   "metadata": {},
   "outputs": [],
   "source": [
    "def create_mask():\n",
    "    \n",
    "    mask = np.full([1,1,32,32], 1) # init array with 0.5's\n",
    "    mask = torch.from_numpy(mask).to(device)\n",
    "    \n",
    "    #mask = torch.ones([1, 1, 32, 32]).to(device) # create mask with 1's in the shape of image\n",
    "    \n",
    "    #print(\"mask.shape\", mask.shape)\n",
    "\n",
    "    # use a random 'easy' mask\n",
    "    mask[:, :, :16, 25:] = 0\n",
    "    \n",
    "    # The noise doesn't matter for conceptual loss\n",
    "    mask[:, :, 19:, :] = 0\n",
    "    \n",
    "    \"\"\"Weighted mask\"\"\"\n",
    "    \n",
    "    # Normalization factors\n",
    "    mask[:, :, 16:19, :] = 3\n",
    "    \n",
    "    mask = mask.float() # make sure dtype is float, torch was complaining during inpainting that this is a double\n",
    "    \n",
    "    return mask"
   ]
  },
  {
   "cell_type": "markdown",
   "metadata": {},
   "source": [
    "## Visualize the mask"
   ]
  },
  {
   "cell_type": "code",
   "execution_count": 14,
   "metadata": {},
   "outputs": [
    {
     "data": {
      "text/plain": [
       "<matplotlib.image.AxesImage at 0x7f23b1a3d6a0>"
      ]
     },
     "execution_count": 14,
     "metadata": {},
     "output_type": "execute_result"
    },
    {
     "data": {
      "image/png": "[encoded data removed]",
      "text/plain": [
       "<Figure size 432x288 with 1 Axes>"
      ]
     },
     "metadata": {
      "needs_background": "light"
     },
     "output_type": "display_data"
    }
   ],
   "source": [
    "m = create_mask().cpu()[0, 0, :, :]\n",
    "plt.imshow(m, cmap='gray', vmin=0, vmax=1.2) "
   ]
  },
  {
   "cell_type": "code",
   "execution_count": 15,
   "metadata": {},
   "outputs": [],
   "source": [
    "t = m.cpu().numpy().flatten()\n",
    "\n",
    "for i in range(len(t)):\n",
    "    if np.isnan(t[i]):\n",
    "        print('nan')"
   ]
  },
  {
   "cell_type": "code",
   "execution_count": 16,
   "metadata": {},
   "outputs": [
    {
     "name": "stdout",
     "output_type": "stream",
     "text": [
      " image [25/25] iteration : 6000 , context_loss: 0.681, perceptual_loss: -1.140543, total_loss: -0.459863, min L: -0.918940, 980.000000, D(G(z)): 0.680355, ETA: 0h 6m"
     ]
    }
   ],
   "source": [
    "# Lists to keep track of progress\n",
    "real_images = []\n",
    "masked_images= []\n",
    "inpainted_images = []\n",
    "final_inpainted_images = [] # last inpainted image for each input image\n",
    "n_iteration = []\n",
    "\n",
    "MSELoss = nn.MSELoss()\n",
    "L1Loss = nn.L1Loss() # MAE\n",
    "SmoothL1Loss = nn.SmoothL1Loss()\n",
    "\n",
    "\"\"\"\n",
    "Inpainting\n",
    "\"\"\"\n",
    "for i, data in enumerate(dataloader, 0): # batches per epoch\n",
    "    real_cpu = data.to(device)\n",
    "    b_size = real_cpu.size(0) # this is one ofc, it's one image we're trying to inpaint\n",
    "\n",
    "    #print(\"data.shape: \", data.shape)\n",
    "    image = data.to(device) # select the image (Channel, Height, Width), this is the original unmasked input image\n",
    "    \n",
    "    real_images.append(image)\n",
    "    #print(\"image.shape: \", image.shape)\n",
    "\n",
    "    \"\"\"Mask the image\"\"\"\n",
    "    mask = create_mask()\n",
    "\n",
    "    masked_image = torch.mul(image, mask).to(device) #image bigodot mask\n",
    "    masked_images.append(masked_image)\n",
    "    #print('masked image shape', masked_image.shape)\n",
    "    #plt.imshow(masked_image.detach().cpu()[0, 0, :, :], cmap='gray') # plot the masked image\n",
    "\n",
    "    opt = optim.Adam([z], lr=lr)\n",
    "\n",
    "    # what's v and m?\n",
    "    v = torch.tensor(0, dtype=torch.float32, device=device)\n",
    "    m = torch.tensor(0, dtype=torch.float32, device=device)\n",
    "\n",
    "\n",
    "    \"\"\"Start the inpainting process\"\"\"\n",
    "    early_stopping_n_iters = 0\n",
    "    early_stopping_min_loss = 999999 # set to random high number to initialize\n",
    "    for iteration in range(n_iters):\n",
    "        t1 = time.time()\n",
    "        if z.grad is not None:\n",
    "            z.grad.data.zero_()\n",
    "\n",
    "        G.zero_grad()\n",
    "        D.zero_grad()\n",
    "\n",
    "\n",
    "        image_generated = G(z) # generated image G(z)\n",
    "        image_generated_masked = torch.mul(image_generated, mask) # G(z) bigodot M\n",
    "        image_generated_inpainted = torch.mul(image_generated, (1-mask))+masked_image\n",
    "        \n",
    "        if (iteration % 100 == 0):\n",
    "            inpainted_images.append(image_generated_inpainted)\n",
    "\n",
    "        #print(\"image_generated_inpainted.shape : \",image_generated_inpainted.shape)\n",
    "\n",
    "        t = image_generated_inpainted.detach().cpu()[0, 0, :, :]\n",
    "\n",
    "        # TODO: why does this already look real?\n",
    "        #plt.imshow(t, cmap='gray') # plot the masked image \n",
    "\n",
    "        \"\"\"Calculate losses\"\"\"\n",
    "        #loss_context = torch.norm(image_generated_masked-masked_image, p=1) #what's p=1?\n",
    "        loss_context = lamb1*MSELoss(image_generated_masked,masked_image)\n",
    "        #loss_context = L1Loss(image_generated_masked, masked_image)*10\n",
    "        #loss_context = SmoothL1Loss(image_generated_masked, masked_image)*10\n",
    "        \n",
    "        discriminator_output = netD(image_generated_inpainted) - 0.005 # -0.005 offset so loss_perceptual doesn't become 1 when D(G(z)) == 1.000000\n",
    "        #print(\"Discriminator output: \", discriminator_output)\n",
    "\n",
    "        labels = torch.full((b_size,), 1, device=device)\n",
    "        loss_perceptual = lamb2*torch.log(1-discriminator_output)\n",
    "        \n",
    "        #if loss_perceptual == -np.inf:\n",
    "        #    #print('loss perceptual == -np.inf()')\n",
    "        #    loss_perceptual = torch.tensor(-10, dtype=torch.float32, device=device)\n",
    "        \n",
    "        #print(loss_perceptual.data.cpu().numpy().flatten()[0])\n",
    "\n",
    "        total_loss = loss_context + loss_perceptual\n",
    "        #total_loss = loss_context + 10*discriminator_output\n",
    "        \n",
    "        # grab the values from losses for printing\n",
    "        loss_perceptual = loss_perceptual.data.cpu().numpy().flatten()[0]\n",
    "        #loss_perceptual = 0\n",
    "        loss_context = loss_context.data.cpu().numpy().flatten()[0]\n",
    "\n",
    "\n",
    "\n",
    "        total_loss.backward()\n",
    "        opt.step()\n",
    "        \n",
    "        total_loss = total_loss.data.cpu().numpy().flatten()[0]\n",
    "        \n",
    "        \"\"\"Early stopping\"\"\" # TODO: \n",
    "        if iteration > 0:\n",
    "            delta_loss = early_stopping_min_loss - total_loss\n",
    "            delta_iters = iteration - iter1\n",
    "            \n",
    "            if (delta_loss < 0.1) or (total_loss > early_stopping_min_loss):\n",
    "                early_stopping_n_iters += 1\n",
    "            else:\n",
    "                #print('set to zero')\n",
    "                early_stopping_n_iters = 0\n",
    "            \n",
    "            if early_stopping_n_iters > 1000:\n",
    "                n_iteration.append(iteration)\n",
    "                break\n",
    "            \n",
    "        loss1 = total_loss\n",
    "        iter1 = iteration\n",
    "        \n",
    "        if total_loss < early_stopping_min_loss:\n",
    "            early_stopping_min_loss = total_loss\n",
    "            best_inpained_image = image_generated_inpainted.detach().cpu()\n",
    "            early_stopping_n_iters = 0\n",
    "            #print('min loss: ', early_stopping_min_loss)\n",
    "         \n",
    "        t2 = time.time()\n",
    "        \n",
    "        \"\"\"Calculate ETA\"\"\"\n",
    "        t_per_iter = t2 - t1 # time per iteration in seconds\n",
    "        \n",
    "        eta = t_per_iter * (n_iters - iteration) + t_per_iter* (len(images)-i+1) * n_iters # time left to finish epoch/image + time left to finish all epochs/images in SECONDS\n",
    "        eta_h = (eta/ 60) // 60 # divisor integer\n",
    "        eta_m = eta % 60 # get remainer\n",
    "        \n",
    "        if (iteration % 50 == 0):\n",
    "            print(\"\\r image [{}/{}] iteration : {:4} , context_loss: {:.3f}, perceptual_loss: {:3f}, total_loss: {:3f}, min L: {:3f}, {:1f}, D(G(z)): {:3f}, ETA: {:.0f}h {:.0f}m\".format(i+1, \n",
    "            len(images), iteration, loss_context,loss_perceptual, total_loss,early_stopping_min_loss, early_stopping_n_iters, discriminator_output.data.cpu().numpy().flatten()[0], eta_h, eta_m),end=\"\")\n",
    "            \n",
    "\n",
    "            \n",
    "        \"\"\"NaN monitor\"\"\"\n",
    "        #if (loss_context or loss_perceptual == np.nan()) and iteration >64:\n",
    "        #    print(r'='*10 + '     NaN     '+ '='*10)\n",
    "        #    print(loss_context, loss_percept  ual)\n",
    "            #break+\n",
    "        \n",
    "    final_inpainted_images.append(best_inpained_image.detach().cpu())"
   ]
  },
  {
   "cell_type": "code",
   "execution_count": 17,
   "metadata": {},
   "outputs": [
    {
     "data": {
      "text/plain": [
       "25"
      ]
     },
     "execution_count": 17,
     "metadata": {},
     "output_type": "execute_result"
    }
   ],
   "source": [
    "len(real_images)"
   ]
  },
  {
   "cell_type": "markdown",
   "metadata": {},
   "source": [
    "## Inverse transform ASPA to spectrum"
   ]
  },
  {
   "cell_type": "code",
   "execution_count": 18,
   "metadata": {},
   "outputs": [],
   "source": [
    "def inverse_scale(X_, X_min, X_max):\n",
    "    \"\"\"\n",
    "    X_ is scaled X\n",
    "    X is unscaled X_\n",
    "    \"\"\"\n",
    "    X = X_ * (X_max - X_min) + X_min\n",
    "    return X"
   ]
  },
  {
   "cell_type": "code",
   "execution_count": 19,
   "metadata": {},
   "outputs": [
    {
     "data": {
      "image/png": "[encoded data removed]",
      "text/plain": [
       "<Figure size 432x288 with 1 Axes>"
      ]
     },
     "metadata": {
      "needs_background": "light"
     },
     "output_type": "display_data"
    }
   ],
   "source": [
    "i = 0\n",
    "aspa = real_images[i].detach().cpu().numpy()[0, 0, :, :]\n",
    "\n",
    "\n",
    "plt.imshow(aspa, cmap='gray', vmin=-1.2, vmax=1.2)\n",
    "\n",
    "\n",
    "\n",
    "n_bins = 8 # amount of bins the spectrum got scaled in\n",
    "\"\"\"Image parts from the aspa, still encoded\"\"\"\n",
    "spectrum = aspa[:16, :25]\n",
    "mins_ = [aspa[16:17, i*4:i*4+4] for i in range(n_bins)]\n",
    "stds_ = [aspa[17:18, i*4:i*4+4] for i in range(n_bins)]\n",
    "maxs_ = [aspa[18:19, i*4:i*4+4] for i in range(n_bins)]\n",
    "\n",
    "\"\"\"Decode to arrays\"\"\"\n",
    "spectrum = spectrum.flatten()\n",
    "\n",
    "mins_ = [inverse_scale(mins_[i].mean(), 0.005, 0.03) for i in range(n_bins)]\n",
    "stds_ = [inverse_scale(stds_[i].mean(), 0.005, 0.03) for i in range(n_bins)]\n",
    "maxs_ = [inverse_scale(maxs_[i].mean(), 1e-7, 1e-4) for i in range(n_bins)]"
   ]
  },
  {
   "cell_type": "code",
   "execution_count": 20,
   "metadata": {},
   "outputs": [
    {
     "data": {
      "text/html": [
       "<div>\n",
       "<style scoped>\n",
       "    .dataframe tbody tr th:only-of-type {\n",
       "        vertical-align: middle;\n",
       "    }\n",
       "\n",
       "    .dataframe tbody tr th {\n",
       "        vertical-align: top;\n",
       "    }\n",
       "\n",
       "    .dataframe thead th {\n",
       "        text-align: right;\n",
       "    }\n",
       "</style>\n",
       "<table border=\"1\" class=\"dataframe\">\n",
       "  <thead>\n",
       "    <tr style=\"text-align: right;\">\n",
       "      <th></th>\n",
       "      <th>x</th>\n",
       "      <th>y</th>\n",
       "    </tr>\n",
       "  </thead>\n",
       "  <tbody>\n",
       "    <tr>\n",
       "      <th>115</th>\n",
       "      <td>15.977744</td>\n",
       "      <td>-1.000000</td>\n",
       "    </tr>\n",
       "    <tr>\n",
       "      <th>116</th>\n",
       "      <td>15.819548</td>\n",
       "      <td>-0.765211</td>\n",
       "    </tr>\n",
       "    <tr>\n",
       "      <th>117</th>\n",
       "      <td>15.662919</td>\n",
       "      <td>-0.607507</td>\n",
       "    </tr>\n",
       "    <tr>\n",
       "      <th>118</th>\n",
       "      <td>15.507841</td>\n",
       "      <td>-0.349719</td>\n",
       "    </tr>\n",
       "    <tr>\n",
       "      <th>119</th>\n",
       "      <td>15.354298</td>\n",
       "      <td>-0.355232</td>\n",
       "    </tr>\n",
       "  </tbody>\n",
       "</table>\n",
       "</div>"
      ],
      "text/plain": [
       "             x         y\n",
       "115  15.977744 -1.000000\n",
       "116  15.819548 -0.765211\n",
       "117  15.662919 -0.607507\n",
       "118  15.507841 -0.349719\n",
       "119  15.354298 -0.355232"
      ]
     },
     "execution_count": 20,
     "metadata": {},
     "output_type": "execute_result"
    }
   ],
   "source": [
    "df = pd.read_csv('wavelengths_and_indices.csv', header=None, skiprows=[0], usecols=[1]) # load wavelengths\n",
    "df.columns = ['x']\n",
    "df = df.loc[df['x'] <= 16] # select only wavelengths <= 16\n",
    "df['y'] = spectrum\n",
    "\n",
    "df.head()"
   ]
  },
  {
   "cell_type": "code",
   "execution_count": 21,
   "metadata": {},
   "outputs": [
    {
     "data": {
      "text/plain": [
       "[<matplotlib.lines.Line2D at 0x7f23dbe85978>]"
      ]
     },
     "execution_count": 21,
     "metadata": {},
     "output_type": "execute_result"
    },
    {
     "data": {
      "image/png": "[encoded data removed]",
      "text/plain": [
       "<Figure size 432x288 with 1 Axes>"
      ]
     },
     "metadata": {
      "needs_background": "light"
     },
     "output_type": "display_data"
    }
   ],
   "source": [
    "plt.plot(df.x, df.y)"
   ]
  },
  {
   "cell_type": "code",
   "execution_count": 22,
   "metadata": {},
   "outputs": [
    {
     "data": {
      "image/png": "[encoded data removed]",
      "text/plain": [
       "<Figure size 432x288 with 1 Axes>"
      ]
     },
     "metadata": {
      "needs_background": "light"
     },
     "output_type": "display_data"
    }
   ],
   "source": [
    "\"\"\"select spectrum bins\"\"\"\n",
    "bin1 = df[df.x <= 0.8]\n",
    "bin2 = df[(df.x > 0.8) & (df.x <= 1.3)] # select data between 2 and 4 micron\n",
    "bin3 = df[(df.x > 1.3) & (df.x <= 2)]\n",
    "bin4 = df[(df.x > 2) & (df.x <= 4)]\n",
    "bin5 = df[(df.x > 4) & (df.x <= 6)]\n",
    "bin6 = df[(df.x > 6) & (df.x <= 10)]\n",
    "bin7 = df[(df.x > 10) & (df.x <= 14)]\n",
    "bin8 = df[df.x > 14]\n",
    "\n",
    "bins = [bin8, bin7, bin6, bin5, bin4, bin3, bin2, bin1]\n",
    "for b in bins:\n",
    "    plt.plot(b['x'], b['y'])"
   ]
  },
  {
   "cell_type": "code",
   "execution_count": 23,
   "metadata": {},
   "outputs": [
    {
     "data": {
      "text/plain": [
       "[115   -7.592000e+26\n",
       " 116   -2.244439e+26\n",
       " 117    1.347418e+26\n",
       " 118    7.218801e+26\n",
       " 119    7.093245e+26\n",
       " 120    2.221705e+27\n",
       " 121    9.026341e+26\n",
       " 122    3.796000e+27\n",
       " 123    1.521818e+27\n",
       " 124    1.475571e+27\n",
       " 125    1.071671e+27\n",
       " 126    4.753513e+26\n",
       " 127    4.293584e+26\n",
       " 128    2.339440e+26\n",
       " Name: y, dtype: float32, 129    2000.000000\n",
       " 130    1848.647461\n",
       " 131    1738.863037\n",
       " 132    1789.548584\n",
       " 133    1528.911621\n",
       " 134    1640.959717\n",
       " 135    1452.853638\n",
       " 136    1294.287109\n",
       " 137    1267.866089\n",
       " 138    1109.515381\n",
       " 139    1069.145996\n",
       " 140     862.858704\n",
       " 141     763.521362\n",
       " 142     619.129761\n",
       " 143     588.042786\n",
       " 144     426.376770\n",
       " 145     338.820129\n",
       " 146     284.695923\n",
       " 147     233.666138\n",
       " 148     104.840393\n",
       " 149      81.349304\n",
       " 150      60.190796\n",
       " 151      27.592102\n",
       " 152       2.956665\n",
       " 153      10.636658\n",
       " 154       0.000000\n",
       " 155      31.335449\n",
       " 156      76.975403\n",
       " 157     162.579956\n",
       " 158     204.680115\n",
       " 159     304.922668\n",
       " 160     382.673462\n",
       " 161     347.728210\n",
       " 162     224.983093\n",
       " Name: y, dtype: float32, 163   -34.538773\n",
       " 164   -33.609905\n",
       " 165   -32.575321\n",
       " 166   -31.012024\n",
       " 167   -29.552439\n",
       " 168   -28.213886\n",
       " 169   -26.608839\n",
       " 170   -24.821327\n",
       " 171   -23.251152\n",
       " 172   -21.926205\n",
       " 173   -21.081144\n",
       " 174   -19.480473\n",
       " 175   -17.724897\n",
       " 176   -16.401854\n",
       " 177   -14.903100\n",
       " 178   -13.715111\n",
       " 179   -12.721838\n",
       " 180   -11.985630\n",
       " 181   -11.538940\n",
       " 182   -11.138222\n",
       " 183   -10.960380\n",
       " 184    -9.834182\n",
       " 185    -8.144926\n",
       " 186    -5.301211\n",
       " 187    -2.302584\n",
       " 188    -3.952888\n",
       " 189   -11.257872\n",
       " 190   -11.255999\n",
       " 191    -8.198762\n",
       " 192    -6.338619\n",
       " 193    -6.173174\n",
       " 194    -7.087055\n",
       " 195    -9.141533\n",
       " 196   -12.487473\n",
       " 197   -16.474384\n",
       " 198   -19.706966\n",
       " 199   -22.176336\n",
       " 200   -23.429115\n",
       " 201   -24.445145\n",
       " 202   -26.537952\n",
       " 203   -27.328220\n",
       " 204   -26.216072\n",
       " 205   -23.387989\n",
       " 206   -21.087383\n",
       " 207   -22.391249\n",
       " 208   -23.770020\n",
       " 209   -24.058407\n",
       " 210   -23.915291\n",
       " 211   -23.904848\n",
       " 212   -24.045338\n",
       " 213   -24.840973\n",
       " Name: y, dtype: float32, 214     31531504.0\n",
       " 215     29407162.0\n",
       " 216     36970280.0\n",
       " 217     29539310.0\n",
       " 218     22617554.0\n",
       " 219     22866230.0\n",
       " 220     24882608.0\n",
       " 221     25739936.0\n",
       " 222     24813970.0\n",
       " 223     22640476.0\n",
       " 224     19785104.0\n",
       " 225     17213336.0\n",
       " 226     15594100.0\n",
       " 227     14636672.0\n",
       " 228     13551624.0\n",
       " 229     11528184.0\n",
       " 230      9620728.0\n",
       " 231      9384432.0\n",
       " 232      7603804.0\n",
       " 233      6991100.0\n",
       " 234      9527548.0\n",
       " 235     14263160.0\n",
       " 236     22605660.0\n",
       " 237     33059210.0\n",
       " 238     45144856.0\n",
       " 239     58546024.0\n",
       " 240     71522136.0\n",
       " 241     82957424.0\n",
       " 242     91874384.0\n",
       " 243     97948856.0\n",
       " 244    102600376.0\n",
       " 245    104588000.0\n",
       " 246    104866496.0\n",
       " 247     97544032.0\n",
       " 248     74635824.0\n",
       " 249     38871432.0\n",
       " 250     10002884.0\n",
       " 251      7712648.0\n",
       " 252     11395596.0\n",
       " 253     15843900.0\n",
       " 254     19998592.0\n",
       " Name: y, dtype: float32, 255   -24.088863\n",
       " 256   -23.255417\n",
       " 257   -22.369534\n",
       " 258   -21.285557\n",
       " 259   -19.988859\n",
       " 260   -18.747410\n",
       " 261   -17.277790\n",
       " 262   -15.665764\n",
       " 263   -13.793739\n",
       " 264   -12.230110\n",
       " 265   -10.599378\n",
       " 266    -9.363381\n",
       " 267    -9.140862\n",
       " 268    -8.980744\n",
       " 269    -8.296256\n",
       " 270    -8.859153\n",
       " 271    -8.196916\n",
       " 272    -2.302584\n",
       " 273    -4.426697\n",
       " 274    -9.883129\n",
       " 275    -8.678896\n",
       " 276    -7.386945\n",
       " 277    -6.491325\n",
       " 278    -6.835266\n",
       " 279    -8.245771\n",
       " 280   -10.411479\n",
       " 281   -14.002871\n",
       " 282   -19.012514\n",
       " 283   -23.233768\n",
       " 284   -24.986170\n",
       "          ...    \n",
       " 294   -18.927757\n",
       " 295   -21.246637\n",
       " 296   -27.083160\n",
       " 297   -25.927948\n",
       " 298   -24.682753\n",
       " 299   -24.213135\n",
       " 300   -23.428585\n",
       " 301   -22.166500\n",
       " 302   -21.144258\n",
       " 303   -20.116522\n",
       " 304   -19.267530\n",
       " 305   -18.866982\n",
       " 306   -17.262321\n",
       " 307   -17.512505\n",
       " 308   -16.129654\n",
       " 309   -17.852522\n",
       " 310   -17.662039\n",
       " 311   -18.304796\n",
       " 312   -19.127888\n",
       " 313   -20.041023\n",
       " 314   -20.068943\n",
       " 315   -23.368610\n",
       " 316   -25.858078\n",
       " 317   -28.023697\n",
       " 318   -29.767599\n",
       " 319   -31.131687\n",
       " 320   -32.181023\n",
       " 321   -32.537037\n",
       " 322   -33.030930\n",
       " 323   -34.538773\n",
       " Name: y, Length: 69, dtype: float32, 324   -22.457546\n",
       " 325   -22.569145\n",
       " 326   -20.495863\n",
       " 327   -20.072100\n",
       " 328   -22.350227\n",
       " 329   -20.711983\n",
       " 330   -18.368343\n",
       " 331   -16.376095\n",
       " 332   -14.636007\n",
       " 333   -12.951378\n",
       " 334   -10.414490\n",
       " 335    -8.342703\n",
       " 336    -7.940459\n",
       " 337    -7.485752\n",
       " 338    -5.969829\n",
       " 339    -6.217605\n",
       " 340    -3.527862\n",
       " 341    -2.393568\n",
       " 342    -2.302584\n",
       " 343    -5.423804\n",
       " 344    -3.811350\n",
       " 345    -4.012990\n",
       " 346   -10.123015\n",
       " 347   -18.966917\n",
       " 348   -25.607960\n",
       " 349   -31.175648\n",
       " 350   -34.097328\n",
       " 351   -34.538773\n",
       " 352   -32.676674\n",
       " 353   -29.754597\n",
       " 354   -26.372391\n",
       " 355   -23.055710\n",
       " 356   -20.244478\n",
       " 357   -17.603081\n",
       " 358   -15.190918\n",
       " 359   -12.982519\n",
       " 360   -11.631933\n",
       " 361   -12.214620\n",
       " 362   -13.005885\n",
       " 363   -15.263854\n",
       " 364   -17.743376\n",
       " 365   -20.346966\n",
       " 366   -24.369122\n",
       " 367   -28.445566\n",
       " Name: y, dtype: float32, 368   -10.020305\n",
       " 369   -11.958529\n",
       " 370   -13.150661\n",
       " 371   -13.517385\n",
       " 372   -11.943965\n",
       " 373   -10.777615\n",
       " 374    -8.577631\n",
       " 375    -6.863395\n",
       " 376    -5.532063\n",
       " 377    -2.908554\n",
       " 378    -3.807307\n",
       " 379    -2.302584\n",
       " 380    -3.975952\n",
       " 381    -5.434627\n",
       " 382    -5.883656\n",
       " 383    -7.381917\n",
       " 384    -9.852166\n",
       " 385   -12.032769\n",
       " 386   -13.468586\n",
       " 387   -14.486401\n",
       " 388   -14.868527\n",
       " 389   -14.714699\n",
       " 390   -13.937554\n",
       " 391   -12.934684\n",
       " 392   -11.999825\n",
       " 393   -11.291311\n",
       " 394   -11.293169\n",
       " 395   -11.912321\n",
       " 396   -12.416216\n",
       " 397   -12.934847\n",
       " 398   -13.644963\n",
       " 399   -14.383339\n",
       " 400   -15.313679\n",
       " 401   -16.199589\n",
       " 402   -15.849005\n",
       " 403   -14.827103\n",
       " 404   -12.469306\n",
       " 405   -12.357668\n",
       " 406   -14.732127\n",
       " 407   -17.088148\n",
       " 408   -18.032658\n",
       " 409   -18.938936\n",
       " 410   -19.127563\n",
       " 411   -19.661737\n",
       " 412   -20.259216\n",
       " 413   -34.538773\n",
       " 414   -34.387341\n",
       " 415   -34.312016\n",
       " Name: y, dtype: float32]"
      ]
     },
     "execution_count": 23,
     "metadata": {},
     "output_type": "execute_result"
    }
   ],
   "source": [
    "\"\"\"Inverse scale the bins\"\"\"\n",
    "# min max values for spectrum from ASPA v2 notebook\n",
    "min_values = [1.518400e+27, \n",
    "                  1.000000e+03, \n",
    "                  -1.842068e+01, \n",
    "                  5.592880e+07, \n",
    "                  -1.842068e+01, \n",
    "                  -1.842068e+01, \n",
    "                  -1.842068e+01]\n",
    "    \n",
    "max_values = [3.796000e+27, \n",
    "                  2.000000e+03, \n",
    "                  -2.302585e+00, \n",
    "                  1.048665e+08, \n",
    "                  -2.302585e+00, \n",
    "                  -2.302585e+00,\n",
    "                  -2.302585e+00]\n",
    "\n",
    "spectra_inverses = []\n",
    "for i in range(7):\n",
    "    bin_ = bins[i]\n",
    "    max_ = maxs_[i]\n",
    "    min_ = mins_[i]\n",
    "    \n",
    "    spectrum = bin_['y']\n",
    "    spectrum_inverse = inverse_scale(spectrum, min_values[i], max_values[i])\n",
    "    spectra_inverses.append(spectrum_inverse)\n",
    "\n",
    "spectra_inverses"
   ]
  },
  {
   "cell_type": "markdown",
   "metadata": {},
   "source": [
    "# Show results"
   ]
  },
  {
   "cell_type": "code",
   "execution_count": 24,
   "metadata": {},
   "outputs": [],
   "source": [
    "real = real_images[0].detach().cpu()[0, 0, :, :]\n",
    "real_masked = masked_images[0].detach().cpu()[0, 0, :, :]\n",
    "\n",
    "#first_generated =inpainted_images[1].detach().cpu()[0, 0, :, :]\n",
    "last_generated = inpainted_images[-1].detach().cpu()[0, 0, :, :]"
   ]
  },
  {
   "cell_type": "code",
   "execution_count": 25,
   "metadata": {},
   "outputs": [
    {
     "data": {
      "image/png": "[encoded data removed]",
      "text/plain": [
       "<Figure size 1584x720 with 3 Axes>"
      ]
     },
     "metadata": {
      "needs_background": "light"
     },
     "output_type": "display_data"
    }
   ],
   "source": [
    "plt.figure(figsize=(22,10))\n",
    "\n",
    "plt.subplot(1,3,1)\n",
    "plt.imshow(real, cmap='gray', vmin=-1.2, vmax=1.2)\n",
    "plt.title('Ground truth')\n",
    "\n",
    "plt.subplot(1,3,2)\n",
    "plt.imshow(real_masked, cmap='gray', vmin=-1.2, vmax=1.2)\n",
    "plt.title('Masked input')\n",
    "\n",
    "plt.subplot(1,3,3)\n",
    "plt.imshow(last_generated, cmap='gray', vmin=-1.2, vmax=1.2)\n",
    "plt.title('Inpainted')\n",
    "\n",
    "plt.tight_layout()\n",
    "\n",
    "#plt.savefig('plots/inpainting.png', dpi=1300)"
   ]
  },
  {
   "cell_type": "code",
   "execution_count": 26,
   "metadata": {},
   "outputs": [
    {
     "name": "stdout",
     "output_type": "stream",
     "text": [
      "mean: -0.0735 \n",
      " std: 0.5336 \n",
      " min: -1.8214 \n",
      " max: 1.7788\n"
     ]
    },
    {
     "data": {
      "image/png": "[encoded data removed]",
      "text/plain": [
       "<Figure size 432x288 with 2 Axes>"
      ]
     },
     "metadata": {
      "needs_background": "light"
     },
     "output_type": "display_data"
    }
   ],
   "source": [
    "difference = real - last_generated\n",
    "difference[19:, :] = 0 # remove the noise, it doesn't matter\n",
    "\n",
    "#sns.heatmap(difference, cmap='gray', vmin=-2, vmax=2)\n",
    "sns.heatmap(difference, cmap='gray')\n",
    "plt.title('Ground truth - Inpainted ')\n",
    "\n",
    "difference  = difference.cpu().detach().numpy().flatten()\n",
    "\n",
    "mean, sigma, min_, max_ = difference.mean().item(), difference.std(), difference.min(), difference.max()\n",
    "print('mean: %.4f \\n std: %.4f \\n min: %.4f \\n max: %.4f' % (mean, sigma, min_, max_))"
   ]
  },
  {
   "cell_type": "raw",
   "metadata": {},
   "source": [
    "import matplotlib\n",
    "matplotlib.rcParams['animation.embed_limit'] = 20**128\n",
    "\n",
    "#%%capture\n",
    "fig = plt.figure(figsize=(8,8))\n",
    "plt.axis(\"off\")\n",
    "ims = [[plt.imshow(i.detach().cpu()[0, 0, :, :], animated=True, cmap='gray', vmin=0, vmax=1.2)] for i in inpainted_images]\n",
    "ani = animation.ArtistAnimation(fig, ims, interval=500, repeat_delay=1000, blit=True)\n",
    "\n",
    "\n",
    "HTML(ani.to_jshtml())"
   ]
  },
  {
   "cell_type": "code",
   "execution_count": null,
   "metadata": {},
   "outputs": [],
   "source": []
  },
  {
   "cell_type": "markdown",
   "metadata": {},
   "source": [
    "# Decoding ASPA\n",
    "Need to clean this up. Using dicts like this is not clean."
   ]
  },
  {
   "cell_type": "code",
   "execution_count": 27,
   "metadata": {},
   "outputs": [
    {
     "data": {
      "text/plain": [
       "(32, 32)"
      ]
     },
     "execution_count": 27,
     "metadata": {},
     "output_type": "execute_result"
    }
   ],
   "source": [
    "aspa_inpainted = last_generated.numpy()\n",
    "aspa_real = real.numpy()\n",
    "\n",
    "aspa_inpainted.shape"
   ]
  },
  {
   "cell_type": "code",
   "execution_count": 28,
   "metadata": {},
   "outputs": [],
   "source": [
    "# Initialize ExoGAN params with zero's\n",
    "inpainted_params = {\n",
    "    'planet_mass': 0,\n",
    "    'temp_profile': 0,\n",
    "    'ch4_mixratio': 0,\n",
    "    'planet_radius': 0,\n",
    "    'h2o_mixratio': 0,\n",
    "    'co2_mixratio': 0,\n",
    "    'co_mixratio': 0\n",
    "}\n",
    "\n",
    "real_params = inpainted_params.copy()\n",
    "params_errors = inpainted_params.copy()"
   ]
  },
  {
   "cell_type": "markdown",
   "metadata": {},
   "source": [
    "## Inverse scale functions"
   ]
  },
  {
   "cell_type": "code",
   "execution_count": 29,
   "metadata": {},
   "outputs": [],
   "source": [
    "def inverse_scale_param(X_scaled, X_min, X_max):\n",
    "    return (X_scaled * (X_max-X_min)) + X_min\n",
    "\n",
    "def inverse_scale_params(params):\n",
    "    \"\"\"\n",
    "    Inverse scales the params array. \n",
    "    Params must be in fixed order, same order as it is encoded with.\n",
    "    \"\"\"\n",
    "    params = params.copy()\n",
    "    min_values = [1.518400e+27, \n",
    "                  1.000000e+03, \n",
    "                  -1.842068e+01, \n",
    "                  5.592880e+07, \n",
    "                  -1.842068e+01, \n",
    "                  -1.842068e+01, \n",
    "                  -1.842068e+01]\n",
    "    \n",
    "    max_values = [3.796000e+27, \n",
    "                  2.000000e+03, \n",
    "                  -2.302585e+00, \n",
    "                  1.048665e+08, \n",
    "                  -2.302585e+00, \n",
    "                  -2.302585e+00,\n",
    "                  -2.302585e+00]\n",
    "\n",
    "    params_inverse_scaled = []\n",
    "    for i in range(len(params)):\n",
    "        param = params[i]\n",
    "        min_= min_values[i]\n",
    "        max_ = max_values[i]\n",
    "\n",
    "        params_inverse_scaled.append(inverse_scale_param(param, min_, max_))\n",
    "    \n",
    "    return params_inverse_scaled"
   ]
  },
  {
   "cell_type": "markdown",
   "metadata": {},
   "source": [
    "## Inpainted params"
   ]
  },
  {
   "cell_type": "code",
   "execution_count": 30,
   "metadata": {},
   "outputs": [
    {
     "data": {
      "text/plain": [
       "[0.9374328,\n",
       " -0.7216464,\n",
       " -0.08394126,\n",
       " 0.0979972,\n",
       " 0.5613882,\n",
       " 0.32874948,\n",
       " 0.80603105]"
      ]
     },
     "execution_count": 30,
     "metadata": {},
     "output_type": "execute_result"
    }
   ],
   "source": [
    "inpainted_params_values = [aspa_inpainted[:16, 25+i:26+i] for i in range(len(inpainted_params))]\n",
    "inpainted_params_mean  = [i.mean() for i in inpainted_params_values]\n",
    "\n",
    "inpainted_params_mean"
   ]
  },
  {
   "cell_type": "code",
   "execution_count": 31,
   "metadata": {},
   "outputs": [
    {
     "data": {
      "text/plain": [
       "-8.95126699298"
      ]
     },
     "execution_count": 31,
     "metadata": {},
     "output_type": "execute_result"
    }
   ],
   "source": [
    "y = (0.5876265 * (-2.306--1.842068e+01))+-1.842068e+01\n",
    "y"
   ]
  },
  {
   "cell_type": "code",
   "execution_count": 32,
   "metadata": {},
   "outputs": [
    {
     "data": {
      "text/plain": [
       "[3.653497003507614e+27,\n",
       " 278.35357189178467,\n",
       " -19.773653178762757,\n",
       " 60724557.74421841,\n",
       " -9.372171748187245,\n",
       " -13.121864684598744,\n",
       " -5.428994990585149]"
      ]
     },
     "execution_count": 32,
     "metadata": {},
     "output_type": "execute_result"
    }
   ],
   "source": [
    "inpainted_params_mean = inverse_scale_params(inpainted_params_mean)\n",
    "inpainted_params_mean"
   ]
  },
  {
   "cell_type": "markdown",
   "metadata": {},
   "source": [
    "### Convert mixtures from log back to regular scale"
   ]
  },
  {
   "cell_type": "code",
   "execution_count": 33,
   "metadata": {},
   "outputs": [],
   "source": [
    "for i,param in enumerate(inpainted_params):\n",
    "    if 'mixratio' in param:\n",
    "        inpainted_params[param] = (inpainted_params_mean[i]) # convert log back to regular scale\n",
    "    else:\n",
    "        inpainted_params[param] = inpainted_params_mean[i]"
   ]
  },
  {
   "cell_type": "code",
   "execution_count": 34,
   "metadata": {},
   "outputs": [
    {
     "data": {
      "text/plain": [
       "{'planet_mass': 3.653497003507614e+27,\n",
       " 'temp_profile': 278.35357189178467,\n",
       " 'ch4_mixratio': -19.773653178762757,\n",
       " 'planet_radius': 60724557.74421841,\n",
       " 'h2o_mixratio': -9.372171748187245,\n",
       " 'co2_mixratio': -13.121864684598744,\n",
       " 'co_mixratio': -5.428994990585149}"
      ]
     },
     "execution_count": 34,
     "metadata": {},
     "output_type": "execute_result"
    }
   ],
   "source": [
    "inpainted_params"
   ]
  },
  {
   "cell_type": "markdown",
   "metadata": {},
   "source": [
    "## Real params\n",
    "Ground truth params"
   ]
  },
  {
   "cell_type": "code",
   "execution_count": 35,
   "metadata": {},
   "outputs": [
    {
     "data": {
      "text/plain": [
       "[-0.7777778,\n",
       " 0.5555556,\n",
       " 0.5555555,\n",
       " -0.7777778,\n",
       " -0.3333334,\n",
       " 0.33333328,\n",
       " -1.0000001]"
      ]
     },
     "execution_count": 35,
     "metadata": {},
     "output_type": "execute_result"
    }
   ],
   "source": [
    "real_params_values = [aspa_real[:16, 25+i:26+i] for i in range(len(real_params))]\n",
    "real_params_mean  = [i.mean() for i in real_params_values]\n",
    "real_params_mean"
   ]
  },
  {
   "cell_type": "code",
   "execution_count": 36,
   "metadata": {},
   "outputs": [
    {
     "data": {
      "text/plain": [
       "[-2.530666968345642e+26,\n",
       " 1555.5555820465088,\n",
       " -9.466183311507404,\n",
       " 17866143.796241283,\n",
       " -23.79337945416555,\n",
       " -13.047982467261107,\n",
       " -34.53877692142666]"
      ]
     },
     "execution_count": 36,
     "metadata": {},
     "output_type": "execute_result"
    }
   ],
   "source": [
    "real_params_mean = inverse_scale_params(real_params_mean)\n",
    "real_params_mean"
   ]
  },
  {
   "cell_type": "markdown",
   "metadata": {},
   "source": [
    "### Convert mixtures from log back to regular scale"
   ]
  },
  {
   "cell_type": "code",
   "execution_count": 37,
   "metadata": {},
   "outputs": [],
   "source": [
    "for i,param in enumerate(real_params):\n",
    "    if 'mixratio' in param:\n",
    "        real_params[param] = (real_params_mean[i]) # convert log back to regular scale\n",
    "    else:\n",
    "        real_params[param] = real_params_mean[i]"
   ]
  },
  {
   "cell_type": "code",
   "execution_count": 38,
   "metadata": {},
   "outputs": [
    {
     "data": {
      "text/plain": [
       "{'planet_mass': -2.530666968345642e+26,\n",
       " 'temp_profile': 1555.5555820465088,\n",
       " 'ch4_mixratio': -9.466183311507404,\n",
       " 'planet_radius': 17866143.796241283,\n",
       " 'h2o_mixratio': -23.79337945416555,\n",
       " 'co2_mixratio': -13.047982467261107,\n",
       " 'co_mixratio': -34.53877692142666}"
      ]
     },
     "execution_count": 38,
     "metadata": {},
     "output_type": "execute_result"
    }
   ],
   "source": [
    "real_params"
   ]
  },
  {
   "cell_type": "markdown",
   "metadata": {},
   "source": [
    "## Percentage error\n",
    "\n",
    "% error = $\\frac{y-\\hat{y}}{\\hat{y}} \\cdot$ 100"
   ]
  },
  {
   "cell_type": "code",
   "execution_count": 39,
   "metadata": {},
   "outputs": [
    {
     "data": {
      "text/plain": [
       "{'planet_mass': -1543.6893709076203,\n",
       " 'temp_profile': -82.1058421116924,\n",
       " 'ch4_mixratio': 108.887283586884,\n",
       " 'planet_radius': 239.88620284693872,\n",
       " 'h2o_mixratio': -60.61016987418135,\n",
       " 'co2_mixratio': 0.5662347993110506,\n",
       " 'co_mixratio': -84.28144979500652}"
      ]
     },
     "execution_count": 39,
     "metadata": {},
     "output_type": "execute_result"
    }
   ],
   "source": [
    "percentage_errors = []\n",
    "for param in real_params:\n",
    "    y_hat = real_params[param]\n",
    "    y = inpainted_params[param]\n",
    "    \n",
    "    params_errors[param] = ((y - y_hat) / y_hat)*100\n",
    "\n",
    "params_errors"
   ]
  },
  {
   "cell_type": "markdown",
   "metadata": {},
   "source": [
    "## Print results"
   ]
  },
  {
   "cell_type": "code",
   "execution_count": 40,
   "metadata": {},
   "outputs": [
    {
     "name": "stdout",
     "output_type": "stream",
     "text": [
      "planet_mass \t Real value: -2.53067e+26 \t inpainted value: 3.65350e+27 \t perc. diff.: -1543.6893709076202867436222732\n",
      "temp_profile \t Real value: 1.55556e+03 \t inpainted value: 2.78354e+02 \t perc. diff.: -82.1058421116923966565082083\n",
      "ch4_mixratio \t Real value: -9.46618e+00 \t inpainted value: -1.97737e+01 \t perc. diff.: 108.8872835868839956674491987\n",
      "planet_radius \t Real value: 1.78661e+07 \t inpainted value: 6.07246e+07 \t perc. diff.: 239.8862028469387155382719357\n",
      "h2o_mixratio \t Real value: -2.37934e+01 \t inpainted value: -9.37217e+00 \t perc. diff.: -60.6101698741813521564836265\n",
      "co2_mixratio \t Real value: -1.30480e+01 \t inpainted value: -1.31219e+01 \t perc. diff.: 0.5662347993110505850467007\n",
      "co_mixratio \t Real value: -3.45388e+01 \t inpainted value: -5.42899e+00 \t perc. diff.: -84.2814497950065231179905823\n"
     ]
    }
   ],
   "source": [
    "for param in inpainted_params:\n",
    "    real = real_params[param]\n",
    "    inpainted = inpainted_params[param]\n",
    "    error = params_errors[param]\n",
    "    \n",
    "    print('%s \\t Real value: %.5e \\t inpainted value: %.5e \\t perc. diff.: %.25f' % (param, real, inpainted, error))"
   ]
  },
  {
   "cell_type": "markdown",
   "metadata": {},
   "source": [
    "# Functionize this to output the MAPE of all inpainted images per metric "
   ]
  },
  {
   "cell_type": "code",
   "execution_count": 41,
   "metadata": {},
   "outputs": [
    {
     "name": "stderr",
     "output_type": "stream",
     "text": [
      "/opt/jupyterhub/anaconda/lib/python3.6/site-packages/ipykernel_launcher.py:39: RuntimeWarning: divide by zero encountered in double_scalars\n"
     ]
    }
   ],
   "source": [
    "#real_images = []\n",
    "#final_inpainted_images = []\n",
    "\n",
    "reals = []\n",
    "inpainteds = []\n",
    "errors = []\n",
    "for i in range(len(real_images)-1):\n",
    "    aspa_real = real_images[i].detach().cpu()[0, 0, :, :].numpy() # size is 32,32 now\n",
    "    aspa_inpainted = final_inpainted_images[i].detach().cpu()[0, 0, :, :].numpy() # size is 32,32 now\n",
    "\n",
    "    \"\"\"Decode inpainted aspa\"\"\"\n",
    "    inpainted_params_values = [aspa_inpainted[:16, 25+j:26+j] for j in range(len(inpainted_params))]\n",
    "    inpainted_params_mean  = [k.mean() for k in inpainted_params_values]\n",
    "    inpainted_params_mean = inverse_scale_params(inpainted_params_mean)\n",
    "    \n",
    "    for a,param in enumerate(inpainted_params):\n",
    "        if 'mixratio' in param:\n",
    "            inpainted_params[param] = inpainted_params_mean[a] # convert log back to regular scale\n",
    "        else:\n",
    "            inpainted_params[param] = inpainted_params_mean[a]\n",
    "    \n",
    "    \"\"\"Decode real aspa\"\"\"\n",
    "    real_params_values = [aspa_real[:16, 25+b:26+b] for b in range(len(real_params))]\n",
    "    real_params_mean  = [c.mean() for c in real_params_values]\n",
    "    real_params_mean = inverse_scale_params(real_params_mean)\n",
    "    \n",
    "    for d,param in enumerate(real_params):\n",
    "        if 'mixratio' in param:\n",
    "            real_params[param] = real_params_mean[d] # convert log back to regular scale\n",
    "        else:\n",
    "            real_params[param] = real_params_mean[d]\n",
    "\n",
    "    \"\"\"Calculate percentage difference\"\"\"\n",
    "    params_errors = dict.fromkeys(params_errors, 0) # copy dicts' keys, set all values to zero\n",
    "    for param in real_params:\n",
    "        y_hat = real_params[param]\n",
    "        y = inpainted_params[param]\n",
    "        \n",
    "        params_errors[param] = ((y - y_hat) / y_hat)*100\n",
    "\n",
    "    reals.append(real_params.copy()) # !!!!! for some reason dicts need to be copied, to be able to append to a list... otherwise the dicts inside the lists get update too\n",
    "    inpainteds.append(inpainted_params.copy())\n",
    "    errors.append(params_errors.copy())\n"
   ]
  },
  {
   "cell_type": "raw",
   "metadata": {},
   "source": [
    "for error in errors:\n",
    "    print(error)"
   ]
  },
  {
   "cell_type": "markdown",
   "metadata": {},
   "source": [
    "# Create one large df from all the dicts"
   ]
  },
  {
   "cell_type": "code",
   "execution_count": 42,
   "metadata": {},
   "outputs": [
    {
     "name": "stdout",
     "output_type": "stream",
     "text": [
      "{'planet_mass': -2.530666968345642e+26, 'temp_profile': 1555.5555820465088, 'ch4_mixratio': -9.466183311507404, 'planet_radius': 17866143.796241283, 'h2o_mixratio': -23.79337945416555, 'co2_mixratio': -13.047982467261107, 'co_mixratio': -34.53877692142666}\n",
      "{'planet_mass': 1.7714666685521603e+27, 'temp_profile': 444.4444179534912, 'ch4_mixratio': -16.62978126274731, 'planet_radius': 61366322.26273492, 'h2o_mixratio': -2.3025850000000005, 'co2_mixratio': -2.3025850000000005, 'co_mixratio': -16.62978126274731}\n",
      "{'planet_mass': 3.289866696834564e+27, 'temp_profile': 222.2222089767456, 'ch4_mixratio': -16.62978126274731, 'planet_radius': 50491277.73726508, 'h2o_mixratio': -20.211580298411846, 'co2_mixratio': -27.375178609919253, 'co_mixratio': -2.3025850000000005}\n",
      "{'planet_mass': 1.7714666685521603e+27, 'temp_profile': 444.4444179534912, 'ch4_mixratio': -13.047982467261107, 'planet_radius': 72241367.15281904, 'h2o_mixratio': -23.79337945416555, 'co2_mixratio': -9.466183311507404, 'co_mixratio': -27.375178609919253}\n",
      "{'planet_mass': 3.289866696834564e+27, 'temp_profile': 444.4444179534912, 'ch4_mixratio': -16.62978126274731, 'planet_radius': 50491277.73726508, 'h2o_mixratio': -34.53877692142666, 'co2_mixratio': -27.375178609919253, 'co_mixratio': -30.95697728531629}\n",
      "{'planet_mass': 1.2653333314478397e+27, 'temp_profile': 444.4444179534912, 'ch4_mixratio': -34.53877692142666, 'planet_radius': 83116412.40751743, 'h2o_mixratio': -5.884384636110367, 'co2_mixratio': -5.884384636110367, 'co_mixratio': -16.62978126274731}\n",
      "{'planet_mass': 1.7714666685521603e+27, 'temp_profile': 2000.0, 'ch4_mixratio': -13.047982467261107, 'planet_radius': 17866143.796241283, 'h2o_mixratio': -9.466183311507404, 'co2_mixratio': -23.79337945416555, 'co_mixratio': -30.95697728531629}\n",
      "{'planet_mass': -2.530666968345642e+26, 'temp_profile': 2000.0, 'ch4_mixratio': -5.884384636110367, 'planet_radius': 17866143.796241283, 'h2o_mixratio': -5.884384636110367, 'co2_mixratio': -13.047982467261107, 'co_mixratio': -34.53877692142666}\n",
      "{'planet_mass': -2.530666968345642e+26, 'temp_profile': 444.4444179534912, 'ch4_mixratio': -16.62978126274731, 'planet_radius': 50491277.73726508, 'h2o_mixratio': -13.047982467261107, 'co2_mixratio': -30.95697728531629, 'co_mixratio': -2.3025850000000005}\n",
      "{'planet_mass': 3.796e+27, 'temp_profile': 1111.1111119389534, 'ch4_mixratio': -34.53877692142666, 'planet_radius': 61366322.26273492, 'h2o_mixratio': -27.375178609919253, 'co2_mixratio': -5.884384636110367, 'co_mixratio': -2.3025850000000005}\n",
      "{'planet_mass': 2.277600022625923e+27, 'temp_profile': 666.6666567325592, 'ch4_mixratio': -5.884384636110367, 'planet_radius': 72241367.15281904, 'h2o_mixratio': -34.53877692142666, 'co2_mixratio': -27.375178609919253, 'co_mixratio': -13.047982467261107}\n",
      "{'planet_mass': -7.591999999999999e+26, 'temp_profile': 222.2222089767456, 'ch4_mixratio': -30.95697728531629, 'planet_radius': 61366322.26273492, 'h2o_mixratio': -20.211580298411846, 'co2_mixratio': -34.53877692142666, 'co_mixratio': -34.53877692142666}\n",
      "{'planet_mass': 2.783733393669128e+27, 'temp_profile': 2000.0, 'ch4_mixratio': -13.047982467261107, 'planet_radius': 28741187.592482567, 'h2o_mixratio': -27.375178609919253, 'co2_mixratio': -5.884384636110367, 'co_mixratio': -2.3025850000000005}\n",
      "{'planet_mass': 1.7714666685521603e+27, 'temp_profile': 222.2222089767456, 'ch4_mixratio': -34.53877692142666, 'planet_radius': 28741187.592482567, 'h2o_mixratio': -13.047982467261107, 'co2_mixratio': -16.62978126274731, 'co_mixratio': -2.3025850000000005}\n",
      "{'planet_mass': 3.796e+27, 'temp_profile': 1777.7777910232544, 'ch4_mixratio': -30.95697728531629, 'planet_radius': 17866143.796241283, 'h2o_mixratio': -2.3025850000000005, 'co2_mixratio': -20.211580298411846, 'co_mixratio': -34.53877692142666}\n",
      "{'planet_mass': -7.591999999999999e+26, 'temp_profile': 666.6666567325592, 'ch4_mixratio': -30.95697728531629, 'planet_radius': 28741187.592482567, 'h2o_mixratio': -9.466183311507404, 'co2_mixratio': -5.884384636110367, 'co_mixratio': -27.375178609919253}\n",
      "{'planet_mass': 1.7714666685521603e+27, 'temp_profile': 1111.1111119389534, 'ch4_mixratio': -34.53877692142666, 'planet_radius': 17866143.796241283, 'h2o_mixratio': -20.211580298411846, 'co2_mixratio': -34.53877692142666, 'co_mixratio': -5.884384636110367}\n",
      "{'planet_mass': 3.289866696834564e+27, 'temp_profile': 888.8888880610466, 'ch4_mixratio': -16.62978126274731, 'planet_radius': 17866143.796241283, 'h2o_mixratio': -9.466183311507404, 'co2_mixratio': -9.466183311507404, 'co_mixratio': -30.95697728531629}\n",
      "{'planet_mass': -7.591999999999999e+26, 'temp_profile': 444.4444179534912, 'ch4_mixratio': -13.047982467261107, 'planet_radius': 61366322.26273492, 'h2o_mixratio': -30.95697728531629, 'co2_mixratio': -13.047982467261107, 'co_mixratio': -20.211580298411846}\n",
      "{'planet_mass': 3.796e+27, 'temp_profile': 0.0, 'ch4_mixratio': -16.62978126274731, 'planet_radius': 72241367.15281904, 'h2o_mixratio': -20.211580298411846, 'co2_mixratio': -2.3025850000000005, 'co_mixratio': -16.62978126274731}\n",
      "{'planet_mass': 2.5306660633087177e+26, 'temp_profile': 2000.0, 'ch4_mixratio': -23.79337945416555, 'planet_radius': 50491277.73726508, 'h2o_mixratio': -13.047982467261107, 'co2_mixratio': -27.375178609919253, 'co_mixratio': -20.211580298411846}\n",
      "{'planet_mass': 3.289866696834564e+27, 'temp_profile': 2000.0, 'ch4_mixratio': -16.62978126274731, 'planet_radius': 50491277.73726508, 'h2o_mixratio': -23.79337945416555, 'co2_mixratio': -9.466183311507404, 'co_mixratio': -9.466183311507404}\n",
      "{'planet_mass': -7.591999999999999e+26, 'temp_profile': 222.2222089767456, 'ch4_mixratio': -5.884384636110367, 'planet_radius': 50491277.73726508, 'h2o_mixratio': -30.95697728531629, 'co2_mixratio': -9.466183311507404, 'co_mixratio': -2.3025850000000005}\n",
      "{'planet_mass': 3.796e+27, 'temp_profile': 222.2222089767456, 'ch4_mixratio': -5.884384636110367, 'planet_radius': 39616232.84718096, 'h2o_mixratio': -5.884384636110367, 'co2_mixratio': -20.211580298411846, 'co_mixratio': -30.95697728531629}\n"
     ]
    }
   ],
   "source": [
    "dfs = []\n",
    "for i in range(len(errors)):\n",
    "    print(reals[i])\n",
    "    df1 = pd.DataFrame(errors[i], index=[0])\n",
    "    df1.columns = [i+'_error' for i in df1.columns]\n",
    "\n",
    "    df2 = pd.DataFrame(reals[i], index=[0])\n",
    "    df2.columns = [i+'_real' for i in df2.columns]\n",
    "\n",
    "    df3 = pd.DataFrame(inpainteds[i], index=[0])\n",
    "    df3.columns = [i+'_inpainted' for i in df3.columns]\n",
    "\n",
    "    df = pd.concat([df1, df2, df3], axis=1)\n",
    "    \n",
    "    dfs.append(df)\n",
    "\n",
    "df = pd.concat(dfs)"
   ]
  },
  {
   "cell_type": "markdown",
   "metadata": {},
   "source": [
    "# Errors of all images"
   ]
  },
  {
   "cell_type": "code",
   "execution_count": 43,
   "metadata": {},
   "outputs": [
    {
     "data": {
      "text/html": [
       "<div>\n",
       "<style scoped>\n",
       "    .dataframe tbody tr th:only-of-type {\n",
       "        vertical-align: middle;\n",
       "    }\n",
       "\n",
       "    .dataframe tbody tr th {\n",
       "        vertical-align: top;\n",
       "    }\n",
       "\n",
       "    .dataframe thead th {\n",
       "        text-align: right;\n",
       "    }\n",
       "</style>\n",
       "<table border=\"1\" class=\"dataframe\">\n",
       "  <thead>\n",
       "    <tr style=\"text-align: right;\">\n",
       "      <th></th>\n",
       "      <th>planet_mass_error</th>\n",
       "      <th>temp_profile_error</th>\n",
       "      <th>ch4_mixratio_error</th>\n",
       "      <th>planet_radius_error</th>\n",
       "      <th>h2o_mixratio_error</th>\n",
       "      <th>co2_mixratio_error</th>\n",
       "      <th>co_mixratio_error</th>\n",
       "      <th>planet_mass_real</th>\n",
       "      <th>temp_profile_real</th>\n",
       "      <th>ch4_mixratio_real</th>\n",
       "      <th>...</th>\n",
       "      <th>h2o_mixratio_real</th>\n",
       "      <th>co2_mixratio_real</th>\n",
       "      <th>co_mixratio_real</th>\n",
       "      <th>planet_mass_inpainted</th>\n",
       "      <th>temp_profile_inpainted</th>\n",
       "      <th>ch4_mixratio_inpainted</th>\n",
       "      <th>planet_radius_inpainted</th>\n",
       "      <th>h2o_mixratio_inpainted</th>\n",
       "      <th>co2_mixratio_inpainted</th>\n",
       "      <th>co_mixratio_inpainted</th>\n",
       "    </tr>\n",
       "  </thead>\n",
       "  <tbody>\n",
       "    <tr>\n",
       "      <th>count</th>\n",
       "      <td>24.000000</td>\n",
       "      <td>24.000000</td>\n",
       "      <td>24.000000</td>\n",
       "      <td>24.000000</td>\n",
       "      <td>24.000000</td>\n",
       "      <td>24.000000</td>\n",
       "      <td>24.000000</td>\n",
       "      <td>2.400000e+01</td>\n",
       "      <td>24.000000</td>\n",
       "      <td>24.000000</td>\n",
       "      <td>...</td>\n",
       "      <td>24.000000</td>\n",
       "      <td>24.000000</td>\n",
       "      <td>24.000000</td>\n",
       "      <td>2.400000e+01</td>\n",
       "      <td>24.000000</td>\n",
       "      <td>24.000000</td>\n",
       "      <td>2.400000e+01</td>\n",
       "      <td>24.000000</td>\n",
       "      <td>24.000000</td>\n",
       "      <td>24.000000</td>\n",
       "    </tr>\n",
       "    <tr>\n",
       "      <th>mean</th>\n",
       "      <td>-66.276992</td>\n",
       "      <td>inf</td>\n",
       "      <td>-5.414019</td>\n",
       "      <td>-1.858322</td>\n",
       "      <td>-2.369559</td>\n",
       "      <td>1.610515</td>\n",
       "      <td>6.954456</td>\n",
       "      <td>1.666022e+27</td>\n",
       "      <td>898.148140</td>\n",
       "      <td>-19.017647</td>\n",
       "      <td>...</td>\n",
       "      <td>-17.823714</td>\n",
       "      <td>-16.480540</td>\n",
       "      <td>-18.719164</td>\n",
       "      <td>1.450991e+27</td>\n",
       "      <td>961.403351</td>\n",
       "      <td>-17.696876</td>\n",
       "      <td>4.530536e+07</td>\n",
       "      <td>-17.100954</td>\n",
       "      <td>-16.758729</td>\n",
       "      <td>-16.673370</td>\n",
       "    </tr>\n",
       "    <tr>\n",
       "      <th>std</th>\n",
       "      <td>203.219452</td>\n",
       "      <td>NaN</td>\n",
       "      <td>9.599960</td>\n",
       "      <td>10.501702</td>\n",
       "      <td>12.453167</td>\n",
       "      <td>16.172663</td>\n",
       "      <td>59.276054</td>\n",
       "      <td>1.708115e+27</td>\n",
       "      <td>716.283033</td>\n",
       "      <td>10.167497</td>\n",
       "      <td>...</td>\n",
       "      <td>10.222211</td>\n",
       "      <td>10.428172</td>\n",
       "      <td>12.626813</td>\n",
       "      <td>1.572953e+27</td>\n",
       "      <td>762.177735</td>\n",
       "      <td>9.049931</td>\n",
       "      <td>2.258385e+07</td>\n",
       "      <td>9.518924</td>\n",
       "      <td>10.987567</td>\n",
       "      <td>11.859780</td>\n",
       "    </tr>\n",
       "    <tr>\n",
       "      <th>min</th>\n",
       "      <td>-928.590414</td>\n",
       "      <td>-131.136077</td>\n",
       "      <td>-39.745919</td>\n",
       "      <td>-27.988045</td>\n",
       "      <td>-31.003919</td>\n",
       "      <td>-62.802967</td>\n",
       "      <td>-93.173579</td>\n",
       "      <td>-7.592000e+26</td>\n",
       "      <td>0.000000</td>\n",
       "      <td>-34.538777</td>\n",
       "      <td>...</td>\n",
       "      <td>-34.538777</td>\n",
       "      <td>-34.538777</td>\n",
       "      <td>-34.538777</td>\n",
       "      <td>-1.588477e+27</td>\n",
       "      <td>-138.382554</td>\n",
       "      <td>-33.685362</td>\n",
       "      <td>1.286576e+07</td>\n",
       "      <td>-31.625527</td>\n",
       "      <td>-35.576953</td>\n",
       "      <td>-34.344929</td>\n",
       "    </tr>\n",
       "    <tr>\n",
       "      <th>25%</th>\n",
       "      <td>-71.735514</td>\n",
       "      <td>-51.218297</td>\n",
       "      <td>-6.654854</td>\n",
       "      <td>-5.898524</td>\n",
       "      <td>-4.410815</td>\n",
       "      <td>0.961345</td>\n",
       "      <td>-16.584109</td>\n",
       "      <td>-2.530667e+26</td>\n",
       "      <td>388.888866</td>\n",
       "      <td>-30.956977</td>\n",
       "      <td>...</td>\n",
       "      <td>-24.688829</td>\n",
       "      <td>-27.375179</td>\n",
       "      <td>-30.956977</td>\n",
       "      <td>-6.253624e+24</td>\n",
       "      <td>343.611240</td>\n",
       "      <td>-26.049306</td>\n",
       "      <td>2.436618e+07</td>\n",
       "      <td>-24.708279</td>\n",
       "      <td>-27.658465</td>\n",
       "      <td>-26.522283</td>\n",
       "    </tr>\n",
       "    <tr>\n",
       "      <th>50%</th>\n",
       "      <td>-16.798464</td>\n",
       "      <td>5.765874</td>\n",
       "      <td>-2.514215</td>\n",
       "      <td>1.249900</td>\n",
       "      <td>-0.945640</td>\n",
       "      <td>3.117060</td>\n",
       "      <td>-6.247107</td>\n",
       "      <td>1.771467e+27</td>\n",
       "      <td>555.555537</td>\n",
       "      <td>-16.629781</td>\n",
       "      <td>...</td>\n",
       "      <td>-20.211580</td>\n",
       "      <td>-13.047982</td>\n",
       "      <td>-18.420681</td>\n",
       "      <td>1.509967e+27</td>\n",
       "      <td>812.467203</td>\n",
       "      <td>-16.287312</td>\n",
       "      <td>5.099841e+07</td>\n",
       "      <td>-18.274162</td>\n",
       "      <td>-13.595439</td>\n",
       "      <td>-15.317805</td>\n",
       "    </tr>\n",
       "    <tr>\n",
       "      <th>75%</th>\n",
       "      <td>19.458629</td>\n",
       "      <td>138.602064</td>\n",
       "      <td>-0.858818</td>\n",
       "      <td>4.213651</td>\n",
       "      <td>2.626339</td>\n",
       "      <td>6.622671</td>\n",
       "      <td>26.324841</td>\n",
       "      <td>3.289867e+27</td>\n",
       "      <td>1611.111134</td>\n",
       "      <td>-13.047982</td>\n",
       "      <td>...</td>\n",
       "      <td>-9.466183</td>\n",
       "      <td>-8.570734</td>\n",
       "      <td>-4.988935</td>\n",
       "      <td>2.779387e+27</td>\n",
       "      <td>1727.426484</td>\n",
       "      <td>-11.531767</td>\n",
       "      <td>6.170433e+07</td>\n",
       "      <td>-9.290401</td>\n",
       "      <td>-6.358417</td>\n",
       "      <td>-5.568721</td>\n",
       "    </tr>\n",
       "    <tr>\n",
       "      <th>max</th>\n",
       "      <td>109.230423</td>\n",
       "      <td>inf</td>\n",
       "      <td>4.890942</td>\n",
       "      <td>16.409592</td>\n",
       "      <td>32.917340</td>\n",
       "      <td>36.829072</td>\n",
       "      <td>151.344252</td>\n",
       "      <td>3.796000e+27</td>\n",
       "      <td>2000.000000</td>\n",
       "      <td>-5.884385</td>\n",
       "      <td>...</td>\n",
       "      <td>-2.302585</td>\n",
       "      <td>-2.302585</td>\n",
       "      <td>-2.302585</td>\n",
       "      <td>4.204318e+27</td>\n",
       "      <td>2297.845960</td>\n",
       "      <td>-5.634175</td>\n",
       "      <td>8.407282e+07</td>\n",
       "      <td>-2.173112</td>\n",
       "      <td>-2.528210</td>\n",
       "      <td>-1.379728</td>\n",
       "    </tr>\n",
       "  </tbody>\n",
       "</table>\n",
       "<p>8 rows × 21 columns</p>\n",
       "</div>"
      ],
      "text/plain": [
       "       planet_mass_error  temp_profile_error  ch4_mixratio_error  \\\n",
       "count          24.000000           24.000000           24.000000   \n",
       "mean          -66.276992                 inf           -5.414019   \n",
       "std           203.219452                 NaN            9.599960   \n",
       "min          -928.590414         -131.136077          -39.745919   \n",
       "25%           -71.735514          -51.218297           -6.654854   \n",
       "50%           -16.798464            5.765874           -2.514215   \n",
       "75%            19.458629          138.602064           -0.858818   \n",
       "max           109.230423                 inf            4.890942   \n",
       "\n",
       "       planet_radius_error  h2o_mixratio_error  co2_mixratio_error  \\\n",
       "count            24.000000           24.000000           24.000000   \n",
       "mean             -1.858322           -2.369559            1.610515   \n",
       "std              10.501702           12.453167           16.172663   \n",
       "min             -27.988045          -31.003919          -62.802967   \n",
       "25%              -5.898524           -4.410815            0.961345   \n",
       "50%               1.249900           -0.945640            3.117060   \n",
       "75%               4.213651            2.626339            6.622671   \n",
       "max              16.409592           32.917340           36.829072   \n",
       "\n",
       "       co_mixratio_error  planet_mass_real  temp_profile_real  \\\n",
       "count          24.000000      2.400000e+01          24.000000   \n",
       "mean            6.954456      1.666022e+27         898.148140   \n",
       "std            59.276054      1.708115e+27         716.283033   \n",
       "min           -93.173579     -7.592000e+26           0.000000   \n",
       "25%           -16.584109     -2.530667e+26         388.888866   \n",
       "50%            -6.247107      1.771467e+27         555.555537   \n",
       "75%            26.324841      3.289867e+27        1611.111134   \n",
       "max           151.344252      3.796000e+27        2000.000000   \n",
       "\n",
       "       ch4_mixratio_real          ...            h2o_mixratio_real  \\\n",
       "count          24.000000          ...                    24.000000   \n",
       "mean          -19.017647          ...                   -17.823714   \n",
       "std            10.167497          ...                    10.222211   \n",
       "min           -34.538777          ...                   -34.538777   \n",
       "25%           -30.956977          ...                   -24.688829   \n",
       "50%           -16.629781          ...                   -20.211580   \n",
       "75%           -13.047982          ...                    -9.466183   \n",
       "max            -5.884385          ...                    -2.302585   \n",
       "\n",
       "       co2_mixratio_real  co_mixratio_real  planet_mass_inpainted  \\\n",
       "count          24.000000         24.000000           2.400000e+01   \n",
       "mean          -16.480540        -18.719164           1.450991e+27   \n",
       "std            10.428172         12.626813           1.572953e+27   \n",
       "min           -34.538777        -34.538777          -1.588477e+27   \n",
       "25%           -27.375179        -30.956977          -6.253624e+24   \n",
       "50%           -13.047982        -18.420681           1.509967e+27   \n",
       "75%            -8.570734         -4.988935           2.779387e+27   \n",
       "max            -2.302585         -2.302585           4.204318e+27   \n",
       "\n",
       "       temp_profile_inpainted  ch4_mixratio_inpainted  \\\n",
       "count               24.000000               24.000000   \n",
       "mean               961.403351              -17.696876   \n",
       "std                762.177735                9.049931   \n",
       "min               -138.382554              -33.685362   \n",
       "25%                343.611240              -26.049306   \n",
       "50%                812.467203              -16.287312   \n",
       "75%               1727.426484              -11.531767   \n",
       "max               2297.845960               -5.634175   \n",
       "\n",
       "       planet_radius_inpainted  h2o_mixratio_inpainted  \\\n",
       "count             2.400000e+01               24.000000   \n",
       "mean              4.530536e+07              -17.100954   \n",
       "std               2.258385e+07                9.518924   \n",
       "min               1.286576e+07              -31.625527   \n",
       "25%               2.436618e+07              -24.708279   \n",
       "50%               5.099841e+07              -18.274162   \n",
       "75%               6.170433e+07               -9.290401   \n",
       "max               8.407282e+07               -2.173112   \n",
       "\n",
       "       co2_mixratio_inpainted  co_mixratio_inpainted  \n",
       "count               24.000000              24.000000  \n",
       "mean               -16.758729             -16.673370  \n",
       "std                 10.987567              11.859780  \n",
       "min                -35.576953             -34.344929  \n",
       "25%                -27.658465             -26.522283  \n",
       "50%                -13.595439             -15.317805  \n",
       "75%                 -6.358417              -5.568721  \n",
       "max                 -2.528210              -1.379728  \n",
       "\n",
       "[8 rows x 21 columns]"
      ]
     },
     "execution_count": 43,
     "metadata": {},
     "output_type": "execute_result"
    }
   ],
   "source": [
    "df.describe()"
   ]
  },
  {
   "cell_type": "code",
   "execution_count": 44,
   "metadata": {},
   "outputs": [
    {
     "data": {
      "text/html": [
       "<div>\n",
       "<style scoped>\n",
       "    .dataframe tbody tr th:only-of-type {\n",
       "        vertical-align: middle;\n",
       "    }\n",
       "\n",
       "    .dataframe tbody tr th {\n",
       "        vertical-align: top;\n",
       "    }\n",
       "\n",
       "    .dataframe thead th {\n",
       "        text-align: right;\n",
       "    }\n",
       "</style>\n",
       "<table border=\"1\" class=\"dataframe\">\n",
       "  <thead>\n",
       "    <tr style=\"text-align: right;\">\n",
       "      <th></th>\n",
       "      <th>planet_mass_error</th>\n",
       "      <th>temp_profile_error</th>\n",
       "      <th>ch4_mixratio_error</th>\n",
       "      <th>planet_radius_error</th>\n",
       "      <th>h2o_mixratio_error</th>\n",
       "      <th>co2_mixratio_error</th>\n",
       "      <th>co_mixratio_error</th>\n",
       "      <th>planet_mass_real</th>\n",
       "      <th>temp_profile_real</th>\n",
       "      <th>ch4_mixratio_real</th>\n",
       "      <th>...</th>\n",
       "      <th>h2o_mixratio_real</th>\n",
       "      <th>co2_mixratio_real</th>\n",
       "      <th>co_mixratio_real</th>\n",
       "      <th>planet_mass_inpainted</th>\n",
       "      <th>temp_profile_inpainted</th>\n",
       "      <th>ch4_mixratio_inpainted</th>\n",
       "      <th>planet_radius_inpainted</th>\n",
       "      <th>h2o_mixratio_inpainted</th>\n",
       "      <th>co2_mixratio_inpainted</th>\n",
       "      <th>co_mixratio_inpainted</th>\n",
       "    </tr>\n",
       "  </thead>\n",
       "  <tbody>\n",
       "    <tr>\n",
       "      <th>count</th>\n",
       "      <td>24.000000</td>\n",
       "      <td>24.000000</td>\n",
       "      <td>24.000000</td>\n",
       "      <td>24.000000</td>\n",
       "      <td>24.000000</td>\n",
       "      <td>24.000000</td>\n",
       "      <td>24.000000</td>\n",
       "      <td>2.400000e+01</td>\n",
       "      <td>24.000000</td>\n",
       "      <td>24.000000</td>\n",
       "      <td>...</td>\n",
       "      <td>24.000000</td>\n",
       "      <td>24.000000</td>\n",
       "      <td>24.000000</td>\n",
       "      <td>2.400000e+01</td>\n",
       "      <td>24.000000</td>\n",
       "      <td>24.000000</td>\n",
       "      <td>2.400000e+01</td>\n",
       "      <td>24.000000</td>\n",
       "      <td>24.000000</td>\n",
       "      <td>24.000000</td>\n",
       "    </tr>\n",
       "    <tr>\n",
       "      <th>mean</th>\n",
       "      <td>-66.276992</td>\n",
       "      <td>inf</td>\n",
       "      <td>-5.414019</td>\n",
       "      <td>-1.858322</td>\n",
       "      <td>-2.369559</td>\n",
       "      <td>1.610515</td>\n",
       "      <td>6.954456</td>\n",
       "      <td>1.666022e+27</td>\n",
       "      <td>898.148140</td>\n",
       "      <td>-19.017647</td>\n",
       "      <td>...</td>\n",
       "      <td>-17.823714</td>\n",
       "      <td>-16.480540</td>\n",
       "      <td>-18.719164</td>\n",
       "      <td>1.450991e+27</td>\n",
       "      <td>961.403351</td>\n",
       "      <td>-17.696876</td>\n",
       "      <td>4.530536e+07</td>\n",
       "      <td>-17.100954</td>\n",
       "      <td>-16.758729</td>\n",
       "      <td>-16.673370</td>\n",
       "    </tr>\n",
       "    <tr>\n",
       "      <th>std</th>\n",
       "      <td>203.219452</td>\n",
       "      <td>NaN</td>\n",
       "      <td>9.599960</td>\n",
       "      <td>10.501702</td>\n",
       "      <td>12.453167</td>\n",
       "      <td>16.172663</td>\n",
       "      <td>59.276054</td>\n",
       "      <td>1.708115e+27</td>\n",
       "      <td>716.283033</td>\n",
       "      <td>10.167497</td>\n",
       "      <td>...</td>\n",
       "      <td>10.222211</td>\n",
       "      <td>10.428172</td>\n",
       "      <td>12.626813</td>\n",
       "      <td>1.572953e+27</td>\n",
       "      <td>762.177735</td>\n",
       "      <td>9.049931</td>\n",
       "      <td>2.258385e+07</td>\n",
       "      <td>9.518924</td>\n",
       "      <td>10.987567</td>\n",
       "      <td>11.859780</td>\n",
       "    </tr>\n",
       "    <tr>\n",
       "      <th>min</th>\n",
       "      <td>-928.590414</td>\n",
       "      <td>-131.136077</td>\n",
       "      <td>-39.745919</td>\n",
       "      <td>-27.988045</td>\n",
       "      <td>-31.003919</td>\n",
       "      <td>-62.802967</td>\n",
       "      <td>-93.173579</td>\n",
       "      <td>-7.592000e+26</td>\n",
       "      <td>0.000000</td>\n",
       "      <td>-34.538777</td>\n",
       "      <td>...</td>\n",
       "      <td>-34.538777</td>\n",
       "      <td>-34.538777</td>\n",
       "      <td>-34.538777</td>\n",
       "      <td>-1.588477e+27</td>\n",
       "      <td>-138.382554</td>\n",
       "      <td>-33.685362</td>\n",
       "      <td>1.286576e+07</td>\n",
       "      <td>-31.625527</td>\n",
       "      <td>-35.576953</td>\n",
       "      <td>-34.344929</td>\n",
       "    </tr>\n",
       "    <tr>\n",
       "      <th>25%</th>\n",
       "      <td>-71.735514</td>\n",
       "      <td>-51.218297</td>\n",
       "      <td>-6.654854</td>\n",
       "      <td>-5.898524</td>\n",
       "      <td>-4.410815</td>\n",
       "      <td>0.961345</td>\n",
       "      <td>-16.584109</td>\n",
       "      <td>-2.530667e+26</td>\n",
       "      <td>388.888866</td>\n",
       "      <td>-30.956977</td>\n",
       "      <td>...</td>\n",
       "      <td>-24.688829</td>\n",
       "      <td>-27.375179</td>\n",
       "      <td>-30.956977</td>\n",
       "      <td>-6.253624e+24</td>\n",
       "      <td>343.611240</td>\n",
       "      <td>-26.049306</td>\n",
       "      <td>2.436618e+07</td>\n",
       "      <td>-24.708279</td>\n",
       "      <td>-27.658465</td>\n",
       "      <td>-26.522283</td>\n",
       "    </tr>\n",
       "    <tr>\n",
       "      <th>50%</th>\n",
       "      <td>-16.798464</td>\n",
       "      <td>5.765874</td>\n",
       "      <td>-2.514215</td>\n",
       "      <td>1.249900</td>\n",
       "      <td>-0.945640</td>\n",
       "      <td>3.117060</td>\n",
       "      <td>-6.247107</td>\n",
       "      <td>1.771467e+27</td>\n",
       "      <td>555.555537</td>\n",
       "      <td>-16.629781</td>\n",
       "      <td>...</td>\n",
       "      <td>-20.211580</td>\n",
       "      <td>-13.047982</td>\n",
       "      <td>-18.420681</td>\n",
       "      <td>1.509967e+27</td>\n",
       "      <td>812.467203</td>\n",
       "      <td>-16.287312</td>\n",
       "      <td>5.099841e+07</td>\n",
       "      <td>-18.274162</td>\n",
       "      <td>-13.595439</td>\n",
       "      <td>-15.317805</td>\n",
       "    </tr>\n",
       "    <tr>\n",
       "      <th>75%</th>\n",
       "      <td>19.458629</td>\n",
       "      <td>138.602064</td>\n",
       "      <td>-0.858818</td>\n",
       "      <td>4.213651</td>\n",
       "      <td>2.626339</td>\n",
       "      <td>6.622671</td>\n",
       "      <td>26.324841</td>\n",
       "      <td>3.289867e+27</td>\n",
       "      <td>1611.111134</td>\n",
       "      <td>-13.047982</td>\n",
       "      <td>...</td>\n",
       "      <td>-9.466183</td>\n",
       "      <td>-8.570734</td>\n",
       "      <td>-4.988935</td>\n",
       "      <td>2.779387e+27</td>\n",
       "      <td>1727.426484</td>\n",
       "      <td>-11.531767</td>\n",
       "      <td>6.170433e+07</td>\n",
       "      <td>-9.290401</td>\n",
       "      <td>-6.358417</td>\n",
       "      <td>-5.568721</td>\n",
       "    </tr>\n",
       "    <tr>\n",
       "      <th>max</th>\n",
       "      <td>109.230423</td>\n",
       "      <td>inf</td>\n",
       "      <td>4.890942</td>\n",
       "      <td>16.409592</td>\n",
       "      <td>32.917340</td>\n",
       "      <td>36.829072</td>\n",
       "      <td>151.344252</td>\n",
       "      <td>3.796000e+27</td>\n",
       "      <td>2000.000000</td>\n",
       "      <td>-5.884385</td>\n",
       "      <td>...</td>\n",
       "      <td>-2.302585</td>\n",
       "      <td>-2.302585</td>\n",
       "      <td>-2.302585</td>\n",
       "      <td>4.204318e+27</td>\n",
       "      <td>2297.845960</td>\n",
       "      <td>-5.634175</td>\n",
       "      <td>8.407282e+07</td>\n",
       "      <td>-2.173112</td>\n",
       "      <td>-2.528210</td>\n",
       "      <td>-1.379728</td>\n",
       "    </tr>\n",
       "  </tbody>\n",
       "</table>\n",
       "<p>8 rows × 21 columns</p>\n",
       "</div>"
      ],
      "text/plain": [
       "       planet_mass_error  temp_profile_error  ch4_mixratio_error  \\\n",
       "count          24.000000           24.000000           24.000000   \n",
       "mean          -66.276992                 inf           -5.414019   \n",
       "std           203.219452                 NaN            9.599960   \n",
       "min          -928.590414         -131.136077          -39.745919   \n",
       "25%           -71.735514          -51.218297           -6.654854   \n",
       "50%           -16.798464            5.765874           -2.514215   \n",
       "75%            19.458629          138.602064           -0.858818   \n",
       "max           109.230423                 inf            4.890942   \n",
       "\n",
       "       planet_radius_error  h2o_mixratio_error  co2_mixratio_error  \\\n",
       "count            24.000000           24.000000           24.000000   \n",
       "mean             -1.858322           -2.369559            1.610515   \n",
       "std              10.501702           12.453167           16.172663   \n",
       "min             -27.988045          -31.003919          -62.802967   \n",
       "25%              -5.898524           -4.410815            0.961345   \n",
       "50%               1.249900           -0.945640            3.117060   \n",
       "75%               4.213651            2.626339            6.622671   \n",
       "max              16.409592           32.917340           36.829072   \n",
       "\n",
       "       co_mixratio_error  planet_mass_real  temp_profile_real  \\\n",
       "count          24.000000      2.400000e+01          24.000000   \n",
       "mean            6.954456      1.666022e+27         898.148140   \n",
       "std            59.276054      1.708115e+27         716.283033   \n",
       "min           -93.173579     -7.592000e+26           0.000000   \n",
       "25%           -16.584109     -2.530667e+26         388.888866   \n",
       "50%            -6.247107      1.771467e+27         555.555537   \n",
       "75%            26.324841      3.289867e+27        1611.111134   \n",
       "max           151.344252      3.796000e+27        2000.000000   \n",
       "\n",
       "       ch4_mixratio_real          ...            h2o_mixratio_real  \\\n",
       "count          24.000000          ...                    24.000000   \n",
       "mean          -19.017647          ...                   -17.823714   \n",
       "std            10.167497          ...                    10.222211   \n",
       "min           -34.538777          ...                   -34.538777   \n",
       "25%           -30.956977          ...                   -24.688829   \n",
       "50%           -16.629781          ...                   -20.211580   \n",
       "75%           -13.047982          ...                    -9.466183   \n",
       "max            -5.884385          ...                    -2.302585   \n",
       "\n",
       "       co2_mixratio_real  co_mixratio_real  planet_mass_inpainted  \\\n",
       "count          24.000000         24.000000           2.400000e+01   \n",
       "mean          -16.480540        -18.719164           1.450991e+27   \n",
       "std            10.428172         12.626813           1.572953e+27   \n",
       "min           -34.538777        -34.538777          -1.588477e+27   \n",
       "25%           -27.375179        -30.956977          -6.253624e+24   \n",
       "50%           -13.047982        -18.420681           1.509967e+27   \n",
       "75%            -8.570734         -4.988935           2.779387e+27   \n",
       "max            -2.302585         -2.302585           4.204318e+27   \n",
       "\n",
       "       temp_profile_inpainted  ch4_mixratio_inpainted  \\\n",
       "count               24.000000               24.000000   \n",
       "mean               961.403351              -17.696876   \n",
       "std                762.177735                9.049931   \n",
       "min               -138.382554              -33.685362   \n",
       "25%                343.611240              -26.049306   \n",
       "50%                812.467203              -16.287312   \n",
       "75%               1727.426484              -11.531767   \n",
       "max               2297.845960               -5.634175   \n",
       "\n",
       "       planet_radius_inpainted  h2o_mixratio_inpainted  \\\n",
       "count             2.400000e+01               24.000000   \n",
       "mean              4.530536e+07              -17.100954   \n",
       "std               2.258385e+07                9.518924   \n",
       "min               1.286576e+07              -31.625527   \n",
       "25%               2.436618e+07              -24.708279   \n",
       "50%               5.099841e+07              -18.274162   \n",
       "75%               6.170433e+07               -9.290401   \n",
       "max               8.407282e+07               -2.173112   \n",
       "\n",
       "       co2_mixratio_inpainted  co_mixratio_inpainted  \n",
       "count               24.000000              24.000000  \n",
       "mean               -16.758729             -16.673370  \n",
       "std                 10.987567              11.859780  \n",
       "min                -35.576953             -34.344929  \n",
       "25%                -27.658465             -26.522283  \n",
       "50%                -13.595439             -15.317805  \n",
       "75%                 -6.358417              -5.568721  \n",
       "max                 -2.528210              -1.379728  \n",
       "\n",
       "[8 rows x 21 columns]"
      ]
     },
     "execution_count": 44,
     "metadata": {},
     "output_type": "execute_result"
    }
   ],
   "source": [
    "df.describe()"
   ]
  },
  {
   "cell_type": "code",
   "execution_count": 45,
   "metadata": {},
   "outputs": [
    {
     "name": "stdout",
     "output_type": "stream",
     "text": [
      "ch4_mixratio\n"
     ]
    }
   ],
   "source": [
    "params = [param for param in real_params.keys()]\n",
    "param = params[2]\n",
    "print(param)"
   ]
  },
  {
   "cell_type": "code",
   "execution_count": 46,
   "metadata": {},
   "outputs": [
    {
     "data": {
      "image/png": "[encoded data removed]",
      "text/plain": [
       "<Figure size 432x288 with 1 Axes>"
      ]
     },
     "metadata": {
      "needs_background": "light"
     },
     "output_type": "display_data"
    }
   ],
   "source": [
    "x = df[param+'_real']\n",
    "y = df[param+'_inpainted']\n",
    "\n",
    "plt.plot(x, y, '.')\n",
    "plt.xlabel('real')\n",
    "plt.ylabel('inpainted')\n",
    "plt.grid()"
   ]
  },
  {
   "cell_type": "code",
   "execution_count": 47,
   "metadata": {},
   "outputs": [
    {
     "data": {
      "text/plain": [
       "0    -9.466183\n",
       "0   -16.629781\n",
       "0   -16.629781\n",
       "0   -13.047982\n",
       "0   -16.629781\n",
       "0   -34.538777\n",
       "0   -13.047982\n",
       "0    -5.884385\n",
       "0   -16.629781\n",
       "0   -34.538777\n",
       "0    -5.884385\n",
       "0   -30.956977\n",
       "0   -13.047982\n",
       "0   -34.538777\n",
       "0   -30.956977\n",
       "0   -30.956977\n",
       "0   -34.538777\n",
       "0   -16.629781\n",
       "0   -13.047982\n",
       "0   -16.629781\n",
       "0   -23.793379\n",
       "0   -16.629781\n",
       "0    -5.884385\n",
       "0    -5.884385\n",
       "Name: ch4_mixratio_real, dtype: float64"
      ]
     },
     "execution_count": 47,
     "metadata": {},
     "output_type": "execute_result"
    }
   ],
   "source": [
    "x"
   ]
  },
  {
   "cell_type": "code",
   "execution_count": 48,
   "metadata": {},
   "outputs": [
    {
     "data": {
      "text/plain": [
       "0    -9.367731\n",
       "0   -16.086125\n",
       "0   -16.242807\n",
       "0    -7.861942\n",
       "0   -16.408122\n",
       "0   -25.596096\n",
       "0   -13.398663\n",
       "0    -6.172186\n",
       "0   -16.331817\n",
       "0   -31.172416\n",
       "0    -5.634175\n",
       "0   -30.165240\n",
       "0   -12.927395\n",
       "0   -30.676780\n",
       "0   -28.374012\n",
       "0   -27.408937\n",
       "0   -33.685362\n",
       "0   -16.857787\n",
       "0   -12.253113\n",
       "0   -15.918684\n",
       "0   -24.050206\n",
       "0   -16.519572\n",
       "0    -5.716134\n",
       "0    -5.899732\n",
       "Name: ch4_mixratio_inpainted, dtype: float64"
      ]
     },
     "execution_count": 48,
     "metadata": {},
     "output_type": "execute_result"
    }
   ],
   "source": [
    "y"
   ]
  },
  {
   "cell_type": "code",
   "execution_count": 49,
   "metadata": {},
   "outputs": [
    {
     "data": {
      "text/plain": [
       "(array([ 1.,  0.,  0.,  1.,  0.,  0.,  3.,  4., 11.,  4.]),\n",
       " array([-39.74591898, -35.28223286, -30.81854674, -26.35486063,\n",
       "        -21.89117451, -17.42748839, -12.96380227,  -8.50011615,\n",
       "         -4.03643003,   0.42725609,   4.89094221]),\n",
       " <a list of 10 Patch objects>)"
      ]
     },
     "execution_count": 49,
     "metadata": {},
     "output_type": "execute_result"
    },
    {
     "data": {
      "image/png": "[encoded data removed]",
      "text/plain": [
       "<Figure size 432x288 with 1 Axes>"
      ]
     },
     "metadata": {
      "needs_background": "light"
     },
     "output_type": "display_data"
    }
   ],
   "source": [
    "plt.hist(df[param+'_error'])"
   ]
  },
  {
   "cell_type": "code",
   "execution_count": 50,
   "metadata": {},
   "outputs": [
    {
     "ename": "ValueError",
     "evalue": "supplied range of [-131.13607651806333, inf] is not finite",
     "output_type": "error",
     "traceback": [
      "\u001b[0;31m---------------------------------------------------------------------------\u001b[0m",
      "\u001b[0;31mValueError\u001b[0m                                Traceback (most recent call last)",
      "\u001b[0;32m<ipython-input-50-babbe7b43ef2>\u001b[0m in \u001b[0;36m<module>\u001b[0;34m\u001b[0m\n\u001b[1;32m      3\u001b[0m     \u001b[0mplt\u001b[0m\u001b[0;34m.\u001b[0m\u001b[0msubplot\u001b[0m\u001b[0;34m(\u001b[0m\u001b[0;36m3\u001b[0m\u001b[0;34m,\u001b[0m\u001b[0;36m3\u001b[0m\u001b[0;34m,\u001b[0m\u001b[0mi\u001b[0m\u001b[0;34m+\u001b[0m\u001b[0;36m1\u001b[0m\u001b[0;34m)\u001b[0m\u001b[0;34m\u001b[0m\u001b[0;34m\u001b[0m\u001b[0m\n\u001b[1;32m      4\u001b[0m     \u001b[0mplt\u001b[0m\u001b[0;34m.\u001b[0m\u001b[0mtitle\u001b[0m\u001b[0;34m(\u001b[0m\u001b[0mparam\u001b[0m\u001b[0;34m+\u001b[0m\u001b[0;34m'_error'\u001b[0m\u001b[0;34m)\u001b[0m\u001b[0;34m\u001b[0m\u001b[0;34m\u001b[0m\u001b[0m\n\u001b[0;32m----> 5\u001b[0;31m     \u001b[0mplt\u001b[0m\u001b[0;34m.\u001b[0m\u001b[0mhist\u001b[0m\u001b[0;34m(\u001b[0m\u001b[0mdf\u001b[0m\u001b[0;34m[\u001b[0m\u001b[0mparam\u001b[0m\u001b[0;34m+\u001b[0m\u001b[0;34m'_error'\u001b[0m\u001b[0;34m]\u001b[0m\u001b[0;34m,\u001b[0m \u001b[0mbins\u001b[0m\u001b[0;34m=\u001b[0m\u001b[0;36m20\u001b[0m\u001b[0;34m)\u001b[0m\u001b[0;34m\u001b[0m\u001b[0;34m\u001b[0m\u001b[0m\n\u001b[0m\u001b[1;32m      6\u001b[0m     \u001b[0mplt\u001b[0m\u001b[0;34m.\u001b[0m\u001b[0mgrid\u001b[0m\u001b[0;34m(\u001b[0m\u001b[0;34m)\u001b[0m\u001b[0;34m\u001b[0m\u001b[0;34m\u001b[0m\u001b[0m\n\u001b[1;32m      7\u001b[0m     \u001b[0mplt\u001b[0m\u001b[0;34m.\u001b[0m\u001b[0mtight_layout\u001b[0m\u001b[0;34m(\u001b[0m\u001b[0;34m)\u001b[0m\u001b[0;34m\u001b[0m\u001b[0;34m\u001b[0m\u001b[0m\n",
      "\u001b[0;32m/opt/jupyterhub/anaconda/lib/python3.6/site-packages/matplotlib/pyplot.py\u001b[0m in \u001b[0;36mhist\u001b[0;34m(x, bins, range, density, weights, cumulative, bottom, histtype, align, orientation, rwidth, log, color, label, stacked, normed, data, **kwargs)\u001b[0m\n\u001b[1;32m   2659\u001b[0m         \u001b[0malign\u001b[0m\u001b[0;34m=\u001b[0m\u001b[0malign\u001b[0m\u001b[0;34m,\u001b[0m \u001b[0morientation\u001b[0m\u001b[0;34m=\u001b[0m\u001b[0morientation\u001b[0m\u001b[0;34m,\u001b[0m \u001b[0mrwidth\u001b[0m\u001b[0;34m=\u001b[0m\u001b[0mrwidth\u001b[0m\u001b[0;34m,\u001b[0m \u001b[0mlog\u001b[0m\u001b[0;34m=\u001b[0m\u001b[0mlog\u001b[0m\u001b[0;34m,\u001b[0m\u001b[0;34m\u001b[0m\u001b[0;34m\u001b[0m\u001b[0m\n\u001b[1;32m   2660\u001b[0m         \u001b[0mcolor\u001b[0m\u001b[0;34m=\u001b[0m\u001b[0mcolor\u001b[0m\u001b[0;34m,\u001b[0m \u001b[0mlabel\u001b[0m\u001b[0;34m=\u001b[0m\u001b[0mlabel\u001b[0m\u001b[0;34m,\u001b[0m \u001b[0mstacked\u001b[0m\u001b[0;34m=\u001b[0m\u001b[0mstacked\u001b[0m\u001b[0;34m,\u001b[0m \u001b[0mnormed\u001b[0m\u001b[0;34m=\u001b[0m\u001b[0mnormed\u001b[0m\u001b[0;34m,\u001b[0m\u001b[0;34m\u001b[0m\u001b[0;34m\u001b[0m\u001b[0m\n\u001b[0;32m-> 2661\u001b[0;31m         **({\"data\": data} if data is not None else {}), **kwargs)\n\u001b[0m\u001b[1;32m   2662\u001b[0m \u001b[0;34m\u001b[0m\u001b[0m\n\u001b[1;32m   2663\u001b[0m \u001b[0;34m\u001b[0m\u001b[0m\n",
      "\u001b[0;32m/opt/jupyterhub/anaconda/lib/python3.6/site-packages/matplotlib/__init__.py\u001b[0m in \u001b[0;36minner\u001b[0;34m(ax, data, *args, **kwargs)\u001b[0m\n\u001b[1;32m   1803\u001b[0m                         \u001b[0;34m\"the Matplotlib list!)\"\u001b[0m \u001b[0;34m%\u001b[0m \u001b[0;34m(\u001b[0m\u001b[0mlabel_namer\u001b[0m\u001b[0;34m,\u001b[0m \u001b[0mfunc\u001b[0m\u001b[0;34m.\u001b[0m\u001b[0m__name__\u001b[0m\u001b[0;34m)\u001b[0m\u001b[0;34m,\u001b[0m\u001b[0;34m\u001b[0m\u001b[0;34m\u001b[0m\u001b[0m\n\u001b[1;32m   1804\u001b[0m                         RuntimeWarning, stacklevel=2)\n\u001b[0;32m-> 1805\u001b[0;31m             \u001b[0;32mreturn\u001b[0m \u001b[0mfunc\u001b[0m\u001b[0;34m(\u001b[0m\u001b[0max\u001b[0m\u001b[0;34m,\u001b[0m \u001b[0;34m*\u001b[0m\u001b[0margs\u001b[0m\u001b[0;34m,\u001b[0m \u001b[0;34m**\u001b[0m\u001b[0mkwargs\u001b[0m\u001b[0;34m)\u001b[0m\u001b[0;34m\u001b[0m\u001b[0;34m\u001b[0m\u001b[0m\n\u001b[0m\u001b[1;32m   1806\u001b[0m \u001b[0;34m\u001b[0m\u001b[0m\n\u001b[1;32m   1807\u001b[0m         inner.__doc__ = _add_data_doc(inner.__doc__,\n",
      "\u001b[0;32m/opt/jupyterhub/anaconda/lib/python3.6/site-packages/matplotlib/axes/_axes.py\u001b[0m in \u001b[0;36mhist\u001b[0;34m(self, x, bins, range, density, weights, cumulative, bottom, histtype, align, orientation, rwidth, log, color, label, stacked, normed, **kwargs)\u001b[0m\n\u001b[1;32m   6578\u001b[0m             \u001b[0;31m# this will automatically overwrite bins,\u001b[0m\u001b[0;34m\u001b[0m\u001b[0;34m\u001b[0m\u001b[0;34m\u001b[0m\u001b[0m\n\u001b[1;32m   6579\u001b[0m             \u001b[0;31m# so that each histogram uses the same bins\u001b[0m\u001b[0;34m\u001b[0m\u001b[0;34m\u001b[0m\u001b[0;34m\u001b[0m\u001b[0m\n\u001b[0;32m-> 6580\u001b[0;31m             \u001b[0mm\u001b[0m\u001b[0;34m,\u001b[0m \u001b[0mbins\u001b[0m \u001b[0;34m=\u001b[0m \u001b[0mnp\u001b[0m\u001b[0;34m.\u001b[0m\u001b[0mhistogram\u001b[0m\u001b[0;34m(\u001b[0m\u001b[0mx\u001b[0m\u001b[0;34m[\u001b[0m\u001b[0mi\u001b[0m\u001b[0;34m]\u001b[0m\u001b[0;34m,\u001b[0m \u001b[0mbins\u001b[0m\u001b[0;34m,\u001b[0m \u001b[0mweights\u001b[0m\u001b[0;34m=\u001b[0m\u001b[0mw\u001b[0m\u001b[0;34m[\u001b[0m\u001b[0mi\u001b[0m\u001b[0;34m]\u001b[0m\u001b[0;34m,\u001b[0m \u001b[0;34m**\u001b[0m\u001b[0mhist_kwargs\u001b[0m\u001b[0;34m)\u001b[0m\u001b[0;34m\u001b[0m\u001b[0;34m\u001b[0m\u001b[0m\n\u001b[0m\u001b[1;32m   6581\u001b[0m             \u001b[0mm\u001b[0m \u001b[0;34m=\u001b[0m \u001b[0mm\u001b[0m\u001b[0;34m.\u001b[0m\u001b[0mastype\u001b[0m\u001b[0;34m(\u001b[0m\u001b[0mfloat\u001b[0m\u001b[0;34m)\u001b[0m  \u001b[0;31m# causes problems later if it's an int\u001b[0m\u001b[0;34m\u001b[0m\u001b[0;34m\u001b[0m\u001b[0m\n\u001b[1;32m   6582\u001b[0m             \u001b[0;32mif\u001b[0m \u001b[0mmlast\u001b[0m \u001b[0;32mis\u001b[0m \u001b[0;32mNone\u001b[0m\u001b[0;34m:\u001b[0m\u001b[0;34m\u001b[0m\u001b[0;34m\u001b[0m\u001b[0m\n",
      "\u001b[0;32m/opt/jupyterhub/anaconda/lib/python3.6/site-packages/numpy/lib/histograms.py\u001b[0m in \u001b[0;36mhistogram\u001b[0;34m(a, bins, range, normed, weights, density)\u001b[0m\n\u001b[1;32m    708\u001b[0m     \u001b[0ma\u001b[0m\u001b[0;34m,\u001b[0m \u001b[0mweights\u001b[0m \u001b[0;34m=\u001b[0m \u001b[0m_ravel_and_check_weights\u001b[0m\u001b[0;34m(\u001b[0m\u001b[0ma\u001b[0m\u001b[0;34m,\u001b[0m \u001b[0mweights\u001b[0m\u001b[0;34m)\u001b[0m\u001b[0;34m\u001b[0m\u001b[0;34m\u001b[0m\u001b[0m\n\u001b[1;32m    709\u001b[0m \u001b[0;34m\u001b[0m\u001b[0m\n\u001b[0;32m--> 710\u001b[0;31m     \u001b[0mbin_edges\u001b[0m\u001b[0;34m,\u001b[0m \u001b[0muniform_bins\u001b[0m \u001b[0;34m=\u001b[0m \u001b[0m_get_bin_edges\u001b[0m\u001b[0;34m(\u001b[0m\u001b[0ma\u001b[0m\u001b[0;34m,\u001b[0m \u001b[0mbins\u001b[0m\u001b[0;34m,\u001b[0m \u001b[0mrange\u001b[0m\u001b[0;34m,\u001b[0m \u001b[0mweights\u001b[0m\u001b[0;34m)\u001b[0m\u001b[0;34m\u001b[0m\u001b[0;34m\u001b[0m\u001b[0m\n\u001b[0m\u001b[1;32m    711\u001b[0m \u001b[0;34m\u001b[0m\u001b[0m\n\u001b[1;32m    712\u001b[0m     \u001b[0;31m# Histogram is an integer or a float array depending on the weights.\u001b[0m\u001b[0;34m\u001b[0m\u001b[0;34m\u001b[0m\u001b[0;34m\u001b[0m\u001b[0m\n",
      "\u001b[0;32m/opt/jupyterhub/anaconda/lib/python3.6/site-packages/numpy/lib/histograms.py\u001b[0m in \u001b[0;36m_get_bin_edges\u001b[0;34m(a, bins, range, weights)\u001b[0m\n\u001b[1;32m    361\u001b[0m             \u001b[0;32mraise\u001b[0m \u001b[0mValueError\u001b[0m\u001b[0;34m(\u001b[0m\u001b[0;34m'`bins` must be positive, when an integer'\u001b[0m\u001b[0;34m)\u001b[0m\u001b[0;34m\u001b[0m\u001b[0;34m\u001b[0m\u001b[0m\n\u001b[1;32m    362\u001b[0m \u001b[0;34m\u001b[0m\u001b[0m\n\u001b[0;32m--> 363\u001b[0;31m         \u001b[0mfirst_edge\u001b[0m\u001b[0;34m,\u001b[0m \u001b[0mlast_edge\u001b[0m \u001b[0;34m=\u001b[0m \u001b[0m_get_outer_edges\u001b[0m\u001b[0;34m(\u001b[0m\u001b[0ma\u001b[0m\u001b[0;34m,\u001b[0m \u001b[0mrange\u001b[0m\u001b[0;34m)\u001b[0m\u001b[0;34m\u001b[0m\u001b[0;34m\u001b[0m\u001b[0m\n\u001b[0m\u001b[1;32m    364\u001b[0m \u001b[0;34m\u001b[0m\u001b[0m\n\u001b[1;32m    365\u001b[0m     \u001b[0;32melif\u001b[0m \u001b[0mnp\u001b[0m\u001b[0;34m.\u001b[0m\u001b[0mndim\u001b[0m\u001b[0;34m(\u001b[0m\u001b[0mbins\u001b[0m\u001b[0;34m)\u001b[0m \u001b[0;34m==\u001b[0m \u001b[0;36m1\u001b[0m\u001b[0;34m:\u001b[0m\u001b[0;34m\u001b[0m\u001b[0;34m\u001b[0m\u001b[0m\n",
      "\u001b[0;32m/opt/jupyterhub/anaconda/lib/python3.6/site-packages/numpy/lib/histograms.py\u001b[0m in \u001b[0;36m_get_outer_edges\u001b[0;34m(a, range)\u001b[0m\n\u001b[1;32m    251\u001b[0m         \u001b[0;32mif\u001b[0m \u001b[0;32mnot\u001b[0m \u001b[0;34m(\u001b[0m\u001b[0mnp\u001b[0m\u001b[0;34m.\u001b[0m\u001b[0misfinite\u001b[0m\u001b[0;34m(\u001b[0m\u001b[0mfirst_edge\u001b[0m\u001b[0;34m)\u001b[0m \u001b[0;32mand\u001b[0m \u001b[0mnp\u001b[0m\u001b[0;34m.\u001b[0m\u001b[0misfinite\u001b[0m\u001b[0;34m(\u001b[0m\u001b[0mlast_edge\u001b[0m\u001b[0;34m)\u001b[0m\u001b[0;34m)\u001b[0m\u001b[0;34m:\u001b[0m\u001b[0;34m\u001b[0m\u001b[0;34m\u001b[0m\u001b[0m\n\u001b[1;32m    252\u001b[0m             raise ValueError(\n\u001b[0;32m--> 253\u001b[0;31m                 \"supplied range of [{}, {}] is not finite\".format(first_edge, last_edge))\n\u001b[0m\u001b[1;32m    254\u001b[0m     \u001b[0;32melif\u001b[0m \u001b[0ma\u001b[0m\u001b[0;34m.\u001b[0m\u001b[0msize\u001b[0m \u001b[0;34m==\u001b[0m \u001b[0;36m0\u001b[0m\u001b[0;34m:\u001b[0m\u001b[0;34m\u001b[0m\u001b[0;34m\u001b[0m\u001b[0m\n\u001b[1;32m    255\u001b[0m         \u001b[0;31m# handle empty arrays. Can't determine range, so use 0-1.\u001b[0m\u001b[0;34m\u001b[0m\u001b[0;34m\u001b[0m\u001b[0;34m\u001b[0m\u001b[0m\n",
      "\u001b[0;31mValueError\u001b[0m: supplied range of [-131.13607651806333, inf] is not finite"
     ]
    },
    {
     "data": {
      "image/png": "[encoded data removed]",
      "text/plain": [
       "<Figure size 1800x720 with 2 Axes>"
      ]
     },
     "metadata": {
      "needs_background": "light"
     },
     "output_type": "display_data"
    }
   ],
   "source": [
    "plt.figure(figsize=((25,10)))\n",
    "for i,param in enumerate(params):\n",
    "    plt.subplot(3,3,i+1)\n",
    "    plt.title(param+'_error')\n",
    "    plt.hist(df[param+'_error'], bins=20)\n",
    "    plt.grid()\n",
    "    plt.tight_layout()\n",
    "\n",
    "plt.savefig('plots//Validation error hist of '+str(len(images))+' images.png', dpi=1200)\n",
    "print('saved')"
   ]
  },
  {
   "cell_type": "raw",
   "metadata": {},
   "source": [
    "plt.figure(figsize=((25,10)))\n",
    "for i,param in enumerate(params):\n",
    "    x = df[param+'_error']\n",
    "    y = df[param+'_real']\n",
    "    \n",
    "    plt.subplot(3,3,i+1)\n",
    "\n",
    "    plt.plot(x, y, '.')\n",
    "    plt.tight_layout()"
   ]
  },
  {
   "cell_type": "code",
   "execution_count": null,
   "metadata": {},
   "outputs": [],
   "source": [
    "df.to_csv('Validation error of '+str(len(images))+' images')"
   ]
  },
  {
   "cell_type": "code",
   "execution_count": null,
   "metadata": {},
   "outputs": [],
   "source": [
    "df.head()"
   ]
  },
  {
   "cell_type": "code",
   "execution_count": null,
   "metadata": {},
   "outputs": [],
   "source": [
    "print('DONE')"
   ]
  },
  {
   "cell_type": "code",
   "execution_count": null,
   "metadata": {},
   "outputs": [],
   "source": [
    "param = params[2]\n",
    "df[[param+'_real', param+'_inpainted']]"
   ]
  },
  {
   "cell_type": "code",
   "execution_count": null,
   "metadata": {},
   "outputs": [],
   "source": [
    "print('Done')"
   ]
  },
  {
   "cell_type": "code",
   "execution_count": null,
   "metadata": {},
   "outputs": [],
   "source": [
    "print('Done')"
   ]
  },
  {
   "cell_type": "code",
   "execution_count": null,
   "metadata": {},
   "outputs": [],
   "source": [
    "print('done')"
   ]
  },
  {
   "cell_type": "code",
   "execution_count": null,
   "metadata": {},
   "outputs": [],
   "source": [
    "its = np.array(n_iteration)\n",
    "plt.hist(its)\n",
    "plt.grid()\n",
    "\n",
    "its.mean(), its.std()"
   ]
  },
  {
   "cell_type": "code",
   "execution_count": null,
   "metadata": {},
   "outputs": [],
   "source": []
  }
 ],
 "metadata": {
  "kernelspec": {
   "display_name": "Python 3",
   "language": "python",
   "name": "python3"
  },
  "language_info": {
   "codemirror_mode": {
    "name": "ipython",
    "version": 3
   },
   "file_extension": ".py",
   "mimetype": "text/x-python",
   "name": "python",
   "nbconvert_exporter": "python",
   "pygments_lexer": "ipython3",
   "version": "3.6.8"
  }
 },
 "nbformat": 4,
 "nbformat_minor": 2
}
