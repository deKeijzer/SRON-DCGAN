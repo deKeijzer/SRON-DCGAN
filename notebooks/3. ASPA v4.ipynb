{
 "cells": [
  {
   "cell_type": "markdown",
   "metadata": {},
   "source": [
    "This notebook is used to create the function which converts a simulation to the ASPA.  "
   ]
  },
  {
   "cell_type": "code",
   "execution_count": 16,
   "metadata": {},
   "outputs": [],
   "source": [
    "%matplotlib inline\n",
    "\n",
    "import numpy as np\n",
    "import seaborn as sns\n",
    "import pandas as pd\n",
    "\n",
    "\n",
    "import matplotlib.pyplot as plt\n",
    "import matplotlib\n",
    "import math\n",
    "\n",
    "import copy # copy.deepcopy(dict_variable) to actually copy a dict without problems\n",
    "\n",
    "import keijzer_exogan as ke\n",
    "\n",
    "from tqdm import tqdm\n",
    "\n",
    "from sklearn.preprocessing import MinMaxScaler\n",
    "\n",
    "%config InlineBackend.print_figure_kwargs={'facecolor' : \"w\"} # Make sure the axis background of plots is white, this is usefull for the black theme in JupyterLab\n",
    "# Initialize default seaborn layout\n",
    "sns.set_palette(sns.hls_palette(8, l=.3, s=.8))\n",
    "sns.set(style='ticks') "
   ]
  },
  {
   "cell_type": "markdown",
   "metadata": {},
   "source": [
    "# Load chunk\n",
    "X[0] is a dict from regular chunk  \n",
    "X[0][0] is a dict from .npy selection  "
   ]
  },
  {
   "cell_type": "code",
   "execution_count": 17,
   "metadata": {},
   "outputs": [
    {
     "name": "stderr",
     "output_type": "stream",
     "text": [
      "100%|██████████| 1/1 [00:12<00:00, 12.61s/it]\n"
     ]
    }
   ],
   "source": [
    "dir_ = '/datb/16011015/ExoGAN_data//'\n",
    "\n",
    "X = ke.load_all_to_array(dir_,'chunck_0.pkgz')"
   ]
  },
  {
   "cell_type": "code",
   "execution_count": 18,
   "metadata": {},
   "outputs": [],
   "source": [
    "df = pd.read_csv('wavelengths_and_indices.csv', header=None, skiprows=[0], usecols=[1]) # load wavelengths\n",
    "df.columns = ['x']\n",
    "df = df.loc[df['x'] <= 16] # select only wavelengths <= 16"
   ]
  },
  {
   "cell_type": "markdown",
   "metadata": {},
   "source": [
    "## Dict to ASPA function"
   ]
  },
  {
   "cell_type": "code",
   "execution_count": 19,
   "metadata": {},
   "outputs": [],
   "source": [
    "def ASPA_v4(x, wavelengths, max_wavelength=16):\n",
    "    \"\"\"\n",
    "    x: dict \n",
    "    max_wavelength: max wavelength in micron to decode to aspa\n",
    "    \n",
    "    returns: 1x32x32 ndarray\n",
    "    \"\"\"\n",
    "    \n",
    "    #print('='*100)\n",
    "    x = copy.deepcopy(x)\n",
    "    wavelengths = wavelengths.copy()\n",
    "    \n",
    "    spectrum = x['data']['spectrum']\n",
    "    #print('Original spectrum length: ', len(spectrum))\n",
    "    spectrum = np.expand_dims(spectrum, axis=1) # change shape from (515,) to (515,1)\n",
    "    params = x['param']\n",
    "\n",
    "    for param in params:\n",
    "        #print('Param: ', param)\n",
    "        if 'mixratio' in param: \n",
    "            params[param] = np.log10(params[param]) # transform mixratio's to dex because they are generated on logarithmic scale\n",
    "    \n",
    "    \"\"\"\n",
    "    Normalize params\n",
    "    \"\"\"\n",
    "    # Min max values from training set, in the same order as params above: planet mass, temp, .... co mixratio.\n",
    "    min_values = [1.518400e+27, \n",
    "                  1.000000e+03, \n",
    "                  -8, \n",
    "                  5.592880e+07, \n",
    "                  -8, \n",
    "                  -8, \n",
    "                  -8]\n",
    "    \n",
    "    max_values = [3.796000e+27, \n",
    "                  2.000000e+03, \n",
    "                  -1, \n",
    "                  1.048665e+08, \n",
    "                  -1, \n",
    "                  -1,\n",
    "                  -1]\n",
    "\n",
    "    for i,param in enumerate(params):\n",
    "        params[param] = scale_param(params[param], min_values[i], max_values[i])\n",
    "        #print('%s: %s' % (param, params[param]))\n",
    "        \n",
    "    #print('-'*5)\n",
    "    \"\"\"\n",
    "    Select bins\n",
    "    \"\"\"\n",
    "    data = np.concatenate([wavelengths,spectrum], axis=1)\n",
    "    #print('Original data length: ', len(data))\n",
    "    data = pd.DataFrame(data)\n",
    "    data.columns = ['x', 'y'] # x is wavelength, y is (R_p / R_s)^2\n",
    "    data = data.loc[data['x'] <= 16] # select only wavelengths <= 16\n",
    "    \n",
    "    # Could loop this, but right now this is more visual\n",
    "    # H2O bins\n",
    "    bin1 = data[data.x <= 0.44]\n",
    "    bin2 = data[(data.x > 0.44) & (data.x <= 0.495)]\n",
    "    bin3 = data[(data.x > 0.495) & (data.x <= 0.535)]\n",
    "    bin4 = data[(data.x > 0.535) & (data.x <= 0.58)]\n",
    "    bin5 = data[(data.x > 0.58) & (data.x <= 0.635)]\n",
    "    bin6 = data[(data.x > 0.635) & (data.x <= 0.71)]\n",
    "    bin7 = data[(data.x > 0.71) & (data.x <= 0.79)]\n",
    "    bin8 = data[(data.x > 0.79) & (data.x <= 0.9)]\n",
    "    bin9 = data[(data.x > 0.9) & (data.x <= 1.08)]\n",
    "    bin10 = data[(data.x > 1.08) & (data.x <= 1.3)]\n",
    "    bin11 = data[(data.x > 1.3) & (data.x <= 1.7)]\n",
    "    bin12 = data[(data.x > 1.7) & (data.x <= 2.35)]\n",
    "    \n",
    "    # Manually chosen bins\n",
    "    bin13 = data[(data.x > 2.35) & (data.x <= 4)]\n",
    "    bin14 = data[(data.x > 4) & (data.x <= 6)]\n",
    "    bin15 = data[(data.x > 6) & (data.x <= 10)]\n",
    "    bin16 = data[(data.x > 10) & (data.x <= 14)]\n",
    "    bin17 = data[data.x > 14]\n",
    "\n",
    "    bins = [bin17, bin16, bin15, bin14, bin13, bin12, bin11, bin10, bin9, bin8, bin7, bin6, bin5, bin4, bin3, bin2, bin1]\n",
    "    #print('Total bins length: ', len(np.concatenate(bins)))\n",
    "    #for i,b in enumerate(bins):\n",
    "    #    print('Bin , shape: ',(len(bins)-i), b.values.shape)\n",
    "    \n",
    "    \"\"\"\n",
    "    Normalize bins\n",
    "    \"\"\"\n",
    "    scalers = [MinMaxScaler(feature_range=(-1,1)).fit(b) for b in bins] # list of 8 scalers for the 8 bins\n",
    "    mins = [ b.iloc[:,1].min() for b in bins] # .iloc[:,1] selects the R/R (y) only\n",
    "    maxs = [ b.iloc[:,1].max() for b in bins]\n",
    "    stds = [ b.iloc[:,1].std() for b in bins]\n",
    "    #print(min(mins), max(maxs))\n",
    "    bins_scaled = []\n",
    "    for i,b in enumerate(bins):\n",
    "        bins_scaled.append(scalers[i].transform(b))\n",
    "        \n",
    "    spectrum_scaled = np.concatenate(bins_scaled, axis=0)\n",
    "    spectrum_scaled = spectrum_scaled[:,1]\n",
    "    #print('spectrum scaled shape: ', spectrum_scaled.shape)\n",
    "    \n",
    "    \"\"\"\n",
    "    Create the ASPA\n",
    "    \"\"\"\n",
    "    \n",
    "    \"\"\"Spectrum\"\"\"\n",
    "    aspa = np.zeros((32,32))\n",
    "\n",
    "    row_length = 25 # amount of pixels used per row\n",
    "    n_rows = math.ceil(len(spectrum_scaled) / row_length) # amount of rows the spectrum needs in the aspa, so for 415 data points, 415/32=12.96 -> 13 rows\n",
    "    #print('Using %s rows' % n_rows)\n",
    "\n",
    "    for i in range(n_rows): # for i in \n",
    "\n",
    "        start = i*row_length\n",
    "        stop = start+row_length\n",
    "        spec = spectrum_scaled[start:stop]\n",
    "\n",
    "        if len(spec) != row_length:\n",
    "            n_missing_points = row_length-len(spec)\n",
    "            spec = np.append(spec, [0 for _ in range(n_missing_points)]) # for last row, if length != 32, fill remaining with 0's\n",
    "            #print('Filled row with %s points' % n_missing_points)\n",
    "\n",
    "        aspa[i, :row_length] = spec\n",
    "        \n",
    "    \"\"\"ExoGAN params\"\"\"\n",
    "    for i,param in enumerate(params):\n",
    "        aspa[:16, 25+i:26+i] = params[param]\n",
    "        \n",
    "    \"\"\"min max std values for spectrum bins\"\"\"\n",
    "    for i in range(len(mins)):\n",
    "        min_ = scale_param(mins[i], 0.00648 , 0.02877)\n",
    "        max_ = scale_param(maxs[i], 0.00648 , 0.02877)\n",
    "        #std_ = scale_param(stds[i], 9e-6, 2e-4)\n",
    "        \n",
    "        #min_ = mins[i]\n",
    "        #max_ = maxs[i]\n",
    "        \n",
    "        aspa[16:17, i*2:i*2+2] = min_\n",
    "        aspa[17:18, i*2:i*2+2] = max_\n",
    "            \n",
    "    \"\"\"Fill unused space with noice\"\"\"\n",
    "    for i in range(14):\n",
    "        noise = np.random.rand(32) # random noise betweem 0 and 1 for each row\n",
    "        aspa[18+i:19+i*1, :] = noise\n",
    "        \n",
    "    return aspa"
   ]
  },
  {
   "cell_type": "code",
   "execution_count": 20,
   "metadata": {},
   "outputs": [
    {
     "data": {
      "text/plain": [
       "16"
      ]
     },
     "execution_count": 20,
     "metadata": {},
     "output_type": "execute_result"
    }
   ],
   "source": [
    "arr = np.array([i for i in range(25)])\n",
    "len(arr[:16])"
   ]
  },
  {
   "cell_type": "code",
   "execution_count": 21,
   "metadata": {},
   "outputs": [],
   "source": [
    "def scale_param(X, X_min, X_max):\n",
    "    \"\"\"\n",
    "    Formule source: \n",
    "    https://scikit-learn.org/stable/modules/generated/sklearn.preprocessing.MinMaxScaler.html\n",
    "    \n",
    "    In this case 1 is max, 0 is min\n",
    "    \"\"\"\n",
    "    std = (X-X_min)/ (X_max - X_min)\n",
    "    return std*(1 - -1)+-1"
   ]
  },
  {
   "cell_type": "code",
   "execution_count": 22,
   "metadata": {},
   "outputs": [],
   "source": [
    "wavelengths = ke.load_wavelengths()"
   ]
  },
  {
   "cell_type": "code",
   "execution_count": 23,
   "metadata": {},
   "outputs": [
    {
     "name": "stderr",
     "output_type": "stream",
     "text": [
      "100%|██████████| 16/16 [00:02<00:00,  4.49it/s]\n"
     ]
    },
    {
     "data": {
      "image/png": "[encoded data removed]",
      "text/plain": [
       "<Figure size 1080x1080 with 16 Axes>"
      ]
     },
     "metadata": {},
     "output_type": "display_data"
    }
   ],
   "source": [
    "np.random.shuffle(X)\n",
    "\n",
    "plt.figure(figsize=(15,15))\n",
    "for i in tqdm(range(4*4)):\n",
    "    image = ASPA_v4(X[i], wavelengths)\n",
    "    \n",
    "    plt.subplot(4, 4, i+1)\n",
    "    plt.imshow(image, cmap='gray', vmin=-1.2, vmax=1.2)\n",
    "    plt.tight_layout()"
   ]
  },
  {
   "cell_type": "markdown",
   "metadata": {},
   "source": [
    "## Inverse transform"
   ]
  },
  {
   "cell_type": "code",
   "execution_count": 24,
   "metadata": {},
   "outputs": [],
   "source": [
    "i = 0\n",
    "dict_ = X[i]"
   ]
  },
  {
   "cell_type": "markdown",
   "metadata": {},
   "source": [
    "### Real values"
   ]
  },
  {
   "cell_type": "code",
   "execution_count": 25,
   "metadata": {},
   "outputs": [
    {
     "data": {
      "text/plain": [
       "<matplotlib.image.AxesImage at 0x7f49b1ae60f0>"
      ]
     },
     "execution_count": 25,
     "metadata": {},
     "output_type": "execute_result"
    },
    {
     "data": {
      "image/png": "[encoded data removed]",
      "text/plain": [
       "<Figure size 432x288 with 1 Axes>"
      ]
     },
     "metadata": {},
     "output_type": "display_data"
    }
   ],
   "source": [
    "aspa = ASPA_v4(dict_, wavelengths)\n",
    "\n",
    "plt.imshow(image, cmap='gray', vmin=-1.2, vmax=1.2)"
   ]
  },
  {
   "cell_type": "code",
   "execution_count": 26,
   "metadata": {},
   "outputs": [
    {
     "data": {
      "text/plain": [
       "{'ch4_mixratio': 0.016681005372000592,\n",
       " 'co2_mixratio': 7.742636826811278e-05,\n",
       " 'co_mixratio': 2.1544346900318865e-06,\n",
       " 'h2o_mixratio': 7.742636826811278e-05,\n",
       " 'planet_mass': 1.5184e+27,\n",
       " 'planet_radius': 88553933.33333333,\n",
       " 'temperature_profile': 1222.2222222222222}"
      ]
     },
     "execution_count": 26,
     "metadata": {},
     "output_type": "execute_result"
    }
   ],
   "source": [
    "params_original = copy.deepcopy(dict_['param'])\n",
    "params_original"
   ]
  },
  {
   "cell_type": "code",
   "execution_count": 27,
   "metadata": {},
   "outputs": [
    {
     "data": {
      "text/plain": [
       "-13.047982193632924"
      ]
     },
     "execution_count": 27,
     "metadata": {},
     "output_type": "execute_result"
    }
   ],
   "source": [
    "np.log(2.1544346900318865e-06)"
   ]
  },
  {
   "cell_type": "code",
   "execution_count": 28,
   "metadata": {},
   "outputs": [
    {
     "data": {
      "text/plain": [
       "2.154434690031887e-06"
      ]
     },
     "execution_count": 28,
     "metadata": {},
     "output_type": "execute_result"
    }
   ],
   "source": [
    "np.exp(-13.047982193632924)"
   ]
  },
  {
   "cell_type": "code",
   "execution_count": 29,
   "metadata": {},
   "outputs": [
    {
     "ename": "ValueError",
     "evalue": "The truth value of a DataFrame is ambiguous. Use a.empty, a.bool(), a.item(), a.any() or a.all().",
     "output_type": "error",
     "traceback": [
      "\u001b[0;31m---------------------------------------------------------------------------\u001b[0m",
      "\u001b[0;31mValueError\u001b[0m                                Traceback (most recent call last)",
      "\u001b[0;32m<ipython-input-29-79802d155d39>\u001b[0m in \u001b[0;36m<module>\u001b[0;34m()\u001b[0m\n\u001b[0;32m----> 1\u001b[0;31m \u001b[0mke\u001b[0m\u001b[0;34m.\u001b[0m\u001b[0mplot_trans\u001b[0m\u001b[0;34m(\u001b[0m\u001b[0mwavelengths\u001b[0m\u001b[0;34m,\u001b[0m \u001b[0mdict_\u001b[0m\u001b[0;34m[\u001b[0m\u001b[0;34m'data'\u001b[0m\u001b[0;34m]\u001b[0m\u001b[0;34m[\u001b[0m\u001b[0;34m'spectrum'\u001b[0m\u001b[0;34m]\u001b[0m\u001b[0;34m)\u001b[0m\u001b[0;34m\u001b[0m\u001b[0;34m\u001b[0m\u001b[0m\n\u001b[0m",
      "\u001b[0;32m~/notebooks/SRON-DCGAN/notebooks/keijzer_exogan.py\u001b[0m in \u001b[0;36mplot_trans\u001b[0;34m(x, y, multi, savefig, label, x_max)\u001b[0m\n\u001b[1;32m    112\u001b[0m         \u001b[0mdf\u001b[0m \u001b[0;34m=\u001b[0m \u001b[0mpd\u001b[0m\u001b[0;34m.\u001b[0m\u001b[0mDataFrame\u001b[0m\u001b[0;34m(\u001b[0m\u001b[0;34m[\u001b[0m\u001b[0mx\u001b[0m\u001b[0;34m,\u001b[0m\u001b[0my\u001b[0m\u001b[0;34m]\u001b[0m\u001b[0;34m)\u001b[0m\u001b[0;34m.\u001b[0m\u001b[0mT\u001b[0m\u001b[0;34m\u001b[0m\u001b[0;34m\u001b[0m\u001b[0m\n\u001b[1;32m    113\u001b[0m         \u001b[0mdf\u001b[0m\u001b[0;34m.\u001b[0m\u001b[0mcolumns\u001b[0m \u001b[0;34m=\u001b[0m \u001b[0;34m[\u001b[0m\u001b[0;34m'x'\u001b[0m\u001b[0;34m,\u001b[0m \u001b[0;34m'y'\u001b[0m\u001b[0;34m]\u001b[0m\u001b[0;34m\u001b[0m\u001b[0;34m\u001b[0m\u001b[0m\n\u001b[0;32m--> 114\u001b[0;31m         \u001b[0mdf\u001b[0m \u001b[0;34m=\u001b[0m \u001b[0mdf\u001b[0m\u001b[0;34m[\u001b[0m\u001b[0;34m(\u001b[0m\u001b[0mdf\u001b[0m\u001b[0;34m.\u001b[0m\u001b[0mx\u001b[0m \u001b[0;34m<=\u001b[0m \u001b[0mmax_value\u001b[0m\u001b[0;34m)\u001b[0m\u001b[0;34m]\u001b[0m\u001b[0;34m\u001b[0m\u001b[0;34m\u001b[0m\u001b[0m\n\u001b[0m\u001b[1;32m    115\u001b[0m         \u001b[0mdfs\u001b[0m\u001b[0;34m.\u001b[0m\u001b[0mappend\u001b[0m\u001b[0;34m(\u001b[0m\u001b[0mdf\u001b[0m\u001b[0;34m)\u001b[0m\u001b[0;34m\u001b[0m\u001b[0;34m\u001b[0m\u001b[0m\n\u001b[1;32m    116\u001b[0m \u001b[0;34m\u001b[0m\u001b[0m\n",
      "\u001b[0;32m/opt/jupyterhub/anaconda/lib/python3.6/site-packages/pandas/core/ops.py\u001b[0m in \u001b[0;36mwrapper\u001b[0;34m(self, other, axis)\u001b[0m\n\u001b[1;32m   1281\u001b[0m \u001b[0;34m\u001b[0m\u001b[0m\n\u001b[1;32m   1282\u001b[0m             \u001b[0;32mwith\u001b[0m \u001b[0mnp\u001b[0m\u001b[0;34m.\u001b[0m\u001b[0merrstate\u001b[0m\u001b[0;34m(\u001b[0m\u001b[0mall\u001b[0m\u001b[0;34m=\u001b[0m\u001b[0;34m'ignore'\u001b[0m\u001b[0;34m)\u001b[0m\u001b[0;34m:\u001b[0m\u001b[0;34m\u001b[0m\u001b[0;34m\u001b[0m\u001b[0m\n\u001b[0;32m-> 1283\u001b[0;31m                 \u001b[0mres\u001b[0m \u001b[0;34m=\u001b[0m \u001b[0mna_op\u001b[0m\u001b[0;34m(\u001b[0m\u001b[0mvalues\u001b[0m\u001b[0;34m,\u001b[0m \u001b[0mother\u001b[0m\u001b[0;34m)\u001b[0m\u001b[0;34m\u001b[0m\u001b[0;34m\u001b[0m\u001b[0m\n\u001b[0m\u001b[1;32m   1284\u001b[0m             \u001b[0;32mif\u001b[0m \u001b[0mis_scalar\u001b[0m\u001b[0;34m(\u001b[0m\u001b[0mres\u001b[0m\u001b[0;34m)\u001b[0m\u001b[0;34m:\u001b[0m\u001b[0;34m\u001b[0m\u001b[0;34m\u001b[0m\u001b[0m\n\u001b[1;32m   1285\u001b[0m                 raise TypeError('Could not compare {typ} type with Series'\n",
      "\u001b[0;32m/opt/jupyterhub/anaconda/lib/python3.6/site-packages/pandas/core/ops.py\u001b[0m in \u001b[0;36mna_op\u001b[0;34m(x, y)\u001b[0m\n\u001b[1;32m   1141\u001b[0m \u001b[0;34m\u001b[0m\u001b[0m\n\u001b[1;32m   1142\u001b[0m         \u001b[0;32melif\u001b[0m \u001b[0mis_object_dtype\u001b[0m\u001b[0;34m(\u001b[0m\u001b[0mx\u001b[0m\u001b[0;34m.\u001b[0m\u001b[0mdtype\u001b[0m\u001b[0;34m)\u001b[0m\u001b[0;34m:\u001b[0m\u001b[0;34m\u001b[0m\u001b[0;34m\u001b[0m\u001b[0m\n\u001b[0;32m-> 1143\u001b[0;31m             \u001b[0mresult\u001b[0m \u001b[0;34m=\u001b[0m \u001b[0m_comp_method_OBJECT_ARRAY\u001b[0m\u001b[0;34m(\u001b[0m\u001b[0mop\u001b[0m\u001b[0;34m,\u001b[0m \u001b[0mx\u001b[0m\u001b[0;34m,\u001b[0m \u001b[0my\u001b[0m\u001b[0;34m)\u001b[0m\u001b[0;34m\u001b[0m\u001b[0;34m\u001b[0m\u001b[0m\n\u001b[0m\u001b[1;32m   1144\u001b[0m \u001b[0;34m\u001b[0m\u001b[0m\n\u001b[1;32m   1145\u001b[0m         \u001b[0;32melif\u001b[0m \u001b[0mis_datetimelike_v_numeric\u001b[0m\u001b[0;34m(\u001b[0m\u001b[0mx\u001b[0m\u001b[0;34m,\u001b[0m \u001b[0my\u001b[0m\u001b[0;34m)\u001b[0m\u001b[0;34m:\u001b[0m\u001b[0;34m\u001b[0m\u001b[0;34m\u001b[0m\u001b[0m\n",
      "\u001b[0;32m/opt/jupyterhub/anaconda/lib/python3.6/site-packages/pandas/core/ops.py\u001b[0m in \u001b[0;36m_comp_method_OBJECT_ARRAY\u001b[0;34m(op, x, y)\u001b[0m\n\u001b[1;32m   1120\u001b[0m         \u001b[0mresult\u001b[0m \u001b[0;34m=\u001b[0m \u001b[0mlibops\u001b[0m\u001b[0;34m.\u001b[0m\u001b[0mvec_compare\u001b[0m\u001b[0;34m(\u001b[0m\u001b[0mx\u001b[0m\u001b[0;34m,\u001b[0m \u001b[0my\u001b[0m\u001b[0;34m,\u001b[0m \u001b[0mop\u001b[0m\u001b[0;34m)\u001b[0m\u001b[0;34m\u001b[0m\u001b[0;34m\u001b[0m\u001b[0m\n\u001b[1;32m   1121\u001b[0m     \u001b[0;32melse\u001b[0m\u001b[0;34m:\u001b[0m\u001b[0;34m\u001b[0m\u001b[0;34m\u001b[0m\u001b[0m\n\u001b[0;32m-> 1122\u001b[0;31m         \u001b[0mresult\u001b[0m \u001b[0;34m=\u001b[0m \u001b[0mlibops\u001b[0m\u001b[0;34m.\u001b[0m\u001b[0mscalar_compare\u001b[0m\u001b[0;34m(\u001b[0m\u001b[0mx\u001b[0m\u001b[0;34m,\u001b[0m \u001b[0my\u001b[0m\u001b[0;34m,\u001b[0m \u001b[0mop\u001b[0m\u001b[0;34m)\u001b[0m\u001b[0;34m\u001b[0m\u001b[0;34m\u001b[0m\u001b[0m\n\u001b[0m\u001b[1;32m   1123\u001b[0m     \u001b[0;32mreturn\u001b[0m \u001b[0mresult\u001b[0m\u001b[0;34m\u001b[0m\u001b[0;34m\u001b[0m\u001b[0m\n\u001b[1;32m   1124\u001b[0m \u001b[0;34m\u001b[0m\u001b[0m\n",
      "\u001b[0;32mpandas/_libs/ops.pyx\u001b[0m in \u001b[0;36mpandas._libs.ops.scalar_compare\u001b[0;34m()\u001b[0m\n",
      "\u001b[0;32m/opt/jupyterhub/anaconda/lib/python3.6/site-packages/pandas/core/generic.py\u001b[0m in \u001b[0;36m__nonzero__\u001b[0;34m(self)\u001b[0m\n\u001b[1;32m   1574\u001b[0m         raise ValueError(\"The truth value of a {0} is ambiguous. \"\n\u001b[1;32m   1575\u001b[0m                          \u001b[0;34m\"Use a.empty, a.bool(), a.item(), a.any() or a.all().\"\u001b[0m\u001b[0;34m\u001b[0m\u001b[0;34m\u001b[0m\u001b[0m\n\u001b[0;32m-> 1576\u001b[0;31m                          .format(self.__class__.__name__))\n\u001b[0m\u001b[1;32m   1577\u001b[0m \u001b[0;34m\u001b[0m\u001b[0m\n\u001b[1;32m   1578\u001b[0m     \u001b[0m__bool__\u001b[0m \u001b[0;34m=\u001b[0m \u001b[0m__nonzero__\u001b[0m\u001b[0;34m\u001b[0m\u001b[0;34m\u001b[0m\u001b[0m\n",
      "\u001b[0;31mValueError\u001b[0m: The truth value of a DataFrame is ambiguous. Use a.empty, a.bool(), a.item(), a.any() or a.all()."
     ]
    },
    {
     "data": {
      "text/plain": [
       "<Figure size 1080x288 with 0 Axes>"
      ]
     },
     "metadata": {},
     "output_type": "display_data"
    }
   ],
   "source": [
    "ke.plot_trans(wavelengths, dict_['data']['spectrum'])"
   ]
  },
  {
   "cell_type": "code",
   "execution_count": null,
   "metadata": {},
   "outputs": [],
   "source": [
    "plt.plot(wavelengths, dict_['data']['spectrum'])\n",
    "plt.xlim(right=16)"
   ]
  },
  {
   "cell_type": "markdown",
   "metadata": {},
   "source": [
    "# ---------------- Decoding Params from ASPA ------------"
   ]
  },
  {
   "cell_type": "code",
   "execution_count": null,
   "metadata": {},
   "outputs": [],
   "source": [
    "def inverse_scale(X_, X_min, X_max):\n",
    "    \"\"\"\n",
    "    X_ is scaled X\n",
    "    X is unscaled X_\n",
    "    \"\"\"\n",
    "    X = X_ * (X_max - X_min) + X_min\n",
    "    return X"
   ]
  },
  {
   "cell_type": "code",
   "execution_count": null,
   "metadata": {},
   "outputs": [],
   "source": [
    "\"\"\"The values of the image parts from the aspa (still encoded)\"\"\"\n",
    "# Grab the values \n",
    "spectrum = aspa[:16, :25].flatten()\n",
    "params = [aspa[:16, 25+i:26+i].mean() for i in range(7)]"
   ]
  },
  {
   "cell_type": "code",
   "execution_count": null,
   "metadata": {},
   "outputs": [],
   "source": [
    "\"\"\"Decode to arrays\"\"\"\n",
    "\n",
    "# min max values for params used to decode\n",
    "min_values = [1.518400e+27, \n",
    "              1.000000e+03, \n",
    "              -8, \n",
    "              5.592880e+07, \n",
    "              -8, \n",
    "              -8, \n",
    "              -8]\n",
    "\n",
    "max_values = [3.796000e+27, \n",
    "              2.000000e+03, \n",
    "              -1, \n",
    "              1.048665e+08, \n",
    "              -1, \n",
    "              -1,\n",
    "              -1]\n",
    "\n",
    "# Initialize dict to be used for the param values\n",
    "params_dict = {\n",
    "    'planet_mass': 0,\n",
    "    'temp_profile': 0,\n",
    "    'ch4_mixratio': 0,\n",
    "    'planet_radius': 0,\n",
    "    'h2o_mixratio': 0,\n",
    "    'co2_mixratio': 0,\n",
    "    'co_mixratio': 0\n",
    "}"
   ]
  },
  {
   "cell_type": "markdown",
   "metadata": {},
   "source": [
    "### Decode params"
   ]
  },
  {
   "cell_type": "code",
   "execution_count": null,
   "metadata": {},
   "outputs": [],
   "source": [
    "for i,param in enumerate(params_dict):\n",
    "    # put aspa values in dict\n",
    "    params_dict[param] = params[i]\n",
    "    \n",
    "    # inverse scale these values\n",
    "    params_dict[param] = inverse_scale(params[i], min_values[i], max_values[i])\n",
    "    \n",
    "    # scale mixratios from log back to linear\n",
    "    if 'mixratio' in param: \n",
    "        params_dict[param] = np.exp(params_dict[param])\n",
    "        print(param, params_dict[param])\n",
    "\n",
    "params_dict"
   ]
  },
  {
   "cell_type": "markdown",
   "metadata": {},
   "source": [
    "# ----- Functionize param decoding -----"
   ]
  },
  {
   "cell_type": "code",
   "execution_count": null,
   "metadata": {},
   "outputs": [],
   "source": [
    "def decode_params_from_aspa(aspa):\n",
    "    \"\"\"The values of the image parts from the aspa (still encoded)\"\"\"\n",
    "    # Grab the values \n",
    "    spectrum = aspa[:16, :25].flatten()\n",
    "    print(\"spectrum length: \", len(spectrum))\n",
    "    params = [aspa[:16, 25+i:26+i].mean() for i in range(7)]\n",
    "    \n",
    "    \n",
    "    \"\"\"Decode to arrays\"\"\"\n",
    "    # min max values for params used to decode\n",
    "    min_values = [1.518400e+27, \n",
    "                  1.000000e+03, \n",
    "                  -8, \n",
    "                  5.592880e+07, \n",
    "                  -8, \n",
    "                  -8, \n",
    "                  -8]\n",
    "\n",
    "    max_values = [3.796000e+27, \n",
    "                  2.000000e+03, \n",
    "                  -1, \n",
    "                  1.048665e+08, \n",
    "                  -1, \n",
    "                  -1,\n",
    "                  -1]\n",
    "\n",
    "    # Initialize dict to be used for the param values\n",
    "    params_dict = {\n",
    "        'planet_mass': 0,\n",
    "        'temp_profile': 0,\n",
    "        'ch4_mixratio': 0,\n",
    "        'planet_radius': 0,\n",
    "        'h2o_mixratio': 0,\n",
    "        'co2_mixratio': 0,\n",
    "        'co_mixratio': 0\n",
    "    }\n",
    "    \n",
    "    \n",
    "    for i,param in enumerate(params_dict):\n",
    "        # put aspa values in dict\n",
    "        params_dict[param] = params[i]\n",
    "\n",
    "        # inverse scale these values\n",
    "        params_dict[param] = inverse_scale(params[i], min_values[i], max_values[i])\n",
    "\n",
    "        # scale mixratios from log back to linear\n",
    "        if 'mixratio' in param: \n",
    "            params_dict[param] = np.exp(params_dict[param])\n",
    "            #print(param, params_dict[param])\n",
    "        \n",
    "    return params_dict"
   ]
  },
  {
   "cell_type": "code",
   "execution_count": null,
   "metadata": {},
   "outputs": [],
   "source": [
    "decode_params_from_aspa(aspa)"
   ]
  },
  {
   "cell_type": "markdown",
   "metadata": {},
   "source": [
    "# ---------------- Decoding Spectrum from ASPA ------------"
   ]
  },
  {
   "cell_type": "markdown",
   "metadata": {},
   "source": [
    "### Decode min max values for bins"
   ]
  },
  {
   "cell_type": "code",
   "execution_count": null,
   "metadata": {},
   "outputs": [],
   "source": [
    "mins_ = [aspa[16:17, i*4:i*4+4].mean() for i in range(8)]\n",
    "maxs_ = [aspa[18:19, i*4:i*4+4].mean() for i in range(8)]\n",
    "\n",
    "\n",
    "\"\"\"min max std values for spectrum bins\"\"\"\n",
    "mins = [] # globally decoded values\n",
    "maxs = []\n",
    "for i in range(8):\n",
    "    mins.append(inverse_scale(mins_[i], 0.005, 0.03))\n",
    "    maxs.append(inverse_scale(maxs_[i], 0.005, 0.03))\n",
    "    \n",
    "mins"
   ]
  },
  {
   "cell_type": "markdown",
   "metadata": {},
   "source": [
    "## Decode bins"
   ]
  },
  {
   "cell_type": "code",
   "execution_count": null,
   "metadata": {},
   "outputs": [],
   "source": [
    "\"\"\"Select bins\"\"\"\n",
    "df = ke.load_wavelengths()\n",
    "\n",
    "df.columns = ['x']\n",
    "df = df.loc[df['x'] <= 16] # select only wavelengths <= 16 (max wavelength ASPA has been encoded with)\n",
    "df['y'] = spectrum\n",
    "\n",
    "# Could loop this, but right now this is more visual\n",
    "bin1 = df[df.x <= 0.8]\n",
    "bin2 = df[(df.x > 0.8) & (df.x <= 1.3)] # select data between 2 and 4 micron\n",
    "bin3 = df[(df.x > 1.3) & (df.x <= 2)]\n",
    "bin4 = df[(df.x > 2) & (df.x <= 4)]\n",
    "bin5 = df[(df.x > 4) & (df.x <= 6)]\n",
    "bin6 = df[(df.x > 6) & (df.x <= 10)]\n",
    "bin7 = df[(df.x > 10) & (df.x <= 14)]\n",
    "bin8 = df[df.x > 14]\n",
    "\n",
    "bins = [bin8, bin7, bin6, bin5, bin4, bin3, bin2, bin1]"
   ]
  },
  {
   "cell_type": "markdown",
   "metadata": {},
   "source": [
    "## Scaled spectrum bins"
   ]
  },
  {
   "cell_type": "code",
   "execution_count": null,
   "metadata": {},
   "outputs": [],
   "source": [
    "lens = []\n",
    "for b in bins:\n",
    "    lens.append(len(b))\n",
    "    plt.plot(b.x, b.y)"
   ]
  },
  {
   "cell_type": "markdown",
   "metadata": {},
   "source": [
    "## Scaled bins concatenated"
   ]
  },
  {
   "cell_type": "code",
   "execution_count": null,
   "metadata": {},
   "outputs": [],
   "source": [
    "y = np.concatenate([b.y for b in bins])\n",
    "\n",
    "plt.plot(y)"
   ]
  },
  {
   "cell_type": "code",
   "execution_count": null,
   "metadata": {},
   "outputs": [],
   "source": [
    "\"\"\"Inverse scale bins\"\"\"\n",
    "for i,b in enumerate(bins):\n",
    "    b.y = inverse_scale(b.y, mins[i], maxs[i])"
   ]
  },
  {
   "cell_type": "markdown",
   "metadata": {},
   "source": [
    "## Decoded bins"
   ]
  },
  {
   "cell_type": "code",
   "execution_count": null,
   "metadata": {},
   "outputs": [],
   "source": [
    "for b in bins:\n",
    "    plt.plot(b.x, b.y, 'x-')\n",
    "\n",
    "plt.xlim((0, 16))"
   ]
  },
  {
   "cell_type": "markdown",
   "metadata": {},
   "source": [
    "## Original spectrum"
   ]
  },
  {
   "cell_type": "code",
   "execution_count": null,
   "metadata": {},
   "outputs": [],
   "source": [
    "plt.plot(wavelengths, dict_['data']['spectrum'], 'x-')\n",
    "plt.xlim((0, 16))\n",
    "\n",
    "np.array(wavelengths).shape"
   ]
  },
  {
   "cell_type": "markdown",
   "metadata": {},
   "source": [
    "## Decoded spectrum concatenated"
   ]
  },
  {
   "cell_type": "code",
   "execution_count": null,
   "metadata": {},
   "outputs": [],
   "source": [
    "x = np.concatenate([b.x for b in bins])\n",
    "y = np.concatenate([b.y for b in bins])\n",
    "x.shape, y.shape"
   ]
  },
  {
   "cell_type": "code",
   "execution_count": null,
   "metadata": {},
   "outputs": [],
   "source": [
    "plt.plot(x,y, 'x-')"
   ]
  },
  {
   "cell_type": "markdown",
   "metadata": {},
   "source": [
    "### Original spectrum\n",
    "Note that this doesn't have max wavelength set to 16"
   ]
  },
  {
   "cell_type": "code",
   "execution_count": null,
   "metadata": {},
   "outputs": [],
   "source": [
    "ke.plot_trans(wavelengths, dict_['data']['spectrum'])"
   ]
  },
  {
   "cell_type": "markdown",
   "metadata": {},
   "source": [
    "### Decoded spectrum"
   ]
  },
  {
   "cell_type": "code",
   "execution_count": null,
   "metadata": {},
   "outputs": [],
   "source": [
    "ke.plot_trans(x,y)"
   ]
  },
  {
   "cell_type": "markdown",
   "metadata": {},
   "source": [
    "# ----- Functionize spectrum decoding -----"
   ]
  },
  {
   "cell_type": "code",
   "execution_count": null,
   "metadata": {},
   "outputs": [],
   "source": [
    "def decode_spectrum_from_aspa(aspa, max_wavelength=16):\n",
    "    \"\"\"\n",
    "    Returns x: wavelength in micron, y: R/R \n",
    "    It's currently hard coded to work with \n",
    "    \n",
    "        \"\"\"\n",
    "        mins_ = [aspa[16:17, i*4:i*4+4].mean() for i in range(8)]\n",
    "        maxs_ = [aspa[18:19, i*4:i*4+4].mean() for i in range(8)]\n",
    "\n",
    "\n",
    "        \"\"\"min max std values for spectrum bins\"\"\"\n",
    "        mins = [] # globally decoded values\n",
    "        maxs = []\n",
    "        for i in range(8):\n",
    "            mins.append(inverse_scale(mins_[i], 0.005, 0.03))\n",
    "            maxs.append(inverse_scale(maxs_[i], 0.005, 0.03))\n",
    "\n",
    "\n",
    "    \"\"\"Select bins\"\"\"\n",
    "    df = ke.load_wavelengths()\n",
    "\n",
    "    df.columns = ['x']\n",
    "    df = df.loc[df['x'] <= max_wavelength] # select only wavelengths <= 16 (max wavelength ASPA has been encoded with)\n",
    "    df['y'] = spectrum\n",
    "\n",
    "    # Could loop this, but right now this is more visual\n",
    "    bin1 = df[df.x <= 0.8]\n",
    "    bin2 = df[(df.x > 0.8) & (df.x <= 1.3)] # select data between 2 and 4 micron\n",
    "    bin3 = df[(df.x > 1.3) & (df.x <= 2)]\n",
    "    bin4 = df[(df.x > 2) & (df.x <= 4)]\n",
    "    bin5 = df[(df.x > 4) & (df.x <= 6)]\n",
    "    bin6 = df[(df.x > 6) & (df.x <= 10)]\n",
    "    bin7 = df[(df.x > 10) & (df.x <= 14)]\n",
    "    bin8 = df[df.x > 14]\n",
    "\n",
    "    bins = [bin8, bin7, bin6, bin5, bin4, bin3, bin2, bin1]\n",
    "\n",
    "    \"\"\"Inverse scale bins\"\"\"\n",
    "    for i,b in enumerate(bins):\n",
    "        b.y = inverse_scale(b.y, mins[i], maxs[i])\n",
    "\n",
    "    x = np.concatenate([b.x for b in bins])\n",
    "    y = np.concatenate([b.y for b in bins])\n",
    "\n",
    "    return x, y"
   ]
  },
  {
   "cell_type": "code",
   "execution_count": null,
   "metadata": {},
   "outputs": [],
   "source": []
  },
  {
   "cell_type": "code",
   "execution_count": null,
   "metadata": {},
   "outputs": [],
   "source": []
  },
  {
   "cell_type": "code",
   "execution_count": null,
   "metadata": {},
   "outputs": [],
   "source": []
  }
 ],
 "metadata": {
  "kernelspec": {
   "display_name": "Python 3",
   "language": "python",
   "name": "python3"
  },
  "language_info": {
   "codemirror_mode": {
    "name": "ipython",
    "version": 3
   },
   "file_extension": ".py",
   "mimetype": "text/x-python",
   "name": "python",
   "nbconvert_exporter": "python",
   "pygments_lexer": "ipython3",
   "version": "3.6.8"
  }
 },
 "nbformat": 4,
 "nbformat_minor": 2
}
