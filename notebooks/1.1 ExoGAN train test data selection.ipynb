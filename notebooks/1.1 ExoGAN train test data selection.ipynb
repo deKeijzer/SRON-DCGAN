{
 "cells": [
  {
   "cell_type": "markdown",
   "metadata": {},
   "source": [
    "The goal of this notebook is to pick n random simulations from all the available chunks of compressed python dictionaries, to then combine these simulations into one dataset. This smaller selection of the ExoGAN dataset should be a good representation of the distribution from the complete dataset. E.g. all parameters are uniformly distributed.  \n",
    "\n",
    "* Training dataset: 25% per chunck at random, for the first 50 ExoGAN chuncks ($1.25 \\cdot 10^6$ simulations).\n",
    "* Testing dataset: 25% per chunck at random, for the last 50 ExoGAN chuncks. However for development purposes a way smaller selection (5k) is used of the last 50 chuncks.\n",
    "\n",
    "<img src=\"../appendix/ExoGAN_train_test.png\">\n",
    "\n",
    "For the ExoGAN data download and description see the ExoGAN repository [link](https://github.com/ucl-exoplanets/ExoGAN_public)."
   ]
  },
  {
   "cell_type": "markdown",
   "metadata": {},
   "source": [
    "# Imports"
   ]
  },
  {
   "cell_type": "code",
   "execution_count": 1,
   "metadata": {},
   "outputs": [],
   "source": [
    "import numpy as np\n",
    "import glob\n",
    "\n",
    "from keijzer_exogan import *\n",
    "\n",
    "np.random.seed(23) # set random seed for reproducability"
   ]
  },
  {
   "cell_type": "markdown",
   "metadata": {},
   "source": [
    "# Recieving the file paths "
   ]
  },
  {
   "cell_type": "code",
   "execution_count": 2,
   "metadata": {},
   "outputs": [
    {
     "name": "stdout",
     "output_type": "stream",
     "text": [
      "100\n"
     ]
    }
   ],
   "source": [
    "\"\"\"\n",
    "Load all chunks, add a random 5 % of all samples per chunk to X\n",
    "\"\"\"\n",
    "dir_ = '/datb/16011015/ExoGAN_data//'\n",
    "paths = glob.glob(dir_+'chunck_*.pkgz')\n",
    "print(len(paths))"
   ]
  },
  {
   "cell_type": "markdown",
   "metadata": {},
   "source": [
    "## Making sure there is no data leakage at the split point"
   ]
  },
  {
   "cell_type": "code",
   "execution_count": 3,
   "metadata": {},
   "outputs": [
    {
     "data": {
      "text/plain": [
       "['/datb/16011015/ExoGAN_data/chunck_75.pkgz',\n",
       " '/datb/16011015/ExoGAN_data/chunck_24.pkgz',\n",
       " '/datb/16011015/ExoGAN_data/chunck_15.pkgz',\n",
       " '/datb/16011015/ExoGAN_data/chunck_41.pkgz',\n",
       " '/datb/16011015/ExoGAN_data/chunck_54.pkgz',\n",
       " '/datb/16011015/ExoGAN_data/chunck_35.pkgz']"
      ]
     },
     "execution_count": 3,
     "metadata": {},
     "output_type": "execute_result"
    }
   ],
   "source": [
    "paths[:6]"
   ]
  },
  {
   "cell_type": "code",
   "execution_count": 5,
   "metadata": {},
   "outputs": [
    {
     "data": {
      "text/plain": [
       "['/datb/16011015/ExoGAN_data/chunck_75.pkgz',\n",
       " '/datb/16011015/ExoGAN_data/chunck_24.pkgz',\n",
       " '/datb/16011015/ExoGAN_data/chunck_15.pkgz',\n",
       " '/datb/16011015/ExoGAN_data/chunck_41.pkgz',\n",
       " '/datb/16011015/ExoGAN_data/chunck_54.pkgz']"
      ]
     },
     "execution_count": 5,
     "metadata": {},
     "output_type": "execute_result"
    }
   ],
   "source": [
    "paths[:5]"
   ]
  },
  {
   "cell_type": "code",
   "execution_count": 6,
   "metadata": {},
   "outputs": [
    {
     "data": {
      "text/plain": [
       "['/datb/16011015/ExoGAN_data/chunck_35.pkgz',\n",
       " '/datb/16011015/ExoGAN_data/chunck_16.pkgz']"
      ]
     },
     "execution_count": 6,
     "metadata": {},
     "output_type": "execute_result"
    }
   ],
   "source": [
    "paths[5:7]"
   ]
  },
  {
   "cell_type": "markdown",
   "metadata": {},
   "source": [
    "Notice that paths[:5] and paths[5:] is split correctly."
   ]
  },
  {
   "cell_type": "markdown",
   "metadata": {},
   "source": [
    "## Loading chuncks, selecting sample per chunck and save to list"
   ]
  },
  {
   "cell_type": "code",
   "execution_count": 6,
   "metadata": {},
   "outputs": [
    {
     "name": "stderr",
     "output_type": "stream",
     "text": [
      "100%|██████████| 50/50 [09:57<00:00, 12.29s/it]\n"
     ]
    }
   ],
   "source": [
    "X = []\n",
    "for i in tqdm(range(len(paths[:50]))):\n",
    "    dict_ = load(paths[i])\n",
    "    \n",
    "    X_complete = []\n",
    "    for j in dict_.keys():\n",
    "        X_complete.append(dict_[j])\n",
    "     \n",
    "    X_complete = np.array(X_complete)\n",
    "    np.random.shuffle(X_complete) # shuffle the samples\n",
    "    \n",
    "    split_index = int(len(X_complete)*0.25) # select the first 25 % of each chunk (due to RAM limitations on laptop)\n",
    "    X.append(X_complete[:split_index]) # add only first 25 % of each chunk to X\n",
    "    \n",
    "    # free memory\n",
    "    del dict_, X_complete"
   ]
  },
  {
   "cell_type": "code",
   "execution_count": 7,
   "metadata": {},
   "outputs": [
    {
     "data": {
      "text/plain": [
       "(25000, 25000)"
      ]
     },
     "execution_count": 7,
     "metadata": {},
     "output_type": "execute_result"
    }
   ],
   "source": [
    "len(X[0]),len(X[1])"
   ]
  },
  {
   "cell_type": "markdown",
   "metadata": {},
   "source": [
    "## Convert the list to an array"
   ]
  },
  {
   "cell_type": "code",
   "execution_count": 8,
   "metadata": {},
   "outputs": [
    {
     "name": "stdout",
     "output_type": "stream",
     "text": [
      "CPU times: user 12.5 s, sys: 7.87 s, total: 20.4 s\n",
      "Wall time: 20.4 s\n"
     ]
    }
   ],
   "source": [
    "%%time\n",
    "X = np.array(X)"
   ]
  },
  {
   "cell_type": "code",
   "execution_count": 9,
   "metadata": {},
   "outputs": [
    {
     "data": {
      "text/plain": [
       "(50, 25000)"
      ]
     },
     "execution_count": 9,
     "metadata": {},
     "output_type": "execute_result"
    }
   ],
   "source": [
    "X.shape"
   ]
  },
  {
   "cell_type": "markdown",
   "metadata": {},
   "source": [
    "shape: (chunck, amount of simulations)"
   ]
  },
  {
   "cell_type": "markdown",
   "metadata": {},
   "source": [
    "## Saving array to disk\n",
    "Notice that X consists of dictionaries.  \n",
    "`np.save()` converts this in some special way to a proper ndarray...  \n",
    "This increases RAM usage by a lot.  \n",
    "  \n",
    "One improvement would be getting rid of the dictionaries, save params and spectra to seperate `.npy` files?"
   ]
  },
  {
   "cell_type": "code",
   "execution_count": 11,
   "metadata": {},
   "outputs": [
    {
     "name": "stdout",
     "output_type": "stream",
     "text": [
      "done\n"
     ]
    }
   ],
   "source": [
    "np.save(dir_+\"selection//\"+'first_chunks_25_percent_test.npy', X)\n",
    "\n",
    "print('done')"
   ]
  }
 ],
 "metadata": {
  "kernelspec": {
   "display_name": "Python 3",
   "language": "python",
   "name": "python3"
  },
  "language_info": {
   "codemirror_mode": {
    "name": "ipython",
    "version": 3
   },
   "file_extension": ".py",
   "mimetype": "text/x-python",
   "name": "python",
   "nbconvert_exporter": "python",
   "pygments_lexer": "ipython3",
   "version": "3.7.1"
  }
 },
 "nbformat": 4,
 "nbformat_minor": 2
}
