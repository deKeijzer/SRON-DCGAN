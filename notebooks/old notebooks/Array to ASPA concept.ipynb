{
 "cells": [
  {
   "cell_type": "code",
   "execution_count": 1,
   "metadata": {},
   "outputs": [],
   "source": [
    "import numpy as np\n",
    "import seaborn as sns\n",
    "import pandas as pd\n",
    "\n",
    "import matplotlib.pyplot as plt\n",
    "\n",
    "from keijzer_exogan import *\n",
    "\n",
    "%matplotlib inline\n",
    "%config InlineBackend.print_figure_kwargs={'facecolor' : \"w\"} # Make sure the axis background of plots is white, this is usefull for the black theme in JupyterLab\n",
    "sns.set()"
   ]
  },
  {
   "cell_type": "code",
   "execution_count": 2,
   "metadata": {},
   "outputs": [
    {
     "name": "stderr",
     "output_type": "stream",
     "text": [
      "  0%|                                                                                            | 0/1 [00:00<?, ?it/s]c:\\program files\\python36\\lib\\site-packages\\tqdm\\_monitor.py:89: TqdmSynchronisationWarning: Set changed size during iteration (see https://github.com/tqdm/tqdm/issues/481)\n",
      "  TqdmSynchronisationWarning)\n",
      "100%|████████████████████████████████████████████████████████████████████████████████████| 1/1 [00:17<00:00, 17.79s/it]\n"
     ]
    }
   ],
   "source": [
    "dir = 'F:\\\\Jupyterlab\\\\DCGAN\\\\data\\\\ExoGAN\\\\'\n",
    "\n",
    "X = load_all_to_array(dir)\n",
    "\n",
    "np.random.seed(23) # Set seed for the np.random functions\n",
    "\n",
    "# Shuffle X along the first axis to make the order of simulations random\n",
    "np.random.shuffle(X) # note that X = np.rand.... isn't required"
   ]
  },
  {
   "cell_type": "code",
   "execution_count": 3,
   "metadata": {},
   "outputs": [
    {
     "data": {
      "text/plain": [
       "dict_keys(['data', 'param'])"
      ]
     },
     "execution_count": 3,
     "metadata": {},
     "output_type": "execute_result"
    }
   ],
   "source": [
    "# Select a sample\n",
    "x = X[20000]\n",
    "x.keys()"
   ]
  },
  {
   "cell_type": "code",
   "execution_count": 4,
   "metadata": {},
   "outputs": [
    {
     "data": {
      "text/plain": [
       "(dict_keys(['spectrum']),\n",
       " dict_keys(['planet_mass', 'temperature_profile', 'ch4_mixratio', 'planet_radius', 'h2o_mixratio', 'co2_mixratio', 'co_mixratio']))"
      ]
     },
     "execution_count": 4,
     "metadata": {},
     "output_type": "execute_result"
    }
   ],
   "source": [
    "x['data'].keys(), x['param'].keys()"
   ]
  },
  {
   "cell_type": "code",
   "execution_count": 26,
   "metadata": {},
   "outputs": [
    {
     "data": {
      "text/plain": [
       "[<matplotlib.lines.Line2D at 0x242e75d5860>]"
      ]
     },
     "execution_count": 26,
     "metadata": {},
     "output_type": "execute_result"
    },
    {
     "data": {
      "image/png": "[encoded data removed]",
      "text/plain": [
       "<matplotlib.figure.Figure at 0x242e9a65e10>"
      ]
     },
     "metadata": {},
     "output_type": "display_data"
    }
   ],
   "source": [
    "\"\"\"\n",
    "Lets ignore the params for now and work with the spectrum\n",
    "\"\"\"\n",
    "\n",
    "spectrum = x['data']['spectrum']\n",
    "plt.plot(spectrum)"
   ]
  },
  {
   "cell_type": "code",
   "execution_count": 27,
   "metadata": {},
   "outputs": [
    {
     "data": {
      "text/plain": [
       "515"
      ]
     },
     "execution_count": 27,
     "metadata": {},
     "output_type": "execute_result"
    }
   ],
   "source": [
    "len(spectrum) # spectrum consists of 515 datapoints (this seems to be the case for all samples)"
   ]
  },
  {
   "cell_type": "code",
   "execution_count": 28,
   "metadata": {},
   "outputs": [
    {
     "data": {
      "text/plain": [
       "'\\nTODO: Convert this spectrum to a 23x23 image\\n23x23 = 529 bins\\nIf all spectra consist of 515 bins then resampling is not required.\\n\\n\\nApproach:\\nFrom one sample, scale the complete spectrum to 0-1. \\nSave the standard score Z of that spectrum. \\n(Somehow encode Z to the yet to be produced image.)\\nReshape spectrum to a 23x23 matrix (has 529 entries), fill NaNs with zeros.\\n\\n'"
      ]
     },
     "execution_count": 28,
     "metadata": {},
     "output_type": "execute_result"
    }
   ],
   "source": [
    "\"\"\"\n",
    "TODO: Convert this spectrum to a 23x23 image\n",
    "23x23 = 529 bins\n",
    "If all spectra consist of 515 bins then resampling is not required.\n",
    "\n",
    "\n",
    "Approach:\n",
    "From one sample, scale the complete spectrum to 0-1. \n",
    "Save the standard score Z of that spectrum. \n",
    "(Somehow encode Z to the yet to be produced image.)\n",
    "Reshape spectrum to a 23x23 matrix (has 529 entries), fill NaNs with zeros.\n",
    "\n",
    "\"\"\"\n"
   ]
  },
  {
   "cell_type": "code",
   "execution_count": 29,
   "metadata": {},
   "outputs": [
    {
     "data": {
      "text/plain": [
       "(515,)"
      ]
     },
     "execution_count": 29,
     "metadata": {},
     "output_type": "execute_result"
    }
   ],
   "source": [
    "spectrum.shape"
   ]
  },
  {
   "cell_type": "code",
   "execution_count": 30,
   "metadata": {},
   "outputs": [
    {
     "data": {
      "text/plain": [
       "(515, 1)"
      ]
     },
     "execution_count": 30,
     "metadata": {},
     "output_type": "execute_result"
    }
   ],
   "source": [
    "spectrum = spectrum.reshape(-1, 1) # convert 1D array to 2D cause standardscaler requires it\n",
    "spectrum.shape"
   ]
  },
  {
   "cell_type": "markdown",
   "metadata": {},
   "source": [
    "# Scaling the spectrum"
   ]
  },
  {
   "cell_type": "code",
   "execution_count": 31,
   "metadata": {},
   "outputs": [],
   "source": [
    "from sklearn.preprocessing import MinMaxScaler"
   ]
  },
  {
   "cell_type": "code",
   "execution_count": 32,
   "metadata": {},
   "outputs": [
    {
     "name": "stdout",
     "output_type": "stream",
     "text": [
      "std: 0.00014 \t min: 0.01641 \t max: 0.01691 \n"
     ]
    }
   ],
   "source": [
    "scaler = MinMaxScaler(feature_range=(0,1)).fit(spectrum)\n",
    "std = np.std(spectrum)\n",
    "min_ = spectrum.min()\n",
    "max_ = spectrum.max()\n",
    "print(\"std: %.5f \\t min: %.5f \\t max: %.5f \" % (std, min_, max_))"
   ]
  },
  {
   "cell_type": "markdown",
   "metadata": {},
   "source": [
    "std, min, max values have to be stored (and scaled) in the image also. \n",
    "In Order to scale it efficiently, a good 'sample' of the complete distribution of the training data has to be gathered.\n",
    "That way a fixed value for the scaling of this data can be received."
   ]
  },
  {
   "cell_type": "code",
   "execution_count": 33,
   "metadata": {},
   "outputs": [
    {
     "data": {
      "text/plain": [
       "[<matplotlib.lines.Line2D at 0x242e9b5ed68>]"
      ]
     },
     "execution_count": 33,
     "metadata": {},
     "output_type": "execute_result"
    },
    {
     "data": {
      "image/png": "[encoded data removed]",
      "text/plain": [
       "<matplotlib.figure.Figure at 0x242e9a544a8>"
      ]
     },
     "metadata": {},
     "output_type": "display_data"
    }
   ],
   "source": [
    "spectrum = scaler.transform(spectrum)\n",
    "plt.plot(spectrum)"
   ]
  },
  {
   "cell_type": "markdown",
   "metadata": {},
   "source": [
    "# Transforming into an image"
   ]
  },
  {
   "cell_type": "code",
   "execution_count": 34,
   "metadata": {},
   "outputs": [
    {
     "data": {
      "text/plain": [
       "array([0.03357882, 0.03726252, 0.04105104, 0.04272869, 0.04509577,\n",
       "       0.04871322, 0.05275635, 0.05600151, 0.0578264 , 0.06066391,\n",
       "       0.06369849, 0.06712662, 0.07070797, 0.07382668, 0.07668811,\n",
       "       0.07992249, 0.08327303, 0.0865099 , 0.08969258, 0.09285716,\n",
       "       0.09602815, 0.09936424, 0.10257045, 0.10585365, 0.1091335 ,\n",
       "       0.1124386 , 0.1157626 , 0.1190922 , 0.12242704, 0.12576723,\n",
       "       0.12911287, 0.13246407, 0.13582094, 0.1391836 , 0.14255214,\n",
       "       0.1459267 , 0.        , 0.        , 0.        , 0.        ,\n",
       "       0.        , 0.        , 0.        , 0.        , 0.        ,\n",
       "       0.        , 0.        , 0.        , 0.        , 0.        ])"
      ]
     },
     "execution_count": 34,
     "metadata": {},
     "output_type": "execute_result"
    }
   ],
   "source": [
    "# Reshape to 23x23 array (23x23 has 529)\n",
    "# So first, make the length of the spectrum 529 and fill NaNs with zeros\n",
    "# Assuming all arrays are length 515\n",
    "\n",
    "spectrum = np.append(spectrum, [0 for _ in range(14)]) # fill array to size 529 with zeroes\n",
    "spectrum[-50:] # display last 50 results, to make sure it went well"
   ]
  },
  {
   "cell_type": "code",
   "execution_count": 35,
   "metadata": {},
   "outputs": [
    {
     "data": {
      "text/plain": [
       "(529,)"
      ]
     },
     "execution_count": 35,
     "metadata": {},
     "output_type": "execute_result"
    }
   ],
   "source": [
    "spectrum.shape"
   ]
  },
  {
   "cell_type": "code",
   "execution_count": 36,
   "metadata": {},
   "outputs": [
    {
     "data": {
      "text/plain": [
       "(23, 23)"
      ]
     },
     "execution_count": 36,
     "metadata": {},
     "output_type": "execute_result"
    }
   ],
   "source": [
    "# time to reshape\n",
    "spectrum = spectrum.reshape(23, 23)\n",
    "spectrum.shape"
   ]
  },
  {
   "cell_type": "code",
   "execution_count": 37,
   "metadata": {},
   "outputs": [
    {
     "data": {
      "text/plain": [
       "<matplotlib.image.AxesImage at 0x242e9bc0940>"
      ]
     },
     "execution_count": 37,
     "metadata": {},
     "output_type": "execute_result"
    },
    {
     "data": {
      "image/png": "[encoded data removed]",
      "text/plain": [
       "<matplotlib.figure.Figure at 0x242e9b2d0f0>"
      ]
     },
     "metadata": {},
     "output_type": "display_data"
    }
   ],
   "source": [
    "cmap = 'seismic'\n",
    "\n",
    "plt.imshow(spectrum, cmap=cmap)"
   ]
  },
  {
   "cell_type": "markdown",
   "metadata": {},
   "source": [
    "# Add the different building blocks"
   ]
  },
  {
   "cell_type": "code",
   "execution_count": 38,
   "metadata": {},
   "outputs": [
    {
     "data": {
      "text/plain": [
       "<matplotlib.image.AxesImage at 0x242e9c59048>"
      ]
     },
     "execution_count": 38,
     "metadata": {},
     "output_type": "execute_result"
    },
    {
     "data": {
      "image/png": "[encoded data removed]",
      "text/plain": [
       "<matplotlib.figure.Figure at 0x242e9ba52e8>"
      ]
     },
     "metadata": {},
     "output_type": "display_data"
    }
   ],
   "source": [
    "# Creating sections for the ASPA, like section 2 - 12 from within the paper\n",
    "\n",
    "max1 = np.full((12,6), max_) # create array of shape 12,7 (height, width) with the max_ value\n",
    "min1 = np.full((11,6), min_)\n",
    "\n",
    "plt.subplot(1,2, 1)\n",
    "plt.imshow(max1, cmap=cmap)\n",
    "\n",
    "plt.subplot(1,2, 2)\n",
    "plt.imshow(min1, cmap=cmap)\n",
    "\n",
    "# Note that the colours are the same because cmap gets scaled the the values inside the respective array"
   ]
  },
  {
   "cell_type": "markdown",
   "metadata": {},
   "source": [
    "## Combine the three arrays into one (wide) image"
   ]
  },
  {
   "cell_type": "code",
   "execution_count": 39,
   "metadata": {},
   "outputs": [
    {
     "data": {
      "text/plain": [
       "(23, 6)"
      ]
     },
     "execution_count": 39,
     "metadata": {},
     "output_type": "execute_result"
    }
   ],
   "source": [
    "max1min1 = np.concatenate((max1, min1), axis=0) # axis 0 adds min1 below max1\n",
    "max1min1.shape"
   ]
  },
  {
   "cell_type": "markdown",
   "metadata": {},
   "source": [
    "## Add this max_ min_ info to the image"
   ]
  },
  {
   "cell_type": "code",
   "execution_count": 40,
   "metadata": {},
   "outputs": [
    {
     "data": {
      "text/plain": [
       "(23, 29)"
      ]
     },
     "execution_count": 40,
     "metadata": {},
     "output_type": "execute_result"
    },
    {
     "data": {
      "image/png": "[encoded data removed]",
      "text/plain": [
       "<matplotlib.figure.Figure at 0x242e9b9c160>"
      ]
     },
     "metadata": {},
     "output_type": "display_data"
    }
   ],
   "source": [
    "image = np.concatenate((spectrum, max1min1), axis=1)\n",
    "plt.imshow(image, cmap=cmap)\n",
    "image.shape"
   ]
  },
  {
   "cell_type": "markdown",
   "metadata": {},
   "source": [
    "## Do the same with the other building blocks\n",
    "\n"
   ]
  },
  {
   "cell_type": "code",
   "execution_count": 41,
   "metadata": {},
   "outputs": [
    {
     "data": {
      "text/plain": [
       "{'ch4_mixratio': 0.016681005372000592,\n",
       " 'co2_mixratio': 0.0004641588833612782,\n",
       " 'co_mixratio': 2.1544346900318865e-06,\n",
       " 'h2o_mixratio': 0.1,\n",
       " 'planet_mass': 3.5429333333333333e+27,\n",
       " 'planet_radius': 88553933.33333333,\n",
       " 'temperature_profile': 1666.6666666666667}"
      ]
     },
     "execution_count": 41,
     "metadata": {},
     "output_type": "execute_result"
    }
   ],
   "source": [
    "x['param']"
   ]
  },
  {
   "cell_type": "code",
   "execution_count": 42,
   "metadata": {},
   "outputs": [],
   "source": [
    "\n",
    "\n",
    "# Get the param values\n",
    "ch4 = x['param']['ch4_mixratio']\n",
    "co2 = x['param']['co2_mixratio']\n",
    "co = x['param']['co_mixratio']\n",
    "h2o = x['param']['h2o_mixratio']\n",
    "mass = x['param']['planet_mass']\n",
    "radius = x['param']['planet_radius']\n",
    "temp = x['param']['temperature_profile']\n",
    "\n",
    "# scale the data\n",
    "def scale_param(X, X_min, X_max):\n",
    "    \"\"\"\n",
    "    Formule source: \n",
    "    https://scikit-learn.org/stable/modules/generated/sklearn.preprocessing.MinMaxScaler.html\n",
    "    \"\"\"\n",
    "    std = (X-X_min)/ (X_max - X_min)\n",
    "    return std*(1 - 0)+0"
   ]
  },
  {
   "cell_type": "code",
   "execution_count": 43,
   "metadata": {},
   "outputs": [],
   "source": [
    "ch4 = scale_param(ch4, 1e-8, 1e-1)\n",
    "co2 = scale_param(co2, 1e-8, 1e-1)\n",
    "co = scale_param(co, 1e-8, 1e-1)\n",
    "h2o = scale_param(h2o, 1e-8, 1e-1)\n",
    "mass = scale_param(mass, 1.5e27, 3.8e27)\n",
    "radius = scale_param(radius, 5.6e7, 1.0e8)\n",
    "temp = scale_param(temp, 1e3, 2e3)"
   ]
  },
  {
   "cell_type": "code",
   "execution_count": 44,
   "metadata": {},
   "outputs": [
    {
     "name": "stdout",
     "output_type": "stream",
     "text": [
      "ch4:  0.16680997040100293\n",
      "co2:  0.0046414892977617115\n",
      "co:  2.1444349044753766e-05\n",
      "h2o:  1.0\n",
      "mass:  0.8882318840579709\n",
      "radius:  0.7398621212121211\n",
      "temp:  0.6666666666666667\n"
     ]
    }
   ],
   "source": [
    "print('ch4: ', ch4)\n",
    "print('co2: ', co2)\n",
    "print('co: ', co)\n",
    "print('h2o: ', h2o)\n",
    "print('mass: ', mass)\n",
    "print('radius: ', radius)\n",
    "print('temp: ', temp)"
   ]
  },
  {
   "cell_type": "code",
   "execution_count": 47,
   "metadata": {},
   "outputs": [],
   "source": [
    "# Create the building blocks\n",
    "co2 = np.full((23,1), co2)\n",
    "co = np.full((23,1), co)\n",
    "ch4 = np.full((23,1), ch4)\n",
    "\n",
    "\n",
    "mass = np.full((1,23), mass)\n",
    "radius = np.full((1,23), radius)\n",
    "temp = np.full((1,23), temp)\n",
    "\n",
    "h2o = np.full((9,9), h2o)\n",
    "\n",
    "max2 = np.full((6,12), max_) # create array of shape 12,7 (height, width) with the max_ value\n",
    "min2 = np.full((6,11), min_)"
   ]
  },
  {
   "cell_type": "code",
   "execution_count": 48,
   "metadata": {},
   "outputs": [
    {
     "data": {
      "text/plain": [
       "(23, 32)"
      ]
     },
     "execution_count": 48,
     "metadata": {},
     "output_type": "execute_result"
    },
    {
     "data": {
      "image/png": "[encoded data removed]",
      "text/plain": [
       "<matplotlib.figure.Figure at 0x242e9d0d588>"
      ]
     },
     "metadata": {},
     "output_type": "display_data"
    }
   ],
   "source": [
    "image = np.concatenate((image, co2), axis=1)\n",
    "image = np.concatenate((image, co), axis=1)\n",
    "image = np.concatenate((image, ch4), axis=1)\n",
    "plt.imshow(image, cmap=cmap)\n",
    "image.shape"
   ]
  },
  {
   "cell_type": "code",
   "execution_count": 49,
   "metadata": {},
   "outputs": [
    {
     "data": {
      "text/plain": [
       "<matplotlib.image.AxesImage at 0x242e9d930f0>"
      ]
     },
     "execution_count": 49,
     "metadata": {},
     "output_type": "execute_result"
    },
    {
     "data": {
      "image/png": "[encoded data removed]",
      "text/plain": [
       "<matplotlib.figure.Figure at 0x242e9cf6b70>"
      ]
     },
     "metadata": {},
     "output_type": "display_data"
    }
   ],
   "source": [
    "# Create the 4, 5, 9, 10, 11, 12 section (in order)\n",
    "sub_image = np.concatenate((max2, min2), axis=1)\n",
    "sub_image = np.concatenate((sub_image, mass), axis=0)\n",
    "sub_image = np.concatenate((sub_image, radius), axis=0)\n",
    "sub_image = np.concatenate((sub_image, temp), axis=0)\n",
    "sub_image = np.concatenate((sub_image, h2o), axis=1)\n",
    "\n",
    "plt.imshow(sub_image, cmap=cmap)"
   ]
  },
  {
   "cell_type": "code",
   "execution_count": 50,
   "metadata": {},
   "outputs": [],
   "source": [
    "image = np.concatenate((image, sub_image), axis=0)"
   ]
  },
  {
   "cell_type": "code",
   "execution_count": 51,
   "metadata": {},
   "outputs": [
    {
     "data": {
      "text/plain": [
       "(32, 32)"
      ]
     },
     "execution_count": 51,
     "metadata": {},
     "output_type": "execute_result"
    },
    {
     "data": {
      "image/png": "[encoded data removed]",
      "text/plain": [
       "<matplotlib.figure.Figure at 0x242e9d14898>"
      ]
     },
     "metadata": {},
     "output_type": "display_data"
    }
   ],
   "source": [
    "plt.imshow(image, cmap='binary')\n",
    "image.shape"
   ]
  },
  {
   "cell_type": "code",
   "execution_count": 52,
   "metadata": {},
   "outputs": [
    {
     "data": {
      "text/plain": [
       "array([[6.90555104e-01, 6.26204715e-01, 6.09724825e-01, ...,\n",
       "        4.64148930e-03, 2.14443490e-05, 1.66809970e-01],\n",
       "       [6.71352897e-01, 6.62379931e-01, 6.82325500e-01, ...,\n",
       "        4.64148930e-03, 2.14443490e-05, 1.66809970e-01],\n",
       "       [6.69627782e-01, 6.34576865e-01, 6.86833830e-01, ...,\n",
       "        4.64148930e-03, 2.14443490e-05, 1.66809970e-01],\n",
       "       ...,\n",
       "       [8.88231884e-01, 8.88231884e-01, 8.88231884e-01, ...,\n",
       "        1.00000000e+00, 1.00000000e+00, 1.00000000e+00],\n",
       "       [7.39862121e-01, 7.39862121e-01, 7.39862121e-01, ...,\n",
       "        1.00000000e+00, 1.00000000e+00, 1.00000000e+00],\n",
       "       [6.66666667e-01, 6.66666667e-01, 6.66666667e-01, ...,\n",
       "        1.00000000e+00, 1.00000000e+00, 1.00000000e+00]])"
      ]
     },
     "execution_count": 52,
     "metadata": {},
     "output_type": "execute_result"
    }
   ],
   "source": [
    "image"
   ]
  }
 ],
 "metadata": {
  "kernelspec": {
   "display_name": "Python 3",
   "language": "python",
   "name": "python3"
  },
  "language_info": {
   "codemirror_mode": {
    "name": "ipython",
    "version": 3
   },
   "file_extension": ".py",
   "mimetype": "text/x-python",
   "name": "python",
   "nbconvert_exporter": "python",
   "pygments_lexer": "ipython3",
   "version": "3.6.7"
  }
 },
 "nbformat": 4,
 "nbformat_minor": 2
}
