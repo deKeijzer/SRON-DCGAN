{
 "cells": [
  {
   "cell_type": "code",
   "execution_count": 1,
   "metadata": {},
   "outputs": [],
   "source": [
    "import numpy as np\n",
    "import seaborn as sns\n",
    "import pandas as pd\n",
    "\n",
    "import matplotlib.pyplot as plt\n",
    "\n",
    "import keijzer_exogan as ke\n",
    "\n",
    "from sklearn.preprocessing import MinMaxScaler\n",
    "from tqdm import tqdm\n",
    "from glob import glob\n",
    "\n",
    "from sklearn.metrics import r2_score\n",
    "from scipy import stats\n",
    "\n",
    "%matplotlib inline\n",
    "%config InlineBackend.print_figure_kwargs={'facecolor' : \"w\"} # Make sure the axis background of plots is white, this is usefull for the black theme in JupyterLab\n",
    "\n",
    "# Initialize default seaborn layout\n",
    "sns.set_palette(sns.hls_palette(8, l=.3, s=.8))\n",
    "sns.set(style='ticks') "
   ]
  },
  {
   "cell_type": "markdown",
   "metadata": {},
   "source": [
    "# load inpainting data from the inpainting notebook(s)"
   ]
  },
  {
   "cell_type": "code",
   "execution_count": 2,
   "metadata": {},
   "outputs": [
    {
     "data": {
      "text/plain": [
       "['gan_data//val_errors//debug_reals.npy']"
      ]
     },
     "execution_count": 2,
     "metadata": {},
     "output_type": "execute_result"
    }
   ],
   "source": [
    "general_name = 'debug' # general filename, e.g. 'test' for test_reals.npy, test_inpainteds.npy... etc.\n",
    "\n",
    "# get the file paths of the result files\n",
    "reals = glob('gan_data//val_errors//'+general_name+'_reals.npy')\n",
    "inpainteds = glob('gan_data//val_errors//'+general_name+'_inpainteds.npy')\n",
    "n_iterations = glob('gan_data//val_errors//'+general_name+'_n_iterations.npy')\n",
    "\n",
    "\n",
    "contextuals = glob('gan_data//val_errors//'+general_name+'_contextual_losses.npy')\n",
    "perceptuals = glob('gan_data//val_errors//'+general_name+'_perceptual_losses.npy')\n",
    "\n",
    "reals"
   ]
  },
  {
   "cell_type": "code",
   "execution_count": 3,
   "metadata": {},
   "outputs": [],
   "source": [
    "# load arrays to list, convert list to ndarray with shape (aspa, n_inpaintings, height, width)\n",
    "reals = np.concatenate([np.load(path) for path in reals], axis=0)\n",
    "inpainteds = np.concatenate([np.load(path) for path in inpainteds], axis=0)\n",
    "\n",
    "perceptuals = np.concatenate([np.load(path) for path in perceptuals], axis=0)\n",
    "contextuals = np.concatenate([np.load(path) for path in contextuals], axis=0)"
   ]
  },
  {
   "cell_type": "code",
   "execution_count": 4,
   "metadata": {},
   "outputs": [
    {
     "data": {
      "text/plain": [
       "(5, 1, 32, 32)"
      ]
     },
     "execution_count": 4,
     "metadata": {},
     "output_type": "execute_result"
    }
   ],
   "source": [
    "reals.shape"
   ]
  },
  {
   "cell_type": "markdown",
   "metadata": {},
   "source": [
    "# Error of ASPA $i$"
   ]
  },
  {
   "cell_type": "code",
   "execution_count": 5,
   "metadata": {},
   "outputs": [
    {
     "data": {
      "text/html": [
       "<div>\n",
       "<style scoped>\n",
       "    .dataframe tbody tr th:only-of-type {\n",
       "        vertical-align: middle;\n",
       "    }\n",
       "\n",
       "    .dataframe tbody tr th {\n",
       "        vertical-align: top;\n",
       "    }\n",
       "\n",
       "    .dataframe thead th {\n",
       "        text-align: right;\n",
       "    }\n",
       "</style>\n",
       "<table border=\"1\" class=\"dataframe\">\n",
       "  <thead>\n",
       "    <tr style=\"text-align: right;\">\n",
       "      <th></th>\n",
       "      <th>ch4_mixratio</th>\n",
       "      <th>co2_mixratio</th>\n",
       "      <th>co_mixratio</th>\n",
       "      <th>h2o_mixratio</th>\n",
       "      <th>planet_mass</th>\n",
       "      <th>planet_radius</th>\n",
       "      <th>temp_profile</th>\n",
       "      <th>perceptuals</th>\n",
       "      <th>contextuals</th>\n",
       "    </tr>\n",
       "  </thead>\n",
       "  <tbody>\n",
       "    <tr>\n",
       "      <th>count</th>\n",
       "      <td>1.000000</td>\n",
       "      <td>1.00000</td>\n",
       "      <td>1.000000</td>\n",
       "      <td>1.000000</td>\n",
       "      <td>1.000000e+00</td>\n",
       "      <td>1.000000e+00</td>\n",
       "      <td>1.000000</td>\n",
       "      <td>1.000000</td>\n",
       "      <td>1.000000</td>\n",
       "    </tr>\n",
       "    <tr>\n",
       "      <th>mean</th>\n",
       "      <td>-1.057506</td>\n",
       "      <td>-2.47171</td>\n",
       "      <td>-2.704962</td>\n",
       "      <td>-4.371575</td>\n",
       "      <td>1.949871e+27</td>\n",
       "      <td>6.989697e+07</td>\n",
       "      <td>1227.461576</td>\n",
       "      <td>-0.139155</td>\n",
       "      <td>16942.019531</td>\n",
       "    </tr>\n",
       "    <tr>\n",
       "      <th>std</th>\n",
       "      <td>NaN</td>\n",
       "      <td>NaN</td>\n",
       "      <td>NaN</td>\n",
       "      <td>NaN</td>\n",
       "      <td>NaN</td>\n",
       "      <td>NaN</td>\n",
       "      <td>NaN</td>\n",
       "      <td>NaN</td>\n",
       "      <td>NaN</td>\n",
       "    </tr>\n",
       "    <tr>\n",
       "      <th>min</th>\n",
       "      <td>-1.057506</td>\n",
       "      <td>-2.47171</td>\n",
       "      <td>-2.704962</td>\n",
       "      <td>-4.371575</td>\n",
       "      <td>1.949871e+27</td>\n",
       "      <td>6.989697e+07</td>\n",
       "      <td>1227.461576</td>\n",
       "      <td>-0.139155</td>\n",
       "      <td>16942.019531</td>\n",
       "    </tr>\n",
       "    <tr>\n",
       "      <th>25%</th>\n",
       "      <td>-1.057506</td>\n",
       "      <td>-2.47171</td>\n",
       "      <td>-2.704962</td>\n",
       "      <td>-4.371575</td>\n",
       "      <td>1.949871e+27</td>\n",
       "      <td>6.989697e+07</td>\n",
       "      <td>1227.461576</td>\n",
       "      <td>-0.139155</td>\n",
       "      <td>16942.019531</td>\n",
       "    </tr>\n",
       "    <tr>\n",
       "      <th>50%</th>\n",
       "      <td>-1.057506</td>\n",
       "      <td>-2.47171</td>\n",
       "      <td>-2.704962</td>\n",
       "      <td>-4.371575</td>\n",
       "      <td>1.949871e+27</td>\n",
       "      <td>6.989697e+07</td>\n",
       "      <td>1227.461576</td>\n",
       "      <td>-0.139155</td>\n",
       "      <td>16942.019531</td>\n",
       "    </tr>\n",
       "    <tr>\n",
       "      <th>75%</th>\n",
       "      <td>-1.057506</td>\n",
       "      <td>-2.47171</td>\n",
       "      <td>-2.704962</td>\n",
       "      <td>-4.371575</td>\n",
       "      <td>1.949871e+27</td>\n",
       "      <td>6.989697e+07</td>\n",
       "      <td>1227.461576</td>\n",
       "      <td>-0.139155</td>\n",
       "      <td>16942.019531</td>\n",
       "    </tr>\n",
       "    <tr>\n",
       "      <th>max</th>\n",
       "      <td>-1.057506</td>\n",
       "      <td>-2.47171</td>\n",
       "      <td>-2.704962</td>\n",
       "      <td>-4.371575</td>\n",
       "      <td>1.949871e+27</td>\n",
       "      <td>6.989697e+07</td>\n",
       "      <td>1227.461576</td>\n",
       "      <td>-0.139155</td>\n",
       "      <td>16942.019531</td>\n",
       "    </tr>\n",
       "  </tbody>\n",
       "</table>\n",
       "</div>"
      ],
      "text/plain": [
       "       ch4_mixratio  co2_mixratio  co_mixratio  h2o_mixratio   planet_mass  \\\n",
       "count      1.000000       1.00000     1.000000      1.000000  1.000000e+00   \n",
       "mean      -1.057506      -2.47171    -2.704962     -4.371575  1.949871e+27   \n",
       "std             NaN           NaN          NaN           NaN           NaN   \n",
       "min       -1.057506      -2.47171    -2.704962     -4.371575  1.949871e+27   \n",
       "25%       -1.057506      -2.47171    -2.704962     -4.371575  1.949871e+27   \n",
       "50%       -1.057506      -2.47171    -2.704962     -4.371575  1.949871e+27   \n",
       "75%       -1.057506      -2.47171    -2.704962     -4.371575  1.949871e+27   \n",
       "max       -1.057506      -2.47171    -2.704962     -4.371575  1.949871e+27   \n",
       "\n",
       "       planet_radius  temp_profile  perceptuals   contextuals  \n",
       "count   1.000000e+00      1.000000     1.000000      1.000000  \n",
       "mean    6.989697e+07   1227.461576    -0.139155  16942.019531  \n",
       "std              NaN           NaN          NaN           NaN  \n",
       "min     6.989697e+07   1227.461576    -0.139155  16942.019531  \n",
       "25%     6.989697e+07   1227.461576    -0.139155  16942.019531  \n",
       "50%     6.989697e+07   1227.461576    -0.139155  16942.019531  \n",
       "75%     6.989697e+07   1227.461576    -0.139155  16942.019531  \n",
       "max     6.989697e+07   1227.461576    -0.139155  16942.019531  "
      ]
     },
     "execution_count": 5,
     "metadata": {},
     "output_type": "execute_result"
    }
   ],
   "source": [
    "i = 0\n",
    "\n",
    "decodeds =[ke.decode_params_from_aspa(inpainteds[i, j]) for j in range(reals.shape[1])]\n",
    "\n",
    "df = pd.DataFrame.from_dict(decodeds)\n",
    "df['perceptuals'] = pd.DataFrame(perceptuals)\n",
    "df['contextuals'] = pd.DataFrame(contextuals)\n",
    "\n",
    "df.describe()"
   ]
  },
  {
   "cell_type": "code",
   "execution_count": 6,
   "metadata": {},
   "outputs": [
    {
     "data": {
      "text/html": [
       "<div>\n",
       "<style scoped>\n",
       "    .dataframe tbody tr th:only-of-type {\n",
       "        vertical-align: middle;\n",
       "    }\n",
       "\n",
       "    .dataframe tbody tr th {\n",
       "        vertical-align: top;\n",
       "    }\n",
       "\n",
       "    .dataframe thead th {\n",
       "        text-align: right;\n",
       "    }\n",
       "</style>\n",
       "<table border=\"1\" class=\"dataframe\">\n",
       "  <thead>\n",
       "    <tr style=\"text-align: right;\">\n",
       "      <th></th>\n",
       "      <th>ch4_mixratio</th>\n",
       "      <th>co2_mixratio</th>\n",
       "      <th>co_mixratio</th>\n",
       "      <th>h2o_mixratio</th>\n",
       "      <th>planet_mass</th>\n",
       "      <th>planet_radius</th>\n",
       "      <th>temp_profile</th>\n",
       "      <th>perceptuals</th>\n",
       "      <th>contextuals</th>\n",
       "    </tr>\n",
       "  </thead>\n",
       "  <tbody>\n",
       "    <tr>\n",
       "      <th>0</th>\n",
       "      <td>-1.057506</td>\n",
       "      <td>-2.47171</td>\n",
       "      <td>-2.704962</td>\n",
       "      <td>-4.371575</td>\n",
       "      <td>1.949871e+27</td>\n",
       "      <td>6.989697e+07</td>\n",
       "      <td>1227.461576</td>\n",
       "      <td>-0.139155</td>\n",
       "      <td>16942.019531</td>\n",
       "    </tr>\n",
       "  </tbody>\n",
       "</table>\n",
       "</div>"
      ],
      "text/plain": [
       "   ch4_mixratio  co2_mixratio  co_mixratio  h2o_mixratio   planet_mass  \\\n",
       "0     -1.057506      -2.47171    -2.704962     -4.371575  1.949871e+27   \n",
       "\n",
       "   planet_radius  temp_profile  perceptuals   contextuals  \n",
       "0   6.989697e+07   1227.461576    -0.139155  16942.019531  "
      ]
     },
     "execution_count": 6,
     "metadata": {},
     "output_type": "execute_result"
    }
   ],
   "source": [
    "df"
   ]
  },
  {
   "cell_type": "code",
   "execution_count": 7,
   "metadata": {},
   "outputs": [],
   "source": [
    "if reals.shape[1] > 1 :\n",
    "    params = ['planet_mass','ch4_mixratio','planet_radius','h2o_mixratio','co2_mixratio','co_mixratio']\n",
    "\n",
    "    fontsize = 16\n",
    "    plt.figure(figsize=((25,10)))\n",
    "    for i,param in enumerate(params):\n",
    "        plt.subplot(3,3,i+1)\n",
    "        plt.title(param, fontsize=fontsize)\n",
    "        plt.hist(df[param], bins=25)\n",
    "\n",
    "        # plot mean and median line\n",
    "        mu = df[param].mean()\n",
    "        plt.axvline(x=mu,  color='black', linestyle='-.', alpha=0.9, label='mean')\n",
    "        plt.axvline(x=df[param].median(),  color='black', linestyle='-', alpha=1, label='median')\n",
    "\n",
    "        # plot std lines\n",
    "        plt.axvline(x=mu-df[param].std(),  color='black', linestyle=':', alpha=1, label=r'$\\sigma$')\n",
    "        plt.axvline(x=mu+df[param].std(),  color='black', linestyle=':', alpha=1)\n",
    "\n",
    "        plt.xticks(fontsize=fontsize)\n",
    "        plt.yticks(fontsize=fontsize)\n",
    "\n",
    "        plt.xlabel('Percentage error [%]', fontsize=fontsize)\n",
    "        plt.ylabel('Counts [-]', fontsize=fontsize)\n",
    "\n",
    "        plt.legend(fontsize=fontsize)\n",
    "        plt.grid()\n",
    "        plt.tight_layout()"
   ]
  },
  {
   "cell_type": "code",
   "execution_count": null,
   "metadata": {},
   "outputs": [],
   "source": []
  },
  {
   "cell_type": "code",
   "execution_count": null,
   "metadata": {},
   "outputs": [],
   "source": []
  },
  {
   "cell_type": "code",
   "execution_count": 8,
   "metadata": {},
   "outputs": [
    {
     "data": {
      "text/plain": [
       "(5, 1, 32, 32)"
      ]
     },
     "execution_count": 8,
     "metadata": {},
     "output_type": "execute_result"
    }
   ],
   "source": [
    "#reals = reals.mean(axis=1) # take the mean of n_inpaintings per aspa, new shape is (aspa, height, width)\n",
    "#inpainteds = inpainteds.mean(axis=1)\n",
    "\n",
    "#reals = reals.reshape(reals.shape[0]*reals.shape[1], 32,32)\n",
    "#inpainteds = inpainteds.reshape(inpainteds.shape[0]*inpainteds.shape[1], 32,32)\n",
    "\n",
    "#from scipy import stats\n",
    "#df = df[(np.abs(stats.zscore(df)) < 1).all(axis=1)]\n",
    "\n",
    "reals.shape"
   ]
  },
  {
   "cell_type": "raw",
   "metadata": {},
   "source": [
    "for i in range(reals.shape[0]):\n",
    "    i = 0 # selected aspa\n",
    "    inpainteds = [ke.decode_params_from_aspa(inpainteds[i, j]) for j in range(inpainteds.shape[1])]\n",
    "    inpainteds = pd.DataFrame(inpainteds)\n",
    "\n",
    "    inpainteds = inpainteds[(np.abs(stats.zscore(inpainteds)) < 1).all(axis=1)]\n",
    "    inpainteds = inpainteds.mean()"
   ]
  },
  {
   "cell_type": "code",
   "execution_count": null,
   "metadata": {},
   "outputs": [],
   "source": []
  },
  {
   "cell_type": "markdown",
   "metadata": {},
   "source": [
    "# Error all ASPAs"
   ]
  },
  {
   "cell_type": "code",
   "execution_count": 9,
   "metadata": {},
   "outputs": [
    {
     "data": {
      "text/plain": [
       "(1, 32, 32)"
      ]
     },
     "execution_count": 9,
     "metadata": {},
     "output_type": "execute_result"
    }
   ],
   "source": [
    "reals[0].shape"
   ]
  },
  {
   "cell_type": "code",
   "execution_count": 10,
   "metadata": {},
   "outputs": [
    {
     "ename": "IndexError",
     "evalue": "index 2016 is out of bounds for axis 0 with size 5",
     "output_type": "error",
     "traceback": [
      "\u001b[0;31m---------------------------------------------------------------------------\u001b[0m",
      "\u001b[0;31mIndexError\u001b[0m                                Traceback (most recent call last)",
      "\u001b[0;32m<ipython-input-10-ab3a56b41f91>\u001b[0m in \u001b[0;36m<module>\u001b[0;34m()\u001b[0m\n\u001b[1;32m      1\u001b[0m \u001b[0mi\u001b[0m \u001b[0;34m=\u001b[0m \u001b[0;36m2016\u001b[0m\u001b[0;34m\u001b[0m\u001b[0;34m\u001b[0m\u001b[0m\n\u001b[1;32m      2\u001b[0m \u001b[0;34m\u001b[0m\u001b[0m\n\u001b[0;32m----> 3\u001b[0;31m \u001b[0mxhat\u001b[0m\u001b[0;34m,\u001b[0m\u001b[0myhat\u001b[0m \u001b[0;34m=\u001b[0m \u001b[0mke\u001b[0m\u001b[0;34m.\u001b[0m\u001b[0mdecode_spectrum_from_aspa\u001b[0m\u001b[0;34m(\u001b[0m\u001b[0mreals\u001b[0m\u001b[0;34m[\u001b[0m\u001b[0mi\u001b[0m\u001b[0;34m]\u001b[0m\u001b[0;34m[\u001b[0m\u001b[0;36m0\u001b[0m\u001b[0;34m]\u001b[0m\u001b[0;34m)\u001b[0m\u001b[0;34m\u001b[0m\u001b[0;34m\u001b[0m\u001b[0m\n\u001b[0m\u001b[1;32m      4\u001b[0m \u001b[0mx\u001b[0m\u001b[0;34m,\u001b[0m\u001b[0my\u001b[0m  \u001b[0;34m=\u001b[0m \u001b[0mke\u001b[0m\u001b[0;34m.\u001b[0m\u001b[0mdecode_spectrum_from_aspa\u001b[0m\u001b[0;34m(\u001b[0m\u001b[0minpainteds\u001b[0m\u001b[0;34m[\u001b[0m\u001b[0mi\u001b[0m\u001b[0;34m]\u001b[0m\u001b[0;34m[\u001b[0m\u001b[0;36m0\u001b[0m\u001b[0;34m]\u001b[0m\u001b[0;34m)\u001b[0m\u001b[0;34m\u001b[0m\u001b[0;34m\u001b[0m\u001b[0m\n\u001b[1;32m      5\u001b[0m \u001b[0;34m\u001b[0m\u001b[0m\n",
      "\u001b[0;31mIndexError\u001b[0m: index 2016 is out of bounds for axis 0 with size 5"
     ]
    }
   ],
   "source": [
    "i = 2016\n",
    "\n",
    "xhat,yhat = ke.decode_spectrum_from_aspa(reals[i][0])\n",
    "x,y  = ke.decode_spectrum_from_aspa(inpainteds[i][0])\n",
    "\n",
    "plt.plot(xhat, yhat, label='real', c='r')\n",
    "plt.plot(x,y,label='inpainted')\n",
    "\n",
    "plt.gca().set_xscale('log')\n",
    "\n",
    "plt.legend()"
   ]
  },
  {
   "cell_type": "code",
   "execution_count": null,
   "metadata": {},
   "outputs": [],
   "source": [
    "ke.plot_trans(x,y, label='inpainted')\n",
    "ke.plot_trans(xhat,yhat, label='real')"
   ]
  },
  {
   "cell_type": "code",
   "execution_count": null,
   "metadata": {},
   "outputs": [],
   "source": [
    "reals.shape"
   ]
  },
  {
   "cell_type": "code",
   "execution_count": null,
   "metadata": {},
   "outputs": [],
   "source": [
    "reals = [ke.decode_params_from_aspa(real[0]) for real in reals]\n",
    "inpainteds = [ke.decode_params_from_aspa(inpainted[0]) for inpainted in inpainteds]"
   ]
  },
  {
   "cell_type": "code",
   "execution_count": null,
   "metadata": {},
   "outputs": [],
   "source": [
    "# create dfs for real, inpainted and their percentage errors\n",
    "\n",
    "reals = pd.DataFrame.from_dict(reals)\n",
    "inpainteds = pd.DataFrame.from_dict(inpainteds)\n",
    "errors = (inpainteds - reals) / reals * 100"
   ]
  },
  {
   "cell_type": "code",
   "execution_count": null,
   "metadata": {},
   "outputs": [],
   "source": [
    "contextuals.shape"
   ]
  },
  {
   "cell_type": "code",
   "execution_count": null,
   "metadata": {},
   "outputs": [],
   "source": [
    "errors = errors.replace([np.inf, -np.inf], np.nan) # TODO: Fix the occurance of inf, this has to do with 0 Kelvin values\n",
    "\n",
    "reals.columns = [column+'_real' for column in reals.columns]\n",
    "inpainteds.columns = [column+'_inpainted' for column in inpainteds.columns]\n",
    "errors.columns = [column+'_error' for column in errors.columns]"
   ]
  },
  {
   "cell_type": "code",
   "execution_count": null,
   "metadata": {},
   "outputs": [],
   "source": [
    "errors.describe()"
   ]
  },
  {
   "cell_type": "code",
   "execution_count": null,
   "metadata": {},
   "outputs": [],
   "source": [
    "errors[:10]"
   ]
  },
  {
   "cell_type": "code",
   "execution_count": null,
   "metadata": {},
   "outputs": [],
   "source": [
    "errors[errors.planet_radius_error < -50]"
   ]
  },
  {
   "cell_type": "code",
   "execution_count": null,
   "metadata": {},
   "outputs": [],
   "source": [
    "### join the dfs together\n",
    "df = reals.join(inpainteds, how='outer')\n",
    "df = df.join(errors, how='outer')"
   ]
  },
  {
   "cell_type": "code",
   "execution_count": null,
   "metadata": {},
   "outputs": [],
   "source": [
    "df.describe()"
   ]
  },
  {
   "cell_type": "code",
   "execution_count": null,
   "metadata": {},
   "outputs": [],
   "source": [
    "df[:10]"
   ]
  },
  {
   "cell_type": "raw",
   "metadata": {},
   "source": [
    "df = pd.read_csv('Validation error of 3000 images')\n",
    "df = df.replace([np.inf, -np.inf], np.nan) # TODO: Fix the occurance of inf later\n",
    "df.head()"
   ]
  },
  {
   "cell_type": "code",
   "execution_count": null,
   "metadata": {},
   "outputs": [],
   "source": [
    "#df = df.drop(['temp_profile_error','temp_profile_real','temp_profile_inpainted'], axis=1)"
   ]
  },
  {
   "cell_type": "markdown",
   "metadata": {},
   "source": [
    "# Percentage error histograms per retrieved parameter"
   ]
  },
  {
   "cell_type": "code",
   "execution_count": null,
   "metadata": {},
   "outputs": [],
   "source": [
    "#params = ['planet_mass','temp_profile','ch4_mixratio','planet_radius','h2o_mixratio','co2_mixratio','co_mixratio']\n",
    "params = ['planet_mass','ch4_mixratio','planet_radius','h2o_mixratio','co2_mixratio','co_mixratio']\n",
    "\n",
    "fontsize = 16\n",
    "plt.figure(figsize=((25,10)))\n",
    "for i,param in enumerate(params):\n",
    "    plt.subplot(3,3,i+1)\n",
    "    plt.title(param+'_error', fontsize=fontsize)\n",
    "    plt.hist(df[param+'_error'], bins=50)\n",
    "    \n",
    "    # plot mean and median line\n",
    "    mu = df[param+'_error'].mean()\n",
    "    plt.axvline(x=mu,  color='black', linestyle='-.', alpha=0.9, label='mean')\n",
    "    plt.axvline(x=df[param+'_error'].median(),  color='black', linestyle='-', alpha=1, label='median')\n",
    "\n",
    "    # plot std lines\n",
    "    plt.axvline(x=mu-df[param+'_error'].std(),  color='black', linestyle=':', alpha=1, label=r'$\\sigma$')\n",
    "    plt.axvline(x=mu+df[param+'_error'].std(),  color='black', linestyle=':', alpha=1)\n",
    "    \n",
    "    plt.xticks(fontsize=fontsize)\n",
    "    plt.yticks(fontsize=fontsize)\n",
    "    \n",
    "    plt.xlabel('Percentage error [%]', fontsize=fontsize)\n",
    "    plt.ylabel('Counts [-]', fontsize=fontsize)\n",
    "    \n",
    "    plt.legend(fontsize=fontsize)\n",
    "    plt.grid()\n",
    "    plt.tight_layout()"
   ]
  },
  {
   "cell_type": "markdown",
   "metadata": {},
   "source": [
    "# Grab the $n$ sigma errors"
   ]
  },
  {
   "cell_type": "raw",
   "metadata": {},
   "source": [
    "Where the redline represents perfect predictions"
   ]
  },
  {
   "cell_type": "code",
   "execution_count": null,
   "metadata": {},
   "outputs": [],
   "source": [
    "plt.figure(figsize=((25,10)))\n",
    "\n",
    "for i,param in enumerate(params):\n",
    "    y_hat = df[param+'_real']\n",
    "    y = df[param+'_inpainted']\n",
    "    \n",
    "    r2 = r2_score(y_hat, y)\n",
    "    \n",
    "    plt.subplot(3,3,i+1)\n",
    "\n",
    "    plt.title(param +' \\t $R^2$ = %.2f' % r2, fontsize=fontsize)\n",
    "    plt.plot(y_hat, y, '.', ms=3)\n",
    "    \n",
    "    \"\"\"Force x,y range on the same scale outliers outside of range wont be plotted!\"\"\"\n",
    "    x_min, x_max = plt.xlim()\n",
    "    x_min = x_min*1\n",
    "    x_max = x_max*1\n",
    "    \n",
    "    plt.ylim((x_min, x_max)) # set y axis range the same as x axis range\n",
    "    plt.xlim((x_min, x_max))\n",
    "    \n",
    "    # Plot the red 'perfect' prediction line\n",
    "    plt.plot(plt.xlim(), plt.ylim(), ls=\"-\", c='r')\n",
    "    \n",
    "    plt.xticks(fontsize=fontsize)\n",
    "    plt.yticks(fontsize=fontsize)\n",
    "    \n",
    "    plt.xlabel(r\"$\\hat{y}$\", fontsize=fontsize)\n",
    "    plt.ylabel(r\"$y$\", fontsize=fontsize)\n",
    "    plt.grid()\n",
    "    plt.tight_layout()"
   ]
  },
  {
   "cell_type": "markdown",
   "metadata": {},
   "source": [
    "# 1$\\sigma$ percentage error per parameter"
   ]
  },
  {
   "cell_type": "markdown",
   "metadata": {},
   "source": [
    "### Unique values STD plot\n",
    "y axis, STD  \n",
    "X axis, unique values  \n",
    "\n",
    "This plot shows the STD per parameter value (10 values for ExoGAN data)\n",
    "\n",
    "Horizontal -. line is the 10% line"
   ]
  },
  {
   "cell_type": "code",
   "execution_count": null,
   "metadata": {},
   "outputs": [],
   "source": [
    "plt.figure(figsize=((25,10)))\n",
    "\n",
    "for i,param in enumerate(params):\n",
    "    uniques = df[param+'_real'].unique()\n",
    "    \n",
    "    counts = []\n",
    "    stds = []\n",
    "    for unique in uniques:\n",
    "        t = df[param+'_error'][(df[param+'_real'] == unique)]\n",
    "        std = t.std()\n",
    "        count = t.count()\n",
    "        #print(count, std)\n",
    "\n",
    "        counts.append(count)\n",
    "        stds.append(std)\n",
    "\n",
    "    plt.subplot(3,3,i+1)\n",
    "    plt.plot(uniques, stds, '.')\n",
    "    \n",
    "    plt.axhline(y=10,  color='black', linestyle='-.', alpha=0.9)\n",
    "    \n",
    "    \"\"\"layout\"\"\"\"\"\n",
    "    plt.xticks(fontsize=fontsize)\n",
    "    plt.yticks(fontsize=fontsize)\n",
    "    \n",
    "    plt.grid()\n",
    "    plt.title(param, fontsize=fontsize)\n",
    "    plt.xlabel('Unique value', fontsize=fontsize)\n",
    "    plt.ylabel(r'1$\\sigma$', fontsize=fontsize)\n",
    "    plt.tight_layout()\n",
    "    "
   ]
  },
  {
   "cell_type": "code",
   "execution_count": null,
   "metadata": {},
   "outputs": [],
   "source": [
    "iters = [np.load(iters) for iters in n_iterations]\n",
    "iters"
   ]
  },
  {
   "cell_type": "code",
   "execution_count": null,
   "metadata": {},
   "outputs": [],
   "source": [
    "uniques"
   ]
  },
  {
   "cell_type": "code",
   "execution_count": null,
   "metadata": {},
   "outputs": [],
   "source": []
  }
 ],
 "metadata": {
  "kernelspec": {
   "display_name": "Python 3",
   "language": "python",
   "name": "python3"
  },
  "language_info": {
   "codemirror_mode": {
    "name": "ipython",
    "version": 3
   },
   "file_extension": ".py",
   "mimetype": "text/x-python",
   "name": "python",
   "nbconvert_exporter": "python",
   "pygments_lexer": "ipython3",
   "version": "3.6.8"
  }
 },
 "nbformat": 4,
 "nbformat_minor": 2
}
