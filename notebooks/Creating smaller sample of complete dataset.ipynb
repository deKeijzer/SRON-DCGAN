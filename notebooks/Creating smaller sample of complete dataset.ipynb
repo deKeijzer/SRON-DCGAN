{
 "cells": [
  {
   "cell_type": "markdown",
   "metadata": {},
   "source": [
    "The goal of this notebook is to pick n random simulations from all the available chunks of compressed python dictionaries containing, to then combine these simulations into one dataset. This new dataset should be a good estimate on the representation of the distribution from the complete dataset.  \n",
    "\n",
    "Currently a random 10 % of each chunk is selected to be the sample from that chunk. This has the risk of not representing the complete distribution of the chunk well, 10 % is little... e.g. certain params might be missing (if there are more gas mixratios than ch4, co2, co, h2o)"
   ]
  },
  {
   "cell_type": "markdown",
   "metadata": {},
   "source": [
    "# Imports"
   ]
  },
  {
   "cell_type": "code",
   "execution_count": 1,
   "metadata": {},
   "outputs": [],
   "source": [
    "import numpy as np\n",
    "import glob\n",
    "\n",
    "from keijzer_exogan import *\n",
    "\n",
    "np.random.seed(23) # set random seed for reproducability"
   ]
  },
  {
   "cell_type": "code",
   "execution_count": 2,
   "metadata": {},
   "outputs": [
    {
     "name": "stdout",
     "output_type": "stream",
     "text": [
      "100\n"
     ]
    }
   ],
   "source": [
    "\"\"\"\n",
    "Load all chunks, add a random 5 % of all samples per chunk to X\n",
    "\"\"\"\n",
    "dir_ = 'F:\\\\Jupyterlab\\\\DCGAN\\\\data\\\\Training data (python dictionaries)'\n",
    "paths = glob.glob(dir_+'\\\\chunck_*.pkgz')\n",
    "print(len(paths))"
   ]
  },
  {
   "cell_type": "code",
   "execution_count": 3,
   "metadata": {},
   "outputs": [
    {
     "data": {
      "text/plain": [
       "['F:\\\\Jupyterlab\\\\DCGAN\\\\data\\\\Training data (python dictionaries)\\\\chunck_0.pkgz',\n",
       " 'F:\\\\Jupyterlab\\\\DCGAN\\\\data\\\\Training data (python dictionaries)\\\\chunck_1.pkgz',\n",
       " 'F:\\\\Jupyterlab\\\\DCGAN\\\\data\\\\Training data (python dictionaries)\\\\chunck_10.pkgz']"
      ]
     },
     "execution_count": 3,
     "metadata": {},
     "output_type": "execute_result"
    }
   ],
   "source": [
    "paths[:3]"
   ]
  },
  {
   "cell_type": "code",
   "execution_count": 4,
   "metadata": {},
   "outputs": [
    {
     "data": {
      "text/plain": [
       "['F:\\\\Jupyterlab\\\\DCGAN\\\\data\\\\Training data (python dictionaries)\\\\chunck_0.pkgz',\n",
       " 'F:\\\\Jupyterlab\\\\DCGAN\\\\data\\\\Training data (python dictionaries)\\\\chunck_1.pkgz']"
      ]
     },
     "execution_count": 4,
     "metadata": {},
     "output_type": "execute_result"
    }
   ],
   "source": [
    "paths[:2]"
   ]
  },
  {
   "cell_type": "code",
   "execution_count": 5,
   "metadata": {},
   "outputs": [
    {
     "data": {
      "text/plain": [
       "['F:\\\\Jupyterlab\\\\DCGAN\\\\data\\\\Training data (python dictionaries)\\\\chunck_10.pkgz',\n",
       " 'F:\\\\Jupyterlab\\\\DCGAN\\\\data\\\\Training data (python dictionaries)\\\\chunck_11.pkgz',\n",
       " 'F:\\\\Jupyterlab\\\\DCGAN\\\\data\\\\Training data (python dictionaries)\\\\chunck_12.pkgz']"
      ]
     },
     "execution_count": 5,
     "metadata": {},
     "output_type": "execute_result"
    }
   ],
   "source": [
    "paths[2:5]"
   ]
  },
  {
   "cell_type": "code",
   "execution_count": 6,
   "metadata": {},
   "outputs": [
    {
     "name": "stderr",
     "output_type": "stream",
     "text": [
      "  0%|                                                                                           | 0/50 [00:00<?, ?it/s]c:\\program files\\python36\\lib\\site-packages\\tqdm\\_monitor.py:89: TqdmSynchronisationWarning: Set changed size during iteration (see https://github.com/tqdm/tqdm/issues/481)\n",
      "  TqdmSynchronisationWarning)\n",
      "100%|██████████████████████████████████████████████████████████████████████████████████| 50/50 [15:48<00:00, 18.98s/it]\n"
     ]
    }
   ],
   "source": [
    "X = []\n",
    "for i in tqdm(range(len(paths[:50]))):\n",
    "    dict_ = load(paths[i])\n",
    "    \n",
    "    X_complete = []\n",
    "    for j in dict_.keys():\n",
    "        X_complete.append(dict_[j])\n",
    "     \n",
    "    X_complete = np.array(X_complete)\n",
    "    np.random.shuffle(X_complete) # shuffle the samples\n",
    "    \n",
    "    split_index = int(len(X_complete)*0.25) # select the first 5 % of each chunk (due to RAM limitations on laptop)\n",
    "    X.append(X_complete[:split_index]) # add only first 5 % of each chunk to X\n",
    "    \n",
    "    # free memory\n",
    "    del dict_, X_complete"
   ]
  },
  {
   "cell_type": "code",
   "execution_count": 7,
   "metadata": {},
   "outputs": [
    {
     "name": "stdout",
     "output_type": "stream",
     "text": [
      "Wall time: 17min 11s\n"
     ]
    }
   ],
   "source": [
    "%%time\n",
    "X = np.array(X) "
   ]
  },
  {
   "cell_type": "code",
   "execution_count": null,
   "metadata": {},
   "outputs": [],
   "source": [
    "path = 'F:\\Jupyterlab\\SRON-DCGAN\\data\\\\'\n",
    "np.save(path+'first_half.npy', X)"
   ]
  },
  {
   "cell_type": "code",
   "execution_count": null,
   "metadata": {},
   "outputs": [],
   "source": [
    "print('done')"
   ]
  },
  {
   "cell_type": "code",
   "execution_count": null,
   "metadata": {},
   "outputs": [],
   "source": []
  }
 ],
 "metadata": {
  "kernelspec": {
   "display_name": "Python 3",
   "language": "python",
   "name": "python3"
  },
  "language_info": {
   "codemirror_mode": {
    "name": "ipython",
    "version": 3
   },
   "file_extension": ".py",
   "mimetype": "text/x-python",
   "name": "python",
   "nbconvert_exporter": "python",
   "pygments_lexer": "ipython3",
   "version": "3.6.7"
  }
 },
 "nbformat": 4,
 "nbformat_minor": 2
}
