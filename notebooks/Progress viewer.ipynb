{
 "cells": [
  {
   "cell_type": "code",
   "execution_count": 1,
   "metadata": {},
   "outputs": [
    {
     "data": {
      "text/plain": [
       "'/home/16011015/notebooks/SRON-DCGAN/notebooks'"
      ]
     },
     "execution_count": 1,
     "metadata": {},
     "output_type": "execute_result"
    }
   ],
   "source": [
    "pwd"
   ]
  },
  {
   "cell_type": "code",
   "execution_count": 2,
   "metadata": {},
   "outputs": [
    {
     "name": "stdout",
     "output_type": "stream",
     "text": [
      "/home/16011015/notebooks/SRON-DCGAN/notebooks/gan_data/training_progress\n"
     ]
    }
   ],
   "source": [
    "cd gan_data/training_progress/"
   ]
  },
  {
   "cell_type": "code",
   "execution_count": 3,
   "metadata": {},
   "outputs": [],
   "source": [
    "import numpy as np\n",
    "import seaborn as sns\n",
    "import pandas as pd\n",
    "\n",
    "import time\n",
    "\n",
    "\n",
    "import matplotlib.pyplot as plt\n",
    "\n",
    "from tqdm import tqdm\n",
    "\n",
    "from IPython.display import clear_output\n",
    "\n",
    "\n",
    "\n",
    "%matplotlib inline\n",
    "%config InlineBackend.print_figure_kwargs={'facecolor' : \"w\"} # Make sure the axis background of plots is white, this is usefull for the black theme in JupyterLab\n",
    "# Initialize default seaborn layout\n",
    "sns.set_palette(sns.hls_palette(8, l=.3, s=.8))\n",
    "sns.set(style='ticks') "
   ]
  },
  {
   "cell_type": "code",
   "execution_count": 4,
   "metadata": {},
   "outputs": [],
   "source": [
    "path = '//gan_data//training_progress//'"
   ]
  },
  {
   "cell_type": "code",
   "execution_count": 5,
   "metadata": {},
   "outputs": [
    {
     "data": {
      "text/plain": [
       "'/home/16011015/notebooks/SRON-DCGAN/notebooks/gan_data/training_progress'"
      ]
     },
     "execution_count": 5,
     "metadata": {},
     "output_type": "execute_result"
    }
   ],
   "source": [
    "pwd"
   ]
  },
  {
   "cell_type": "code",
   "execution_count": 17,
   "metadata": {},
   "outputs": [],
   "source": [
    "def plot_progress():\n",
    "    n = 100 # 5000, plot every n-th point\n",
    "\n",
    "    DGz = pd.DataFrame(arrays[0])\n",
    "    Dx = pd.DataFrame(arrays[1])\n",
    "\n",
    "    DGz = DGz.rolling(n).mean()\n",
    "    Dx = Dx.rolling(n).mean()\n",
    "\n",
    "\n",
    "    plt.figure(figsize=(10,5))\n",
    "\n",
    "    plt.plot(DGz, '-', label='D(G(z))', c='r', alpha=0.8)\n",
    "    plt.plot(Dx, '-', label='D(x)', c='b', alpha=0.8)\n",
    "    \n",
    "    plt.axhline(y=0.5, color='black', linestyle='--', alpha=0.7)\n",
    "\n",
    "    plt.xlabel('iters')\n",
    "\n",
    "\n",
    "    plt.legend(loc='lower left', bbox_to_anchor= (1, 0.88), borderaxespad=0, frameon=False)\n",
    "\n",
    "    #z = 10 # plot epoch bar every z epochs\n",
    "    #batches_per_epoch = 79\n",
    "    #for i in range(len(DGz)):\n",
    "    #        if (i!=0) and (i % (batches_per_epoch*z) == 0):\n",
    "    #            plt.axvline(x=i,  color='black', linestyle='--', alpha=1)\n",
    "    \n",
    "    \n",
    "    \"\"\"vline's for gan_data//weights//netG_state_dict0\"\"\"\n",
    "    # D:2 -> D:4\n",
    "    #plt.axvline(x=35000,  color='black', linestyle='--', alpha=1)\n",
    "    \n",
    "    # Training restarted after it crashed overnight\n",
    "    #plt.axvline(x=128000,  color='black', linestyle='--', alpha=1)\n",
    "    \n",
    "    # D4 -> D2\n",
    "    #plt.axvline(x=1400000,  color='black', linestyle='--', alpha=1)\n",
    "    \n",
    "    # Terminal got shutdown overnight\n",
    "    #plt.axvline(x=2.23e6,  color='black', linestyle='--', alpha=1)\n",
    "    \n",
    "    # Repo cleaned, weights moved & train/test changed to ASPA v2 dataset, using 500k train G1 D2\n",
    "    #plt.axvline(x=2.593e6,  color='black', linestyle='--', alpha=1)\n",
    "    \n",
    "    # Crashed overnight\n",
    "    #plt.axvline(x=2.918e6,  color='black', linestyle='--', alpha=1)\n",
    "    \n",
    "    \n",
    "    \"\"\"vlines for v3\"\"\"\n",
    "    # D3 -> D2\n",
    "    #plt.axvline(x=205e3,  color='black', linestyle='--', alpha=1)\n",
    "    \n",
    "    # 100k train images -> 1e6 train images.\n",
    "    #plt.axvline(x=655e3,  color='black', linestyle='--', alpha=1)\n",
    "    \n",
    "    \"\"\"vlines for v4\"\"\"\n",
    "    # crashed overnight\n",
    "    plt.axvline(x=724e3,  color='black', linestyle='--', alpha=1)\n",
    "    \n",
    "    # switched to train 4.1 (4.0 did np.log(param), where 4.1 does np.log10(param))\n",
    "    plt.axvline(x=2508e3,  color='black', linestyle='--', alpha=1)\n",
    "    \n",
    "    # Removed mape(STD) and mape(MEAN) from loss, so it's only WGAN-GP now\n",
    "    plt.axvline(x=3250e3,  color='black', linestyle='--', alpha=1)\n",
    "    \n",
    "    # Changed progress saving from float 64 to 32\n",
    "    # messed up weights so reverted back to (a bit) earlier version\n",
    "    plt.axvline(x=4.344e6,  color='black', linestyle='--', alpha=1)\n",
    "    \n",
    "    plt.xlim(left=4.2e6) # 3.2\n",
    "    plt.grid()\n",
    "    plt.show()"
   ]
  },
  {
   "cell_type": "code",
   "execution_count": null,
   "metadata": {},
   "outputs": [
    {
     "data": {
      "image/png": "[encoded data removed]",
      "text/plain": [
       "<Figure size 720x360 with 1 Axes>"
      ]
     },
     "metadata": {
      "needs_background": "light"
     },
     "output_type": "display_data"
    }
   ],
   "source": [
    "while True:\n",
    "    variable_names = ['d_fake', 'd_real']\n",
    "    arrays = []\n",
    "\n",
    "    \"\"\"Load data\"\"\"\n",
    "    for name in variable_names:\n",
    "        arrays.append(np.load(name+'_v4_test.npy'))\n",
    "        \n",
    "    \"\"\"Plot progress\"\"\"\n",
    "    clear_output()\n",
    "    plot_progress()\n",
    "    \n",
    "    time.sleep(5)"
   ]
  },
  {
   "cell_type": "code",
   "execution_count": null,
   "metadata": {},
   "outputs": [],
   "source": []
  }
 ],
 "metadata": {
  "kernelspec": {
   "display_name": "Python 3",
   "language": "python",
   "name": "python3"
  },
  "language_info": {
   "codemirror_mode": {
    "name": "ipython",
    "version": 3
   },
   "file_extension": ".py",
   "mimetype": "text/x-python",
   "name": "python",
   "nbconvert_exporter": "python",
   "pygments_lexer": "ipython3",
   "version": "3.6.8"
  }
 },
 "nbformat": 4,
 "nbformat_minor": 2
}
