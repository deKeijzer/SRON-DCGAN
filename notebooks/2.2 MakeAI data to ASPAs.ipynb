{
 "cells": [
  {
   "cell_type": "code",
   "execution_count": 1,
   "metadata": {},
   "outputs": [],
   "source": [
    "import numpy as np\n",
    "import pandas as pd\n",
    "import keijzer_exogan as ke\n",
    "import glob\n",
    "import copy\n",
    "import seaborn as sns\n",
    "import math\n",
    "\n",
    "import matplotlib.pyplot as plt\n",
    "\n",
    "from tqdm import tqdm\n",
    "from sklearn.preprocessing import MinMaxScaler\n",
    "\n",
    "%matplotlib inline\n",
    "%config InlineBackend.print_figure_kwargs={'facecolor' : \"w\"} # Make sure the axis background of plots is white, this is usefull for the black theme in JupyterLab\n",
    "\n",
    "# Initialize default seaborn layout\n",
    "sns.set_palette(sns.hls_palette(8, l=.3, s=.8))\n",
    "sns.set(style='ticks') "
   ]
  },
  {
   "cell_type": "code",
   "execution_count": null,
   "metadata": {},
   "outputs": [],
   "source": [
    "path = '/datb/16011015/MakeAI'\n",
    "\n",
    "# file paths\n",
    "trans_ = glob.glob(path+'/*/trans')\n",
    "params_ = glob.glob(path+'/*/parameters')\n",
    "ariels = glob.glob(path+'/*/contr_trans_ARIEL')"
   ]
  },
  {
   "cell_type": "code",
   "execution_count": null,
   "metadata": {},
   "outputs": [
    {
     "name": "stderr",
     "output_type": "stream",
     "text": [
      " 11%|█▏        | 268/2340 [01:19<10:05,  3.42it/s]"
     ]
    }
   ],
   "source": [
    "# create all ASPAs\n",
    "aspas = []\n",
    "for i in tqdm(range(len(trans_))):\n",
    "    trans_file = trans_[i]\n",
    "    params_file = params_[i]\n",
    "    ariels_file = ariels[i]\n",
    "\n",
    "    aspa = ke.ASPA_complex_v1(trans_file, params_file, ariels_file)\n",
    "    \n",
    "    aspas.append(aspa)"
   ]
  },
  {
   "cell_type": "code",
   "execution_count": null,
   "metadata": {},
   "outputs": [],
   "source": []
  }
 ],
 "metadata": {
  "kernelspec": {
   "display_name": "Python 3",
   "language": "python",
   "name": "python3"
  },
  "language_info": {
   "codemirror_mode": {
    "name": "ipython",
    "version": 3
   },
   "file_extension": ".py",
   "mimetype": "text/x-python",
   "name": "python",
   "nbconvert_exporter": "python",
   "pygments_lexer": "ipython3",
   "version": "3.6.8"
  }
 },
 "nbformat": 4,
 "nbformat_minor": 2
}
